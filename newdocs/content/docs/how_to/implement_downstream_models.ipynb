{
 "cells": [
  {
   "cell_type": "markdown",
   "id": "3838f1da",
   "metadata": {},
   "source": [
    "# Implementing downstream models with SuperDuperDB"
   ]
  }
 ],
 "metadata": {
  "language_info": {
   "name": "python"
  }
 },
 "nbformat": 4,
 "nbformat_minor": 5
}
