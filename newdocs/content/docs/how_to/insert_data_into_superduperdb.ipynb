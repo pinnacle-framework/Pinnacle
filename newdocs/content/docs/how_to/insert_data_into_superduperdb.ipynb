{
 "cells": [
  {
   "cell_type": "markdown",
   "id": "45934822",
   "metadata": {},
   "source": [
    "# Add images, audio or video from URIs"
   ]
  },
  {
   "cell_type": "markdown",
   "id": "f9aa2c1b",
   "metadata": {},
   "source": [
    "In this \"how-to\" guide, we demonstrate how to add images, audio or video to SuperDuperDB."
   ]
  },
  {
   "cell_type": "markdown",
   "id": "a4ca32dd",
   "metadata": {},
   "source": [
    "First, let's get a `Datalayer` instance, in order to demonstrate:"
   ]
  },
  {
   "cell_type": "code",
   "execution_count": null,
   "id": "689e1d34",
   "metadata": {},
   "outputs": [],
   "source": [
    "import pymongo\n",
    "from pinnacledb import pinnacle\n",
    "from pinnacledb.db.mongodb.query import Collection\n",
    "\n",
    "db = pymongo.MongoClient().documents\n",
    "\n",
    "db = pinnacle(db)\n",
    "\n",
    "collection = Collection('complexdata')"
   ]
  },
  {
   "cell_type": "markdown",
   "id": "2a02eb56",
   "metadata": {},
   "source": [
    "In order to encode, we create an `Encoder` instance:"
   ]
  },
  {
   "cell_type": "code",
   "execution_count": null,
   "id": "2a46b641",
   "metadata": {},
   "outputs": [],
   "source": [
    "from pinnacledb.container.encoder import Encoder\n",
    "import io\n",
    "import pickle\n",
    "import PIL.Image\n",
    "\n",
    "# encoder handles conversion to `bytes`\n",
    "def encoder(image):\n",
    "    buf = io.BytesIO()\n",
    "    image.save(buf, format='png')\n",
    "    return buf.getvalue()\n",
    "\n",
    "# decoder handles conversion from `bytes` to Python\n",
    "decoder = lambda x: PIL.Image.open(io.BytesIO(x))\n",
    "\n",
    "enc = Encoder(identifier='my-enc', encoder=encoder, decoder=decoder)"
   ]
  },
  {
   "cell_type": "markdown",
   "id": "e759730a",
   "metadata": {},
   "source": [
    "We don't need to load our objects (images etc.) to add to the DB, we can use URIs instead:"
   ]
  },
  {
   "cell_type": "code",
   "execution_count": null,
   "id": "05189ec6",
   "metadata": {},
   "outputs": [],
   "source": [
    "import glob\n",
    "from pinnacledb.container.document import Document as D\n",
    "\n",
    "imgs = glob.glob('../img/*.png')\n",
    "\n",
    "# wrap documents with `Document` in order so that SuperDuperDB knows how to handle\n",
    "# wrap URI with `enc` to designate as \"to-be-encoded\"\n",
    "# The URIs can be a mixture of `file://`, `http://`, `https://` and `s3://`\n",
    "db.execute(\n",
    "    collection.insert_many([\n",
    "        D({'img': enc(uri=f'file://{img}')}) for img in imgs\n",
    "    ], encoders=(enc,))\n",
    ")"
   ]
  },
  {
   "cell_type": "code",
   "execution_count": null,
   "id": "ecab6908",
   "metadata": {},
   "outputs": [],
   "source": [
    "r = db.execute(collection.find_one()).unpack()\n",
    "r"
   ]
  },
  {
   "cell_type": "markdown",
   "id": "cc1ca614",
   "metadata": {},
   "source": [
    "We can verify that the image was properly stored:"
   ]
  },
  {
   "cell_type": "code",
   "execution_count": null,
   "id": "0394c8a0",
   "metadata": {},
   "outputs": [],
   "source": [
    "i = r['img'].convert('RGB')\n",
    "i"
   ]
  },
  {
   "cell_type": "markdown",
   "id": "4b09e507",
   "metadata": {},
   "source": [
    "We can also add Python objects directly:"
   ]
  },
  {
   "cell_type": "code",
   "execution_count": null,
   "id": "a75f4a92",
   "metadata": {},
   "outputs": [],
   "source": [
    "db.execute(collection.insert_one(D({'img': enc(i), 'direct': True})))"
   ]
  },
  {
   "cell_type": "markdown",
   "id": "3bf7139b",
   "metadata": {},
   "source": [
    "Verify:"
   ]
  },
  {
   "cell_type": "code",
   "execution_count": null,
   "id": "2ae53c98",
   "metadata": {},
   "outputs": [],
   "source": [
    "r = db.execute(collection.find_one({'direct': True})).unpack()\n",
    "r['img']"
   ]
  }
 ],
 "metadata": {
  "kernelspec": {
   "display_name": "Python 3 (ipykernel)",
   "language": "python",
   "name": "python3"
  },
  "language_info": {
   "codemirror_mode": {
    "name": "ipython",
    "version": 3
   },
   "file_extension": ".py",
   "mimetype": "text/x-python",
   "name": "python",
   "nbconvert_exporter": "python",
   "pygments_lexer": "ipython3",
   "version": "3.11.3"
  }
 },
 "nbformat": 4,
 "nbformat_minor": 5
}
