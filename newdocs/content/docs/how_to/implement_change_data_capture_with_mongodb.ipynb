{
 "cells": [
  {
   "cell_type": "markdown",
   "id": "1b057225",
   "metadata": {},
   "source": [
    "# Perform change data capture (CDC)\n",
    "\n",
    "In a standalone MongoDB deployment, users are required to insert data directly through the \n",
    "SuperDuperDB `Datalayer` or client (which triggers the `Datalayer`). For use-cases \n",
    "with multiple users, stakeholders, and potentially automated data-updates on the database,\n",
    "this is not sufficient. For that reason SuperDuperDB supports a paradigm known as \n",
    "change-data-capture (CDC). \n",
    "\n",
    "In change-data-capture, a service is deployed which listeners the data deployment for changes, and \n",
    "reacts to these changes, activating models which are configured to compute outputs over new data.\n",
    "\n",
    "In this notebook, we demonstrate how to use CDC with SuperDuperDB."
   ]
  },
  {
   "cell_type": "markdown",
   "id": "a907076e",
   "metadata": {},
   "source": [
    "The notebook requires that a MongoDB replica set has been set up. Read about how to do that [here](replicasetup)."
   ]
  },
  {
   "cell_type": "code",
   "execution_count": null,
   "id": "4a37df1a",
   "metadata": {},
   "outputs": [],
   "source": [
    "import pymongo\n",
    "import sys\n",
    "\n",
    "sys.path.append('../')\n",
    "\n",
    "from pinnacledb.ext.numpy.array import array\n",
    "from pinnacledb.db.mongodb.query import Collection\n",
    "from pinnacledb import pinnacle\n",
    "from pinnacledb.container.listener import Listener\n",
    "from pinnacledb.container.vector_index import VectorIndex\n",
    "from pinnacledb.db.base.cdc import DatabaseListener\n",
    "from pinnacledb.container.document import Document as D"
   ]
  },
  {
   "cell_type": "code",
   "execution_count": null,
   "id": "43bc0d07",
   "metadata": {},
   "outputs": [],
   "source": [
    "db = pymongo.MongoClient().documents\n",
    "db = pinnacle(db)\n",
    "\n",
    "collection = Collection('cdc_example')"
   ]
  },
  {
   "cell_type": "markdown",
   "id": "6bde593d",
   "metadata": {},
   "source": [
    "Insert the data into `documents` collection"
   ]
  },
  {
   "cell_type": "code",
   "execution_count": null,
   "id": "7647ef68",
   "metadata": {},
   "outputs": [],
   "source": [
    "data = [\n",
    "  {\n",
    "    \"title\": \"Politics of Armenia\",\n",
    "    \"abstract\": \"The politics of Armenia take place in the framework of the parliamentary representative democratic republic of Armenia, whereby the President of Armenia is the head of state and the Prime Minister of Armenia the head of government, and of a multi-party system. Executive power is exercised by the President and the Government.\"\n",
    "  },\n",
    "  {\n",
    "    \"title\": \"Foreign relations of Armenia\",\n",
    "    \"abstract\": \"Since its independence, Armenia has maintained a policy of complementarism by trying to have positive and friendly relations with Iran, Russia, and the West, including the United States and the European Union.– \\\"Armenian Foreign Policy Between Russia, Iran And U.\"\n",
    "  },\n",
    "  {\n",
    "    \"title\": \"Demographics of American Samoa\",\n",
    "    \"abstract\": \"This article is about the demographics of American Samoa, including population density, ethnicity, education level, health of the populace, economic status, religious affiliations and other aspects of the population. American Samoa is an unincorporated territory of the United States located in the South Pacific Ocean.\"\n",
    "  },\n",
    "  {\n",
    "    \"title\": \"Analysis\",\n",
    "    \"abstract\": \"Analysis is the process of breaking a complex topic or substance into smaller parts in order to gain a better understanding of it. The technique has been applied in the study of mathematics and logic since before Aristotle (384–322 B.\"\n",
    "  }\n",
    "]\n",
    "\n",
    "data = [D(d) for d in data]\n",
    "\n",
    "db.execute(collection.insert_many(data))"
   ]
  },
  {
   "cell_type": "markdown",
   "id": "684c323d",
   "metadata": {},
   "source": [
    "Create a vector index listener.\n",
    "This consist a indexing listener (SentenceTransformer) model to vectorize a key."
   ]
  },
  {
   "cell_type": "code",
   "execution_count": null,
   "id": "a3425fa6",
   "metadata": {},
   "outputs": [],
   "source": [
    "import sentence_transformers \n",
    "from pinnacledb.container.model import Model\n",
    "\n",
    "model = Model(\n",
    "    identifier='all-MiniLM-L6-v2',\n",
    "    object=sentence_transformers.SentenceTransformer('all-MiniLM-L6-v2'),\n",
    "    encoder=array('float32', shape=(384,)),\n",
    "    predict_method='encode',\n",
    "    batch_predict=True,\n",
    ")\n",
    "\n",
    "db.add(VectorIndex(\n",
    "    identifier='my-index',\n",
    "    indexing_listener=Listener(\n",
    "        model=model,\n",
    "        key='abstract',\n",
    "        select=Collection(name='documents').find()\n",
    "    ),\n",
    "))"
   ]
  },
  {
   "cell_type": "markdown",
   "id": "15ca7228",
   "metadata": {},
   "source": [
    "Create instance of `DatabaseListener` and start listening the `documents` collection."
   ]
  },
  {
   "cell_type": "code",
   "execution_count": null,
   "id": "35a9698e",
   "metadata": {},
   "outputs": [],
   "source": [
    "database_listener = DatabaseListener(\n",
    "    db=db,\n",
    "    identifier='basic-cdc-listener',\n",
    "    on=collection,\n",
    ")\n",
    "database_listener.listen()"
   ]
  },
  {
   "cell_type": "markdown",
   "id": "d9267007",
   "metadata": {},
   "source": [
    "Check the listener's status"
   ]
  },
  {
   "cell_type": "code",
   "execution_count": null,
   "id": "515f1be4",
   "metadata": {},
   "outputs": [],
   "source": [
    "database_listener.is_available()"
   ]
  },
  {
   "cell_type": "markdown",
   "id": "36520aee",
   "metadata": {},
   "source": [
    "You can check information stored by the listener."
   ]
  },
  {
   "cell_type": "code",
   "execution_count": null,
   "id": "faf4d408",
   "metadata": {},
   "outputs": [],
   "source": [
    "database_listener.info()"
   ]
  },
  {
   "cell_type": "markdown",
   "id": "667e4115",
   "metadata": {},
   "source": [
    "Add 2 documents and check the info again"
   ]
  },
  {
   "cell_type": "code",
   "execution_count": null,
   "id": "7cd16835",
   "metadata": {},
   "outputs": [],
   "source": [
    "data = [\n",
    "    {\n",
    "        \"title\": \"Politics of India\",\n",
    "        \"abstract\": \"Some despriction 1\",\n",
    "    }, \n",
    "    {\n",
    "        \"title\": \"Politics of Asia\",\n",
    "        \"abstract\": \"some description 2\",\n",
    "    }\n",
    "]\n",
    "doc = db_mongo.test_db.documents.insert_many(data)"
   ]
  },
  {
   "cell_type": "markdown",
   "id": "bdf2af2e",
   "metadata": {},
   "source": [
    "Check the inserts info again"
   ]
  },
  {
   "cell_type": "code",
   "execution_count": null,
   "id": "7ecb8b96",
   "metadata": {},
   "outputs": [],
   "source": [
    "database_listener.info()"
   ]
  },
  {
   "cell_type": "markdown",
   "id": "13cf1fad",
   "metadata": {},
   "source": [
    "Check that the vectors synced between LanceDB and MongoDB"
   ]
  },
  {
   "cell_type": "code",
   "execution_count": null,
   "id": "a3159982",
   "metadata": {},
   "outputs": [],
   "source": [
    "from pinnacledb.vector_search.lancedb_client import LanceDBClient\n",
    "from pinnacledb import CFG"
   ]
  },
  {
   "cell_type": "code",
   "execution_count": null,
   "id": "2c63c8c1",
   "metadata": {},
   "outputs": [],
   "source": [
    "client = db.vector_database.client"
   ]
  },
  {
   "cell_type": "markdown",
   "id": "e3c9d4d4",
   "metadata": {},
   "source": [
    "Use the identifier to extract the correct table in LanceDB (`<model>/<key>`)"
   ]
  },
  {
   "cell_type": "code",
   "execution_count": null,
   "id": "184dc249",
   "metadata": {},
   "outputs": [],
   "source": [
    "table = client.get_table('test-st/abstract')"
   ]
  },
  {
   "cell_type": "code",
   "execution_count": null,
   "id": "c4bd5f18",
   "metadata": {},
   "outputs": [],
   "source": [
    "table.table.to_pandas()"
   ]
  }
 ],
 "metadata": {
  "kernelspec": {
   "display_name": "Python 3 (ipykernel)",
   "language": "python",
   "name": "python3"
  },
  "language_info": {
   "codemirror_mode": {
    "name": "ipython",
    "version": 3
   },
   "file_extension": ".py",
   "mimetype": "text/x-python",
   "name": "python",
   "nbconvert_exporter": "python",
   "pygments_lexer": "ipython3",
   "version": "3.11.3"
  }
 },
 "nbformat": 4,
 "nbformat_minor": 5
}
