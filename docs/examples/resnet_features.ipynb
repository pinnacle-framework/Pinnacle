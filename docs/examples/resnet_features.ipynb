{
 "cells": [
  {
   "cell_type": "markdown",
   "id": "6c245fde",
   "metadata": {},
   "source": [
    "# Creating a DB of image features in `torchvision`"
   ]
  },
  {
   "cell_type": "markdown",
   "id": "df884338",
   "metadata": {},
   "source": [
    "In this use-case, we demonstrate how to use a pre-trained network from `torchvision` to generate\n",
    "image features for images which are automatically downloaded into MongoDB"
   ]
  },
  {
   "cell_type": "code",
   "execution_count": null,
   "id": "a329c235",
   "metadata": {},
   "outputs": [],
   "source": [
    "!curl http://images.cocodataset.org/zips/val2014.zip -O val2014.zip\n",
    "!unzip - qq val2014.zip"
   ]
  },
  {
   "cell_type": "markdown",
   "id": "3c0351da",
   "metadata": {},
   "source": [
    "As usual, we instantiate the `Datalayer` like this"
   ]
  },
  {
   "cell_type": "code",
   "execution_count": null,
   "id": "8985ff38",
   "metadata": {},
   "outputs": [],
   "source": [
    "import pymongo\n",
    "from pinnacledb import pinnacle\n",
    "from pinnacledb.db.mongodb.query import Collection\n",
    "\n",
    "collection = Collection('coco')\n",
    "\n",
    "db = pymongo.MongoClient().documents\n",
    "\n",
    "db = pinnacle(db)"
   ]
  },
  {
   "cell_type": "code",
   "execution_count": null,
   "id": "9f48b851",
   "metadata": {},
   "outputs": [],
   "source": [
    "db.db.client.drop_database('documents')\n",
    "db.db.client.drop_database('_filesystem:documents')"
   ]
  },
  {
   "cell_type": "markdown",
   "id": "d7c903f2",
   "metadata": {},
   "source": [
    "We then add all of the image URIs to MongoDB. The URIs can be a mixture of local file paths (`file://...`), web URLs (`http...`) and\n",
    "s3 URIs (`s3://...`). After adding the URIs, SuperDuperDB loads their content into MongoDB - no additional\n",
    "overhead or job definition required."
   ]
  },
  {
   "cell_type": "code",
   "execution_count": null,
   "id": "01d3af2c",
   "metadata": {
    "scrolled": false
   },
   "outputs": [],
   "source": [
    "import glob\n",
    "import random\n",
    "\n",
    "from pinnacledb.container.document import Document as D\n",
    "from pinnacledb.ext.pillow.image import pil_image as i\n",
    "\n",
    "uris = random.sample([f'file://{x}' for x in glob.glob('val2014/*.jpg')], 6000)\n",
    "\n",
    "db.execute(collection.insert_many([D({'img': i(uri=uri)}) for uri in uris], encoders=(i,)))[:5000]"
   ]
  },
  {
   "cell_type": "markdown",
   "id": "92f3a73e",
   "metadata": {},
   "source": [
    "We can verify that the images were correctly stored in the `Datalayer`:"
   ]
  },
  {
   "cell_type": "code",
   "execution_count": null,
   "id": "e43e6243",
   "metadata": {},
   "outputs": [],
   "source": [
    "from IPython.display import display\n",
    "\n",
    "# Jupyter often crashes with bigger images\n",
    "display_image = lambda x: display(x.resize((round(x.size[0] * 0.5), round(x.size[1] * 0.5))))\n",
    "\n",
    "x = db.execute(collection.find_one())['img'].x\n",
    "\n",
    "display_image(x)"
   ]
  },
  {
   "cell_type": "markdown",
   "id": "53d696ca",
   "metadata": {},
   "source": [
    "Now let's create the `torch`+`torchvision` model using the `TorchModel` wrapper from SuperDuperDB.\n",
    "It's possible to create arbitrary pre- and post-processing along with the model forward pass:"
   ]
  },
  {
   "cell_type": "code",
   "execution_count": null,
   "id": "43639f58",
   "metadata": {},
   "outputs": [],
   "source": [
    "from torchvision import transforms\n",
    "import torch\n",
    "import torch.nn as nn\n",
    "import torchvision.models as models\n",
    "\n",
    "import warnings\n",
    "\n",
    "from pinnacledb.ext.torch.model import TorchModel\n",
    "from pinnacledb.ext.torch.tensor import tensor\n",
    "\n",
    "t = transforms.Compose([\n",
    "    transforms.Resize((224, 224)),   #must same as here\n",
    "    transforms.CenterCrop((224, 224)),\n",
    "    transforms.ToTensor(),\n",
    "    transforms.Normalize([0.485, 0.456, 0.406], [0.229, 0.224, 0.225])\n",
    "])\n",
    "\n",
    "def preprocess(x):\n",
    "    try:\n",
    "        return t(x)\n",
    "    except Exception as e:\n",
    "        warnings.warn(str(e))\n",
    "        return torch.zeros(3, 224, 224)\n",
    "\n",
    "resnet50 = models.resnet50(pretrained=True)\n",
    "modules = list(resnet50.children())[:-1]\n",
    "resnet50 = nn.Sequential(*modules)\n",
    "\n",
    "model = TorchModel(\n",
    "    identifier='resnet50',\n",
    "    preprocess=preprocess,\n",
    "    object=resnet50,\n",
    "    postprocess=lambda x: x[:, 0, 0],\n",
    "    encoder=tensor(torch.float, shape=(2048,))\n",
    ")"
   ]
  },
  {
   "cell_type": "markdown",
   "id": "e34454fa",
   "metadata": {},
   "source": [
    "Let's verify `model` by testing on a single data-point `one=True`:"
   ]
  },
  {
   "cell_type": "code",
   "execution_count": null,
   "id": "daa87aa7",
   "metadata": {},
   "outputs": [],
   "source": [
    "model.predict(x, one=True)"
   ]
  },
  {
   "cell_type": "markdown",
   "id": "f48cb81a",
   "metadata": {},
   "source": [
    "Now that we've got the model ready, we can apply it to the images in the `Datalayer`:"
   ]
  },
  {
   "cell_type": "code",
   "execution_count": null,
   "id": "a899c1cd",
   "metadata": {
    "scrolled": false
   },
   "outputs": [],
   "source": [
    "model.predict(\n",
    "    X='img',\n",
    "    db=db,\n",
    "    select=collection.find(),\n",
    "    batch_size=10,\n",
    "    max_chunk_size=3000,\n",
    "    in_memory=False,\n",
    "    watch=True,\n",
    ")"
   ]
  },
  {
   "cell_type": "markdown",
   "id": "4d67880a",
   "metadata": {},
   "source": [
    "Let's verify that the features were stored in the `Datalayer`. You can see them in the\n",
    "`_outputs.img.resnet50` field: "
   ]
  },
  {
   "cell_type": "code",
   "execution_count": null,
   "id": "21a1b617",
   "metadata": {},
   "outputs": [],
   "source": [
    "db.execute(collection.find_one()).unpack()"
   ]
  }
 ],
 "metadata": {
  "kernelspec": {
   "display_name": "Python 3 (ipykernel)",
   "language": "python",
   "name": "python3"
  },
  "language_info": {
   "codemirror_mode": {
    "name": "ipython",
    "version": 3
   },
   "file_extension": ".py",
   "mimetype": "text/x-python",
   "name": "python",
   "nbconvert_exporter": "python",
   "pygments_lexer": "ipython3",
   "version": "3.11.3"
  }
 },
 "nbformat": 4,
 "nbformat_minor": 5
}
