{
 "cells": [
  {
   "cell_type": "markdown",
   "id": "15eb770d",
   "metadata": {},
   "source": [
    "# MNIST using scikit-learn and SuperDuperDB\n",
    "\n",
    "In a [previous example](mnist_torch.html) we discussed how to implement MNIST classification with CNNs in `torch`\n",
    "using SuperDuperDB. "
   ]
  },
  {
   "cell_type": "code",
   "execution_count": 1,
   "id": "b09ce280",
   "metadata": {},
   "outputs": [],
   "source": [
    "from sklearn.datasets import fetch_openml\n",
    "from sklearn.metrics import accuracy_score,classification_report\n",
    "from sklearn.neighbors import KNeighborsClassifier\n",
    "import numpy as np\n",
    "from sklearn import svm"
   ]
  },
  {
   "cell_type": "code",
   "execution_count": 2,
   "id": "4785878f",
   "metadata": {},
   "outputs": [
    {
     "name": "stderr",
     "output_type": "stream",
     "text": [
      "INFO:numexpr.utils:NumExpr defaulting to 8 threads.\n"
     ]
    }
   ],
   "source": [
    "import pymongo\n",
    "import torch\n",
    "import torchvision\n",
    "\n",
    "from pinnacledb import pinnacle\n",
    "\n",
    "db = pymongo.MongoClient().documents\n",
    "\n",
    "db = pinnacle(db)"
   ]
  },
  {
   "cell_type": "code",
   "execution_count": 3,
   "id": "4190f47b",
   "metadata": {},
   "outputs": [],
   "source": [
    "pymongo.MongoClient().drop_database('documents')\n",
    "pymongo.MongoClient().drop_database('_filesystem:documents')"
   ]
  },
  {
   "cell_type": "code",
   "execution_count": 4,
   "id": "24bf2a58",
   "metadata": {
    "scrolled": false
   },
   "outputs": [
    {
     "name": "stderr",
     "output_type": "stream",
     "text": [
      "/Users/dodo/SuperDuperDB/pinnacledb/.venv/lib/python3.11/site-packages/sklearn/datasets/_openml.py:1002: FutureWarning: The default value of `parser` will change from `'liac-arff'` to `'auto'` in 1.4. You can set `parser='auto'` to silence this warning. Therefore, an `ImportError` will be raised from 1.4 if the dataset is dense and pandas is not installed. Note that the pandas parser may return different data types. See the Notes Section in fetch_openml's API doc for details.\n",
      "  warn(\n",
      "INFO:root:found 0 uris\n"
     ]
    },
    {
     "data": {
      "text/plain": [
       "(<pymongo.results.InsertManyResult at 0x1cf339810>,\n",
       " TaskWorkflow(database=<pinnacledb.datalayer.base.datalayer.Datalayer object at 0x199ffff10>, G=<networkx.classes.digraph.DiGraph object at 0x19a118e50>))"
      ]
     },
     "execution_count": 4,
     "metadata": {},
     "output_type": "execute_result"
    }
   ],
   "source": [
    "from pinnacledb.encoders.numpy.array import array\n",
    "from pinnacledb.core.document import Document as D\n",
    "from pinnacledb.datalayer.mongodb.query import Collection\n",
    "\n",
    "mnist = fetch_openml('mnist_784')\n",
    "ix = np.random.permutation(10000)\n",
    "X = np.array(mnist.data)[ix, :]\n",
    "y = np.array(mnist.target)[ix].astype(int)\n",
    "\n",
    "a = array('float64', shape=(784,))\n",
    "\n",
    "collection = Collection(name='mnist')\n",
    "\n",
    "data = [D({'img': a(X[i]), 'class': int(y[i])}) for i in range(len(X))]\n",
    "\n",
    "db.execute(\n",
    "    collection.insert_many(data, encoders=[a])\n",
    ")"
   ]
  },
  {
   "cell_type": "code",
   "execution_count": 5,
   "id": "8faf269c",
   "metadata": {},
   "outputs": [
    {
     "data": {
      "text/plain": [
       "Document({'_id': ObjectId('64bf09b11c6729099727c433'), 'img': Encodable(x=array([  0.,   0.,   0.,   0.,   0.,   0.,   0.,   0.,   0.,   0.,   0.,\n",
       "         0.,   0.,   0.,   0.,   0.,   0.,   0.,   0.,   0.,   0.,   0.,\n",
       "         0.,   0.,   0.,   0.,   0.,   0.,   0.,   0.,   0.,   0.,   0.,\n",
       "         0.,   0.,   0.,   0.,   0.,   0.,   0.,   0.,   0.,   0.,   0.,\n",
       "         0.,   0.,   0.,   0.,   0.,   0.,   0.,   0.,   0.,   0.,   0.,\n",
       "         0.,   0.,   0.,   0.,   0.,   0.,   0.,   0.,   0.,   0.,   0.,\n",
       "         0.,   0.,   0.,   0.,   0.,   0.,   0.,   0.,   0.,   0.,   0.,\n",
       "         0.,   0.,   0.,   0.,   0.,   0.,   0.,   0.,   0.,   0.,   0.,\n",
       "         0.,   0.,   0.,   0.,   0.,   0.,   0.,   0.,   0.,   0.,   0.,\n",
       "         0.,   0.,   0.,   0.,   0.,   0.,   0.,   0.,   0.,   0.,   0.,\n",
       "         0.,   0.,   0.,   0.,   0.,   0.,   0.,   0.,   0.,   0.,   0.,\n",
       "         0.,   0.,   0.,   0.,   0.,   0.,   0.,   0.,   0.,   0.,   0.,\n",
       "         0.,   0.,   0.,   0.,   0.,   0.,   0.,   0.,   0.,   0.,   0.,\n",
       "         0.,   0.,   0.,   0.,   0.,   0.,   0.,   0.,   0.,   0.,   0.,\n",
       "         0.,   0.,   0.,   0.,   0.,   0.,   0.,   0.,   0.,   0.,   0.,\n",
       "         0.,   0.,   0.,   0.,   0.,   0.,   0.,   0.,   0.,   0.,   0.,\n",
       "         0.,   0.,   0.,   0.,   0.,   0.,   0.,   0.,   0.,   0.,   0.,\n",
       "         0.,   0.,   0.,   0.,   0.,   0.,   0.,   0.,   0.,   0.,   0.,\n",
       "         0.,   0.,   0., 145., 183.,  42.,   0.,   0.,   0.,   0.,   0.,\n",
       "         0.,   0.,   0.,   0.,   0.,   0.,   0.,  18.,   0.,   0.,   0.,\n",
       "         0.,   0.,   0.,   0.,   0.,   0.,   0.,   0., 100., 247., 252.,\n",
       "       112.,   0.,   0.,   0.,   0.,   0.,   0.,   0.,   0.,   0.,   0.,\n",
       "         0.,  64., 163., 142.,   0.,   0.,   0.,   0.,   0.,   0.,   0.,\n",
       "         0.,   0.,   0., 137., 252., 226.,  33.,   0.,   0.,   0.,   0.,\n",
       "         0.,   0.,   0.,   0.,   6.,  66., 145., 247., 252., 189.,   0.,\n",
       "         0.,   0.,   0.,   0.,   0.,   0.,   0.,   0.,   0.,  28., 239.,\n",
       "       252., 217.,  27.,   0.,   0.,   0.,   0.,  11.,  64., 117., 190.,\n",
       "       252., 253., 252., 252., 189.,   0.,   0.,   0.,   0.,   0.,   0.,\n",
       "         0.,   0.,   0.,   0.,   0., 144., 252., 252., 229., 211., 211.,\n",
       "       211., 211., 219., 252., 252., 252., 252., 147., 226., 252., 145.,\n",
       "         0.,   0.,   0.,   0.,   0.,   0.,   0.,   0.,   0.,   0.,   0.,\n",
       "         9., 132., 247., 254., 253., 253., 253., 253., 255., 239., 211.,\n",
       "       185.,  62.,   0., 191., 250.,  70.,   0.,   0.,   0.,   0.,   0.,\n",
       "         0.,   0.,   0.,   0.,   0.,   0.,   0.,   0.,  53.,  81., 168.,\n",
       "       168., 168., 124.,  63.,  42.,   0.,   0.,   0.,  32., 237., 196.,\n",
       "         0.,   0.,   0.,   0.,   0.,   0.,   0.,   0.,   0.,   0.,   0.,\n",
       "         0.,   0.,   0.,   0.,   0.,   0.,   0.,   0.,   0.,   0.,   0.,\n",
       "         0.,   0.,   0., 192., 252., 126.,   0.,   0.,   0.,   0.,   0.,\n",
       "         0.,   0.,   0.,   0.,   0.,   0.,   0.,   0.,   0.,   0.,   0.,\n",
       "         0.,   0.,   0.,   0.,   0.,   0.,   0.,   0.,  27., 253., 252.,\n",
       "        56.,   0.,   0.,   0.,   0.,   0.,   0.,   0.,   0.,   0.,   0.,\n",
       "         0.,   0.,   0.,   0.,   0.,   0.,   0.,   0.,   0.,   0.,   0.,\n",
       "         0.,   0.,   0., 150., 253., 137.,   4.,   0.,   0.,   0.,   0.,\n",
       "         0.,   0.,   0.,   0.,   0.,   0.,   0.,   0.,   0.,   0.,   0.,\n",
       "         0.,   0.,   0.,   0.,   0.,   0.,   0.,   0.,  64., 253., 247.,\n",
       "        53.,   0.,   0.,   0.,   0.,   0.,   0.,   0.,   0.,   0.,   0.,\n",
       "         0.,   0.,   0.,   0.,   0.,   0.,   0.,   0.,   0.,   0.,   0.,\n",
       "         0.,   0.,   0.,  99., 252., 176.,   0.,   0.,   0.,   0.,   0.,\n",
       "         0.,   0.,   0.,   0.,   0.,   0.,   0.,   0.,   0.,   0.,   0.,\n",
       "         0.,   0.,   0.,   0.,   0.,   0.,   0.,   0.,  11., 211., 252.,\n",
       "         9.,   0.,   0.,   0.,   0.,   0.,   0.,   0.,   0.,   0.,   0.,\n",
       "         0.,   0.,   0.,   0.,   0.,   0.,   0.,   0.,   0.,   0.,   0.,\n",
       "         0.,   0.,   0.,  48., 252., 226.,   0.,   0.,   0.,   0.,   0.,\n",
       "         0.,   0.,   0.,   0.,   0.,   0.,   0.,   0.,   0.,   0.,   0.,\n",
       "         0.,   0.,   0.,   0.,   0.,   0.,   0.,   0.,   0., 127., 252.,\n",
       "       103.,   0.,   0.,   0.,   0.,   0.,   0.,   0.,   0.,   0.,   0.,\n",
       "         0.,   0.,   0.,   0.,   0.,   0.,   0.,   0.,   0.,   0.,   0.,\n",
       "         0.,   0.,   0.,   0., 189., 216.,  18.,   0.,   0.,   0.,   0.,\n",
       "         0.,   0.,   0.,   0.,   0.,   0.,   0.,   0.,   0.,   0.,   0.,\n",
       "         0.,   0.,   0.,   0.,   0.,   0.,   0.,   0.,   0.,   0., 232.,\n",
       "       189.,   0.,   0.,   0.,   0.,   0.,   0.,   0.,   0.,   0.,   0.,\n",
       "         0.,   0.,   0.,   0.,   0.,   0.,   0.,   0.,   0.,   0.,   0.,\n",
       "         0.,   0.,   0.,   0.,  78., 251., 189.,   0.,   0.,   0.,   0.,\n",
       "         0.,   0.,   0.,   0.,   0.,   0.,   0.,   0.,   0.,   0.,   0.,\n",
       "         0.,   0.,   0.,   0.,   0.,   0.,   0.,   0.,   0.,   0., 155.,\n",
       "       252., 189.,   0.,   0.,   0.,   0.,   0.,   0.,   0.,   0.,   0.,\n",
       "         0.,   0.,   0.,   0.,   0.,   0.,   0.,   0.,   0.,   0.,   0.,\n",
       "         0.,   0.,   0.,   0.,   0.,  67., 244., 145.,   0.,   0.,   0.,\n",
       "         0.,   0.,   0.,   0.,   0.,   0.,   0.,   0.,   0.,   0.,   0.,\n",
       "         0.,   0.,   0.,   0.,   0.,   0.,   0.,   0.,   0.,   0.,   0.,\n",
       "         0.,   0.,   0.,   0.,   0.,   0.,   0.,   0.,   0.,   0.,   0.,\n",
       "         0.,   0.,   0.]), encoder=Encoder(identifier='numpy.float64[784]', decoder=<Artifact artifact=<pinnacledb.encoders.numpy.array.DecodeArray object at 0x19a120fd0> serializer=dill>, encoder=<Artifact artifact=<pinnacledb.encoders.numpy.array.EncodeArray object at 0x1d36c0ed0> serializer=dill>, shape=[784], version=0)), 'class': 7, '_fold': 'train'})"
      ]
     },
     "execution_count": 5,
     "metadata": {},
     "output_type": "execute_result"
    }
   ],
   "source": [
    "db.execute(collection.find_one())"
   ]
  },
  {
   "cell_type": "code",
   "execution_count": 6,
   "id": "74a7844b",
   "metadata": {},
   "outputs": [],
   "source": [
    "model = pinnacle(\n",
    "    svm.SVC(gamma='scale', class_weight='balanced', C=100, verbose=True),\n",
    "    postprocess=lambda x: int(x)\n",
    ")"
   ]
  },
  {
   "cell_type": "code",
   "execution_count": 7,
   "id": "0aa7785f",
   "metadata": {
    "scrolled": false
   },
   "outputs": [
    {
     "name": "stderr",
     "output_type": "stream",
     "text": [
      "100%|█████████████████████████████████████████████████████████████████████████████████████████████████████████████████████████████████████████████████| 9511/9511 [00:00<00:00, 253008.01it/s]\n"
     ]
    },
    {
     "name": "stdout",
     "output_type": "stream",
     "text": [
      "[LibSVM]*\n",
      "optimization finished, #iter = 235\n",
      "obj = -23.988352, rho = -0.470720\n",
      "nSV = 107, nBSV = 0\n",
      "*\n",
      "optimization finished, #iter = 641\n",
      "obj = -84.873820, rho = 0.216024\n",
      "nSV = 245, nBSV = 0\n",
      "*\n",
      "optimization finished, #iter = 622\n",
      "obj = -71.442951, rho = 0.109371\n",
      "nSV = 234, nBSV = 0\n",
      "*\n",
      "optimization finished, #iter = 425\n",
      "obj = -47.762863, rho = -0.148560\n",
      "nSV = 166, nBSV = 0\n",
      "*\n",
      "optimization finished, #iter = 733\n",
      "obj = -89.869625, rho = 0.143424\n",
      "nSV = 269, nBSV = 0\n",
      "*\n",
      "optimization finished, #iter = 592\n",
      "obj = -88.511741, rho = -0.029409\n",
      "nSV = 222, nBSV = 0\n",
      "*\n",
      "optimization finished, #iter = 465\n",
      "obj = -49.685648, rho = -0.110425\n",
      "nSV = 183, nBSV = 0\n",
      "*\n",
      "optimization finished, #iter = 600\n",
      "obj = -74.241001, rho = -0.037598\n",
      "nSV = 237, nBSV = 0\n",
      "*\n",
      "optimization finished, #iter = 505\n",
      "obj = -71.490694, rho = -0.253592\n",
      "nSV = 197, nBSV = 0\n",
      "*\n",
      "optimization finished, #iter = 637\n",
      "obj = -129.249310, rho = 0.687340\n",
      "nSV = 181, nBSV = 0\n",
      "*\n",
      "optimization finished, #iter = 569\n",
      "obj = -102.681731, rho = 0.752286\n",
      "nSV = 172, nBSV = 0\n",
      "*\n",
      "optimization finished, #iter = 357\n",
      "obj = -74.911452, rho = -0.106664\n",
      "nSV = 119, nBSV = 0\n",
      "*\n",
      "optimization finished, #iter = 488\n",
      "obj = -72.027330, rho = 0.759303\n",
      "nSV = 156, nBSV = 0\n",
      "*\n",
      "optimization finished, #iter = 374\n",
      "obj = -51.101003, rho = 0.341382\n",
      "nSV = 122, nBSV = 0\n",
      "*\n",
      "optimization finished, #iter = 411\n",
      "obj = -99.381255, rho = 0.448729\n",
      "nSV = 126, nBSV = 0\n",
      "*\n",
      "optimization finished, #iter = 672\n",
      "obj = -136.599862, rho = -0.015640\n",
      "nSV = 202, nBSV = 0\n",
      "*\n",
      "optimization finished, #iter = 410\n",
      "obj = -93.195779, rho = 0.049460\n",
      "nSV = 135, nBSV = 0\n",
      "*.*\n",
      "optimization finished, #iter = 1073\n",
      "obj = -188.828180, rho = 0.073759\n",
      "nSV = 365, nBSV = 0\n",
      "*\n",
      "optimization finished, #iter = 712\n",
      "obj = -108.003107, rho = -0.524942\n",
      "nSV = 265, nBSV = 0\n",
      "*\n",
      "optimization finished, #iter = 846\n",
      "obj = -110.393359, rho = -0.006210\n",
      "nSV = 308, nBSV = 0\n",
      "*\n",
      "optimization finished, #iter = 879\n",
      "obj = -113.210787, rho = -0.430426\n",
      "nSV = 299, nBSV = 0\n",
      "*\n",
      "optimization finished, #iter = 757\n",
      "obj = -130.944389, rho = -0.357075\n",
      "nSV = 256, nBSV = 0\n",
      "*.*\n",
      "optimization finished, #iter = 1207\n",
      "obj = -198.472560, rho = -0.599563\n",
      "nSV = 383, nBSV = 0\n",
      "*\n",
      "optimization finished, #iter = 689\n",
      "obj = -95.578878, rho = -0.276216\n",
      "nSV = 247, nBSV = 0\n",
      "*\n",
      "optimization finished, #iter = 545\n",
      "obj = -83.113341, rho = -0.458543\n",
      "nSV = 209, nBSV = 0\n",
      "*.*\n",
      "optimization finished, #iter = 1413\n",
      "obj = -258.338908, rho = 0.332330\n",
      "nSV = 424, nBSV = 0\n",
      "*\n",
      "optimization finished, #iter = 496\n",
      "obj = -69.449574, rho = -0.259930\n",
      "nSV = 191, nBSV = 0\n",
      "*\n",
      "optimization finished, #iter = 903\n",
      "obj = -160.283393, rho = -0.156701\n",
      "nSV = 276, nBSV = 0\n",
      "*.*\n",
      "optimization finished, #iter = 1326\n",
      "obj = -235.751271, rho = -0.910703\n",
      "nSV = 423, nBSV = 0\n",
      "*\n",
      "optimization finished, #iter = 980\n",
      "obj = -170.077046, rho = -0.576338\n",
      "nSV = 297, nBSV = 0\n",
      "*\n",
      "optimization finished, #iter = 673\n",
      "obj = -98.389239, rho = 0.386576\n",
      "nSV = 240, nBSV = 0\n",
      "*\n",
      "optimization finished, #iter = 645\n",
      "obj = -92.711106, rho = 0.140121\n",
      "nSV = 237, nBSV = 0\n",
      "*\n",
      "optimization finished, #iter = 858\n",
      "obj = -152.069908, rho = 0.315577\n",
      "nSV = 278, nBSV = 0\n",
      "*\n",
      "optimization finished, #iter = 666\n",
      "obj = -101.928174, rho = 0.316743\n",
      "nSV = 238, nBSV = 0\n",
      ".*\n",
      "optimization finished, #iter = 1514\n",
      "obj = -325.028376, rho = 0.119189\n",
      "nSV = 401, nBSV = 0\n",
      "*\n",
      "optimization finished, #iter = 826\n",
      "obj = -142.819529, rho = -0.254927\n",
      "nSV = 269, nBSV = 0\n",
      "*\n",
      "optimization finished, #iter = 599\n",
      "obj = -81.361383, rho = -0.222212\n",
      "nSV = 221, nBSV = 0\n",
      "*.*\n",
      "optimization finished, #iter = 1229\n",
      "obj = -189.085659, rho = -0.772534\n",
      "nSV = 401, nBSV = 0\n",
      "*\n",
      "optimization finished, #iter = 751\n",
      "obj = -121.587565, rho = -0.480463\n",
      "nSV = 250, nBSV = 0\n",
      "*\n",
      "optimization finished, #iter = 395\n",
      "obj = -45.085481, rho = -0.040327\n",
      "nSV = 163, nBSV = 0\n",
      "*\n",
      "optimization finished, #iter = 778\n",
      "obj = -116.635521, rho = -0.056845\n",
      "nSV = 266, nBSV = 0\n",
      "*\n",
      "optimization finished, #iter = 426\n",
      "obj = -54.076974, rho = -0.083032\n",
      "nSV = 173, nBSV = 0\n",
      "*\n",
      "optimization finished, #iter = 644\n",
      "obj = -116.549496, rho = -0.033269\n",
      "nSV = 227, nBSV = 0\n",
      ".*\n",
      "optimization finished, #iter = 1549\n",
      "obj = -345.525454, rho = -0.559682\n",
      "nSV = 391, nBSV = 0\n",
      "*\n",
      "optimization finished, #iter = 909\n",
      "obj = -154.973903, rho = 0.007245\n",
      "nSV = 305, nBSV = 0\n",
      "Total nSV = 3593\n"
     ]
    },
    {
     "data": {
      "text/html": [
       "<style>#sk-container-id-1 {color: black;}#sk-container-id-1 pre{padding: 0;}#sk-container-id-1 div.sk-toggleable {background-color: white;}#sk-container-id-1 label.sk-toggleable__label {cursor: pointer;display: block;width: 100%;margin-bottom: 0;padding: 0.3em;box-sizing: border-box;text-align: center;}#sk-container-id-1 label.sk-toggleable__label-arrow:before {content: \"▸\";float: left;margin-right: 0.25em;color: #696969;}#sk-container-id-1 label.sk-toggleable__label-arrow:hover:before {color: black;}#sk-container-id-1 div.sk-estimator:hover label.sk-toggleable__label-arrow:before {color: black;}#sk-container-id-1 div.sk-toggleable__content {max-height: 0;max-width: 0;overflow: hidden;text-align: left;background-color: #f0f8ff;}#sk-container-id-1 div.sk-toggleable__content pre {margin: 0.2em;color: black;border-radius: 0.25em;background-color: #f0f8ff;}#sk-container-id-1 input.sk-toggleable__control:checked~div.sk-toggleable__content {max-height: 200px;max-width: 100%;overflow: auto;}#sk-container-id-1 input.sk-toggleable__control:checked~label.sk-toggleable__label-arrow:before {content: \"▾\";}#sk-container-id-1 div.sk-estimator input.sk-toggleable__control:checked~label.sk-toggleable__label {background-color: #d4ebff;}#sk-container-id-1 div.sk-label input.sk-toggleable__control:checked~label.sk-toggleable__label {background-color: #d4ebff;}#sk-container-id-1 input.sk-hidden--visually {border: 0;clip: rect(1px 1px 1px 1px);clip: rect(1px, 1px, 1px, 1px);height: 1px;margin: -1px;overflow: hidden;padding: 0;position: absolute;width: 1px;}#sk-container-id-1 div.sk-estimator {font-family: monospace;background-color: #f0f8ff;border: 1px dotted black;border-radius: 0.25em;box-sizing: border-box;margin-bottom: 0.5em;}#sk-container-id-1 div.sk-estimator:hover {background-color: #d4ebff;}#sk-container-id-1 div.sk-parallel-item::after {content: \"\";width: 100%;border-bottom: 1px solid gray;flex-grow: 1;}#sk-container-id-1 div.sk-label:hover label.sk-toggleable__label {background-color: #d4ebff;}#sk-container-id-1 div.sk-serial::before {content: \"\";position: absolute;border-left: 1px solid gray;box-sizing: border-box;top: 0;bottom: 0;left: 50%;z-index: 0;}#sk-container-id-1 div.sk-serial {display: flex;flex-direction: column;align-items: center;background-color: white;padding-right: 0.2em;padding-left: 0.2em;position: relative;}#sk-container-id-1 div.sk-item {position: relative;z-index: 1;}#sk-container-id-1 div.sk-parallel {display: flex;align-items: stretch;justify-content: center;background-color: white;position: relative;}#sk-container-id-1 div.sk-item::before, #sk-container-id-1 div.sk-parallel-item::before {content: \"\";position: absolute;border-left: 1px solid gray;box-sizing: border-box;top: 0;bottom: 0;left: 50%;z-index: -1;}#sk-container-id-1 div.sk-parallel-item {display: flex;flex-direction: column;z-index: 1;position: relative;background-color: white;}#sk-container-id-1 div.sk-parallel-item:first-child::after {align-self: flex-end;width: 50%;}#sk-container-id-1 div.sk-parallel-item:last-child::after {align-self: flex-start;width: 50%;}#sk-container-id-1 div.sk-parallel-item:only-child::after {width: 0;}#sk-container-id-1 div.sk-dashed-wrapped {border: 1px dashed gray;margin: 0 0.4em 0.5em 0.4em;box-sizing: border-box;padding-bottom: 0.4em;background-color: white;}#sk-container-id-1 div.sk-label label {font-family: monospace;font-weight: bold;display: inline-block;line-height: 1.2em;}#sk-container-id-1 div.sk-label-container {text-align: center;}#sk-container-id-1 div.sk-container {/* jupyter's `normalize.less` sets `[hidden] { display: none; }` but bootstrap.min.css set `[hidden] { display: none !important; }` so we also need the `!important` here to be able to override the default hidden behavior on the sphinx rendered scikit-learn.org. See: https://github.com/scikit-learn/scikit-learn/issues/21755 */display: inline-block !important;position: relative;}#sk-container-id-1 div.sk-text-repr-fallback {display: none;}</style><div id=\"sk-container-id-1\" class=\"sk-top-container\"><div class=\"sk-text-repr-fallback\"><pre>SVC(C=100, class_weight=&#x27;balanced&#x27;, verbose=True)</pre><b>In a Jupyter environment, please rerun this cell to show the HTML representation or trust the notebook. <br />On GitHub, the HTML representation is unable to render, please try loading this page with nbviewer.org.</b></div><div class=\"sk-container\" hidden><div class=\"sk-item\"><div class=\"sk-estimator sk-toggleable\"><input class=\"sk-toggleable__control sk-hidden--visually\" id=\"sk-estimator-id-1\" type=\"checkbox\" checked><label for=\"sk-estimator-id-1\" class=\"sk-toggleable__label sk-toggleable__label-arrow\">SVC</label><div class=\"sk-toggleable__content\"><pre>SVC(C=100, class_weight=&#x27;balanced&#x27;, verbose=True)</pre></div></div></div></div></div>"
      ],
      "text/plain": [
       "SVC(C=100, class_weight='balanced', verbose=True)"
      ]
     },
     "execution_count": 7,
     "metadata": {},
     "output_type": "execute_result"
    }
   ],
   "source": [
    "model.fit(X='img', y='class', db=db, select=collection.find())"
   ]
  },
  {
   "cell_type": "code",
   "execution_count": 8,
   "id": "05f344fa",
   "metadata": {},
   "outputs": [
    {
     "data": {
      "text/plain": [
       "['svc']"
      ]
     },
     "execution_count": 8,
     "metadata": {},
     "output_type": "execute_result"
    }
   ],
   "source": [
    "db.show('model')"
   ]
  },
  {
   "cell_type": "code",
   "execution_count": 9,
   "id": "29a21753",
   "metadata": {},
   "outputs": [
    {
     "name": "stderr",
     "output_type": "stream",
     "text": [
      "WARNING:root:model/svc/0 already exists - doing nothing\n",
      "WARNING:root:model/svc/0 already exists - doing nothing\n",
      "WARNING:root:model/svc/0 already exists - doing nothing\n"
     ]
    },
    {
     "name": "stdout",
     "output_type": "stream",
     "text": [
      "Computing chunk 0/3\n"
     ]
    },
    {
     "name": "stderr",
     "output_type": "stream",
     "text": [
      "WARNING:root:model/svc/0 already exists - doing nothing\n"
     ]
    },
    {
     "name": "stdout",
     "output_type": "stream",
     "text": [
      "Computing chunk 3000/3\n"
     ]
    },
    {
     "name": "stderr",
     "output_type": "stream",
     "text": [
      "WARNING:root:model/svc/0 already exists - doing nothing\n"
     ]
    },
    {
     "name": "stdout",
     "output_type": "stream",
     "text": [
      "Computing chunk 6000/3\n"
     ]
    },
    {
     "name": "stderr",
     "output_type": "stream",
     "text": [
      "WARNING:root:model/svc/0 already exists - doing nothing\n"
     ]
    },
    {
     "name": "stdout",
     "output_type": "stream",
     "text": [
      "Computing chunk 9000/3\n"
     ]
    }
   ],
   "source": [
    "m = db.load('model', 'svc')\n",
    "m.predict(X='img', db=db, select=collection.find(), max_chunk_size=3000)"
   ]
  },
  {
   "cell_type": "code",
   "execution_count": 30,
   "id": "65da9f01",
   "metadata": {
    "scrolled": false
   },
   "outputs": [
    {
     "name": "stdout",
     "output_type": "stream",
     "text": [
      "9\n",
      "{'img': {'svc': 9}}\n"
     ]
    }
   ],
   "source": [
    "r = next(db.execute(collection.aggregate([{'$match': {'_fold': 'valid'}} ,{'$sample': {'size': 1}}])))\n",
    "print(r['class'])\n",
    "print(r['_outputs'])"
   ]
  }
 ],
 "metadata": {
  "kernelspec": {
   "display_name": "Python 3 (ipykernel)",
   "language": "python",
   "name": "python3"
  },
  "language_info": {
   "codemirror_mode": {
    "name": "ipython",
    "version": 3
   },
   "file_extension": ".py",
   "mimetype": "text/x-python",
   "name": "python",
   "nbconvert_exporter": "python",
   "pygments_lexer": "ipython3",
   "version": "3.11.3"
  }
 },
 "nbformat": 4,
 "nbformat_minor": 5
}
