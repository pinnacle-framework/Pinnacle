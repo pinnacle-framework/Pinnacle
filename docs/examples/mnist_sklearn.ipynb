{
 "cells": [
  {
   "cell_type": "markdown",
   "id": "15eb770d",
   "metadata": {},
   "source": [
    "# MNIST using scikit-learn and SuperDuperDB\n",
    "\n",
    "In a [previous example](mnist_torch.html) we discussed how to implement MNIST classification with CNNs in `torch`\n",
    "using SuperDuperDB. "
   ]
  },
  {
   "cell_type": "code",
   "execution_count": 1,
   "id": "b09ce280",
   "metadata": {},
   "outputs": [],
   "source": [
    "from sklearn.datasets import fetch_openml\n",
    "from sklearn.metrics import accuracy_score,classification_report\n",
    "from sklearn.neighbors import KNeighborsClassifier\n",
    "import numpy as np\n",
    "from sklearn import svm"
   ]
  },
  {
   "cell_type": "markdown",
   "id": "1f9e4f2f",
   "metadata": {},
   "source": [
    "As before we'll import the python MongoDB client `pymongo`\n",
    "and \"wrap\" our database to convert it to a SuperDuper `Datalayer`:"
   ]
  },
  {
   "cell_type": "code",
   "execution_count": 2,
   "id": "4785878f",
   "metadata": {},
   "outputs": [
    {
     "name": "stderr",
     "output_type": "stream",
     "text": [
      "INFO:faiss.loader:Loading faiss.\n",
      "INFO:faiss.loader:Successfully loaded faiss.\n",
      "INFO:numexpr.utils:NumExpr defaulting to 8 threads.\n"
     ]
    }
   ],
   "source": [
    "import pymongo\n",
    "from pinnacledb import pinnacle\n",
    "\n",
    "db = pymongo.MongoClient().documents\n",
    "\n",
    "db = pinnacle(db)"
   ]
  },
  {
   "cell_type": "code",
   "execution_count": 3,
   "id": "ba5b9513",
   "metadata": {},
   "outputs": [],
   "source": [
    "db.db.client.drop_database('documents')\n",
    "db.db.client.drop_database('_filesystem:documents')"
   ]
  },
  {
   "cell_type": "markdown",
   "id": "e5a55133",
   "metadata": {},
   "source": [
    "Similarly to last time, we can add data to SuperDuperDB in a way which very similar to using `pymongo`.\n",
    "This time, we'll add the data as `numpy.array` to SuperDuperDB, using the `Document-Encoder` formalism:"
   ]
  },
  {
   "cell_type": "code",
   "execution_count": 4,
   "id": "24bf2a58",
   "metadata": {
    "scrolled": false
   },
   "outputs": [
    {
     "name": "stderr",
     "output_type": "stream",
     "text": [
      "/Users/dodo/SuperDuperDB/pinnacledb/.venv/lib/python3.11/site-packages/sklearn/datasets/_openml.py:1002: FutureWarning: The default value of `parser` will change from `'liac-arff'` to `'auto'` in 1.4. You can set `parser='auto'` to silence this warning. Therefore, an `ImportError` will be raised from 1.4 if the dataset is dense and pandas is not installed. Note that the pandas parser may return different data types. See the Notes Section in fetch_openml's API doc for details.\n",
      "  warn(\n",
      "INFO:root:found 0 uris\n"
     ]
    },
    {
     "data": {
      "text/plain": [
       "(<pymongo.results.InsertManyResult at 0x1ab48cca0>,\n",
       " TaskWorkflow(database=<pinnacledb.db.base.datalayer.Datalayer object at 0x19be72790>, G=<networkx.classes.digraph.DiGraph object at 0x19bf3dd10>))"
      ]
     },
     "execution_count": 4,
     "metadata": {},
     "output_type": "execute_result"
    }
   ],
   "source": [
    "from pinnacledb.ext.numpy.array import array\n",
    "from pinnacledb.container.document import Document as D\n",
    "from pinnacledb.db.mongodb.query import Collection\n",
    "\n",
    "mnist = fetch_openml('mnist_784')\n",
    "ix = np.random.permutation(10000)\n",
    "X = np.array(mnist.data)[ix, :]\n",
    "y = np.array(mnist.target)[ix].astype(int)\n",
    "\n",
    "a = array('float64', shape=(784,))\n",
    "\n",
    "collection = Collection(name='mnist')\n",
    "\n",
    "data = [D({'img': a(X[i]), 'class': int(y[i])}) for i in range(len(X))]\n",
    "\n",
    "db.execute(\n",
    "    collection.insert_many(data, encoders=[a])\n",
    ")"
   ]
  },
  {
   "cell_type": "code",
   "execution_count": 5,
   "id": "8faf269c",
   "metadata": {},
   "outputs": [
    {
     "data": {
      "text/plain": [
       "Document({'_id': ObjectId('64c8e8d74c309285038096ec'), 'img': Encodable(encoder=Encoder(identifier='numpy.float64[784]', decoder=<Artifact artifact=<pinnacledb.ext.numpy.array.DecodeArray object at 0x19bf414d0> serializer=dill>, encoder=<Artifact artifact=<pinnacledb.ext.numpy.array.EncodeArray object at 0x19bf45d10> serializer=dill>, shape=[784], version=0), x=array([  0.,   0.,   0.,   0.,   0.,   0.,   0.,   0.,   0.,   0.,   0.,\n",
       "         0.,   0.,   0.,   0.,   0.,   0.,   0.,   0.,   0.,   0.,   0.,\n",
       "         0.,   0.,   0.,   0.,   0.,   0.,   0.,   0.,   0.,   0.,   0.,\n",
       "         0.,   0.,   0.,   0.,   0.,   0.,   0.,   0.,   0.,   0.,   0.,\n",
       "         0.,   0.,   0.,   0.,   0.,   0.,   0.,   0.,   0.,   0.,   0.,\n",
       "         0.,   0.,   0.,   0.,   0.,   0.,   0.,   0.,   0.,   0.,   0.,\n",
       "         0.,   0.,   0.,   0.,   0.,   0.,   0.,   0.,   0.,   0.,   0.,\n",
       "         0.,   0.,   0.,   0.,   0.,   0.,   0.,   0.,   0.,   0.,   0.,\n",
       "         0.,   0.,   0.,   0.,   0.,   0.,   0.,   0.,   0.,   0.,   0.,\n",
       "         0.,   0.,  36., 210., 253.,  83.,   0.,   0.,   0.,   0.,   0.,\n",
       "         0.,   0.,   0.,   0.,   0.,   0.,   0.,   0.,   0.,   0.,   0.,\n",
       "         0.,   0.,   0.,   0.,   0.,  29.,  94., 190., 242., 253., 252.,\n",
       "       205.,   0.,   0.,   0.,   0.,   0.,   0.,   0.,   0.,   0.,   0.,\n",
       "         0.,   0.,   0.,   0.,   0.,   0.,   0.,   0.,   0.,  62., 145.,\n",
       "       239., 252., 252., 252., 241., 247., 251.,  86.,   0.,   0.,   0.,\n",
       "         0.,   0.,   0.,   0.,   0.,   0.,   0.,   0.,   0.,   0.,   0.,\n",
       "         0.,   0.,   0.,  43., 239., 253., 252., 252., 183.,  84.,  35.,\n",
       "       163., 252., 189.,   0.,   0.,   0.,   0.,   0.,   0.,   0.,   0.,\n",
       "         0.,   0.,   0.,   0.,   0.,   0.,   0.,   0.,   0.,  64., 252.,\n",
       "       253., 252., 146.,  14.,   0.,   0.,  85., 252., 189.,   0.,   0.,\n",
       "         0.,   0.,   0.,   0.,   0.,   0.,   0.,   0.,   0.,   0.,   0.,\n",
       "         0.,   0.,   0.,   0.,   0.,  89.,  45.,   0.,   0.,   0.,   0.,\n",
       "         0., 191., 253., 172.,   0.,   0.,   0.,   0.,   0.,   0.,   0.,\n",
       "         0.,   0.,   0.,   0.,   0.,   0.,   0.,   0.,   0.,   0.,   0.,\n",
       "         0.,   0.,   0.,   0.,   0.,   0.,  32., 237., 245.,  56.,   0.,\n",
       "         0.,   0.,   0.,   0.,   0.,   0.,   0.,   0.,   0.,   0.,   0.,\n",
       "         0.,   0.,   0.,   0.,   0.,   0.,   0.,   0.,   0.,   0.,   0.,\n",
       "         0., 139., 252., 231.,   0.,   0.,   0.,   0.,   0.,   0.,   0.,\n",
       "         0.,   0.,   0.,   0.,   0.,   0.,   0.,   0.,   0.,   0.,   0.,\n",
       "         0.,   0.,   0.,   0.,   0.,   0.,   0., 148., 252., 231.,   0.,\n",
       "         0.,   0.,   0.,   0.,   0.,   0.,   0.,   0.,   0.,   0.,   0.,\n",
       "         0.,   0.,   0.,   0.,   0.,   0.,   0.,   0.,   0.,   0.,   0.,\n",
       "         0.,   0., 236., 252., 143.,   0.,   0.,   0.,   0.,   0.,   0.,\n",
       "         0.,   0.,   0.,   0.,   0.,   0.,   0.,   0.,   0.,   0.,   0.,\n",
       "         4.,  43., 130., 148., 148., 148., 148., 192., 255., 239.,  17.,\n",
       "         0.,   0.,   0.,   0.,   0.,   0.,   0.,   0.,   0.,   0.,   0.,\n",
       "         0.,   0.,   0.,   0.,   0.,  29., 142., 252., 252., 253., 252.,\n",
       "       252., 252., 252., 253., 168.,   0.,   0.,   0.,   0.,   0.,   0.,\n",
       "         0.,   0.,   0.,   0.,   0.,   0.,   0.,   0.,   0.,  18., 189.,\n",
       "       239., 252., 247., 231., 127.,  91., 136., 252., 252., 223.,  40.,\n",
       "         0.,   0.,   0.,   0.,   0.,   0.,   0.,   0.,   0.,   0.,   0.,\n",
       "         0.,   0.,   0.,  16., 221., 253., 231., 180.,  63.,   0.,   0.,\n",
       "        22., 158., 252., 252., 106.,   0.,   0.,   0.,   0.,   0.,   0.,\n",
       "         0.,   0.,   0.,   0.,   0.,   0.,   0.,   0.,  18., 221., 252.,\n",
       "       236.,  98.,   0.,   0.,   0.,  62., 199., 252., 252., 252., 106.,\n",
       "         0.,   0.,   0.,   0.,   0.,   0.,   0.,   0.,   0.,   0.,   0.,\n",
       "         0.,   0.,  15., 148., 253., 218.,  45.,   0.,   0.,   0., 124.,\n",
       "       210., 253., 250., 222., 253., 237.,  37.,   0.,   0.,   0.,   0.,\n",
       "         0.,   0.,   0.,   0.,   0.,   0.,   0.,   0.,  85., 252., 252.,\n",
       "        42.,   0.,   0.,  87., 190., 242., 253., 224.,  66.,  64., 252.,\n",
       "       253.,  63.,   0.,   0.,   0.,   0.,   0.,   0.,   0.,   0.,   0.,\n",
       "         0.,   0.,  22., 213., 252., 199.,  25., 128., 206., 251., 252.,\n",
       "       244., 170.,  40.,   0.,   6., 197., 170.,  32.,   0.,   0.,   0.,\n",
       "         0.,   0.,   0.,   0.,   0.,   0.,   0.,   0.,  32., 237., 252.,\n",
       "       252., 252., 253., 252., 252., 236.,  66.,   0.,   0.,   0.,   0.,\n",
       "         0.,   0.,   0.,   0.,   0.,   0.,   0.,   0.,   0.,   0.,   0.,\n",
       "         0.,   0.,   0.,   0.,  67., 155., 252., 252., 253., 173.,  94.,\n",
       "        31.,   0.,   0.,   0.,   0.,   0.,   0.,   0.,   0.,   0.,   0.,\n",
       "         0.,   0.,   0.,   0.,   0.,   0.,   0.,   0.,   0.,   0.,   0.,\n",
       "         0.,   0.,   0.,   0.,   0.,   0.,   0.,   0.,   0.,   0.,   0.,\n",
       "         0.,   0.,   0.,   0.,   0.,   0.,   0.,   0.,   0.,   0.,   0.,\n",
       "         0.,   0.,   0.,   0.,   0.,   0.,   0.,   0.,   0.,   0.,   0.,\n",
       "         0.,   0.,   0.,   0.,   0.,   0.,   0.,   0.,   0.,   0.,   0.,\n",
       "         0.,   0.,   0.,   0.,   0.,   0.,   0.,   0.,   0.,   0.,   0.,\n",
       "         0.,   0.,   0.,   0.,   0.,   0.,   0.,   0.,   0.,   0.,   0.,\n",
       "         0.,   0.,   0.,   0.,   0.,   0.,   0.,   0.,   0.,   0.,   0.,\n",
       "         0.,   0.,   0.,   0.,   0.,   0.,   0.,   0.,   0.,   0.,   0.,\n",
       "         0.,   0.,   0.,   0.,   0.,   0.,   0.,   0.,   0.,   0.,   0.,\n",
       "         0.,   0.,   0.,   0.,   0.,   0.,   0.,   0.,   0.,   0.,   0.,\n",
       "         0.,   0.,   0.,   0.,   0.,   0.,   0.,   0.,   0.,   0.,   0.,\n",
       "         0.,   0.,   0.,   0.,   0.,   0.,   0.,   0.,   0.,   0.,   0.,\n",
       "         0.,   0.,   0.]), uri=None), 'class': 2, '_fold': 'train'})"
      ]
     },
     "execution_count": 5,
     "metadata": {},
     "output_type": "execute_result"
    }
   ],
   "source": [
    "db.execute(collection.find_one())"
   ]
  },
  {
   "cell_type": "markdown",
   "id": "e4f20935",
   "metadata": {},
   "source": [
    "Models are built similarly to the `Datalayer`, by wrapping a standard Python-AI-ecosystem model:"
   ]
  },
  {
   "cell_type": "code",
   "execution_count": 6,
   "id": "74a7844b",
   "metadata": {},
   "outputs": [],
   "source": [
    "model = pinnacle(\n",
    "    svm.SVC(gamma='scale', class_weight='balanced', C=100, verbose=True),\n",
    "    postprocess=lambda x: int(x)\n",
    ")"
   ]
  },
  {
   "cell_type": "markdown",
   "id": "b8377634",
   "metadata": {},
   "source": [
    "Now let's fit the model. The optimization uses Scikit-Learn's inbuilt training procedures.\n",
    "Unlike in a standard `sklearn` use-case, we don't need to fetch the data client side. Instead, \n",
    "we simply name the fields in the MongoDB collection which we'd like to use."
   ]
  },
  {
   "cell_type": "code",
   "execution_count": 7,
   "id": "0aa7785f",
   "metadata": {
    "scrolled": false
   },
   "outputs": [
    {
     "name": "stderr",
     "output_type": "stream",
     "text": [
      "100%|█████████████████████████████████████████████████████████████████████████████████████████████████████████████████████████████████████████████████| 9494/9494 [00:00<00:00, 250764.95it/s]\n"
     ]
    },
    {
     "name": "stdout",
     "output_type": "stream",
     "text": [
      "[LibSVM]*\n",
      "optimization finished, #iter = 243\n",
      "obj = -23.942314, rho = -0.479301\n",
      "nSV = 105, nBSV = 0\n",
      "*\n",
      "optimization finished, #iter = 667\n",
      "obj = -83.842827, rho = 0.220104\n",
      "nSV = 239, nBSV = 0\n",
      "*\n",
      "optimization finished, #iter = 605\n",
      "obj = -70.804738, rho = 0.088037\n",
      "nSV = 228, nBSV = 0\n",
      "*\n",
      "optimization finished, #iter = 415\n",
      "obj = -48.058209, rho = -0.156508\n",
      "nSV = 164, nBSV = 0\n",
      "*\n",
      "optimization finished, #iter = 718\n",
      "obj = -87.742649, rho = 0.070272\n",
      "nSV = 262, nBSV = 0\n",
      "*\n",
      "optimization finished, #iter = 587\n",
      "obj = -88.853650, rho = -0.067306\n",
      "nSV = 215, nBSV = 0\n",
      "*\n",
      "optimization finished, #iter = 433\n",
      "obj = -51.209997, rho = -0.121251\n",
      "nSV = 178, nBSV = 0\n",
      "*\n",
      "optimization finished, #iter = 591\n",
      "obj = -73.952459, rho = -0.047918\n",
      "nSV = 238, nBSV = 0\n",
      "*\n",
      "optimization finished, #iter = 542\n",
      "obj = -73.099406, rho = -0.256044\n",
      "nSV = 200, nBSV = 0\n",
      "*\n",
      "optimization finished, #iter = 652\n",
      "obj = -130.136954, rho = 0.720547\n",
      "nSV = 180, nBSV = 0\n",
      "*\n",
      "optimization finished, #iter = 543\n",
      "obj = -101.068817, rho = 0.773049\n",
      "nSV = 170, nBSV = 0\n",
      "*\n",
      "optimization finished, #iter = 428\n",
      "obj = -75.278272, rho = -0.142870\n",
      "nSV = 124, nBSV = 0\n",
      "*\n",
      "optimization finished, #iter = 479\n",
      "obj = -72.283476, rho = 0.722549\n",
      "nSV = 162, nBSV = 0\n",
      "*\n",
      "optimization finished, #iter = 325\n",
      "obj = -49.733606, rho = 0.342410\n",
      "nSV = 119, nBSV = 0\n",
      "*\n",
      "optimization finished, #iter = 472\n",
      "obj = -97.574967, rho = 0.464101\n",
      "nSV = 132, nBSV = 0\n",
      "*\n",
      "optimization finished, #iter = 692\n",
      "obj = -133.558979, rho = 0.006901\n",
      "nSV = 199, nBSV = 0\n",
      "*\n",
      "optimization finished, #iter = 428\n",
      "obj = -92.661637, rho = 0.104307\n",
      "nSV = 138, nBSV = 0\n",
      "*.*\n",
      "optimization finished, #iter = 1079\n",
      "obj = -190.842043, rho = 0.001218\n",
      "nSV = 365, nBSV = 0\n",
      "*\n",
      "optimization finished, #iter = 739\n",
      "obj = -108.784626, rho = -0.570664\n",
      "nSV = 265, nBSV = 0\n",
      "*\n",
      "optimization finished, #iter = 772\n",
      "obj = -112.010831, rho = -0.070193\n",
      "nSV = 305, nBSV = 0\n",
      "*\n",
      "optimization finished, #iter = 819\n",
      "obj = -111.226041, rho = -0.496392\n",
      "nSV = 298, nBSV = 0\n",
      "*\n",
      "optimization finished, #iter = 789\n",
      "obj = -141.105587, rho = -0.329348\n",
      "nSV = 260, nBSV = 0\n",
      "*.*\n",
      "optimization finished, #iter = 1171\n",
      "obj = -202.723200, rho = -0.635132\n",
      "nSV = 386, nBSV = 0\n",
      "*\n",
      "optimization finished, #iter = 730\n",
      "obj = -102.701160, rho = -0.303137\n",
      "nSV = 253, nBSV = 0\n",
      "*\n",
      "optimization finished, #iter = 525\n",
      "obj = -82.491041, rho = -0.465022\n",
      "nSV = 207, nBSV = 0\n",
      "*.*\n",
      "optimization finished, #iter = 1358\n",
      "obj = -251.867465, rho = 0.257934\n",
      "nSV = 408, nBSV = 0\n",
      "*\n",
      "optimization finished, #iter = 486\n",
      "obj = -68.038193, rho = -0.256210\n",
      "nSV = 186, nBSV = 0\n",
      "*\n",
      "optimization finished, #iter = 854\n",
      "obj = -156.954488, rho = -0.133168\n",
      "nSV = 270, nBSV = 0\n",
      "*.*\n",
      "optimization finished, #iter = 1337\n",
      "obj = -231.528852, rho = -0.802990\n",
      "nSV = 425, nBSV = 0\n",
      "*\n",
      "optimization finished, #iter = 927\n",
      "obj = -161.887038, rho = -0.548465\n",
      "nSV = 293, nBSV = 0\n",
      "*\n",
      "optimization finished, #iter = 682\n",
      "obj = -99.088667, rho = 0.397741\n",
      "nSV = 242, nBSV = 0\n",
      "*\n",
      "optimization finished, #iter = 685\n",
      "obj = -94.585725, rho = 0.149616\n",
      "nSV = 240, nBSV = 0\n",
      "*\n",
      "optimization finished, #iter = 884\n",
      "obj = -156.120415, rho = 0.325979\n",
      "nSV = 279, nBSV = 0\n",
      "*\n",
      "optimization finished, #iter = 708\n",
      "obj = -104.756313, rho = 0.297953\n",
      "nSV = 247, nBSV = 0\n",
      ".*\n",
      "optimization finished, #iter = 1615\n",
      "obj = -346.289990, rho = 0.108823\n",
      "nSV = 395, nBSV = 0\n",
      "*\n",
      "optimization finished, #iter = 786\n",
      "obj = -143.149606, rho = -0.191564\n",
      "nSV = 260, nBSV = 0\n",
      "*\n",
      "optimization finished, #iter = 632\n",
      "obj = -81.095072, rho = -0.207894\n",
      "nSV = 220, nBSV = 0\n",
      "*.*\n",
      "optimization finished, #iter = 1197\n",
      "obj = -189.691407, rho = -0.713141\n",
      "nSV = 399, nBSV = 0\n",
      "*\n",
      "optimization finished, #iter = 728\n",
      "obj = -123.061689, rho = -0.446182\n",
      "nSV = 248, nBSV = 0\n",
      "*\n",
      "optimization finished, #iter = 403\n",
      "obj = -45.267046, rho = -0.016473\n",
      "nSV = 164, nBSV = 0\n",
      "*\n",
      "optimization finished, #iter = 751\n",
      "obj = -114.752845, rho = -0.030689\n",
      "nSV = 259, nBSV = 0\n",
      "*\n",
      "optimization finished, #iter = 451\n",
      "obj = -55.436646, rho = -0.053544\n",
      "nSV = 174, nBSV = 0\n",
      "*\n",
      "optimization finished, #iter = 642\n",
      "obj = -114.054213, rho = -0.014646\n",
      "nSV = 232, nBSV = 0\n",
      ".*\n",
      "optimization finished, #iter = 1637\n",
      "obj = -350.946072, rho = -0.588439\n",
      "nSV = 388, nBSV = 0\n",
      "*\n",
      "optimization finished, #iter = 915\n",
      "obj = -153.984926, rho = -0.006336\n",
      "nSV = 302, nBSV = 0\n",
      "Total nSV = 3586\n"
     ]
    },
    {
     "data": {
      "text/html": [
       "<style>#sk-container-id-1 {color: black;}#sk-container-id-1 pre{padding: 0;}#sk-container-id-1 div.sk-toggleable {background-color: white;}#sk-container-id-1 label.sk-toggleable__label {cursor: pointer;display: block;width: 100%;margin-bottom: 0;padding: 0.3em;box-sizing: border-box;text-align: center;}#sk-container-id-1 label.sk-toggleable__label-arrow:before {content: \"▸\";float: left;margin-right: 0.25em;color: #696969;}#sk-container-id-1 label.sk-toggleable__label-arrow:hover:before {color: black;}#sk-container-id-1 div.sk-estimator:hover label.sk-toggleable__label-arrow:before {color: black;}#sk-container-id-1 div.sk-toggleable__content {max-height: 0;max-width: 0;overflow: hidden;text-align: left;background-color: #f0f8ff;}#sk-container-id-1 div.sk-toggleable__content pre {margin: 0.2em;color: black;border-radius: 0.25em;background-color: #f0f8ff;}#sk-container-id-1 input.sk-toggleable__control:checked~div.sk-toggleable__content {max-height: 200px;max-width: 100%;overflow: auto;}#sk-container-id-1 input.sk-toggleable__control:checked~label.sk-toggleable__label-arrow:before {content: \"▾\";}#sk-container-id-1 div.sk-estimator input.sk-toggleable__control:checked~label.sk-toggleable__label {background-color: #d4ebff;}#sk-container-id-1 div.sk-label input.sk-toggleable__control:checked~label.sk-toggleable__label {background-color: #d4ebff;}#sk-container-id-1 input.sk-hidden--visually {border: 0;clip: rect(1px 1px 1px 1px);clip: rect(1px, 1px, 1px, 1px);height: 1px;margin: -1px;overflow: hidden;padding: 0;position: absolute;width: 1px;}#sk-container-id-1 div.sk-estimator {font-family: monospace;background-color: #f0f8ff;border: 1px dotted black;border-radius: 0.25em;box-sizing: border-box;margin-bottom: 0.5em;}#sk-container-id-1 div.sk-estimator:hover {background-color: #d4ebff;}#sk-container-id-1 div.sk-parallel-item::after {content: \"\";width: 100%;border-bottom: 1px solid gray;flex-grow: 1;}#sk-container-id-1 div.sk-label:hover label.sk-toggleable__label {background-color: #d4ebff;}#sk-container-id-1 div.sk-serial::before {content: \"\";position: absolute;border-left: 1px solid gray;box-sizing: border-box;top: 0;bottom: 0;left: 50%;z-index: 0;}#sk-container-id-1 div.sk-serial {display: flex;flex-direction: column;align-items: center;background-color: white;padding-right: 0.2em;padding-left: 0.2em;position: relative;}#sk-container-id-1 div.sk-item {position: relative;z-index: 1;}#sk-container-id-1 div.sk-parallel {display: flex;align-items: stretch;justify-content: center;background-color: white;position: relative;}#sk-container-id-1 div.sk-item::before, #sk-container-id-1 div.sk-parallel-item::before {content: \"\";position: absolute;border-left: 1px solid gray;box-sizing: border-box;top: 0;bottom: 0;left: 50%;z-index: -1;}#sk-container-id-1 div.sk-parallel-item {display: flex;flex-direction: column;z-index: 1;position: relative;background-color: white;}#sk-container-id-1 div.sk-parallel-item:first-child::after {align-self: flex-end;width: 50%;}#sk-container-id-1 div.sk-parallel-item:last-child::after {align-self: flex-start;width: 50%;}#sk-container-id-1 div.sk-parallel-item:only-child::after {width: 0;}#sk-container-id-1 div.sk-dashed-wrapped {border: 1px dashed gray;margin: 0 0.4em 0.5em 0.4em;box-sizing: border-box;padding-bottom: 0.4em;background-color: white;}#sk-container-id-1 div.sk-label label {font-family: monospace;font-weight: bold;display: inline-block;line-height: 1.2em;}#sk-container-id-1 div.sk-label-container {text-align: center;}#sk-container-id-1 div.sk-container {/* jupyter's `normalize.less` sets `[hidden] { display: none; }` but bootstrap.min.css set `[hidden] { display: none !important; }` so we also need the `!important` here to be able to override the default hidden behavior on the sphinx rendered scikit-learn.org. See: https://github.com/scikit-learn/scikit-learn/issues/21755 */display: inline-block !important;position: relative;}#sk-container-id-1 div.sk-text-repr-fallback {display: none;}</style><div id=\"sk-container-id-1\" class=\"sk-top-container\"><div class=\"sk-text-repr-fallback\"><pre>SVC(C=100, class_weight=&#x27;balanced&#x27;, verbose=True)</pre><b>In a Jupyter environment, please rerun this cell to show the HTML representation or trust the notebook. <br />On GitHub, the HTML representation is unable to render, please try loading this page with nbviewer.org.</b></div><div class=\"sk-container\" hidden><div class=\"sk-item\"><div class=\"sk-estimator sk-toggleable\"><input class=\"sk-toggleable__control sk-hidden--visually\" id=\"sk-estimator-id-1\" type=\"checkbox\" checked><label for=\"sk-estimator-id-1\" class=\"sk-toggleable__label sk-toggleable__label-arrow\">SVC</label><div class=\"sk-toggleable__content\"><pre>SVC(C=100, class_weight=&#x27;balanced&#x27;, verbose=True)</pre></div></div></div></div></div>"
      ],
      "text/plain": [
       "SVC(C=100, class_weight='balanced', verbose=True)"
      ]
     },
     "execution_count": 7,
     "metadata": {},
     "output_type": "execute_result"
    }
   ],
   "source": [
    "model.fit(X='img', y='class', db=db, select=collection.find())"
   ]
  },
  {
   "cell_type": "markdown",
   "id": "4fa908ad",
   "metadata": {},
   "source": [
    "Installed models and functionality can be viewed using `db.show`:"
   ]
  },
  {
   "cell_type": "code",
   "execution_count": 8,
   "id": "05f344fa",
   "metadata": {},
   "outputs": [
    {
     "data": {
      "text/plain": [
       "['svc']"
      ]
     },
     "execution_count": 8,
     "metadata": {},
     "output_type": "execute_result"
    }
   ],
   "source": [
    "db.show('model')"
   ]
  },
  {
   "cell_type": "markdown",
   "id": "115cdf62",
   "metadata": {},
   "source": [
    "The model may be reloaded in another session from the database. \n",
    "As with `.fit`, the model may be applied to data in the database with `.predict`:"
   ]
  },
  {
   "cell_type": "code",
   "execution_count": 9,
   "id": "29a21753",
   "metadata": {
    "scrolled": false
   },
   "outputs": [
    {
     "name": "stderr",
     "output_type": "stream",
     "text": [
      "WARNING:root:model/svc/0 already exists - doing nothing\n",
      "WARNING:root:model/svc/0 already exists - doing nothing\n",
      "WARNING:root:model/svc/0 already exists - doing nothing\n"
     ]
    },
    {
     "name": "stdout",
     "output_type": "stream",
     "text": [
      "Computing chunk 0/3\n"
     ]
    },
    {
     "name": "stderr",
     "output_type": "stream",
     "text": [
      "WARNING:root:model/svc/0 already exists - doing nothing\n"
     ]
    },
    {
     "name": "stdout",
     "output_type": "stream",
     "text": [
      "Computing chunk 1/3\n"
     ]
    },
    {
     "name": "stderr",
     "output_type": "stream",
     "text": [
      "WARNING:root:model/svc/0 already exists - doing nothing\n"
     ]
    },
    {
     "name": "stdout",
     "output_type": "stream",
     "text": [
      "Computing chunk 2/3\n"
     ]
    },
    {
     "name": "stderr",
     "output_type": "stream",
     "text": [
      "WARNING:root:model/svc/0 already exists - doing nothing\n"
     ]
    },
    {
     "name": "stdout",
     "output_type": "stream",
     "text": [
      "Computing chunk 3/3\n"
     ]
    }
   ],
   "source": [
    "m = db.load('model', 'svc')\n",
    "m.predict(X='img', db=db, select=collection.find(), max_chunk_size=3000)"
   ]
  },
  {
   "cell_type": "markdown",
   "id": "cbcbc44f",
   "metadata": {},
   "source": [
    "We can verify that the predictions make sense by fetching a few random data-points:"
   ]
  },
  {
   "cell_type": "code",
   "execution_count": 10,
   "id": "65da9f01",
   "metadata": {
    "scrolled": false
   },
   "outputs": [
    {
     "name": "stdout",
     "output_type": "stream",
     "text": [
      "0\n",
      "{'img': {'svc': 0}}\n"
     ]
    }
   ],
   "source": [
    "r = next(db.execute(collection.aggregate([{'$match': {'_fold': 'valid'}} ,{'$sample': {'size': 1}}])))\n",
    "print(r['class'])\n",
    "print(r['_outputs'])"
   ]
  }
 ],
 "metadata": {
  "kernelspec": {
   "display_name": "Python 3 (ipykernel)",
   "language": "python",
   "name": "python3"
  },
  "language_info": {
   "codemirror_mode": {
    "name": "ipython",
    "version": 3
   },
   "file_extension": ".py",
   "mimetype": "text/x-python",
   "name": "python",
   "nbconvert_exporter": "python",
   "pygments_lexer": "ipython3",
   "version": "3.11.3"
  }
 },
 "nbformat": 4,
 "nbformat_minor": 5
}
