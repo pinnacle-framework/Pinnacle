{
 "cells": [
  {
   "cell_type": "markdown",
   "id": "15eb770d",
   "metadata": {},
   "source": [
    "# MNIST using scikit-learn and SuperDuperDB\n",
    "\n",
    "In a [previous example](mnist_torch.html) we discussed how to implement MNIST classification with CNNs in `torch`\n",
    "using SuperDuperDB. "
   ]
  },
  {
   "cell_type": "code",
   "execution_count": 1,
   "id": "b09ce280",
   "metadata": {},
   "outputs": [],
   "source": [
    "from sklearn.datasets import fetch_openml\n",
    "from sklearn.metrics import accuracy_score,classification_report\n",
    "import numpy as np\n",
    "from sklearn import svm"
   ]
  },
  {
   "cell_type": "markdown",
   "id": "1f9e4f2f",
   "metadata": {},
   "source": [
    "As before we'll import the python MongoDB client `pymongo`\n",
    "and \"wrap\" our database to convert it to a SuperDuper `Datalayer`:"
   ]
  },
  {
   "cell_type": "code",
   "execution_count": 2,
   "id": "4785878f",
   "metadata": {},
   "outputs": [
    {
     "name": "stderr",
     "output_type": "stream",
     "text": [
      "INFO:faiss.loader:Loading faiss.\n",
      "INFO:faiss.loader:Successfully loaded faiss.\n",
      "INFO:numexpr.utils:NumExpr defaulting to 8 threads.\n"
     ]
    }
   ],
   "source": [
    "import pymongo\n",
    "from pinnacledb import pinnacle\n",
    "\n",
    "db = pymongo.MongoClient().documents\n",
    "\n",
    "db = pinnacle(db)"
   ]
  },
  {
   "cell_type": "code",
   "execution_count": 3,
   "id": "ba5b9513",
   "metadata": {},
   "outputs": [],
   "source": [
    "db.db.client.drop_database('documents')\n",
    "db.db.client.drop_database('_filesystem:documents')"
   ]
  },
  {
   "cell_type": "markdown",
   "id": "e5a55133",
   "metadata": {},
   "source": [
    "Similarly to last time, we can add data to SuperDuperDB in a way which very similar to using `pymongo`.\n",
    "This time, we'll add the data as `numpy.array` to SuperDuperDB, using the `Document-Encoder` formalism:"
   ]
  },
  {
   "cell_type": "code",
   "execution_count": 4,
   "id": "24bf2a58",
   "metadata": {
    "scrolled": false
   },
   "outputs": [
    {
     "name": "stderr",
     "output_type": "stream",
     "text": [
      "/Users/dodo/SuperDuperDB/pinnacledb/.venv/lib/python3.11/site-packages/sklearn/datasets/_openml.py:1002: FutureWarning: The default value of `parser` will change from `'liac-arff'` to `'auto'` in 1.4. You can set `parser='auto'` to silence this warning. Therefore, an `ImportError` will be raised from 1.4 if the dataset is dense and pandas is not installed. Note that the pandas parser may return different data types. See the Notes Section in fetch_openml's API doc for details.\n",
      "  warn(\n",
      "INFO:root:found 0 uris\n"
     ]
    },
    {
     "data": {
      "text/plain": [
       "(<pymongo.results.InsertManyResult at 0x206bbe200>,\n",
       " TaskWorkflow(database=<pinnacledb.db.base.db.DB object at 0x19d769b90>, G=<networkx.classes.digraph.DiGraph object at 0x19d831410>))"
      ]
     },
     "execution_count": 4,
     "metadata": {},
     "output_type": "execute_result"
    }
   ],
   "source": [
    "from pinnacledb.ext.numpy.array import array\n",
    "from pinnacledb.container.document import Document as D\n",
    "from pinnacledb.db.mongodb.query import Collection\n",
    "\n",
    "mnist = fetch_openml('mnist_784')\n",
    "ix = np.random.permutation(10000)\n",
    "X = np.array(mnist.data)[ix, :]\n",
    "y = np.array(mnist.target)[ix].astype(int)\n",
    "\n",
    "a = array('float64', shape=(784,))\n",
    "\n",
    "collection = Collection(name='mnist')\n",
    "\n",
    "data = [D({'img': a(X[i]), 'class': int(y[i])}) for i in range(len(X))]\n",
    "\n",
    "db.execute(\n",
    "    collection.insert_many(data, encoders=[a])\n",
    ")"
   ]
  },
  {
   "cell_type": "code",
   "execution_count": 5,
   "id": "8faf269c",
   "metadata": {},
   "outputs": [
    {
     "data": {
      "text/plain": [
       "Document({'_id': ObjectId('64c96ab0a31b3b21c9d05a7f'), 'img': Encodable(encoder=Encoder(identifier='numpy.float64[784]', decoder=<Artifact artifact=<pinnacledb.ext.numpy.array.DecodeArray object at 0x19d83a310> serializer=dill>, encoder=<Artifact artifact=<pinnacledb.ext.numpy.array.EncodeArray object at 0x19d83a190> serializer=dill>, shape=[784], version=0), x=array([  0.,   0.,   0.,   0.,   0.,   0.,   0.,   0.,   0.,   0.,   0.,\n",
       "         0.,   0.,   0.,   0.,   0.,   0.,   0.,   0.,   0.,   0.,   0.,\n",
       "         0.,   0.,   0.,   0.,   0.,   0.,   0.,   0.,   0.,   0.,   0.,\n",
       "         0.,   0.,   0.,   0.,   0.,   0.,   0.,   0.,   0.,   0.,   0.,\n",
       "         0.,   0.,   0.,   0.,   0.,   0.,   0.,   0.,   0.,   0.,   0.,\n",
       "         0.,   0.,   0.,   0.,   0.,   0.,   0.,   0.,   0.,   0.,   0.,\n",
       "         0.,   0.,   0.,   0.,   0.,   0.,   0.,   0.,   0.,   0.,   0.,\n",
       "         0.,   0.,   0.,   0.,   0.,   0.,   0.,   0.,   0.,   0.,   0.,\n",
       "         0.,   0.,   0.,   0.,   0.,   0.,   0.,   0.,   0.,   0.,   0.,\n",
       "         0.,   0.,   0.,   0.,   0.,   0.,   0.,   0.,   0.,   0.,   0.,\n",
       "         0.,   0.,   0.,   0.,   0.,   0.,   0.,   0.,   0.,   0.,   0.,\n",
       "         0.,   0.,   0.,   0.,   0.,   0.,   0.,   0.,   0.,   0.,   0.,\n",
       "         0.,   0.,   0.,   0.,   0.,   0.,   0.,   0.,   0.,   0.,   0.,\n",
       "         0.,   0.,   0.,   0.,   0.,   0.,   0.,   0.,   0.,   0.,   0.,\n",
       "         0.,   0.,   0.,   0.,   0.,   0.,   0.,   0.,   0.,   0.,   0.,\n",
       "         0.,   0.,   0.,   0.,   0.,   0.,   0.,   0.,   0.,   0.,   0.,\n",
       "         0.,   0.,   0.,   0.,   0.,   0.,   0.,   0.,   0.,   0.,   0.,\n",
       "         0.,   0.,   0.,   0.,   0.,   0.,   0.,   0.,   0.,   0.,   0.,\n",
       "         0.,   0.,   0.,   0.,   0.,   0.,   0.,   0.,   0.,   0.,  11.,\n",
       "        65.,  76., 133., 202., 253., 253., 253., 124.,   0.,   0.,   0.,\n",
       "         0.,   0.,   0.,   0.,   0.,   0.,   0.,   0.,   0.,   0.,   0.,\n",
       "         0.,   0.,   0.,   0.,  61., 237., 252., 252., 253., 250., 211.,\n",
       "       135., 252., 187.,   5.,   0.,   0.,   0.,   0.,   0.,   0.,   0.,\n",
       "         0.,   0.,   0.,   0.,   0.,   0.,   0.,   0.,   9., 128., 234.,\n",
       "       252., 252., 252., 228.,  87.,   0.,  49., 252., 252.,  48.,   0.,\n",
       "         0.,   0.,   0.,   0.,   0.,   0.,   0.,   0.,   0.,   0.,   0.,\n",
       "         0.,   0.,   0., 141., 252., 252., 252., 252., 206.,  40.,   0.,\n",
       "         0., 129., 252., 204.,  16.,   0.,   0.,   0.,   0.,   0.,   0.,\n",
       "         0.,   0.,   0.,   0.,   0.,   0.,   0.,   0.,  24., 215., 252.,\n",
       "       252., 229.,  83.,   4.,   0.,   0.,   9., 189., 238.,  80.,   0.,\n",
       "         0.,   0.,   0.,   0.,   0.,   0.,   0.,   0.,   0.,   0.,   0.,\n",
       "         0.,   0.,   0.,   0., 146., 252., 153.,  37.,   0.,   0.,   0.,\n",
       "         7., 156., 252., 192.,   0.,   0.,   0.,   0.,   0.,   0.,   0.,\n",
       "         0.,   0.,   0.,   0.,   0.,   0.,   0.,   0.,   0.,   0.,  12.,\n",
       "        48.,   9.,   0.,   0.,   0.,   0.,  25., 252., 252., 151.,   0.,\n",
       "         0.,   0.,   0.,   0.,   0.,   0.,   0.,   0.,   0.,   0.,   0.,\n",
       "         0.,   0.,   0.,   0.,   0.,   0.,   0.,   0.,   0.,   0.,   0.,\n",
       "        51., 169., 252., 164.,  10.,   0.,   0.,   0.,   0.,   0.,   0.,\n",
       "         0.,   0.,   0.,   0.,   0.,   0.,   0.,   0.,   0.,   0.,   0.,\n",
       "         0.,   0.,   0.,   0.,   0.,   0., 132., 252., 236.,  48.,   0.,\n",
       "         0.,   0.,   0.,   0.,   0.,   0.,   0.,   0.,   0.,   0.,   0.,\n",
       "         0.,   0.,   0.,   0.,   0.,   0.,   0.,   0.,   0.,   0.,   0.,\n",
       "       116., 248., 252., 158.,   0.,   0.,   0.,   0.,   0.,   0.,   0.,\n",
       "         0.,   0.,   0.,   0.,   0.,   0.,   0.,   0.,   0.,   0.,   0.,\n",
       "         0.,   0.,   0.,   0.,   0.,  64., 248., 255., 223.,   0.,   0.,\n",
       "         0.,   0.,   0.,   0.,   0.,   0.,   0.,   0.,   0.,   0.,   0.,\n",
       "         0.,   0.,   0.,   0.,   0.,   0.,   0.,   0.,   0.,   0.,  56.,\n",
       "       242., 252., 241.,  98.,   0.,   0.,   0.,   0.,   0.,   0.,   0.,\n",
       "         0.,   0.,   0.,   0.,   0.,   0.,   0.,   0.,   0.,   0.,   0.,\n",
       "         0.,   0.,   0.,   0.,   0., 171., 252., 252., 104.,   0.,   0.,\n",
       "         0.,   0.,   0.,   0.,   0.,   0.,   0.,   0.,   0.,   0.,   0.,\n",
       "         0.,   0.,   0.,   0.,   0.,   0.,   0.,   0.,   0.,   0., 137.,\n",
       "       241., 252., 206.,   0.,   0.,   0.,   0.,   0.,   0.,   0.,   0.,\n",
       "         0.,   0.,   0.,   0.,   0.,   0.,   0.,   0.,   0.,   0.,   0.,\n",
       "         0.,   0.,   0.,   0.,  18., 216., 252., 252.,  11.,   0.,   0.,\n",
       "         0.,   0.,   0.,   0.,   0.,   0.,   0.,   0.,   0.,   0.,   0.,\n",
       "         0.,   0.,   0.,   0.,   0.,   0.,   0.,   0.,   0.,  47., 210.,\n",
       "       252., 252.,  77.,   3.,   0.,   0.,   0.,   0.,   0.,   0.,   0.,\n",
       "         0.,   0.,   0.,   0.,   0.,   0.,   0.,   0.,   0.,   0.,   0.,\n",
       "         0.,   0.,   0.,   0., 101., 252., 252., 133.,   5.,   0.,   0.,\n",
       "         0.,   0.,   0.,   0.,   0.,   0.,   0.,   0.,   0.,   0.,   0.,\n",
       "         0.,   0.,   0.,   0.,   0.,   0.,   0.,   0.,   0.,  42., 242.,\n",
       "       252., 133.,   5.,   0.,   0.,   0.,   0.,   0.,   0.,   0.,   0.,\n",
       "         0.,   0.,   0.,   0.,   0.,   0.,   0.,   0.,   0.,   0.,   0.,\n",
       "         0.,   0.,   0.,   0., 158., 252., 252.,  48.,   0.,   0.,   0.,\n",
       "         0.,   0.,   0.,   0.,   0.,   0.,   0.,   0.,   0.,   0.,   0.,\n",
       "         0.,   0.,   0.,   0.,   0.,   0.,   0.,   0.,   0.,   0.,  31.,\n",
       "       218., 217.,  25.,   0.,   0.,   0.,   0.,   0.,   0.,   0.,   0.,\n",
       "         0.,   0.,   0.,   0.,   0.,   0.,   0.,   0.,   0.,   0.,   0.,\n",
       "         0.,   0.,   0.,   0.,   0.,   0.,   0.,   0.,   0.,   0.,   0.,\n",
       "         0.,   0.,   0.,   0.,   0.,   0.,   0.,   0.,   0.,   0.,   0.,\n",
       "         0.,   0.,   0.]), uri=None), 'class': 7, '_fold': 'train'})"
      ]
     },
     "execution_count": 5,
     "metadata": {},
     "output_type": "execute_result"
    }
   ],
   "source": [
    "db.execute(collection.find_one())"
   ]
  },
  {
   "cell_type": "markdown",
   "id": "e4f20935",
   "metadata": {},
   "source": [
    "Models are built similarly to the `Datalayer`, by wrapping a standard Python-AI-ecosystem model:"
   ]
  },
  {
   "cell_type": "code",
   "execution_count": 6,
   "id": "74a7844b",
   "metadata": {},
   "outputs": [],
   "source": [
    "model = pinnacle(\n",
    "    svm.SVC(gamma='scale', class_weight='balanced', C=100, verbose=True),\n",
    "    postprocess=lambda x: int(x)\n",
    ")"
   ]
  },
  {
   "cell_type": "markdown",
   "id": "b8377634",
   "metadata": {},
   "source": [
    "Now let's fit the model. The optimization uses Scikit-Learn's inbuilt training procedures.\n",
    "Unlike in a standard `sklearn` use-case, we don't need to fetch the data client side. Instead, \n",
    "we simply name the fields in the MongoDB collection which we'd like to use."
   ]
  },
  {
   "cell_type": "code",
   "execution_count": 7,
   "id": "0aa7785f",
   "metadata": {
    "scrolled": false
   },
   "outputs": [
    {
     "name": "stderr",
     "output_type": "stream",
     "text": [
      "100%|█████████████████████████████████████████████████████████████████████████████████████████████████████████████████████████████████████████████████| 9500/9500 [00:00<00:00, 252304.14it/s]\n"
     ]
    },
    {
     "name": "stdout",
     "output_type": "stream",
     "text": [
      "[LibSVM]*\n",
      "optimization finished, #iter = 236\n",
      "obj = -23.399893, rho = -0.463885\n",
      "nSV = 105, nBSV = 0\n",
      "*\n",
      "optimization finished, #iter = 609\n",
      "obj = -81.768282, rho = 0.193953\n",
      "nSV = 242, nBSV = 0\n",
      "*\n",
      "optimization finished, #iter = 613\n",
      "obj = -67.032301, rho = 0.117926\n",
      "nSV = 230, nBSV = 0\n",
      "*\n",
      "optimization finished, #iter = 419\n",
      "obj = -46.100537, rho = -0.205733\n",
      "nSV = 166, nBSV = 0\n",
      "*\n",
      "optimization finished, #iter = 722\n",
      "obj = -88.213315, rho = 0.142346\n",
      "nSV = 265, nBSV = 0\n",
      "*\n",
      "optimization finished, #iter = 594\n",
      "obj = -88.259112, rho = -0.059735\n",
      "nSV = 214, nBSV = 0\n",
      "*\n",
      "optimization finished, #iter = 460\n",
      "obj = -49.869525, rho = -0.106536\n",
      "nSV = 177, nBSV = 0\n",
      "*\n",
      "optimization finished, #iter = 624\n",
      "obj = -72.297982, rho = -0.023123\n",
      "nSV = 237, nBSV = 0\n",
      "*\n",
      "optimization finished, #iter = 549\n",
      "obj = -71.066525, rho = -0.211969\n",
      "nSV = 210, nBSV = 0\n",
      "*\n",
      "optimization finished, #iter = 623\n",
      "obj = -130.642691, rho = 0.679970\n",
      "nSV = 179, nBSV = 0\n",
      "*\n",
      "optimization finished, #iter = 513\n",
      "obj = -100.402195, rho = 0.729825\n",
      "nSV = 166, nBSV = 0\n",
      "*\n",
      "optimization finished, #iter = 366\n",
      "obj = -76.815471, rho = -0.232166\n",
      "nSV = 119, nBSV = 0\n",
      "*\n",
      "optimization finished, #iter = 466\n",
      "obj = -73.481107, rho = 0.740973\n",
      "nSV = 162, nBSV = 0\n",
      "*\n",
      "optimization finished, #iter = 354\n",
      "obj = -50.619557, rho = 0.320112\n",
      "nSV = 120, nBSV = 0\n",
      "*\n",
      "optimization finished, #iter = 426\n",
      "obj = -97.402776, rho = 0.483406\n",
      "nSV = 127, nBSV = 0\n",
      "*\n",
      "optimization finished, #iter = 674\n",
      "obj = -137.611025, rho = -0.036765\n",
      "nSV = 205, nBSV = 0\n",
      "*\n",
      "optimization finished, #iter = 425\n",
      "obj = -92.897063, rho = 0.091861\n",
      "nSV = 135, nBSV = 0\n",
      "*.*\n",
      "optimization finished, #iter = 1076\n",
      "obj = -187.872868, rho = 0.047921\n",
      "nSV = 355, nBSV = 0\n",
      "*\n",
      "optimization finished, #iter = 730\n",
      "obj = -109.349533, rho = -0.628490\n",
      "nSV = 262, nBSV = 0\n",
      "*\n",
      "optimization finished, #iter = 847\n",
      "obj = -112.149631, rho = -0.018560\n",
      "nSV = 306, nBSV = 0\n",
      "*\n",
      "optimization finished, #iter = 859\n",
      "obj = -116.604584, rho = -0.473969\n",
      "nSV = 300, nBSV = 0\n",
      "*\n",
      "optimization finished, #iter = 778\n",
      "obj = -139.409042, rho = -0.289746\n",
      "nSV = 256, nBSV = 0\n",
      "*.*\n",
      "optimization finished, #iter = 1160\n",
      "obj = -199.849632, rho = -0.584646\n",
      "nSV = 380, nBSV = 0\n",
      "*\n",
      "optimization finished, #iter = 682\n",
      "obj = -102.984038, rho = -0.239461\n",
      "nSV = 249, nBSV = 0\n",
      "*\n",
      "optimization finished, #iter = 568\n",
      "obj = -81.326427, rho = -0.500078\n",
      "nSV = 216, nBSV = 0\n",
      "*.*\n",
      "optimization finished, #iter = 1394\n",
      "obj = -257.442716, rho = 0.312411\n",
      "nSV = 421, nBSV = 0\n",
      "*\n",
      "optimization finished, #iter = 499\n",
      "obj = -68.184486, rho = -0.270628\n",
      "nSV = 198, nBSV = 0\n",
      "*\n",
      "optimization finished, #iter = 882\n",
      "obj = -153.576979, rho = -0.160675\n",
      "nSV = 274, nBSV = 0\n",
      "*.*\n",
      "optimization finished, #iter = 1353\n",
      "obj = -235.610760, rho = -0.833026\n",
      "nSV = 425, nBSV = 0\n",
      "*\n",
      "optimization finished, #iter = 903\n",
      "obj = -166.085054, rho = -0.491879\n",
      "nSV = 304, nBSV = 0\n",
      "*\n",
      "optimization finished, #iter = 661\n",
      "obj = -98.822663, rho = 0.419743\n",
      "nSV = 243, nBSV = 0\n",
      "*\n",
      "optimization finished, #iter = 679\n",
      "obj = -93.413561, rho = 0.211596\n",
      "nSV = 240, nBSV = 0\n",
      "*\n",
      "optimization finished, #iter = 873\n",
      "obj = -151.040613, rho = 0.370125\n",
      "nSV = 270, nBSV = 0\n",
      "*\n",
      "optimization finished, #iter = 697\n",
      "obj = -102.448453, rho = 0.291621\n",
      "nSV = 241, nBSV = 0\n",
      ".*\n",
      "optimization finished, #iter = 1590\n",
      "obj = -345.479833, rho = 0.149803\n",
      "nSV = 394, nBSV = 0\n",
      "*\n",
      "optimization finished, #iter = 826\n",
      "obj = -144.714363, rho = -0.240353\n",
      "nSV = 260, nBSV = 0\n",
      "*\n",
      "optimization finished, #iter = 625\n",
      "obj = -80.227729, rho = -0.240458\n",
      "nSV = 227, nBSV = 0\n",
      "*.*\n",
      "optimization finished, #iter = 1205\n",
      "obj = -191.395584, rho = -0.728757\n",
      "nSV = 400, nBSV = 0\n",
      "*\n",
      "optimization finished, #iter = 799\n",
      "obj = -124.481392, rho = -0.442207\n",
      "nSV = 259, nBSV = 0\n",
      "*\n",
      "optimization finished, #iter = 399\n",
      "obj = -45.394417, rho = -0.013271\n",
      "nSV = 169, nBSV = 0\n",
      "*\n",
      "optimization finished, #iter = 774\n",
      "obj = -115.553214, rho = -0.046452\n",
      "nSV = 255, nBSV = 0\n",
      "*\n",
      "optimization finished, #iter = 445\n",
      "obj = -56.100180, rho = -0.047487\n",
      "nSV = 179, nBSV = 0\n",
      "*\n",
      "optimization finished, #iter = 657\n",
      "obj = -112.080630, rho = -0.030931\n",
      "nSV = 234, nBSV = 0\n",
      ".*\n",
      "optimization finished, #iter = 1562\n",
      "obj = -326.705780, rho = -0.371308\n",
      "nSV = 386, nBSV = 0\n",
      "*\n",
      "optimization finished, #iter = 924\n",
      "obj = -155.844350, rho = 0.049002\n",
      "nSV = 301, nBSV = 0\n",
      "Total nSV = 3597\n"
     ]
    },
    {
     "data": {
      "text/html": [
       "<style>#sk-container-id-1 {color: black;}#sk-container-id-1 pre{padding: 0;}#sk-container-id-1 div.sk-toggleable {background-color: white;}#sk-container-id-1 label.sk-toggleable__label {cursor: pointer;display: block;width: 100%;margin-bottom: 0;padding: 0.3em;box-sizing: border-box;text-align: center;}#sk-container-id-1 label.sk-toggleable__label-arrow:before {content: \"▸\";float: left;margin-right: 0.25em;color: #696969;}#sk-container-id-1 label.sk-toggleable__label-arrow:hover:before {color: black;}#sk-container-id-1 div.sk-estimator:hover label.sk-toggleable__label-arrow:before {color: black;}#sk-container-id-1 div.sk-toggleable__content {max-height: 0;max-width: 0;overflow: hidden;text-align: left;background-color: #f0f8ff;}#sk-container-id-1 div.sk-toggleable__content pre {margin: 0.2em;color: black;border-radius: 0.25em;background-color: #f0f8ff;}#sk-container-id-1 input.sk-toggleable__control:checked~div.sk-toggleable__content {max-height: 200px;max-width: 100%;overflow: auto;}#sk-container-id-1 input.sk-toggleable__control:checked~label.sk-toggleable__label-arrow:before {content: \"▾\";}#sk-container-id-1 div.sk-estimator input.sk-toggleable__control:checked~label.sk-toggleable__label {background-color: #d4ebff;}#sk-container-id-1 div.sk-label input.sk-toggleable__control:checked~label.sk-toggleable__label {background-color: #d4ebff;}#sk-container-id-1 input.sk-hidden--visually {border: 0;clip: rect(1px 1px 1px 1px);clip: rect(1px, 1px, 1px, 1px);height: 1px;margin: -1px;overflow: hidden;padding: 0;position: absolute;width: 1px;}#sk-container-id-1 div.sk-estimator {font-family: monospace;background-color: #f0f8ff;border: 1px dotted black;border-radius: 0.25em;box-sizing: border-box;margin-bottom: 0.5em;}#sk-container-id-1 div.sk-estimator:hover {background-color: #d4ebff;}#sk-container-id-1 div.sk-parallel-item::after {content: \"\";width: 100%;border-bottom: 1px solid gray;flex-grow: 1;}#sk-container-id-1 div.sk-label:hover label.sk-toggleable__label {background-color: #d4ebff;}#sk-container-id-1 div.sk-serial::before {content: \"\";position: absolute;border-left: 1px solid gray;box-sizing: border-box;top: 0;bottom: 0;left: 50%;z-index: 0;}#sk-container-id-1 div.sk-serial {display: flex;flex-direction: column;align-items: center;background-color: white;padding-right: 0.2em;padding-left: 0.2em;position: relative;}#sk-container-id-1 div.sk-item {position: relative;z-index: 1;}#sk-container-id-1 div.sk-parallel {display: flex;align-items: stretch;justify-content: center;background-color: white;position: relative;}#sk-container-id-1 div.sk-item::before, #sk-container-id-1 div.sk-parallel-item::before {content: \"\";position: absolute;border-left: 1px solid gray;box-sizing: border-box;top: 0;bottom: 0;left: 50%;z-index: -1;}#sk-container-id-1 div.sk-parallel-item {display: flex;flex-direction: column;z-index: 1;position: relative;background-color: white;}#sk-container-id-1 div.sk-parallel-item:first-child::after {align-self: flex-end;width: 50%;}#sk-container-id-1 div.sk-parallel-item:last-child::after {align-self: flex-start;width: 50%;}#sk-container-id-1 div.sk-parallel-item:only-child::after {width: 0;}#sk-container-id-1 div.sk-dashed-wrapped {border: 1px dashed gray;margin: 0 0.4em 0.5em 0.4em;box-sizing: border-box;padding-bottom: 0.4em;background-color: white;}#sk-container-id-1 div.sk-label label {font-family: monospace;font-weight: bold;display: inline-block;line-height: 1.2em;}#sk-container-id-1 div.sk-label-container {text-align: center;}#sk-container-id-1 div.sk-container {/* jupyter's `normalize.less` sets `[hidden] { display: none; }` but bootstrap.min.css set `[hidden] { display: none !important; }` so we also need the `!important` here to be able to override the default hidden behavior on the sphinx rendered scikit-learn.org. See: https://github.com/scikit-learn/scikit-learn/issues/21755 */display: inline-block !important;position: relative;}#sk-container-id-1 div.sk-text-repr-fallback {display: none;}</style><div id=\"sk-container-id-1\" class=\"sk-top-container\"><div class=\"sk-text-repr-fallback\"><pre>SVC(C=100, class_weight=&#x27;balanced&#x27;, verbose=True)</pre><b>In a Jupyter environment, please rerun this cell to show the HTML representation or trust the notebook. <br />On GitHub, the HTML representation is unable to render, please try loading this page with nbviewer.org.</b></div><div class=\"sk-container\" hidden><div class=\"sk-item\"><div class=\"sk-estimator sk-toggleable\"><input class=\"sk-toggleable__control sk-hidden--visually\" id=\"sk-estimator-id-1\" type=\"checkbox\" checked><label for=\"sk-estimator-id-1\" class=\"sk-toggleable__label sk-toggleable__label-arrow\">SVC</label><div class=\"sk-toggleable__content\"><pre>SVC(C=100, class_weight=&#x27;balanced&#x27;, verbose=True)</pre></div></div></div></div></div>"
      ],
      "text/plain": [
       "SVC(C=100, class_weight='balanced', verbose=True)"
      ]
     },
     "execution_count": 7,
     "metadata": {},
     "output_type": "execute_result"
    }
   ],
   "source": [
    "model.fit(X='img', y='class', db=db, select=collection.find())"
   ]
  },
  {
   "cell_type": "markdown",
   "id": "4fa908ad",
   "metadata": {},
   "source": [
    "Installed models and functionality can be viewed using `db.show`:"
   ]
  },
  {
   "cell_type": "code",
   "execution_count": 8,
   "id": "05f344fa",
   "metadata": {},
   "outputs": [
    {
     "data": {
      "text/plain": [
       "['svc']"
      ]
     },
     "execution_count": 8,
     "metadata": {},
     "output_type": "execute_result"
    }
   ],
   "source": [
    "db.show('model')"
   ]
  },
  {
   "cell_type": "markdown",
   "id": "115cdf62",
   "metadata": {},
   "source": [
    "The model may be reloaded in another session from the database. \n",
    "As with `.fit`, the model may be applied to data in the database with `.predict`:"
   ]
  },
  {
   "cell_type": "code",
   "execution_count": 9,
   "id": "29a21753",
   "metadata": {
    "scrolled": false
   },
   "outputs": [
    {
     "name": "stderr",
     "output_type": "stream",
     "text": [
      "WARNING:root:model/svc/0 already exists - doing nothing\n",
      "WARNING:root:model/svc/0 already exists - doing nothing\n",
      "WARNING:root:model/svc/0 already exists - doing nothing\n"
     ]
    },
    {
     "name": "stdout",
     "output_type": "stream",
     "text": [
      "Computing chunk 0/3\n"
     ]
    },
    {
     "name": "stderr",
     "output_type": "stream",
     "text": [
      "WARNING:root:model/svc/0 already exists - doing nothing\n"
     ]
    },
    {
     "name": "stdout",
     "output_type": "stream",
     "text": [
      "Computing chunk 1/3\n"
     ]
    },
    {
     "name": "stderr",
     "output_type": "stream",
     "text": [
      "WARNING:root:model/svc/0 already exists - doing nothing\n"
     ]
    },
    {
     "name": "stdout",
     "output_type": "stream",
     "text": [
      "Computing chunk 2/3\n"
     ]
    },
    {
     "name": "stderr",
     "output_type": "stream",
     "text": [
      "WARNING:root:model/svc/0 already exists - doing nothing\n"
     ]
    },
    {
     "name": "stdout",
     "output_type": "stream",
     "text": [
      "Computing chunk 3/3\n"
     ]
    }
   ],
   "source": [
    "m = db.load('model', 'svc')\n",
    "m.predict(X='img', db=db, select=collection.find(), max_chunk_size=3000)"
   ]
  },
  {
   "cell_type": "markdown",
   "id": "cbcbc44f",
   "metadata": {},
   "source": [
    "We can verify that the predictions make sense by fetching a few random data-points:"
   ]
  },
  {
   "cell_type": "code",
   "execution_count": 18,
   "id": "65da9f01",
   "metadata": {
    "scrolled": false
   },
   "outputs": [
    {
     "name": "stdout",
     "output_type": "stream",
     "text": [
      "0\n",
      "{'img': {'svc': 0}}\n"
     ]
    }
   ],
   "source": [
    "r = next(db.execute(collection.aggregate([{'$match': {'_fold': 'valid'}} ,{'$sample': {'size': 1}}])))\n",
    "print(r['class'])\n",
    "print(r['_outputs'])"
   ]
  }
 ],
 "metadata": {
  "kernelspec": {
   "display_name": "Python 3 (ipykernel)",
   "language": "python",
   "name": "python3"
  },
  "language_info": {
   "codemirror_mode": {
    "name": "ipython",
    "version": 3
   },
   "file_extension": ".py",
   "mimetype": "text/x-python",
   "name": "python",
   "nbconvert_exporter": "python",
   "pygments_lexer": "ipython3",
   "version": "3.11.3"
  }
 },
 "nbformat": 4,
 "nbformat_minor": 5
}
