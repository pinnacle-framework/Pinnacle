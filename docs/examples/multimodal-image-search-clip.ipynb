{
 "cells": [
  {
   "cell_type": "code",
   "execution_count": null,
   "id": "2b5ef986",
   "metadata": {},
   "outputs": [],
   "source": [
    "from CLIP import clip\n",
    "import pymongo\n",
    "from pinnacledb import pinnacle\n",
    "from pinnacledb.models.torch import TorchModel\n",
    "\n",
    "db = pymongo.MongoClient().my_db\n",
    "\n",
    "db = pinnacle(db)"
   ]
  },
  {
   "cell_type": "code",
   "execution_count": null,
   "id": "74f607e3",
   "metadata": {},
   "outputs": [],
   "source": [
    "from pinnacledb.types.pillow import pil_image as i\n",
    "\n",
    "\n",
    "db.add(\n",
    "    VectorIndex(\n",
    "        indexing_bind=Bind(\n",
    "            model=TorchModel(\n",
    "                identifier='clip_image',\n",
    "                preprocess=prepare_image,\n",
    "                encoder=i,\n",
    "            ),\n",
    "            key='img',\n",
    "        ),\n",
    "        compatible_binds=[\n",
    "            Bind(\n",
    "                model=TorchModel(\n",
    "                    identifier=identifier='clip_text',\n",
    "                    forward=clip.encode_text,\n",
    "                    preprocess=tokenize_text,\n",
    "                ),\n",
    "                key='text',\n",
    "                active=False,\n",
    "            )\n",
    "        ]\n",
    "    )\n",
    ")"
   ]
  },
  {
   "cell_type": "code",
   "execution_count": null,
   "id": "ab994b5e",
   "metadata": {},
   "outputs": [],
   "source": [
    "db.execute(\n",
    "    Collection('images').like({'text': 'a red hat'})\n",
    ")"
   ]
  },
  {
   "cell_type": "code",
   "execution_count": null,
   "id": "72ef5239",
   "metadata": {},
   "outputs": [],
   "source": [
    "from IPython.display import display\n",
    "\n",
    "image = i(PIL.Image.open('image.jpg'))\n",
    "\n",
    "for r in db.execute(\n",
    "    Collection('images').like({'img': image}, n=3)\n",
    "):\n",
    "    display(r['img'])"
   ]
  }
 ],
 "metadata": {
  "kernelspec": {
   "display_name": "Python 3 (ipykernel)",
   "language": "python",
   "name": "python3"
  },
  "language_info": {
   "codemirror_mode": {
    "name": "ipython",
    "version": 3
   },
   "file_extension": ".py",
   "mimetype": "text/x-python",
   "name": "python",
   "nbconvert_exporter": "python",
   "pygments_lexer": "ipython3",
   "version": "3.8.16"
  }
 },
 "nbformat": 4,
 "nbformat_minor": 5
}
