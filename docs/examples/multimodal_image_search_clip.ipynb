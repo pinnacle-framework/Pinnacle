{
 "cells": [
  {
   "cell_type": "markdown",
   "id": "238520e0",
   "metadata": {},
   "source": [
    "# Multimodal search with CLIP"
   ]
  },
  {
   "cell_type": "markdown",
   "id": "a3590f0e",
   "metadata": {},
   "source": [
    "In this notebook we show-case SuperDuperDB's functionality for searching with multiple types of data over\n",
    "the same `VectorIndex`. This comes out very naturally, due to the fact that SuperDuperDB allows\n",
    "users and developers to add arbitrary models to SuperDuperDB, and (assuming they output vectors) use\n",
    "these models at search/ inference time, to vectorize diverse queries.\n",
    "\n",
    "To this end, we'll be using the [CLIP multimodal architecture](https://openai.com/research/clip)."
   ]
  },
  {
   "cell_type": "code",
   "execution_count": null,
   "id": "5ebe1497",
   "metadata": {},
   "outputs": [],
   "source": [
    "!pip install https://github.com/openai/CLIP"
   ]
  },
  {
   "cell_type": "markdown",
   "id": "b2f94ae8",
   "metadata": {},
   "source": [
    "So let's start. \n",
    "\n",
    "SuperDuperDB supports MongoDB as a databackend. Correspondingly, we'll import the python MongoDB client `pymongo`\n",
    "and \"wrap\" our database to convert it to a SuperDuper `Datalayer`:"
   ]
  },
  {
   "cell_type": "code",
   "execution_count": 1,
   "id": "2b5ef986",
   "metadata": {},
   "outputs": [
    {
     "name": "stderr",
     "output_type": "stream",
     "text": [
      "INFO:faiss.loader:Loading faiss.\n",
      "INFO:faiss.loader:Successfully loaded faiss.\n",
      "INFO:numexpr.utils:NumExpr defaulting to 8 threads.\n"
     ]
    }
   ],
   "source": [
    "import clip\n",
    "import pymongo\n",
    "from pinnacledb.misc.pinnacle import pinnacle\n",
    "from pinnacledb.ext.torch.model import TorchModel\n",
    "from pinnacledb.ext.pillow.image import pil_image as i\n",
    "from pinnacledb.db.mongodb.query import Collection\n",
    "from pinnacledb.container.document import Document as D\n",
    "from IPython.display import display\n",
    "\n",
    "pymongo.MongoClient().drop_database('documents')\n",
    "pymongo.MongoClient().drop_database('_filesystem:documents')\n",
    "\n",
    "db = pymongo.MongoClient().documents\n",
    "db = pinnacle(db)\n",
    "\n",
    "collection = Collection(name='tiny-imagenet')"
   ]
  },
  {
   "cell_type": "code",
   "execution_count": 2,
   "id": "04eb84bc",
   "metadata": {},
   "outputs": [],
   "source": [
    "db.db.client.drop_database('documents')\n",
    "db.db.client.drop_database('_filesystem:documents')"
   ]
  },
  {
   "cell_type": "markdown",
   "id": "6cd6d6b0",
   "metadata": {},
   "source": [
    "In order to make this notebook easy to execute an play with, we'll use a sub-sample of the [Tiny-Imagenet\n",
    "dataset](https://paperswithcode.com/dataset/tiny-imagenet). \n",
    "\n",
    "Everything we are doing here generalizes to much larger datasets, with higher resolution images, without\n",
    "further ado. For such use-cases, however, it's advisable to use a machine with a GPU, otherwise they'll \n",
    "be some significant thumb twiddling to do."
   ]
  },
  {
   "cell_type": "markdown",
   "id": "d29386a5",
   "metadata": {},
   "source": [
    "To get the images into the database, we use the `Encoder`-`Document` framework. This allows\n",
    "us to save Python class instances as blobs in the `Datalayer`, but retrieve them as Python objects.\n",
    "This makes it far easier to integrate Python AI-models with the datalayer.\n",
    "\n",
    "To this end, SuperDuperDB contains pre-configured support for `PIL.Image` instances. It's also \n",
    "possible to create your own encoders."
   ]
  },
  {
   "cell_type": "code",
   "execution_count": 3,
   "id": "aaa0a06a",
   "metadata": {},
   "outputs": [
    {
     "name": "stderr",
     "output_type": "stream",
     "text": [
      "WARNING:datasets.builder:Found cached dataset parquet (/Users/dodo/.cache/huggingface/datasets/zh-plus___parquet/Maysee--tiny-imagenet-2eb6c3acd8ebc62a/0.0.0/14a00e99c0d15a23649d0db8944380ac81082d4b021f398733dd84f3a6c569a7)\n"
     ]
    },
    {
     "data": {
      "application/vnd.jupyter.widget-view+json": {
       "model_id": "e483190449704cd68cec53d80164a248",
       "version_major": 2,
       "version_minor": 0
      },
      "text/plain": [
       "  0%|          | 0/2 [00:00<?, ?it/s]"
      ]
     },
     "metadata": {},
     "output_type": "display_data"
    }
   ],
   "source": [
    "from pinnacledb.container.document import Document as D\n",
    "from pinnacledb.ext.pillow.image import pil_image as i\n",
    "from datasets import load_dataset\n",
    "import random\n",
    "\n",
    "dataset = load_dataset(\"zh-plus/tiny-imagenet\")['valid']\n",
    "dataset = [D({'image': i(r['image'])}) for r in dataset]\n",
    "dataset = random.sample(dataset, 1000)"
   ]
  },
  {
   "cell_type": "markdown",
   "id": "c9c7e282",
   "metadata": {},
   "source": [
    "The wrapped python dictionaries may be inserted directly to the `Datalayer`:"
   ]
  },
  {
   "cell_type": "code",
   "execution_count": 4,
   "id": "c32a91a5",
   "metadata": {
    "scrolled": false
   },
   "outputs": [
    {
     "name": "stderr",
     "output_type": "stream",
     "text": [
      "INFO:root:found 0 uris\n"
     ]
    },
    {
     "data": {
      "text/plain": [
       "(<pymongo.results.InsertManyResult at 0x19c017970>,\n",
       " TaskWorkflow(database=<pinnacledb.db.base.datalayer.Datalayer object at 0x180d09150>, G=<networkx.classes.digraph.DiGraph object at 0x19d175550>))"
      ]
     },
     "execution_count": 4,
     "metadata": {},
     "output_type": "execute_result"
    }
   ],
   "source": [
    "db.execute(collection.insert_many(dataset, encoders=(i,)))"
   ]
  },
  {
   "cell_type": "markdown",
   "id": "10d37264",
   "metadata": {},
   "source": [
    "We can verify that the images are correctly stored:"
   ]
  },
  {
   "cell_type": "code",
   "execution_count": 5,
   "id": "7282a0fe",
   "metadata": {},
   "outputs": [
    {
     "data": {
      "image/jpeg": "[encoded data removed]",
      "image/png": "[encoded data removed]",
      "text/plain": [
       "<PIL.PngImagePlugin.PngImageFile image mode=RGB size=64x64>"
      ]
     },
     "execution_count": 5,
     "metadata": {},
     "output_type": "execute_result"
    }
   ],
   "source": [
    "x = db.execute(collection.find_one())['image'].x\n",
    "x"
   ]
  },
  {
   "cell_type": "markdown",
   "id": "dab27b50",
   "metadata": {},
   "source": [
    "We now can wrap the CLIP model, to ready it for multimodel search. It involves 2 components:\n",
    "\n",
    "- text-encoding\n",
    "- visual-encoding\n",
    "\n",
    "Once we have installed both parts, we will be able to search with both images and text for \n",
    "matching items:"
   ]
  },
  {
   "cell_type": "code",
   "execution_count": 6,
   "id": "916792d3",
   "metadata": {},
   "outputs": [],
   "source": [
    "from pinnacledb.ext.torch.tensor import tensor\n",
    "import torch\n",
    "\n",
    "t = tensor(torch.float, shape=(512,))\n",
    "\n",
    "model, preprocess = clip.load(\"ViT-B/32\", device='cpu')\n",
    "\n",
    "text_model = TorchModel(\n",
    "    identifier='clip_text',\n",
    "    object=model,\n",
    "    preprocess=lambda x: clip.tokenize(x)[0],\n",
    "    forward_method='encode_text',\n",
    "    encoder=t\n",
    ")"
   ]
  },
  {
   "cell_type": "markdown",
   "id": "6140d056",
   "metadata": {},
   "source": [
    "Let's verify this works:"
   ]
  },
  {
   "cell_type": "code",
   "execution_count": 7,
   "id": "5ae02683",
   "metadata": {},
   "outputs": [
    {
     "data": {
      "text/plain": [
       "tensor([ 1.5430e-01,  8.3419e-02, -8.6218e-02, -2.4812e-01, -9.0193e-02,\n",
       "        -1.7874e-01,  7.9648e-02, -1.4377e+00,  9.5243e-02,  2.9510e-01,\n",
       "         4.2066e-03,  2.5638e-01, -2.1601e-02,  1.5735e-02,  1.9318e-01,\n",
       "        -1.6119e-01,  3.6999e-01,  2.2594e-02, -5.7204e-02, -1.9817e-01,\n",
       "        -7.5301e-03, -3.2254e-01,  2.7348e-01, -3.5396e-01, -1.9037e-01,\n",
       "         1.0515e-01, -2.4183e-02,  1.0074e-01, -8.8070e-02,  2.6366e-02,\n",
       "        -2.7968e-01, -2.9460e-01,  2.1931e-02,  1.1822e-01,  8.7239e-02,\n",
       "         1.1945e-01, -6.0540e-04, -1.0101e-01, -1.0430e-01, -2.0626e-01,\n",
       "        -1.3790e-01, -3.9173e-02,  7.5546e-03,  1.3866e-01, -1.1169e-01,\n",
       "         1.1691e-01, -1.8521e-01,  2.9997e-02,  1.0280e-01,  1.1497e-01,\n",
       "        -1.0389e-01,  5.0075e-02,  3.1277e-01, -1.7357e-01,  4.6908e-02,\n",
       "        -9.6962e-02,  7.7737e-02,  4.9121e-03, -2.9044e-01, -3.6215e-02,\n",
       "         3.3161e-01,  4.0403e-02, -3.6717e-02,  3.3114e-02,  1.3841e-01,\n",
       "         1.1665e-01, -1.8533e-01,  1.4537e-01,  1.7915e-01,  6.0204e-02,\n",
       "         1.8797e-01, -4.3545e-02, -2.5759e-01,  2.5922e-01, -3.2504e-01,\n",
       "        -7.3698e-02, -1.3032e-01, -2.1270e-02, -9.7008e-02, -1.5535e-01,\n",
       "        -1.8003e-01, -2.3091e-01, -7.8064e-02,  2.2982e-01,  3.5198e-02,\n",
       "         2.6405e-01,  1.8695e-01, -2.9914e-01,  4.2318e-01, -2.0545e-03,\n",
       "         1.1283e-01, -1.5321e-02, -2.2041e+00,  3.1780e-01,  1.7714e-01,\n",
       "         1.4387e-01, -2.9230e-01,  7.1942e-02,  1.3914e-01, -2.8608e-01,\n",
       "         1.8457e-01, -1.0049e-01,  9.6526e-02,  2.8571e-01,  6.4735e-02,\n",
       "         2.3305e-02, -3.9703e-02, -7.9729e-02, -8.2035e-02,  2.5785e-02,\n",
       "         1.9965e-02,  4.4991e-01,  2.9948e-02, -1.7797e-02, -1.7955e-02,\n",
       "        -6.9631e-02,  2.1176e-01, -2.4720e-01, -2.2326e-01,  1.1205e-03,\n",
       "         1.1491e-01,  2.9441e-02, -1.3374e-01, -1.6872e-01,  1.1021e-01,\n",
       "        -1.3817e-01,  1.2030e-01,  3.4527e-01,  8.1909e-02,  2.3871e-01,\n",
       "         2.2229e-01, -1.8966e-01, -2.3539e-01,  8.6902e+00,  1.9549e-01,\n",
       "         2.1512e-01, -4.9882e-02, -1.1429e-01, -2.2483e-01,  9.4593e-02,\n",
       "        -7.6711e-02, -9.9087e-02, -6.9110e-02, -1.3233e-01, -3.2581e-01,\n",
       "         2.7050e-02, -2.4327e-01,  1.1758e-01, -1.4014e-01,  1.9817e-01,\n",
       "         8.2303e-02, -1.7757e-01, -3.3040e-02, -9.2580e-02,  2.0600e-01,\n",
       "        -1.3096e-01, -1.4063e-01,  8.7542e-02, -3.2586e-01,  1.9357e-01,\n",
       "        -2.0348e-01, -3.4610e-01, -7.7105e-02, -4.6517e-02, -2.5897e-01,\n",
       "         4.9247e-02,  2.1851e-01, -1.3462e-01,  8.5325e-02,  1.0842e-01,\n",
       "         1.2020e-01, -4.1831e-02,  9.5542e-02,  2.7893e-01, -2.4965e-01,\n",
       "         9.1718e-02, -1.4164e-01,  3.3395e-01,  1.2548e-01,  4.3229e-02,\n",
       "        -7.5975e-02,  1.6848e-01, -6.9536e-02,  1.2126e-01, -1.4141e-01,\n",
       "         1.1193e-01,  1.5343e-01, -9.1195e-03, -3.5644e-01, -4.9832e-02,\n",
       "         2.1788e-02, -2.5872e-01,  1.0919e-01,  2.7183e-03,  1.9120e-01,\n",
       "        -1.4926e-01,  3.6027e-02, -1.0323e-01, -2.1820e-01,  6.5567e-02,\n",
       "         3.0641e-02, -3.5111e-01, -1.7972e-01,  1.1709e-01, -1.1321e-01,\n",
       "        -1.9422e-01, -1.3823e-02, -1.1502e-01,  1.2422e-01,  2.2445e-02,\n",
       "         1.4535e-01,  1.8312e-01, -8.5592e-02, -2.4161e-01, -2.3021e-01,\n",
       "         9.0205e-02, -3.6267e-01, -7.6290e-02,  2.8521e-01,  6.8043e-02,\n",
       "        -1.6620e-02, -1.3670e-01, -5.1179e-02,  7.4036e-02, -9.4656e-02,\n",
       "        -2.9560e-03,  7.2101e-02, -1.3797e-02, -7.3376e-02,  1.3650e-03,\n",
       "         2.2423e-01,  2.5347e-01, -2.9496e-01,  1.7042e-02,  1.9483e-01,\n",
       "         4.0727e-02, -1.8151e-01,  6.8319e-02, -1.1627e-01,  1.3987e-01,\n",
       "        -1.2464e-01,  1.6415e-01,  1.1659e-01, -2.9262e-01, -1.3138e-01,\n",
       "         2.8386e-01,  1.3536e-02,  1.7893e-02,  1.2224e-01, -8.3474e-02,\n",
       "        -1.8547e-01,  1.3922e-01, -6.6026e-02,  1.8780e-01,  9.8017e-02,\n",
       "         2.2783e-01,  1.8879e-01, -1.1789e-01,  8.7848e-02,  9.5320e-02,\n",
       "        -1.3631e-01, -1.2319e-01, -5.0855e-02,  1.7521e-01, -8.8600e-03,\n",
       "        -2.1211e-01, -1.6603e-01, -9.1632e-02, -1.8940e-01,  1.2483e-01,\n",
       "        -3.4137e-01,  1.7253e-01, -4.0481e-03, -2.5831e-01,  3.4354e-01,\n",
       "         7.2386e-02,  6.4229e-02, -1.0345e-01,  8.1469e-02,  1.2823e-01,\n",
       "         3.0450e-01,  1.2546e-02,  9.2171e-02,  7.6265e-02,  1.9233e-01,\n",
       "         2.5052e-02,  1.6779e-01, -1.1386e-01, -1.2343e-01,  2.1583e-01,\n",
       "         5.1995e-02, -1.1094e-01, -1.3655e-01, -2.2207e-02, -4.0817e-02,\n",
       "        -1.5961e-01, -2.5930e-01, -3.9237e-02,  1.4823e-01,  1.7264e-01,\n",
       "        -1.0340e-01, -7.3079e-02,  5.3891e-03,  4.6488e-02, -5.2854e-02,\n",
       "         2.3029e-01,  1.3836e-01, -2.3104e-01,  5.1622e-02, -2.5691e-02,\n",
       "        -7.3428e-02, -2.0090e-01,  8.6826e+00, -1.3597e-02, -1.5189e-01,\n",
       "        -2.2824e-02,  1.5231e-01, -1.7320e-01, -6.9214e-02,  1.3925e-02,\n",
       "         3.7048e-01,  6.3549e-01, -1.1657e-01,  2.5321e-01, -3.9477e-01,\n",
       "         2.1688e-02,  4.9023e-02, -1.9004e-01,  1.0255e-01, -3.4117e+00,\n",
       "        -1.6342e-02,  1.7833e-01, -2.9475e-03,  2.0511e-01,  2.2709e-02,\n",
       "        -1.5878e-01,  4.0416e-01,  2.8988e-01,  1.8286e-01, -8.9414e-02,\n",
       "         1.9508e-01, -2.8454e-01, -3.6217e-01, -2.0818e-01,  1.3445e-01,\n",
       "         1.0488e-01,  1.0607e-01, -4.8979e-02,  3.1894e-01,  4.3417e-02,\n",
       "        -9.3009e-02, -1.1065e-01,  6.5195e-02,  1.7126e-01,  6.9774e-03,\n",
       "         4.1325e-01,  2.0223e-01,  1.0159e-01, -2.1640e-03,  1.3869e-01,\n",
       "        -2.3206e-01,  1.6523e-02,  4.7522e-01,  3.5994e-01, -4.1203e-01,\n",
       "        -3.4080e-02, -1.8557e-01,  2.1812e-01, -1.1671e-01, -1.9644e-01,\n",
       "         3.0313e-02,  7.6663e-02, -1.4767e-01,  3.0242e-01, -3.8838e-01,\n",
       "         1.2630e-01,  8.6431e-04, -2.1858e-01, -3.0865e-01, -8.5571e-02,\n",
       "         4.7795e-03, -1.4999e-01,  1.9752e-02,  1.9733e-01,  8.4233e-02,\n",
       "        -1.1645e-01, -1.5909e-01, -4.3137e-02, -1.8891e-03, -1.1042e-01,\n",
       "        -8.6980e-02, -2.1983e-01, -2.5741e-02,  6.9247e-02, -1.7009e-01,\n",
       "         2.6890e-01, -3.8613e-01, -2.2737e-01,  7.8148e-02, -4.8904e-02,\n",
       "        -1.5376e-01, -1.6890e-01,  9.6796e-02, -9.0670e-02, -1.9516e-02,\n",
       "         1.0524e-01,  1.8782e-01,  3.2854e-02,  1.2531e-01, -1.3895e-02,\n",
       "        -1.0850e-02,  7.8530e-02,  1.2075e-01,  1.0289e-01,  9.0531e-02,\n",
       "        -1.0503e-01, -1.5543e-02, -1.0592e-01, -5.9506e-02,  4.2483e-01,\n",
       "        -3.3485e-01, -1.1832e-01, -1.0529e-01,  1.4116e-01,  7.1301e-02,\n",
       "         2.0267e-01,  1.3006e-01, -4.7153e-02, -1.9340e-01,  9.9480e-02,\n",
       "         3.2894e-01, -1.5424e-01, -2.4012e-01, -1.7370e-01,  1.0893e-02,\n",
       "         3.6016e-03, -1.7056e-01, -4.7541e-02,  9.2827e-02, -1.1986e-01,\n",
       "         9.8331e-03,  1.3779e-02, -1.0578e-01, -1.5484e-04, -1.4863e-02,\n",
       "         8.7218e-02, -1.3129e-01, -1.6176e-01,  1.8377e-01, -3.2393e-01,\n",
       "        -6.3812e-02,  1.1426e-01, -3.7811e-01,  1.4901e-01,  1.6303e-01,\n",
       "        -8.0644e-02, -2.5431e-02,  1.3871e-01, -2.2643e-01, -9.5727e-02,\n",
       "        -3.8660e-02, -1.0742e-01, -2.5748e-01,  3.4330e-03,  1.8189e-01,\n",
       "        -4.2146e-02,  9.7470e-03,  4.0985e-02, -1.6121e-01,  1.8116e-01,\n",
       "         9.7044e-02,  1.7077e-01,  4.1108e-01, -3.9961e-01,  3.8703e-02,\n",
       "         8.6714e-02,  2.4180e-01,  1.3050e-01, -2.0577e-01,  2.3869e-01,\n",
       "         7.2552e-02, -9.9135e-01, -2.5906e-02,  3.1244e-01, -9.2438e-02,\n",
       "        -3.2326e-02,  2.2206e-01,  3.5055e-01,  2.9333e-01, -5.4146e-02,\n",
       "        -1.0362e-01,  2.1373e-02,  5.3769e-02, -1.9133e-01,  3.8762e-02,\n",
       "        -1.2608e-01,  2.3885e-01, -2.3160e-01,  3.1447e-01,  2.7911e-01,\n",
       "        -3.7622e-02, -2.3407e-01,  4.1729e-02,  5.6719e-02, -1.3126e-02,\n",
       "         1.8311e-01,  6.9699e-03,  1.2088e-01, -2.6926e-01, -4.1645e-02,\n",
       "         6.8667e-02,  3.4110e-01])"
      ]
     },
     "execution_count": 7,
     "metadata": {},
     "output_type": "execute_result"
    }
   ],
   "source": [
    "text_model.predict('this is a test', one=True)"
   ]
  },
  {
   "cell_type": "markdown",
   "id": "1cbb08cc",
   "metadata": {},
   "source": [
    "Similar procedure with the visual part, which takes `PIL.Image` instances as inputs."
   ]
  },
  {
   "cell_type": "code",
   "execution_count": 8,
   "id": "fc0f0cc2",
   "metadata": {},
   "outputs": [],
   "source": [
    "visual_model = TorchModel(\n",
    "    identifier='clip_image',\n",
    "    preprocess=preprocess,\n",
    "    object=model.visual,\n",
    "    encoder=t,\n",
    ")"
   ]
  },
  {
   "cell_type": "code",
   "execution_count": 9,
   "id": "9e3a7685",
   "metadata": {},
   "outputs": [
    {
     "data": {
      "text/plain": [
       "tensor([ 5.2043e-01,  1.0270e-01, -1.6637e-01, -8.1837e-02,  3.2631e-01,\n",
       "        -2.6725e-01,  2.0737e-01,  1.0318e-01,  3.0355e-01,  1.2646e-01,\n",
       "         5.8931e-01,  1.4478e-01,  6.9098e-01, -9.3980e-03,  8.9068e-03,\n",
       "         2.3743e-01,  1.5705e+00, -8.6127e-02,  4.4043e-01, -4.5310e-01,\n",
       "         1.0495e-01, -2.2952e-02, -3.7425e-01, -4.2250e-01,  8.5663e-02,\n",
       "        -1.0094e-01,  2.4356e-01, -6.8332e-02, -1.2649e-01, -3.8987e-02,\n",
       "         5.7936e-01,  1.3255e-01,  2.0159e-01, -4.2401e-01, -6.1544e-01,\n",
       "        -1.0422e-01,  4.1886e-01, -9.7044e-02, -7.5444e-01,  7.2815e-01,\n",
       "         2.4978e-01, -2.8653e-01,  7.2046e-02, -5.9999e-01, -1.1457e-01,\n",
       "         2.7741e-01, -2.2757e-01,  3.0143e-01,  1.1462e+00, -1.1495e-01,\n",
       "         6.0567e-01,  9.0946e-02, -2.0426e-01,  6.4193e-01, -4.1416e-01,\n",
       "        -1.5787e-02,  3.4258e-01, -9.8345e-02, -2.9025e-02,  2.5182e-01,\n",
       "         6.9864e-01,  3.0304e-01,  1.9787e-01,  1.3170e-01, -4.8386e-01,\n",
       "        -2.9302e-02, -2.6883e-01,  2.8705e-01,  4.6506e-03, -3.9729e-01,\n",
       "         2.6592e-01,  2.4182e-01, -9.9646e-02, -8.5781e-02,  3.0459e-01,\n",
       "         2.3845e-01, -4.1076e-01,  8.5917e-03, -4.2949e-01, -6.9942e-02,\n",
       "        -5.7742e-02, -1.4210e-01, -6.8452e-02, -4.4095e-01,  8.6563e-02,\n",
       "         4.4297e-01,  2.7294e-01, -1.7308e-01,  9.9363e-03, -4.7150e-03,\n",
       "         3.4675e-02, -2.8236e-01, -7.7049e+00, -6.7875e-01, -9.2095e-03,\n",
       "        -3.1008e-01, -5.9420e-02, -9.8375e-02, -3.6295e-01, -3.0918e-01,\n",
       "         9.3728e-02, -1.2141e-01, -4.6723e-02, -2.0575e-01,  3.0775e-01,\n",
       "        -2.5328e-02,  3.2713e-01,  1.6308e-01, -1.4241e-01,  1.7345e-01,\n",
       "        -6.4495e-02, -7.9419e-01, -2.4058e-01, -2.7438e-01, -5.0997e-02,\n",
       "         8.9183e-03, -3.5550e-01,  1.6207e-01, -8.6958e-02, -4.0395e-01,\n",
       "        -4.0108e-01, -7.7567e-01,  2.8215e-01,  2.7076e-01, -9.2418e-02,\n",
       "        -1.0691e-01,  1.3324e-01, -1.8826e-01,  8.1195e-02,  7.6479e-01,\n",
       "         2.1736e-01, -2.8250e-01,  1.5874e-01,  1.0206e+00,  2.8367e-01,\n",
       "         4.2291e-01, -6.1429e-02, -4.0170e-01, -1.7999e-01,  1.7976e-02,\n",
       "         2.8775e-01, -1.4657e-01, -4.9409e-01,  3.9979e-02,  6.3923e-01,\n",
       "         6.7586e-01,  2.1174e-01,  8.8374e-02,  1.1027e-01,  4.7839e-01,\n",
       "         2.3311e-01,  2.1430e-02,  3.1939e-01, -3.0402e-02,  1.1772e-01,\n",
       "        -2.3702e-01, -5.0479e-01, -2.0233e-01, -3.6697e-01, -5.6763e-01,\n",
       "        -1.7716e-01, -1.1769e-01, -2.4231e-02,  2.0823e-02,  8.5667e-02,\n",
       "        -1.4363e-01, -5.8685e-01, -1.6483e-01,  2.4170e-01, -3.4638e-01,\n",
       "         9.4647e-02, -1.7089e-01,  3.8964e-01, -1.2506e-01,  2.6027e-01,\n",
       "        -3.6898e-02,  8.7146e-01,  5.3923e-02,  4.2357e-01, -1.4642e-01,\n",
       "         3.0427e-01, -8.2046e-01,  4.7762e-02,  1.7018e-01, -2.5758e-01,\n",
       "        -1.4337e-01,  1.6607e-01,  3.0017e-01, -5.1940e-01,  1.6882e-02,\n",
       "        -6.1494e-02,  2.6329e-01, -2.1460e-01, -5.4930e-02,  4.9587e-01,\n",
       "        -1.6672e-01, -3.3750e-01,  1.6399e-01, -2.0128e-01, -2.1622e-01,\n",
       "         7.7859e-02, -2.5464e-01, -1.7430e-01,  4.8908e-01, -7.9398e-02,\n",
       "         1.2556e-01, -1.1006e-01,  7.0662e-02,  1.3133e-01, -2.4822e-01,\n",
       "         3.0470e-01, -9.6742e-03, -1.5570e-01, -5.1219e-01, -1.8065e-01,\n",
       "         4.9565e-01, -3.9759e-01, -7.8182e-02,  3.4226e-01,  5.6375e-01,\n",
       "         8.2249e-01,  8.4449e-03,  3.5240e-01, -2.4883e-01, -6.9398e-02,\n",
       "         1.2823e-01,  7.2424e-02,  1.7559e-01, -2.3274e-01,  3.9789e-01,\n",
       "         1.8955e-01, -1.4328e-01, -2.5565e-01,  3.3113e-01, -1.0708e-01,\n",
       "        -3.1915e-01, -4.2630e-01, -3.5690e-02, -1.4301e-01, -1.0457e-01,\n",
       "        -3.3611e-01,  7.9735e-02, -1.4091e-01, -1.2516e-01, -3.1923e-02,\n",
       "        -3.2823e-02, -2.2458e-01, -6.3076e-02,  3.6995e-01,  2.8176e-01,\n",
       "         3.6368e-02, -2.3178e-01,  2.5762e-01, -1.0009e-01,  1.1629e-01,\n",
       "        -3.8728e-01, -3.0994e-01, -4.4661e-01,  1.9424e-01, -5.0435e-01,\n",
       "        -9.5055e-02, -1.7480e-01, -4.5609e-03, -9.6096e-01,  7.5567e-02,\n",
       "         1.4366e-01, -1.4216e-01,  3.2789e-01,  3.6393e-01, -2.8656e-01,\n",
       "         2.5672e-01, -1.5015e-01,  2.9255e-01,  3.9714e-02, -3.9688e-01,\n",
       "         3.8204e-01,  2.1343e-01, -1.2429e-01,  1.1177e-01,  2.4638e-01,\n",
       "         5.0654e-02, -2.1971e-01,  4.4101e-01,  1.2245e-01,  5.6431e-03,\n",
       "         2.1694e-01, -1.8994e+00, -2.3817e-01, -4.6117e-01, -5.2608e-02,\n",
       "         8.2060e-02,  4.1634e-01, -2.3456e-01,  3.6350e-01, -3.5872e-02,\n",
       "         2.2057e-01, -1.8263e-01, -1.0634e-01, -4.8772e-01, -2.3250e-01,\n",
       "         1.3905e-01, -1.9761e-01,  6.9617e-02,  3.4697e-01, -4.6648e-01,\n",
       "         3.8312e-01,  1.0990e-01,  1.9366e-02,  1.1109e-01, -1.2089e-01,\n",
       "        -1.3057e-01, -7.3598e-02,  1.0189e+00, -7.2923e-01,  5.5823e-02,\n",
       "         7.5155e-02, -1.1468e-01,  5.1238e-02, -2.1271e-02, -5.7362e-01,\n",
       "         2.6511e-01, -6.9415e-01, -2.0212e-01, -1.9767e-01, -4.5495e-01,\n",
       "        -1.5121e-01,  2.4962e-01,  1.7809e-01,  6.6892e-02,  3.4794e-01,\n",
       "         2.5365e-01, -3.6826e-02,  2.4430e-01, -1.3132e-01,  2.4994e-01,\n",
       "        -1.6343e-01, -6.0497e-01,  4.4104e-01, -3.2381e-01,  2.0893e-01,\n",
       "         1.9625e-01,  6.0299e-01,  3.4932e-02,  1.9551e-01, -2.4912e-01,\n",
       "         1.2946e-01,  3.6292e-02, -1.4854e-01, -2.4644e-01,  8.9326e-02,\n",
       "        -3.6044e-01, -6.0391e-01,  4.4972e-01, -1.8232e-01,  4.0813e-01,\n",
       "         3.5689e-01, -2.0773e-01, -6.5020e-01, -5.6656e-01,  1.0765e-01,\n",
       "         3.2097e-02,  1.6828e-01,  3.6281e-01,  3.4877e-01, -2.4133e+00,\n",
       "        -1.7196e-01,  1.4687e-02, -5.2841e-01,  5.3918e-01, -7.5690e-02,\n",
       "        -1.6678e-01, -1.0765e-01,  3.6021e-01, -1.4365e-01, -2.7506e-01,\n",
       "         1.0703e-01,  9.1032e-01,  6.9684e-01, -3.7312e-01,  3.2577e-01,\n",
       "         4.1614e-01, -8.1021e-02,  5.5326e-03,  4.7800e-01, -7.6452e-02,\n",
       "        -1.2861e-01,  3.2984e-01,  3.0901e-01, -1.2665e-01,  2.5486e-01,\n",
       "        -1.2084e+00, -6.1989e-01, -2.3662e-01, -6.0640e-01, -1.2559e-01,\n",
       "        -3.3259e-02, -5.0984e-01,  1.1171e-01,  4.0964e-01, -4.1515e-01,\n",
       "        -5.0377e-02,  1.5615e-01,  7.1897e-01, -2.7337e-01, -4.4681e-01,\n",
       "        -3.6847e-02, -5.4025e-02, -4.0479e-01, -1.4840e-01,  2.6860e-02,\n",
       "        -1.1935e-01,  8.2590e-02,  3.5941e-02,  1.9629e-01, -2.9638e-01,\n",
       "         1.5240e-01, -2.5916e-01, -4.1646e-01, -6.1289e-01,  3.0332e-01,\n",
       "         2.1863e-01, -2.0323e-01, -2.1015e-01, -2.2593e-01, -3.7489e-01,\n",
       "         4.1443e-01,  2.6238e-01,  9.0965e-02,  2.3196e-01, -3.4367e-01,\n",
       "        -2.3273e-03, -6.8074e-02,  1.0193e+00,  3.3743e-01,  1.6696e-01,\n",
       "        -4.5843e-01,  3.1387e-01,  1.3447e-01,  3.3660e-01, -3.3425e-01,\n",
       "        -1.9491e-01,  4.1344e-01,  2.3361e-01, -8.6692e-02, -2.3585e-01,\n",
       "         4.3066e-03, -7.0990e-02,  7.0694e-02,  3.0442e-01, -2.1683e-01,\n",
       "        -4.6527e-01, -5.3054e-01, -6.8842e-01,  2.6993e-01, -1.7472e-01,\n",
       "         3.9666e-01, -2.4369e-01, -2.6237e-01,  3.0568e-01,  2.1429e-01,\n",
       "         1.9139e-01,  8.4735e-02,  6.7480e-01, -3.7925e-01,  1.0824e-01,\n",
       "        -3.1269e-01,  6.2530e-01, -2.2026e-01, -3.4390e-01, -5.0582e-02,\n",
       "         5.5976e-02, -1.8724e-01,  3.1054e-02,  2.1868e-01, -2.7435e-02,\n",
       "        -4.1473e-01, -4.9373e-02,  2.9950e-01,  2.0801e-01,  3.5033e-02,\n",
       "         2.6689e-01,  3.6105e-01, -2.6921e-01, -8.8756e-02,  2.4617e-01,\n",
       "         6.0342e-03,  1.3095e-01, -2.4573e-01,  1.5087e-01,  8.5263e-01,\n",
       "        -4.2556e-01, -2.2326e-02,  3.8744e-01, -6.9792e-01, -1.8226e-01,\n",
       "        -1.5367e-01, -1.0203e-01, -2.9766e-01,  2.8785e-01, -2.8403e-03,\n",
       "         3.4735e-01, -7.5692e-02, -2.2562e-02,  3.0143e-01,  6.7413e-01,\n",
       "        -3.0635e-02,  5.8360e-01, -1.9803e-01, -5.7039e-01,  9.0543e-01,\n",
       "         8.8272e-03, -4.0321e-02])"
      ]
     },
     "execution_count": 9,
     "metadata": {},
     "output_type": "execute_result"
    }
   ],
   "source": [
    "visual_model.predict(x, one=True)"
   ]
  },
  {
   "cell_type": "markdown",
   "id": "b716bcb2",
   "metadata": {},
   "source": [
    "Now let's create the index for searching by vector. We register both models with the index simultaneously,\n",
    "but specifying that it's the `visual_model` which will be responsible for creating the vectors in the database\n",
    "(`indexing_watcher`). The `compatible_watcher` specifies how one can use an alternative model to search \n",
    "the vectors. By using models which expect different types of index, we can implement multimodal search\n",
    "without further ado."
   ]
  },
  {
   "cell_type": "code",
   "execution_count": 10,
   "id": "c4e0302c",
   "metadata": {},
   "outputs": [
    {
     "name": "stderr",
     "output_type": "stream",
     "text": [
      "WARNING:root:model/clip_image/0 already exists - doing nothing\n",
      "WARNING:root:model/clip_image/0 already exists - doing nothing\n",
      "100%|█████████████████████████████████████████████████████████████████████████████████████████████████████████████████████████████████████████████████████| 1000/1000 [04:37<00:00,  3.61it/s]\n",
      "WARNING:root:encoder/torch.float32[512]/0 already exists - doing nothing\n",
      "INFO:root:loading hashes: 'my-index'\n",
      "/Users/dodo/SuperDuperDB/pinnacledb/pinnacledb/ext/torch/tensor.py:26: UserWarning: The given NumPy array is not writable, and PyTorch does not support non-writable tensors. This means writing to this tensor will result in undefined behavior. You may want to copy the array to protect its data or make it writable before converting it to a tensor. This type of warning will be suppressed for the rest of this program. (Triggered internally at /Users/runner/work/pytorch/pytorch/pytorch/torch/csrc/utils/tensor_numpy.cpp:212.)\n",
      "  return torch.from_numpy(array)\n"
     ]
    },
    {
     "data": {
      "text/plain": [
       "[]"
      ]
     },
     "execution_count": 10,
     "metadata": {},
     "output_type": "execute_result"
    }
   ],
   "source": [
    "from pinnacledb.container.vector_index import VectorIndex\n",
    "from pinnacledb.container.watcher import Watcher\n",
    "\n",
    "db.add(\n",
    "    VectorIndex(\n",
    "        'my-index',\n",
    "        indexing_watcher=Watcher(\n",
    "            model=visual_model,\n",
    "            key='image',\n",
    "            select=collection.find(),\n",
    "        ),\n",
    "        compatible_watcher=Watcher(\n",
    "            model=text_model,\n",
    "            key='text',\n",
    "            active=False,\n",
    "        )\n",
    "    )\n",
    ")"
   ]
  },
  {
   "cell_type": "markdown",
   "id": "18971a6d",
   "metadata": {},
   "source": [
    "We can now demonstrate searching by text for images:"
   ]
  },
  {
   "cell_type": "code",
   "execution_count": 11,
   "id": "ab994b5e",
   "metadata": {},
   "outputs": [
    {
     "name": "stderr",
     "output_type": "stream",
     "text": [
      "INFO:root:loading hashes: 'my-index'\n"
     ]
    },
    {
     "data": {
      "image/jpeg": "[encoded data removed]",
      "image/png": "[encoded data removed]",
      "text/plain": [
       "<PIL.PngImagePlugin.PngImageFile image mode=RGB size=64x64>"
      ]
     },
     "metadata": {},
     "output_type": "display_data"
    },
    {
     "data": {
      "image/jpeg": "[encoded data removed]",
      "image/png": "[encoded data removed]",
      "text/plain": [
       "<PIL.PngImagePlugin.PngImageFile image mode=RGB size=64x64>"
      ]
     },
     "metadata": {},
     "output_type": "display_data"
    },
    {
     "data": {
      "image/jpeg": "[encoded data removed]",
      "image/png": "[encoded data removed]",
      "text/plain": [
       "<PIL.PngImagePlugin.PngImageFile image mode=RGB size=64x64>"
      ]
     },
     "metadata": {},
     "output_type": "display_data"
    }
   ],
   "source": [
    "out = db.execute(\n",
    "    collection.like(D({'text': 'mushroom'}), vector_index='my-index', n=3).find({})\n",
    ")\n",
    "for r in out:\n",
    "    display(r['image'].x)"
   ]
  }
 ],
 "metadata": {
  "kernelspec": {
   "display_name": "Python 3 (ipykernel)",
   "language": "python",
   "name": "python3"
  },
  "language_info": {
   "codemirror_mode": {
    "name": "ipython",
    "version": 3
   },
   "file_extension": ".py",
   "mimetype": "text/x-python",
   "name": "python",
   "nbconvert_exporter": "python",
   "pygments_lexer": "ipython3",
   "version": "3.11.3"
  }
 },
 "nbformat": 4,
 "nbformat_minor": 5
}
