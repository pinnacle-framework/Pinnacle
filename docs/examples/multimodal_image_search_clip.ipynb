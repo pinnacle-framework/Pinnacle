{
 "cells": [
  {
   "cell_type": "markdown",
   "id": "238520e0",
   "metadata": {},
   "source": [
    "# Multimodal search with CLIP"
   ]
  },
  {
   "cell_type": "markdown",
   "id": "a3590f0e",
   "metadata": {},
   "source": [
    "In this notebook we show-case SuperDuperDB's functionality for searching with multiple types of data over\n",
    "the same `VectorIndex`. This comes out very naturally, due to the fact that SuperDuperDB allows\n",
    "users and developers to add arbitrary models to SuperDuperDB, and (assuming they output vectors) use\n",
    "these models at search/ inference time, to vectorize diverse queries.\n",
    "\n",
    "To this end, we'll be using the [CLIP multimodal architecture](https://openai.com/research/clip)."
   ]
  },
  {
   "cell_type": "code",
   "execution_count": null,
   "id": "5ebe1497",
   "metadata": {},
   "outputs": [],
   "source": [
    "!pip install https://github.com/openai/CLIP"
   ]
  },
  {
   "cell_type": "markdown",
   "id": "b2f94ae8",
   "metadata": {},
   "source": [
    "So let's start. \n",
    "\n",
    "SuperDuperDB supports MongoDB as a databackend. Correspondingly, we'll import the python MongoDB client `pymongo`\n",
    "and \"wrap\" our database to convert it to a SuperDuper `Datalayer`:"
   ]
  },
  {
   "cell_type": "code",
   "execution_count": 1,
   "id": "2b5ef986",
   "metadata": {},
   "outputs": [
    {
     "name": "stderr",
     "output_type": "stream",
     "text": [
      "INFO:faiss.loader:Loading faiss.\n",
      "INFO:faiss.loader:Successfully loaded faiss.\n",
      "INFO:numexpr.utils:NumExpr defaulting to 8 threads.\n"
     ]
    }
   ],
   "source": [
    "import clip\n",
    "import pymongo\n",
    "from pinnacledb.misc.pinnacle import pinnacle\n",
    "from pinnacledb.ext.torch.model import TorchModel\n",
    "from pinnacledb.ext.pillow.image import pil_image as i\n",
    "from pinnacledb.db.mongodb.query import Collection\n",
    "from pinnacledb.container.document import Document as D\n",
    "from IPython.display import display\n",
    "\n",
    "pymongo.MongoClient().drop_database('documents')\n",
    "pymongo.MongoClient().drop_database('_filesystem:documents')\n",
    "\n",
    "db = pymongo.MongoClient().documents\n",
    "db = pinnacle(db)\n",
    "\n",
    "collection = Collection(name='tiny-imagenet')"
   ]
  },
  {
   "cell_type": "markdown",
   "id": "6cd6d6b0",
   "metadata": {},
   "source": [
    "In order to make this notebook easy to execute an play with, we'll use a sub-sample of the [Tiny-Imagenet\n",
    "dataset](https://paperswithcode.com/dataset/tiny-imagenet). \n",
    "\n",
    "Everything we are doing here generalizes to much larger datasets, with higher resolution images, without\n",
    "further ado. For such use-cases, however, it's advisable to use a machine with a GPU, otherwise they'll \n",
    "be some significant thumb twiddling to do."
   ]
  },
  {
   "cell_type": "markdown",
   "id": "d29386a5",
   "metadata": {},
   "source": [
    "To get the images into the database, we use the `Encoder`-`Document` framework. This allows\n",
    "us to save Python class instances as blobs in the `Datalayer`, but retrieve them as Python objects.\n",
    "This makes it far easier to integrate Python AI-models with the datalayer.\n",
    "\n",
    "To this end, SuperDuperDB contains pre-configured support for `PIL.Image` instances. It's also \n",
    "possible to create your own encoders."
   ]
  },
  {
   "cell_type": "code",
   "execution_count": 3,
   "id": "aaa0a06a",
   "metadata": {},
   "outputs": [
    {
     "name": "stderr",
     "output_type": "stream",
     "text": [
      "WARNING:datasets.builder:Found cached dataset parquet (/Users/dodo/.cache/huggingface/datasets/zh-plus___parquet/Maysee--tiny-imagenet-2eb6c3acd8ebc62a/0.0.0/14a00e99c0d15a23649d0db8944380ac81082d4b021f398733dd84f3a6c569a7)\n"
     ]
    },
    {
     "data": {
      "application/vnd.jupyter.widget-view+json": {
       "model_id": "087a64e0f9254b629ab6eb3cf77eed5e",
       "version_major": 2,
       "version_minor": 0
      },
      "text/plain": [
       "  0%|          | 0/2 [00:00<?, ?it/s]"
      ]
     },
     "metadata": {},
     "output_type": "display_data"
    }
   ],
   "source": [
    "from pinnacledb.container.document import Document as D\n",
    "from pinnacledb.ext.pillow.image import pil_image as i\n",
    "from datasets import load_dataset\n",
    "import random\n",
    "\n",
    "dataset = load_dataset(\"zh-plus/tiny-imagenet\")['valid']\n",
    "dataset = [D({'image': i(r['image'])}) for r in dataset]\n",
    "dataset = random.sample(dataset, 1000)"
   ]
  },
  {
   "cell_type": "markdown",
   "id": "c9c7e282",
   "metadata": {},
   "source": [
    "The wrapped python dictionaries may be inserted directly to the `Datalayer`:"
   ]
  },
  {
   "cell_type": "code",
   "execution_count": 4,
   "id": "c32a91a5",
   "metadata": {
    "scrolled": false
   },
   "outputs": [
    {
     "name": "stderr",
     "output_type": "stream",
     "text": [
      "INFO:root:found 0 uris\n"
     ]
    },
    {
     "data": {
      "text/plain": [
       "(<pymongo.results.InsertManyResult at 0x10efdb0d0>,\n",
       " TaskWorkflow(database=<pinnacledb.db.base.db.DB object at 0x195b4e910>, G=<networkx.classes.digraph.DiGraph object at 0x10f095f10>))"
      ]
     },
     "execution_count": 4,
     "metadata": {},
     "output_type": "execute_result"
    }
   ],
   "source": [
    "db.execute(collection.insert_many(dataset, encoders=(i,)))"
   ]
  },
  {
   "cell_type": "markdown",
   "id": "10d37264",
   "metadata": {},
   "source": [
    "We can verify that the images are correctly stored:"
   ]
  },
  {
   "cell_type": "code",
   "execution_count": 5,
   "id": "7282a0fe",
   "metadata": {},
   "outputs": [
    {
     "data": {
      "image/jpeg": "[encoded data removed]",
      "image/png": "[encoded data removed]",
      "text/plain": [
       "<PIL.PngImagePlugin.PngImageFile image mode=RGB size=64x64>"
      ]
     },
     "execution_count": 5,
     "metadata": {},
     "output_type": "execute_result"
    }
   ],
   "source": [
    "x = db.execute(collection.find_one())['image'].x\n",
    "x"
   ]
  },
  {
   "cell_type": "markdown",
   "id": "dab27b50",
   "metadata": {},
   "source": [
    "We now can wrap the CLIP model, to ready it for multimodel search. It involves 2 components:\n",
    "\n",
    "- text-encoding\n",
    "- visual-encoding\n",
    "\n",
    "Once we have installed both parts, we will be able to search with both images and text for \n",
    "matching items:"
   ]
  },
  {
   "cell_type": "code",
   "execution_count": 6,
   "id": "916792d3",
   "metadata": {},
   "outputs": [],
   "source": [
    "from pinnacledb.ext.torch.tensor import tensor\n",
    "import torch\n",
    "\n",
    "t = tensor(torch.float, shape=(512,))\n",
    "\n",
    "model, preprocess = clip.load(\"ViT-B/32\", device='cpu')\n",
    "\n",
    "text_model = TorchModel(\n",
    "    identifier='clip_text',\n",
    "    object=model,\n",
    "    preprocess=lambda x: clip.tokenize(x)[0],\n",
    "    forward_method='encode_text',\n",
    "    encoder=t\n",
    ")"
   ]
  },
  {
   "cell_type": "markdown",
   "id": "6140d056",
   "metadata": {},
   "source": [
    "Let's verify this works:"
   ]
  },
  {
   "cell_type": "code",
   "execution_count": 7,
   "id": "5ae02683",
   "metadata": {},
   "outputs": [
    {
     "data": {
      "text/plain": [
       "tensor([ 1.5430e-01,  8.3419e-02, -8.6218e-02, -2.4812e-01, -9.0193e-02,\n",
       "        -1.7874e-01,  7.9648e-02, -1.4377e+00,  9.5243e-02,  2.9510e-01,\n",
       "         4.2066e-03,  2.5638e-01, -2.1601e-02,  1.5735e-02,  1.9318e-01,\n",
       "        -1.6119e-01,  3.6999e-01,  2.2594e-02, -5.7204e-02, -1.9817e-01,\n",
       "        -7.5301e-03, -3.2254e-01,  2.7348e-01, -3.5396e-01, -1.9037e-01,\n",
       "         1.0515e-01, -2.4183e-02,  1.0074e-01, -8.8070e-02,  2.6366e-02,\n",
       "        -2.7968e-01, -2.9460e-01,  2.1931e-02,  1.1822e-01,  8.7239e-02,\n",
       "         1.1945e-01, -6.0540e-04, -1.0101e-01, -1.0430e-01, -2.0626e-01,\n",
       "        -1.3790e-01, -3.9173e-02,  7.5546e-03,  1.3866e-01, -1.1169e-01,\n",
       "         1.1691e-01, -1.8521e-01,  2.9997e-02,  1.0280e-01,  1.1497e-01,\n",
       "        -1.0389e-01,  5.0075e-02,  3.1277e-01, -1.7357e-01,  4.6908e-02,\n",
       "        -9.6962e-02,  7.7737e-02,  4.9121e-03, -2.9044e-01, -3.6215e-02,\n",
       "         3.3161e-01,  4.0403e-02, -3.6717e-02,  3.3114e-02,  1.3841e-01,\n",
       "         1.1665e-01, -1.8533e-01,  1.4537e-01,  1.7915e-01,  6.0204e-02,\n",
       "         1.8797e-01, -4.3545e-02, -2.5759e-01,  2.5922e-01, -3.2504e-01,\n",
       "        -7.3698e-02, -1.3032e-01, -2.1270e-02, -9.7008e-02, -1.5535e-01,\n",
       "        -1.8003e-01, -2.3091e-01, -7.8064e-02,  2.2982e-01,  3.5198e-02,\n",
       "         2.6405e-01,  1.8695e-01, -2.9914e-01,  4.2318e-01, -2.0545e-03,\n",
       "         1.1283e-01, -1.5321e-02, -2.2041e+00,  3.1780e-01,  1.7714e-01,\n",
       "         1.4387e-01, -2.9230e-01,  7.1942e-02,  1.3914e-01, -2.8608e-01,\n",
       "         1.8457e-01, -1.0049e-01,  9.6526e-02,  2.8571e-01,  6.4735e-02,\n",
       "         2.3305e-02, -3.9703e-02, -7.9729e-02, -8.2035e-02,  2.5785e-02,\n",
       "         1.9965e-02,  4.4991e-01,  2.9948e-02, -1.7797e-02, -1.7955e-02,\n",
       "        -6.9631e-02,  2.1176e-01, -2.4720e-01, -2.2326e-01,  1.1205e-03,\n",
       "         1.1491e-01,  2.9441e-02, -1.3374e-01, -1.6872e-01,  1.1021e-01,\n",
       "        -1.3817e-01,  1.2030e-01,  3.4527e-01,  8.1909e-02,  2.3871e-01,\n",
       "         2.2229e-01, -1.8966e-01, -2.3539e-01,  8.6902e+00,  1.9549e-01,\n",
       "         2.1512e-01, -4.9882e-02, -1.1429e-01, -2.2483e-01,  9.4593e-02,\n",
       "        -7.6711e-02, -9.9087e-02, -6.9110e-02, -1.3233e-01, -3.2581e-01,\n",
       "         2.7050e-02, -2.4327e-01,  1.1758e-01, -1.4014e-01,  1.9817e-01,\n",
       "         8.2303e-02, -1.7757e-01, -3.3040e-02, -9.2580e-02,  2.0600e-01,\n",
       "        -1.3096e-01, -1.4063e-01,  8.7542e-02, -3.2586e-01,  1.9357e-01,\n",
       "        -2.0348e-01, -3.4610e-01, -7.7105e-02, -4.6517e-02, -2.5897e-01,\n",
       "         4.9247e-02,  2.1851e-01, -1.3462e-01,  8.5325e-02,  1.0842e-01,\n",
       "         1.2020e-01, -4.1831e-02,  9.5542e-02,  2.7893e-01, -2.4965e-01,\n",
       "         9.1718e-02, -1.4164e-01,  3.3395e-01,  1.2548e-01,  4.3229e-02,\n",
       "        -7.5975e-02,  1.6848e-01, -6.9536e-02,  1.2126e-01, -1.4141e-01,\n",
       "         1.1193e-01,  1.5343e-01, -9.1195e-03, -3.5644e-01, -4.9832e-02,\n",
       "         2.1788e-02, -2.5872e-01,  1.0919e-01,  2.7183e-03,  1.9120e-01,\n",
       "        -1.4926e-01,  3.6027e-02, -1.0323e-01, -2.1820e-01,  6.5567e-02,\n",
       "         3.0641e-02, -3.5111e-01, -1.7972e-01,  1.1709e-01, -1.1321e-01,\n",
       "        -1.9422e-01, -1.3823e-02, -1.1502e-01,  1.2422e-01,  2.2445e-02,\n",
       "         1.4535e-01,  1.8312e-01, -8.5592e-02, -2.4161e-01, -2.3021e-01,\n",
       "         9.0205e-02, -3.6267e-01, -7.6290e-02,  2.8521e-01,  6.8043e-02,\n",
       "        -1.6620e-02, -1.3670e-01, -5.1179e-02,  7.4036e-02, -9.4656e-02,\n",
       "        -2.9560e-03,  7.2101e-02, -1.3797e-02, -7.3376e-02,  1.3650e-03,\n",
       "         2.2423e-01,  2.5347e-01, -2.9496e-01,  1.7042e-02,  1.9483e-01,\n",
       "         4.0727e-02, -1.8151e-01,  6.8319e-02, -1.1627e-01,  1.3987e-01,\n",
       "        -1.2464e-01,  1.6415e-01,  1.1659e-01, -2.9262e-01, -1.3138e-01,\n",
       "         2.8386e-01,  1.3536e-02,  1.7893e-02,  1.2224e-01, -8.3474e-02,\n",
       "        -1.8547e-01,  1.3922e-01, -6.6026e-02,  1.8780e-01,  9.8017e-02,\n",
       "         2.2783e-01,  1.8879e-01, -1.1789e-01,  8.7848e-02,  9.5320e-02,\n",
       "        -1.3631e-01, -1.2319e-01, -5.0855e-02,  1.7521e-01, -8.8600e-03,\n",
       "        -2.1211e-01, -1.6603e-01, -9.1632e-02, -1.8940e-01,  1.2483e-01,\n",
       "        -3.4137e-01,  1.7253e-01, -4.0481e-03, -2.5831e-01,  3.4354e-01,\n",
       "         7.2386e-02,  6.4229e-02, -1.0345e-01,  8.1469e-02,  1.2823e-01,\n",
       "         3.0450e-01,  1.2546e-02,  9.2171e-02,  7.6265e-02,  1.9233e-01,\n",
       "         2.5052e-02,  1.6779e-01, -1.1386e-01, -1.2343e-01,  2.1583e-01,\n",
       "         5.1995e-02, -1.1094e-01, -1.3655e-01, -2.2207e-02, -4.0817e-02,\n",
       "        -1.5961e-01, -2.5930e-01, -3.9237e-02,  1.4823e-01,  1.7264e-01,\n",
       "        -1.0340e-01, -7.3079e-02,  5.3891e-03,  4.6488e-02, -5.2854e-02,\n",
       "         2.3029e-01,  1.3836e-01, -2.3104e-01,  5.1622e-02, -2.5691e-02,\n",
       "        -7.3428e-02, -2.0090e-01,  8.6826e+00, -1.3597e-02, -1.5189e-01,\n",
       "        -2.2824e-02,  1.5231e-01, -1.7320e-01, -6.9214e-02,  1.3925e-02,\n",
       "         3.7048e-01,  6.3549e-01, -1.1657e-01,  2.5321e-01, -3.9477e-01,\n",
       "         2.1688e-02,  4.9023e-02, -1.9004e-01,  1.0255e-01, -3.4117e+00,\n",
       "        -1.6342e-02,  1.7833e-01, -2.9475e-03,  2.0511e-01,  2.2709e-02,\n",
       "        -1.5878e-01,  4.0416e-01,  2.8988e-01,  1.8286e-01, -8.9414e-02,\n",
       "         1.9508e-01, -2.8454e-01, -3.6217e-01, -2.0818e-01,  1.3445e-01,\n",
       "         1.0488e-01,  1.0607e-01, -4.8979e-02,  3.1894e-01,  4.3417e-02,\n",
       "        -9.3009e-02, -1.1065e-01,  6.5195e-02,  1.7126e-01,  6.9774e-03,\n",
       "         4.1325e-01,  2.0223e-01,  1.0159e-01, -2.1640e-03,  1.3869e-01,\n",
       "        -2.3206e-01,  1.6523e-02,  4.7522e-01,  3.5994e-01, -4.1203e-01,\n",
       "        -3.4080e-02, -1.8557e-01,  2.1812e-01, -1.1671e-01, -1.9644e-01,\n",
       "         3.0313e-02,  7.6663e-02, -1.4767e-01,  3.0242e-01, -3.8838e-01,\n",
       "         1.2630e-01,  8.6431e-04, -2.1858e-01, -3.0865e-01, -8.5571e-02,\n",
       "         4.7795e-03, -1.4999e-01,  1.9752e-02,  1.9733e-01,  8.4233e-02,\n",
       "        -1.1645e-01, -1.5909e-01, -4.3137e-02, -1.8891e-03, -1.1042e-01,\n",
       "        -8.6980e-02, -2.1983e-01, -2.5741e-02,  6.9247e-02, -1.7009e-01,\n",
       "         2.6890e-01, -3.8613e-01, -2.2737e-01,  7.8148e-02, -4.8904e-02,\n",
       "        -1.5376e-01, -1.6890e-01,  9.6796e-02, -9.0670e-02, -1.9516e-02,\n",
       "         1.0524e-01,  1.8782e-01,  3.2854e-02,  1.2531e-01, -1.3895e-02,\n",
       "        -1.0850e-02,  7.8530e-02,  1.2075e-01,  1.0289e-01,  9.0531e-02,\n",
       "        -1.0503e-01, -1.5543e-02, -1.0592e-01, -5.9506e-02,  4.2483e-01,\n",
       "        -3.3485e-01, -1.1832e-01, -1.0529e-01,  1.4116e-01,  7.1301e-02,\n",
       "         2.0267e-01,  1.3006e-01, -4.7153e-02, -1.9340e-01,  9.9480e-02,\n",
       "         3.2894e-01, -1.5424e-01, -2.4012e-01, -1.7370e-01,  1.0893e-02,\n",
       "         3.6016e-03, -1.7056e-01, -4.7541e-02,  9.2827e-02, -1.1986e-01,\n",
       "         9.8331e-03,  1.3779e-02, -1.0578e-01, -1.5484e-04, -1.4863e-02,\n",
       "         8.7218e-02, -1.3129e-01, -1.6176e-01,  1.8377e-01, -3.2393e-01,\n",
       "        -6.3812e-02,  1.1426e-01, -3.7811e-01,  1.4901e-01,  1.6303e-01,\n",
       "        -8.0644e-02, -2.5431e-02,  1.3871e-01, -2.2643e-01, -9.5727e-02,\n",
       "        -3.8660e-02, -1.0742e-01, -2.5748e-01,  3.4330e-03,  1.8189e-01,\n",
       "        -4.2146e-02,  9.7470e-03,  4.0985e-02, -1.6121e-01,  1.8116e-01,\n",
       "         9.7044e-02,  1.7077e-01,  4.1108e-01, -3.9961e-01,  3.8703e-02,\n",
       "         8.6714e-02,  2.4180e-01,  1.3050e-01, -2.0577e-01,  2.3869e-01,\n",
       "         7.2552e-02, -9.9135e-01, -2.5906e-02,  3.1244e-01, -9.2438e-02,\n",
       "        -3.2326e-02,  2.2206e-01,  3.5055e-01,  2.9333e-01, -5.4146e-02,\n",
       "        -1.0362e-01,  2.1373e-02,  5.3769e-02, -1.9133e-01,  3.8762e-02,\n",
       "        -1.2608e-01,  2.3885e-01, -2.3160e-01,  3.1447e-01,  2.7911e-01,\n",
       "        -3.7622e-02, -2.3407e-01,  4.1729e-02,  5.6719e-02, -1.3126e-02,\n",
       "         1.8311e-01,  6.9699e-03,  1.2088e-01, -2.6926e-01, -4.1645e-02,\n",
       "         6.8667e-02,  3.4110e-01])"
      ]
     },
     "execution_count": 7,
     "metadata": {},
     "output_type": "execute_result"
    }
   ],
   "source": [
    "text_model.predict('this is a test', one=True)"
   ]
  },
  {
   "cell_type": "markdown",
   "id": "1cbb08cc",
   "metadata": {},
   "source": [
    "Similar procedure with the visual part, which takes `PIL.Image` instances as inputs."
   ]
  },
  {
   "cell_type": "code",
   "execution_count": 8,
   "id": "fc0f0cc2",
   "metadata": {},
   "outputs": [],
   "source": [
    "visual_model = TorchModel(\n",
    "    identifier='clip_image',\n",
    "    preprocess=preprocess,\n",
    "    object=model.visual,\n",
    "    encoder=t,\n",
    ")"
   ]
  },
  {
   "cell_type": "code",
   "execution_count": 9,
   "id": "9e3a7685",
   "metadata": {},
   "outputs": [
    {
     "data": {
      "text/plain": [
       "tensor([ 4.8659e-01,  1.8579e-01, -3.4599e-01,  2.9992e-01, -4.0825e-01,\n",
       "        -4.1464e-01,  3.4450e-01,  5.6146e-02, -2.4816e-01, -2.3093e-02,\n",
       "         3.5055e-01, -1.9474e-01,  8.0769e-01, -1.0353e-01, -1.2403e-01,\n",
       "        -7.9312e-02,  1.4479e+00,  2.1143e-01, -3.2818e-02,  7.0584e-02,\n",
       "        -6.5244e-01,  1.2944e-01,  1.6678e-01, -2.6070e-01, -3.2287e-01,\n",
       "         3.0141e-01, -2.1176e-01,  9.4882e-02,  1.6218e-01, -5.0878e-02,\n",
       "         2.0792e-01, -2.2583e-01,  3.8166e-01,  1.5090e-01,  5.0803e-01,\n",
       "        -2.2024e-01, -9.4464e-02, -3.9695e-01, -5.3257e-01,  1.5086e+00,\n",
       "         4.8122e-01, -1.5022e-01, -2.9540e-01,  1.4052e-01,  1.5982e-01,\n",
       "         1.9730e+00,  3.4827e-01,  2.0014e-01,  4.0259e-01, -2.0694e-01,\n",
       "        -2.3321e-01,  4.5839e-01, -4.1365e-01, -4.2055e-02,  1.3702e-01,\n",
       "         3.4278e-01,  3.0134e-01, -2.3013e-02, -2.1060e-01, -3.1676e-02,\n",
       "        -3.3171e-01, -1.5272e-01, -1.0102e-01, -1.3582e-01, -4.4713e-02,\n",
       "        -1.1459e-01, -1.0656e-01,  1.1455e+00,  2.9830e-01, -5.2836e-01,\n",
       "         1.1615e-01,  4.1059e-02, -5.2280e-02, -1.2230e-01,  1.0334e-01,\n",
       "        -2.9715e-01,  9.7823e-02,  1.2846e-01, -1.0330e-01,  4.0708e-01,\n",
       "         2.0693e-01,  8.1274e-02,  1.3433e-01, -6.1875e-01,  5.6298e-01,\n",
       "        -2.9570e-02, -3.6324e-01, -4.3506e-01, -4.4713e-01, -8.9488e-02,\n",
       "         5.7325e-02, -3.8107e-01, -8.0069e+00, -5.7182e-01,  1.4304e-01,\n",
       "         1.4258e-02, -4.0054e-01, -1.2769e-01, -2.7697e-01,  8.8488e-02,\n",
       "         1.2445e-02,  8.3826e-02,  2.4816e-01,  7.4373e-03,  3.8211e-01,\n",
       "        -4.7244e-01, -4.3356e-01,  1.5694e-01,  1.1457e-01,  2.0866e-01,\n",
       "        -1.6005e-01,  1.2338e-01, -3.2568e-02,  1.2550e-01, -1.4431e-01,\n",
       "        -1.9869e-01, -9.3804e-02, -6.3201e-02,  2.2538e-02, -3.4366e-01,\n",
       "        -4.4233e-01,  4.6782e-01,  1.9964e-01,  2.3947e-02,  7.3856e-02,\n",
       "         8.7400e-01,  1.2871e-01,  2.1497e-01, -1.8266e-02,  1.3739e-01,\n",
       "         1.6984e-01,  4.5703e-01,  3.1141e-01,  1.0004e+00,  3.8233e-01,\n",
       "         6.3598e-01, -4.1510e-02,  9.9970e-03, -2.4481e-01,  2.2672e-01,\n",
       "        -3.0478e-01, -3.3055e-01, -1.5140e-02, -2.2742e-01,  2.2997e-01,\n",
       "        -3.1292e-01,  8.5402e-02, -2.5946e-01,  3.0176e-01, -5.8103e-02,\n",
       "         1.1826e-01, -4.2911e-01,  1.0258e+00,  7.1014e-01, -1.8818e-01,\n",
       "        -3.6742e-01, -5.9284e-01,  4.9751e-01, -3.4304e-01,  4.4528e-02,\n",
       "        -3.5134e-01, -2.9965e-01, -5.9763e-02, -2.0232e-02, -1.5396e-01,\n",
       "        -4.7703e-02, -8.6189e-02, -3.5100e-01, -2.2760e-01, -2.4721e-01,\n",
       "         5.4972e-01, -8.0570e-02, -1.3090e-01, -4.3534e-01,  4.4065e-01,\n",
       "        -2.9047e-01, -1.3621e-01,  3.7583e-01,  9.9364e-01, -1.1233e-01,\n",
       "        -2.4568e-01, -9.9726e-03, -6.6678e-01,  1.3360e-02, -3.5559e-01,\n",
       "         1.3786e-01,  5.4628e-01,  9.5797e-02, -3.6925e-02, -1.1009e-01,\n",
       "        -3.5624e-01,  3.0587e-01, -3.0540e-01, -2.1706e-01,  3.8220e-01,\n",
       "        -4.5234e-02, -1.0605e-01, -3.3400e-01, -2.4744e-01, -4.2654e-01,\n",
       "         2.8152e-01,  9.1575e-03,  3.2901e-01,  4.7117e-01, -7.5717e-02,\n",
       "         3.6096e-01, -6.4893e-01, -8.3752e-02,  7.5458e-01, -5.0178e-01,\n",
       "        -2.5218e-01,  9.1638e-02, -3.2760e-01,  3.5809e-01, -1.5612e-01,\n",
       "         2.3451e-01, -3.5299e-01,  2.0313e-01,  6.9436e-01,  2.0766e-01,\n",
       "         1.4271e-01,  1.0017e+00,  1.6497e-01,  2.1219e-01, -1.3893e-01,\n",
       "        -1.4154e-02, -1.4199e-01,  2.6117e-01,  9.8827e-02, -5.3863e-02,\n",
       "        -6.8279e-02,  2.1678e-01,  1.2274e-01,  2.6358e-01,  4.5773e-02,\n",
       "        -4.8226e-01, -5.0038e-01, -1.2144e-01,  5.8695e-02,  2.4586e-01,\n",
       "        -3.0351e-01,  3.3064e-02, -3.2126e-01,  2.8273e-02,  4.8996e-02,\n",
       "         6.3899e-02, -6.3606e-02,  6.1585e-02,  8.6193e-02,  9.6659e-02,\n",
       "         5.4653e-01,  2.0406e-02,  4.4253e-01, -2.4859e-01, -1.6561e-01,\n",
       "         1.0863e-01,  4.3434e-01,  9.7059e-02, -5.4826e-01, -7.3813e-01,\n",
       "         1.9771e-01, -3.7523e-01, -3.4789e-02, -1.3805e+00, -8.4889e-02,\n",
       "         6.6064e-02,  1.1166e-02, -8.3336e-02,  2.2525e-01, -9.7703e-01,\n",
       "         3.4624e-01,  4.4169e-01, -8.9524e-01,  6.3850e-02,  6.0194e-02,\n",
       "         2.1283e-03,  1.9266e-01, -1.4074e-01, -2.6035e-01, -8.6531e-03,\n",
       "         5.2937e-02, -2.3509e-01, -4.6994e-01,  1.6480e-01, -1.1773e-02,\n",
       "        -1.7236e-01,  8.3237e-01,  4.3006e-02, -2.5157e-01, -2.3946e-01,\n",
       "         1.1590e-01,  3.7779e-01,  5.4778e-02, -1.9815e-01, -3.4478e-01,\n",
       "         6.6407e-02,  2.0775e-01, -1.4578e-01, -5.2640e-01,  1.2391e-01,\n",
       "         1.7739e-02, -1.9729e-01,  3.8325e-01,  4.0519e-01, -2.9411e-01,\n",
       "        -6.5148e-01,  1.2031e-01,  5.9977e-02, -1.5699e-01,  2.5243e-01,\n",
       "         2.2692e-01, -2.0737e-01,  9.9998e-01, -8.7409e-01,  1.9896e-01,\n",
       "         3.1460e-01,  5.6703e-01,  3.5409e-01, -1.9336e-01, -7.8530e-01,\n",
       "         2.7292e-01, -6.2440e-01, -7.9900e-01, -1.0640e-01,  3.2227e-01,\n",
       "        -3.5777e-02, -1.9243e-01, -1.2465e-01,  2.1445e-01,  3.9889e-01,\n",
       "         1.3695e-01,  1.3896e-01,  5.5686e-01, -2.9277e-01,  4.2486e-01,\n",
       "        -2.0177e-01, -1.4167e-01,  5.7479e-01,  5.7593e-01,  1.0930e-01,\n",
       "         2.2963e-01,  4.0391e-01, -3.2336e-01, -5.2913e-02,  6.4116e-02,\n",
       "        -1.9256e-02,  8.9602e-02, -4.3330e-02,  7.5682e-02,  4.2662e-01,\n",
       "         8.9902e-01,  5.4406e-02,  6.2682e-01,  5.3460e-02,  1.6013e-01,\n",
       "         5.0503e-01, -7.0391e-02,  4.9794e-01,  3.6999e-01, -2.8241e-01,\n",
       "         3.5041e-01, -1.9724e-01, -3.6881e-02,  2.5877e-01, -7.4035e-01,\n",
       "         2.0962e-01, -1.3104e-01,  3.6532e-01, -5.2135e-01, -1.1576e-01,\n",
       "         5.8701e-02,  9.5386e-02,  2.3154e-01, -2.3241e-01, -5.3956e-01,\n",
       "         1.4103e-01, -3.6637e-01, -1.3619e-01, -4.3604e-01, -3.5766e-02,\n",
       "         6.8452e-02, -4.7673e-01, -8.4256e-01, -5.5939e-01,  4.0212e-01,\n",
       "        -2.0992e-01,  3.8594e-01,  2.1925e-01,  8.3436e-02, -7.3254e-01,\n",
       "        -9.6499e-01, -4.1649e-01, -2.9435e-02,  1.3345e-01, -1.7249e-01,\n",
       "         2.4390e-01, -2.6096e-01, -2.4066e-01,  3.3974e-02, -1.0788e+00,\n",
       "        -7.9467e-02,  1.8561e-01, -1.1641e-01,  6.3469e-02, -3.6187e-01,\n",
       "        -4.3277e-01, -2.8813e-01, -3.1252e-01, -1.6355e-01,  2.8944e-02,\n",
       "         2.7541e-01,  6.2331e-03,  2.0263e-01,  5.8527e-01,  1.0387e-01,\n",
       "         5.4915e-02, -3.3509e-01, -6.5902e-01, -5.9526e-01, -9.0609e-02,\n",
       "         2.4145e-02,  3.2513e-01, -2.5665e-01, -5.4765e-02, -1.2333e-01,\n",
       "         3.8732e-01,  5.4573e-01, -6.3007e-02, -4.1968e-02, -6.6151e-01,\n",
       "         3.2343e-01,  4.2862e-01, -8.0447e-02, -6.6625e-02, -2.4751e-01,\n",
       "        -1.1305e-01,  3.6587e-01,  4.2348e-01, -6.6336e-02, -1.2690e-01,\n",
       "         5.4302e-02,  2.2723e-01,  1.4896e-01,  1.9307e-01,  8.3279e-02,\n",
       "         9.8979e-02,  8.7400e-02,  2.5592e-01, -2.6584e-01, -8.4253e-01,\n",
       "        -9.6982e-01, -1.5401e-01, -1.6048e-01, -1.0966e-01, -3.8056e-02,\n",
       "         2.4241e-01,  3.7506e-02, -1.0273e-01,  2.9826e-01, -3.3949e-01,\n",
       "         3.1233e-01, -1.6339e-01, -1.2012e-01, -5.9874e-01,  3.6827e-01,\n",
       "        -4.5493e-02,  1.7017e-01,  6.3561e-02, -3.8529e-02, -1.6421e-01,\n",
       "         3.3156e-01,  2.6218e-01,  1.7616e-01, -2.9402e-01,  9.3635e-02,\n",
       "         6.1420e-02,  1.9928e-01,  2.1918e-02, -2.9795e-02,  5.7445e-01,\n",
       "         3.4429e-01, -2.9797e-01, -9.6351e-02, -1.0312e-01, -5.5581e-01,\n",
       "        -2.1043e-02,  3.5552e-01,  1.7819e-01, -8.3266e-02, -3.0401e-02,\n",
       "         8.4081e-02,  3.4726e-01, -1.2827e-01, -1.0422e-01,  6.9640e-02,\n",
       "         1.9173e-01, -4.1692e-01, -2.5102e-01, -1.2409e-01, -6.6348e-02,\n",
       "        -3.5595e-01,  5.3352e-02,  2.9619e-01,  1.9629e-02, -4.9146e-01,\n",
       "         9.7190e-03,  1.7677e-01,  3.5836e-01,  7.5639e-03,  1.2878e+00,\n",
       "         2.3495e-01, -4.1232e-02])"
      ]
     },
     "execution_count": 9,
     "metadata": {},
     "output_type": "execute_result"
    }
   ],
   "source": [
    "visual_model.predict(x, one=True)"
   ]
  },
  {
   "cell_type": "markdown",
   "id": "b716bcb2",
   "metadata": {},
   "source": [
    "Now let's create the index for searching by vector. We register both models with the index simultaneously,\n",
    "but specifying that it's the `visual_model` which will be responsible for creating the vectors in the database\n",
    "(`indexing_listener`). The `compatible_listener` specifies how one can use an alternative model to search \n",
    "the vectors. By using models which expect different types of index, we can implement multimodal search\n",
    "without further ado."
   ]
  },
  {
   "cell_type": "code",
   "execution_count": 10,
   "id": "c4e0302c",
   "metadata": {},
   "outputs": [
    {
     "name": "stderr",
     "output_type": "stream",
     "text": [
      "WARNING:root:model/clip_image/0 already exists - doing nothing\n",
      "WARNING:root:model/clip_image/0 already exists - doing nothing\n",
      "100%|█████████████████████████████████████████████████████████████████████████████████████████████████████████████████████████████████████████████████████| 1000/1000 [04:38<00:00,  3.59it/s]\n",
      "WARNING:root:encoder/torch.float32[512]/0 already exists - doing nothing\n",
      "INFO:root:loading hashes: 'my-index'\n",
      "/Users/dodo/SuperDuperDB/pinnacledb/pinnacledb/ext/torch/tensor.py:26: UserWarning: The given NumPy array is not writable, and PyTorch does not support non-writable tensors. This means writing to this tensor will result in undefined behavior. You may want to copy the array to protect its data or make it writable before converting it to a tensor. This type of warning will be suppressed for the rest of this program. (Triggered internally at /Users/runner/work/pytorch/pytorch/pytorch/torch/csrc/utils/tensor_numpy.cpp:212.)\n",
      "  return torch.from_numpy(array)\n"
     ]
    },
    {
     "data": {
      "text/plain": [
       "[]"
      ]
     },
     "execution_count": 10,
     "metadata": {},
     "output_type": "execute_result"
    }
   ],
   "source": [
    "from pinnacledb.container.vector_index import VectorIndex\n",
    "from pinnacledb.container.listener import Listener\n",
    "\n",
    "db.add(\n",
    "    VectorIndex(\n",
    "        'my-index',\n",
    "        indexing_listener=Listener(\n",
    "            model=visual_model,\n",
    "            key='image',\n",
    "            select=collection.find(),\n",
    "        ),\n",
    "        compatible_listener=Listener(\n",
    "            model=text_model,\n",
    "            key='text',\n",
    "            active=False,\n",
    "        )\n",
    "    )\n",
    ")"
   ]
  },
  {
   "cell_type": "markdown",
   "id": "18971a6d",
   "metadata": {},
   "source": [
    "We can now demonstrate searching by text for images:"
   ]
  },
  {
   "cell_type": "code",
   "execution_count": 11,
   "id": "ab994b5e",
   "metadata": {},
   "outputs": [
    {
     "name": "stderr",
     "output_type": "stream",
     "text": [
      "INFO:root:loading hashes: 'my-index'\n"
     ]
    },
    {
     "data": {
      "image/jpeg": "[encoded data removed]",
      "image/png": "[encoded data removed]",
      "text/plain": [
       "<PIL.PngImagePlugin.PngImageFile image mode=RGB size=64x64>"
      ]
     },
     "metadata": {},
     "output_type": "display_data"
    },
    {
     "data": {
      "image/jpeg": "[encoded data removed]",
      "image/png": "[encoded data removed]",
      "text/plain": [
       "<PIL.PngImagePlugin.PngImageFile image mode=RGB size=64x64>"
      ]
     },
     "metadata": {},
     "output_type": "display_data"
    },
    {
     "data": {
      "image/jpeg": "[encoded data removed]",
      "image/png": "[encoded data removed]",
      "text/plain": [
       "<PIL.PngImagePlugin.PngImageFile image mode=RGB size=64x64>"
      ]
     },
     "metadata": {},
     "output_type": "display_data"
    }
   ],
   "source": [
    "out = db.execute(\n",
    "    collection.like(D({'text': 'mushroom'}), vector_index='my-index', n=3).find({})\n",
    ")\n",
    "for r in out:\n",
    "    display(r['image'].x)"
   ]
  }
 ],
 "metadata": {
  "kernelspec": {
   "display_name": "Python 3 (ipykernel)",
   "language": "python",
   "name": "python3"
  },
  "language_info": {
   "codemirror_mode": {
    "name": "ipython",
    "version": 3
   },
   "file_extension": ".py",
   "mimetype": "text/x-python",
   "name": "python",
   "nbconvert_exporter": "python",
   "pygments_lexer": "ipython3",
   "version": "3.11.3"
  }
 },
 "nbformat": 4,
 "nbformat_minor": 5
}
