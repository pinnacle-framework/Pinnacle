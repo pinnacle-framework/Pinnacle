{
 "cells": [
  {
   "cell_type": "code",
   "execution_count": 38,
   "id": "26adede4",
   "metadata": {},
   "outputs": [
    {
     "data": {
      "text/plain": [
       "{'_id': ObjectId('63d27372745cc274ef351f4b'),\n",
       " 'captions': ['A cluttered counter with dishes, a cutting board and some vegetables.',\n",
       "  'Some cooking utensils and some vegetables sitting on a counter',\n",
       "  'A head of lettuce sits next to a knife and carrots on a table.',\n",
       "  'A head of cabbage is on a board with carrots.',\n",
       "  'A knife, cabbage, and carrots sit on a cutting board.'],\n",
       " 'img': tensor([ 0.0098,  0.0610, -0.0315,  ...,  0.0016,  0.0022, -0.0708]),\n",
       " '_fold': 'valid',\n",
       " '_outputs': {'img': {'clip': tensor([ 0.0098,  0.0610, -0.0315,  ...,  0.0016,  0.0022, -0.0708]),\n",
       "   'clip_projection': tensor([-0.0123, -0.0643, -0.0934,  0.0300,  0.0485,  0.1007,  0.1131, -0.0320,\n",
       "           -0.0423,  0.0539, -0.0174,  0.0839,  0.1495, -0.0486,  0.0487,  0.0155,\n",
       "            0.0158,  0.0006,  0.1133, -0.0603,  0.1028, -0.2069,  0.2412, -0.0720,\n",
       "           -0.0960,  0.0929,  0.0518,  0.0501,  0.0943,  0.0065,  0.0068, -0.0062,\n",
       "           -0.0778,  0.1605,  0.0072,  0.0512, -0.1395,  0.1983,  0.1192, -0.0506,\n",
       "            0.0883, -0.0009, -0.0013, -0.1070,  0.1213,  0.1554,  0.0307,  0.1471,\n",
       "           -0.0377, -0.0012]),\n",
       "   'attribute_predictor': ['balls', 'stall', 'poster', 'sprinkles', 'laptop']},\n",
       "  '_base': {},\n",
       "  'captions': {'noun_words': ['board',\n",
       "    'cabbage',\n",
       "    'carrots',\n",
       "    'cooking',\n",
       "    'counter',\n",
       "    'cutting',\n",
       "    'dishes',\n",
       "    'head',\n",
       "    'knife',\n",
       "    'lettuce',\n",
       "    'table',\n",
       "    'vegetables']}}}"
      ]
     },
     "execution_count": 38,
     "metadata": {},
     "output_type": "execute_result"
    }
   ],
   "source": [
    "import json\n",
    "import sys\n",
    "\n",
    "sys.path.append('../../')\n",
    "\n",
    "from pinnacledb.client import the_client\n",
    "from IPython.display import display, clear_output\n",
    "import random\n",
    "import torch\n",
    "\n",
    "docs = the_client.coco_example.documents\n",
    "\n",
    "r = list(docs.find({'_fold': 'valid'}, features={'img': 'clip'}).limit(random.randrange(100)))[-1]\n",
    "\n",
    "m = docs.models['conditional_lm']\n",
    "\n",
    "from pinnacledb.models.utils import apply_model\n",
    "\n",
    "r"
   ]
  },
  {
   "cell_type": "code",
   "execution_count": 37,
   "id": "ceffc834",
   "metadata": {},
   "outputs": [
    {
     "data": {
      "text/plain": [
       "'a young boy is eating a piece of'"
      ]
     },
     "execution_count": 37,
     "metadata": {},
     "output_type": "execute_result"
    }
   ],
   "source": [
    "from pinnacledb.models.utils import apply_model\n",
    "\n",
    "apply_model(m, r)"
   ]
  },
  {
   "cell_type": "code",
   "execution_count": 4,
   "id": "3ea978d5",
   "metadata": {},
   "outputs": [],
   "source": [
    "# input_ = r['caption']\n",
    "# hidden_states = m.conditioning_linear(r['img']).unsqueeze(1)"
   ]
  },
  {
   "cell_type": "code",
   "execution_count": 5,
   "id": "ea3c1234",
   "metadata": {},
   "outputs": [],
   "source": [
    "# rnn_outputs, hidden_states = m.rnn(m.embedding(input_), hidden_states)\n",
    "# predictions = torch.zeros(input_.shape[0], m.max_length).type(torch.long)\n",
    "# logits = m.prediction(rnn_outputs)[:, 0, :]\n",
    "# input_ = logits.topk(1, dim=1)[1][:, 0].type(torch.long).unsqueeze(1)\n",
    "# print(m.tokenizer.tokens[input_.item()])"
   ]
  }
 ],
 "metadata": {
  "kernelspec": {
   "display_name": "Python 3 (ipykernel)",
   "language": "python",
   "name": "python3"
  },
  "language_info": {
   "codemirror_mode": {
    "name": "ipython",
    "version": 3
   },
   "file_extension": ".py",
   "mimetype": "text/x-python",
   "name": "python",
   "nbconvert_exporter": "python",
   "pygments_lexer": "ipython3",
   "version": "3.10.6"
  }
 },
 "nbformat": 4,
 "nbformat_minor": 5
}
