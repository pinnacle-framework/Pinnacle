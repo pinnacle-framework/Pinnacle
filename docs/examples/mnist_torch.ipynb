{
 "cells": [
  {
   "cell_type": "markdown",
   "id": "4b24af19",
   "metadata": {},
   "source": [
    "# Training and maintaining MNIST predictions"
   ]
  },
  {
   "cell_type": "markdown",
   "id": "8905783f",
   "metadata": {},
   "source": [
    "In this notebook we'll be implementing a classic machine learning classification task: MNIST hand written digit\n",
    "recognition, using a convolution neural network, but with a twist: we'll be implementing the task *in database* using SuperDuperDB."
   ]
  },
  {
   "cell_type": "markdown",
   "id": "e3812091",
   "metadata": {},
   "source": [
    "SuperDuperDB supports MongoDB as a databackend. Correspondingly, we'll import the python MongoDB client `pymongo`\n",
    "and \"wrap\" our database to convert it to a SuperDuper `Datalayer`:"
   ]
  },
  {
   "cell_type": "code",
   "execution_count": 1,
   "id": "a28adbce",
   "metadata": {},
   "outputs": [
    {
     "name": "stderr",
     "output_type": "stream",
     "text": [
      "INFO:faiss.loader:Loading faiss.\n",
      "INFO:faiss.loader:Successfully loaded faiss.\n",
      "INFO:numexpr.utils:NumExpr defaulting to 8 threads.\n"
     ]
    }
   ],
   "source": [
    "import pymongo\n",
    "import torch\n",
    "import torchvision\n",
    "\n",
    "from pinnacledb import pinnacle\n",
    "\n",
    "db = pymongo.MongoClient().documents\n",
    "\n",
    "db = pinnacle(db)"
   ]
  },
  {
   "cell_type": "code",
   "execution_count": 2,
   "id": "6e132ccf",
   "metadata": {},
   "outputs": [],
   "source": [
    "pymongo.MongoClient().drop_database('documents')\n",
    "pymongo.MongoClient().drop_database('_filesystem:documents')"
   ]
  },
  {
   "cell_type": "markdown",
   "id": "6233e891",
   "metadata": {},
   "source": [
    "Now that we've connected to SuperDuperDB, let's add some data. MNIST is a good show case for one of the \n",
    "key benefits of SuperDuperDB - adding \"difficult\" data types. This can be done using an `Encoder` \n",
    "which is a key wrapper in SuperDuperDB's arsenal. The `Encoder` works closely together with the `Document` \n",
    "wrapper. Together they allow Python dictionaries containing non-JSONable/ `bytes` objects, to be insert into\n",
    "SuperDuperDB:"
   ]
  },
  {
   "cell_type": "code",
   "execution_count": 3,
   "id": "bf0934cc",
   "metadata": {
    "scrolled": false
   },
   "outputs": [
    {
     "name": "stderr",
     "output_type": "stream",
     "text": [
      "INFO:root:found 0 uris\n"
     ]
    },
    {
     "data": {
      "text/plain": [
       "(<pymongo.results.InsertManyResult at 0x1a08a2fb0>,\n",
       " TaskWorkflow(database=<pinnacledb.db.base.datalayer.Datalayer object at 0x190b4f890>, G=<networkx.classes.digraph.DiGraph object at 0x19524dd10>))"
      ]
     },
     "execution_count": 3,
     "metadata": {},
     "output_type": "execute_result"
    }
   ],
   "source": [
    "from pinnacledb.ext.pillow.image import pil_image as i\n",
    "from pinnacledb.container.document import Document as D\n",
    "from pinnacledb.db.mongodb.query import Collection\n",
    "\n",
    "import random\n",
    "\n",
    "collection = Collection(name='mnist')\n",
    "\n",
    "mnist_data = list(torchvision.datasets.MNIST(root='./data', download=True))\n",
    "data = [D({'img': i(x[0]), 'class': x[1]}) for x in mnist_data]\n",
    "random.shuffle(data)\n",
    "data = data[:11000]\n",
    "\n",
    "db.execute(\n",
    "    collection.insert_many(data[:-1000], encoders=[i])\n",
    ")"
   ]
  },
  {
   "cell_type": "markdown",
   "id": "c5341135",
   "metadata": {},
   "source": [
    "Now that we've inserted the images and their classes to the database, let's query some data:"
   ]
  },
  {
   "cell_type": "code",
   "execution_count": 4,
   "id": "a36f9c3b",
   "metadata": {},
   "outputs": [
    {
     "data": {
      "text/plain": [
       "Document({'_id': ObjectId('64c8e6071d7d0f4079ba5454'), 'img': Encodable(encoder=Encoder(identifier='pil_image', decoder=<Artifact artifact=<pinnacledb.ext.pillow.image.DecoderPILImage object at 0x1a0e6aa90> serializer=dill>, encoder=<Artifact artifact=<function encode_pil_image at 0x19d6ecae0> serializer=dill>, shape=None, version=0), x=<PIL.PngImagePlugin.PngImageFile image mode=L size=28x28 at 0x10F5D1290>, uri=None), 'class': 7, '_fold': 'train'})"
      ]
     },
     "execution_count": 4,
     "metadata": {},
     "output_type": "execute_result"
    }
   ],
   "source": [
    "r = db.execute(collection.find_one())\n",
    "r"
   ]
  },
  {
   "cell_type": "markdown",
   "id": "1413d4c5",
   "metadata": {},
   "source": [
    "When we query the data, it's in exactly the format we inserted it. In particular, we can use the `PIL.Image` instances\n",
    "to inspect the data:"
   ]
  },
  {
   "cell_type": "code",
   "execution_count": 5,
   "id": "e8fb7c9c",
   "metadata": {},
   "outputs": [
    {
     "data": {
      "image/jpeg": "[encoded data removed]",
      "image/png": "[encoded data removed]",
      "text/plain": [
       "<PIL.PngImagePlugin.PngImageFile image mode=L size=28x28>"
      ]
     },
     "execution_count": 5,
     "metadata": {},
     "output_type": "execute_result"
    }
   ],
   "source": [
    "r['img'].x"
   ]
  },
  {
   "cell_type": "markdown",
   "id": "68fde8bb",
   "metadata": {},
   "source": [
    "Now let's create our model. SuperDuperDB supports these frameworks, out-of-the-box:\n",
    "\n",
    "- `torch`\n",
    "- `sklearn`\n",
    "- `transformers`\n",
    "- `sentence_transformers`\n",
    "- `openai`\n",
    "- `langchain`\n",
    "\n",
    "In this case, we're going to use PyTorch, since it's great for computer vision use-cases.\n",
    "We can combine `torch` with `torchvision` in SuperDuperDB."
   ]
  },
  {
   "cell_type": "code",
   "execution_count": 6,
   "id": "cfb425e1",
   "metadata": {},
   "outputs": [],
   "source": [
    "class LeNet5(torch.nn.Module):\n",
    "    def __init__(self, num_classes):\n",
    "        super().__init__()\n",
    "        self.layer1 = torch.nn.Sequential(\n",
    "            torch.nn.Conv2d(1, 6, kernel_size=5, stride=1, padding=0),\n",
    "            torch.nn.BatchNorm2d(6),\n",
    "            torch.nn.ReLU(),\n",
    "            torch.nn.MaxPool2d(kernel_size=2, stride=2))\n",
    "        self.layer2 = torch.nn.Sequential(\n",
    "            torch.nn.Conv2d(6, 16, kernel_size=5, stride=1, padding=0),\n",
    "            torch.nn.BatchNorm2d(16),\n",
    "            torch.nn.ReLU(),\n",
    "            torch.nn.MaxPool2d(kernel_size=2, stride=2))\n",
    "        self.fc = torch.nn.Linear(400, 120)\n",
    "        self.relu = torch.nn.ReLU()\n",
    "        self.fc1 = torch.nn.Linear(120, 84)\n",
    "        self.relu1 = torch.nn.ReLU()\n",
    "        self.fc2 = torch.nn.Linear(84, num_classes)\n",
    "\n",
    "    def forward(self, x):\n",
    "        out = self.layer1(x)\n",
    "        out = self.layer2(out)\n",
    "        out = out.reshape(out.size(0), -1)\n",
    "        out = self.fc(out)\n",
    "        out = self.relu(out)\n",
    "        out = self.fc1(out)\n",
    "        out = self.relu1(out)\n",
    "        out = self.fc2(out)\n",
    "        return out\n",
    "\n",
    "    \n",
    "def postprocess(x):\n",
    "    return int(x.topk(1)[1].item())\n",
    "\n",
    "\n",
    "def preprocess(x):\n",
    "    return torchvision.transforms.Compose([\n",
    "        torchvision.transforms.Resize((32, 32)),\n",
    "        torchvision.transforms.ToTensor(),\n",
    "        torchvision.transforms.Normalize(mean=(0.1307,), std=(0.3081,))]\n",
    "    )(x)"
   ]
  },
  {
   "cell_type": "markdown",
   "id": "91155314",
   "metadata": {},
   "source": [
    "We've created `postprocess` and `preprocess` functions to handle the communication with the SuperDuperDB\n",
    "`Datalayer`. In order to create a native SuperDuperDB model, we wrap the model, preprocessing and postprocessing:"
   ]
  },
  {
   "cell_type": "code",
   "execution_count": 7,
   "id": "d47855b8",
   "metadata": {},
   "outputs": [],
   "source": [
    "model = pinnacle(LeNet5(10), preprocess=preprocess, postprocess=postprocess)"
   ]
  },
  {
   "cell_type": "markdown",
   "id": "5fde9224",
   "metadata": {},
   "source": [
    "The model predicts human readable outputs, directly from the `PIL.Image` objects. All \n",
    "models in SuperDuperDB are equipped with a `sklearn`-style `.predict` method. This makes \n",
    "it easy to know how each AI-framework will operate in combination with the `Datalayer`."
   ]
  },
  {
   "cell_type": "code",
   "execution_count": 8,
   "id": "ae586949",
   "metadata": {},
   "outputs": [
    {
     "name": "stderr",
     "output_type": "stream",
     "text": [
      "100%|████████████████████████████████████████████████████████████████████████████████████████████████████████████████████████████████████████████████████████| 10/10 [00:00<00:00, 465.44it/s]\n"
     ]
    },
    {
     "data": {
      "text/plain": [
       "[0, 0, 7, 7, 0, 7, 7, 7, 0, 7]"
      ]
     },
     "execution_count": 8,
     "metadata": {},
     "output_type": "execute_result"
    }
   ],
   "source": [
    "model.predict([r['img'] for r in data[:10]])"
   ]
  },
  {
   "cell_type": "markdown",
   "id": "dcf0457e",
   "metadata": {},
   "source": [
    "Now we're ready to \"train\" or \"fit\" the model. Trainable models in SuperDuperDB are equipped \n",
    "with a `sklearn`-like `.fit` method:"
   ]
  },
  {
   "cell_type": "code",
   "execution_count": 9,
   "id": "e7c610c1",
   "metadata": {
    "scrolled": false
   },
   "outputs": [
    {
     "name": "stderr",
     "output_type": "stream",
     "text": [
      "INFO:root:fold: TRAIN; iteration: 0; objective: 2.306100368499756; \n",
      "100%|█████████████████████████████████████████████████████████████████████████████████████████████████████████████████████████████████████████████████████| 507/507 [00:00<00:00, 1468.01it/s]\n",
      "INFO:root:fold: VALID; iteration: 0; my_valid/acc: 0.10059171597633136; objective: 2.298077204648186; \n",
      "INFO:root:fold: TRAIN; iteration: 1; objective: 2.2748560905456543; \n",
      "INFO:root:fold: TRAIN; iteration: 2; objective: 2.320478677749634; \n",
      "INFO:root:fold: TRAIN; iteration: 3; objective: 2.2551732063293457; \n",
      "INFO:root:fold: TRAIN; iteration: 4; objective: 2.3073463439941406; \n",
      "INFO:root:fold: TRAIN; iteration: 5; objective: 2.1609554290771484; \n",
      "INFO:root:fold: TRAIN; iteration: 6; objective: 2.2034494876861572; \n",
      "INFO:root:fold: TRAIN; iteration: 7; objective: 2.2774033546447754; \n",
      "INFO:root:fold: TRAIN; iteration: 8; objective: 2.2615444660186768; \n",
      "INFO:root:fold: TRAIN; iteration: 9; objective: 2.201185941696167; \n",
      "INFO:root:fold: TRAIN; iteration: 10; objective: 2.0528008937835693; \n",
      "INFO:root:fold: TRAIN; iteration: 11; objective: 2.099738359451294; \n",
      "INFO:root:fold: TRAIN; iteration: 12; objective: 2.081639051437378; \n",
      "INFO:root:fold: TRAIN; iteration: 13; objective: 1.8749176263809204; \n",
      "INFO:root:fold: TRAIN; iteration: 14; objective: 2.090829372406006; \n",
      "INFO:root:fold: TRAIN; iteration: 15; objective: 2.030858039855957; \n",
      "INFO:root:fold: TRAIN; iteration: 16; objective: 1.9291083812713623; \n",
      "INFO:root:fold: TRAIN; iteration: 17; objective: 1.9609878063201904; \n",
      "INFO:root:fold: TRAIN; iteration: 18; objective: 2.0434563159942627; \n",
      "INFO:root:fold: TRAIN; iteration: 19; objective: 2.162895917892456; \n",
      "INFO:root:fold: TRAIN; iteration: 20; objective: 1.7365036010742188; \n",
      "INFO:root:fold: TRAIN; iteration: 21; objective: 1.6733148097991943; \n",
      "INFO:root:fold: TRAIN; iteration: 22; objective: 1.7407395839691162; \n",
      "INFO:root:fold: TRAIN; iteration: 23; objective: 1.9918779134750366; \n",
      "INFO:root:fold: TRAIN; iteration: 24; objective: 2.201887845993042; \n",
      "INFO:root:fold: TRAIN; iteration: 25; objective: 1.7077432870864868; \n",
      "INFO:root:fold: TRAIN; iteration: 26; objective: 1.767932653427124; \n",
      "INFO:root:fold: TRAIN; iteration: 27; objective: 1.687598466873169; \n",
      "INFO:root:fold: TRAIN; iteration: 28; objective: 1.4950693845748901; \n",
      "INFO:root:fold: TRAIN; iteration: 29; objective: 1.7127794027328491; \n",
      "INFO:root:fold: TRAIN; iteration: 30; objective: 1.5401254892349243; \n",
      "INFO:root:fold: TRAIN; iteration: 31; objective: 1.7739059925079346; \n",
      "INFO:root:fold: TRAIN; iteration: 32; objective: 1.4777355194091797; \n",
      "INFO:root:fold: TRAIN; iteration: 33; objective: 1.6046243906021118; \n",
      "INFO:root:fold: TRAIN; iteration: 34; objective: 1.6565011739730835; \n",
      "INFO:root:fold: TRAIN; iteration: 35; objective: 1.0541471242904663; \n",
      "INFO:root:fold: TRAIN; iteration: 36; objective: 1.4213885068893433; \n",
      "INFO:root:fold: TRAIN; iteration: 37; objective: 1.3486777544021606; \n",
      "INFO:root:fold: TRAIN; iteration: 38; objective: 1.3994977474212646; \n",
      "INFO:root:fold: TRAIN; iteration: 39; objective: 1.2106053829193115; \n",
      "INFO:root:fold: TRAIN; iteration: 40; objective: 1.0619255304336548; \n",
      "INFO:root:fold: TRAIN; iteration: 41; objective: 1.10313081741333; \n",
      "INFO:root:fold: TRAIN; iteration: 42; objective: 0.8897954225540161; \n",
      "INFO:root:fold: TRAIN; iteration: 43; objective: 0.9955800771713257; \n",
      "INFO:root:fold: TRAIN; iteration: 44; objective: 1.1826977729797363; \n",
      "INFO:root:fold: TRAIN; iteration: 45; objective: 1.4623500108718872; \n",
      "INFO:root:fold: TRAIN; iteration: 46; objective: 1.5348327159881592; \n",
      "INFO:root:fold: TRAIN; iteration: 47; objective: 0.9303168058395386; \n",
      "INFO:root:fold: TRAIN; iteration: 48; objective: 0.8198825120925903; \n",
      "INFO:root:fold: TRAIN; iteration: 49; objective: 0.6157615184783936; \n",
      "INFO:root:fold: TRAIN; iteration: 50; objective: 0.9070998430252075; \n",
      "100%|█████████████████████████████████████████████████████████████████████████████████████████████████████████████████████████████████████████████████████| 507/507 [00:00<00:00, 1487.34it/s]\n",
      "INFO:root:fold: VALID; iteration: 50; my_valid/acc: 0.7120315581854043; objective: 0.931239023512485; \n",
      "INFO:root:fold: TRAIN; iteration: 51; objective: 1.001674771308899; \n",
      "INFO:root:fold: TRAIN; iteration: 52; objective: 0.7944471836090088; \n",
      "INFO:root:fold: TRAIN; iteration: 53; objective: 0.9216130375862122; \n",
      "INFO:root:fold: TRAIN; iteration: 54; objective: 0.8743187785148621; \n",
      "INFO:root:fold: TRAIN; iteration: 55; objective: 1.0383862257003784; \n",
      "INFO:root:fold: TRAIN; iteration: 56; objective: 0.6024580597877502; \n",
      "INFO:root:fold: TRAIN; iteration: 57; objective: 0.9288195371627808; \n",
      "INFO:root:fold: TRAIN; iteration: 58; objective: 0.5266460180282593; \n",
      "INFO:root:fold: TRAIN; iteration: 59; objective: 0.5517858862876892; \n",
      "INFO:root:fold: TRAIN; iteration: 60; objective: 0.7172883749008179; \n",
      "INFO:root:fold: TRAIN; iteration: 61; objective: 0.6758036017417908; \n",
      "INFO:root:fold: TRAIN; iteration: 62; objective: 0.5479574799537659; \n",
      "INFO:root:fold: TRAIN; iteration: 63; objective: 1.2857623100280762; \n",
      "INFO:root:fold: TRAIN; iteration: 64; objective: 0.6530102491378784; \n",
      "INFO:root:fold: TRAIN; iteration: 65; objective: 0.25315362215042114; \n",
      "INFO:root:fold: TRAIN; iteration: 66; objective: 0.21270155906677246; \n",
      "INFO:root:fold: TRAIN; iteration: 67; objective: 0.5352389216423035; \n",
      "INFO:root:fold: TRAIN; iteration: 68; objective: 0.7956870794296265; \n",
      "INFO:root:fold: TRAIN; iteration: 69; objective: 0.5757132768630981; \n",
      "INFO:root:fold: TRAIN; iteration: 70; objective: 0.33683696389198303; \n",
      "INFO:root:fold: TRAIN; iteration: 71; objective: 0.35211119055747986; \n",
      "INFO:root:fold: TRAIN; iteration: 72; objective: 0.5821862816810608; \n",
      "INFO:root:fold: TRAIN; iteration: 73; objective: 0.44832363724708557; \n",
      "INFO:root:fold: TRAIN; iteration: 74; objective: 0.2856307625770569; \n",
      "INFO:root:fold: TRAIN; iteration: 75; objective: 0.4196608066558838; \n",
      "INFO:root:fold: TRAIN; iteration: 76; objective: 0.6267086267471313; \n",
      "INFO:root:fold: TRAIN; iteration: 77; objective: 0.8262575268745422; \n",
      "INFO:root:fold: TRAIN; iteration: 78; objective: 0.4415949285030365; \n",
      "INFO:root:fold: TRAIN; iteration: 79; objective: 0.5522249937057495; \n",
      "INFO:root:fold: TRAIN; iteration: 80; objective: 0.3616703450679779; \n",
      "INFO:root:fold: TRAIN; iteration: 81; objective: 0.37881532311439514; \n",
      "INFO:root:fold: TRAIN; iteration: 82; objective: 0.6631690263748169; \n",
      "INFO:root:fold: TRAIN; iteration: 83; objective: 1.0730364322662354; \n",
      "INFO:root:fold: TRAIN; iteration: 84; objective: 0.24852025508880615; \n",
      "INFO:root:fold: TRAIN; iteration: 85; objective: 0.56572425365448; \n",
      "INFO:root:fold: TRAIN; iteration: 86; objective: 0.16006925702095032; \n",
      "INFO:root:fold: TRAIN; iteration: 87; objective: 0.8678467869758606; \n",
      "INFO:root:fold: TRAIN; iteration: 88; objective: 0.7628377676010132; \n",
      "INFO:root:fold: TRAIN; iteration: 89; objective: 0.8431800603866577; \n",
      "INFO:root:fold: TRAIN; iteration: 90; objective: 0.3226393163204193; \n",
      "INFO:root:fold: TRAIN; iteration: 91; objective: 0.564517617225647; \n",
      "INFO:root:fold: TRAIN; iteration: 92; objective: 0.6637306213378906; \n",
      "INFO:root:fold: TRAIN; iteration: 93; objective: 0.39702194929122925; \n",
      "INFO:root:fold: TRAIN; iteration: 94; objective: 0.8693615198135376; \n",
      "INFO:root:fold: TRAIN; iteration: 95; objective: 0.35088327527046204; \n",
      "INFO:root:fold: TRAIN; iteration: 96; objective: 0.4414023458957672; \n",
      "INFO:root:fold: TRAIN; iteration: 97; objective: 0.44608792662620544; \n",
      "INFO:root:fold: TRAIN; iteration: 98; objective: 0.22873131930828094; \n",
      "INFO:root:fold: TRAIN; iteration: 99; objective: 0.4129508137702942; \n",
      "INFO:root:fold: TRAIN; iteration: 100; objective: 0.2586354613304138; \n",
      "100%|█████████████████████████████████████████████████████████████████████████████████████████████████████████████████████████████████████████████████████| 507/507 [00:00<00:00, 1396.88it/s]\n",
      "INFO:root:fold: VALID; iteration: 100; my_valid/acc: 0.8678500986193294; objective: 0.46527863308495165; \n"
     ]
    }
   ],
   "source": [
    "# from torch.optim import Adam\n",
    "from torch.nn.functional import cross_entropy\n",
    "\n",
    "from pinnacledb.container.metric import Metric\n",
    "from pinnacledb.container.dataset import Dataset\n",
    "from pinnacledb.ext.torch.model import TorchTrainerConfiguration\n",
    "\n",
    "\n",
    "job = model.fit(\n",
    "    X='img',\n",
    "    y='class',\n",
    "    db=db,\n",
    "    select=collection.find(),\n",
    "    configuration=TorchTrainerConfiguration(\n",
    "        identifier='my_configuration',\n",
    "        objective=cross_entropy,\n",
    "        loader_kwargs={'batch_size': 10},\n",
    "        max_iterations=100,\n",
    "        validation_interval=50,\n",
    "    ),\n",
    "    metrics=[Metric(identifier='acc', object=lambda x, y: sum([xx == yy for xx, yy in zip(x, y)]) / len(x))],\n",
    "    validation_sets=[\n",
    "        Dataset(\n",
    "            identifier='my_valid',\n",
    "            select=Collection(name='mnist').find({'_fold': 'valid'}),\n",
    "        )\n",
    "    ],\n",
    "    distributed=False\n",
    ")"
   ]
  },
  {
   "cell_type": "code",
   "execution_count": 10,
   "id": "200d3be1",
   "metadata": {},
   "outputs": [
    {
     "data": {
      "image/png": "[encoded data removed]",
      "text/plain": [
       "<Figure size 640x480 with 1 Axes>"
      ]
     },
     "metadata": {},
     "output_type": "display_data"
    }
   ],
   "source": [
    "from matplotlib import pyplot as plt\n",
    "\n",
    "model = db.load('model', model.identifier)\n",
    "\n",
    "plt.plot(model.metric_values['my_valid/acc'])\n",
    "plt.show()"
   ]
  },
  {
   "cell_type": "markdown",
   "id": "0199b952",
   "metadata": {},
   "source": [
    "Now that the model has been trained, we can use it to \"watch\" the data for incoming changes. \n",
    "This is set up with a simple predict \"on\" the database (without loading all the data client-side).\n",
    "\n",
    "The `watch` toggle \"activates\" the model:"
   ]
  },
  {
   "cell_type": "code",
   "execution_count": 11,
   "id": "f0e53249",
   "metadata": {
    "scrolled": false
   },
   "outputs": [
    {
     "name": "stderr",
     "output_type": "stream",
     "text": [
      "WARNING:root:model/lenet5/0 already exists - doing nothing\n",
      "WARNING:root:model/lenet5/0 already exists - doing nothing\n",
      "WARNING:root:model/lenet5/0 already exists - doing nothing\n",
      "100%|█████████████████████████████████████████████████████████████████████████████████████████████████████████████████████████████████████████████████| 10000/10000 [00:06<00:00, 1479.87it/s]\n"
     ]
    }
   ],
   "source": [
    "model.predict(X='img', db=db, select=collection.find(), watch=True)"
   ]
  },
  {
   "cell_type": "markdown",
   "id": "7daae786",
   "metadata": {},
   "source": [
    "We can see that predictions are available in `_outputs.img.lenet5`. The `.unpack()` method strips the document down to just the data."
   ]
  },
  {
   "cell_type": "code",
   "execution_count": 13,
   "id": "bc71a143",
   "metadata": {},
   "outputs": [
    {
     "data": {
      "text/plain": [
       "{'_id': ObjectId('64c8e6071d7d0f4079ba5454'),\n",
       " 'img': <PIL.PngImagePlugin.PngImageFile image mode=L size=28x28>,\n",
       " 'class': 7,\n",
       " '_fold': 'train',\n",
       " '_outputs': {'img': {'lenet5': 7}}}"
      ]
     },
     "execution_count": 13,
     "metadata": {},
     "output_type": "execute_result"
    }
   ],
   "source": [
    "db.execute(collection.find_one()).unpack()"
   ]
  },
  {
   "cell_type": "markdown",
   "id": "c580aba3",
   "metadata": {},
   "source": [
    "The models \"activated\" can be seen here:"
   ]
  },
  {
   "cell_type": "code",
   "execution_count": 14,
   "id": "9f8912f6",
   "metadata": {},
   "outputs": [
    {
     "data": {
      "text/plain": [
       "['lenet5/img']"
      ]
     },
     "execution_count": 14,
     "metadata": {},
     "output_type": "execute_result"
    }
   ],
   "source": [
    "db.show('watcher')"
   ]
  },
  {
   "cell_type": "markdown",
   "id": "7a78a2a1",
   "metadata": {},
   "source": [
    "We can verify that the model is activated, by inserting the rest of the data:"
   ]
  },
  {
   "cell_type": "code",
   "execution_count": 15,
   "id": "c1aa56d0",
   "metadata": {
    "scrolled": false
   },
   "outputs": [
    {
     "name": "stderr",
     "output_type": "stream",
     "text": [
      "INFO:root:found 0 uris\n",
      "WARNING:root:model/lenet5/0 already exists - doing nothing\n",
      "100%|███████████████████████████████████████████████████████████████████████████████████████████████████████████████████████████████████████████████████| 1000/1000 [00:00<00:00, 1479.59it/s]\n"
     ]
    },
    {
     "data": {
      "text/plain": [
       "(<pymongo.results.InsertManyResult at 0x19fd483a0>,\n",
       " TaskWorkflow(database=<pinnacledb.db.base.datalayer.Datalayer object at 0x190b4f890>, G=<networkx.classes.digraph.DiGraph object at 0x1a104bc90>))"
      ]
     },
     "execution_count": 15,
     "metadata": {},
     "output_type": "execute_result"
    }
   ],
   "source": [
    "for r in data[-1000:]:\n",
    "    r['update'] = True\n",
    "\n",
    "db.execute(collection.insert_many(data[-1000:]))"
   ]
  },
  {
   "cell_type": "markdown",
   "id": "9eb48a30",
   "metadata": {},
   "source": [
    "You can see that the inserted data, are now also populated with predictions:"
   ]
  },
  {
   "cell_type": "code",
   "execution_count": 16,
   "id": "d8161983",
   "metadata": {},
   "outputs": [
    {
     "data": {
      "text/plain": [
       "{'img': {'lenet5': 0}}"
      ]
     },
     "execution_count": 16,
     "metadata": {},
     "output_type": "execute_result"
    }
   ],
   "source": [
    "db.execute(collection.find_one({'update': True}))['_outputs']"
   ]
  }
 ],
 "metadata": {
  "kernelspec": {
   "display_name": "Python 3 (ipykernel)",
   "language": "python",
   "name": "python3"
  },
  "language_info": {
   "codemirror_mode": {
    "name": "ipython",
    "version": 3
   },
   "file_extension": ".py",
   "mimetype": "text/x-python",
   "name": "python",
   "nbconvert_exporter": "python",
   "pygments_lexer": "ipython3",
   "version": "3.11.3"
  }
 },
 "nbformat": 4,
 "nbformat_minor": 5
}
