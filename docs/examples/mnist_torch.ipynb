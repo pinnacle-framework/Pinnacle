{
 "cells": [
  {
   "cell_type": "markdown",
   "id": "4b24af19",
   "metadata": {},
   "source": [
    "# Training and maintaining MNIST predictions"
   ]
  },
  {
   "cell_type": "markdown",
   "id": "8905783f",
   "metadata": {},
   "source": [
    "In this notebook we'll be implementing a classic machine learning classification task: MNIST hand written digit\n",
    "recognition, using a convolution neural network, but with a twist: we'll be implementing the task *in database* using SuperDuperDB."
   ]
  },
  {
   "cell_type": "markdown",
   "id": "e3812091",
   "metadata": {},
   "source": [
    "SuperDuperDB supports MongoDB as a databackend. Correspondingly, we'll import the python MongoDB client `pymongo`\n",
    "and \"wrap\" our database to convert it to a SuperDuper `Datalayer`:"
   ]
  },
  {
   "cell_type": "code",
   "execution_count": 1,
   "id": "a28adbce",
   "metadata": {},
   "outputs": [
    {
     "name": "stderr",
     "output_type": "stream",
     "text": [
      "INFO:faiss.loader:Loading faiss.\n",
      "INFO:faiss.loader:Successfully loaded faiss.\n",
      "INFO:numexpr.utils:NumExpr defaulting to 8 threads.\n"
     ]
    }
   ],
   "source": [
    "import pymongo\n",
    "import torch\n",
    "import torchvision\n",
    "\n",
    "from pinnacledb import pinnacle\n",
    "\n",
    "db = pymongo.MongoClient().documents\n",
    "\n",
    "db = pinnacle(db)"
   ]
  },
  {
   "cell_type": "markdown",
   "id": "6233e891",
   "metadata": {},
   "source": [
    "Now that we've connected to SuperDuperDB, let's add some data. MNIST is a good show case for one of the \n",
    "key benefits of SuperDuperDB - adding \"difficult\" data types. This can be done using an `Encoder` \n",
    "which is a key wrapper in SuperDuperDB's arsenal. The `Encoder` works closely together with the `Document` \n",
    "wrapper. Together they allow Python dictionaries containing non-JSONable/ `bytes` objects, to be insert into\n",
    "SuperDuperDB:"
   ]
  },
  {
   "cell_type": "code",
   "execution_count": 3,
   "id": "bf0934cc",
   "metadata": {
    "scrolled": false
   },
   "outputs": [
    {
     "name": "stderr",
     "output_type": "stream",
     "text": [
      "INFO:root:found 0 uris\n"
     ]
    },
    {
     "data": {
      "text/plain": [
       "(<pymongo.results.InsertManyResult at 0x19dcc6500>,\n",
       " TaskWorkflow(database=<pinnacledb.db.base.db.DB object at 0x185b6fad0>, G=<networkx.classes.digraph.DiGraph object at 0x192b1c190>))"
      ]
     },
     "execution_count": 3,
     "metadata": {},
     "output_type": "execute_result"
    }
   ],
   "source": [
    "from pinnacledb.ext.pillow.image import pil_image as i\n",
    "from pinnacledb.container.document import Document as D\n",
    "from pinnacledb.db.mongodb.query import Collection\n",
    "\n",
    "import random\n",
    "\n",
    "collection = Collection(name='mnist')\n",
    "\n",
    "mnist_data = list(torchvision.datasets.MNIST(root='./data', download=True))\n",
    "data = [D({'img': i(x[0]), 'class': x[1]}) for x in mnist_data]\n",
    "random.shuffle(data)\n",
    "data = data[:11000]\n",
    "\n",
    "db.execute(\n",
    "    collection.insert_many(data[:-1000], encoders=[i])\n",
    ")"
   ]
  },
  {
   "cell_type": "markdown",
   "id": "c5341135",
   "metadata": {},
   "source": [
    "Now that we've inserted the images and their classes to the database, let's query some data:"
   ]
  },
  {
   "cell_type": "code",
   "execution_count": 4,
   "id": "a36f9c3b",
   "metadata": {},
   "outputs": [
    {
     "data": {
      "text/plain": [
       "Document({'_id': ObjectId('64c96be4d965e7ba81711315'), 'img': Encodable(encoder=Encoder(identifier='pil_image', decoder=<Artifact artifact=<pinnacledb.ext.pillow.image.DecoderPILImage object at 0x19e864110> serializer=dill>, encoder=<Artifact artifact=<function encode_pil_image at 0x10cec2b60> serializer=dill>, shape=None, version=0), x=<PIL.PngImagePlugin.PngImageFile image mode=L size=28x28 at 0x19E922CD0>, uri=None), 'class': 0, '_fold': 'train'})"
      ]
     },
     "execution_count": 4,
     "metadata": {},
     "output_type": "execute_result"
    }
   ],
   "source": [
    "r = db.execute(collection.find_one())\n",
    "r"
   ]
  },
  {
   "cell_type": "markdown",
   "id": "1413d4c5",
   "metadata": {},
   "source": [
    "When we query the data, it's in exactly the format we inserted it. In particular, we can use the `PIL.Image` instances\n",
    "to inspect the data:"
   ]
  },
  {
   "cell_type": "code",
   "execution_count": 5,
   "id": "e8fb7c9c",
   "metadata": {},
   "outputs": [
    {
     "data": {
      "image/jpeg": "[encoded data removed]",
      "image/png": "[encoded data removed]",
      "text/plain": [
       "<PIL.PngImagePlugin.PngImageFile image mode=L size=28x28>"
      ]
     },
     "execution_count": 5,
     "metadata": {},
     "output_type": "execute_result"
    }
   ],
   "source": [
    "r['img'].x"
   ]
  },
  {
   "cell_type": "markdown",
   "id": "68fde8bb",
   "metadata": {},
   "source": [
    "Now let's create our model. SuperDuperDB supports these frameworks, out-of-the-box:\n",
    "\n",
    "- `torch`\n",
    "- `sklearn`\n",
    "- `transformers`\n",
    "- `sentence_transformers`\n",
    "- `openai`\n",
    "- `langchain`\n",
    "\n",
    "In this case, we're going to use PyTorch, since it's great for computer vision use-cases.\n",
    "We can combine `torch` with `torchvision` in SuperDuperDB."
   ]
  },
  {
   "cell_type": "code",
   "execution_count": 6,
   "id": "cfb425e1",
   "metadata": {},
   "outputs": [],
   "source": [
    "class LeNet5(torch.nn.Module):\n",
    "    def __init__(self, num_classes):\n",
    "        super().__init__()\n",
    "        self.layer1 = torch.nn.Sequential(\n",
    "            torch.nn.Conv2d(1, 6, kernel_size=5, stride=1, padding=0),\n",
    "            torch.nn.BatchNorm2d(6),\n",
    "            torch.nn.ReLU(),\n",
    "            torch.nn.MaxPool2d(kernel_size=2, stride=2))\n",
    "        self.layer2 = torch.nn.Sequential(\n",
    "            torch.nn.Conv2d(6, 16, kernel_size=5, stride=1, padding=0),\n",
    "            torch.nn.BatchNorm2d(16),\n",
    "            torch.nn.ReLU(),\n",
    "            torch.nn.MaxPool2d(kernel_size=2, stride=2))\n",
    "        self.fc = torch.nn.Linear(400, 120)\n",
    "        self.relu = torch.nn.ReLU()\n",
    "        self.fc1 = torch.nn.Linear(120, 84)\n",
    "        self.relu1 = torch.nn.ReLU()\n",
    "        self.fc2 = torch.nn.Linear(84, num_classes)\n",
    "\n",
    "    def forward(self, x):\n",
    "        out = self.layer1(x)\n",
    "        out = self.layer2(out)\n",
    "        out = out.reshape(out.size(0), -1)\n",
    "        out = self.fc(out)\n",
    "        out = self.relu(out)\n",
    "        out = self.fc1(out)\n",
    "        out = self.relu1(out)\n",
    "        out = self.fc2(out)\n",
    "        return out\n",
    "\n",
    "    \n",
    "def postprocess(x):\n",
    "    return int(x.topk(1)[1].item())\n",
    "\n",
    "\n",
    "def preprocess(x):\n",
    "    return torchvision.transforms.Compose([\n",
    "        torchvision.transforms.Resize((32, 32)),\n",
    "        torchvision.transforms.ToTensor(),\n",
    "        torchvision.transforms.Normalize(mean=(0.1307,), std=(0.3081,))]\n",
    "    )(x)"
   ]
  },
  {
   "cell_type": "markdown",
   "id": "91155314",
   "metadata": {},
   "source": [
    "We've created `postprocess` and `preprocess` functions to handle the communication with the SuperDuperDB\n",
    "`Datalayer`. In order to create a native SuperDuperDB model, we wrap the model, preprocessing and postprocessing:"
   ]
  },
  {
   "cell_type": "code",
   "execution_count": 7,
   "id": "d47855b8",
   "metadata": {},
   "outputs": [],
   "source": [
    "model = pinnacle(LeNet5(10), preprocess=preprocess, postprocess=postprocess)"
   ]
  },
  {
   "cell_type": "markdown",
   "id": "5fde9224",
   "metadata": {},
   "source": [
    "The model predicts human readable outputs, directly from the `PIL.Image` objects. All \n",
    "models in SuperDuperDB are equipped with a `sklearn`-style `.predict` method. This makes \n",
    "it easy to know how each AI-framework will operate in combination with the `Datalayer`."
   ]
  },
  {
   "cell_type": "code",
   "execution_count": 8,
   "id": "ae586949",
   "metadata": {},
   "outputs": [
    {
     "name": "stderr",
     "output_type": "stream",
     "text": [
      "100%|████████████████████████████████████████████████████████████████████████████████████████████████████████████████████████████████████████████████████████| 10/10 [00:00<00:00, 424.74it/s]\n"
     ]
    },
    {
     "data": {
      "text/plain": [
       "[4, 4, 4, 7, 7, 4, 7, 7, 4, 4]"
      ]
     },
     "execution_count": 8,
     "metadata": {},
     "output_type": "execute_result"
    }
   ],
   "source": [
    "model.predict([r['img'] for r in data[:10]])"
   ]
  },
  {
   "cell_type": "markdown",
   "id": "dcf0457e",
   "metadata": {},
   "source": [
    "Now we're ready to \"train\" or \"fit\" the model. Trainable models in SuperDuperDB are equipped \n",
    "with a `sklearn`-like `.fit` method:"
   ]
  },
  {
   "cell_type": "code",
   "execution_count": 9,
   "id": "e7c610c1",
   "metadata": {
    "scrolled": false
   },
   "outputs": [
    {
     "name": "stderr",
     "output_type": "stream",
     "text": [
      "INFO:root:fold: TRAIN; iteration: 0; objective: 2.3105101585388184; \n",
      "100%|█████████████████████████████████████████████████████████████████████████████████████████████████████████████████████████████████████████████████████| 558/558 [00:00<00:00, 1431.96it/s]\n",
      "INFO:root:fold: VALID; iteration: 0; my_valid/acc: 0.25268817204301075; objective: 2.2703881689480374; \n",
      "INFO:root:fold: TRAIN; iteration: 1; objective: 2.3918395042419434; \n",
      "INFO:root:fold: TRAIN; iteration: 2; objective: 2.290767192840576; \n",
      "INFO:root:fold: TRAIN; iteration: 3; objective: 2.2228808403015137; \n",
      "INFO:root:fold: TRAIN; iteration: 4; objective: 2.1550333499908447; \n",
      "INFO:root:fold: TRAIN; iteration: 5; objective: 2.2048122882843018; \n",
      "INFO:root:fold: TRAIN; iteration: 6; objective: 2.2090840339660645; \n",
      "INFO:root:fold: TRAIN; iteration: 7; objective: 2.0254814624786377; \n",
      "INFO:root:fold: TRAIN; iteration: 8; objective: 2.1852526664733887; \n",
      "INFO:root:fold: TRAIN; iteration: 9; objective: 2.1778995990753174; \n",
      "INFO:root:fold: TRAIN; iteration: 10; objective: 2.1793136596679688; \n",
      "INFO:root:fold: TRAIN; iteration: 11; objective: 2.12389874458313; \n",
      "INFO:root:fold: TRAIN; iteration: 12; objective: 2.1367945671081543; \n",
      "INFO:root:fold: TRAIN; iteration: 13; objective: 1.9695758819580078; \n",
      "INFO:root:fold: TRAIN; iteration: 14; objective: 2.0372567176818848; \n",
      "INFO:root:fold: TRAIN; iteration: 15; objective: 1.8292570114135742; \n",
      "INFO:root:fold: TRAIN; iteration: 16; objective: 1.9448763132095337; \n",
      "INFO:root:fold: TRAIN; iteration: 17; objective: 2.0899996757507324; \n",
      "INFO:root:fold: TRAIN; iteration: 18; objective: 1.9606287479400635; \n",
      "INFO:root:fold: TRAIN; iteration: 19; objective: 2.04937744140625; \n",
      "INFO:root:fold: TRAIN; iteration: 20; objective: 1.9769548177719116; \n",
      "INFO:root:fold: TRAIN; iteration: 21; objective: 1.9665218591690063; \n",
      "INFO:root:fold: TRAIN; iteration: 22; objective: 1.7454824447631836; \n",
      "INFO:root:fold: TRAIN; iteration: 23; objective: 1.81619131565094; \n",
      "INFO:root:fold: TRAIN; iteration: 24; objective: 1.6561057567596436; \n",
      "INFO:root:fold: TRAIN; iteration: 25; objective: 1.5740435123443604; \n",
      "INFO:root:fold: TRAIN; iteration: 26; objective: 1.665992021560669; \n",
      "INFO:root:fold: TRAIN; iteration: 27; objective: 2.0479626655578613; \n",
      "INFO:root:fold: TRAIN; iteration: 28; objective: 1.7076313495635986; \n",
      "INFO:root:fold: TRAIN; iteration: 29; objective: 1.7344188690185547; \n",
      "INFO:root:fold: TRAIN; iteration: 30; objective: 1.6000556945800781; \n",
      "INFO:root:fold: TRAIN; iteration: 31; objective: 1.720768690109253; \n",
      "INFO:root:fold: TRAIN; iteration: 32; objective: 1.233067274093628; \n",
      "INFO:root:fold: TRAIN; iteration: 33; objective: 1.669216513633728; \n",
      "INFO:root:fold: TRAIN; iteration: 34; objective: 1.4653639793395996; \n",
      "INFO:root:fold: TRAIN; iteration: 35; objective: 1.4024364948272705; \n",
      "INFO:root:fold: TRAIN; iteration: 36; objective: 1.297529935836792; \n",
      "INFO:root:fold: TRAIN; iteration: 37; objective: 1.1742985248565674; \n",
      "INFO:root:fold: TRAIN; iteration: 38; objective: 1.1496506929397583; \n",
      "INFO:root:fold: TRAIN; iteration: 39; objective: 1.4313104152679443; \n",
      "INFO:root:fold: TRAIN; iteration: 40; objective: 1.203903317451477; \n",
      "INFO:root:fold: TRAIN; iteration: 41; objective: 0.7818890810012817; \n",
      "INFO:root:fold: TRAIN; iteration: 42; objective: 0.8698641061782837; \n",
      "INFO:root:fold: TRAIN; iteration: 43; objective: 1.020082712173462; \n",
      "INFO:root:fold: TRAIN; iteration: 44; objective: 0.4956820607185364; \n",
      "INFO:root:fold: TRAIN; iteration: 45; objective: 0.9748638868331909; \n",
      "INFO:root:fold: TRAIN; iteration: 46; objective: 0.6737827062606812; \n",
      "INFO:root:fold: TRAIN; iteration: 47; objective: 1.1579262018203735; \n",
      "INFO:root:fold: TRAIN; iteration: 48; objective: 1.1657507419586182; \n",
      "INFO:root:fold: TRAIN; iteration: 49; objective: 0.8568824529647827; \n",
      "INFO:root:fold: TRAIN; iteration: 50; objective: 0.5040735602378845; \n",
      "100%|█████████████████████████████████████████████████████████████████████████████████████████████████████████████████████████████████████████████████████| 558/558 [00:00<00:00, 1430.00it/s]\n",
      "INFO:root:fold: VALID; iteration: 50; my_valid/acc: 0.7383512544802867; objective: 0.8741271272301674; \n",
      "INFO:root:fold: TRAIN; iteration: 51; objective: 0.916893482208252; \n",
      "INFO:root:fold: TRAIN; iteration: 52; objective: 0.7980018258094788; \n",
      "INFO:root:fold: TRAIN; iteration: 53; objective: 0.7874477505683899; \n",
      "INFO:root:fold: TRAIN; iteration: 54; objective: 0.7812429070472717; \n",
      "INFO:root:fold: TRAIN; iteration: 55; objective: 0.8497027158737183; \n",
      "INFO:root:fold: TRAIN; iteration: 56; objective: 1.2349560260772705; \n",
      "INFO:root:fold: TRAIN; iteration: 57; objective: 1.4158365726470947; \n",
      "INFO:root:fold: TRAIN; iteration: 58; objective: 0.539936900138855; \n",
      "INFO:root:fold: TRAIN; iteration: 59; objective: 0.7230440378189087; \n",
      "INFO:root:fold: TRAIN; iteration: 60; objective: 0.43158116936683655; \n",
      "INFO:root:fold: TRAIN; iteration: 61; objective: 0.7120977640151978; \n",
      "INFO:root:fold: TRAIN; iteration: 62; objective: 0.613747239112854; \n",
      "INFO:root:fold: TRAIN; iteration: 63; objective: 0.9152754545211792; \n",
      "INFO:root:fold: TRAIN; iteration: 64; objective: 0.8157927393913269; \n",
      "INFO:root:fold: TRAIN; iteration: 65; objective: 1.149582028388977; \n",
      "INFO:root:fold: TRAIN; iteration: 66; objective: 0.615566074848175; \n",
      "INFO:root:fold: TRAIN; iteration: 67; objective: 0.6098676919937134; \n",
      "INFO:root:fold: TRAIN; iteration: 68; objective: 0.46549659967422485; \n",
      "INFO:root:fold: TRAIN; iteration: 69; objective: 0.5324541926383972; \n",
      "INFO:root:fold: TRAIN; iteration: 70; objective: 0.4733143448829651; \n",
      "INFO:root:fold: TRAIN; iteration: 71; objective: 0.7464480400085449; \n",
      "INFO:root:fold: TRAIN; iteration: 72; objective: 0.5254291892051697; \n",
      "INFO:root:fold: TRAIN; iteration: 73; objective: 0.7491143941879272; \n",
      "INFO:root:fold: TRAIN; iteration: 74; objective: 0.6175366640090942; \n",
      "INFO:root:fold: TRAIN; iteration: 75; objective: 0.3911023736000061; \n",
      "INFO:root:fold: TRAIN; iteration: 76; objective: 0.9560402035713196; \n",
      "INFO:root:fold: TRAIN; iteration: 77; objective: 0.5806397795677185; \n",
      "INFO:root:fold: TRAIN; iteration: 78; objective: 0.5572320222854614; \n",
      "INFO:root:fold: TRAIN; iteration: 79; objective: 0.41218042373657227; \n",
      "INFO:root:fold: TRAIN; iteration: 80; objective: 0.41276606917381287; \n",
      "INFO:root:fold: TRAIN; iteration: 81; objective: 0.37783342599868774; \n",
      "INFO:root:fold: TRAIN; iteration: 82; objective: 0.5951465368270874; \n",
      "INFO:root:fold: TRAIN; iteration: 83; objective: 0.493022620677948; \n",
      "INFO:root:fold: TRAIN; iteration: 84; objective: 0.6156379580497742; \n",
      "INFO:root:fold: TRAIN; iteration: 85; objective: 0.2824074923992157; \n",
      "INFO:root:fold: TRAIN; iteration: 86; objective: 0.8805557489395142; \n",
      "INFO:root:fold: TRAIN; iteration: 87; objective: 1.169555902481079; \n",
      "INFO:root:fold: TRAIN; iteration: 88; objective: 0.6826926469802856; \n",
      "INFO:root:fold: TRAIN; iteration: 89; objective: 0.7234252095222473; \n",
      "INFO:root:fold: TRAIN; iteration: 90; objective: 0.5930507779121399; \n",
      "INFO:root:fold: TRAIN; iteration: 91; objective: 0.2546379566192627; \n",
      "INFO:root:fold: TRAIN; iteration: 92; objective: 0.5066332817077637; \n",
      "INFO:root:fold: TRAIN; iteration: 93; objective: 0.36917024850845337; \n",
      "INFO:root:fold: TRAIN; iteration: 94; objective: 0.38623785972595215; \n",
      "INFO:root:fold: TRAIN; iteration: 95; objective: 0.40037423372268677; \n",
      "INFO:root:fold: TRAIN; iteration: 96; objective: 0.3689376711845398; \n",
      "INFO:root:fold: TRAIN; iteration: 97; objective: 0.16234883666038513; \n",
      "INFO:root:fold: TRAIN; iteration: 98; objective: 0.347642719745636; \n",
      "INFO:root:fold: TRAIN; iteration: 99; objective: 0.35473597049713135; \n",
      "INFO:root:fold: TRAIN; iteration: 100; objective: 0.63926100730896; \n",
      "100%|█████████████████████████████████████████████████████████████████████████████████████████████████████████████████████████████████████████████████████| 558/558 [00:00<00:00, 1444.68it/s]\n",
      "INFO:root:fold: VALID; iteration: 100; my_valid/acc: 0.8351254480286738; objective: 0.5133022128471306; \n"
     ]
    }
   ],
   "source": [
    "# from torch.optim import Adam\n",
    "from torch.nn.functional import cross_entropy\n",
    "\n",
    "from pinnacledb.container.metric import Metric\n",
    "from pinnacledb.container.dataset import Dataset\n",
    "from pinnacledb.ext.torch.model import TorchTrainerConfiguration\n",
    "\n",
    "\n",
    "job = model.fit(\n",
    "    X='img',\n",
    "    y='class',\n",
    "    db=db,\n",
    "    select=collection.find(),\n",
    "    configuration=TorchTrainerConfiguration(\n",
    "        identifier='my_configuration',\n",
    "        objective=cross_entropy,\n",
    "        loader_kwargs={'batch_size': 10},\n",
    "        max_iterations=100,\n",
    "        validation_interval=50,\n",
    "    ),\n",
    "    metrics=[Metric(identifier='acc', object=lambda x, y: sum([xx == yy for xx, yy in zip(x, y)]) / len(x))],\n",
    "    validation_sets=[\n",
    "        Dataset(\n",
    "            identifier='my_valid',\n",
    "            select=Collection(name='mnist').find({'_fold': 'valid'}),\n",
    "        )\n",
    "    ],\n",
    "    distributed=False\n",
    ")"
   ]
  },
  {
   "cell_type": "code",
   "execution_count": 10,
   "id": "200d3be1",
   "metadata": {},
   "outputs": [
    {
     "data": {
      "image/png": "[encoded data removed]",
      "text/plain": [
       "<Figure size 640x480 with 1 Axes>"
      ]
     },
     "metadata": {},
     "output_type": "display_data"
    }
   ],
   "source": [
    "from matplotlib import pyplot as plt\n",
    "\n",
    "model = db.load('model', model.identifier)\n",
    "\n",
    "plt.plot(model.metric_values['my_valid/acc'])\n",
    "plt.show()"
   ]
  },
  {
   "cell_type": "markdown",
   "id": "0199b952",
   "metadata": {},
   "source": [
    "Now that the model has been trained, we can use it to \"listen\" the data for incoming changes. \n",
    "This is set up with a simple predict \"on\" the database (without loading all the data client-side).\n",
    "\n",
    "The `listen` toggle \"activates\" the model:"
   ]
  },
  {
   "cell_type": "code",
   "execution_count": 11,
   "id": "f0e53249",
   "metadata": {
    "scrolled": false
   },
   "outputs": [
    {
     "name": "stderr",
     "output_type": "stream",
     "text": [
      "WARNING:root:model/lenet5/0 already exists - doing nothing\n",
      "WARNING:root:model/lenet5/0 already exists - doing nothing\n",
      "WARNING:root:model/lenet5/0 already exists - doing nothing\n",
      "100%|█████████████████████████████████████████████████████████████████████████████████████████████████████████████████████████████████████████████████| 10000/10000 [00:06<00:00, 1432.95it/s]\n"
     ]
    }
   ],
   "source": [
    "model.predict(X='img', db=db, select=collection.find(), listen=True)"
   ]
  },
  {
   "cell_type": "markdown",
   "id": "7daae786",
   "metadata": {},
   "source": [
    "We can see that predictions are available in `_outputs.img.lenet5`. The `.unpack()` method strips the document down to just the data."
   ]
  },
  {
   "cell_type": "code",
   "execution_count": 12,
   "id": "bc71a143",
   "metadata": {},
   "outputs": [
    {
     "data": {
      "text/plain": [
       "{'_id': ObjectId('64c96be4d965e7ba81711315'),\n",
       " 'img': <PIL.PngImagePlugin.PngImageFile image mode=L size=28x28>,\n",
       " 'class': 0,\n",
       " '_fold': 'train',\n",
       " '_outputs': {'img': {'lenet5': 0}}}"
      ]
     },
     "execution_count": 12,
     "metadata": {},
     "output_type": "execute_result"
    }
   ],
   "source": [
    "db.execute(collection.find_one()).unpack()"
   ]
  },
  {
   "cell_type": "markdown",
   "id": "c580aba3",
   "metadata": {},
   "source": [
    "The models \"activated\" can be seen here:"
   ]
  },
  {
   "cell_type": "code",
   "execution_count": 13,
   "id": "9f8912f6",
   "metadata": {},
   "outputs": [
    {
     "data": {
      "text/plain": [
       "['lenet5/img']"
      ]
     },
     "execution_count": 13,
     "metadata": {},
     "output_type": "execute_result"
    }
   ],
   "source": [
    "db.show('listener')"
   ]
  },
  {
   "cell_type": "markdown",
   "id": "7a78a2a1",
   "metadata": {},
   "source": [
    "We can verify that the model is activated, by inserting the rest of the data:"
   ]
  },
  {
   "cell_type": "code",
   "execution_count": 14,
   "id": "c1aa56d0",
   "metadata": {
    "scrolled": false
   },
   "outputs": [
    {
     "name": "stderr",
     "output_type": "stream",
     "text": [
      "INFO:root:found 0 uris\n",
      "WARNING:root:model/lenet5/0 already exists - doing nothing\n",
      "100%|███████████████████████████████████████████████████████████████████████████████████████████████████████████████████████████████████████████████████| 1000/1000 [00:00<00:00, 1456.62it/s]\n"
     ]
    },
    {
     "data": {
      "text/plain": [
       "(<pymongo.results.InsertManyResult at 0x19dca2b30>,\n",
       " TaskWorkflow(database=<pinnacledb.db.base.db.DB object at 0x185b6fad0>, G=<networkx.classes.digraph.DiGraph object at 0x183411d90>))"
      ]
     },
     "execution_count": 14,
     "metadata": {},
     "output_type": "execute_result"
    }
   ],
   "source": [
    "for r in data[-1000:]:\n",
    "    r['update'] = True\n",
    "\n",
    "db.execute(collection.insert_many(data[-1000:]))"
   ]
  },
  {
   "cell_type": "markdown",
   "id": "9eb48a30",
   "metadata": {},
   "source": [
    "You can see that the inserted data, are now also populated with predictions:"
   ]
  },
  {
   "cell_type": "code",
   "execution_count": 15,
   "id": "d8161983",
   "metadata": {},
   "outputs": [
    {
     "data": {
      "text/plain": [
       "{'img': {'lenet5': 5}}"
      ]
     },
     "execution_count": 15,
     "metadata": {},
     "output_type": "execute_result"
    }
   ],
   "source": [
    "db.execute(collection.find_one({'update': True}))['_outputs']"
   ]
  }
 ],
 "metadata": {
  "kernelspec": {
   "display_name": "Python 3 (ipykernel)",
   "language": "python",
   "name": "python3"
  },
  "language_info": {
   "codemirror_mode": {
    "name": "ipython",
    "version": 3
   },
   "file_extension": ".py",
   "mimetype": "text/x-python",
   "name": "python",
   "nbconvert_exporter": "python",
   "pygments_lexer": "ipython3",
   "version": "3.11.3"
  }
 },
 "nbformat": 4,
 "nbformat_minor": 5
}
