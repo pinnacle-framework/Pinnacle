{
 "cells": [
  {
   "cell_type": "markdown",
   "id": "45934822",
   "metadata": {},
   "source": [
    "# Add images, audio or video from URIs"
   ]
  },
  {
   "cell_type": "markdown",
   "id": "f9aa2c1b",
   "metadata": {},
   "source": [
    "In this \"how-to\" guide, we demonstrate how to add images, audio or video to SuperDuperDB."
   ]
  },
  {
   "cell_type": "markdown",
   "id": "a4ca32dd",
   "metadata": {},
   "source": [
    "First, let's get a `Datalayer` instance, in order to demonstrate:"
   ]
  },
  {
   "cell_type": "code",
   "execution_count": 2,
   "id": "689e1d34",
   "metadata": {},
   "outputs": [
    {
     "name": "stderr",
     "output_type": "stream",
     "text": [
      "INFO:faiss.loader:Loading faiss.\n",
      "INFO:faiss.loader:Successfully loaded faiss.\n",
      "INFO:numexpr.utils:NumExpr defaulting to 8 threads.\n"
     ]
    }
   ],
   "source": [
    "import pymongo\n",
    "from pinnacledb import pinnacle\n",
    "from pinnacledb.db.mongodb.query import Collection\n",
    "\n",
    "db = pymongo.MongoClient().documents\n",
    "\n",
    "db = pinnacle(db)\n",
    "\n",
    "collection = Collection('complexdata')"
   ]
  },
  {
   "cell_type": "markdown",
   "id": "2a02eb56",
   "metadata": {},
   "source": [
    "In order to encode, we create an `Encoder` instance:"
   ]
  },
  {
   "cell_type": "code",
   "execution_count": 4,
   "id": "2a46b641",
   "metadata": {},
   "outputs": [],
   "source": [
    "from pinnacledb.container.encoder import Encoder\n",
    "import io\n",
    "import pickle\n",
    "import PIL.Image\n",
    "\n",
    "# encoder handles conversion to `bytes`\n",
    "def encoder(image):\n",
    "    buf = io.BytesIO()\n",
    "    image.save(buf, format='png')\n",
    "    return buf.getvalue()\n",
    "\n",
    "# decoder handles conversion from `bytes` to Python\n",
    "decoder = lambda x: PIL.Image.open(io.BytesIO(x))\n",
    "\n",
    "enc = Encoder(identifier='my-enc', encoder=encoder, decoder=decoder)"
   ]
  },
  {
   "cell_type": "markdown",
   "id": "e759730a",
   "metadata": {},
   "source": [
    "We don't need to load our objects (images etc.) to add to the DB, we can use URIs instead:"
   ]
  },
  {
   "cell_type": "code",
   "execution_count": 6,
   "id": "05189ec6",
   "metadata": {
    "scrolled": false
   },
   "outputs": [
    {
     "name": "stderr",
     "output_type": "stream",
     "text": [
      "INFO:root:found 10 uris\n",
      "INFO:botocore.credentials:Credentials found in config file: ~/.aws/config\n",
      "INFO:root:number of workers 0\n",
      "100%|████████████████████████████████████████████████████████████████████████████████████████████████████████████████████████████████████████████████████████| 10/10 [00:00<00:00, 144.91it/s]\n"
     ]
    },
    {
     "data": {
      "text/plain": [
       "(<pymongo.results.InsertManyResult at 0x184531300>,\n",
       " TaskWorkflow(database=<pinnacledb.db.base.db.DB object at 0x19c09cc90>, G=<networkx.classes.digraph.DiGraph object at 0x19c0ed910>))"
      ]
     },
     "execution_count": 6,
     "metadata": {},
     "output_type": "execute_result"
    }
   ],
   "source": [
    "import glob\n",
    "from pinnacledb.container.document import Document as D\n",
    "\n",
    "imgs = glob.glob('../img/*.png')\n",
    "\n",
    "# wrap documents with `Document` in order so that SuperDuperDB knows how to handle\n",
    "# wrap URI with `enc` to designate as \"to-be-encoded\"\n",
    "# The URIs can be a mixture of `file://`, `http://`, `https://` and `s3://`\n",
    "db.execute(\n",
    "    collection.insert_many([\n",
    "        D({'img': enc(uri=f'file://{img}')}) for img in imgs\n",
    "    ], encoders=(enc,))\n",
    ")"
   ]
  },
  {
   "cell_type": "code",
   "execution_count": 7,
   "id": "ecab6908",
   "metadata": {},
   "outputs": [
    {
     "data": {
      "text/plain": [
       "{'_id': ObjectId('64ca089459670629027eac8f'),\n",
       " 'img': <PIL.PngImagePlugin.PngImageFile image mode=RGBA size=120x120>,\n",
       " '_fold': 'train'}"
      ]
     },
     "execution_count": 7,
     "metadata": {},
     "output_type": "execute_result"
    }
   ],
   "source": [
    "r = db.execute(collection.find_one()).unpack()\n",
    "r"
   ]
  },
  {
   "cell_type": "markdown",
   "id": "cc1ca614",
   "metadata": {},
   "source": [
    "We can verify that the image was properly stored:"
   ]
  },
  {
   "cell_type": "code",
   "execution_count": 8,
   "id": "0394c8a0",
   "metadata": {},
   "outputs": [
    {
     "data": {
      "image/jpeg": "[encoded data removed]",
      "image/png": "[encoded data removed]",
      "text/plain": [
       "<PIL.Image.Image image mode=RGB size=120x120>"
      ]
     },
     "execution_count": 8,
     "metadata": {},
     "output_type": "execute_result"
    }
   ],
   "source": [
    "i = r['img'].convert('RGB')\n",
    "i"
   ]
  },
  {
   "cell_type": "markdown",
   "id": "4b09e507",
   "metadata": {},
   "source": [
    "We can also add Python objects directly:"
   ]
  },
  {
   "cell_type": "code",
   "execution_count": 9,
   "id": "a75f4a92",
   "metadata": {},
   "outputs": [
    {
     "name": "stderr",
     "output_type": "stream",
     "text": [
      "INFO:root:found 0 uris\n"
     ]
    },
    {
     "data": {
      "text/plain": [
       "(<pymongo.results.InsertManyResult at 0x19c16fbe0>,\n",
       " TaskWorkflow(database=<pinnacledb.db.base.db.DB object at 0x19c09cc90>, G=<networkx.classes.digraph.DiGraph object at 0x19d233a50>))"
      ]
     },
     "execution_count": 9,
     "metadata": {},
     "output_type": "execute_result"
    }
   ],
   "source": [
    "db.execute(collection.insert_one(D({'img': enc(i), 'direct': True})))"
   ]
  },
  {
   "cell_type": "markdown",
   "id": "3bf7139b",
   "metadata": {},
   "source": [
    "Verify:"
   ]
  },
  {
   "cell_type": "code",
   "execution_count": 10,
   "id": "2ae53c98",
   "metadata": {},
   "outputs": [
    {
     "data": {
      "image/jpeg": "[encoded data removed]",
      "image/png": "[encoded data removed]",
      "text/plain": [
       "<PIL.PngImagePlugin.PngImageFile image mode=RGB size=120x120>"
      ]
     },
     "execution_count": 10,
     "metadata": {},
     "output_type": "execute_result"
    }
   ],
   "source": [
    "r = db.execute(collection.find_one({'direct': True})).unpack()\n",
    "r['img']"
   ]
  }
 ],
 "metadata": {
  "kernelspec": {
   "display_name": "Python 3 (ipykernel)",
   "language": "python",
   "name": "python3"
  },
  "language_info": {
   "codemirror_mode": {
    "name": "ipython",
    "version": 3
   },
   "file_extension": ".py",
   "mimetype": "text/x-python",
   "name": "python",
   "nbconvert_exporter": "python",
   "pygments_lexer": "ipython3",
   "version": "3.11.3"
  }
 },
 "nbformat": 4,
 "nbformat_minor": 5
}
