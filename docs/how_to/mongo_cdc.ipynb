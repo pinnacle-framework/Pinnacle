{
 "cells": [
  {
   "cell_type": "markdown",
   "id": "1b057225",
   "metadata": {},
   "source": [
    "# Perform change data capture (CDC)\n",
    "\n",
    "In a standalone MongoDB deployment, users are required to insert data directly through the \n",
    "SuperDuperDB `Datalayer` or client (which triggers the `Datalayer`). For use-cases \n",
    "with multiple users, stakeholders, and potentially automated data-updates on the database,\n",
    "this is not sufficient. For that reason SuperDuperDB supports a paradigm known as \n",
    "change-data-capture (CDC). \n",
    "\n",
    "In change-data-capture, a service is deployed which watchers the data deployment for changes, and \n",
    "reacts to these changes, activating models which are configured to compute outputs over new data.\n",
    "\n",
    "In this notebook, we demonstrate how to use CDC with SuperDuperDB."
   ]
  },
  {
   "cell_type": "code",
   "execution_count": 1,
   "id": "4a37df1a",
   "metadata": {},
   "outputs": [
    {
     "name": "stderr",
     "output_type": "stream",
     "text": [
      "INFO:numexpr.utils:NumExpr defaulting to 8 threads.\n"
     ]
    }
   ],
   "source": [
    "import pymongo\n",
    "import sys\n",
    "\n",
    "sys.path.append('../')\n",
    "\n",
    "from pinnacledb.encoders.numpy.array import array\n",
    "from pinnacledb.models.sentence_transformers.wrapper import SentenceTransformer\n",
    "from pinnacledb.datalayer.mongodb.query import Collection\n",
    "from pinnacledb.misc.pinnacle import pinnacle\n",
    "from pinnacledb.core.watcher import Watcher\n",
    "from pinnacledb.core.vector_index import VectorIndex\n",
    "from pinnacledb.datalayer.base.cdc import DatabaseWatcher\n",
    "from pinnacledb.core.documents import Document as D\n",
    "from sentence_transformers import SentenceTransformer as _SentenceTransformer"
   ]
  },
  {
   "cell_type": "code",
   "execution_count": 2,
   "id": "fd223945",
   "metadata": {},
   "outputs": [],
   "source": [
    "pymongo.MongoClient().drop_database('documents')\n",
    "pymongo.MongoClient().drop_database('_filesystem:documents')"
   ]
  },
  {
   "cell_type": "code",
   "execution_count": null,
   "id": "43bc0d07",
   "metadata": {},
   "outputs": [],
   "source": [
    "db = pymongo.MongoClient().documents\n",
    "db = pinnacle(db)\n",
    "\n",
    "collectino = Collection('cdc_example')"
   ]
  },
  {
   "cell_type": "markdown",
   "id": "6bde593d",
   "metadata": {},
   "source": [
    "Insert the data into `documents` collection"
   ]
  },
  {
   "cell_type": "code",
   "execution_count": 3,
   "id": "7647ef68",
   "metadata": {},
   "outputs": [
    {
     "name": "stderr",
     "output_type": "stream",
     "text": [
      "INFO:root:found 0 uris\n"
     ]
    },
    {
     "data": {
      "text/plain": [
       "(<pymongo.results.InsertManyResult at 0x7ff01f4d8d60>,\n",
       " TaskWorkflow(database=<pinnacledb.datalayer.base.database.BaseDatabase object at 0x7ff029927070>, G=<networkx.classes.digraph.DiGraph object at 0x7ff01f4d8be0>))"
      ]
     },
     "execution_count": 3,
     "metadata": {},
     "output_type": "execute_result"
    }
   ],
   "source": [
    "data = [\n",
    "  {\n",
    "    \"title\": \"Politics of Armenia\",\n",
    "    \"abstract\": \"The politics of Armenia take place in the framework of the parliamentary representative democratic republic of Armenia, whereby the President of Armenia is the head of state and the Prime Minister of Armenia the head of government, and of a multi-party system. Executive power is exercised by the President and the Government.\"\n",
    "  },\n",
    "  {\n",
    "    \"title\": \"Foreign relations of Armenia\",\n",
    "    \"abstract\": \"Since its independence, Armenia has maintained a policy of complementarism by trying to have positive and friendly relations with Iran, Russia, and the West, including the United States and the European Union.– \\\"Armenian Foreign Policy Between Russia, Iran And U.\"\n",
    "  },\n",
    "  {\n",
    "    \"title\": \"Demographics of American Samoa\",\n",
    "    \"abstract\": \"This article is about the demographics of American Samoa, including population density, ethnicity, education level, health of the populace, economic status, religious affiliations and other aspects of the population. American Samoa is an unincorporated territory of the United States located in the South Pacific Ocean.\"\n",
    "  },\n",
    "  {\n",
    "    \"title\": \"Analysis\",\n",
    "    \"abstract\": \"Analysis is the process of breaking a complex topic or substance into smaller parts in order to gain a better understanding of it. The technique has been applied in the study of mathematics and logic since before Aristotle (384–322 B.\"\n",
    "  }\n",
    "]\n",
    "\n",
    "data = [D(d) for d in data]\n",
    "\n",
    "db.execute(collection.insert_many(data, encoders= [i]))"
   ]
  },
  {
   "cell_type": "markdown",
   "id": "684c323d",
   "metadata": {},
   "source": [
    "Create a vector index watcher.\n",
    "This consist a indexing watcher (SentenceTransformer) model to vectorize a key."
   ]
  },
  {
   "cell_type": "code",
   "execution_count": 4,
   "id": "a3425fa6",
   "metadata": {},
   "outputs": [
    {
     "name": "stderr",
     "output_type": "stream",
     "text": [
      "INFO:sentence_transformers.SentenceTransformer:Load pretrained SentenceTransformer: all-MiniLM-L6-v2\n",
      "INFO:sentence_transformers.SentenceTransformer:Use pytorch device: cpu\n"
     ]
    }
   ],
   "source": [
    "def configure_text_search(model):\n",
    "    return db.add(VectorIndex(\n",
    "        identifier='my-index',\n",
    "        indexing_watcher=Watcher(\n",
    "            model=model,\n",
    "            key='abstract',\n",
    "            select=Collection(name='documents').find()\n",
    "        ),\n",
    "    ))\n",
    "\n",
    "configure_text_search(\n",
    "    SentenceTransformer(\n",
    "        identifier=\"test-st\",\n",
    "        object=_SentenceTransformer('all-MiniLM-L6-v2'),\n",
    "        encoder= array('float32', shape=(384,))\n",
    "    )\n",
    ")"
   ]
  },
  {
   "cell_type": "markdown",
   "id": "15ca7228",
   "metadata": {},
   "source": [
    "Create instance of `DatabaseWatcher` and start watching the `documents` collection."
   ]
  },
  {
   "cell_type": "code",
   "execution_count": 26,
   "id": "35a9698e",
   "metadata": {},
   "outputs": [
    {
     "name": "stderr",
     "output_type": "stream",
     "text": [
      "INFO:root:Database watch service started at 2023-07-21 19:21:35.649003\n",
      "INFO:root:Started listening database with identity basic-cdc-watcher/documents...\n"
     ]
    }
   ],
   "source": [
    "database_watcher = DatabaseWatcher(\n",
    "    db=db,\n",
    "    identifier='basic-cdc-watcher',\n",
    "    on=Collection(name='documents')\n",
    ")\n",
    "database_watcher.watch()"
   ]
  },
  {
   "cell_type": "markdown",
   "id": "d9267007",
   "metadata": {},
   "source": [
    "Check the watcher's status"
   ]
  },
  {
   "cell_type": "code",
   "execution_count": 27,
   "id": "515f1be4",
   "metadata": {},
   "outputs": [
    {
     "data": {
      "text/plain": [
       "True"
      ]
     },
     "execution_count": 27,
     "metadata": {},
     "output_type": "execute_result"
    }
   ],
   "source": [
    "database_watcher.is_available()"
   ]
  },
  {
   "cell_type": "markdown",
   "id": "36520aee",
   "metadata": {},
   "source": [
    "You can check information stored by the watcher."
   ]
  },
  {
   "cell_type": "code",
   "execution_count": 28,
   "id": "faf4d408",
   "metadata": {},
   "outputs": [
    {
     "name": "stdout",
     "output_type": "stream",
     "text": [
      "{\n",
      "  \"inserts\": 0,\n",
      "  \"updates\": 0\n",
      "}\n"
     ]
    },
    {
     "data": {
      "text/plain": [
       "{'inserts': 0, 'updates': 0}"
      ]
     },
     "execution_count": 28,
     "metadata": {},
     "output_type": "execute_result"
    }
   ],
   "source": [
    "database_watcher.info()"
   ]
  },
  {
   "cell_type": "markdown",
   "id": "667e4115",
   "metadata": {},
   "source": [
    "Add 2 documents and check the info again"
   ]
  },
  {
   "cell_type": "code",
   "execution_count": 29,
   "id": "7cd16835",
   "metadata": {},
   "outputs": [
    {
     "name": "stderr",
     "output_type": "stream",
     "text": [
      "INFO:root:found 0 uris\n",
      "WARNING:root:model/test-st/0 already exists - doing nothing\n"
     ]
    },
    {
     "data": {
      "application/vnd.jupyter.widget-view+json": {
       "model_id": "c578498e5bca4b0688a556caded50a63",
       "version_major": 2,
       "version_minor": 0
      },
      "text/plain": [
       "Batches:   0%|          | 0/1 [00:00<?, ?it/s]"
      ]
     },
     "metadata": {},
     "output_type": "display_data"
    },
    {
     "name": "stderr",
     "output_type": "stream",
     "text": [
      "WARNING:root:model/test-st/0 already exists - doing nothing\n"
     ]
    },
    {
     "data": {
      "application/vnd.jupyter.widget-view+json": {
       "model_id": "ac1939bf00bb4005b06f395e23c4c1ed",
       "version_major": 2,
       "version_minor": 0
      },
      "text/plain": [
       "Batches:   0%|          | 0/1 [00:00<?, ?it/s]"
      ]
     },
     "metadata": {},
     "output_type": "display_data"
    }
   ],
   "source": [
    "data = [\n",
    "    {\n",
    "        \"title\": \"Politics of India\",\n",
    "        \"abstract\": \"Some despriction 1\",\n",
    "    }, \n",
    "    {\n",
    "        \"title\": \"Politics of Asia\",\n",
    "        \"abstract\": \"some description 2\",\n",
    "    }\n",
    "]\n",
    "doc = db_mongo.test_db.documents.insert_many(data)"
   ]
  },
  {
   "cell_type": "markdown",
   "id": "bdf2af2e",
   "metadata": {},
   "source": [
    "Check the inserts info again"
   ]
  },
  {
   "cell_type": "code",
   "execution_count": 10,
   "id": "7ecb8b96",
   "metadata": {},
   "outputs": [
    {
     "name": "stdout",
     "output_type": "stream",
     "text": [
      "{\n",
      "  \"inserts\": 1,\n",
      "  \"updates\": 0\n",
      "}\n"
     ]
    },
    {
     "data": {
      "text/plain": [
       "{'inserts': 1, 'updates': 0}"
      ]
     },
     "execution_count": 10,
     "metadata": {},
     "output_type": "execute_result"
    }
   ],
   "source": [
    "database_watcher.info()"
   ]
  },
  {
   "cell_type": "markdown",
   "id": "13cf1fad",
   "metadata": {},
   "source": [
    "Check that the vectors synced between LanceDB and MongoDB"
   ]
  },
  {
   "cell_type": "code",
   "execution_count": 11,
   "id": "a3159982",
   "metadata": {},
   "outputs": [],
   "source": [
    "from pinnacledb.vector_search.lancedb_client import LanceDBClient\n",
    "from pinnacledb import CFG"
   ]
  },
  {
   "cell_type": "code",
   "execution_count": 12,
   "id": "2c63c8c1",
   "metadata": {},
   "outputs": [],
   "source": [
    "client = db.vector_database.client"
   ]
  },
  {
   "cell_type": "markdown",
   "id": "e3c9d4d4",
   "metadata": {},
   "source": [
    "Use the identifier to extract the correct table in LanceDB (`<model>/<key>`)"
   ]
  },
  {
   "cell_type": "code",
   "execution_count": null,
   "id": "184dc249",
   "metadata": {},
   "outputs": [],
   "source": [
    "table = client.get_table('test-st/abstract')"
   ]
  },
  {
   "cell_type": "code",
   "execution_count": null,
   "id": "c4bd5f18",
   "metadata": {},
   "outputs": [],
   "source": [
    "table.table.to_pandas()"
   ]
  }
 ],
 "metadata": {
  "kernelspec": {
   "display_name": "Python 3 (ipykernel)",
   "language": "python",
   "name": "python3"
  },
  "language_info": {
   "codemirror_mode": {
    "name": "ipython",
    "version": 3
   },
   "file_extension": ".py",
   "mimetype": "text/x-python",
   "name": "python",
   "nbconvert_exporter": "python",
   "pygments_lexer": "ipython3",
   "version": "3.11.3"
  }
 },
 "nbformat": 4,
 "nbformat_minor": 5
}
