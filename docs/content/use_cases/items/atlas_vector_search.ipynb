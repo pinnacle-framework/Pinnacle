{
 "cells": [
  {
   "cell_type": "markdown",
   "id": "0d352545-a8c6-45ad-8359-c9b6edd2b7d2",
   "metadata": {},
   "source": [
    "# MongoDB Atlas vector-search with SuperDuperDB"
   ]
  },
  {
   "cell_type": "code",
   "execution_count": null,
   "id": "c1f9e69e-75f4-42f9-a48d-b1f68f02646d",
   "metadata": {},
   "outputs": [],
   "source": [
    "!pip install pinnacledb"
   ]
  },
  {
   "cell_type": "code",
   "execution_count": null,
   "id": "8e097557-7c50-4442-9e38-1df8a9d8f211",
   "metadata": {},
   "outputs": [],
   "source": [
    "from pinnacledb.db.base.build import build_datalayer\n",
    "from pinnacledb import CFG\n",
    "\n",
    "ATLAS_URI = 'mongodb://<your-atlas-cluster-uri>'\n",
    "\n",
    "CFG.data_backend = ATLAS_URI\n",
    "CFG.vector_search = ATLAS_URI\n",
    "\n",
    "db = build_datalayer()"
   ]
  },
  {
   "cell_type": "code",
   "execution_count": null,
   "id": "1a75c38b-bf28-4c2c-bafa-4abc77bff911",
   "metadata": {},
   "outputs": [],
   "source": [
    "!curl -O https://pinnacledb-public.s3.eu-west-1.amazonaws.com/pymongo.json"
   ]
  },
  {
   "cell_type": "code",
   "execution_count": null,
   "id": "049b4122-b2c9-4ca5-be3c-df788912ce34",
   "metadata": {},
   "outputs": [],
   "source": [
    "import json\n",
    "from pinnacledb.db.mongodb.query import Collection\n",
    "from pinnacledb.container.document import Document as D\n",
    "\n",
    "with open('pymongo.json') as f:\n",
    "    data = json.load(f)\n",
    "\n",
    "db.execute(Collection('documents').insert_many([D(r) for r in data]))"
   ]
  },
  {
   "cell_type": "code",
   "execution_count": null,
   "id": "a0a30873-b7fc-4ec5-ace9-f3d4ca01bab2",
   "metadata": {},
   "outputs": [],
   "source": [
    "from pinnacledb.container.vector_index import VectorIndex\n",
    "from pinnacledb.container.listener import Listener\n",
    "from pinnacledb.ext.numpy.array import array\n",
    "from pinnacledb.ext.openai.model import OpenAIEmbedding\n",
    "\n",
    "\n",
    "model = OpenAIEmbedding(model='text-embedding-ada-002')\n",
    "\n",
    "db.add(\n",
    "    VectorIndex(\n",
    "        identifier=f'pymongo-docs',\n",
    "        indexing_listener=Listener(\n",
    "            model=model,\n",
    "            key='value',\n",
    "            select=Collection('documents').find(),\n",
    "            predict_kwargs={'max_chunk_size': 1000},\n",
    "        ),\n",
    "    )\n",
    ")"
   ]
  },
  {
   "cell_type": "code",
   "execution_count": null,
   "id": "f0184fb1-10ae-4488-9e93-c56b5fcd9ac2",
   "metadata": {},
   "outputs": [],
   "source": [
    "from pinnacledb.db.mongodb.query import Collection\n",
    "from pinnacledb.container.document import Document as D\n",
    "from IPython.display import *\n",
    "\n",
    "query = 'Find data'\n",
    "\n",
    "result = db.execute(\n",
    "    Collection('documents')\n",
    "        .like(D({'value': query}), vector_index='pymongo-docs', n=5)\n",
    "        .find()\n",
    ")\n",
    "\n",
    "for r in result:\n",
    "    display(Markdown(f'### `{r[\"parent\"] + \".\" if r[\"parent\"] else \"\"}{r[\"res\"]}`'))\n",
    "    display(Markdown(r['value']))"
   ]
  }
 ],
 "metadata": {
  "kernelspec": {
   "display_name": "Python 3 (ipykernel)",
   "language": "python",
   "name": "python3"
  },
  "language_info": {
   "codemirror_mode": {
    "name": "ipython",
    "version": 3
   },
   "file_extension": ".py",
   "mimetype": "text/x-python",
   "name": "python",
   "nbconvert_exporter": "python",
   "pygments_lexer": "ipython3",
   "version": "3.8.17"
  }
 },
 "nbformat": 4,
 "nbformat_minor": 5
}
