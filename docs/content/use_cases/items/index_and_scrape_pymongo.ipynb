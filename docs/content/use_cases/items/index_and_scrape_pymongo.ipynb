{
 "cells": [
  {
   "cell_type": "markdown",
   "id": "ae157b6c-12f7-4d89-b40a-d280d7073032",
   "metadata": {},
   "source": [
    "# Vector-search on PyMongo documentation"
   ]
  },
  {
   "cell_type": "code",
   "execution_count": 64,
   "id": "789b8d6c-6a9f-4625-acec-feab43084963",
   "metadata": {},
   "outputs": [
    {
     "name": "stdout",
     "output_type": "stream",
     "text": [
      "Requirement already satisfied: pinnacledb in ./.venv/lib/python3.8/site-packages (0.0.6)\n",
      "Requirement already satisfied: boto3>=1.16 in ./.venv/lib/python3.8/site-packages (from pinnacledb) (1.28.20)\n",
      "Requirement already satisfied: dask[distributed]>=2022.6.0 in ./.venv/lib/python3.8/site-packages (from pinnacledb) (2023.5.0)\n",
      "Requirement already satisfied: dill>=0.3.6 in ./.venv/lib/python3.8/site-packages (from pinnacledb) (0.3.7)\n",
      "Requirement already satisfied: fil>=1.1.0 in ./.venv/lib/python3.8/site-packages (from pinnacledb) (1.3.0)\n",
      "Requirement already satisfied: networkx>=2.8.8 in ./.venv/lib/python3.8/site-packages (from pinnacledb) (3.1)\n",
      "Requirement already satisfied: requests>=2.22 in ./.venv/lib/python3.8/site-packages (from pinnacledb) (2.31.0)\n",
      "Requirement already satisfied: tqdm>=4.64.1 in ./.venv/lib/python3.8/site-packages (from pinnacledb) (4.65.0)\n",
      "Requirement already satisfied: typer>=0.7.0 in ./.venv/lib/python3.8/site-packages (from pinnacledb) (0.9.0)\n",
      "Requirement already satisfied: lancedb<0.2 in ./.venv/lib/python3.8/site-packages (from pinnacledb) (0.1.16)\n",
      "Requirement already satisfied: readerwriterlock>=1.0.9 in ./.venv/lib/python3.8/site-packages (from pinnacledb) (1.0.9)\n",
      "Requirement already satisfied: pandas>=2.0.2 in ./.venv/lib/python3.8/site-packages (from pinnacledb) (2.0.3)\n",
      "Requirement already satisfied: flask>=2.2.3 in ./.venv/lib/python3.8/site-packages (from pinnacledb) (2.3.2)\n",
      "Requirement already satisfied: flask-cors>=3.0.10 in ./.venv/lib/python3.8/site-packages (from pinnacledb) (4.0.0)\n",
      "Requirement already satisfied: flask-httpauth>=4.7.0 in ./.venv/lib/python3.8/site-packages (from pinnacledb) (4.8.0)\n",
      "Requirement already satisfied: werkzeug>=2.2.3 in ./.venv/lib/python3.8/site-packages (from pinnacledb) (2.3.6)\n",
      "Requirement already satisfied: pydantic>=1 in ./.venv/lib/python3.8/site-packages (from pinnacledb) (1.10.12)\n",
      "Requirement already satisfied: pymongo>=4.3.3 in ./.venv/lib/python3.8/site-packages (from pinnacledb) (4.4.1)\n",
      "Requirement already satisfied: numpy>=1.24.3 in ./.venv/lib/python3.8/site-packages (from pinnacledb) (1.24.4)\n",
      "Requirement already satisfied: overrides>=7 in ./.venv/lib/python3.8/site-packages (from pinnacledb) (7.4.0)\n",
      "Requirement already satisfied: tenacity>=8.1.0 in ./.venv/lib/python3.8/site-packages (from pinnacledb) (8.2.2)\n",
      "Requirement already satisfied: scikit-learn>=1.1.3 in ./.venv/lib/python3.8/site-packages (from pinnacledb) (1.3.0)\n",
      "Requirement already satisfied: openai>=0.27.6 in ./.venv/lib/python3.8/site-packages (from pinnacledb) (0.27.8)\n",
      "Requirement already satisfied: pillow>=9.4.0 in ./.venv/lib/python3.8/site-packages (from pinnacledb) (10.0.0)\n",
      "Requirement already satisfied: safer>=4.8.0 in ./.venv/lib/python3.8/site-packages (from pinnacledb) (4.8.0)\n",
      "Requirement already satisfied: semver>=3 in ./.venv/lib/python3.8/site-packages (from pinnacledb) (3.0.1)\n",
      "Requirement already satisfied: botocore<1.32.0,>=1.31.20 in ./.venv/lib/python3.8/site-packages (from boto3>=1.16->pinnacledb) (1.31.20)\n",
      "Requirement already satisfied: jmespath<2.0.0,>=0.7.1 in ./.venv/lib/python3.8/site-packages (from boto3>=1.16->pinnacledb) (1.0.1)\n",
      "Requirement already satisfied: s3transfer<0.7.0,>=0.6.0 in ./.venv/lib/python3.8/site-packages (from boto3>=1.16->pinnacledb) (0.6.1)\n",
      "Requirement already satisfied: click>=8.0 in ./.venv/lib/python3.8/site-packages (from dask[distributed]>=2022.6.0->pinnacledb) (8.1.6)\n",
      "Requirement already satisfied: cloudpickle>=1.5.0 in ./.venv/lib/python3.8/site-packages (from dask[distributed]>=2022.6.0->pinnacledb) (2.2.1)\n",
      "Requirement already satisfied: fsspec>=2021.09.0 in ./.venv/lib/python3.8/site-packages (from dask[distributed]>=2022.6.0->pinnacledb) (2023.6.0)\n",
      "Requirement already satisfied: packaging>=20.0 in ./.venv/lib/python3.8/site-packages (from dask[distributed]>=2022.6.0->pinnacledb) (23.1)\n",
      "Requirement already satisfied: partd>=1.2.0 in ./.venv/lib/python3.8/site-packages (from dask[distributed]>=2022.6.0->pinnacledb) (1.4.0)\n",
      "Requirement already satisfied: pyyaml>=5.3.1 in ./.venv/lib/python3.8/site-packages (from dask[distributed]>=2022.6.0->pinnacledb) (6.0.1)\n",
      "Requirement already satisfied: toolz>=0.10.0 in ./.venv/lib/python3.8/site-packages (from dask[distributed]>=2022.6.0->pinnacledb) (0.12.0)\n",
      "Requirement already satisfied: importlib-metadata>=4.13.0 in ./.venv/lib/python3.8/site-packages (from dask[distributed]>=2022.6.0->pinnacledb) (6.8.0)\n",
      "Requirement already satisfied: distributed==2023.5.0 in ./.venv/lib/python3.8/site-packages (from dask[distributed]>=2022.6.0->pinnacledb) (2023.5.0)\n",
      "Requirement already satisfied: jinja2>=2.10.3 in ./.venv/lib/python3.8/site-packages (from distributed==2023.5.0->dask[distributed]>=2022.6.0->pinnacledb) (3.1.2)\n",
      "Requirement already satisfied: locket>=1.0.0 in ./.venv/lib/python3.8/site-packages (from distributed==2023.5.0->dask[distributed]>=2022.6.0->pinnacledb) (1.0.0)\n",
      "Requirement already satisfied: msgpack>=1.0.0 in ./.venv/lib/python3.8/site-packages (from distributed==2023.5.0->dask[distributed]>=2022.6.0->pinnacledb) (1.0.5)\n",
      "Requirement already satisfied: psutil>=5.7.0 in ./.venv/lib/python3.8/site-packages (from distributed==2023.5.0->dask[distributed]>=2022.6.0->pinnacledb) (5.9.5)\n",
      "Requirement already satisfied: sortedcontainers>=2.0.5 in ./.venv/lib/python3.8/site-packages (from distributed==2023.5.0->dask[distributed]>=2022.6.0->pinnacledb) (2.4.0)\n",
      "Requirement already satisfied: tblib>=1.6.0 in ./.venv/lib/python3.8/site-packages (from distributed==2023.5.0->dask[distributed]>=2022.6.0->pinnacledb) (2.0.0)\n",
      "Requirement already satisfied: tornado>=6.0.3 in ./.venv/lib/python3.8/site-packages (from distributed==2023.5.0->dask[distributed]>=2022.6.0->pinnacledb) (6.3.2)\n",
      "Requirement already satisfied: urllib3>=1.24.3 in ./.venv/lib/python3.8/site-packages (from distributed==2023.5.0->dask[distributed]>=2022.6.0->pinnacledb) (1.26.16)\n",
      "Requirement already satisfied: zict>=2.2.0 in ./.venv/lib/python3.8/site-packages (from distributed==2023.5.0->dask[distributed]>=2022.6.0->pinnacledb) (3.0.0)\n",
      "Requirement already satisfied: itsdangerous>=2.1.2 in ./.venv/lib/python3.8/site-packages (from flask>=2.2.3->pinnacledb) (2.1.2)\n",
      "Requirement already satisfied: blinker>=1.6.2 in ./.venv/lib/python3.8/site-packages (from flask>=2.2.3->pinnacledb) (1.6.2)\n",
      "Requirement already satisfied: pylance==0.5.10 in ./.venv/lib/python3.8/site-packages (from lancedb<0.2->pinnacledb) (0.5.10)\n",
      "Requirement already satisfied: ratelimiter in ./.venv/lib/python3.8/site-packages (from lancedb<0.2->pinnacledb) (1.2.0.post0)\n",
      "Requirement already satisfied: retry in ./.venv/lib/python3.8/site-packages (from lancedb<0.2->pinnacledb) (0.9.2)\n",
      "Requirement already satisfied: aiohttp in ./.venv/lib/python3.8/site-packages (from lancedb<0.2->pinnacledb) (3.8.5)\n",
      "Requirement already satisfied: attr in ./.venv/lib/python3.8/site-packages (from lancedb<0.2->pinnacledb) (0.3.2)\n",
      "Requirement already satisfied: pyarrow>=10 in ./.venv/lib/python3.8/site-packages (from pylance==0.5.10->lancedb<0.2->pinnacledb) (11.0.0)\n",
      "Requirement already satisfied: python-dateutil>=2.8.2 in ./.venv/lib/python3.8/site-packages (from pandas>=2.0.2->pinnacledb) (2.8.2)\n",
      "Requirement already satisfied: pytz>=2020.1 in ./.venv/lib/python3.8/site-packages (from pandas>=2.0.2->pinnacledb) (2023.3)\n",
      "Requirement already satisfied: tzdata>=2022.1 in ./.venv/lib/python3.8/site-packages (from pandas>=2.0.2->pinnacledb) (2023.3)\n",
      "Requirement already satisfied: typing-extensions>=4.2.0 in ./.venv/lib/python3.8/site-packages (from pydantic>=1->pinnacledb) (4.7.1)\n",
      "Requirement already satisfied: dnspython<3.0.0,>=1.16.0 in ./.venv/lib/python3.8/site-packages (from pymongo>=4.3.3->pinnacledb) (2.4.1)\n",
      "Requirement already satisfied: charset-normalizer<4,>=2 in ./.venv/lib/python3.8/site-packages (from requests>=2.22->pinnacledb) (3.2.0)\n",
      "Requirement already satisfied: idna<4,>=2.5 in ./.venv/lib/python3.8/site-packages (from requests>=2.22->pinnacledb) (3.4)\n",
      "Requirement already satisfied: certifi>=2017.4.17 in ./.venv/lib/python3.8/site-packages (from requests>=2.22->pinnacledb) (2023.7.22)\n",
      "Requirement already satisfied: scipy>=1.5.0 in ./.venv/lib/python3.8/site-packages (from scikit-learn>=1.1.3->pinnacledb) (1.10.1)\n",
      "Requirement already satisfied: joblib>=1.1.1 in ./.venv/lib/python3.8/site-packages (from scikit-learn>=1.1.3->pinnacledb) (1.3.1)\n",
      "Requirement already satisfied: threadpoolctl>=2.0.0 in ./.venv/lib/python3.8/site-packages (from scikit-learn>=1.1.3->pinnacledb) (3.2.0)\n",
      "Requirement already satisfied: MarkupSafe>=2.1.1 in ./.venv/lib/python3.8/site-packages (from werkzeug>=2.2.3->pinnacledb) (2.1.3)\n",
      "Requirement already satisfied: zipp>=0.5 in ./.venv/lib/python3.8/site-packages (from importlib-metadata>=4.13.0->dask[distributed]>=2022.6.0->pinnacledb) (3.16.2)\n",
      "Requirement already satisfied: six>=1.5 in ./.venv/lib/python3.8/site-packages (from python-dateutil>=2.8.2->pandas>=2.0.2->pinnacledb) (1.16.0)\n",
      "Requirement already satisfied: attrs>=17.3.0 in ./.venv/lib/python3.8/site-packages (from aiohttp->lancedb<0.2->pinnacledb) (23.1.0)\n",
      "Requirement already satisfied: multidict<7.0,>=4.5 in ./.venv/lib/python3.8/site-packages (from aiohttp->lancedb<0.2->pinnacledb) (6.0.4)\n",
      "Requirement already satisfied: async-timeout<5.0,>=4.0.0a3 in ./.venv/lib/python3.8/site-packages (from aiohttp->lancedb<0.2->pinnacledb) (4.0.2)\n",
      "Requirement already satisfied: yarl<2.0,>=1.0 in ./.venv/lib/python3.8/site-packages (from aiohttp->lancedb<0.2->pinnacledb) (1.9.2)\n",
      "Requirement already satisfied: frozenlist>=1.1.1 in ./.venv/lib/python3.8/site-packages (from aiohttp->lancedb<0.2->pinnacledb) (1.4.0)\n",
      "Requirement already satisfied: aiosignal>=1.1.2 in ./.venv/lib/python3.8/site-packages (from aiohttp->lancedb<0.2->pinnacledb) (1.3.1)\n",
      "Requirement already satisfied: decorator>=3.4.2 in ./.venv/lib/python3.8/site-packages (from retry->lancedb<0.2->pinnacledb) (5.1.1)\n",
      "Requirement already satisfied: py<2.0.0,>=1.4.26 in ./.venv/lib/python3.8/site-packages (from retry->lancedb<0.2->pinnacledb) (1.11.0)\n",
      "Requirement already satisfied: sphinx in ./.venv/lib/python3.8/site-packages (7.1.2)\n",
      "Requirement already satisfied: sphinxcontrib-applehelp in ./.venv/lib/python3.8/site-packages (from sphinx) (1.0.4)\n",
      "Requirement already satisfied: sphinxcontrib-devhelp in ./.venv/lib/python3.8/site-packages (from sphinx) (1.0.2)\n",
      "Requirement already satisfied: sphinxcontrib-jsmath in ./.venv/lib/python3.8/site-packages (from sphinx) (1.0.1)\n",
      "Requirement already satisfied: sphinxcontrib-htmlhelp>=2.0.0 in ./.venv/lib/python3.8/site-packages (from sphinx) (2.0.1)\n",
      "Requirement already satisfied: sphinxcontrib-serializinghtml>=1.1.5 in ./.venv/lib/python3.8/site-packages (from sphinx) (1.1.5)\n",
      "Requirement already satisfied: sphinxcontrib-qthelp in ./.venv/lib/python3.8/site-packages (from sphinx) (1.0.3)\n",
      "Requirement already satisfied: Jinja2>=3.0 in ./.venv/lib/python3.8/site-packages (from sphinx) (3.1.2)\n",
      "Requirement already satisfied: Pygments>=2.13 in ./.venv/lib/python3.8/site-packages (from sphinx) (2.16.1)\n",
      "Requirement already satisfied: docutils<0.21,>=0.18.1 in ./.venv/lib/python3.8/site-packages (from sphinx) (0.20.1)\n",
      "Requirement already satisfied: snowballstemmer>=2.0 in ./.venv/lib/python3.8/site-packages (from sphinx) (2.2.0)\n",
      "Requirement already satisfied: babel>=2.9 in ./.venv/lib/python3.8/site-packages (from sphinx) (2.12.1)\n",
      "Requirement already satisfied: alabaster<0.8,>=0.7 in ./.venv/lib/python3.8/site-packages (from sphinx) (0.7.13)\n",
      "Requirement already satisfied: imagesize>=1.3 in ./.venv/lib/python3.8/site-packages (from sphinx) (1.4.1)\n",
      "Requirement already satisfied: requests>=2.25.0 in ./.venv/lib/python3.8/site-packages (from sphinx) (2.31.0)\n",
      "Requirement already satisfied: packaging>=21.0 in ./.venv/lib/python3.8/site-packages (from sphinx) (23.1)\n",
      "Requirement already satisfied: importlib-metadata>=4.8 in ./.venv/lib/python3.8/site-packages (from sphinx) (6.8.0)\n",
      "Requirement already satisfied: pytz>=2015.7 in ./.venv/lib/python3.8/site-packages (from babel>=2.9->sphinx) (2023.3)\n",
      "Requirement already satisfied: zipp>=0.5 in ./.venv/lib/python3.8/site-packages (from importlib-metadata>=4.8->sphinx) (3.16.2)\n",
      "Requirement already satisfied: MarkupSafe>=2.0 in ./.venv/lib/python3.8/site-packages (from Jinja2>=3.0->sphinx) (2.1.3)\n",
      "Requirement already satisfied: charset-normalizer<4,>=2 in ./.venv/lib/python3.8/site-packages (from requests>=2.25.0->sphinx) (3.2.0)\n",
      "Requirement already satisfied: idna<4,>=2.5 in ./.venv/lib/python3.8/site-packages (from requests>=2.25.0->sphinx) (3.4)\n",
      "Requirement already satisfied: urllib3<3,>=1.21.1 in ./.venv/lib/python3.8/site-packages (from requests>=2.25.0->sphinx) (1.26.16)\n",
      "Requirement already satisfied: certifi>=2017.4.17 in ./.venv/lib/python3.8/site-packages (from requests>=2.25.0->sphinx) (2023.7.22)\n",
      "Requirement already satisfied: sphinx-markdown-builder in ./.venv/lib/python3.8/site-packages (0.6.5)\n",
      "Requirement already satisfied: sphinx>=2.2.0 in ./.venv/lib/python3.8/site-packages (from sphinx-markdown-builder) (7.1.2)\n",
      "Requirement already satisfied: tabulate in ./.venv/lib/python3.8/site-packages (from sphinx-markdown-builder) (0.9.0)\n",
      "Requirement already satisfied: docutils in ./.venv/lib/python3.8/site-packages (from sphinx-markdown-builder) (0.20.1)\n",
      "Requirement already satisfied: sphinxcontrib-applehelp in ./.venv/lib/python3.8/site-packages (from sphinx>=2.2.0->sphinx-markdown-builder) (1.0.4)\n",
      "Requirement already satisfied: sphinxcontrib-devhelp in ./.venv/lib/python3.8/site-packages (from sphinx>=2.2.0->sphinx-markdown-builder) (1.0.2)\n",
      "Requirement already satisfied: sphinxcontrib-jsmath in ./.venv/lib/python3.8/site-packages (from sphinx>=2.2.0->sphinx-markdown-builder) (1.0.1)\n",
      "Requirement already satisfied: sphinxcontrib-htmlhelp>=2.0.0 in ./.venv/lib/python3.8/site-packages (from sphinx>=2.2.0->sphinx-markdown-builder) (2.0.1)\n",
      "Requirement already satisfied: sphinxcontrib-serializinghtml>=1.1.5 in ./.venv/lib/python3.8/site-packages (from sphinx>=2.2.0->sphinx-markdown-builder) (1.1.5)\n",
      "Requirement already satisfied: sphinxcontrib-qthelp in ./.venv/lib/python3.8/site-packages (from sphinx>=2.2.0->sphinx-markdown-builder) (1.0.3)\n",
      "Requirement already satisfied: Jinja2>=3.0 in ./.venv/lib/python3.8/site-packages (from sphinx>=2.2.0->sphinx-markdown-builder) (3.1.2)\n",
      "Requirement already satisfied: Pygments>=2.13 in ./.venv/lib/python3.8/site-packages (from sphinx>=2.2.0->sphinx-markdown-builder) (2.16.1)\n",
      "Requirement already satisfied: snowballstemmer>=2.0 in ./.venv/lib/python3.8/site-packages (from sphinx>=2.2.0->sphinx-markdown-builder) (2.2.0)\n",
      "Requirement already satisfied: babel>=2.9 in ./.venv/lib/python3.8/site-packages (from sphinx>=2.2.0->sphinx-markdown-builder) (2.12.1)\n",
      "Requirement already satisfied: alabaster<0.8,>=0.7 in ./.venv/lib/python3.8/site-packages (from sphinx>=2.2.0->sphinx-markdown-builder) (0.7.13)\n",
      "Requirement already satisfied: imagesize>=1.3 in ./.venv/lib/python3.8/site-packages (from sphinx>=2.2.0->sphinx-markdown-builder) (1.4.1)\n",
      "Requirement already satisfied: requests>=2.25.0 in ./.venv/lib/python3.8/site-packages (from sphinx>=2.2.0->sphinx-markdown-builder) (2.31.0)\n",
      "Requirement already satisfied: packaging>=21.0 in ./.venv/lib/python3.8/site-packages (from sphinx>=2.2.0->sphinx-markdown-builder) (23.1)\n",
      "Requirement already satisfied: importlib-metadata>=4.8 in ./.venv/lib/python3.8/site-packages (from sphinx>=2.2.0->sphinx-markdown-builder) (6.8.0)\n",
      "Requirement already satisfied: pytz>=2015.7 in ./.venv/lib/python3.8/site-packages (from babel>=2.9->sphinx>=2.2.0->sphinx-markdown-builder) (2023.3)\n",
      "Requirement already satisfied: zipp>=0.5 in ./.venv/lib/python3.8/site-packages (from importlib-metadata>=4.8->sphinx>=2.2.0->sphinx-markdown-builder) (3.16.2)\n",
      "Requirement already satisfied: MarkupSafe>=2.0 in ./.venv/lib/python3.8/site-packages (from Jinja2>=3.0->sphinx>=2.2.0->sphinx-markdown-builder) (2.1.3)\n",
      "Requirement already satisfied: charset-normalizer<4,>=2 in ./.venv/lib/python3.8/site-packages (from requests>=2.25.0->sphinx>=2.2.0->sphinx-markdown-builder) (3.2.0)\n",
      "Requirement already satisfied: idna<4,>=2.5 in ./.venv/lib/python3.8/site-packages (from requests>=2.25.0->sphinx>=2.2.0->sphinx-markdown-builder) (3.4)\n",
      "Requirement already satisfied: urllib3<3,>=1.21.1 in ./.venv/lib/python3.8/site-packages (from requests>=2.25.0->sphinx>=2.2.0->sphinx-markdown-builder) (1.26.16)\n",
      "Requirement already satisfied: certifi>=2017.4.17 in ./.venv/lib/python3.8/site-packages (from requests>=2.25.0->sphinx>=2.2.0->sphinx-markdown-builder) (2023.7.22)\n"
     ]
    }
   ],
   "source": [
    "!pip install pinnacledb\n",
    "!pip install sphinx\n",
    "!pip install sphinx-markdown-builder"
   ]
  },
  {
   "cell_type": "code",
   "execution_count": 66,
   "id": "b9f30345-1134-4858-b4bc-682258e2d84a",
   "metadata": {},
   "outputs": [
    {
     "name": "stderr",
     "output_type": "stream",
     "text": [
      "Cloning into 'mongo-python-driver'...\n"
     ]
    },
    {
     "name": "stdout",
     "output_type": "stream",
     "text": [
      "Creating file source/pymongo.rst.\n",
      "Creating file source/modules.rst.\n",
      "\u001b[01mRunning Sphinx v7.1.2\u001b[39;49;00m\n",
      "loading intersphinx inventory from https://www.gevent.org/objects.inv...\n",
      "loading intersphinx inventory from https://docs.python.org/3/objects.inv...\n",
      "\u001b[01mbuilding [mo]: \u001b[39;49;00mall of 0 po files\n",
      "\u001b[01mwriting output... \u001b[39;49;00m\n",
      "\u001b[01mbuilding [markdown]: \u001b[39;49;00mall source files\n",
      "\u001b[01mupdating environment: \u001b[39;49;00m[new config] 82 added, 0 changed, 0 removed\n",
      "\u001b[2K\u001b[01mreading sources... \u001b[39;49;00m[100%] \u001b[35mtutorial\u001b[39;49;00m\u001b[39;49;00m49;00mmm9;00m\n",
      "\u001b[01mlooking for now-outdated files... \u001b[39;49;00mnone found\n",
      "\u001b[01mpickling environment... \u001b[39;49;00mdone\n",
      "\u001b[01mchecking consistency... \u001b[39;49;00mdone\n",
      "\u001b[01mpreparing documents... \u001b[39;49;00mdone\n",
      "\u001b[01mcopying assets... \u001b[39;49;00mdone\n",
      "\u001b[2K\u001b[01mwriting output... \u001b[39;49;00m[100%] \u001b[32mtutorial\u001b[39;49;00m\u001b[39;49;00m49;00mmm9;00m\n"
     ]
    },
    {
     "name": "stderr",
     "output_type": "stream",
     "text": [
      "\u001b[91m/Users/dodo/SuperDuperDB/pinnacledb/mongo-python-driver/bson/binary.py:docstring of bson.binary.Binary.as_uuid:1: WARNING: unknown node type: <desc_returns: <reference...>>\u001b[39;49;00m\n",
      "\u001b[91m/Users/dodo/SuperDuperDB/pinnacledb/mongo-python-driver/bson/codec_options.py:docstring of bson.codec_options.CodecOptions.with_options:1: WARNING: unknown node type: <desc_returns: <reference...>>\u001b[39;49;00m\n",
      "\u001b[91m/Users/dodo/SuperDuperDB/pinnacledb/mongo-python-driver/bson/datetime_ms.py:docstring of bson.datetime_ms.DatetimeMS.as_datetime:1: WARNING: unknown node type: <desc_returns: <reference...>>\u001b[39;49;00m\n",
      "\u001b[91m/Users/dodo/SuperDuperDB/pinnacledb/mongo-python-driver/bson/dbref.py:docstring of bson.dbref.DBRef.as_doc:1: WARNING: unknown node type: <desc_returns: <reference...><desc_sig_punctuation...><reference...><de ...>\u001b[39;49;00m\n",
      "\u001b[91m/Users/dodo/SuperDuperDB/pinnacledb/mongo-python-driver/bson/decimal128.py:docstring of bson.decimal128.Decimal128.from_bid:1: WARNING: unknown node type: <desc_returns: <reference...>>\u001b[39;49;00m\n",
      "\u001b[91m/Users/dodo/SuperDuperDB/pinnacledb/mongo-python-driver/bson/__init__.py:docstring of bson:10: WARNING: unknown node type: <footnote_reference: <#text: '1'>>\u001b[39;49;00m\n",
      "\u001b[91m/Users/dodo/SuperDuperDB/pinnacledb/mongo-python-driver/bson/__init__.py:docstring of bson:28: WARNING: unknown node type: <footnote \"int\": <label...><paragraph...>>\u001b[39;49;00m\n",
      "\u001b[91m/Users/dodo/SuperDuperDB/pinnacledb/mongo-python-driver/bson/__init__.py:docstring of bson.BSON.decode:1: WARNING: unknown node type: <desc_returns: <reference...><desc_sig_punctuation...><reference...><de ...>\u001b[39;49;00m\n",
      "\u001b[91m/Users/dodo/SuperDuperDB/pinnacledb/mongo-python-driver/bson/json_util.py:docstring of bson.json_util.JSONOptions.with_options:1: WARNING: unknown node type: <desc_returns: <reference...>>\u001b[39;49;00m\n",
      "\u001b[91m/Users/dodo/SuperDuperDB/pinnacledb/mongo-python-driver/bson/objectid.py:docstring of bson.objectid.ObjectId.from_datetime:1: WARNING: unknown node type: <desc_returns: <reference...>>\u001b[39;49;00m\n",
      "\u001b[91m/Users/dodo/SuperDuperDB/pinnacledb/mongo-python-driver/bson/raw_bson.py:docstring of bson.raw_bson.RawBSONDocument.items:1: WARNING: unknown node type: <desc_returns: <reference...><desc_sig_punctuation...><reference...><de ...>\u001b[39;49;00m\n",
      "\u001b[91m/Users/dodo/SuperDuperDB/pinnacledb/mongo-python-driver/bson/regex.py:docstring of bson.regex.Regex.from_native:1: WARNING: unknown node type: <desc_returns: <reference...><desc_sig_punctuation...><#text: '_T'><des ...>\u001b[39;49;00m\n",
      "\u001b[91m/Users/dodo/SuperDuperDB/pinnacledb/mongo-python-driver/bson/son.py:docstring of bson.son.SON.clear:1: WARNING: unknown node type: <desc_returns: <#text: 'None.  Remove  ...'>>\u001b[39;49;00m\n",
      "\u001b[91m/Users/dodo/SuperDuperDB/pinnacledb/mongo-python-driver/bson/son.py:docstring of bson.son.SON.pop:1: WARNING: unknown node type: <desc_optional: <desc_parameter...>>\u001b[39;49;00m\n",
      "\u001b[91m/Users/dodo/SuperDuperDB/pinnacledb/mongo-python-driver/bson/timestamp.py:docstring of bson.timestamp.Timestamp.as_datetime:1: WARNING: unknown node type: <desc_returns: <reference...>>\u001b[39;49;00m\n",
      "\u001b[91m/Users/dodo/SuperDuperDB/pinnacledb/mongo-python-driver/bson/tz_util.py:docstring of bson.tz_util.FixedOffset.dst:1: WARNING: unknown node type: <desc_returns: <reference...>>\u001b[39;49;00m\n",
      "\u001b[91m/Users/dodo/SuperDuperDB/pinnacledb/mongo-python-driver/gridfs/grid_file.py:docstring of gridfs.grid_file.GridIn.abort:1: WARNING: unknown node type: <desc_returns: <reference...>>\u001b[39;49;00m\n",
      "\u001b[91m/Users/dodo/SuperDuperDB/pinnacledb/mongo-python-driver/gridfs/__init__.py:docstring of gridfs.GridFS.delete:1: WARNING: unknown node type: <desc_returns: <reference...>>\u001b[39;49;00m\n",
      "\u001b[91m/Users/dodo/SuperDuperDB/pinnacledb/mongo-python-driver/pymongo/change_stream.py:docstring of pymongo.change_stream.ChangeStream.close:1: WARNING: unknown node type: <desc_returns: <reference...>>\u001b[39;49;00m\n",
      "\u001b[91m/Users/dodo/SuperDuperDB/pinnacledb/mongo-python-driver/pymongo/client_session.py:docstring of pymongo.client_session.ClientSession.abort_transaction:1: WARNING: unknown node type: <desc_returns: <reference...>>\u001b[39;49;00m\n",
      "\u001b[91m/Users/dodo/SuperDuperDB/pinnacledb/mongo-python-driver/pymongo/collection.py:docstring of pymongo.collection.Collection.with_options:1: WARNING: unknown node type: <desc_returns: <reference...><desc_sig_punctuation...><#text: '_Documen ...>\u001b[39;49;00m\n",
      "\u001b[91m/Users/dodo/SuperDuperDB/pinnacledb/mongo-python-driver/pymongo/command_cursor.py:docstring of pymongo.command_cursor.CommandCursor.batch_size:1: WARNING: unknown node type: <desc_returns: <reference...><desc_sig_punctuation...><#text: '_Documen ...>\u001b[39;49;00m\n",
      "\u001b[91m/Users/dodo/SuperDuperDB/pinnacledb/mongo-python-driver/pymongo/cursor.py:docstring of pymongo.cursor.Cursor.__getitem__:1: WARNING: unknown node type: <desc_returns: <#text: '_DocumentType'>>\u001b[39;49;00m\n",
      "\u001b[91m/Users/dodo/SuperDuperDB/pinnacledb/mongo-python-driver/pymongo/database.py:docstring of pymongo.database.Database.aggregate:1: WARNING: unknown node type: <desc_returns: <reference...><desc_sig_punctuation...><#text: '_Documen ...>\u001b[39;49;00m\n",
      "\u001b[91m/Users/dodo/SuperDuperDB/pinnacledb/mongo-python-driver/pymongo/encryption.py:docstring of pymongo.encryption.ClientEncryption.add_key_alt_name:1: WARNING: unknown node type: <desc_returns: <reference...>>\u001b[39;49;00m\n",
      "\u001b[91m/Users/dodo/SuperDuperDB/pinnacledb/mongo-python-driver/pymongo/errors.py:docstring of pymongo.errors.PyMongoError.has_error_label:1: WARNING: unknown node type: <desc_returns: <reference...>>\u001b[39;49;00m\n",
      "\u001b[91m/Users/dodo/SuperDuperDB/pinnacledb/mongo-python-driver/pymongo/event_loggers.py:docstring of pymongo.event_loggers.CommandLogger.failed:1: WARNING: unknown node type: <desc_returns: <reference...>>\u001b[39;49;00m\n",
      "\u001b[91m/Users/dodo/SuperDuperDB/pinnacledb/mongo-python-driver/pymongo/__init__.py:docstring of pymongo.has_c:1: WARNING: unknown node type: <desc_returns: <reference...>>\u001b[39;49;00m\n",
      "\u001b[91m/Users/dodo/SuperDuperDB/pinnacledb/mongo-python-driver/pymongo/mongo_client.py:docstring of pymongo.mongo_client.MongoClient.close:1: WARNING: unknown node type: <desc_returns: <reference...>>\u001b[39;49;00m\n",
      "\u001b[91m/Users/dodo/SuperDuperDB/pinnacledb/mongo-python-driver/pymongo/monitoring.py:docstring of pymongo.monitoring.CommandListener.failed:1: WARNING: unknown node type: <desc_returns: <reference...>>\u001b[39;49;00m\n",
      "\u001b[91m/Users/dodo/SuperDuperDB/pinnacledb/mongo-python-driver/pymongo/topology_description.py:docstring of pymongo.topology_description.TopologyDescription.apply_selector:1: WARNING: unknown node type: <desc_returns: <reference...><desc_sig_punctuation...><reference...><de ...>\u001b[39;49;00m\n",
      "\u001b[91m/Users/dodo/SuperDuperDB/pinnacledb/mongo-python-driver/pymongo/uri_parser.py:docstring of pymongo.uri_parser.parse_host:1: WARNING: unknown node type: <desc_returns: <reference...><desc_sig_punctuation...><reference...><de ...>\u001b[39;49;00m\n",
      "\u001b[91m/Users/dodo/SuperDuperDB/pinnacledb/mongo-python-driver/pymongo/write_concern.py:docstring of pymongo.write_concern.validate_boolean:1: WARNING: unknown node type: <desc_returns: <reference...>>\u001b[39;49;00m\n",
      "\u001b[91m/Users/dodo/SuperDuperDB/pinnacledb/mongo-python-driver/doc/index.rst:11: WARNING: unknown node type: <todo_node: <title...><paragraph...>>\u001b[39;49;00m\n",
      "\u001b[91m/Users/dodo/SuperDuperDB/pinnacledb/mongo-python-driver/doc/tutorial.rst:120: WARNING: unknown node type: <todo_node: <title...><paragraph...>>\u001b[39;49;00m\n"
     ]
    },
    {
     "name": "stdout",
     "output_type": "stream",
     "text": [
      "\u001b[01mbuild succeeded, 35 warnings.\u001b[39;49;00m\n",
      "\n",
      "The markdown files are in output.\n"
     ]
    }
   ],
   "source": [
    "%%bash\n",
    "rm -rf mongo-python-driver\n",
    "git clone git@github.com:mongodb/mongo-python-driver.git\n",
    "cd mongo-python-driver\n",
    "echo 'extensions.append(\"sphinx_markdown_builder\")' >> doc/conf.py\n",
    "sphinx-apidoc -f -o source pymongo/\n",
    "mkdir output\n",
    "sphinx-build -a -b markdown doc output"
   ]
  },
  {
   "cell_type": "code",
   "execution_count": 73,
   "id": "b6a31c4c-2ad3-4f57-aadb-508aab62d7c3",
   "metadata": {},
   "outputs": [
    {
     "name": "stdout",
     "output_type": "stream",
     "text": [
      "mongo_client.md\n",
      "change_stream.md\n",
      "collection.md\n",
      "write_concern.md\n",
      "operations.md\n",
      "server_api.md\n",
      "command_cursor.md\n",
      "client_options.md\n",
      "uri_parser.md\n",
      "read_concern.md\n",
      "cursor.md\n",
      "client_session.md\n",
      "read_preferences.md\n",
      "errors.md\n",
      "pool.md\n",
      "encryption.md\n",
      "encryption_options.md\n",
      "results.md\n",
      "index.md\n",
      "topology_description.md\n",
      "collation.md\n",
      "driver_info.md\n",
      "monitoring.md\n",
      "event_loggers.md\n",
      "server_description.md\n",
      "database.md\n"
     ]
    }
   ],
   "source": [
    "import os\n",
    "import re\n",
    "\n",
    "PARENT_DIR = './mongo-python-driver/output/api/pymongo'\n",
    "\n",
    "documents = os.listdir(f'{PARENT_DIR}/')\n",
    "store = []\n",
    "\n",
    "for file in documents:\n",
    "    with open(f'{PARENT_DIR}/{file}') as f:\n",
    "        content = f.read()\n",
    "    split = re.split(r'^(#{1,4}) ', content, flags=re.MULTILINE)\n",
    "    split = [(split[2 * i - 1], split[2 * i]) for i in range(1, len(split) // 2)]\n",
    "    last_key = None\n",
    "    for item in split:\n",
    "        type_ = item[0]\n",
    "        content = item[1]\n",
    "        key = content.split('\\n')[0]\n",
    "        value = '\\n'.join(content.split('\\n')[1:])\n",
    "        info = {}\n",
    "        if type_ in {'###', '####'}:\n",
    "            if type_ == '###':\n",
    "                if last_key is None:\n",
    "                    last_key = key\n",
    "                info['key'] = key\n",
    "                info['parent'] = None\n",
    "                last_key = key\n",
    "            elif type_ == '####':\n",
    "                info['parent'] = last_key\n",
    "                info['key'] = key\n",
    "            info['value'] = value\n",
    "            info['document'] = file\n",
    "            store.append(info)"
   ]
  },
  {
   "cell_type": "code",
   "execution_count": 75,
   "id": "73ee3ea5-8388-48a0-b2be-3c18cc32e813",
   "metadata": {},
   "outputs": [],
   "source": [
    "import json\n",
    "with open('pymongo.json', 'w') as f:\n",
    "    json.dump(store, f)"
   ]
  },
  {
   "cell_type": "code",
   "execution_count": 77,
   "id": "ef6dcf4b-1255-4328-8d55-d98b660bb866",
   "metadata": {},
   "outputs": [
    {
     "name": "stdout",
     "output_type": "stream",
     "text": [
      "  % Total    % Received % Xferd  Average Speed   Time    Time     Time  Current\n",
      "                                 Dload  Upload   Total   Spent    Left  Speed\n",
      "100  712k  100  712k    0     0  1460k      0 --:--:-- --:--:-- --:--:-- 1471k\n"
     ]
    }
   ],
   "source": [
    "!curl -O https://pinnacledb-public.s3.eu-west-1.amazonaws.com/pymongo.json"
   ]
  },
  {
   "cell_type": "code",
   "execution_count": 80,
   "id": "19d5d154-c255-4ec2-88d9-7c5ef514e435",
   "metadata": {},
   "outputs": [],
   "source": [
    "from pinnacledb.container.vector_index import VectorIndex\n",
    "from pinnacledb.container.listener import Listener\n",
    "from pinnacledb.ext.openai.model import OpenAIEmbedding\n",
    "from pinnacledb.db.mongodb.query import Collection\n",
    "\n",
    "vector_index = VectorIndex(\n",
    "    Listener(\n",
    "        model=OpenAIEmbedding(model='ada...'),\n",
    "    )\n",
    ")"
   ]
  },
  {
   "cell_type": "code",
   "execution_count": 81,
   "id": "ba3a659d-ba27-4339-b866-c6367beac223",
   "metadata": {},
   "outputs": [
    {
     "data": {
      "text/plain": [
       "\u001b[0;31mInit signature:\u001b[0m\n",
       "\u001b[0mOpenAIEmbedding\u001b[0m\u001b[0;34m(\u001b[0m\u001b[0;34m\u001b[0m\n",
       "\u001b[0;34m\u001b[0m    \u001b[0mmodel\u001b[0m\u001b[0;34m:\u001b[0m \u001b[0mstr\u001b[0m\u001b[0;34m,\u001b[0m\u001b[0;34m\u001b[0m\n",
       "\u001b[0;34m\u001b[0m    \u001b[0midentifier\u001b[0m\u001b[0;34m:\u001b[0m \u001b[0mstr\u001b[0m \u001b[0;34m=\u001b[0m \u001b[0;34m''\u001b[0m\u001b[0;34m,\u001b[0m\u001b[0;34m\u001b[0m\n",
       "\u001b[0;34m\u001b[0m    \u001b[0mversion\u001b[0m\u001b[0;34m:\u001b[0m \u001b[0mUnion\u001b[0m\u001b[0;34m[\u001b[0m\u001b[0mint\u001b[0m\u001b[0;34m,\u001b[0m \u001b[0mNoneType\u001b[0m\u001b[0;34m]\u001b[0m \u001b[0;34m=\u001b[0m \u001b[0;32mNone\u001b[0m\u001b[0;34m,\u001b[0m\u001b[0;34m\u001b[0m\n",
       "\u001b[0;34m\u001b[0m    \u001b[0mtakes_context\u001b[0m\u001b[0;34m:\u001b[0m \u001b[0mbool\u001b[0m \u001b[0;34m=\u001b[0m \u001b[0;32mFalse\u001b[0m\u001b[0;34m,\u001b[0m\u001b[0;34m\u001b[0m\n",
       "\u001b[0;34m\u001b[0m    \u001b[0mencoder\u001b[0m\u001b[0;34m:\u001b[0m \u001b[0mUnion\u001b[0m\u001b[0;34m[\u001b[0m\u001b[0mpinnacledb\u001b[0m\u001b[0;34m.\u001b[0m\u001b[0mcontainer\u001b[0m\u001b[0;34m.\u001b[0m\u001b[0mencoder\u001b[0m\u001b[0;34m.\u001b[0m\u001b[0mEncoder\u001b[0m\u001b[0;34m,\u001b[0m \u001b[0mstr\u001b[0m\u001b[0;34m,\u001b[0m \u001b[0mNoneType\u001b[0m\u001b[0;34m]\u001b[0m \u001b[0;34m=\u001b[0m \u001b[0;32mNone\u001b[0m\u001b[0;34m,\u001b[0m\u001b[0;34m\u001b[0m\n",
       "\u001b[0;34m\u001b[0m    \u001b[0mshape\u001b[0m\u001b[0;34m:\u001b[0m \u001b[0mUnion\u001b[0m\u001b[0;34m[\u001b[0m\u001b[0mSequence\u001b[0m\u001b[0;34m[\u001b[0m\u001b[0mint\u001b[0m\u001b[0;34m]\u001b[0m\u001b[0;34m,\u001b[0m \u001b[0mNoneType\u001b[0m\u001b[0;34m]\u001b[0m \u001b[0;34m=\u001b[0m \u001b[0;32mNone\u001b[0m\u001b[0;34m,\u001b[0m\u001b[0;34m\u001b[0m\n",
       "\u001b[0;34m\u001b[0m\u001b[0;34m)\u001b[0m \u001b[0;34m->\u001b[0m \u001b[0;32mNone\u001b[0m\u001b[0;34m\u001b[0m\u001b[0;34m\u001b[0m\u001b[0m\n",
       "\u001b[0;31mDocstring:\u001b[0m     \n",
       "OpenAI embedding predictor\n",
       "\n",
       ":param shape: The shape as ``tuple`` of the embedding.\n",
       "\u001b[0;31mFile:\u001b[0m           ~/SuperDuperDB/pinnacledb/pinnacledb/ext/openai/model.py\n",
       "\u001b[0;31mType:\u001b[0m           type\n",
       "\u001b[0;31mSubclasses:\u001b[0m     "
      ]
     },
     "metadata": {},
     "output_type": "display_data"
    }
   ],
   "source": []
  }
 ],
 "metadata": {
  "kernelspec": {
   "display_name": "Python 3 (ipykernel)",
   "language": "python",
   "name": "python3"
  },
  "language_info": {
   "codemirror_mode": {
    "name": "ipython",
    "version": 3
   },
   "file_extension": ".py",
   "mimetype": "text/x-python",
   "name": "python",
   "nbconvert_exporter": "python",
   "pygments_lexer": "ipython3",
   "version": "3.8.17"
  }
 },
 "nbformat": 4,
 "nbformat_minor": 5
}
