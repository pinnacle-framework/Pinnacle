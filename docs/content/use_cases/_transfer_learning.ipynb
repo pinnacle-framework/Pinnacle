{
 "cells": [
  {
   "cell_type": "markdown",
   "id": "c288025e-2326-4e8b-ab52-6fb8a5f9560f",
   "metadata": {},
   "source": [
    "<!-- TABS -->\n",
    "# Transfer learning"
   ]
  },
  {
   "cell_type": "raw",
   "id": "3eff8ff5-425f-43fc-91b9-6a41d323a7c9",
   "metadata": {},
   "source": [
    "<snippet: configure_your_production_system: *>"
   ]
  },
  {
   "cell_type": "raw",
   "id": "d640ed61-ddf8-4ea5-b213-37b69f58e7e6",
   "metadata": {},
   "source": [
    "<snippet: start_your_cluster: *>"
   ]
  },
  {
   "cell_type": "raw",
   "id": "8699dea6-426e-4211-92ef-fe5b9b558a3c",
   "metadata": {},
   "source": [
    "<snippet: connect_to_pinnacledb: *>"
   ]
  },
  {
   "cell_type": "raw",
   "id": "f15f03ce-69b9-40a6-ac92-3a12afd5d7ae",
   "metadata": {
    "vscode": {
     "languageId": "raw"
    }
   },
   "source": [
    "<snippet: get_useful_sample_data: Text-Classification,Image-Classification>"
   ]
  },
  {
   "cell_type": "markdown",
   "id": "eedb0bc4-826f-43fe-bd34-869bf69f2db0",
   "metadata": {},
   "source": [
    "After obtaining the data, we insert it into the database."
   ]
  },
  {
   "cell_type": "code",
   "execution_count": null,
   "id": "7598ec1a-4f23-46f0-ae9f-617bce855e65",
   "metadata": {},
   "outputs": [],
   "source": [
    "# <tab: Text-Classification>\n",
    "datas = [{'txt': d['x'], 'label': d['y']} for d in data]"
   ]
  },
  {
   "cell_type": "code",
   "execution_count": null,
   "id": "89e856c2-7407-431f-a7de-3a6d51d17be6",
   "metadata": {},
   "outputs": [],
   "source": [
    "# <tab: Image-Classification>\n",
    "datas = [{'image': d['x'], 'label': d['y']} for d in data]"
   ]
  },
  {
   "cell_type": "raw",
   "id": "2521e1db-7593-43d6-ab28-fa1d08cc05c2",
   "metadata": {},
   "source": [
    "<snippet: insert_simple_data: *>"
   ]
  },
  {
   "cell_type": "raw",
   "id": "ded570f3-c23d-4552-86b3-bd03cc91fb1d",
   "metadata": {},
   "source": [
    "<snippet: compute_features: Text,Image>"
   ]
  },
  {
   "cell_type": "markdown",
   "id": "3d9329cd-1ef3-4997-ba2f-9353091907a8",
   "metadata": {},
   "source": [
    "## Choose features key from feature listener"
   ]
  },
  {
   "cell_type": "code",
   "execution_count": null,
   "id": "90980578-4f7e-4872-9b64-517f464bb8fb",
   "metadata": {},
   "outputs": [],
   "source": [
    "# <tab: MongoDB>\n",
    "input_key = listener.outputs\n",
    "training_select = select"
   ]
  },
  {
   "cell_type": "code",
   "execution_count": null,
   "id": "9651e3a6-89f3-41db-80e6-afc294f4daa1",
   "metadata": {},
   "outputs": [],
   "source": [
    "# <tab: SQL>\n",
    "input_key = listener.outputs\n",
    "training_select = select.outputs(listener.predict_id)"
   ]
  },
  {
   "cell_type": "markdown",
   "id": "ea4ddf88-468b-4ca5-b78b-37f8c3231ef7",
   "metadata": {},
   "source": [
    "We can find the calculated feature data from the database."
   ]
  },
  {
   "cell_type": "code",
   "execution_count": null,
   "id": "aa1b85e7-a562-4efe-8af1-16889bd35bf7",
   "metadata": {},
   "outputs": [],
   "source": [
    "feature = list(training_select.limit(1).execute())[0][input_key]\n",
    "feature_size = len(feature)"
   ]
  },
  {
   "cell_type": "raw",
   "id": "a80cd2db-6c19-4ec1-9060-d417ef9e14b7",
   "metadata": {
    "vscode": {
     "languageId": "raw"
    }
   },
   "source": [
    "<snippet: build_and_train_classifier: *>"
   ]
  },
  {
   "cell_type": "markdown",
   "id": "1af37887-59bc-4e13-b3b1-fee7d6108473",
   "metadata": {},
   "source": [
    "Define a validation for evaluating the effect after training."
   ]
  },
  {
   "cell_type": "code",
   "execution_count": null,
   "id": "94fb7506-2abc-41fe-b259-8c4922d79516",
   "metadata": {},
   "outputs": [],
   "source": [
    "from pinnacledb import Dataset, Metric, Validation\n",
    "\n",
    "def acc(x, y):\n",
    "    return sum([xx == yy for xx, yy in zip(x, y)]) / len(x)\n",
    "\n",
    "\n",
    "accuracy = Metric(identifier=\"acc\", object=acc)\n",
    "validation = Validation(\n",
    "    \"transfer_learning_performance\",\n",
    "    key=(input_key, \"label\"),\n",
    "    datasets=[\n",
    "        Dataset(identifier=\"my-valid\", select=training_select.add_fold('valid'))\n",
    "    ],\n",
    "    metrics=[accuracy],\n",
    ")\n",
    "model.validation = validation"
   ]
  },
  {
   "cell_type": "markdown",
   "id": "513478b1-2736-4fa5-bc2a-6fdb9c8e232d",
   "metadata": {},
   "source": [
    "If we execute the apply function, then the model will be added to the database, and because the model has a Trainer, it will perform training tasks."
   ]
  },
  {
   "cell_type": "code",
   "execution_count": null,
   "id": "79a39054-aef2-480a-a57e-7180914e6f7f",
   "metadata": {},
   "outputs": [],
   "source": [
    "db.apply(model)"
   ]
  },
  {
   "cell_type": "markdown",
   "id": "52ab9838-9e5e-4402-a572-bd8339020963",
   "metadata": {},
   "source": [
    "Get the training metrics"
   ]
  },
  {
   "cell_type": "code",
   "execution_count": null,
   "id": "b7478a2a-3071-4d71-9ab8-95d7d7dd3d32",
   "metadata": {},
   "outputs": [],
   "source": [
    "# <tab: Scikit-Learn>\n",
    "# Load the model from the database\n",
    "model = db.load('model', model.identifier)\n",
    "model.metric_values"
   ]
  },
  {
   "cell_type": "code",
   "execution_count": null,
   "id": "8096e816-06b3-4d7f-8660-f8715f759109",
   "metadata": {},
   "outputs": [],
   "source": [
    "# <tab: Torch>\n",
    "!pip -q install matplotlib\n",
    "from matplotlib import pyplot as plt\n",
    "\n",
    "# Load the model from the database\n",
    "model = db.load('model', model.identifier)\n",
    "\n",
    "# Plot the accuracy values\n",
    "plt.plot(model.trainer.metric_values['my-valid/acc'])\n",
    "plt.show()"
   ]
  }
 ],
 "metadata": {
  "kernelspec": {
   "display_name": "Python 3 (ipykernel)",
   "language": "python",
   "name": "python3"
  },
  "language_info": {
   "codemirror_mode": {
    "name": "ipython",
    "version": 3
   },
   "file_extension": ".py",
   "mimetype": "text/x-python",
   "name": "python",
   "nbconvert_exporter": "python",
   "pygments_lexer": "ipython3",
   "version": "3.11.2"
  }
 },
 "nbformat": 4,
 "nbformat_minor": 5
}
