{
 "cells": [
  {
   "cell_type": "markdown",
   "id": "38c1a328-fd86-4c5f-bd54-b8664f433608",
   "metadata": {},
   "source": [
    "<!-- TABS -->\n",
    "# Retrieval augmented generation"
   ]
  },
  {
   "cell_type": "raw",
   "id": "6a37657c-4fd2-4e02-b3aa-44213968254f",
   "metadata": {},
   "source": [
    "<snippet: configure_your_production_system: *>"
   ]
  },
  {
   "cell_type": "raw",
   "id": "67275f58-e2d8-44aa-a53a-8f1459f47646",
   "metadata": {},
   "source": [
    "<snippet: start_your_cluster: *>"
   ]
  },
  {
   "cell_type": "raw",
   "id": "db0ce690-8ff7-4988-a377-6b0d8a1fa9f8",
   "metadata": {},
   "source": [
    "<snippet: connect_to_pinnacle: *>"
   ]
  },
  {
   "cell_type": "raw",
   "id": "a5475216-6260-4674-890f-b3c990db79d9",
   "metadata": {
    "vscode": {
     "languageId": "plaintext"
    }
   },
   "source": [
    "<snippet: get_useful_sample_data: Text,PDF>"
   ]
  },
  {
   "cell_type": "code",
   "execution_count": null,
   "id": "b745ed54-3818-4685-a3b5-6ab4e2afc44d",
   "metadata": {},
   "outputs": [],
   "source": [
    "datas = [{'x': d} for d in data]"
   ]
  },
  {
   "cell_type": "raw",
   "id": "a19dcc5b-1c02-47f3-b589-2f62584e2c78",
   "metadata": {},
   "source": [
    "<snippet: insert_simple_data: *>"
   ]
  },
  {
   "cell_type": "raw",
   "id": "13e2bd53-4b64-4782-a557-f104993f908c",
   "metadata": {},
   "source": [
    "<snippet: apply_a_chunker_for_search: Text,PDF>"
   ]
  },
  {
   "cell_type": "raw",
   "id": "a978e2ed-2243-470d-9a05-f1fb326873db",
   "metadata": {},
   "source": [
    "<snippet: select_outputs_of_upstream_listener: *>"
   ]
  },
  {
   "cell_type": "raw",
   "id": "a1725b87-e687-46cc-a169-7cbe0baabe3f",
   "metadata": {
    "vscode": {
     "languageId": "plaintext"
    }
   },
   "source": [
    "<snippet: build_text_embedding_model: *>"
   ]
  },
  {
   "cell_type": "markdown",
   "id": "f31843db-8638-458a-a770-96a79041be88",
   "metadata": {},
   "source": [
    "## Create vector-index"
   ]
  },
  {
   "cell_type": "code",
   "execution_count": null,
   "id": "4663fa4b-c2ec-427d-bf8b-b8b109cc2ccf",
   "metadata": {},
   "outputs": [],
   "source": [
    "from pinnacle import VectorIndex, Listener\n",
    "\n",
    "vector_index_name = 'vector-index'\n",
    "\n",
    "jobs, _ = db.add(\n",
    "    VectorIndex(\n",
    "        vector_index_name,\n",
    "        indexing_listener=Listener(\n",
    "            key=indexing_key,      # the `Document` key `model` should ingest to create embedding\n",
    "            select=select,       # a `Select` query telling which data to search over\n",
    "            model=embedding_model,         # a `_Predictor` how to convert data to embeddings\n",
    "            uuid=\"embedding\"\n",
    "        )\n",
    "    )\n",
    ")\n",
    "query_table_or_collection = select.table_or_collection"
   ]
  },
  {
   "cell_type": "code",
   "execution_count": null,
   "id": "053183e1-fee8-4b7b-a567-62ce97845c98",
   "metadata": {},
   "outputs": [],
   "source": [
    "query = \"Tell me about the pinnacle\""
   ]
  },
  {
   "cell_type": "raw",
   "id": "72e5ed47-184f-41a3-8129-19664be615e6",
   "metadata": {},
   "source": [
    "<snippet: create_vector_search_model: MongoDB>"
   ]
  },
  {
   "cell_type": "raw",
   "id": "1a7bc500-461e-4e7c-95a2-0ff464d0dda7",
   "metadata": {
    "vscode": {
     "languageId": "plaintext"
    }
   },
   "source": [
    "<snippet: build_llm: *>"
   ]
  },
  {
   "cell_type": "markdown",
   "id": "60ae6203-dcc4-493c-a8f8-f727f0f75778",
   "metadata": {},
   "source": [
    "## Answer question with LLM"
   ]
  },
  {
   "cell_type": "code",
   "execution_count": null,
   "id": "44baeb09-6f35-4cf2-b814-46283a59f7e9",
   "metadata": {},
   "outputs": [],
   "source": [
    "from pinnacle import model\n",
    "from pinnacle.components.graph import Graph, input_node\n",
    "\n",
    "prompt_template = (\n",
    "    \"Use the following context snippets, these snippets are not ordered!, Answer the question based on this context.\\n\"\n",
    "    \"{context}\\n\\n\"\n",
    "    \"Here's the question: {query}\"\n",
    ")\n",
    "\n",
    "\n",
    "@model\n",
    "def build_prompt(query, docs):\n",
    "    chunks = [doc[\"text\"] for doc in docs]\n",
    "    context = \"\\n\\n\".join(chunks)\n",
    "    prompt = prompt_template.format(context=context, query=query)\n",
    "    return prompt\n",
    "    \n",
    "\n",
    "# We build a graph to handle the entire pipeline\n",
    "\n",
    "# create a input node, only have one input parameter `query`\n",
    "in_ = input_node('query')\n",
    "# pass the query to the vector search model\n",
    "vector_search_results = vector_search_model(query=in_)\n",
    "# pass the query and the search results to the prompt builder\n",
    "prompt = build_prompt(query=in_, docs=vector_search_results)\n",
    "# pass the prompt to the llm model\n",
    "answer = llm(prompt)\n",
    "# create a graph, and the graph output is the answer\n",
    "rag = answer.to_graph(\"rag\")\n",
    "print(rag.predict(query)[0])"
   ]
  },
  {
   "cell_type": "markdown",
   "id": "183bf5b6-4644-4e4c-b65b-e6bafdc6b49f",
   "metadata": {},
   "source": [
    "By applying the RAG model to the database, it will subsequently be accessible for use in other services."
   ]
  },
  {
   "cell_type": "code",
   "execution_count": null,
   "id": "e6787c78-4b14-4a72-818b-450408a74331",
   "metadata": {},
   "outputs": [],
   "source": [
    "db.add(rag)"
   ]
  },
  {
   "cell_type": "markdown",
   "id": "5da0306b-0969-49ab-95c4-0eb93c39f515",
   "metadata": {},
   "source": [
    "You can now load the model elsewhere and make predictions using the following command.\n",
    "\n",
    "```python\n",
    "rag = db.load(\"model\", 'context_llm')\n",
    "print(rag.predict(\"Tell me about the pinnacle\")[0])\n",
    "```"
   ]
  }
 ],
 "metadata": {
  "kernelspec": {
   "display_name": "Python 3 (ipykernel)",
   "language": "python",
   "name": "python3"
  },
  "language_info": {
   "codemirror_mode": {
    "name": "ipython",
    "version": 3
   },
   "file_extension": ".py",
   "mimetype": "text/x-python",
   "name": "python",
   "nbconvert_exporter": "python",
   "pygments_lexer": "ipython3",
   "version": "3.11.2"
  }
 },
 "nbformat": 4,
 "nbformat_minor": 5
}
