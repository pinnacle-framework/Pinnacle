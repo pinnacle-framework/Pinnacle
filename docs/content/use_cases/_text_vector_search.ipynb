{
 "cells": [
  {
   "cell_type": "markdown",
   "id": "38c1a328-fd86-4c5f-bd54-b8664f433608",
   "metadata": {},
   "source": [
    "<!-- TABS -->\n",
    "# Text Vector Search"
   ]
  },
  {
   "cell_type": "raw",
   "id": "6a37657c-4fd2-4e02-b3aa-44213968254f",
   "metadata": {},
   "source": [
    "<snippet: configure_your_production_system: *>"
   ]
  },
  {
   "cell_type": "raw",
   "id": "67275f58-e2d8-44aa-a53a-8f1459f47646",
   "metadata": {},
   "source": [
    "<snippet: start_your_cluster: *>"
   ]
  },
  {
   "cell_type": "raw",
   "id": "db0ce690-8ff7-4988-a377-6b0d8a1fa9f8",
   "metadata": {},
   "source": [
    "<snippet: connect_to_pinnacledb: *>"
   ]
  },
  {
   "cell_type": "raw",
   "id": "a5475216-6260-4674-890f-b3c990db79d9",
   "metadata": {
    "vscode": {
     "languageId": "plaintext"
    }
   },
   "source": [
    "<snippet: get_useful_sample_data: Text,PDF>"
   ]
  },
  {
   "cell_type": "code",
   "execution_count": null,
   "id": "b745ed54-3818-4685-a3b5-6ab4e2afc44d",
   "metadata": {},
   "outputs": [],
   "source": [
    "datas = [{'x': d} for d in data]"
   ]
  },
  {
   "cell_type": "raw",
   "id": "80ec7d5e-9030-4230-b7dc-8acd4aa2c819",
   "metadata": {},
   "source": [
    "<snippet: create_datatype: Text,PDF>"
   ]
  },
  {
   "cell_type": "raw",
   "id": "4d9a10cf-db88-4290-9303-bb2ab7a3efd8",
   "metadata": {},
   "source": [
    "<snippet: setup_tables_or_collections: *>"
   ]
  },
  {
   "cell_type": "markdown",
   "id": "f2c81263-88c9-4dfd-9d7b-259c1793ceb6",
   "metadata": {},
   "source": [
    "Inserting data, all fields will be matched with the schema for data conversion."
   ]
  },
  {
   "cell_type": "code",
   "execution_count": null,
   "id": "5090d98e-3e40-4830-8275-860c14a5cf01",
   "metadata": {},
   "outputs": [],
   "source": [
    "db['documents'].insert(datas).execute()\n",
    "select = db['documents'].select()"
   ]
  },
  {
   "cell_type": "raw",
   "id": "13e2bd53-4b64-4782-a557-f104993f908c",
   "metadata": {},
   "source": [
    "<snippet: apply_a_chunker_for_search: Text,PDF>"
   ]
  },
  {
   "cell_type": "raw",
   "id": "a978e2ed-2243-470d-9a05-f1fb326873db",
   "metadata": {},
   "source": [
    "<snippet: select_outputs_of_upstream_listener: *>"
   ]
  },
  {
   "cell_type": "raw",
   "id": "a1725b87-e687-46cc-a169-7cbe0baabe3f",
   "metadata": {
    "vscode": {
     "languageId": "plaintext"
    }
   },
   "source": [
    "<snippet: build_text_embedding_model: *>"
   ]
  },
  {
   "cell_type": "raw",
   "id": "2a071f63-75e8-47d7-8e46-521ed2b89d05",
   "metadata": {},
   "source": [
    "<snippet: create_vector_index: 1-Modality>"
   ]
  },
  {
   "cell_type": "markdown",
   "id": "4d268eea-2d37-4231-8266-808671533012",
   "metadata": {},
   "source": [
    "## Perform a vector search"
   ]
  },
  {
   "cell_type": "code",
   "execution_count": null,
   "id": "88809e48-1973-488b-80fd-6d8875e8e516",
   "metadata": {},
   "outputs": [],
   "source": [
    "from pinnacledb import Document\n",
    "# Perform the vector search based on the query\n",
    "item = Document({indexing_key: \"Tell me about the SuperDuperDB\"})"
   ]
  },
  {
   "cell_type": "code",
   "execution_count": null,
   "id": "0936d1a1-3688-4f4b-8bdc-2a31e2da09aa",
   "metadata": {},
   "outputs": [],
   "source": [
    "select = query_table_or_collection.like(item, vector_index=vector_index_name, n=5).select()\n",
    "results = list(db.execute(select))"
   ]
  },
  {
   "cell_type": "code",
   "execution_count": null,
   "id": "a9481e38-1ab5-4024-9b21-588c65f43126",
   "metadata": {
    "vscode": {
     "languageId": "plaintext"
    }
   },
   "outputs": [],
   "source": [
    "for result in results:\n",
    "    print(\"\\n\", '-' * 20, '\\n')\n",
    "    print(Document(result.unpack())[indexing_key])"
   ]
  }
 ],
 "metadata": {
  "kernelspec": {
   "display_name": "Python 3 (ipykernel)",
   "language": "python",
   "name": "python3"
  },
  "language_info": {
   "codemirror_mode": {
    "name": "ipython",
    "version": 3
   },
   "file_extension": ".py",
   "mimetype": "text/x-python",
   "name": "python",
   "nbconvert_exporter": "python",
   "pygments_lexer": "ipython3",
   "version": "3.11.2"
  }
 },
 "nbformat": 4,
 "nbformat_minor": 5
}
