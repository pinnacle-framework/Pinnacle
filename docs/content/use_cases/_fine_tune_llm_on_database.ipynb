{
 "cells": [
  {
   "cell_type": "markdown",
   "id": "1d92f42b-7160-4965-a0ef-5e4ce46bd529",
   "metadata": {},
   "source": [
    "<!-- TABS -->\n",
    "# Fine tune LLM on database"
   ]
  },
  {
   "cell_type": "raw",
   "id": "676ecfca-d38e-40aa-bea0-235bf6f23c19",
   "metadata": {},
   "source": [
    "<snippet: configure_your_production_system: *>"
   ]
  },
  {
   "cell_type": "raw",
   "id": "46ae4d57-a647-4d84-bb10-1c7ca7e9bfbd",
   "metadata": {},
   "source": [
    "<snippet: start_your_cluster: *>"
   ]
  },
  {
   "cell_type": "raw",
   "id": "36481c85-b12c-4f33-becd-aae5dd5652ef",
   "metadata": {},
   "source": [
    "<snippet: connect_to_pinnacledb: *>"
   ]
  },
  {
   "cell_type": "markdown",
   "id": "511b9f96-cccd-471c-86e2-b10da1dc1ad5",
   "metadata": {},
   "source": [
    "## Install related dependencies"
   ]
  },
  {
   "cell_type": "code",
   "execution_count": null,
   "id": "f3a2f58c-db34-4808-ab2f-8933bd452853",
   "metadata": {},
   "outputs": [],
   "source": [
    "!pip install transformers torch accelerate trl peft datasets"
   ]
  },
  {
   "cell_type": "raw",
   "id": "0ac5fb92-b1c2-4f16-9783-5a7dd87e3baf",
   "metadata": {},
   "source": [
    "<snippet: get_llm_finetuning_data: *>"
   ]
  },
  {
   "cell_type": "raw",
   "id": "f74186a4-f866-4567-9c78-d0669392018a",
   "metadata": {},
   "source": [
    "<snippet: insert_simple_data: *>"
   ]
  },
  {
   "cell_type": "markdown",
   "id": "2a46a283-4fef-40d8-8df4-7023479ec2dd",
   "metadata": {},
   "source": [
    "## Select a Model"
   ]
  },
  {
   "cell_type": "code",
   "execution_count": null,
   "id": "a2ef0e1e-22ea-4af3-b914-1a3eed23a754",
   "metadata": {},
   "outputs": [],
   "source": [
    "model_name = \"facebook/opt-125m\"\n",
    "model_kwargs = dict()\n",
    "tokenizer_kwargs = dict()\n",
    "\n",
    "# or \n",
    "# model_name = \"mistralai/Mistral-7B-Instruct-v0.2\"\n",
    "# token = \"hf_xxxx\"\n",
    "# model_kwargs = dict(token=token)\n",
    "# tokenizer_kwargs = dict(token=token)"
   ]
  },
  {
   "cell_type": "raw",
   "id": "646abfcf-4849-4dd6-aed8-c4781bdecf9c",
   "metadata": {},
   "source": [
    "<snippet: build_a_trainable_llm: *>"
   ]
  },
  {
   "cell_type": "code",
   "execution_count": null,
   "id": "60b8933b-723d-481c-9d6e-dff14d256377",
   "metadata": {},
   "outputs": [],
   "source": [
    "llm.predict(input_text, max_new_tokens=200)"
   ]
  }
 ],
 "metadata": {
  "kernelspec": {
   "display_name": "Python 3 (ipykernel)",
   "language": "python",
   "name": "python3"
  },
  "language_info": {
   "codemirror_mode": {
    "name": "ipython",
    "version": 3
   },
   "file_extension": ".py",
   "mimetype": "text/x-python",
   "name": "python",
   "nbconvert_exporter": "python",
   "pygments_lexer": "ipython3",
   "version": "3.11.2"
  }
 },
 "nbformat": 4,
 "nbformat_minor": 5
}
