{
 "cells": [
  {
   "cell_type": "markdown",
   "id": "42fc70e0-4f63-4401-b2a5-f1f62c23b531",
   "metadata": {},
   "source": [
    "# Eager Mode (Aplpa) \n",
    "\n",
    "Eager Mode is an interactive way to build pinnacle applications. \n",
    "\n",
    "Users can input data as usual, continuously call models, and view results.\n",
    "Once the interactive debugging and construction are complete, \n",
    "the corresponding data pipeline can be built directly through `apply`, \n",
    "eliminating the need for direct debugging between AI application models and databases.\n",
    "\n",
    ":::note\n",
    "This feature is in the alpha version.\n",
    ":::"
   ]
  },
  {
   "cell_type": "markdown",
   "id": "335abe7c-2cbd-47e5-8e40-65f58b0e9755",
   "metadata": {},
   "source": [
    "Connect the database and insert data."
   ]
  },
  {
   "cell_type": "code",
   "execution_count": 1,
   "id": "463b8a52-1170-482e-9bcf-27b34a9ebc0f",
   "metadata": {},
   "outputs": [
    {
     "name": "stdout",
     "output_type": "stream",
     "text": [
      "2024-Jul-25 11:20:56.95| INFO     | zhouhaha-2.local| pinnacle.base.build:57   | Data Client is ready. mongomock.MongoClient('localhost', 27017)\n",
      "2024-Jul-25 11:20:56.96| INFO     | zhouhaha-2.local| pinnacle.base.build:36   | Connecting to Metadata Client with engine:  mongomock.MongoClient('localhost', 27017)\n",
      "2024-Jul-25 11:20:56.96| INFO     | zhouhaha-2.local| pinnacle.base.build:152  | Connecting to compute client: Compute(uri=None, compute_kwargs={}, _path='pinnacle.backends.local.compute.LocalComputeBackend')\n",
      "2024-Jul-25 11:20:56.96| INFO     | zhouhaha-2.local| pinnacle.base.datalayer:105  | Building Data Layer\n",
      "2024-Jul-25 11:20:56.96| INFO     | zhouhaha-2.local| pinnacle.base.build:214  | Configuration: \n",
      " +---------------+------------------+\n",
      "| Configuration |      Value       |\n",
      "+---------------+------------------+\n",
      "|  Data Backend | mongomock://test |\n",
      "+---------------+------------------+\n"
     ]
    }
   ],
   "source": [
    "from pinnacle import pinnacle\n",
    "\n",
    "db = pinnacle('mongomock://test')"
   ]
  },
  {
   "cell_type": "code",
   "execution_count": 2,
   "id": "b4de4449-8e98-4329-af96-28810c47e11d",
   "metadata": {},
   "outputs": [
    {
     "name": "stdout",
     "output_type": "stream",
     "text": [
      "2024-Jul-25 11:20:57.00| INFO     | zhouhaha-2.local| pinnacle.base.datalayer:426  | Table documents does not exist, auto creating...\n",
      "2024-Jul-25 11:20:57.00| INFO     | zhouhaha-2.local| pinnacle.base.datalayer:432  | Creating table documents with schema {('z', 'numpy-int64[3]')}\n",
      "2024-Jul-25 11:20:57.00| WARNING  | zhouhaha-2.local| pinnacle.misc.annotations:119  | add is deprecated and will be removed in a future release.\n"
     ]
    },
    {
     "data": {
      "text/plain": [
       "([ObjectId('66a1c49909d51b458635eda2'),\n",
       "  ObjectId('66a1c49909d51b458635eda3'),\n",
       "  ObjectId('66a1c49909d51b458635eda4')],\n",
       " None)"
      ]
     },
     "execution_count": 2,
     "metadata": {},
     "output_type": "execute_result"
    }
   ],
   "source": [
    "import numpy as np\n",
    "data = [\n",
    "    {\"x\": 1, \"y\": \"2\", \"z\": np.array([1, 2, 3])},\n",
    "    {\"x\": 2, \"y\": \"3\", \"z\": np.array([4, 5, 6])},\n",
    "    {\"x\": 3, \"y\": \"4\", \"z\": np.array([7, 8, 9])},\n",
    "]\n",
    "\n",
    "db[\"documents\"].insert(data).execute()"
   ]
  },
  {
   "cell_type": "markdown",
   "id": "10fd929a-5bc7-484f-b605-77436d79bc29",
   "metadata": {},
   "source": [
    "When using `select.execute(eager_mode=True)`, all returned data will enter eager mode, which can be used for interactive model pipeline construction."
   ]
  },
  {
   "cell_type": "code",
   "execution_count": 3,
   "id": "b399c418-28e0-41cb-a00c-d14d6bd3060a",
   "metadata": {},
   "outputs": [
    {
     "data": {
      "text/plain": [
       "Document({'x': 1, 'y': '2', 'z': array([1, 2, 3]), '_fold': 'train', '_id': ObjectId('66a1c49909d51b458635eda2')})"
      ]
     },
     "execution_count": 3,
     "metadata": {},
     "output_type": "execute_result"
    }
   ],
   "source": [
    "data = list(db[\"documents\"].select().execute(eager_mode=True))[0]\n",
    "data"
   ]
  },
  {
   "cell_type": "markdown",
   "id": "735a3809-e3ba-4367-ba32-44497c5a4908",
   "metadata": {},
   "source": [
    "Define the first model and make predictions."
   ]
  },
  {
   "cell_type": "code",
   "execution_count": 4,
   "id": "9e35ea91-034a-47af-ab91-94b4cca996d2",
   "metadata": {},
   "outputs": [
    {
     "data": {
      "text/plain": [
       "{'x': 1, 'model': 'a'}"
      ]
     },
     "execution_count": 4,
     "metadata": {},
     "output_type": "execute_result"
    }
   ],
   "source": [
    "from pinnacle import ObjectModel\n",
    "def func_a(x):\n",
    "    return {\"x\": x, \"model\": \"a\"}\n",
    "\n",
    "model_a = ObjectModel(identifier=\"a\", object=func_a)\n",
    "output_a = model_a(data[\"x\"])\n",
    "output_a"
   ]
  },
  {
   "cell_type": "markdown",
   "id": "3cedd163-cb40-4772-a013-070d849e0c4a",
   "metadata": {},
   "source": [
    "Define the second model and make predictions."
   ]
  },
  {
   "cell_type": "code",
   "execution_count": 5,
   "id": "0723391d-b3e8-4b9d-becc-17b86b28ad55",
   "metadata": {},
   "outputs": [
    {
     "data": {
      "text/plain": [
       "{'x': 1, 'y': '2', 'o_a': {'x': 1, 'model': 'a'}, 'model': 'b'}"
      ]
     },
     "execution_count": 5,
     "metadata": {},
     "output_type": "execute_result"
    }
   ],
   "source": [
    "def func_b(x, y, o_a):\n",
    "    return {\n",
    "        \"x\": x,\n",
    "        \"y\": y,\n",
    "        \"o_a\": o_a,\n",
    "        \"model\": \"b\"\n",
    "    }\n",
    "\n",
    "model_b = ObjectModel(identifier=\"b\", object=func_b)\n",
    "output_b = model_b(data[\"x\"], data[\"y\"], output_a)\n",
    "output_b"
   ]
  },
  {
   "cell_type": "markdown",
   "id": "990ed387-4ee3-4c4a-b88c-0fe4a6228fe1",
   "metadata": {},
   "source": [
    "Define the third model and make predictions."
   ]
  },
  {
   "cell_type": "code",
   "execution_count": 6,
   "id": "60099dc1-2316-4952-bee6-2e964f981181",
   "metadata": {},
   "outputs": [
    {
     "data": {
      "text/plain": [
       "{'x': 1, 'y': '2', 'z': array([1, 2, 3]), 'o_a': {'x': 1, 'model': 'a'}, 'o_b': {'x': 1, 'y': '2', 'o_a': {'x': 1, 'model': 'a'}, 'model': 'b'}, 'model': 'c'}"
      ]
     },
     "execution_count": 6,
     "metadata": {},
     "output_type": "execute_result"
    }
   ],
   "source": [
    "def func_c(x, y, z, o_a, o_b):\n",
    "    return {\n",
    "        \"x\": x,\n",
    "        \"y\": y,\n",
    "        \"z\": z,\n",
    "        \"o_a\": o_a,\n",
    "        \"o_b\": o_b,\n",
    "        \"model\": \"c\",\n",
    "    }\n",
    "\n",
    "model_c = ObjectModel(identifier=\"c\", object=func_c)\n",
    "output_c = model_c(data[\"x\"], data[\"y\"], data[\"z\"], output_a, output_b)\n",
    "output_c"
   ]
  },
  {
   "cell_type": "markdown",
   "id": "656a1e4b-4dc6-47b7-8ce0-946ee2c73843",
   "metadata": {},
   "source": [
    "Apply all models to the data to start monitoring the data and making predictions.\n",
    "When adding a model result, not only the current model but also the recursively dependent upstream models will be added."
   ]
  },
  {
   "cell_type": "code",
   "execution_count": 7,
   "id": "ed991c85-bbc0-4c76-95ff-03c0df1e18b4",
   "metadata": {},
   "outputs": [
    {
     "name": "stdout",
     "output_type": "stream",
     "text": [
      "2024-Jul-25 11:20:57.14| INFO     | zhouhaha-2.local| pinnacle.misc.eager:289  | Applying nodes: ['a', 'b', 'c']\n",
      "2024-Jul-25 11:20:57.14| INFO     | zhouhaha-2.local| pinnacle.misc.eager:301  | Applying node: a\n",
      "2024-Jul-25 11:20:57.14| INFO     | zhouhaha-2.local| pinnacle.misc.eager:302  | Example output {'x': 1, 'model': 'a'}\n",
      "2024-Jul-25 11:20:57.14| INFO     | zhouhaha-2.local| pinnacle.misc.eager:306  | Key: x\n",
      "2024-Jul-25 11:20:57.14| INFO     | zhouhaha-2.local| pinnacle.misc.eager:309  | Select: documents.find({}, {'x': 1, '_builds': 1, '_files': 1, '_blobs': 1, '_schema': 1})\n",
      "2024-Jul-25 11:20:57.14| INFO     | zhouhaha-2.local| pinnacle.misc.eager:311  | Predict id: a\n",
      "2024-Jul-25 11:20:57.14| INFO     | zhouhaha-2.local| pinnacle.misc.eager:313  | Predict kwargs: {}\n",
      "2024-Jul-25 11:20:57.14| INFO     | zhouhaha-2.local| pinnacle.misc.eager:323  | Listener: Listener(identifier='a', uuid='a', upstream=None, plugins=None, key='x', model=ObjectModel(identifier='a', uuid='ea5db97f-ab09-4804-9566-14c57f84f705', upstream=None, plugins=None, signature='*args,**kwargs', datatype=None, output_schema=None, flatten=False, model_update_kwargs={}, predict_kwargs={}, compute_kwargs={}, validation=None, metric_values={}, num_workers=0, object=<function func_a at 0x146fa7d90>), select=documents.find({}, {'x': 1, '_builds': 1, '_files': 1, '_blobs': 1, '_schema': 1}), predict_kwargs={})\n",
      "2024-Jul-25 11:20:57.15| INFO     | zhouhaha-2.local| pinnacle.components.listener:83   | Requesting listener setup on CDC service\n",
      "2024-Jul-25 11:20:57.15| INFO     | zhouhaha-2.local| pinnacle.components.listener:93   | Skipping listener setup on CDC service since no URI is set\n",
      "2024-Jul-25 11:20:57.15| INFO     | zhouhaha-2.local| pinnacle.jobs.queue:104  | Declaring component listener/a\n",
      "2024-Jul-25 11:20:57.15| INFO     | zhouhaha-2.local| pinnacle.jobs.queue:178  | Running jobs for listener::a\n",
      "2024-Jul-25 11:20:57.15| INFO     | zhouhaha-2.local| pinnacle.backends.local.compute:64   | Submitting job. function:<function method_job at 0x108f1fd90>\n",
      "2024-Jul-25 11:20:57.15| INFO     | zhouhaha-2.local| pinnacle.components.model:678  | Requesting prediction in db - [a] with predict_id a\n",
      "\n",
      "2024-Jul-25 11:20:57.15| INFO     | zhouhaha-2.local| pinnacle.components.model:807  | Adding 3 model outputs to `db`\n",
      "2024-Jul-25 11:20:57.15| SUCCESS  | zhouhaha-2.local| pinnacle.backends.local.compute:70   | Job submitted on <pinnacle.backends.local.compute.LocalComputeBackend object at 0x146f38ee0>.  function:<function method_job at 0x108f1fd90> future:e6caa179-a9f1-42de-91d2-7842e11143b2\n",
      "2024-Jul-25 11:20:57.15| INFO     | zhouhaha-2.local| pinnacle.misc.eager:301  | Applying node: b\n",
      "2024-Jul-25 11:20:57.15| INFO     | zhouhaha-2.local| pinnacle.misc.eager:302  | Example output {'x': 1, 'y': '2', 'o_a': {'x': 1, 'model': 'a'}, 'model': 'b'}\n",
      "2024-Jul-25 11:20:57.15| INFO     | zhouhaha-2.local| pinnacle.misc.eager:306  | Key: ('x', 'y', '_outputs.a')\n",
      "2024-Jul-25 11:20:57.15| INFO     | zhouhaha-2.local| pinnacle.misc.eager:309  | Select: MongoOutputs(identifier='MongoOutputs-identifier-uuid-853b05d5-1206-47d3-b3f6-93fcd66be97f-table-documents-parts-find-x-1-y-1-builds-1-files-1-blobs-1-schema-1-outputs-a', uuid='853b05d5-1206-47d3-b3f6-93fcd66be97f', table='documents', parts=[('find', ({}, {'x': 1, 'y': 1, '_builds': 1, '_files': 1, '_blobs': 1, '_schema': 1}), {}), ('outputs', ('a',), {})])\n",
      "2024-Jul-25 11:20:57.15| INFO     | zhouhaha-2.local| pinnacle.misc.eager:311  | Predict id: b\n",
      "2024-Jul-25 11:20:57.15| INFO     | zhouhaha-2.local| pinnacle.misc.eager:313  | Predict kwargs: {}\n",
      "2024-Jul-25 11:20:57.15| INFO     | zhouhaha-2.local| pinnacle.misc.eager:323  | Listener: Listener(identifier='b', uuid='b', upstream=None, plugins=None, key=('x', 'y', '_outputs.a'), model=ObjectModel(identifier='b', uuid='5fe3670b-c49b-4999-b736-5af3c584f299', upstream=None, plugins=None, signature='*args,**kwargs', datatype=None, output_schema=None, flatten=False, model_update_kwargs={}, predict_kwargs={}, compute_kwargs={}, validation=None, metric_values={}, num_workers=0, object=<function func_b at 0x146fa7e20>), select=MongoOutputs(identifier='MongoOutputs-identifier-uuid-853b05d5-1206-47d3-b3f6-93fcd66be97f-table-documents-parts-find-x-1-y-1-builds-1-files-1-blobs-1-schema-1-outputs-a', uuid='853b05d5-1206-47d3-b3f6-93fcd66be97f', table='documents', parts=[('find', ({}, {'x': 1, 'y': 1, '_builds': 1, '_files': 1, '_blobs': 1, '_schema': 1}), {}), ('outputs', ('a',), {})]), predict_kwargs={})\n",
      "2024-Jul-25 11:20:57.15| INFO     | zhouhaha-2.local| pinnacle.components.listener:83   | Requesting listener setup on CDC service\n",
      "2024-Jul-25 11:20:57.15| INFO     | zhouhaha-2.local| pinnacle.components.listener:93   | Skipping listener setup on CDC service since no URI is set\n",
      "2024-Jul-25 11:20:57.15| INFO     | zhouhaha-2.local| pinnacle.jobs.queue:104  | Declaring component listener/b\n",
      "2024-Jul-25 11:20:57.15| INFO     | zhouhaha-2.local| pinnacle.jobs.queue:178  | Running jobs for listener::b\n",
      "2024-Jul-25 11:20:57.15| INFO     | zhouhaha-2.local| pinnacle.backends.local.compute:64   | Submitting job. function:<function method_job at 0x108f1fd90>\n",
      "2024-Jul-25 11:20:57.16| INFO     | zhouhaha-2.local| pinnacle.components.model:678  | Requesting prediction in db - [b] with predict_id b\n",
      "\n",
      "2024-Jul-25 11:20:57.16| INFO     | zhouhaha-2.local| pinnacle.components.model:807  | Adding 3 model outputs to `db`\n",
      "2024-Jul-25 11:20:57.16| SUCCESS  | zhouhaha-2.local| pinnacle.backends.local.compute:70   | Job submitted on <pinnacle.backends.local.compute.LocalComputeBackend object at 0x146f38ee0>.  function:<function method_job at 0x108f1fd90> future:c612486d-58ea-4654-a012-5ca3cfc86abe\n",
      "2024-Jul-25 11:20:57.16| INFO     | zhouhaha-2.local| pinnacle.misc.eager:301  | Applying node: c\n",
      "2024-Jul-25 11:20:57.16| INFO     | zhouhaha-2.local| pinnacle.misc.eager:302  | Example output {'x': 1, 'y': '2', 'z': array([1, 2, 3]), 'o_a': {'x': 1, 'model': 'a'}, 'o_b': {'x': 1, 'y': '2', 'o_a': {'x': 1, 'model': 'a'}, 'model': 'b'}, 'model': 'c'}\n",
      "2024-Jul-25 11:20:57.16| INFO     | zhouhaha-2.local| pinnacle.misc.eager:306  | Key: ('x', 'y', 'z', '_outputs.a', '_outputs.b')\n",
      "2024-Jul-25 11:20:57.16| INFO     | zhouhaha-2.local| pinnacle.misc.eager:309  | Select: MongoOutputs(identifier='MongoOutputs-identifier-uuid-e6f9f631-95f6-424b-ac12-2bdaa18c1dab-table-documents-parts-find-x-1-y-1-z-1-builds-1-files-1-blobs-1-schema-1-outputs-a-b', uuid='e6f9f631-95f6-424b-ac12-2bdaa18c1dab', table='documents', parts=[('find', ({}, {'x': 1, 'y': 1, 'z': 1, '_builds': 1, '_files': 1, '_blobs': 1, '_schema': 1}), {}), ('outputs', ('a', 'b'), {})])\n",
      "2024-Jul-25 11:20:57.16| INFO     | zhouhaha-2.local| pinnacle.misc.eager:311  | Predict id: c\n",
      "2024-Jul-25 11:20:57.16| INFO     | zhouhaha-2.local| pinnacle.misc.eager:313  | Predict kwargs: {}\n",
      "2024-Jul-25 11:20:57.16| INFO     | zhouhaha-2.local| pinnacle.misc.eager:323  | Listener: Listener(identifier='c', uuid='c', upstream=None, plugins=None, key=('x', 'y', 'z', '_outputs.a', '_outputs.b'), model=ObjectModel(identifier='c', uuid='2ef9ed89-e1a8-4f41-8c54-90e27866d1b2', upstream=None, plugins=None, signature='*args,**kwargs', datatype=None, output_schema=None, flatten=False, model_update_kwargs={}, predict_kwargs={}, compute_kwargs={}, validation=None, metric_values={}, num_workers=0, object=<function func_c at 0x10777fb50>), select=MongoOutputs(identifier='MongoOutputs-identifier-uuid-e6f9f631-95f6-424b-ac12-2bdaa18c1dab-table-documents-parts-find-x-1-y-1-z-1-builds-1-files-1-blobs-1-schema-1-outputs-a-b', uuid='e6f9f631-95f6-424b-ac12-2bdaa18c1dab', table='documents', parts=[('find', ({}, {'x': 1, 'y': 1, 'z': 1, '_builds': 1, '_files': 1, '_blobs': 1, '_schema': 1}), {}), ('outputs', ('a', 'b'), {})]), predict_kwargs={})\n",
      "2024-Jul-25 11:20:57.16| INFO     | zhouhaha-2.local| pinnacle.components.listener:83   | Requesting listener setup on CDC service\n",
      "2024-Jul-25 11:20:57.16| INFO     | zhouhaha-2.local| pinnacle.components.listener:93   | Skipping listener setup on CDC service since no URI is set\n",
      "2024-Jul-25 11:20:57.16| INFO     | zhouhaha-2.local| pinnacle.jobs.queue:104  | Declaring component listener/c\n",
      "2024-Jul-25 11:20:57.16| INFO     | zhouhaha-2.local| pinnacle.jobs.queue:178  | Running jobs for listener::c\n",
      "2024-Jul-25 11:20:57.16| INFO     | zhouhaha-2.local| pinnacle.backends.local.compute:64   | Submitting job. function:<function method_job at 0x108f1fd90>\n",
      "2024-Jul-25 11:20:57.16| INFO     | zhouhaha-2.local| pinnacle.components.model:678  | Requesting prediction in db - [c] with predict_id c\n",
      "\n",
      "2024-Jul-25 11:20:57.17| INFO     | zhouhaha-2.local| pinnacle.components.model:807  | Adding 3 model outputs to `db`\n",
      "2024-Jul-25 11:20:57.17| SUCCESS  | zhouhaha-2.local| pinnacle.backends.local.compute:70   | Job submitted on <pinnacle.backends.local.compute.LocalComputeBackend object at 0x146f38ee0>.  function:<function method_job at 0x108f1fd90> future:755ecfce-0ac1-4078-b2ca-445670d4d478\n"
     ]
    }
   ],
   "source": [
    "output_c.apply()"
   ]
  },
  {
   "cell_type": "code",
   "execution_count": 8,
   "id": "c26cd251-6fcc-4623-adcd-8102426ae3ee",
   "metadata": {},
   "outputs": [
    {
     "data": {
      "text/plain": [
       "[Document({'_id': ObjectId('66a1c49909d51b458635eda2'), '_outputs': {'c': {'x': 1, 'y': '2', 'z': Encodable(identifier='e2d1839ed1706f7d470d87f8c48a5584cafa5a12', uuid='6ec1ba5e-0b93-49a0-a362-1637fd933849', datatype=DataType(identifier='numpy-int64[3]', uuid='72357574-0c3e-4503-b0c7-e15a6595491d', upstream=None, plugins=None, encoder=<pinnacle.ext.numpy.encoder.EncodeArray object at 0x146f805b0>, decoder=<pinnacle.ext.numpy.encoder.DecodeArray object at 0x146f820b0>, info=None, shape=[3], directory=None, encodable='encodable', bytes_encoding=<BytesEncoding.BYTES: 'Bytes'>, intermediate_type='bytes', media_type=None), uri=None, x=array([1, 2, 3])), 'o_a': {'x': 1, 'model': 'a'}, 'o_b': {'x': 1, 'y': '2', 'o_a': {'x': 1, 'model': 'a'}, 'model': 'b'}, 'model': 'c'}, 'b': {'x': 1, 'y': '2', 'o_a': {'x': 1, 'model': 'a'}, 'model': 'b'}, 'a': {'x': 1, 'model': 'a'}}}),\n",
       " Document({'_id': ObjectId('66a1c49909d51b458635eda3'), '_outputs': {'c': {'x': 2, 'y': '3', 'z': Encodable(identifier='168d0ba38783ef14943e28073c750dbd4b83bdcc', uuid='9288eb18-1811-492c-a32e-28e467d31939', datatype=DataType(identifier='numpy-int64[3]', uuid='695b4336-8d43-4113-8b2c-70898ad94103', upstream=None, plugins=None, encoder=<pinnacle.ext.numpy.encoder.EncodeArray object at 0x146fa3610>, decoder=<pinnacle.ext.numpy.encoder.DecodeArray object at 0x146fa2ad0>, info=None, shape=[3], directory=None, encodable='encodable', bytes_encoding=<BytesEncoding.BYTES: 'Bytes'>, intermediate_type='bytes', media_type=None), uri=None, x=array([4, 5, 6])), 'o_a': {'x': 2, 'model': 'a'}, 'o_b': {'x': 2, 'y': '3', 'o_a': {'x': 2, 'model': 'a'}, 'model': 'b'}, 'model': 'c'}, 'b': {'x': 2, 'y': '3', 'o_a': {'x': 2, 'model': 'a'}, 'model': 'b'}, 'a': {'x': 2, 'model': 'a'}}}),\n",
       " Document({'_id': ObjectId('66a1c49909d51b458635eda4'), '_outputs': {'c': {'x': 3, 'y': '4', 'z': Encodable(identifier='31c74b4f993d8a50e16d055f45359504dad76c05', uuid='e9a3d7dc-2d68-4110-8938-3f79955f871a', datatype=DataType(identifier='numpy-int64[3]', uuid='5049de2e-33d2-401b-9e1a-8b5a1bb352e8', upstream=None, plugins=None, encoder=<pinnacle.ext.numpy.encoder.EncodeArray object at 0x146f94ac0>, decoder=<pinnacle.ext.numpy.encoder.DecodeArray object at 0x146f95180>, info=None, shape=[3], directory=None, encodable='encodable', bytes_encoding=<BytesEncoding.BYTES: 'Bytes'>, intermediate_type='bytes', media_type=None), uri=None, x=array([7, 8, 9])), 'o_a': {'x': 3, 'model': 'a'}, 'o_b': {'x': 3, 'y': '4', 'o_a': {'x': 3, 'model': 'a'}, 'model': 'b'}, 'model': 'c'}, 'b': {'x': 3, 'y': '4', 'o_a': {'x': 3, 'model': 'a'}, 'model': 'b'}, 'a': {'x': 3, 'model': 'a'}}})]"
      ]
     },
     "execution_count": 8,
     "metadata": {},
     "output_type": "execute_result"
    }
   ],
   "source": [
    "list(db[\"documents\"].select().outputs(\"a\", \"b\", \"c\").select().execute())"
   ]
  },
  {
   "cell_type": "markdown",
   "id": "0c31a5c8-4432-4ba8-89f4-c6a26d636800",
   "metadata": {},
   "source": [
    "If you want to modify the predict_id of a specific model, \n",
    "you can use `output.predict_id = \"your_predict_id\"` to set it."
   ]
  },
  {
   "cell_type": "code",
   "execution_count": 9,
   "id": "9f13fe0d-15b6-46c4-bbf0-297442eccc83",
   "metadata": {},
   "outputs": [
    {
     "name": "stdout",
     "output_type": "stream",
     "text": [
      "2024-Jul-25 11:20:57.21| INFO     | zhouhaha-2.local| pinnacle.misc.eager:289  | Applying nodes: ['a', 'b', 'new_predict_id']\n",
      "2024-Jul-25 11:20:57.21| INFO     | zhouhaha-2.local| pinnacle.misc.eager:298  | Node [a] already applied.\n",
      "2024-Jul-25 11:20:57.21| INFO     | zhouhaha-2.local| pinnacle.misc.eager:298  | Node [b] already applied.\n",
      "2024-Jul-25 11:20:57.21| INFO     | zhouhaha-2.local| pinnacle.misc.eager:301  | Applying node: new_predict_id\n",
      "2024-Jul-25 11:20:57.21| INFO     | zhouhaha-2.local| pinnacle.misc.eager:302  | Example output {'x': 1, 'y': '2', 'z': array([1, 2, 3]), 'o_a': {'x': 1, 'model': 'a'}, 'o_b': {'x': 1, 'y': '2', 'o_a': {'x': 1, 'model': 'a'}, 'model': 'b'}, 'model': 'c'}\n",
      "2024-Jul-25 11:20:57.21| INFO     | zhouhaha-2.local| pinnacle.misc.eager:306  | Key: ('x', 'y', 'z', '_outputs.a', '_outputs.b')\n",
      "2024-Jul-25 11:20:57.22| INFO     | zhouhaha-2.local| pinnacle.misc.eager:309  | Select: MongoOutputs(identifier='MongoOutputs-identifier-uuid-0e7da996-a427-43bd-8ad2-c2688da2c4b2-table-documents-parts-find-x-1-y-1-z-1-builds-1-files-1-blobs-1-schema-1-outputs-a-b', uuid='0e7da996-a427-43bd-8ad2-c2688da2c4b2', table='documents', parts=[('find', ({}, {'x': 1, 'y': 1, 'z': 1, '_builds': 1, '_files': 1, '_blobs': 1, '_schema': 1}), {}), ('outputs', ('a', 'b'), {})])\n",
      "2024-Jul-25 11:20:57.22| INFO     | zhouhaha-2.local| pinnacle.misc.eager:311  | Predict id: new_predict_id\n",
      "2024-Jul-25 11:20:57.22| INFO     | zhouhaha-2.local| pinnacle.misc.eager:313  | Predict kwargs: {}\n",
      "2024-Jul-25 11:20:57.22| INFO     | zhouhaha-2.local| pinnacle.misc.eager:323  | Listener: Listener(identifier='new_predict_id', uuid='new_predict_id', upstream=None, plugins=None, key=('x', 'y', 'z', '_outputs.a', '_outputs.b'), model=ObjectModel(identifier='c', uuid='f1623135-5b78-4528-b4c8-15fcecfa306a', upstream=None, plugins=None, signature='*args,**kwargs', datatype=None, output_schema=None, flatten=False, model_update_kwargs={}, predict_kwargs={}, compute_kwargs={}, validation=None, metric_values={}, num_workers=0, object=<function func_c at 0x10777fb50>), select=MongoOutputs(identifier='MongoOutputs-identifier-uuid-0e7da996-a427-43bd-8ad2-c2688da2c4b2-table-documents-parts-find-x-1-y-1-z-1-builds-1-files-1-blobs-1-schema-1-outputs-a-b', uuid='0e7da996-a427-43bd-8ad2-c2688da2c4b2', table='documents', parts=[('find', ({}, {'x': 1, 'y': 1, 'z': 1, '_builds': 1, '_files': 1, '_blobs': 1, '_schema': 1}), {}), ('outputs', ('a', 'b'), {})]), predict_kwargs={})\n",
      "2024-Jul-25 11:20:57.22| WARNING  | zhouhaha-2.local| pinnacle.backends.local.artifacts:82   | File /tmp/test/7a3674bbe73b9998a81ee8daa6c12516bcac30ff already exists\n",
      "2024-Jul-25 11:20:57.22| INFO     | zhouhaha-2.local| pinnacle.components.listener:83   | Requesting listener setup on CDC service\n",
      "2024-Jul-25 11:20:57.22| INFO     | zhouhaha-2.local| pinnacle.components.listener:93   | Skipping listener setup on CDC service since no URI is set\n",
      "2024-Jul-25 11:20:57.22| INFO     | zhouhaha-2.local| pinnacle.jobs.queue:104  | Declaring component listener/new_predict_id\n",
      "2024-Jul-25 11:20:57.22| INFO     | zhouhaha-2.local| pinnacle.jobs.queue:178  | Running jobs for listener::new_predict_id\n",
      "2024-Jul-25 11:20:57.22| INFO     | zhouhaha-2.local| pinnacle.backends.local.compute:64   | Submitting job. function:<function method_job at 0x108f1fd90>\n",
      "2024-Jul-25 11:20:57.22| INFO     | zhouhaha-2.local| pinnacle.components.model:678  | Requesting prediction in db - [c] with predict_id new_predict_id\n",
      "\n",
      "2024-Jul-25 11:20:57.23| INFO     | zhouhaha-2.local| pinnacle.components.model:807  | Adding 3 model outputs to `db`\n",
      "2024-Jul-25 11:20:57.23| SUCCESS  | zhouhaha-2.local| pinnacle.backends.local.compute:70   | Job submitted on <pinnacle.backends.local.compute.LocalComputeBackend object at 0x146f38ee0>.  function:<function method_job at 0x108f1fd90> future:1ae144f7-db9f-41eb-95ab-1f4af75860f8\n"
     ]
    }
   ],
   "source": [
    "model_predict_id = ObjectModel(identifier=\"c\", object=func_c)\n",
    "output_predict_id = model_predict_id(data[\"x\"], data[\"y\"], data[\"z\"], output_a, output_b)\n",
    "output_predict_id.predict_id = \"new_predict_id\"\n",
    "output_predict_id.apply()"
   ]
  },
  {
   "cell_type": "markdown",
   "id": "abf696b7-b38c-4d09-a798-8cc9b8791c51",
   "metadata": {},
   "source": [
    "View the prediction results of all data in the database."
   ]
  },
  {
   "cell_type": "code",
   "execution_count": 10,
   "id": "e9fa0737-e130-4358-8451-4d85c72c40b4",
   "metadata": {},
   "outputs": [
    {
     "data": {
      "text/plain": [
       "[Document({'_outputs': {'new_predict_id': {'x': 1, 'y': '2', 'z': Encodable(identifier='e2d1839ed1706f7d470d87f8c48a5584cafa5a12', uuid='1c2c16b6-66cf-414d-a0f7-e8702df24569', datatype=DataType(identifier='numpy-int64[3]', uuid='565196cb-fc5e-41f5-a293-8bb6db908046', upstream=None, plugins=None, encoder=<pinnacle.ext.numpy.encoder.EncodeArray object at 0x146f80910>, decoder=<pinnacle.ext.numpy.encoder.DecodeArray object at 0x146f81240>, info=None, shape=[3], directory=None, encodable='encodable', bytes_encoding=<BytesEncoding.BYTES: 'Bytes'>, intermediate_type='bytes', media_type=None), uri=None, x=array([1, 2, 3])), 'o_a': {'x': 1, 'model': 'a'}, 'o_b': {'x': 1, 'y': '2', 'o_a': {'x': 1, 'model': 'a'}, 'model': 'b'}, 'model': 'c'}}, '_source': ObjectId('66a1c49909d51b458635eda2'), '_fold': 'train', '_id': ObjectId('66a1c49909d51b458635edc0')}),\n",
       " Document({'_outputs': {'new_predict_id': {'x': 2, 'y': '3', 'z': Encodable(identifier='168d0ba38783ef14943e28073c750dbd4b83bdcc', uuid='ccec3051-bc09-47d2-98f6-3209d51b197a', datatype=DataType(identifier='numpy-int64[3]', uuid='d7fb6e08-8c1f-4dd7-b277-541f5181af94', upstream=None, plugins=None, encoder=<pinnacle.ext.numpy.encoder.EncodeArray object at 0x146f80b20>, decoder=<pinnacle.ext.numpy.encoder.DecodeArray object at 0x146f80c70>, info=None, shape=[3], directory=None, encodable='encodable', bytes_encoding=<BytesEncoding.BYTES: 'Bytes'>, intermediate_type='bytes', media_type=None), uri=None, x=array([4, 5, 6])), 'o_a': {'x': 2, 'model': 'a'}, 'o_b': {'x': 2, 'y': '3', 'o_a': {'x': 2, 'model': 'a'}, 'model': 'b'}, 'model': 'c'}}, '_source': ObjectId('66a1c49909d51b458635eda3'), '_fold': 'train', '_id': ObjectId('66a1c49909d51b458635edc1')}),\n",
       " Document({'_outputs': {'new_predict_id': {'x': 3, 'y': '4', 'z': Encodable(identifier='31c74b4f993d8a50e16d055f45359504dad76c05', uuid='d9fbb133-3d27-4433-8f7e-3dc4cd869db5', datatype=DataType(identifier='numpy-int64[3]', uuid='8f979f90-84d9-4ad6-92dc-e077b0767173', upstream=None, plugins=None, encoder=<pinnacle.ext.numpy.encoder.EncodeArray object at 0x146f81a50>, decoder=<pinnacle.ext.numpy.encoder.DecodeArray object at 0x146f83d60>, info=None, shape=[3], directory=None, encodable='encodable', bytes_encoding=<BytesEncoding.BYTES: 'Bytes'>, intermediate_type='bytes', media_type=None), uri=None, x=array([7, 8, 9])), 'o_a': {'x': 3, 'model': 'a'}, 'o_b': {'x': 3, 'y': '4', 'o_a': {'x': 3, 'model': 'a'}, 'model': 'b'}, 'model': 'c'}}, '_source': ObjectId('66a1c49909d51b458635eda4'), '_fold': 'train', '_id': ObjectId('66a1c49909d51b458635edc2')})]"
      ]
     },
     "execution_count": 10,
     "metadata": {},
     "output_type": "execute_result"
    }
   ],
   "source": [
    "list(db[\"_outputs.new_predict_id\"].select().execute())"
   ]
  },
  {
   "cell_type": "markdown",
   "id": "915d66a2-60b4-41e2-a68c-f177c1f79f0a",
   "metadata": {},
   "source": [
    "If you want to perform if-like conditional operations to route data using different models, you can use `set_condition` to handle it. Currently, only equals and not equals conditions are supported."
   ]
  },
  {
   "cell_type": "code",
   "execution_count": 11,
   "id": "8deae23c-11f8-4360-933c-35fad05146e8",
   "metadata": {},
   "outputs": [
    {
     "name": "stdout",
     "output_type": "stream",
     "text": [
      "2024-Jul-25 11:20:57.27| INFO     | zhouhaha-2.local| pinnacle.misc.eager:289  | Applying nodes: ['condition']\n",
      "2024-Jul-25 11:20:57.27| INFO     | zhouhaha-2.local| pinnacle.misc.eager:301  | Applying node: condition\n",
      "2024-Jul-25 11:20:57.27| INFO     | zhouhaha-2.local| pinnacle.misc.eager:302  | Example output {'x': 1, 'model': 'a'}\n",
      "2024-Jul-25 11:20:57.27| INFO     | zhouhaha-2.local| pinnacle.misc.eager:306  | Key: x\n",
      "2024-Jul-25 11:20:57.27| INFO     | zhouhaha-2.local| pinnacle.misc.eager:309  | Select: documents.find({'x': 1}, {'x': 1, '_builds': 1, '_files': 1, '_blobs': 1, '_schema': 1})\n",
      "2024-Jul-25 11:20:57.27| INFO     | zhouhaha-2.local| pinnacle.misc.eager:311  | Predict id: condition\n",
      "2024-Jul-25 11:20:57.27| INFO     | zhouhaha-2.local| pinnacle.misc.eager:313  | Predict kwargs: {}\n",
      "2024-Jul-25 11:20:57.27| INFO     | zhouhaha-2.local| pinnacle.misc.eager:323  | Listener: Listener(identifier='condition', uuid='condition', upstream=None, plugins=None, key='x', model=ObjectModel(identifier='condition', uuid='b4e6eba0-cf23-4fc8-921b-2067d0950267', upstream=None, plugins=None, signature='*args,**kwargs', datatype=None, output_schema=None, flatten=False, model_update_kwargs={}, predict_kwargs={}, compute_kwargs={}, validation=None, metric_values={}, num_workers=0, object=<function func_a at 0x146fa7d90>), select=documents.find({'x': 1}, {'x': 1, '_builds': 1, '_files': 1, '_blobs': 1, '_schema': 1}), predict_kwargs={})\n",
      "2024-Jul-25 11:20:57.27| WARNING  | zhouhaha-2.local| pinnacle.backends.local.artifacts:82   | File /tmp/test/d24f9039a299416f14abfa8a11830e67a5665b98 already exists\n",
      "2024-Jul-25 11:20:57.27| INFO     | zhouhaha-2.local| pinnacle.components.listener:83   | Requesting listener setup on CDC service\n",
      "2024-Jul-25 11:20:57.27| INFO     | zhouhaha-2.local| pinnacle.components.listener:93   | Skipping listener setup on CDC service since no URI is set\n",
      "2024-Jul-25 11:20:57.27| INFO     | zhouhaha-2.local| pinnacle.jobs.queue:104  | Declaring component listener/condition\n",
      "2024-Jul-25 11:20:57.28| INFO     | zhouhaha-2.local| pinnacle.jobs.queue:178  | Running jobs for listener::condition\n",
      "2024-Jul-25 11:20:57.28| INFO     | zhouhaha-2.local| pinnacle.backends.local.compute:64   | Submitting job. function:<function method_job at 0x108f1fd90>\n",
      "2024-Jul-25 11:20:57.28| INFO     | zhouhaha-2.local| pinnacle.components.model:678  | Requesting prediction in db - [condition] with predict_id condition\n",
      "\n",
      "2024-Jul-25 11:20:57.28| INFO     | zhouhaha-2.local| pinnacle.components.model:807  | Adding 1 model outputs to `db`\n",
      "2024-Jul-25 11:20:57.28| SUCCESS  | zhouhaha-2.local| pinnacle.backends.local.compute:70   | Job submitted on <pinnacle.backends.local.compute.LocalComputeBackend object at 0x146f38ee0>.  function:<function method_job at 0x108f1fd90> future:b432ac85-9c9f-4ec3-bb50-02cdbe09830f\n"
     ]
    },
    {
     "data": {
      "text/plain": [
       "{'x': 1, 'model': 'a'}"
      ]
     },
     "execution_count": 11,
     "metadata": {},
     "output_type": "execute_result"
    }
   ],
   "source": [
    "model_condition = ObjectModel(identifier=\"condition\", object=func_a)\n",
    "output_condition = model_condition(data[\"x\"])\n",
    "output_condition.set_condition(data[\"x\"] == 1)\n",
    "output_condition.apply()\n",
    "output_condition"
   ]
  },
  {
   "cell_type": "code",
   "execution_count": 12,
   "id": "b71fc7a0-aa5e-4715-b99f-0e52b967e4ad",
   "metadata": {},
   "outputs": [
    {
     "data": {
      "text/plain": [
       "SuperDuperCursor(raw_cursor=<mongomock.collection.Cursor object at 0x146f826b0>, id_field='_id', db=<pinnacle.base.datalayer.Datalayer object at 0x146f38f70>, scores=None, schema=None, process_func=None, _it=0)"
      ]
     },
     "execution_count": 12,
     "metadata": {},
     "output_type": "execute_result"
    }
   ],
   "source": [
    "db['documents'].find({}, {'x': 1, '_builds': 1, '_files': 1, '_blobs': 1, '_schema': 1}).filter({'x': 1}).execute()"
   ]
  },
  {
   "cell_type": "code",
   "execution_count": 13,
   "id": "9301b62d-4825-48d2-9740-1a44c5346a00",
   "metadata": {},
   "outputs": [
    {
     "data": {
      "text/plain": [
       "[Document({'_outputs': {'condition': {'x': 1, 'model': 'a'}}, '_source': ObjectId('66a1c49909d51b458635eda2'), '_fold': 'train', '_id': ObjectId('66a1c49909d51b458635edc7')})]"
      ]
     },
     "execution_count": 13,
     "metadata": {},
     "output_type": "execute_result"
    }
   ],
   "source": [
    "list(db[\"_outputs.condition\"].select().execute())"
   ]
  }
 ],
 "metadata": {
  "kernelspec": {
   "display_name": "Python 3 (ipykernel)",
   "language": "python",
   "name": "python3"
  },
  "language_info": {
   "codemirror_mode": {
    "name": "ipython",
    "version": 3
   },
   "file_extension": ".py",
   "mimetype": "text/x-python",
   "name": "python",
   "nbconvert_exporter": "python",
   "pygments_lexer": "ipython3",
   "version": "3.10.13"
  }
 },
 "nbformat": 4,
 "nbformat_minor": 5
}
