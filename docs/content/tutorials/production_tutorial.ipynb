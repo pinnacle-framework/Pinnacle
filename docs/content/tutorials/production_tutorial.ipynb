{
 "cells": [
  {
   "cell_type": "markdown",
   "id": "66361435-4ae2-4dc4-9332-7cb6608dc7df",
   "metadata": {},
   "source": [
    "# Production features tutorial"
   ]
  },
  {
   "cell_type": "code",
   "execution_count": null,
   "id": "07a5b67a-510a-4a51-b643-0c2295e37936",
   "metadata": {},
   "outputs": [],
   "source": [
    "from pinnacledb import Component\n",
    "\n",
    "rag = Component.read('docs/content/rag')"
   ]
  }
 ],
 "metadata": {
  "kernelspec": {
   "display_name": "Python 3 (ipykernel)",
   "language": "python",
   "name": "python3"
  },
  "language_info": {
   "codemirror_mode": {
    "name": "ipython",
    "version": 3
   },
   "file_extension": ".py",
   "mimetype": "text/x-python",
   "name": "python",
   "nbconvert_exporter": "python",
   "pygments_lexer": "ipython3",
   "version": "3.11.7"
  }
 },
 "nbformat": 4,
 "nbformat_minor": 5
}
