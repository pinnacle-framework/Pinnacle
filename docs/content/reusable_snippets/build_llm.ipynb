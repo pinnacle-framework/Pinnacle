{
 "cells": [
  {
   "cell_type": "markdown",
   "id": "1179a67b-4e40-496b-9851-98f32d42faa0",
   "metadata": {},
   "source": [
    "<!-- TABS -->\n",
    "# Build LLM"
   ]
  },
  {
   "cell_type": "code",
   "execution_count": null,
   "id": "f98e5ff4",
   "metadata": {},
   "outputs": [],
   "source": [
    "# <tab: OpenAI>\n",
    "!pip install openai\n",
    "from pinnacledb.ext.openai import OpenAIChatCompletion\n",
    "\n",
    "llm = OpenAIChatCompletion(identifier='llm', model='gpt-3.5-turbo')"
   ]
  },
  {
   "cell_type": "code",
   "execution_count": null,
   "id": "9bf39c47",
   "metadata": {},
   "outputs": [],
   "source": [
    "# <tab: Anthropic>\n",
    "!pip install anthropic\n",
    "from pinnacledb.ext.anthropic import AnthropicCompletions\n",
    "import os\n",
    "\n",
    "os.environ[\"ANTHROPIC_API_KEY\"] = \"sk-xxx\"\n",
    "\n",
    "predict_kwargs = {\n",
    "    \"max_tokens\": 1024,\n",
    "    \"temperature\": 0.8,\n",
    "}\n",
    "\n",
    "llm = AnthropicCompletions(identifier='llm', model='claude-2.1', predict_kwargs=predict_kwargs)"
   ]
  },
  {
   "cell_type": "code",
   "execution_count": null,
   "id": "95e48deb",
   "metadata": {},
   "outputs": [],
   "source": [
    "# <tab: vLLM>\n",
    "!pip install vllm\n",
    "from pinnacledb.ext.vllm import VllmModel\n",
    "\n",
    "predict_kwargs = {\n",
    "    \"max_tokens\": 1024,\n",
    "    \"temperature\": 0.8,\n",
    "}\n",
    "\n",
    "\n",
    "llm = VllmModel(\n",
    "    identifier=\"llm\",\n",
    "    model_name=\"TheBloke/Mistral-7B-Instruct-v0.2-AWQ\",\n",
    "    vllm_kwargs={\n",
    "        \"gpu_memory_utilization\": 0.7,\n",
    "        \"max_model_len\": 1024,\n",
    "        \"quantization\": \"awq\",\n",
    "    },\n",
    "    predict_kwargs=predict_kwargs,\n",
    ")"
   ]
  },
  {
   "cell_type": "code",
   "execution_count": null,
   "id": "fe4ac344",
   "metadata": {},
   "outputs": [],
   "source": [
    "# <tab: Transformers>\n",
    "!pip install transformers datasets bitsandbytes accelerate\n",
    "from pinnacledb.ext.transformers import LLM\n",
    "\n",
    "llm = LLM.from_pretrained(\"mistralai/Mistral-7B-Instruct-v0.2\", load_in_8bit=True, device_map=\"cuda\", identifier=\"llm\", predict_kwargs=dict(max_new_tokens=128))"
   ]
  },
  {
   "cell_type": "code",
   "execution_count": null,
   "id": "1fdbfae2-af7d-4845-bce5-0cb230e3614e",
   "metadata": {},
   "outputs": [],
   "source": [
    "# <tab: Llama.cpp>\n",
    "!pip install llama_cpp_python\n",
    "# !huggingface-cli download TheBloke/Mistral-7B-Instruct-v0.2-GGUF mistral-7b-instruct-v0.2.Q4_K_M.gguf --local-dir . --local-dir-use-symlinks False\n",
    "\n",
    "from pinnacledb.ext.llamacpp.model import LlamaCpp\n",
    "llm = LlamaCpp(identifier=\"llm\", model_name_or_path=\"mistral-7b-instruct-v0.2.Q4_K_M.gguf\")"
   ]
  },
  {
   "cell_type": "code",
   "execution_count": null,
   "id": "7d39a98d-c2f2-4496-b50e-ff82a59d7204",
   "metadata": {},
   "outputs": [],
   "source": [
    "# test the llm model\n",
    "llm.predict(\"Tell me about the SuperDuperDB\")"
   ]
  }
 ],
 "metadata": {
  "kernelspec": {
   "display_name": "Python 3 (ipykernel)",
   "language": "python",
   "name": "python3"
  },
  "language_info": {
   "codemirror_mode": {
    "name": "ipython",
    "version": 3
   },
   "file_extension": ".py",
   "mimetype": "text/x-python",
   "name": "python",
   "nbconvert_exporter": "python",
   "pygments_lexer": "ipython3",
   "version": "3.11.2"
  }
 },
 "nbformat": 4,
 "nbformat_minor": 5
}
