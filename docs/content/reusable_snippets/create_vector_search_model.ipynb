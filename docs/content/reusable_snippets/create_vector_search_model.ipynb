{
 "cells": [
  {
   "cell_type": "markdown",
   "id": "91142c55-b256-4025-94c2-6c4d215c6975",
   "metadata": {},
   "source": [
    "<!-- TABS -->\n",
    "# Create Vector Search Model"
   ]
  },
  {
   "cell_type": "code",
   "execution_count": null,
   "id": "b5b99541-fd10-41c1-b6a7-1da6c1d4dbd7",
   "metadata": {},
   "outputs": [],
   "source": [
    "from pinnacledb.base.variables import Variable\n",
    "item = {indexing_key: Variable('query')}"
   ]
  },
  {
   "cell_type": "code",
   "execution_count": null,
   "id": "d47799ab-b688-4eb8-82d4-6c0aa1204801",
   "metadata": {},
   "outputs": [],
   "source": [
    "from pinnacledb.components.model import QueryModel\n",
    "\n",
    "vector_search_model = QueryModel(\n",
    "    identifier=\"VectorSearch\",\n",
    "    select=query_table_or_collection.like(item, vector_index=vector_index_name, n=5).select(),\n",
    "    # The _source is the identifier of the upstream data, which can be used to locate the data from upstream sources using `_source`.\n",
    "    postprocess=lambda docs: [{\"text\": doc[indexing_key], \"_source\": doc[\"_source\"]} for doc in docs],\n",
    "    db=db\n",
    ")"
   ]
  },
  {
   "cell_type": "code",
   "execution_count": null,
   "id": "56c5b28e-1f9d-4e9a-8238-537b71c07d2b",
   "metadata": {},
   "outputs": [],
   "source": [
    "vector_search_model.predict_one(query=query)"
   ]
  }
 ],
 "metadata": {
  "kernelspec": {
   "display_name": "Python 3 (ipykernel)",
   "language": "python",
   "name": "python3"
  },
  "language_info": {
   "codemirror_mode": {
    "name": "ipython",
    "version": 3
   },
   "file_extension": ".py",
   "mimetype": "text/x-python",
   "name": "python",
   "nbconvert_exporter": "python",
   "pygments_lexer": "ipython3",
   "version": "3.11.2"
  }
 },
 "nbformat": 4,
 "nbformat_minor": 5
}
