{
 "cells": [
  {
   "cell_type": "markdown",
   "metadata": {},
   "source": [
    "<!-- TABS -->\n",
    "# Perform a vector search"
   ]
  },
  {
   "cell_type": "code",
   "execution_count": null,
   "metadata": {},
   "outputs": [],
   "source": [
    "from pinnacle import Document\n",
    "\n",
    "def get_sample_item(key, sample_datapoint, datatype=None):\n",
    "    if not isinstance(datatype, DataType):\n",
    "        item = Document({key: sample_datapoint})\n",
    "    else:\n",
    "        item = Document({key: datatype(sample_datapoint)})\n",
    "\n",
    "    return item\n",
    "\n",
    "if compatible_key:\n",
    "    item = get_sample_item(compatible_key, sample_datapoint, None)\n",
    "else:\n",
    "    item = get_sample_item(indexing_key, sample_datapoint, datatype=datatype)"
   ]
  },
  {
   "cell_type": "markdown",
   "metadata": {},
   "source": [
    "Once we have this search target, we can execute a search as follows:"
   ]
  },
  {
   "cell_type": "code",
   "execution_count": null,
   "metadata": {},
   "outputs": [],
   "source": [
    "# <tab: MongoDB>\n",
    "select = query_table_or_collection.like(item, vector_index=vector_index_name, n=10).find()"
   ]
  },
  {
   "cell_type": "code",
   "execution_count": null,
   "metadata": {},
   "outputs": [],
   "source": [
    "# <tab: SQL>\n",
    "select = query_table_or_collection.like(item, vector_index=vector_index_name, n=10).limit(10)"
   ]
  },
  {
   "cell_type": "code",
   "execution_count": null,
   "metadata": {},
   "outputs": [],
   "source": [
    "results = db.execute(select)"
   ]
  }
 ],
 "metadata": {
  "kernelspec": {
   "display_name": "Python 3 (ipykernel)",
   "language": "python",
   "name": "python3"
  },
  "language_info": {
   "codemirror_mode": {
    "name": "ipython",
    "version": 3
   },
   "file_extension": ".py",
   "mimetype": "text/x-python",
   "name": "python",
   "nbconvert_exporter": "python",
   "pygments_lexer": "ipython3",
   "version": "3.11.7"
  }
 },
 "nbformat": 4,
 "nbformat_minor": 4
}
