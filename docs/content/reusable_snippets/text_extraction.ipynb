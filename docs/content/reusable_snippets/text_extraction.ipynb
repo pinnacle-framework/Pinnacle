{
 "cells": [
  {
   "cell_type": "code",
   "execution_count": null,
   "id": "d0357295-204a-4a93-bec9-738945e45234",
   "metadata": {},
   "outputs": [],
   "source": [
    "# <tab: PDF>\n",
    "from PyPDF2 import PdfReader\n",
    "\n",
    "from pinnacle import model\n",
    "\n",
    "\n",
    "@model(flatten=True, model_update_kwargs={'document_embedded': False})\n",
    "def text_extraction(file_path):\n",
    "    reader = PdfReader(file_path)\n",
    "    \n",
    "    texts = []\n",
    "    for i, page in tqdm(enumerate(reader.pages)):\n",
    "        text = page.extract_text() \n",
    "        texts.append(text)\n",
    "    return texts"
   ]
  },
  {
   "cell_type": "code",
   "execution_count": null,
   "id": "0136744b-24f9-44cf-9e4e-c55d7fd4f87b",
   "metadata": {},
   "outputs": [],
   "source": []
  }
 ],
 "metadata": {
  "kernelspec": {
   "display_name": "Python 3 (ipykernel)",
   "language": "python",
   "name": "python3"
  },
  "language_info": {
   "codemirror_mode": {
    "name": "ipython",
    "version": 3
   },
   "file_extension": ".py",
   "mimetype": "text/x-python",
   "name": "python",
   "nbconvert_exporter": "python",
   "pygments_lexer": "ipython3",
   "version": "3.11.7"
  }
 },
 "nbformat": 4,
 "nbformat_minor": 5
}
