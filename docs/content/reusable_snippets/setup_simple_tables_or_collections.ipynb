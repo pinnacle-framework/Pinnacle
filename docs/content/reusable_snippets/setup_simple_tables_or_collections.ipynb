{
 "cells": [
  {
   "cell_type": "markdown",
   "metadata": {},
   "source": [
    "<!-- TABS -->\n",
    "# Setup simple tables or collections"
   ]
  },
  {
   "cell_type": "code",
   "execution_count": null,
   "metadata": {},
   "outputs": [],
   "source": [
    "# <tab: MongoDB>\n",
    "# If data is in a format natively supported by MongoDB, we don't need to do anything.\n",
    "# However to manually specify datatypes, do as below\n",
    "from pinnacledb import Schema, Document\n",
    "from pinnacledb.ext.pillow import pil_image\n",
    "from pinnacledb.components.datatype import pickle_serializer\n",
    "\n",
    "fields = {\n",
    "    'serialized_content': pickle_serializer,\n",
    "    'img_content': pil_image,\n",
    "}\n",
    "\n",
    "schema = Schema(identifier=\"my-schema\", fields=fields)\n",
    "\n",
    "# Add schema to system\n",
    "db.apply(schema)\n",
    "\n",
    "# Now assert `Document` instances, specifying this schema\n",
    "db['documents'].insert_many([\n",
    "    Document({\n",
    "        'serialized_content': item,\n",
    "        'img_content': img,\n",
    "    }, schema='my-schema')\n",
    "    for item, img in data\n",
    "])"
   ]
  },
  {
   "cell_type": "code",
   "execution_count": null,
   "metadata": {},
   "outputs": [],
   "source": [
    "# <tab: SQL>\n",
    "# If data is in a format natively supported by MongoDB, we don't need to do anything.\n",
    "# However to manually specify datatypes, do as below\n",
    "from pinnacledb import Schema\n",
    "from pinnacledb.ext.pillow import pil_image\n",
    "from pinnacledb.components.datatype import pickle_serializer\n",
    "\n",
    "fields = {\n",
    "    'serialized_content': pickle_serializer,\n",
    "    'img_content': pil_image_hybrid,\n",
    "}\n",
    "\n",
    "schema = Schema(identifier=\"my-schema\", fields=fields)\n",
    "db.apply(schema)\n",
    "\n",
    "# Now assert `Document` instances, specifying this schema\n",
    "db['documents'].insert_many([\n",
    "    Document({\n",
    "        'serialized_content': item,\n",
    "        'img_content': img,\n",
    "    }, schema='my-schema')\n",
    "    for item, img in data\n",
    "])"
   ]
  }
 ],
 "metadata": {
  "kernelspec": {
   "display_name": "Python 3 (ipykernel)",
   "language": "python",
   "name": "python3"
  },
  "language_info": {
   "codemirror_mode": {
    "name": "ipython",
    "version": 3
   },
   "file_extension": ".py",
   "mimetype": "text/x-python",
   "name": "python",
   "nbconvert_exporter": "python",
   "pygments_lexer": "ipython3",
   "version": "3.10.7"
  }
 },
 "nbformat": 4,
 "nbformat_minor": 4
}
