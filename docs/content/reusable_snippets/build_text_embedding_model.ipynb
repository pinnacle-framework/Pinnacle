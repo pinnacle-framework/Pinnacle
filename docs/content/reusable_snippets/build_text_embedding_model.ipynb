{
 "cells": [
  {
   "cell_type": "markdown",
   "id": "c9a2cd87-723f-4cee-87c7-9b8181c9e54b",
   "metadata": {},
   "source": [
    "<!-- TABS -->\n",
    "# Build text embedding model"
   ]
  },
  {
   "cell_type": "code",
   "execution_count": null,
   "id": "a9b1f538-65ca-499e-b6d0-2dd733f81723",
   "metadata": {},
   "outputs": [],
   "source": [
    "# <tab: OpenAI>\n",
    "!pip install openai\n",
    "from pinnacle.ext.openai import OpenAIEmbedding\n",
    "\n",
    "embedding_model = OpenAIEmbedding(identifier='text-embedding-ada-002')"
   ]
  },
  {
   "cell_type": "code",
   "execution_count": null,
   "id": "e83facd8-8823-492f-a2c6-659f38d8e6ec",
   "metadata": {},
   "outputs": [],
   "source": [
    "# <tab: JinaAI>\n",
    "import os\n",
    "from pinnacle.ext.jina import JinaEmbedding\n",
    "\n",
    "os.environ[\"JINA_API_KEY\"] = \"jina_xxxx\"\n",
    " \n",
    "# define the model\n",
    "embedding_model = JinaEmbedding(identifier='jina-embeddings-v2-base-en')"
   ]
  },
  {
   "cell_type": "code",
   "execution_count": null,
   "id": "3b4a9a60-41df-461d-b165-1d136ee25694",
   "metadata": {},
   "outputs": [],
   "source": [
    "# <tab: Sentence-Transformers>\n",
    "!pip install sentence-transformers\n",
    "from pinnacle import vector\n",
    "import sentence_transformers\n",
    "from pinnacle.ext.sentence_transformers import SentenceTransformer\n",
    "\n",
    "embedding_model = SentenceTransformer(\n",
    "    identifier=\"embedding\",\n",
    "    object=sentence_transformers.SentenceTransformer(\"BAAI/bge-small-en\"),\n",
    "    datatype=vector(shape=(1024,)),\n",
    "    postprocess=lambda x: x.tolist(),\n",
    "    predict_kwargs={\"show_progress_bar\": True},\n",
    ")"
   ]
  },
  {
   "cell_type": "code",
   "execution_count": null,
   "id": "b1219380-13ce-4301-90e6-6ede2eee1497",
   "metadata": {},
   "outputs": [],
   "source": [
    "# <tab: Transformers>\n",
    "from pinnacle import vector\n",
    "from pinnacle.components.model import Model, ensure_initialized, Signature\n",
    "from transformers import AutoTokenizer, AutoModel\n",
    "import torch\n",
    "\n",
    "class TransformerEmbedding(Model):\n",
    "    signature: Signature = 'singleton'\n",
    "    pretrained_model_name_or_path : str\n",
    "\n",
    "    def init(self):\n",
    "        self.tokenizer = AutoTokenizer.from_pretrained(self.pretrained_model_name_or_path)\n",
    "        self.model = AutoModel.from_pretrained(self.pretrained_model_name_or_path)\n",
    "        self.model.eval()\n",
    "\n",
    "    @ensure_initialized\n",
    "    def predict(self, x):\n",
    "        return self.predict([x])[0]\n",
    "        \n",
    "    @ensure_initialized\n",
    "    def predict(self, dataset):\n",
    "        encoded_input = self.tokenizer(dataset, padding=True, truncation=True, return_tensors='pt')\n",
    "        # Compute token embeddings\n",
    "        with torch.no_grad():\n",
    "            model_output = self.model(**encoded_input)\n",
    "            # Perform pooling. In this case, cls pooling.\n",
    "            sentence_embeddings = model_output[0][:, 0]\n",
    "        # normalize embeddings\n",
    "        sentence_embeddings = torch.nn.functional.normalize(sentence_embeddings, p=2, dim=1)\n",
    "        return sentence_embeddings.tolist()\n",
    "\n",
    "\n",
    "embedding_model = TransformerEmbedding(identifier=\"embedding\", pretrained_model_name_or_path=\"BAAI/bge-small-en\", datatype=vector(shape=(384, )))"
   ]
  },
  {
   "cell_type": "code",
   "execution_count": null,
   "id": "b9b238cf-56d5-44b4-87b0-9d8d55bdf36f",
   "metadata": {},
   "outputs": [],
   "source": [
    "print(len(embedding_model.predict(\"What is pinnacle\")))"
   ]
  }
 ],
 "metadata": {
  "kernelspec": {
   "display_name": "Python 3 (ipykernel)",
   "language": "python",
   "name": "python3"
  },
  "language_info": {
   "codemirror_mode": {
    "name": "ipython",
    "version": 3
   },
   "file_extension": ".py",
   "mimetype": "text/x-python",
   "name": "python",
   "nbconvert_exporter": "python",
   "pygments_lexer": "ipython3",
   "version": "3.10.7"
  }
 },
 "nbformat": 4,
 "nbformat_minor": 5
}
