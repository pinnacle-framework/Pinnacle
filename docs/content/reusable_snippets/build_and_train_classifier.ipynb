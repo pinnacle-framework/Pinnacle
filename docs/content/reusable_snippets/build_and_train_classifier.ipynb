{
 "cells": [
  {
   "cell_type": "markdown",
   "id": "c2da0ab6-8fc0-41fc-b8c9-0f8a127d9e8d",
   "metadata": {},
   "source": [
    "<!-- TABS -->\n",
    "# Build and train classifier"
   ]
  },
  {
   "cell_type": "code",
   "execution_count": null,
   "id": "151b5368-a583-4471-be9a-e204d710300e",
   "metadata": {},
   "outputs": [],
   "source": [
    "# <testing: >\n",
    "import numpy as np\n",
    "import torch\n",
    "from sklearn.datasets import make_blobs\n",
    "from pinnacledb import pinnacle\n",
    "\n",
    "db = pinnacle('mongomock://temp')\n",
    "\n",
    "# Generate 100 data points with 16 features\n",
    "X, y = make_blobs(n_samples=100, n_features=16, centers=3, random_state=42)\n",
    "\n",
    "\n",
    "X_torch = torch.from_numpy(X).float()\n",
    "y_torch = torch.from_numpy(y).long()\n",
    "from pinnacledb.ext.torch import tensor\n",
    "t = tensor(torch.float32, (16,))\n",
    "db.add(t)\n",
    "\n",
    "from pinnacledb.backends.mongodb import Collection\n",
    "from pinnacledb import Document\n",
    "data = [ Document({'X': t(X_torch[i]), 'y': float(y_torch[i])}) for i in range(100)]\n",
    "db.execute(Collection('clt').insert_many(data))\n",
    "\n",
    "input_key = 'X'\n",
    "select = Collection('clt').find()"
   ]
  },
  {
   "cell_type": "code",
   "execution_count": null,
   "id": "d3b94fca-3a0b-433f-88cf-aab5b71b8596",
   "metadata": {},
   "outputs": [],
   "source": [
    "# <tab: Scikit-Learn>\n",
    "from pinnacledb.ext.sklearn import Estimator, SklearnTrainer\n",
    "from sklearn.svm import SVC\n",
    "\n",
    "model = Estimator(\n",
    "    identifier=\"my-model\",\n",
    "    object=SVC(),\n",
    "    trainer=SklearnTrainer(\n",
    "        \"my-trainer\",\n",
    "        key=(input_key, \"label\"),\n",
    "        select=training_select,\n",
    "    ),\n",
    ")"
   ]
  },
  {
   "cell_type": "code",
   "execution_count": null,
   "id": "5256e0fb-db16-411e-a1c1-8d44feb26c29",
   "metadata": {},
   "outputs": [],
   "source": [
    "# <tab: Torch>\n",
    "import torch\n",
    "from torch import nn\n",
    "from pinnacledb.ext.torch.model import TorchModel\n",
    "from pinnacledb.ext.torch.training import TorchTrainer\n",
    "from torch.nn.functional import cross_entropy\n",
    "\n",
    "\n",
    "class SimpleModel(nn.Module):\n",
    "    def __init__(self, input_size=16, hidden_size=32, num_classes=3):\n",
    "        super(SimpleModel, self).__init__()\n",
    "        self.fc1 = nn.Linear(input_size, hidden_size)\n",
    "        self.relu = nn.ReLU()\n",
    "        self.fc2 = nn.Linear(hidden_size, num_classes)\n",
    "\n",
    "    def forward(self, x):\n",
    "        out = self.fc1(x)\n",
    "        out = self.relu(out)\n",
    "        out = self.fc2(out)\n",
    "        return out\n",
    "\n",
    "preprocess = lambda x: torch.tensor(x)\n",
    "\n",
    "# Postprocess function for the model output    \n",
    "def postprocess(x):\n",
    "    return int(x.topk(1)[1].item())\n",
    "\n",
    "def data_transform(features, label):\n",
    "    return torch.tensor(features), label\n",
    "\n",
    "# Create a Logistic Regression model\n",
    "# feature_length is the input feature size\n",
    "model = SimpleModel(feature_size, num_classes=num_classes)\n",
    "model = TorchModel(\n",
    "    identifier='my-model',\n",
    "    object=model,         \n",
    "    preprocess=preprocess,\n",
    "    postprocess=postprocess,\n",
    "    trainer=TorchTrainer(\n",
    "        key=(input_key, 'label'),\n",
    "        identifier='my_trainer',\n",
    "        objective=cross_entropy,\n",
    "        loader_kwargs={'batch_size': 10},\n",
    "        max_iterations=1000,\n",
    "        validation_interval=100,\n",
    "        select=select,\n",
    "        transform=data_transform,\n",
    "    ),\n",
    ")"
   ]
  },
  {
   "cell_type": "code",
   "execution_count": null,
   "id": "decad591-5934-45b6-a332-a47fc61a0aa8",
   "metadata": {},
   "outputs": [],
   "source": [
    "# <testing: >\n",
    "db.apply(model)"
   ]
  },
  {
   "cell_type": "code",
   "execution_count": null,
   "id": "e86da992-3bcc-413c-a507-27cf9082114f",
   "metadata": {},
   "outputs": [],
   "source": [
    "# <testing: >\n",
    "print(db.load('model', 'my-model').predict(X_torch[0]))\n",
    "print(y_torch[0])"
   ]
  }
 ],
 "metadata": {
  "kernelspec": {
   "display_name": "Python 3 (ipykernel)",
   "language": "python",
   "name": "python3"
  },
  "language_info": {
   "codemirror_mode": {
    "name": "ipython",
    "version": 3
   },
   "file_extension": ".py",
   "mimetype": "text/x-python",
   "name": "python",
   "nbconvert_exporter": "python",
   "pygments_lexer": "ipython3",
   "version": "3.11.2"
  }
 },
 "nbformat": 4,
 "nbformat_minor": 5
}
