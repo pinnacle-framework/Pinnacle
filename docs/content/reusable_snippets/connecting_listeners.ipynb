{
 "cells": [
  {
   "cell_type": "markdown",
   "id": "b71c8174-d6ed-4199-8319-97b6dc0f5b25",
   "metadata": {},
   "source": [
    "<!-- TABS -->\n",
    "# Connecting listeners"
   ]
  }
 ],
 "metadata": {
  "kernelspec": {
   "display_name": "Python 3 (ipykernel)",
   "language": "python",
   "name": "python3"
  },
  "language_info": {
   "codemirror_mode": {
    "name": "ipython",
    "version": 3
   },
   "file_extension": ".py",
   "mimetype": "text/x-python",
   "name": "python",
   "nbconvert_exporter": "python",
   "pygments_lexer": "ipython3",
   "version": "3.11.7"
  }
 },
 "nbformat": 4,
 "nbformat_minor": 5
}
