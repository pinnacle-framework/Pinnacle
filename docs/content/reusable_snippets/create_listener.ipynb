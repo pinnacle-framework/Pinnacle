{
 "cells": [
  {
   "cell_type": "markdown",
   "metadata": {},
   "source": [
    "<!-- TABS -->\n",
    "# Create Listener"
   ]
  },
  {
   "cell_type": "code",
   "execution_count": null,
   "metadata": {},
   "outputs": [],
   "source": [
    "# <testing: >\n",
    "from pinnacle import pinnacle, Document\n",
    "from pinnacle.backends.mongodb import Collection\n",
    "from pinnacle.ext.numpy import array\n",
    "import numpy as np\n",
    "\n",
    "db = pinnacle('mongomock://temp')\n",
    "select = Collection(\"data\").find()\n",
    "\n",
    "image_array = array(\"float64\", shape=(256, 256, 3))\n",
    "db.add(image_array)\n",
    "\n",
    "datas = []\n",
    "for i in range(10):\n",
    "    data = {\n",
    "        \"key_name\": i,\n",
    "        \"key_name_1\": i*10,\n",
    "        \"key_name_2\": i*100,\n",
    "    }\n",
    "    datas.append(data)\n",
    "\n",
    "db.execute(Collection(\"data\").insert_many([Document(data) for data in datas]))"
   ]
  },
  {
   "cell_type": "code",
   "execution_count": null,
   "metadata": {},
   "outputs": [],
   "source": [
    "# <testing: >\n",
    "from pinnacle import ObjectModel\n",
    "\n",
    "def func1(x):\n",
    "    print(x)\n",
    "    return x\n",
    "\n",
    "model = ObjectModel(identifier=\"key_name\", object=func1)"
   ]
  },
  {
   "cell_type": "markdown",
   "metadata": {},
   "source": [
    "## Two ways to define listener"
   ]
  },
  {
   "cell_type": "code",
   "execution_count": null,
   "metadata": {},
   "outputs": [],
   "source": [
    "# <tab: Listener>\n",
    "from pinnacle import Listener\n",
    "db.apply(\n",
    "    Listener(\n",
    "        key='key_name',\n",
    "        model=model,\n",
    "        select=select,\n",
    "    )\n",
    ")"
   ]
  },
  {
   "cell_type": "code",
   "execution_count": null,
   "metadata": {},
   "outputs": [],
   "source": [
    "# <tab: model.to_linstener>\n",
    "db.apply(model.to_listener(key='key_name', select=select))"
   ]
  },
  {
   "cell_type": "markdown",
   "metadata": {},
   "source": [
    "## Data passed into the model"
   ]
  },
  {
   "cell_type": "code",
   "execution_count": null,
   "metadata": {},
   "outputs": [],
   "source": [
    "# <tab: Single Field>\n",
    "# Model predict function definition: model.predict(x)\n",
    "# Data example in database: {\"key_name\": 10}\n",
    "# Then the listener will call model.predict(10)\n",
    "from pinnacle import Listener\n",
    "db.apply(\n",
    "    Listener(\n",
    "        key='key_name',\n",
    "        model=model,\n",
    "        select=select,\n",
    "    )\n",
    ")"
   ]
  },
  {
   "cell_type": "code",
   "execution_count": null,
   "metadata": {},
   "outputs": [],
   "source": [
    "# <testing: >\n",
    "from pinnacle import ObjectModel\n",
    "\n",
    "def func2(x1, x2):\n",
    "    print(x1, x2)\n",
    "    return x1 + x2\n",
    "\n",
    "model = ObjectModel(identifier=\"key_1_2_args\", object=func2)"
   ]
  },
  {
   "cell_type": "code",
   "execution_count": null,
   "metadata": {},
   "outputs": [],
   "source": [
    "# <tab: Multiple fields(*args)>\n",
    "# Model predict function definition: model.predict(x1, x2)\n",
    "# Data example in database: {\"key_name_1\": 10, \"key_name_2\": 100}\n",
    "# Then the listener will call model.predict(10, 100)\n",
    "from pinnacle import Listener\n",
    "db.apply(\n",
    "    Listener(\n",
    "        key=['key_name_1', 'key_name_2'],\n",
    "        model=model,\n",
    "        select=select,\n",
    "    )\n",
    ")"
   ]
  },
  {
   "cell_type": "code",
   "execution_count": null,
   "metadata": {},
   "outputs": [],
   "source": [
    "# <testing: >\n",
    "from pinnacle import ObjectModel\n",
    "\n",
    "\n",
    "def func3(x1, x2):\n",
    "    print(x1, x2)\n",
    "    return x1 + x2\n",
    "\n",
    "model = ObjectModel(identifier=\"key_1_2_kwargs\", object=func3)"
   ]
  },
  {
   "cell_type": "code",
   "execution_count": null,
   "metadata": {},
   "outputs": [],
   "source": [
    "# <tab: Multiple fields(*kwargs)>\n",
    "# Model predict function definition: model.predict(x1, x2)\n",
    "# Data example in database: {\"key_name_1\": 10, \"key_name_2\": 100}\n",
    "# Then the listener will call model.predict(x1=10, x2=100)\n",
    "from pinnacle import Listener\n",
    "db.apply(\n",
    "    Listener(\n",
    "        key={\"key_name_1\": \"x1\", \"key_name_2\": \"x2\"},\n",
    "        model=model,\n",
    "        select=select,\n",
    "    )\n",
    ")"
   ]
  }
 ],
 "metadata": {
  "kernelspec": {
   "display_name": "Python 3 (ipykernel)",
   "language": "python",
   "name": "python3"
  },
  "language_info": {
   "codemirror_mode": {
    "name": "ipython",
    "version": 3
   },
   "file_extension": ".py",
   "mimetype": "text/x-python",
   "name": "python",
   "nbconvert_exporter": "python",
   "pygments_lexer": "ipython3",
   "version": "3.11.7"
  }
 },
 "nbformat": 4,
 "nbformat_minor": 4
}
