{
 "cells": [
  {
   "cell_type": "markdown",
   "id": "f6a8120f",
   "metadata": {},
   "source": [
    "# How to train a model using SuperDuperDB"
   ]
  }
 ],
 "metadata": {
  "language_info": {
   "name": "python"
  }
 },
 "nbformat": 4,
 "nbformat_minor": 5
}
