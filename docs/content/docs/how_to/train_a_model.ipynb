{
 "cells": [
  {
   "cell_type": "markdown",
   "id": "f6a8120f",
   "metadata": {},
   "source": [
    "# How to train a model using SuperDuperDB\n",
    "\n",
    "Documentation coming soon... Also see [here](/docs/docs/usage/models)\n"
   ]
  }
 ],
 "metadata": {
  "language_info": {
   "name": "python"
  }
 },
 "nbformat": 4,
 "nbformat_minor": 5
}
