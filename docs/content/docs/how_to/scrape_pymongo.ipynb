{
 "cells": [
  {
   "cell_type": "markdown",
   "id": "ae157b6c-12f7-4d89-b40a-d280d7073032",
   "metadata": {},
   "source": [
    "# Scrape data from the inline documentation of a Python package"
   ]
  },
  {
   "cell_type": "markdown",
   "id": "e35a902f-7c83-4dc4-b52e-2eaf045a75d1",
   "metadata": {},
   "source": [
    "Install requirements. [Sphinx](https://sphinx-rtd-tutorial.readthedocs.io/) required to convert doc-strings to Markdown documents, which can then be easily \n",
    "parsed."
   ]
  },
  {
   "cell_type": "code",
   "execution_count": null,
   "id": "a21f3f1d-283e-4e97-b3a5-83aace0c395e",
   "metadata": {},
   "outputs": [],
   "source": [
    "!pip install pinnacledb\n",
    "!pip install sphinx\n",
    "!pip install sphinx-markdown-builder"
   ]
  },
  {
   "cell_type": "markdown",
   "id": "36e6d402-dcbc-4e8c-be61-fef977afa9d8",
   "metadata": {},
   "source": [
    "Convert the `pymongo` inline documentation to markdown files."
   ]
  },
  {
   "cell_type": "code",
   "execution_count": null,
   "id": "b9f30345-1134-4858-b4bc-682258e2d84a",
   "metadata": {},
   "outputs": [],
   "source": [
    "%%bash\n",
    "git clone git@github.com:mongodb/mongo-python-driver.git\n",
    "cd mongo-python-driver\n",
    "echo 'extensions.append(\"sphinx_markdown_builder\")' >> doc/conf.py\n",
    "sphinx-apidoc -f -o source pymongo/\n",
    "mkdir output\n",
    "sphinx-build -a -b markdown doc output"
   ]
  },
  {
   "cell_type": "markdown",
   "id": "11598598-ed22-43d2-9900-8b4c6e23e7b3",
   "metadata": {},
   "source": [
    "Parse those files."
   ]
  },
  {
   "cell_type": "code",
   "execution_count": 1,
   "id": "b6a31c4c-2ad3-4f57-aadb-508aab62d7c3",
   "metadata": {},
   "outputs": [],
   "source": [
    "import os\n",
    "import re\n",
    "\n",
    "PARENT_DIR = './mongo-python-driver/output/api/pymongo'\n",
    "\n",
    "documents = os.listdir(f'{PARENT_DIR}/')\n",
    "data = []\n",
    "\n",
    "for file in documents:\n",
    "    with open(f'{PARENT_DIR}/{file}') as f:\n",
    "        content = f.read()\n",
    "    split = re.split(r'^(#{1,4}) ', content, flags=re.MULTILINE)\n",
    "    split = [(split[2 * i - 1], split[2 * i]) for i in range(1, len(split) // 2)]\n",
    "    last_key = None\n",
    "    for item in split:\n",
    "        type_ = item[0]\n",
    "        content = item[1]\n",
    "        key = content.split('\\n')[0]\n",
    "        key = re.split('[:\\(\\*]', re.sub('\\*[a-z]+\\*', '', key).strip())[0]\n",
    "        value = '\\n'.join(content.split('\\n')[1:])\n",
    "        info = {}\n",
    "        if type_ in {'###', '####'}:\n",
    "            if type_ == '###':\n",
    "                if last_key is None:\n",
    "                    last_key = key\n",
    "                info['key'] = key\n",
    "                info['parent'] = None\n",
    "                last_key = key\n",
    "            elif type_ == '####':\n",
    "                info['parent'] = last_key\n",
    "                info['key'] = key\n",
    "            info['value'] = value[:120]\n",
    "            info['document'] = file\n",
    "            if ' ' in key:\n",
    "                continue\n",
    "            if re.match('^[A-Z]{2,}$', key):\n",
    "                continue\n",
    "            if 'Version' in key:\n",
    "                continue\n",
    "            info['res'] = key\n",
    "            data.append(info)"
   ]
  },
  {
   "cell_type": "markdown",
   "id": "8759f5b2-bae0-493b-9c07-f66d206b94c6",
   "metadata": {},
   "source": [
    "Save the documentation as JSON."
   ]
  },
  {
   "cell_type": "code",
   "execution_count": 2,
   "id": "73ee3ea5-8388-48a0-b2be-3c18cc32e813",
   "metadata": {},
   "outputs": [],
   "source": [
    "import json\n",
    "with open('pymongo.json', 'w') as f:\n",
    "    json.dump(data, f)"
   ]
  }
 ],
 "metadata": {
  "kernelspec": {
   "display_name": "Python 3 (ipykernel)",
   "language": "python",
   "name": "python3"
  },
  "language_info": {
   "codemirror_mode": {
    "name": "ipython",
    "version": 3
   },
   "file_extension": ".py",
   "mimetype": "text/x-python",
   "name": "python",
   "nbconvert_exporter": "python",
   "pygments_lexer": "ipython3",
   "version": "3.8.17"
  }
 },
 "nbformat": 4,
 "nbformat_minor": 5
}
