{
 "cells": [
  {
   "cell_type": "markdown",
   "id": "3838f1da",
   "metadata": {},
   "source": [
    "# Implementing downstream models with SuperDuperDB\n",
    "\n",
    "Coming soon..."
   ]
  }
 ],
 "metadata": {
  "language_info": {
   "name": "python"
  }
 },
 "nbformat": 4,
 "nbformat_minor": 5
}
