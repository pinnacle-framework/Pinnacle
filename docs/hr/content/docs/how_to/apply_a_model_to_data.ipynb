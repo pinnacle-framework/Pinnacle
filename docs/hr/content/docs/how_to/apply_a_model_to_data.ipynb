{
 "cells": [
  {
   "cell_type": "markdown",
   "id": "8f8bf48e",
   "metadata": {},
   "source": [
    "# Applying models directly to the datastore with SuperDuperDB\n",
    "\n",
    "Coming soon..."
   ]
  }
 ],
 "metadata": {
  "language_info": {
   "name": "python"
  }
 },
 "nbformat": 4,
 "nbformat_minor": 5
}
