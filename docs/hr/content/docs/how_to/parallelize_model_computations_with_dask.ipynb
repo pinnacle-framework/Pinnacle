{
 "cells": [
  {
   "cell_type": "markdown",
   "id": "50891727",
   "metadata": {},
   "source": [
    "# Run computations on Dask\n",
    "\n",
    "In this example, we show how to run computations on a Dask cluster, rather than in the same process as \n",
    "data is submitted from. This allows compute to be scaled horizontally, and also submitted to \n",
    "workers, which may utilize specialized hardware, including GPUs."
   ]
  },
  {
   "cell_type": "markdown",
   "id": "bbbd6eee",
   "metadata": {},
   "source": [
    "To do this, we need to override the default configuration. To do this, we only need specify the \n",
    "configurations which diverge from the defaults. In particular, to use a Dask cluster, we specify \n",
    "`CFG.distributed = True`"
   ]
  },
  {
   "cell_type": "code",
   "execution_count": null,
   "id": "e8d5a9ff",
   "metadata": {},
   "outputs": [],
   "source": [
    "!echo '{\"cluster": {\"distributed\": true}}' > configs.json\n",
    "!cat configs.json"
   ]
  },
  {
   "cell_type": "markdown",
   "id": "9d840df3",
   "metadata": {},
   "source": [
    "We can now confirm, by importing the loaded configuration `CFG`, that `CFG.distribute == True`:"
   ]
  },
  {
   "cell_type": "code",
   "execution_count": null,
   "id": "34229af6",
   "metadata": {},
   "outputs": [],
   "source": [
    "from pinnacledb import CFG\n",
    "\n",
    "import pprint\n",
    "pprint.pprint(CFG.dict())"
   ]
  },
  {
   "cell_type": "markdown",
   "id": "d69847fe",
   "metadata": {},
   "source": [
    "Now that we've set up the environment to use a Dask cluster, we can add some data to the `Datalayer`."
   ]
  },
  {
   "cell_type": "code",
   "execution_count": null,
   "id": "9d334809",
   "metadata": {},
   "outputs": [],
   "source": [
    "from pinnacledb.db.base.build import build_datalayer\n",
    "\n",
    "db = build_datalayer()"
   ]
  },
  {
   "cell_type": "code",
   "execution_count": null,
   "id": "0b3ae27c",
   "metadata": {},
   "outputs": [],
   "source": [
    "db.db.client.drop_database('test_db')\n",
    "db.db.client.drop_database('_filesystem:test_db')"
   ]
  },
  {
   "cell_type": "markdown",
   "id": "9d364e04",
   "metadata": {},
   "source": [
    "As in the previous tutorials, we can wrap models from a range of AI frameworks to interoperate with the data set, \n",
    "as well as inserting data with, for instances, tensors of a specific data type:"
   ]
  },
  {
   "cell_type": "code",
   "execution_count": null,
   "id": "71a538ce",
   "metadata": {},
   "outputs": [],
   "source": [
    "import pymongo\n",
    "import torch\n",
    "\n",
    "from pinnacledb import pinnacle\n",
    "from pinnacledb.container.document import Document as D\n",
    "from pinnacledb.ext.torch.tensor import tensor\n",
    "from pinnacledb.db.mongodb.query import Collection\n",
    "\n",
    "m = pinnacle(\n",
    "    torch.nn.Linear(128, 7),\n",
    "    encoder=tensor(torch.float, shape=(7,))\n",
    ")\n",
    "\n",
    "t32 = tensor(torch.float, shape=(128,))\n",
    "\n",
    "output = db.execute(\n",
    "    Collection('localcluster').insert_many(\n",
    "        [D({'x': t32(torch.randn(128))}) for _ in range(1000)], \n",
    "        encoders=(t32,)\n",
    "    )\n",
    ")"
   ]
  },
  {
   "cell_type": "markdown",
   "id": "b2488d20",
   "metadata": {},
   "source": [
    "Now when we instruct the model to make predictions based on the `Datalayer`, the computations run on the Dask cluster. The `.predict` method returns a `Job` instance, which can be used to monitor the progress of the computation:"
   ]
  },
  {
   "cell_type": "code",
   "execution_count": null,
   "id": "a653d0bb",
   "metadata": {},
   "outputs": [],
   "source": [
    "job = m.predict(\n",
    "    X='x',\n",
    "    db=db,\n",
    "    select=Collection('localcluster').find(),\n",
    ")\n",
    "\n",
    "job.watch()"
   ]
  },
  {
   "cell_type": "markdown",
   "id": "050c0252",
   "metadata": {},
   "source": [
    "To check that the `Datalayer` has been populated with outputs, we can check the `\"_outputs\"` field of a record:"
   ]
  },
  {
   "cell_type": "code",
   "execution_count": null,
   "id": "0d111789",
   "metadata": {},
   "outputs": [],
   "source": [
    "db.execute(Collection('localcluster').find_one()).unpack()"
   ]
  }
 ],
 "metadata": {
  "kernelspec": {
   "display_name": "Python 3 (ipykernel)",
   "language": "python",
   "name": "python3"
  },
  "language_info": {
   "codemirror_mode": {
    "name": "ipython",
    "version": 3
   },
   "file_extension": ".py",
   "mimetype": "text/x-python",
   "name": "python",
   "nbconvert_exporter": "python",
   "pygments_lexer": "ipython3",
   "version": "3.11.3"
  }
 },
 "nbformat": 4,
 "nbformat_minor": 5
}
