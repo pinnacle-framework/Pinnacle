{
 "cells": [
  {
   "cell_type": "markdown",
   "id": "032c2e7b-3f54-4263-b778-0fef60596efb",
   "metadata": {},
   "source": [
    "<!-- TABS -->\n",
    "# Get useful sample data"
   ]
  },
  {
   "cell_type": "code",
   "execution_count": null,
   "id": "854358f9-a2f4-4a53-818f-f03819d5fb03",
   "metadata": {},
   "outputs": [],
   "source": [
    "from pinnacledb.backends.ibis import dtype\n"
   ]
  },
  {
   "cell_type": "code",
   "execution_count": null,
   "id": "4e7902bd",
   "metadata": {},
   "outputs": [],
   "source": [
    "# <tab: Text>\n",
    "!curl -O https://pinnacledb-public-demo.s3.amazonaws.com/text.json\n",
    "import json\n",
    "\n",
    "with open(\"text.json\", \"r\") as f:\n",
    "    data = json.load(f)\n",
    "sample_datapoint = data[0]\n",
    "\n",
    "chunked_model_datatype = dtype('str')"
   ]
  },
  {
   "cell_type": "code",
   "execution_count": null,
   "id": "33486ec7-0316-4e0c-a409-c09ab4c16669",
   "metadata": {},
   "outputs": [],
   "source": [
    "# <tab: PDF>\n",
    "!curl -O https://pinnacledb-public-demo.s3.amazonaws.com/pdfs.zip && unzip -o pdfs.zip\n",
    "import os\n",
    "\n",
    "data = [f'pdfs/{x}' for x in os.listdir('./pdfs')]\n",
    "\n",
    "sample_datapoint = data[-1]\n",
    "chunked_model_datatype = dtype('str')"
   ]
  },
  {
   "cell_type": "code",
   "execution_count": null,
   "id": "0828031a",
   "metadata": {},
   "outputs": [],
   "source": [
    "# <tab: Image>\n",
    "!curl -O https://pinnacledb-public-demo.s3.amazonaws.com/images.zip && unzip images.zip\n",
    "import json\n",
    "from PIL import Image\n",
    "\n",
    "with open('images/images.json', 'r') as f:\n",
    "    data = json.load(f)\n",
    "\n",
    "data = [{'x': Image.open(d['image_path']), 'y': d['label']} for d in data]\n",
    "sample_datapoint = data[-1]\n",
    "\n",
    "from pinnacledb.ext.pillow import pil_image\n",
    "chunked_model_datatype = pil_image"
   ]
  },
  {
   "cell_type": "code",
   "execution_count": null,
   "id": "1b6f7ccb",
   "metadata": {},
   "outputs": [],
   "source": [
    "# <tab: Video>\n",
    "!curl -O https://pinnacledb-public-demo.s3.amazonaws.com/videos.zip && unzip videos.zip\n",
    "import os\n",
    "\n",
    "data = [f'videos/{x}' for x in os.listdir('./videos')]\n",
    "sample_datapoint = data[-1]\n",
    "\n",
    "from pinnacledb.ext.pillow import pil_image\n",
    "chunked_model_datatype = pil_image"
   ]
  },
  {
   "cell_type": "code",
   "execution_count": null,
   "id": "8abcadac",
   "metadata": {},
   "outputs": [],
   "source": [
    "# <tab: Audio>\n",
    "!curl -O https://pinnacledb-public-demo.s3.amazonaws.com/audio.zip && unzip audio.zip\n",
    "import os\n",
    "\n",
    "data = [f'audios/{x}' for x in os.listdir('./audios')]\n",
    "sample_datapoint = data[-1]\n",
    "chunked_model_datatype = dtype('str')"
   ]
  }
 ],
 "metadata": {
  "kernelspec": {
   "display_name": "Python 3 (ipykernel)",
   "language": "python",
   "name": "python3"
  },
  "language_info": {
   "codemirror_mode": {
    "name": "ipython",
    "version": 3
   },
   "file_extension": ".py",
   "mimetype": "text/x-python",
   "name": "python",
   "nbconvert_exporter": "python",
   "pygments_lexer": "ipython3",
   "version": "3.11.7"
  }
 },
 "nbformat": 4,
 "nbformat_minor": 5
}
