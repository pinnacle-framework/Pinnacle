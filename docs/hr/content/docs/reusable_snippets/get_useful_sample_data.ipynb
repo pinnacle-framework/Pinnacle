{
 "cells": [
  {
   "cell_type": "markdown",
   "id": "032c2e7b-3f54-4263-b778-0fef60596efb",
   "metadata": {},
   "source": [
    "<!-- TABS -->\n",
    "# Get useful sample data"
   ]
  },
  {
   "cell_type": "code",
   "execution_count": null,
   "id": "4e7902bd",
   "metadata": {},
   "outputs": [],
   "source": [
    "# <tab: Text>\n",
    "!curl -O https://pinnacledb-public-demo.s3.amazonaws.com/text.json\n",
    "import json\n",
    "\n",
    "with open('text.json', 'r') as f:\n",
    "    data = json.load(f)"
   ]
  },
  {
   "cell_type": "code",
   "execution_count": null,
   "id": "33486ec7-0316-4e0c-a409-c09ab4c16669",
   "metadata": {},
   "outputs": [],
   "source": [
    "# <tab: PDF>\n",
    "!curl -O https://pinnacledb-public-demo.s3.amazonaws.com/pdfs.zip && unzip pdfs.zip\n",
    "import os\n",
    "\n",
    "data = [f'pdfs/{x}' for x in os.listdir('./pdfs')]\n",
    "data"
   ]
  },
  {
   "cell_type": "code",
   "execution_count": null,
   "id": "0828031a",
   "metadata": {},
   "outputs": [],
   "source": [
    "# <tab: Image>\n",
    "!curl -O s3://pinnacledb-public-demo/images.zip && unzip images.zip\n",
    "import os\n",
    "\n",
    "data = [f'images/{x}' for x in os.listdir('./images')]"
   ]
  },
  {
   "cell_type": "code",
   "execution_count": null,
   "id": "1b6f7ccb",
   "metadata": {},
   "outputs": [],
   "source": [
    "# <tab: Video>\n",
    "!curl -O s3://pinnacledb-public-demo/videos.zip && unzip videos.zip\n",
    "import os\n",
    "\n",
    "data = [f'videos/{x}' for x in os.listdir('./videos')]"
   ]
  },
  {
   "cell_type": "code",
   "execution_count": null,
   "id": "8abcadac",
   "metadata": {},
   "outputs": [],
   "source": [
    "# <tab: Audio>\n",
    "!curl -O s3://pinnacledb-public-demo/audio.zip && unzip audio.zip\n",
    "import os\n",
    "\n",
    "data = [f'audios/{x}' for x in os.listdir('./audios')]"
   ]
  }
 ],
 "metadata": {
  "kernelspec": {
   "display_name": "Python 3 (ipykernel)",
   "language": "python",
   "name": "python3"
  },
  "language_info": {
   "codemirror_mode": {
    "name": "ipython",
    "version": 3
   },
   "file_extension": ".py",
   "mimetype": "text/x-python",
   "name": "python",
   "nbconvert_exporter": "python",
   "pygments_lexer": "ipython3",
   "version": "3.11.7"
  }
 },
 "nbformat": 4,
 "nbformat_minor": 5
}
