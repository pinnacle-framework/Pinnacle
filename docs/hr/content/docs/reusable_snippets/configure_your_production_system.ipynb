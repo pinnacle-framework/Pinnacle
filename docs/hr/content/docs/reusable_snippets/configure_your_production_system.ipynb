{
 "cells": [
  {
   "cell_type": "markdown",
   "id": "f7a4aab8-86eb-4e1c-9200-0a16ba75b2e6",
   "metadata": {},
   "source": [
    "<!-- TABS -->\n",
    "# Configure your production system"
   ]
  },
  {
   "cell_type": "markdown",
   "id": "81e7cd59-67d0-4776-aea1-4864aa768f95",
   "metadata": {},
   "source": [
    ":::note\n",
    "If you would like to use the production features \n",
    "of SuperDuperDB, then you should set the relevant \n",
    "connections and configurations in a configuration \n",
    "file. Otherwise you are welcome to use \"development\" mode \n",
    "to get going with SuperDuperDB quickly.\n",
    ":::"
   ]
  },
  {
   "cell_type": "code",
   "execution_count": null,
   "id": "62014646-ccd4-4d10-ac26-1c470f88f2f2",
   "metadata": {},
   "outputs": [],
   "source": [
    "import os\n",
    "\n",
    "os.mkdirs('.pinnacledb', exist_ok=True)\n",
    "os.environ['pinnacleDB_CONFIG_FILE'] = '.pinnacledb/config.yaml'"
   ]
  },
  {
   "cell_type": "code",
   "execution_count": null,
   "id": "8e50edd2-438d-44ab-9da0-0b72197df262",
   "metadata": {},
   "outputs": [],
   "source": [
    "# <tab: MongoDB Community>\n",
    "CFG = '''\n",
    "artifact_store: filesystem://<path-to-artifact-store>\n",
    "cluster: \n",
    "    compute: ray://<ray-host>\n",
    "    cdc:    \n",
    "        uri: http://<cdc-host>:<cdc-port>\n",
    "    vector_search:\n",
    "        uri: http://<vector-search-host>:<vector-search-port>\n",
    "        type: lance\n",
    "databackend: mongodb://<mongo-host>:27017/documents\n",
    "'''"
   ]
  },
  {
   "cell_type": "code",
   "execution_count": null,
   "id": "1ad9ee67-6402-45ea-8311-3efb039b5df3",
   "metadata": {},
   "outputs": [],
   "source": [
    "# <tab: MongoDB Atlas>\n",
    "CFG = '''\n",
    "artifact_store: filesystem://<path-to-artifact-store>\n",
    "cluster: \n",
    "    compute: ray://<ray-host>\n",
    "    cdc:    \n",
    "        uri: http://<cdc-host>:<cdc-port>\n",
    "    vector_search:\n",
    "        uri: http://<vector-search-host>:<vector-search-port>\n",
    "        type: native\n",
    "databackend: mongodb+srv://<user>:<password>@<mongo-host>:27017/documents\n",
    "'''"
   ]
  },
  {
   "cell_type": "code",
   "execution_count": null,
   "id": "9c9e8351-b17f-4882-bda6-5ad51dbc7e1f",
   "metadata": {},
   "outputs": [],
   "source": [
    "# <tab: SQLite>\n",
    "CFG = '''\n",
    "artifact_store: filesystem://<path-to-artifact-store>\n",
    "cluster: \n",
    "    compute: ray://<ray-host>\n",
    "    cdc:    \n",
    "        uri: http://<cdc-host>:<cdc-port>\n",
    "    vector_search:\n",
    "        uri: http://<vector-search-host>:<vector-search-port>\n",
    "databackend: sqlite://<path-to-db>.db\n",
    "'''"
   ]
  },
  {
   "cell_type": "code",
   "execution_count": null,
   "id": "d16c66bb-6ff2-4cea-b11c-0a65bf86c7ad",
   "metadata": {},
   "outputs": [],
   "source": [
    "# <tab: MySQL>\n",
    "CFG = '''\n",
    "artifact_store: filesystem://<path-to-artifact-store>\n",
    "cluster: \n",
    "    compute: ray://<ray-host>\n",
    "    cdc:    \n",
    "        uri: http://<cdc-host>:<cdc-port>\n",
    "    vector_search:\n",
    "        uri: http://<vector-search-host>:<vector-search-port>\n",
    "databackend: mysql://<user>:<password>@<host>:<port>/database\n",
    "'''"
   ]
  },
  {
   "cell_type": "code",
   "execution_count": null,
   "id": "9b7ac715-712c-4ec7-be90-0aaa22518977",
   "metadata": {},
   "outputs": [],
   "source": [
    "# <tab: Oracle>\n",
    "CFG = '''\n",
    "artifact_store: filesystem://<path-to-artifact-store>\n",
    "cluster: \n",
    "    compute: ray://<ray-host>\n",
    "    cdc:    \n",
    "        uri: http://<cdc-host>:<cdc-port>\n",
    "    vector_search:\n",
    "        uri: http://<vector-search-host>:<vector-search-port>\n",
    "databackend: mssql://<user>:<password>@<host>:<port>\n",
    "'''"
   ]
  },
  {
   "cell_type": "code",
   "execution_count": null,
   "id": "f21fad9c-cc0e-4cf5-83f0-41a3a614c6af",
   "metadata": {},
   "outputs": [],
   "source": [
    "# <tab: PostgreSQL>\n",
    "CFG = '''\n",
    "artifact_store: filesystem://<path-to-artifact-store>\n",
    "cluster: \n",
    "    compute: ray://<ray-host>\n",
    "    cdc:    \n",
    "        uri: http://<cdc-host>:<cdc-port>\n",
    "    vector_search:\n",
    "        uri: http://<vector-search-host>:<vector-search-port>\n",
    "databackend: postgres://<user>:<password>@<host>:<port</<database>\n",
    "'''"
   ]
  },
  {
   "cell_type": "code",
   "execution_count": null,
   "id": "1badb5a3-823c-4463-ab79-6f4f9239dabe",
   "metadata": {},
   "outputs": [],
   "source": [
    "# <tab: Snowflake>\n",
    "CFG = '''\n",
    "artifact_store: filesystem://<path-to-artifact-store>\n",
    "metadata_store: sqlite://<path-to-sqlite-db>.db\n",
    "cluster: \n",
    "    compute: ray://<ray-host>\n",
    "    cdc:    \n",
    "        uri: http://<cdc-host>:<cdc-port>\n",
    "    vector_search:\n",
    "        uri: http://<vector-search-host>:<vector-search-port>\n",
    "databackend: snowflake://<user>:<password>@<account>/<database>\n",
    "'''"
   ]
  },
  {
   "cell_type": "code",
   "execution_count": null,
   "id": "ae7807d9-9fc1-4c18-8027-a512f827783d",
   "metadata": {},
   "outputs": [],
   "source": [
    "# <tab: Clickhouse>\n",
    "CFG = '''\n",
    "artifact_store: filesystem://<path-to-artifact-store>\n",
    "metadata_store: sqlite://<path-to-sqlite-db>.db\n",
    "cluster: \n",
    "    compute: ray://<ray-host>\n",
    "    cdc:    \n",
    "        uri: http://<cdc-host>:<cdc-port>\n",
    "    vector_search:\n",
    "        uri: http://<vector-search-host>:<vector-search-port>\n",
    "databackend: clickhouse://<user>:<password>@<host>:<port>\n",
    "'''"
   ]
  },
  {
   "cell_type": "code",
   "execution_count": null,
   "id": "fc40c13b-9bc5-47ac-86d6-ef7a379c45ee",
   "metadata": {},
   "outputs": [],
   "source": [
    "with open(os.environ['pinnacleDB_CONFIG_FILE'], 'w') as f:\n",
    "    f.write(CFG)"
   ]
  }
 ],
 "metadata": {
  "kernelspec": {
   "display_name": "Python 3 (ipykernel)",
   "language": "python",
   "name": "python3"
  },
  "language_info": {
   "codemirror_mode": {
    "name": "ipython",
    "version": 3
   },
   "file_extension": ".py",
   "mimetype": "text/x-python",
   "name": "python",
   "nbconvert_exporter": "python",
   "pygments_lexer": "ipython3",
   "version": "3.11.7"
  }
 },
 "nbformat": 4,
 "nbformat_minor": 5
}
