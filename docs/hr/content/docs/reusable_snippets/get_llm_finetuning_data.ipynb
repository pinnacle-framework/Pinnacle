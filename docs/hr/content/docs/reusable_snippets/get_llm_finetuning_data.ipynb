{
 "cells": [
  {
   "cell_type": "markdown",
   "id": "032c2e7b-3f54-4263-b778-0fef60596efb",
   "metadata": {},
   "source": [
    "<!-- TABS -->\n",
    "# Get LLM Finetuning Data"
   ]
  },
  {
   "cell_type": "markdown",
   "id": "33f5169e-ab2f-4eac-bd3f-30fd845f2a1b",
   "metadata": {},
   "source": [
    "The following are examples of training data in different formats."
   ]
  },
  {
   "cell_type": "code",
   "execution_count": null,
   "id": "9b37c7dc-390a-428b-916a-09d191678cbc",
   "metadata": {},
   "outputs": [],
   "source": [
    "# <tab: Text>\n",
    "from datasets import load_dataset\n",
    "from pinnacledb.base.document import Document\n",
    "dataset_name = \"timdettmers/openassistant-guanaco\"\n",
    "dataset = load_dataset(dataset_name)\n",
    "\n",
    "train_dataset = dataset[\"train\"]\n",
    "eval_dataset = dataset[\"test\"]\n",
    "\n",
    "train_documents = [\n",
    "    Document({**example, \"_fold\": \"train\"})\n",
    "    for example in train_dataset\n",
    "][:500]\n",
    "eval_documents = [\n",
    "    Document({**example, \"_fold\": \"valid\"})\n",
    "    for example in eval_dataset\n",
    "][:10]\n",
    "\n",
    "datas = train_documents + eval_documents"
   ]
  },
  {
   "cell_type": "code",
   "execution_count": null,
   "id": "4e7902bd",
   "metadata": {},
   "outputs": [],
   "source": [
    "# <tab: Prompt-Response>\n",
    "from datasets import load_dataset\n",
    "from pinnacledb.base.document import Document\n",
    "dataset_name = \"mosaicml/instruct-v3\"\n",
    "dataset = load_dataset(dataset_name)\n",
    "\n",
    "train_dataset = dataset[\"train\"]\n",
    "eval_dataset = dataset[\"test\"]\n",
    "\n",
    "train_documents = [\n",
    "    Document({**example, \"_fold\": \"train\"})\n",
    "    for example in train_dataset\n",
    "]\n",
    "eval_documents = [\n",
    "    Document({**example, \"_fold\": \"valid\"})\n",
    "    for example in eval_dataset\n",
    "]\n",
    "\n",
    "datas = train_documents + eval_documents"
   ]
  },
  {
   "cell_type": "code",
   "execution_count": null,
   "id": "a9c05195-3372-48c2-95c8-5ef51d65bcfe",
   "metadata": {},
   "outputs": [],
   "source": [
    "# <tab: Chat>\n",
    "from datasets import load_dataset\n",
    "from pinnacledb.base.document import Document\n",
    "dataset_name = \"philschmid/dolly-15k-oai-style\"\n",
    "dataset = load_dataset(dataset_name)['train'].train_test_split(0.9)\n",
    "\n",
    "train_dataset = dataset[\"train\"]\n",
    "eval_dataset = dataset[\"test\"]\n",
    "\n",
    "train_documents = [\n",
    "    Document({**example, \"_fold\": \"train\"})\n",
    "    for example in train_dataset\n",
    "]\n",
    "eval_documents = [\n",
    "    Document({**example, \"_fold\": \"valid\"})\n",
    "    for example in eval_dataset\n",
    "]\n",
    "\n",
    "datas = train_documents + eval_documents"
   ]
  },
  {
   "cell_type": "markdown",
   "id": "361a4705-e7d6-4244-9150-bfa8372f85ba",
   "metadata": {},
   "source": [
    "We can define different training parameters to handle this type of data."
   ]
  },
  {
   "cell_type": "code",
   "execution_count": null,
   "id": "c824212e-0c4f-4b93-b3fa-4d2a105fc655",
   "metadata": {},
   "outputs": [],
   "source": [
    "# <tab: Text>\n",
    "# Function for transformation after extracting data from the database\n",
    "transform = None\n",
    "key = ('text')\n",
    "training_kwargs=dict(dataset_text_field=\"text\")"
   ]
  },
  {
   "cell_type": "code",
   "execution_count": null,
   "id": "1c2d583a-a0f3-432d-b737-356ab3cd4378",
   "metadata": {},
   "outputs": [],
   "source": [
    "# <tab: Prompt-Response>\n",
    "# Function for transformation after extracting data from the database\n",
    "def transform(prompt, response):\n",
    "    return {'text': prompt + response + \"</s>\"}\n",
    "\n",
    "key = ('prompt', 'response')\n",
    "training_kwargs=dict(dataset_text_field=\"text\")"
   ]
  },
  {
   "cell_type": "code",
   "execution_count": null,
   "id": "225cdb09-d060-4d45-bcf3-cae92fb22ee8",
   "metadata": {},
   "outputs": [],
   "source": [
    "# <tab: Chat>\n",
    "# Function for transformation after extracting data from the database\n",
    "transform = None\n",
    "\n",
    "key = ('messages')\n",
    "training_kwargs=None"
   ]
  },
  {
   "cell_type": "markdown",
   "id": "ca7a1ec0-bf28-4b59-8be1-e7bcfd4eeccc",
   "metadata": {},
   "source": [
    "Example input_text and output_text"
   ]
  },
  {
   "cell_type": "code",
   "execution_count": null,
   "id": "7eb8c36c-97f8-40f4-8b8d-736d55352138",
   "metadata": {},
   "outputs": [],
   "source": [
    "# <tab: Text>\n",
    "data = datas[0]\n",
    "input_data, output_text = data[\"text\"].rsplit(\"### Assistant: \", maxsplit=1)\n",
    "input_text += \"### Assistant: \"\n",
    "output_text = output_text.rsplit(\"### Human:\")[0]\n",
    "print(\"Input: --------------\")\n",
    "print(input_text)\n",
    "print(\"Response: --------------\")\n",
    "print(output_text)"
   ]
  },
  {
   "cell_type": "code",
   "execution_count": null,
   "id": "6dbef4a4-478d-43f1-8f40-b3b1e5923639",
   "metadata": {},
   "outputs": [],
   "source": [
    "# <tab: Prompt-Response>\n",
    "data = datas[0]\n",
    "input_text = data[\"prompt\"]\n",
    "output_text = data[\"response\"]\n",
    "print(\"Input: --------------\")\n",
    "print(input_text)\n",
    "print(\"Response: --------------\")\n",
    "print(output_text)"
   ]
  },
  {
   "cell_type": "code",
   "execution_count": null,
   "id": "983e8612-9c58-4688-a3af-8c408f9b3063",
   "metadata": {},
   "outputs": [],
   "source": [
    "# <tab: Chat>\n",
    "data = datas[0]\n",
    "messages = data[\"messages\"]\n",
    "input_text = messages[:-1]\n",
    "output_text = messages[-1][\"content\"]\n",
    "print(\"Input: --------------\")\n",
    "print(input_text)\n",
    "print(\"Response: --------------\")\n",
    "print(output_text)"
   ]
  }
 ],
 "metadata": {
  "kernelspec": {
   "display_name": "Python 3 (ipykernel)",
   "language": "python",
   "name": "python3"
  },
  "language_info": {
   "codemirror_mode": {
    "name": "ipython",
    "version": 3
   },
   "file_extension": ".py",
   "mimetype": "text/x-python",
   "name": "python",
   "nbconvert_exporter": "python",
   "pygments_lexer": "ipython3",
   "version": "3.10.7"
  }
 },
 "nbformat": 4,
 "nbformat_minor": 5
}
