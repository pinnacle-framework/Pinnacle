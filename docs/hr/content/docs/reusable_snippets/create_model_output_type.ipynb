{
 "cells": [
  {
   "cell_type": "markdown",
   "id": "c7d5b340-513b-4320-9380-8026c4dda130",
   "metadata": {},
   "source": [
    "<!-- TABS -->\n",
    "# Create Model Output Type"
   ]
  },
  {
   "cell_type": "code",
   "execution_count": null,
   "id": "0f4e81b7-43e6-4028-8749-8d6798f1a27f",
   "metadata": {},
   "outputs": [],
   "source": [
    "# <tab: MongoDB>\n",
    "model_output_dtype = None"
   ]
  },
  {
   "cell_type": "code",
   "execution_count": 2,
   "id": "4ea74c7b-1666-4010-9124-3aee1a3b9961",
   "metadata": {},
   "outputs": [],
   "source": [
    "# <tab: SQL>\n",
    "from pinnacledb.backends.ibis.field_types import dtype\n",
    "model_output_dtype = dtype('str')"
   ]
  }
 ],
 "metadata": {
  "kernelspec": {
   "display_name": "Python 3 (ipykernel)",
   "language": "python",
   "name": "python3"
  },
  "language_info": {
   "codemirror_mode": {
    "name": "ipython",
    "version": 3
   },
   "file_extension": ".py",
   "mimetype": "text/x-python",
   "name": "python",
   "nbconvert_exporter": "python",
   "pygments_lexer": "ipython3",
   "version": "3.10.7"
  }
 },
 "nbformat": 4,
 "nbformat_minor": 5
}
