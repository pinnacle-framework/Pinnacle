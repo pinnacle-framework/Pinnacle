{
 "cells": [
  {
   "cell_type": "markdown",
   "metadata": {},
   "source": [
    "<!-- TABS -->\n",
    "# Setup simple tables or collections"
   ]
  },
  {
   "cell_type": "code",
   "execution_count": null,
   "metadata": {},
   "outputs": [],
   "source": [
    "# <tab: MongoDB>\n",
    "# If our data is in a format natively supported by MongoDB, we don't need to do anything.\n",
    "from pinnacledb.backends.mongodb import Collection\n",
    "\n",
    "table_or_collection = Collection('documents')\n",
    "select = table_or_collection.find({})"
   ]
  },
  {
   "cell_type": "code",
   "execution_count": null,
   "metadata": {},
   "outputs": [],
   "source": [
    "# <tab: SQL>\n",
    "from pinnacledb.backends.ibis import Table\n",
    "from pinnacledb import Schema, DataType\n",
    "from pinnacledb.backends.ibis.field_types import dtype\n",
    "\n",
    "for index, data in enumerate(datas):\n",
    "    data[\"id\"] = str(index) \n",
    "\n",
    "fields = {}\n",
    "\n",
    "for key, value in data.items():\n",
    "    fields[key] = dtype(type(value))\n",
    "\n",
    "schema = Schema(identifier=\"schema\", fields=fields)\n",
    "\n",
    "table_or_collection = Table('documents', schema=schema)\n",
    "\n",
    "db.apply(table_or_collection)\n",
    "\n",
    "select = table_or_collection.select(\"id\", \"prompt\", \"response\")"
   ]
  }
 ],
 "metadata": {
  "kernelspec": {
   "display_name": "Python 3 (ipykernel)",
   "language": "python",
   "name": "python3"
  },
  "language_info": {
   "codemirror_mode": {
    "name": "ipython",
    "version": 3
   },
   "file_extension": ".py",
   "mimetype": "text/x-python",
   "name": "python",
   "nbconvert_exporter": "python",
   "pygments_lexer": "ipython3",
   "version": "3.10.7"
  }
 },
 "nbformat": 4,
 "nbformat_minor": 4
}
