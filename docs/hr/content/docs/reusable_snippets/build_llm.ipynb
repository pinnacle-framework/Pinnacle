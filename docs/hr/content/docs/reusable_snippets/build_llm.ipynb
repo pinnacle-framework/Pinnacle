{
 "cells": [
  {
   "cell_type": "markdown",
   "id": "1179a67b-4e40-496b-9851-98f32d42faa0",
   "metadata": {},
   "source": [
    "<!-- TABS -->\n",
    "# Build LLM"
   ]
  },
  {
   "cell_type": "code",
   "execution_count": null,
   "id": "f98e5ff4",
   "metadata": {},
   "outputs": [],
   "source": [
    "# <tab: OpenAI>\n",
    "%pip install openai\n",
    "\n",
    "from pinnacledb.ext.openai import OpenAIChatCompletion\n",
    "\n",
    "llm = OpenAIChatCompletion(identifier='llm', model='gpt-3.5-turbo')"
   ]
  },
  {
   "cell_type": "code",
   "execution_count": null,
   "id": "9bf39c47",
   "metadata": {},
   "outputs": [],
   "source": [
    "# <tab: Anthropic>\n",
    "%pip install anthropic\n",
    "\n",
    "from pinnacledb.ext.anthropic import AnthropicCompletions\n",
    "llm = AnthropicCompletions(identifier='llm', model='claude-2')"
   ]
  },
  {
   "cell_type": "code",
   "execution_count": null,
   "id": "95e48deb",
   "metadata": {},
   "outputs": [],
   "source": [
    "# <tab: vLLM>\n",
    "%pip install vllm\n",
    "\n",
    "from pinnacledb.ext.vllm import VllmModel\n",
    "\n",
    "predict_kwargs = {\n",
    "    \"max_tokens\": 1024,\n",
    "    \"temperature\": 0.8,\n",
    "}\n",
    "\n",
    "\n",
    "llm = VllmModel(\n",
    "    identifier=\"llm\",\n",
    "    model_name=\"TheBloke/Mistral-7B-Instruct-v0.2-AWQ\",\n",
    "    vllm_kwargs={\n",
    "        \"gpu_memory_utilization\": 0.7,\n",
    "        \"max_model_len\": 10240,\n",
    "        \"quantization\": \"awq\",\n",
    "    },\n",
    "    predict_kwargs=predict_kwargs,\n",
    ")\n"
   ]
  },
  {
   "cell_type": "code",
   "execution_count": null,
   "id": "fe4ac344",
   "metadata": {},
   "outputs": [],
   "source": [
    "# <tab: Transformers>\n",
    "%pip install transformers datasets torch\n",
    "\n",
    "from pinnacledb.ext.transformers import LLM\n",
    "\n",
    "llm = LLM.from_pretrained(\"facebook/opt-125m\", identifier=\"llm\")"
   ]
  },
  {
   "cell_type": "code",
   "execution_count": null,
   "id": "1fdbfae2-af7d-4845-bce5-0cb230e3614e",
   "metadata": {},
   "outputs": [],
   "source": [
    "# <tab: Llama.cpp>\n",
    "%pip install llama-cpp-python\n",
    "\n",
    "# !huggingface-cli download Qwen/Qwen1.5-0.5B-Chat-GGUF qwen1_5-0_5b-chat-q8_0.gguf --local-dir . --local-dir-use-symlinks False\n",
    "\n",
    "from pinnacledb.ext.llamacpp.model import LlamaCpp\n",
    "llm = LlamaCpp(identifier=\"llm\", model_name_or_path=\"./qwen1_5-0_5b-chat-q8_0.gguf\")"
   ]
  },
  {
   "cell_type": "markdown",
   "id": "eb99c178-dbb9-42bf-85e8-a0ddbe740143",
   "metadata": {},
   "source": [
    "## Using LLM for text generation"
   ]
  },
  {
   "cell_type": "code",
   "execution_count": null,
   "id": "3778ab16",
   "metadata": {},
   "outputs": [],
   "source": [
    "llm.predict_one('Tell me about the SuperDuperDB', temperature=0.7)"
   ]
  },
  {
   "cell_type": "markdown",
   "id": "7a2715b3-1dbf-47ae-b959-8e4395d19cce",
   "metadata": {},
   "source": [
    "## Use in combination with Prompt"
   ]
  },
  {
   "cell_type": "code",
   "execution_count": null,
   "id": "c28fdaf6",
   "metadata": {},
   "outputs": [],
   "source": [
    "from pinnacledb.components.model import SequentialModel, Model\n",
    "\n",
    "prompt_model = Model(\n",
    "    identifier=\"prompt\", object=lambda text: f\"The German version of sentence '{text}' is: \"\n",
    ")\n",
    "\n",
    "model = SequentialModel(identifier=\"The translator\", predictors=[prompt_model, llm])\n"
   ]
  },
  {
   "cell_type": "code",
   "execution_count": null,
   "id": "ee8fe44f-ea37-4044-9143-6969f9af4773",
   "metadata": {},
   "outputs": [],
   "source": [
    "model.predict_one('Tell me about SuperDuperDB')"
   ]
  }
 ],
 "metadata": {
  "kernelspec": {
   "display_name": "Python 3 (ipykernel)",
   "language": "python",
   "name": "python3"
  },
  "language_info": {
   "codemirror_mode": {
    "name": "ipython",
    "version": 3
   },
   "file_extension": ".py",
   "mimetype": "text/x-python",
   "name": "python",
   "nbconvert_exporter": "python",
   "pygments_lexer": "ipython3",
   "version": "3.10.7"
  }
 },
 "nbformat": 4,
 "nbformat_minor": 5
}
