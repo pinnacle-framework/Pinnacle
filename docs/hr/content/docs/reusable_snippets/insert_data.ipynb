{
 "cells": [
  {
   "cell_type": "markdown",
   "metadata": {},
   "source": [
    "<!-- TABS -->\n",
    "# Insert data\n",
    "\n",
    "In order to create data, we need to create a `Schema` for encoding our special `Datatype` column(s) in the databackend."
   ]
  },
  {
   "cell_type": "code",
   "execution_count": null,
   "metadata": {},
   "outputs": [],
   "source": [
    "# <tab: MongoDB>\n",
    "from pinnacledb import Document, DataType\n",
    "\n",
    "def do_insert(data, schema = None):\n",
    "    \n",
    "    if schema is None and (datatype is None or isinstance(datatype, str)):\n",
    "        data = [Document({'x': x['x'], 'y': x['y']}) if isinstance(x, dict) and 'x' in x and 'y' in x else Document({'x': x}) for x in data]\n",
    "        db.execute(table_or_collection.insert_many(data))\n",
    "    elif schema is None and datatype is not None and isinstance(datatype, DataType):\n",
    "        data = [Document({'x': datatype(x['x']), 'y': x['y']}) if isinstance(x, dict) and 'x' in x and 'y' in x else Document({'x': datatype(x)}) for x in data]\n",
    "        db.execute(table_or_collection.insert_many(data))\n",
    "    else:\n",
    "        data = [Document({'x': x['x'], 'y': x['y']}) if isinstance(x, dict) and 'x' in x and 'y' in x else Document({'x': x}) for x in data]\n",
    "        db.execute(table_or_collection.insert_many(data, schema=schema))\n"
   ]
  },
  {
   "cell_type": "code",
   "execution_count": null,
   "metadata": {},
   "outputs": [],
   "source": [
    "# <tab: SQL>\n",
    "from pinnacledb import Document\n",
    "\n",
    "def do_insert(data):\n",
    "    db.execute(table_or_collection.insert([Document({'id': str(idx), 'x': x['x'], 'y': x['y']}) if isinstance(x, dict) and 'x' in x and 'y' in x else Document({'id': str(idx), 'x': x}) for idx, x in enumerate(data)]))\n"
   ]
  }
 ],
 "metadata": {
  "kernelspec": {
   "display_name": ".venv",
   "language": "python",
   "name": ".venv"
  },
  "language_info": {
   "codemirror_mode": {
    "name": "ipython",
    "version": 3
   },
   "file_extension": ".py",
   "mimetype": "text/x-python",
   "name": "python",
   "nbconvert_exporter": "python",
   "pygments_lexer": "ipython3",
   "version": "3.11.9"
  }
 },
 "nbformat": 4,
 "nbformat_minor": 4
}
