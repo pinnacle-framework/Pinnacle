{
 "cells": [
  {
   "cell_type": "markdown",
   "metadata": {},
   "source": [
    "<!-- TABS -->\n",
    "# Insert data\n",
    "\n",
    "In order to create data, we need create a `Schema` for encoding our special `Datatype` column(s) in the databackend."
   ]
  },
  {
   "cell_type": "markdown",
   "metadata": {},
   "source": [
    "Here's some sample data to work with:"
   ]
  },
  {
   "cell_type": "code",
   "execution_count": null,
   "metadata": {},
   "outputs": [],
   "source": [
    "# <tab: Text>\n",
    "!curl -O https://jupyter-sessions.s3.us-east-2.amazonaws.com/text.json\n",
    "\n",
    "import json\n",
    "with open('text.json') as f:\n",
    "    data = json.load(f)"
   ]
  },
  {
   "cell_type": "code",
   "execution_count": null,
   "metadata": {},
   "outputs": [],
   "source": [
    "# <tab: Images>\n",
    "!curl -O https://jupyter-sessions.s3.us-east-2.amazonaws.com/images.zip\n",
    "!unzip images.zip\n",
    "\n",
    "import os\n",
    "data = [{'image': f'file://image/{file}'} for file in os.listdir('./images')]"
   ]
  },
  {
   "cell_type": "code",
   "execution_count": null,
   "metadata": {},
   "outputs": [],
   "source": [
    "# <tab: Audio>\n",
    "!curl -O https://jupyter-sessions.s3.us-east-2.amazonaws.com/audio.zip\n",
    "!unzip audio.zip\n",
    "\n",
    "import os\n",
    "data = [{'audio': f'file://audio/{file}'} for file in os.listdir('./audio')]"
   ]
  },
  {
   "cell_type": "markdown",
   "metadata": {},
   "source": [
    "The next code-block is only necessary if you're working with a custom `DataType`:"
   ]
  },
  {
   "cell_type": "code",
   "execution_count": null,
   "metadata": {},
   "outputs": [],
   "source": [
    "from pinnacledb import Schema, Document\n",
    "\n",
    "schema = Schema(\n",
    "    'my_schema',\n",
    "    fields={\n",
    "        'my_key': dt\n",
    "    }\n",
    ")\n",
    "\n",
    "data = [\n",
    "    Document({'my_key': item}) for item in data\n",
    "]"
   ]
  },
  {
   "cell_type": "code",
   "execution_count": null,
   "metadata": {},
   "outputs": [],
   "source": [
    "# <tab: MongoDB>\n",
    "from pinnacledb.backends.mongodb import Collection\n",
    "\n",
    "collection = Collection('documents')\n",
    "\n",
    "db.execute(collection.insert_many(data))"
   ]
  },
  {
   "cell_type": "code",
   "execution_count": null,
   "metadata": {},
   "outputs": [],
   "source": [
    "# <tab: SQL>\n",
    "from pinnacledb.backends.ibis import Table\n",
    "\n",
    "table = Table(\n",
    "    'my_table',\n",
    "    schema=schema,\n",
    ")\n",
    "\n",
    "db.add(table)\n",
    "db.execute(table.insert(data))"
   ]
  }
 ],
 "metadata": {
  "language_info": {
   "name": "python"
  }
 },
 "nbformat": 4,
 "nbformat_minor": 2
}
