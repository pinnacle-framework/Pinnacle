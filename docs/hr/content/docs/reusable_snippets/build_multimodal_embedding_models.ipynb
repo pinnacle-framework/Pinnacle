{
 "cells": [
  {
   "cell_type": "markdown",
   "metadata": {},
   "source": [
    "<!-- TABS -->\n",
    "# Build multimodal embedding models"
   ]
  },
  {
   "cell_type": "code",
   "execution_count": 9,
   "metadata": {},
   "outputs": [],
   "source": [
    "# <tab: Text>\n",
    "from pinnacledb.ext.sentence_transformers import SentenceTransformer\n",
    "\n",
    "# Load the pre-trained sentence transformer model\n",
    "pinnaclemodel = SentenceTransformer(identifier='all-MiniLM-L6-v2')"
   ]
  },
  {
   "cell_type": "code",
   "execution_count": 10,
   "metadata": {},
   "outputs": [],
   "source": [
    "# <testing>\n",
    "import numpy as np\n",
    "from PIL import Image\n",
    "\n",
    "embeddings = pinnaclemodel.predict_one('some text')"
   ]
  },
  {
   "cell_type": "code",
   "execution_count": 11,
   "metadata": {},
   "outputs": [],
   "source": [
    "# <tab: Image>\n",
    "import torch\n",
    "import clip\n",
    "from torchvision import transforms\n",
    "from pinnacledb.ext.torch import TorchModel\n",
    "\n",
    "class CLIPVisionEmbedding:\n",
    "    def __init__(self):\n",
    "        # Load the CLIP model\n",
    "        self.device = \"cuda\" if torch.cuda.is_available() else \"cpu\"\n",
    "        self.model, self.preprocess = clip.load(\"RN50\", device=self.device)\n",
    "        \n",
    "    def preprocess(self, image):\n",
    "        # Load and preprocess the image\n",
    "        image = self.preprocess(image).unsqueeze(0).to(self.device)\n",
    "        return image\n",
    "        \n",
    "model = CLIPVisionEmbedding()\n",
    "pinnaclemodel = TorchModel(identifier='clip-vision', object=model.model, preprocess=model.preprocess, forward_method='encode_image')"
   ]
  },
  {
   "cell_type": "code",
   "execution_count": 12,
   "metadata": {},
   "outputs": [],
   "source": [
    "# <tab: Text-2-Image>\n",
    "\n",
    "import torch\n",
    "import clip\n",
    "from torchvision import transforms\n",
    "from pinnacledb import Model\n",
    "from pinnacledb.ext.torch import TorchModel\n",
    "\n",
    "class CLIPTextEmbedding:\n",
    "    def __init__(self):\n",
    "        # Load the CLIP model\n",
    "        self.device = \"cuda\" if torch.cuda.is_available() else \"cpu\"\n",
    "        self.model, _ = clip.load(\"RN50\", device=self.device)\n",
    "        \n",
    "    def __call__(self, text):\n",
    "        features = clip.tokenize([text])\n",
    "        return self.model.encode_text(features)\n",
    "        \n",
    "model = CLIPTextEmbedding()\n",
    "pinnaclemodel_text = Model(identifier='clip-text', object=model)\n",
    "\n",
    "class CLIPVisionEmbedding:\n",
    "    def __init__(self):\n",
    "        # Load the CLIP model\n",
    "        self.device = \"cuda\" if torch.cuda.is_available() else \"cpu\"\n",
    "        self.model, self.preprocess = clip.load(\"RN50\", device=self.device)\n",
    "        \n",
    "    def preprocess(self, image):\n",
    "        # Load and preprocess the image\n",
    "        image = self.preprocess(image).unsqueeze(0).to(self.device)\n",
    "        return image\n",
    "        \n",
    "model = CLIPVisionEmbedding()\n",
    "pinnaclemodel_image = TorchModel(identifier='clip-vision', object=model.model, preprocess=model.preprocess, forward_method='encode_image')"
   ]
  },
  {
   "cell_type": "code",
   "execution_count": 13,
   "metadata": {},
   "outputs": [
    {
     "name": "stdout",
     "output_type": "stream",
     "text": [
      "\u001b[32m 2024-Mar-27 14:47:07.83\u001b[0m| \u001b[1mINFO    \u001b[0m | \u001b[36mkartiks-MacBook-Air.local\u001b[0m| \u001b[36mpinnacledb.components.component\u001b[0m:\u001b[36m344 \u001b[0m | \u001b[1mInitializing TorchModel : clip-vision\u001b[0m\n",
      "\u001b[32m 2024-Mar-27 14:47:07.83\u001b[0m| \u001b[1mINFO    \u001b[0m | \u001b[36mkartiks-MacBook-Air.local\u001b[0m| \u001b[36mpinnacledb.components.component\u001b[0m:\u001b[36m347 \u001b[0m | \u001b[1mInitialized  TorchModel : clip-vision successfully\u001b[0m\n"
     ]
    }
   ],
   "source": [
    "# <testing>\n",
    "import numpy as np\n",
    "from PIL import Image\n",
    "\n",
    "embeddings = pinnaclemodel_image.predict_one(Image.fromarray(np.ones((256,256,3)).astype(np.uint8)))"
   ]
  },
  {
   "cell_type": "code",
   "execution_count": 14,
   "metadata": {},
   "outputs": [
    {
     "name": "stdout",
     "output_type": "stream",
     "text": [
      "\u001b[32m 2024-Mar-27 14:47:07.92\u001b[0m| \u001b[1mINFO    \u001b[0m | \u001b[36mkartiks-MacBook-Air.local\u001b[0m| \u001b[36mpinnacledb.components.component\u001b[0m:\u001b[36m344 \u001b[0m | \u001b[1mInitializing ObjectModel : clip-text\u001b[0m\n",
      "\u001b[32m 2024-Mar-27 14:47:07.92\u001b[0m| \u001b[1mINFO    \u001b[0m | \u001b[36mkartiks-MacBook-Air.local\u001b[0m| \u001b[36mpinnacledb.components.component\u001b[0m:\u001b[36m347 \u001b[0m | \u001b[1mInitialized  ObjectModel : clip-text successfully\u001b[0m\n"
     ]
    }
   ],
   "source": [
    "# <testing>\n",
    "import numpy as np\n",
    "from PIL import Image\n",
    "\n",
    "embeddings = pinnaclemodel_text.predict_one('some text')"
   ]
  }
 ],
 "metadata": {
  "kernelspec": {
   "display_name": "Python 3 (ipykernel)",
   "language": "python",
   "name": "python3"
  },
  "language_info": {
   "codemirror_mode": {
    "name": "ipython",
    "version": 3
   },
   "file_extension": ".py",
   "mimetype": "text/x-python",
   "name": "python",
   "nbconvert_exporter": "python",
   "pygments_lexer": "ipython3",
   "version": "3.11.7"
  }
 },
 "nbformat": 4,
 "nbformat_minor": 4
}
