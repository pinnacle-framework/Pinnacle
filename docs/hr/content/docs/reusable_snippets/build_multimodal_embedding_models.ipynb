{
 "cells": [
  {
   "cell_type": "markdown",
   "metadata": {},
   "source": [
    "<!-- TABS -->\n",
    "# Build multimodal embedding models"
   ]
  },
  {
   "cell_type": "code",
   "execution_count": 9,
   "metadata": {},
   "outputs": [],
   "source": [
    "# <tab: Text>\n",
    "from pinnacledb.ext.sentence_transformers import SentenceTransformer\n",
    "\n",
    "# Load the pre-trained sentence transformer model\n",
    "pinnaclemodel = SentenceTransformer(identifier='all-MiniLM-L6-v2')"
   ]
  },
  {
   "cell_type": "code",
   "execution_count": 10,
   "metadata": {},
   "outputs": [],
   "source": [
    "# <testing>\n",
    "import numpy as np\n",
    "from PIL import Image\n",
    "\n",
    "embeddings = pinnaclemodel.predict_one('some text')"
   ]
  },
  {
   "cell_type": "code",
   "execution_count": 11,
   "metadata": {},
   "outputs": [],
   "source": [
    "# <tab: Image>\n",
    "import torch\n",
    "import clip\n",
    "from torchvision import transforms\n",
    "from pinnacledb.ext.torch import TorchModel\n",
    "\n",
    "class CLIPVisionEmbedding:\n",
    "    def __init__(self):\n",
    "        # Load the CLIP model\n",
    "        self.device = \"cuda\" if torch.cuda.is_available() else \"cpu\"\n",
    "        self.model, self.preprocess = clip.load(\"RN50\", device=self.device)\n",
    "        \n",
    "    def preprocess(self, image):\n",
    "        # Load and preprocess the image\n",
    "        image = self.preprocess(image).unsqueeze(0).to(self.device)\n",
    "        return image\n",
    "        \n",
    "model = CLIPVisionEmbedding()\n",
    "pinnaclemodel = TorchModel(identifier='clip-vision', object=model.model, preprocess=model.preprocess, forward_method='encode_image')"
   ]
  },
  {
   "cell_type": "code",
   "execution_count": 12,
   "metadata": {},
   "outputs": [],
   "source": [
    "# <tab: Text-2-Image>\n",
    "\n",
    "import torch\n",
    "import clip\n",
    "from torchvision import transforms\n",
    "from pinnacledb import Model\n",
    "from pinnacledb.ext.torch import TorchModel\n",
    "\n",
    "class CLIPTextEmbedding:\n",
    "    def __init__(self):\n",
    "        # Load the CLIP model\n",
    "        self.device = \"cuda\" if torch.cuda.is_available() else \"cpu\"\n",
    "        self.model, _ = clip.load(\"RN50\", device=self.device)\n",
    "        \n",
    "    def __call__(self, text):\n",
    "        features = clip.tokenize([text])\n",
    "        return self.model.encode_text(features)\n",
    "        \n",
    "model = CLIPTextEmbedding()\n",
    "pinnaclemodel_text = Model(identifier='clip-text', object=model)\n",
    "\n",
    "class CLIPVisionEmbedding:\n",
    "    def __init__(self):\n",
    "        # Load the CLIP model\n",
    "        self.device = \"cuda\" if torch.cuda.is_available() else \"cpu\"\n",
    "        self.model, self.preprocess = clip.load(\"RN50\", device=self.device)\n",
    "        \n",
    "    def preprocess(self, image):\n",
    "        # Load and preprocess the image\n",
    "        image = self.preprocess(image).unsqueeze(0).to(self.device)\n",
    "        return image\n",
    "        \n",
    "model = CLIPVisionEmbedding()\n",
    "pinnaclemodel_image = TorchModel(identifier='clip-vision', object=model.model, preprocess=model.preprocess, forward_method='encode_image')"
   ]
  },
  {
   "cell_type": "code",
   "execution_count": 13,
   "metadata": {},
   "outputs": [
    {
     "name": "stdout",
     "output_type": "stream",
     "text": [
      "\u001b[32m 2024-Mar-27 14:47:07.83\u001b[0m| \u001b[1mINFO    \u001b[0m | \u001b[36mkartiks-MacBook-Air.local\u001b[0m| \u001b[36mpinnacledb.components.component\u001b[0m:\u001b[36m344 \u001b[0m | \u001b[1mInitializing TorchModel : clip-vision\u001b[0m\n",
      "\u001b[32m 2024-Mar-27 14:47:07.83\u001b[0m| \u001b[1mINFO    \u001b[0m | \u001b[36mkartiks-MacBook-Air.local\u001b[0m| \u001b[36mpinnacledb.components.component\u001b[0m:\u001b[36m347 \u001b[0m | \u001b[1mInitialized  TorchModel : clip-vision successfully\u001b[0m\n"
     ]
    }
   ],
   "source": [
    "# <testing>\n",
    "import numpy as np\n",
    "from PIL import Image\n",
    "\n",
    "embeddings = pinnaclemodel_image.predict_one(Image.fromarray(np.ones((256,256,3)).astype(np.uint8)))"
   ]
  },
  {
   "cell_type": "code",
   "execution_count": 14,
   "metadata": {},
   "outputs": [
    {
     "name": "stdout",
     "output_type": "stream",
     "text": [
      "\u001b[32m 2024-Mar-27 14:47:07.92\u001b[0m| \u001b[1mINFO    \u001b[0m | \u001b[36mkartiks-MacBook-Air.local\u001b[0m| \u001b[36mpinnacledb.components.component\u001b[0m:\u001b[36m344 \u001b[0m | \u001b[1mInitializing ObjectModel : clip-text\u001b[0m\n",
      "\u001b[32m 2024-Mar-27 14:47:07.92\u001b[0m| \u001b[1mINFO    \u001b[0m | \u001b[36mkartiks-MacBook-Air.local\u001b[0m| \u001b[36mpinnacledb.components.component\u001b[0m:\u001b[36m347 \u001b[0m | \u001b[1mInitialized  ObjectModel : clip-text successfully\u001b[0m\n"
     ]
    }
   ],
   "source": [
    "# <testing>\n",
    "import numpy as np\n",
    "from PIL import Image\n",
    "\n",
    "embeddings = pinnaclemodel_text.predict_one('some text')"
   ]
  },
  {
   "cell_type": "code",
   "execution_count": 2,
   "metadata": {},
   "outputs": [
    {
     "name": "stdout",
     "output_type": "stream",
     "text": [
      "Collecting librosa\n",
      "  Downloading librosa-0.10.1-py3-none-any.whl.metadata (8.3 kB)\n",
      "Collecting audioread>=2.1.9 (from librosa)\n",
      "  Downloading audioread-3.0.1-py3-none-any.whl.metadata (8.4 kB)\n",
      "Requirement already satisfied: numpy!=1.22.0,!=1.22.1,!=1.22.2,>=1.20.3 in /Users/kartiksharma/Work/pinnacledb/code/pinnacledb/.venv_11/lib/python3.11/site-packages (from librosa) (1.26.4)\n",
      "Requirement already satisfied: scipy>=1.2.0 in /Users/kartiksharma/Work/pinnacledb/code/pinnacledb/.venv_11/lib/python3.11/site-packages (from librosa) (1.10.1)\n",
      "Requirement already satisfied: scikit-learn>=0.20.0 in /Users/kartiksharma/Work/pinnacledb/code/pinnacledb/.venv_11/lib/python3.11/site-packages (from librosa) (1.3.2)\n",
      "Requirement already satisfied: joblib>=0.14 in /Users/kartiksharma/Work/pinnacledb/code/pinnacledb/.venv_11/lib/python3.11/site-packages (from librosa) (1.3.2)\n",
      "Requirement already satisfied: decorator>=4.3.0 in /Users/kartiksharma/Work/pinnacledb/code/pinnacledb/.venv_11/lib/python3.11/site-packages (from librosa) (4.4.2)\n",
      "Collecting numba>=0.51.0 (from librosa)\n",
      "  Downloading numba-0.59.1-cp311-cp311-macosx_11_0_arm64.whl.metadata (2.7 kB)\n",
      "Collecting soundfile>=0.12.1 (from librosa)\n",
      "  Downloading soundfile-0.12.1-py2.py3-none-macosx_11_0_arm64.whl.metadata (14 kB)\n",
      "Requirement already satisfied: pooch>=1.0 in /Users/kartiksharma/Work/pinnacledb/code/pinnacledb/.venv_11/lib/python3.11/site-packages (from librosa) (1.8.0)\n",
      "Collecting soxr>=0.3.2 (from librosa)\n",
      "  Downloading soxr-0.3.7-cp311-cp311-macosx_11_0_arm64.whl.metadata (5.5 kB)\n",
      "Requirement already satisfied: typing-extensions>=4.1.1 in /Users/kartiksharma/Work/pinnacledb/code/pinnacledb/.venv_11/lib/python3.11/site-packages (from librosa) (4.9.0)\n",
      "Collecting lazy-loader>=0.1 (from librosa)\n",
      "  Downloading lazy_loader-0.3-py3-none-any.whl.metadata (4.3 kB)\n",
      "Requirement already satisfied: msgpack>=1.0 in /Users/kartiksharma/Work/pinnacledb/code/pinnacledb/.venv_11/lib/python3.11/site-packages (from librosa) (1.0.7)\n",
      "Collecting llvmlite<0.43,>=0.42.0dev0 (from numba>=0.51.0->librosa)\n",
      "  Downloading llvmlite-0.42.0-cp311-cp311-macosx_11_0_arm64.whl.metadata (4.8 kB)\n",
      "Requirement already satisfied: platformdirs>=2.5.0 in /Users/kartiksharma/Work/pinnacledb/code/pinnacledb/.venv_11/lib/python3.11/site-packages (from pooch>=1.0->librosa) (3.11.0)\n",
      "Requirement already satisfied: packaging>=20.0 in /Users/kartiksharma/Work/pinnacledb/code/pinnacledb/.venv_11/lib/python3.11/site-packages (from pooch>=1.0->librosa) (23.2)\n",
      "Requirement already satisfied: requests>=2.19.0 in /Users/kartiksharma/Work/pinnacledb/code/pinnacledb/.venv_11/lib/python3.11/site-packages (from pooch>=1.0->librosa) (2.31.0)\n",
      "Requirement already satisfied: threadpoolctl>=2.0.0 in /Users/kartiksharma/Work/pinnacledb/code/pinnacledb/.venv_11/lib/python3.11/site-packages (from scikit-learn>=0.20.0->librosa) (3.2.0)\n",
      "Requirement already satisfied: cffi>=1.0 in /Users/kartiksharma/Work/pinnacledb/code/pinnacledb/.venv_11/lib/python3.11/site-packages (from soundfile>=0.12.1->librosa) (1.16.0)\n",
      "Requirement already satisfied: pycparser in /Users/kartiksharma/Work/pinnacledb/code/pinnacledb/.venv_11/lib/python3.11/site-packages (from cffi>=1.0->soundfile>=0.12.1->librosa) (2.21)\n",
      "Requirement already satisfied: charset-normalizer<4,>=2 in /Users/kartiksharma/Work/pinnacledb/code/pinnacledb/.venv_11/lib/python3.11/site-packages (from requests>=2.19.0->pooch>=1.0->librosa) (3.3.2)\n",
      "Requirement already satisfied: idna<4,>=2.5 in /Users/kartiksharma/Work/pinnacledb/code/pinnacledb/.venv_11/lib/python3.11/site-packages (from requests>=2.19.0->pooch>=1.0->librosa) (3.6)\n",
      "Requirement already satisfied: urllib3<3,>=1.21.1 in /Users/kartiksharma/Work/pinnacledb/code/pinnacledb/.venv_11/lib/python3.11/site-packages (from requests>=2.19.0->pooch>=1.0->librosa) (1.26.18)\n",
      "Requirement already satisfied: certifi>=2017.4.17 in /Users/kartiksharma/Work/pinnacledb/code/pinnacledb/.venv_11/lib/python3.11/site-packages (from requests>=2.19.0->pooch>=1.0->librosa) (2024.2.2)\n",
      "Downloading librosa-0.10.1-py3-none-any.whl (253 kB)\n",
      "\u001b[2K   \u001b[38;2;114;156;31m━━━━━━━━━━━━━━━━━━━━━━━━━━━━━━━━━━━━━━━━\u001b[0m \u001b[32m253.7/253.7 kB\u001b[0m \u001b[31m1.6 MB/s\u001b[0m eta \u001b[36m0:00:00\u001b[0m[31m1.6 MB/s\u001b[0m eta \u001b[36m0:00:01\u001b[0mm\n",
      "\u001b[?25hDownloading audioread-3.0.1-py3-none-any.whl (23 kB)\n",
      "Downloading lazy_loader-0.3-py3-none-any.whl (9.1 kB)\n",
      "Downloading numba-0.59.1-cp311-cp311-macosx_11_0_arm64.whl (2.6 MB)\n",
      "\u001b[2K   \u001b[38;2;114;156;31m━━━━━━━━━━━━━━━━━━━━━━━━━━━━━━━━━━━━━━━━\u001b[0m \u001b[32m2.6/2.6 MB\u001b[0m \u001b[31m7.3 MB/s\u001b[0m eta \u001b[36m0:00:00\u001b[0mm eta \u001b[36m0:00:01\u001b[0m0:01\u001b[0m:01\u001b[0m\n",
      "\u001b[?25hDownloading soundfile-0.12.1-py2.py3-none-macosx_11_0_arm64.whl (1.1 MB)\n",
      "\u001b[2K   \u001b[38;2;114;156;31m━━━━━━━━━━━━━━━━━━━━━━━━━━━━━━━━━━━━━━━━\u001b[0m \u001b[32m1.1/1.1 MB\u001b[0m \u001b[31m10.6 MB/s\u001b[0m eta \u001b[36m0:00:00\u001b[0m MB/s\u001b[0m eta \u001b[36m0:00:01\u001b[0m\n",
      "\u001b[?25hDownloading soxr-0.3.7-cp311-cp311-macosx_11_0_arm64.whl (390 kB)\n",
      "\u001b[2K   \u001b[38;2;114;156;31m━━━━━━━━━━━━━━━━━━━━━━━━━━━━━━━━━━━━━━━━\u001b[0m \u001b[32m390.5/390.5 kB\u001b[0m \u001b[31m9.3 MB/s\u001b[0m eta \u001b[36m0:00:00\u001b[0m0m eta \u001b[36m0:00:01\u001b[0m\n",
      "\u001b[?25hDownloading llvmlite-0.42.0-cp311-cp311-macosx_11_0_arm64.whl (28.8 MB)\n",
      "\u001b[2K   \u001b[38;2;114;156;31m━━━━━━━━━━━━━━━━━━━━━━━━━━━━━━━━━━━━━━━━\u001b[0m \u001b[32m28.8/28.8 MB\u001b[0m \u001b[31m10.8 MB/s\u001b[0m eta \u001b[36m0:00:00\u001b[0mm eta \u001b[36m0:00:01\u001b[0m[36m0:00:01\u001b[0m\n",
      "\u001b[?25hInstalling collected packages: soxr, llvmlite, lazy-loader, audioread, soundfile, numba, librosa\n",
      "Successfully installed audioread-3.0.1 lazy-loader-0.3 librosa-0.10.1 llvmlite-0.42.0 numba-0.59.1 soundfile-0.12.1 soxr-0.3.7\n",
      "\n",
      "\u001b[1m[\u001b[0m\u001b[34;49mnotice\u001b[0m\u001b[1;39;49m]\u001b[0m\u001b[39;49m A new release of pip is available: \u001b[0m\u001b[31;49m23.3.2\u001b[0m\u001b[39;49m -> \u001b[0m\u001b[32;49m24.0\u001b[0m\n",
      "\u001b[1m[\u001b[0m\u001b[34;49mnotice\u001b[0m\u001b[1;39;49m]\u001b[0m\u001b[39;49m To update, run: \u001b[0m\u001b[32;49mpip install --upgrade pip\u001b[0m\n"
     ]
    }
   ],
   "source": [
    "# <tab Audio>\n",
    "!pip install librosa\n",
    "import librosa\n",
    "import numpy as np\n",
    "from pinnacledb import Model\n",
    "\n",
    "def audio_embedding(audio_file):\n",
    "    # Load the audio file\n",
    "    y, sr = librosa.load(audio_file)\n",
    "    mfccs = librosa.feature.mfcc(y=y, sr=sr)\n",
    "    return mfccs\n",
    "pinnaclemodel = Model(identifier='my-model-audio', object=audio_embedding)"
   ]
  },
  {
   "cell_type": "code",
   "execution_count": 4,
   "metadata": {},
   "outputs": [],
   "source": [
    "# <testing>\n",
    "import wave\n",
    "import struct\n",
    "\n",
    "sample_rate = 44100 \n",
    "duration = 1 \n",
    "frequency = 440\n",
    "amplitude = 0.5\n",
    "\n",
    "# Generate the sine wave\n",
    "num_samples = int(sample_rate * duration)\n",
    "t = np.linspace(0, duration, num_samples, False)\n",
    "signal = amplitude * np.sin(2 * np.pi * frequency * t)\n",
    "\n",
    "# Open a new WAV file\n",
    "output_file = 'dummy_audio.wav'\n",
    "wav_file = wave.open(output_file, 'w')\n",
    "\n",
    "# Set the parameters for the WAV file\n",
    "nchannels = 1  # Mono audio\n",
    "sampwidth = 2  # Sample width in bytes (2 for 16-bit audio)\n",
    "framerate = sample_rate\n",
    "nframes = num_samples\n",
    "\n",
    "# Set the parameters for the WAV file\n",
    "wav_file.setparams((nchannels, sampwidth, framerate, nframes, 'NONE', 'not compressed'))\n",
    "\n",
    "# Write the audio data to the WAV file\n",
    "for sample in signal:\n",
    "    wav_file.writeframes(struct.pack('h', int(sample * (2 ** 15 - 1))))\n",
    "\n",
    "# Close the WAV file\n",
    "wav_file.close()\n",
    "\n",
    "# Test\n",
    "pinnaclemodel.predict_one(output_file)"
   ]
  }
 ],
 "metadata": {
  "kernelspec": {
   "display_name": "Python 3 (ipykernel)",
   "language": "python",
   "name": "python3"
  },
  "language_info": {
   "codemirror_mode": {
    "name": "ipython",
    "version": 3
   },
   "file_extension": ".py",
   "mimetype": "text/x-python",
   "name": "python",
   "nbconvert_exporter": "python",
   "pygments_lexer": "ipython3",
   "version": "3.11.7"
  }
 },
 "nbformat": 4,
 "nbformat_minor": 4
}
