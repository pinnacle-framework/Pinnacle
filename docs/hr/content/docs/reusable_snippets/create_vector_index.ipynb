{
 "cells": [
  {
   "cell_type": "markdown",
   "id": "41b8b40d-3750-4d7b-aa60-62e07b734b04",
   "metadata": {},
   "source": [
    "# Create vector-index\n",
    "\n",
    "- `model` is a `_Predictor` which converts input data to `vector`, `array` or `tensor`.\n",
    "- `select` is a `Select` query telling which data to search over.\n",
    "- `key` is a `str`, tuple of `str` or `dict` telling the models how to consume the content of `Document` instances."
   ]
  },
  {
   "cell_type": "code",
   "execution_count": null,
   "id": "ffba61c1-2ec8-4411-870a-228439ce4ba5",
   "metadata": {},
   "outputs": [],
   "source": [
    "from pinnacledb import VectorIndex, Listener\n",
    "\n",
    "db.add(\n",
    "    VectorIndex(\n",
    "        'my-vector-index',\n",
    "        listener=Listener(\n",
    "            key='<my_key>',      # the `Document` key `model` should ingest to create embedding\n",
    "            select=select,       # a `Select` query telling which data to search over\n",
    "            model=model,         # a `_Predictor` how to convert data to embeddings\n",
    "        )\n",
    "    )\n",
    ")"
   ]
  }
 ],
 "metadata": {
  "kernelspec": {
   "display_name": "Python 3 (ipykernel)",
   "language": "python",
   "name": "python3"
  },
  "language_info": {
   "codemirror_mode": {
    "name": "ipython",
    "version": 3
   },
   "file_extension": ".py",
   "mimetype": "text/x-python",
   "name": "python",
   "nbconvert_exporter": "python",
   "pygments_lexer": "ipython3",
   "version": "3.11.7"
  }
 },
 "nbformat": 4,
 "nbformat_minor": 5
}
