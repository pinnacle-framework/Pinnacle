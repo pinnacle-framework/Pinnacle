{
 "cells": [
  {
   "cell_type": "markdown",
   "metadata": {},
   "source": [
    "<!-- TABS -->\n",
    "# Setup tables or collections"
   ]
  },
  {
   "cell_type": "code",
   "execution_count": null,
   "metadata": {},
   "outputs": [],
   "source": [
    "# <tab: MongoDB>\n",
    "# Note this is an optional step for MongoDB\n",
    "# Users can also work directly with `DataType` if they want to add\n",
    "# custom data\n",
    "from pinnacledb import Schema, DataType\n",
    "from pinnacledb.backends.mongodb import Collection\n",
    "\n",
    "table_or_collection = Collection('documents')\n",
    "USE_SCHEMA = False\n",
    "\n",
    "if USE_SCHEMA and isinstance(datatype, DataType):\n",
    "    schema = Schema(fields={'x': datatype})\n",
    "    db.apply(schema)"
   ]
  },
  {
   "cell_type": "code",
   "execution_count": null,
   "metadata": {},
   "outputs": [],
   "source": [
    "# <tab: SQL>\n",
    "from pinnacledb.backends.ibis import Table\n",
    "from pinnacledb.backends.ibis.field_types import FieldType\n",
    "\n",
    "if isinstance(datatype, DataType):\n",
    "    schema = Schema(fields={'x': datatype})\n",
    "else:\n",
    "    schema = Schema(fields={'x': FieldType(datatype)})\n",
    "\n",
    "table_or_collection = Table('documents', schema=schema)\n",
    "\n",
    "db.apply(table_or_collection)"
   ]
  }
 ],
 "metadata": {
  "kernelspec": {
   "display_name": "Python 3 (ipykernel)",
   "language": "python",
   "name": "python3"
  },
  "language_info": {
   "codemirror_mode": {
    "name": "ipython",
    "version": 3
   },
   "file_extension": ".py",
   "mimetype": "text/x-python",
   "name": "python",
   "nbconvert_exporter": "python",
   "pygments_lexer": "ipython3",
   "version": "3.11.7"
  }
 },
 "nbformat": 4,
 "nbformat_minor": 4
}
