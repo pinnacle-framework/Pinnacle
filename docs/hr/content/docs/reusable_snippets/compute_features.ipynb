{
 "cells": [
  {
   "cell_type": "markdown",
   "id": "9e703b58-a46d-4b1f-98fd-f50d46b168fe",
   "metadata": {},
   "source": [
    "<!-- TABS -->\n",
    "# Compute features"
   ]
  },
  {
   "cell_type": "code",
   "execution_count": null,
   "id": "2b4a022e-0d40-47ac-bf76-dd42b9a27ffb",
   "metadata": {},
   "outputs": [],
   "source": [
    "# <testing: >\n",
    "\n",
    "db = ...\n",
    "select = ..."
   ]
  },
  {
   "cell_type": "markdown",
   "id": "68a6715b-a40c-4068-8eb0-78de67ed4960",
   "metadata": {},
   "source": [
    "# Auto generated\n",
    "This snippet builds on top of:\n",
    "\n",
    "- [Connect to SuperDuperDB](connect_to_pinnacledb)\n",
    "- [Build a query](build_a_query)"
   ]
  },
  {
   "cell_type": "code",
   "execution_count": null,
   "id": "55a8ba02-f130-449b-a0aa-b4e88905959a",
   "metadata": {},
   "outputs": [],
   "source": [
    "Computing features combines Listener with different model varieties"
   ]
  },
  {
   "cell_type": "code",
   "execution_count": null,
   "id": "ae2e1588-fec8-45a6-b678-fef05fc7b57f",
   "metadata": {},
   "outputs": [],
   "source": [
    "# <tab: Text>\n",
    "from pinnacledb.ext.sentence_transformers import Pipeline\n",
    "\n",
    "db.add(\n",
    "    Listener(\n",
    "        model=model,\n",
    "        select=select\n",
    "    )\n",
    ")"
   ]
  },
  {
   "cell_type": "code",
   "execution_count": null,
   "id": "ae9d4b45-3676-4084-a3d8-9dbe9fa6bf47",
   "metadata": {},
   "outputs": [],
   "source": [
    "# <tab: Image>\n",
    "from torchvision import resnet50\n",
    "\n",
    "db.add(\n",
    "    Listener(\n",
    "        model=TorchModel(resnet50),\n",
    "        select=select\n",
    "    )\n",
    ")"
   ]
  },
  {
   "cell_type": "code",
   "execution_count": null,
   "id": "22a32bd1-c2c0-4789-aba9-0fc5d1fbfe09",
   "metadata": {},
   "outputs": [],
   "source": [
    "# <tab: Text-2-Image>\n",
    "from CLIP import ..."
   ]
  },
  {
   "cell_type": "code",
   "execution_count": null,
   "id": "e49af16d-782d-47ce-bdc5-15cd9b6e61be",
   "metadata": {},
   "outputs": [],
   "source": [
    "# <tab: Random>\n",
    "import numpy\n",
    "\n",
    "..."
   ]
  },
  {
   "cell_type": "code",
   "execution_count": null,
   "id": "fa5a5f79-4b80-4534-a322-03260dc9caf7",
   "metadata": {},
   "outputs": [],
   "source": [
    "# <tab: Custom>\n",
    "\n",
    "..."
   ]
  }
 ],
 "metadata": {
  "kernelspec": {
   "display_name": "Python 3 (ipykernel)",
   "language": "python",
   "name": "python3"
  },
  "language_info": {
   "codemirror_mode": {
    "name": "ipython",
    "version": 3
   },
   "file_extension": ".py",
   "mimetype": "text/x-python",
   "name": "python",
   "nbconvert_exporter": "python",
   "pygments_lexer": "ipython3",
   "version": "3.11.7"
  }
 },
 "nbformat": 4,
 "nbformat_minor": 5
}
