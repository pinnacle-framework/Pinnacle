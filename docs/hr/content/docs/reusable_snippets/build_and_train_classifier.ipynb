{
 "cells": [
  {
   "cell_type": "markdown",
   "id": "c2da0ab6-8fc0-41fc-b8c9-0f8a127d9e8d",
   "metadata": {},
   "source": [
    "<!-- TABS -->\n",
    "# Build and train classifier"
   ]
  },
  {
   "cell_type": "code",
   "execution_count": null,
   "id": "d3b94fca-3a0b-433f-88cf-aab5b71b8596",
   "metadata": {},
   "outputs": [],
   "source": [
    "# <tab: sklearn>\n",
    "\n",
    "..."
   ]
  },
  {
   "cell_type": "code",
   "execution_count": null,
   "id": "bc3a91a1-0f6c-42f4-b83f-77bc563eeeff",
   "metadata": {},
   "outputs": [],
   "source": [
    "# <tab: torch>\n",
    "\n",
    "..."
   ]
  },
  {
   "cell_type": "code",
   "execution_count": null,
   "id": "a65f96f9-d6ca-4008-9540-cee4706ec0c0",
   "metadata": {},
   "outputs": [],
   "source": [
    "# <tab: torchvision>\n",
    "\n",
    "..."
   ]
  },
  {
   "cell_type": "code",
   "execution_count": null,
   "id": "f53c67e9-db8a-4d3b-8c39-ec62075191ab",
   "metadata": {},
   "outputs": [],
   "source": [
    "db.add(model)"
   ]
  }
 ],
 "metadata": {
  "kernelspec": {
   "display_name": "Python 3 (ipykernel)",
   "language": "python",
   "name": "python3"
  },
  "language_info": {
   "codemirror_mode": {
    "name": "ipython",
    "version": 3
   },
   "file_extension": ".py",
   "mimetype": "text/x-python",
   "name": "python",
   "nbconvert_exporter": "python",
   "pygments_lexer": "ipython3",
   "version": "3.11.7"
  }
 },
 "nbformat": 4,
 "nbformat_minor": 5
}
