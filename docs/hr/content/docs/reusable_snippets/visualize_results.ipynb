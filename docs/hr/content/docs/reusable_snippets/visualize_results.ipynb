{
 "cells": [
  {
   "cell_type": "markdown",
   "id": "52e7c5cb-1519-412d-b09b-1a1fd82ee2ba",
   "metadata": {},
   "source": [
    "<!-- TABS -->\n",
    "# Visualize Results"
   ]
  },
  {
   "cell_type": "code",
   "execution_count": null,
   "id": "1afd4e9d-6752-49a9-85ed-625e69f0b54d",
   "metadata": {},
   "outputs": [],
   "source": [
    "# <tab: Text>\n",
    "from IPython.display import Markdown, display\n",
    "\n",
    "def visualize(item, source):\n",
    "    display(Markdown(item))\n",
    "    \n",
    "def show(results, output_key, get_original_callable=None):\n",
    "    for result in results:\n",
    "        source = None\n",
    "        if '_source' in result:\n",
    "            \n",
    "            source = get_original_callable(result['_source'])\n",
    "        visualize(result[output_key], source)"
   ]
  },
  {
   "cell_type": "code",
   "execution_count": null,
   "id": "8191fe20-d030-4c70-bb3a-1d905370a18b",
   "metadata": {},
   "outputs": [],
   "source": [
    "# <tab: Image>\n",
    "from IPython.display import display\n",
    "\n",
    "def visualize(item, source):\n",
    "    display(item)        # item is a PIL.Image\n",
    "\n",
    "def show(results, output_key, get_original_callable=None):\n",
    "    for result in results:\n",
    "        source = None\n",
    "        if '_source' in result:\n",
    "            source = get_original_callable(result['_source'])\n",
    "        visualize(result[output_key], source)"
   ]
  },
  {
   "cell_type": "code",
   "execution_count": null,
   "id": "1e604bc7-6e83-40c5-98c3-d45ee421e12f",
   "metadata": {},
   "outputs": [],
   "source": [
    "# <tab: Audio>\n",
    "from IPython.display import Audio, display\n",
    "\n",
    "def visualize(item, source):\n",
    "    display(Audio(item[1], fs=item[0]))\n",
    "\n",
    "def show(results, output_key, get_original_callable=None):\n",
    "    for result in results:\n",
    "        source = None\n",
    "        if '_source' in result:\n",
    "            \n",
    "            source = get_original_callable(result['_source'])\n",
    "        visualize(result[output_key], source)"
   ]
  },
  {
   "cell_type": "code",
   "execution_count": 1,
   "id": "6d83da69-5963-4eb9-8b63-34b6b094f431",
   "metadata": {},
   "outputs": [],
   "source": [
    "# <tab: PDF>\n",
    "from IPython.display import IFrame, display\n",
    "\n",
    "def visualize(item, source):\n",
    "    display(item)\n",
    "\n",
    "\n",
    "def show(results, output_key, get_original_callable=None):\n",
    "    for result in results:\n",
    "        source = None\n",
    "        if '_source' in result:\n",
    "            \n",
    "            source = get_original_callable(result['_source'])\n",
    "        visualize(result[output_key], source)"
   ]
  },
  {
   "cell_type": "code",
   "execution_count": null,
   "id": "819855ef-aafa-45fd-9869-5b859375b730",
   "metadata": {},
   "outputs": [],
   "source": [
    "# <tab: Video>\n",
    "from IPython.display import display, HTML\n",
    "\n",
    "def visualize(uri, source):\n",
    "    timestamp = source    # increment to the frame you want to start at\n",
    "    \n",
    "    # Create HTML code for the video player with a specified source and controls\n",
    "    video_html = f\"\"\"\n",
    "    <video width=\"640\" height=\"480\" controls>\n",
    "        <source src=\"{uri}\" type=\"video/mp4\">\n",
    "    </video>\n",
    "    <script>\n",
    "        // Get the video element\n",
    "        var video = document.querySelector('video');\n",
    "        \n",
    "        // Set the current time of the video to the specified timestamp\n",
    "        video.currentTime = {timestamp};\n",
    "        \n",
    "        // Play the video automatically\n",
    "        video.play();\n",
    "    </script>\n",
    "    \"\"\"\n",
    "    \n",
    "    display(HTML(video_html))\n",
    "\n",
    "\n",
    "def show(results, output_key, get_original_callable=None):\n",
    "    # show only the first video\n",
    "    for result in results:\n",
    "        result = result[output_key]\n",
    "        timestamp = result['current_timestamp']\n",
    "        source = result['_source']\n",
    "        uri = get_original_callable(source)['x']\n",
    "        visualize(uri, timestamp)\n",
    "        break"
   ]
  }
 ],
 "metadata": {
  "kernelspec": {
   "display_name": "Python 3 (ipykernel)",
   "language": "python",
   "name": "python3"
  },
  "language_info": {
   "codemirror_mode": {
    "name": "ipython",
    "version": 3
   },
   "file_extension": ".py",
   "mimetype": "text/x-python",
   "name": "python",
   "nbconvert_exporter": "python",
   "pygments_lexer": "ipython3",
   "version": "3.11.7"
  }
 },
 "nbformat": 4,
 "nbformat_minor": 5
}
