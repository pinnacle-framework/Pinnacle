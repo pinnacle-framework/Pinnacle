{
 "cells": [
  {
   "cell_type": "markdown",
   "id": "52e7c5cb-1519-412d-b09b-1a1fd82ee2ba",
   "metadata": {},
   "source": [
    "<!-- TABS -->\n",
    "# Visualize Results"
   ]
  },
  {
   "cell_type": "code",
   "execution_count": null,
   "id": "1afd4e9d-6752-49a9-85ed-625e69f0b54d",
   "metadata": {},
   "outputs": [],
   "source": [
    "# <tab: Text>\n",
    "from IPython.display import Markdown, display\n",
    "\n",
    "def visualize(item, source):\n",
    "    display(Markdown(item))"
   ]
  },
  {
   "cell_type": "code",
   "execution_count": null,
   "id": "8191fe20-d030-4c70-bb3a-1d905370a18b",
   "metadata": {},
   "outputs": [],
   "source": [
    "# <tab: Image>\n",
    "from IPython.display import display\n",
    "\n",
    "def visualize(item, source):\n",
    "    display(item)        # item is a PIL.Image"
   ]
  },
  {
   "cell_type": "code",
   "execution_count": null,
   "id": "1e604bc7-6e83-40c5-98c3-d45ee421e12f",
   "metadata": {},
   "outputs": [],
   "source": [
    "# <tab: Audio>\n",
    "from IPython.display import Audio, display\n",
    "\n",
    "def visualize(item, source):\n",
    "    display(Audio(item[1], fs=item[0]))"
   ]
  },
  {
   "cell_type": "code",
   "execution_count": 1,
   "id": "6d83da69-5963-4eb9-8b63-34b6b094f431",
   "metadata": {},
   "outputs": [],
   "source": [
    "# <tab: PDF>\n",
    "from IPython.display import IFrame, display\n",
    "\n",
    "def visualize(item, source):\n",
    "    display(IFrame(item))"
   ]
  },
  {
   "cell_type": "code",
   "execution_count": null,
   "id": "819855ef-aafa-45fd-9869-5b859375b730",
   "metadata": {},
   "outputs": [],
   "source": [
    "# <tab: Video>\n",
    "from IPython.display import display, HTML\n",
    "\n",
    "timestamp = 0     # increment to the frame you want to start at\n",
    "\n",
    "# Create HTML code for the video player with a specified source and controls\n",
    "video_html = f\"\"\"\n",
    "<video width=\"640\" height=\"480\" controls>\n",
    "    <source src=\"{video['video'].uri}\" type=\"video/mp4\">\n",
    "</video>\n",
    "<script>\n",
    "    // Get the video element\n",
    "    var video = document.querySelector('video');\n",
    "    \n",
    "    // Set the current time of the video to the specified timestamp\n",
    "    video.currentTime = {timestamp};\n",
    "    \n",
    "    // Play the video automatically\n",
    "    video.play();\n",
    "</script>\n",
    "\"\"\"\n",
    "\n",
    "display(HTML(video_html))"
   ]
  }
 ],
 "metadata": {
  "kernelspec": {
   "display_name": "Python 3 (ipykernel)",
   "language": "python",
   "name": "python3"
  },
  "language_info": {
   "codemirror_mode": {
    "name": "ipython",
    "version": 3
   },
   "file_extension": ".py",
   "mimetype": "text/x-python",
   "name": "python",
   "nbconvert_exporter": "python",
   "pygments_lexer": "ipython3",
   "version": "3.11.7"
  }
 },
 "nbformat": 4,
 "nbformat_minor": 5
}
