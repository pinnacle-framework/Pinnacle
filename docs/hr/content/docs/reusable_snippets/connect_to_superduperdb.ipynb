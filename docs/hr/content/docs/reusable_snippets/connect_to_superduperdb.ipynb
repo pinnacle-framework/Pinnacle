{
 "cells": [
  {
   "cell_type": "markdown",
   "id": "32f8484d-2e35-472a-9b24-1a30ec1d144b",
   "metadata": {},
   "source": [
    "<!-- TABS -->\n",
    "# Connect to SuperDuperDB"
   ]
  },
  {
   "cell_type": "code",
   "execution_count": null,
   "id": "61976f44-8139-41c0-a73e-569c6d16c4b1",
   "metadata": {},
   "outputs": [],
   "source": [
    "# <tab: MongoDB>\n",
    "from pinnacledb import pinnacle\n",
    "\n",
    "db = pinnacle('mongodb://localhost:27017/documents')"
   ]
  },
  {
   "cell_type": "code",
   "execution_count": null,
   "id": "cb029a5e-fedf-4f07-8a31-d220cfbfbb3d",
   "metadata": {},
   "outputs": [],
   "source": [
    "# <tab: MongoMock>\n",
    "from pinnacledb import pinnacle\n",
    "\n",
    "db = pinnacle('mongomock:///test_db')"
   ]
  },
  {
   "cell_type": "code",
   "execution_count": null,
   "id": "e981a457",
   "metadata": {},
   "outputs": [],
   "source": [
    "# <tab: SQLite>\n",
    "from pinnacledb import pinnacle\n",
    "\n",
    "db = pinnacle('sqlite://my_db.db')"
   ]
  },
  {
   "cell_type": "code",
   "execution_count": null,
   "id": "19ecf7c0-b730-4503-9b5d-e97697b3bcee",
   "metadata": {},
   "outputs": [],
   "source": [
    "# <tab: MySQL>\n",
    "from pinnacledb import pinnacle\n",
    "user = 'pinnacle'\n",
    "password = 'pinnacle'\n",
    "port = 3306\n",
    "host = 'localhost'\n",
    "database = 'test_db'\n",
    "\n",
    "db = pinnacle(f\"mysql://{user}:{password}@{host}:{port}/{database}\")"
   ]
  },
  {
   "cell_type": "code",
   "execution_count": null,
   "id": "df208e8c-4fd0-438f-af29-22a763a2aebd",
   "metadata": {},
   "outputs": [],
   "source": [
    "# <tab: Oracle>\n",
    "from pinnacledb import pinnacle\n",
    "\n",
    "user = 'sa'\n",
    "password = 'pinnacle#1'\n",
    "port = 1433\n",
    "host = 'localhost'\n",
    "db = pinnacle(f\"mssql://{user}:{password}@{host}:{port}\")"
   ]
  },
  {
   "cell_type": "code",
   "execution_count": null,
   "id": "d2297295",
   "metadata": {},
   "outputs": [],
   "source": [
    "# <tab: PostgreSQL>\n",
    "from pinnacledb import pinnacle\n",
    "user = 'pinnacle'\n",
    "password = 'pinnacle'\n",
    "port = 5432\n",
    "host = 'localhost'\n",
    "database = 'test_db'\n",
    "\n",
    "\n",
    "db = pinnacle(f\"postgres://{user}:{password}@{host}:{port}/{database}\")"
   ]
  },
  {
   "cell_type": "code",
   "execution_count": null,
   "id": "632cfd07-ae16-48a3-b549-bf93063a87ad",
   "metadata": {},
   "outputs": [],
   "source": [
    "# <tab: MongoMock>\n",
    "from pinnacledb import pinnacle\n",
    "\n",
    "db = pinnacle('mongomock://temp')"
   ]
  },
  {
   "cell_type": "code",
   "execution_count": null,
   "id": "05da45e3-d9e4-49ca-b9ee-db1b8bf4eb44",
   "metadata": {},
   "outputs": [],
   "source": [
    "# <tab: Clickhouse>\n",
    "from pinnacledb import pinnacle\n",
    "user = 'default'\n",
    "password = ''\n",
    "port = 8123\n",
    "host = 'localhost'\n",
    "\n",
    "\n",
    "db = pinnacle(f\"clickhouse://{user}:{password}@{host}:{port}\", metadata_store=f'mongomock://meta')"
   ]
  },
  {
   "cell_type": "code",
   "execution_count": null,
   "id": "90a414ed-dbc0-4549-b53b-13860ac22a25",
   "metadata": {},
   "outputs": [],
   "source": [
    "# <testing>\n",
    "import pandas as pd\n",
    "data = [{'A': 10, 'B': 20, 'C':30}, {'x':100, 'y': 200, 'z': 300}]\n",
    "df = pd.DataFrame(data=data)\n",
    "df.to_csv('my.csv')"
   ]
  },
  {
   "cell_type": "code",
   "execution_count": null,
   "id": "b298be1b-ae56-4973-9333-ce28b981fdf6",
   "metadata": {},
   "outputs": [],
   "source": [
    "# <tab: Pandas>\n",
    "from pinnacledb import pinnacle\n",
    "\n",
    "db = pinnacle('my.csv', metadata_store=f'mongomock://meta')"
   ]
  },
  {
   "cell_type": "code",
   "execution_count": null,
   "id": "0e89c8dd-d845-423a-9acc-97e3360d370c",
   "metadata": {},
   "outputs": [],
   "source": [
    "# <tab: DuckDB>\n",
    "from pinnacledb import pinnacle\n",
    "\n",
    "db = pinnacle('duckdb://mydb.duckdb')"
   ]
  }
 ],
 "metadata": {
  "kernelspec": {
   "display_name": "Python 3 (ipykernel)",
   "language": "python",
   "name": "python3"
  },
  "language_info": {
   "codemirror_mode": {
    "name": "ipython",
    "version": 3
   },
   "file_extension": ".py",
   "mimetype": "text/x-python",
   "name": "python",
   "nbconvert_exporter": "python",
   "pygments_lexer": "ipython3",
   "version": "3.10.7"
  }
 },
 "nbformat": 4,
 "nbformat_minor": 5
}
