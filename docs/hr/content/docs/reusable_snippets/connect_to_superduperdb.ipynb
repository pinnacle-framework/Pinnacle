{
 "cells": [
  {
   "cell_type": "markdown",
   "id": "32f8484d-2e35-472a-9b24-1a30ec1d144b",
   "metadata": {},
   "source": [
    "<!-- TABS -->\n",
    "# Connect to SuperDuperDB"
   ]
  },
  {
   "cell_type": "code",
   "execution_count": null,
   "id": "61976f44-8139-41c0-a73e-569c6d16c4b1",
   "metadata": {},
   "outputs": [],
   "source": [
    "# <tab: MongoDB>\n",
    "from pinnacledb import pinnacle\n",
    "\n",
    "db = pinnacle('mongodb://localhost:27017/documents')"
   ]
  },
  {
   "cell_type": "code",
   "execution_count": null,
   "id": "e981a457",
   "metadata": {},
   "outputs": [],
   "source": [
    "# <tab: SQLite>\n",
    "from pinnacledb import pinnacle\n",
    "\n",
    "db = pinnacle('sqlite://my_db.db')"
   ]
  },
  {
   "cell_type": "code",
   "execution_count": null,
   "id": "d2297295",
   "metadata": {},
   "outputs": [],
   "source": [
    "# <tab: PostgreSQL>\n",
    "from pinnacledb import pinnacle\n",
    "\n",
    "db = pinnacle('postgres://localhost:1234')"
   ]
  }
 ],
 "metadata": {
  "kernelspec": {
   "display_name": "Python 3 (ipykernel)",
   "language": "python",
   "name": "python3"
  },
  "language_info": {
   "codemirror_mode": {
    "name": "ipython",
    "version": 3
   },
   "file_extension": ".py",
   "mimetype": "text/x-python",
   "name": "python",
   "nbconvert_exporter": "python",
   "pygments_lexer": "ipython3",
   "version": "3.11.7"
  }
 },
 "nbformat": 4,
 "nbformat_minor": 5
}
