{
 "cells": [
  {
   "cell_type": "markdown",
   "id": "eac27684-15cf-4439-bb34-2afc7d330614",
   "metadata": {},
   "source": [
    "<!-- TABS -->\n",
    "# Answer question with LLM"
   ]
  },
  {
   "cell_type": "code",
   "execution_count": null,
   "id": "c975509e-843e-47ff-b2c1-8b3a04dbd4e9",
   "metadata": {},
   "outputs": [],
   "source": [
    "# <tab: No-context>\n",
    "\n",
    "llm.predict_one(query)"
   ]
  },
  {
   "cell_type": "code",
   "execution_count": null,
   "id": "afa081c4-78d3-4431-9f2f-540568d36536",
   "metadata": {},
   "outputs": [],
   "source": [
    "# <tab: Prompt>\n",
    "from pinnacledb import objectmodel\n",
    "from pinnacledb.components.graph import Graph, input_node\n",
    "\n",
    "@objectmodel\n",
    "def build_prompt(query):\n",
    "    return f\"Translate the sentence into German: {query}\"\n",
    "\n",
    "in_ = input_node('query')\n",
    "prompt = build_prompt(query=in_)\n",
    "answer = llm(X=prompt)\n",
    "prompt_llm = answer.to_graph(\"prompt_llm\")\n",
    "prompt_llm.predict_one(query)[0]"
   ]
  },
  {
   "cell_type": "code",
   "execution_count": null,
   "id": "618c737d-7936-4f0e-bb60-66327edb120e",
   "metadata": {},
   "outputs": [],
   "source": [
    "# <tab: Context>\n",
    "from pinnacledb import objectmodel\n",
    "from pinnacledb.components.graph import Graph, input_node\n",
    "\n",
    "prompt_template = (\n",
    "    \"Use the following context snippets, these snippets are not ordered!, Answer the question based on this context.\\n\"\n",
    "    \"{context}\\n\\n\"\n",
    "    \"Here's the question: {query}\"\n",
    ")\n",
    "\n",
    "\n",
    "@objectmodel\n",
    "def build_prompt(query, docs):\n",
    "    chunks = [doc[\"text\"] for doc in docs]\n",
    "    context = \"\\n\\n\".join(chunks)\n",
    "    prompt = prompt_template.format(context=context, query=query)\n",
    "    return prompt\n",
    "    \n",
    "\n",
    "in_ = input_node('query')\n",
    "vector_search_results = vector_search_model(query=in_)\n",
    "prompt = build_prompt(query=in_, docs=vector_search_results)\n",
    "answer = llm(X=prompt)\n",
    "context_llm = answer.to_graph(\"context_llm\")\n",
    "context_llm.predict_one(query)"
   ]
  }
 ],
 "metadata": {
  "kernelspec": {
   "display_name": "Python 3 (ipykernel)",
   "language": "python",
   "name": "python3"
  },
  "language_info": {
   "codemirror_mode": {
    "name": "ipython",
    "version": 3
   },
   "file_extension": ".py",
   "mimetype": "text/x-python",
   "name": "python",
   "nbconvert_exporter": "python",
   "pygments_lexer": "ipython3",
   "version": "3.10.7"
  }
 },
 "nbformat": 4,
 "nbformat_minor": 5
}
