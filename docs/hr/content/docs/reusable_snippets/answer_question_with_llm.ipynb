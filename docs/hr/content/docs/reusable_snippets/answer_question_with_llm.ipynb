{
 "cells": [
  {
   "cell_type": "markdown",
   "id": "eac27684-15cf-4439-bb34-2afc7d330614",
   "metadata": {},
   "source": [
    "<!-- TABS -->\n",
    "# Answer question with LLM"
   ]
  },
  {
   "cell_type": "code",
   "execution_count": null,
   "id": "c975509e-843e-47ff-b2c1-8b3a04dbd4e9",
   "metadata": {},
   "outputs": [],
   "source": [
    "# <tab: No-context>\n",
    "\n",
    "..."
   ]
  },
  {
   "cell_type": "code",
   "execution_count": null,
   "id": "618c737d-7936-4f0e-bb60-66327edb120e",
   "metadata": {},
   "outputs": [],
   "source": [
    "# <tab: Context>\n",
    "from pinnacledb import Graph\n",
    "\n",
    "..."
   ]
  }
 ],
 "metadata": {
  "kernelspec": {
   "display_name": "Python 3 (ipykernel)",
   "language": "python",
   "name": "python3"
  },
  "language_info": {
   "codemirror_mode": {
    "name": "ipython",
    "version": 3
   },
   "file_extension": ".py",
   "mimetype": "text/x-python",
   "name": "python",
   "nbconvert_exporter": "python",
   "pygments_lexer": "ipython3",
   "version": "3.11.7"
  }
 },
 "nbformat": 4,
 "nbformat_minor": 5
}
