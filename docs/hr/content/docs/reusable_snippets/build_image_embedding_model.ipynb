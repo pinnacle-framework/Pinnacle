{
 "cells": [
  {
   "cell_type": "markdown",
   "id": "db56aac9-cac5-49c7-99a5-012cd2ab86c5",
   "metadata": {},
   "source": [
    "<!-- TABS -->\n",
    "# Build image embedding model\n",
    "Construct a neural network architecture to project high-dimensional image data into a lower-dimensional, dense vector representation\n",
    "(embedding) that preserves relevant semantic and visual information within a learned latent space."
   ]
  },
  {
   "cell_type": "code",
   "execution_count": null,
   "id": "063bdbac-74f3-4a01-8eee-81bc62f750aa",
   "metadata": {},
   "outputs": [],
   "source": [
    "!wget https://raw.githubusercontent.com/openai/CLIP/main/CLIP.png"
   ]
  },
  {
   "cell_type": "code",
   "execution_count": null,
   "id": "654bbe96-3759-44ed-8de6-0317b717232c",
   "metadata": {},
   "outputs": [],
   "source": [
    "image_path = \"CLIP.png\""
   ]
  },
  {
   "cell_type": "code",
   "execution_count": null,
   "id": "ec250b81-e9d2-46bd-929c-c71358b5fac6",
   "metadata": {},
   "outputs": [],
   "source": [
    "# <tab: TorchVision>\n",
    "\n",
    "import torch\n",
    "import torchvision.models as models\n",
    "from torchvision import transforms\n",
    "from pinnacledb.ext.torch import TorchModel\n",
    "\n",
    "class TorchVisionEmbedding:\n",
    "    def __init__(self):\n",
    "        # Load the pre-trained ResNet-18 model\n",
    "        self.resnet = models.resnet18(pretrained=True)\n",
    "        \n",
    "        # Set the model to evaluation mode\n",
    "        self.resnet.eval()\n",
    "        \n",
    "    def preprocess(self, image):\n",
    "        # Preprocess the image\n",
    "        preprocess = preprocess = transforms.Compose([\n",
    "            transforms.Resize(256),\n",
    "            transforms.CenterCrop(224),\n",
    "            transforms.ToTensor(),\n",
    "            transforms.Normalize(mean=[0.485, 0.456, 0.406], std=[0.229, 0.224, 0.225]),\n",
    "        ])\n",
    "        tensor_image = preprocess(image)\n",
    "        return tensor_image\n",
    "        \n",
    "model = TorchVisionEmbedding()\n",
    "pinnaclemodel = TorchModel(identifier='my-vision-model-torch', object=model.resnet, preprocess=model.preprocess)"
   ]
  },
  {
   "cell_type": "code",
   "execution_count": null,
   "id": "63b72f37-041e-4b4f-bc43-6cf2259ccd48",
   "metadata": {},
   "outputs": [],
   "source": [
    "# <tab: CLIP-multimodal>\n",
    "import torch\n",
    "import clip\n",
    "from torchvision import transforms\n",
    "from pinnacledb.ext.torch import TorchModel\n",
    "\n",
    "class CLIPVisionEmbedding:\n",
    "    def __init__(self):\n",
    "        # Load the CLIP model\n",
    "        self.device = \"cuda\" if torch.cuda.is_available() else \"cpu\"\n",
    "        self.model, self.preprocess = clip.load(\"RN50\", device=self.device)\n",
    "        \n",
    "    def preprocess(self, image):\n",
    "        # Load and preprocess the image\n",
    "        image = self.preprocess(image).unsqueeze(0).to(self.device)\n",
    "        return image\n",
    "        \n",
    "model = CLIPVisionEmbedding()\n",
    "pinnaclemodel = TorchModel(identifier='my-vision-model-clip', object=model.model, preprocess=model.preprocess, forward_method='encode_image')"
   ]
  },
  {
   "cell_type": "code",
   "execution_count": null,
   "id": "c9226610-33d9-445d-9352-3073f229d8f7",
   "metadata": {},
   "outputs": [],
   "source": [
    "# <tab: HuggingFace (ViT)>\n",
    "import torch\n",
    "from transformers import AutoImageProcessor, AutoModel, AutoFeatureExtractor\n",
    "import torchvision.transforms as T\n",
    "from pinnacledb.ext.torch import TorchModel\n",
    "\n",
    "\n",
    "class HuggingFaceEmbeddings(torch.nn.Module):\n",
    "    def __init__(self):\n",
    "        super().__init__()\n",
    "        model_ckpt = \"nateraw/vit-base-beans\"\n",
    "        processor = AutoImageProcessor.from_pretrained(model_ckpt)\n",
    "        self.extractor = AutoFeatureExtractor.from_pretrained(model_ckpt)\n",
    "        self.model = AutoModel.from_pretrained(model_ckpt)\n",
    "\n",
    "    def forward(self, x):\n",
    "        return self.model(pixel_values=x).last_hidden_state[:, 0].cpu()\n",
    "        \n",
    "        \n",
    "class Preprocessor:\n",
    "    def __init__(self, extractor):\n",
    "        self.device = 'cpu'\n",
    "        # Data transformation chain.\n",
    "        self.transformation_chain = T.Compose(\n",
    "            [\n",
    "                # We first resize the input image to 256x256 and then we take center crop.\n",
    "                T.Resize(int((256 / 224) * extractor.size[\"height\"])),\n",
    "                T.CenterCrop(extractor.size[\"height\"]),\n",
    "                T.ToTensor(),\n",
    "                T.Normalize(mean=extractor.image_mean, std=extractor.image_std),\n",
    "            ]\n",
    "        )\n",
    "    def __call__(self, image):\n",
    "        return self.transformation_chain(image).to(self.device)\n",
    "\n",
    "    \n",
    "model = HuggingFaceEmbeddings()\n",
    "pinnaclemodel = TorchModel(identifier='my-vision-model-huggingface', object=model, preprocess=Preprocessor(model.extractor))"
   ]
  },
  {
   "cell_type": "code",
   "execution_count": null,
   "id": "6344cf85-873d-49ce-baac-0e3a6acc9c9b",
   "metadata": {},
   "outputs": [],
   "source": [
    "# <testing: >\n",
    "import numpy as np\n",
    "from PIL import Image\n",
    "\n",
    "embeddings = pinnaclemodel.predict_one(Image.fromarray(np.ones((256,256,3)).astype(np.uint8)))"
   ]
  },
  {
   "cell_type": "code",
   "execution_count": null,
   "id": "1dc9f034-2221-4cbb-858a-2a67c692588f",
   "metadata": {},
   "outputs": [],
   "source": [
    "model.predict_one(Image.open(image_path))"
   ]
  }
 ],
 "metadata": {
  "kernelspec": {
   "display_name": "Python 3 (ipykernel)",
   "language": "python",
   "name": "python3"
  },
  "language_info": {
   "codemirror_mode": {
    "name": "ipython",
    "version": 3
   },
   "file_extension": ".py",
   "mimetype": "text/x-python",
   "name": "python",
   "nbconvert_exporter": "python",
   "pygments_lexer": "ipython3",
   "version": "3.11.7"
  }
 },
 "nbformat": 4,
 "nbformat_minor": 5
}
