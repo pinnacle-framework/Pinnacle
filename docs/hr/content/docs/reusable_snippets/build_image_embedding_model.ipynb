{
 "cells": [
  {
   "cell_type": "markdown",
   "id": "db56aac9-cac5-49c7-99a5-012cd2ab86c5",
   "metadata": {},
   "source": [
    "<!-- TABS -->\n",
    "# Build image embedding model\n",
    "#### Construct a neural network architecture to project high-dimensional image data into a lower-dimensional, dense vector representation (embedding) that preserves relevant semantic and visual information within a learned latent space."
   ]
  },
  {
   "cell_type": "code",
   "execution_count": 1,
   "id": "ec250b81-e9d2-46bd-929c-c71358b5fac6",
   "metadata": {},
   "outputs": [
    {
     "name": "stderr",
     "output_type": "stream",
     "text": [
      "/Users/kartiksharma/Work/pinnacledb/code/pinnacledb/.venv_11/lib/python3.11/site-packages/torchvision/models/_utils.py:208: UserWarning: The parameter 'pretrained' is deprecated since 0.13 and may be removed in the future, please use 'weights' instead.\n",
      "  warnings.warn(\n",
      "/Users/kartiksharma/Work/pinnacledb/code/pinnacledb/.venv_11/lib/python3.11/site-packages/torchvision/models/_utils.py:223: UserWarning: Arguments other than a weight enum or `None` for 'weights' are deprecated since 0.13 and may be removed in the future. The current behavior is equivalent to passing `weights=ResNet18_Weights.IMAGENET1K_V1`. You can also use `weights=ResNet18_Weights.DEFAULT` to get the most up-to-date weights.\n",
      "  warnings.warn(msg)\n"
     ]
    }
   ],
   "source": [
    "# <tab: torchvision>\n",
    "# !pip install torch\n",
    "# !pip install torchvision\n",
    "\n",
    "import torch\n",
    "import torchvision.models as models\n",
    "from torchvision import transforms\n",
    "from pinnacledb.ext.torch import TorchModel\n",
    "\n",
    "class TorchVisionEmbedding:\n",
    "    def __init__(self):\n",
    "        # Load the pre-trained ResNet-18 model\n",
    "        self.resnet = models.resnet18(pretrained=True)\n",
    "        \n",
    "        # Set the model to evaluation mode\n",
    "        self.resnet.eval()\n",
    "        \n",
    "    def preprocess(self, image):\n",
    "        # Preprocess the image\n",
    "        preprocess = preprocess = transforms.Compose([\n",
    "            transforms.Resize(256),\n",
    "            transforms.CenterCrop(224),\n",
    "            transforms.ToTensor(),\n",
    "            transforms.Normalize(mean=[0.485, 0.456, 0.406], std=[0.229, 0.224, 0.225]),\n",
    "        ])\n",
    "        tensor_image = preprocess(image)\n",
    "        return tensor_image\n",
    "        \n",
    "model = TorchVisionEmbedding()\n",
    "pinnaclemodel = TorchModel(identifier='torchvision', object=model.resnet, preprocess=model.preprocess)"
   ]
  },
  {
   "cell_type": "code",
   "execution_count": 1,
   "id": "63b72f37-041e-4b4f-bc43-6cf2259ccd48",
   "metadata": {},
   "outputs": [],
   "source": [
    "# <tab: CLIP-multimodal>\n",
    "# !pip install torch\n",
    "# !pip install torchvision\n",
    "# !pip install git+https://github.com/openai/CLIP.git\n",
    "import torch\n",
    "import clip\n",
    "from torchvision import transforms\n",
    "from pinnacledb.ext.torch import TorchModel\n",
    "\n",
    "class CLIPVisionEmbedding:\n",
    "    def __init__(self):\n",
    "        # Load the CLIP model\n",
    "        self.device = \"cuda\" if torch.cuda.is_available() else \"cpu\"\n",
    "        self.model, self.preprocess = clip.load(\"RN50\", device=self.device)\n",
    "        \n",
    "    def preprocess(self, image):\n",
    "        # Load and preprocess the image\n",
    "        image = self.preprocess(image).unsqueeze(0).to(self.device)\n",
    "        return image\n",
    "        \n",
    "model = CLIPVisionEmbedding()\n",
    "pinnaclemodel = TorchModel(identifier='torchvision', object=model.model, preprocess=model.preprocess, forward_method='encode_image')"
   ]
  },
  {
   "cell_type": "code",
   "execution_count": 7,
   "id": "c9226610-33d9-445d-9352-3073f229d8f7",
   "metadata": {},
   "outputs": [
    {
     "name": "stderr",
     "output_type": "stream",
     "text": [
      "Could not find image processor class in the image processor config or the model config. Loading based on pattern matching with the model's feature extractor configuration. Please open a PR/issue to update `preprocessor_config.json` to use `image_processor_type` instead of `feature_extractor_type`. This warning will be removed in v4.40.\n",
      "Some weights of ViTModel were not initialized from the model checkpoint at nateraw/vit-base-beans and are newly initialized: ['vit.pooler.dense.bias', 'vit.pooler.dense.weight']\n",
      "You should probably TRAIN this model on a down-stream task to be able to use it for predictions and inference.\n"
     ]
    }
   ],
   "source": [
    "# <tab: HuggingFace (ViT) >\n",
    "# !pip install transformers\n",
    "# !pip install torch\n",
    "# !pip install torchvision\n",
    "import torch\n",
    "from transformers import AutoImageProcessor, AutoModel, AutoFeatureExtractor\n",
    "import torchvision.transforms as T\n",
    "from pinnacledb.ext.torch import TorchModel\n",
    "\n",
    "\n",
    "class HuggingFaceEmbeddings(torch.nn.Module):\n",
    "    def __init__(self):\n",
    "        super().__init__()\n",
    "        model_ckpt = \"nateraw/vit-base-beans\"\n",
    "        processor = AutoImageProcessor.from_pretrained(model_ckpt)\n",
    "        self.extractor = AutoFeatureExtractor.from_pretrained(model_ckpt)\n",
    "        self.model = AutoModel.from_pretrained(model_ckpt)\n",
    "\n",
    "    def forward(self, x):\n",
    "        return self.model(pixel_values=x).last_hidden_state[:, 0].cpu()\n",
    "        \n",
    "        \n",
    "class Preprocessor:\n",
    "    def __init__(self, extractor):\n",
    "        self.device = 'cpu'\n",
    "        # Data transformation chain.\n",
    "        self.transformation_chain = T.Compose(\n",
    "            [\n",
    "                # We first resize the input image to 256x256 and then we take center crop.\n",
    "                T.Resize(int((256 / 224) * extractor.size[\"height\"])),\n",
    "                T.CenterCrop(extractor.size[\"height\"]),\n",
    "                T.ToTensor(),\n",
    "                T.Normalize(mean=extractor.image_mean, std=extractor.image_std),\n",
    "            ]\n",
    "        )\n",
    "    def __call__(self, image):\n",
    "        return self.transformation_chain(image).to(self.device)\n",
    "\n",
    "\n",
    "    \n",
    "model = HuggingFaceEmbeddings()\n",
    "pinnaclemodel = TorchModel(identifier='torchvision', object=model, preprocess=Preprocessor(model.extractor))"
   ]
  },
  {
   "cell_type": "code",
   "execution_count": 2,
   "id": "6344cf85-873d-49ce-baac-0e3a6acc9c9b",
   "metadata": {},
   "outputs": [
    {
     "name": "stdout",
     "output_type": "stream",
     "text": [
      "\u001b[32m 2024-Mar-26 18:17:39.58\u001b[0m| \u001b[1mINFO    \u001b[0m | \u001b[36mkartiks-MacBook-Air.local\u001b[0m| \u001b[36mpinnacledb.components.component\u001b[0m:\u001b[36m344 \u001b[0m | \u001b[1mInitializing TorchModel : torchvision\u001b[0m\n",
      "\u001b[32m 2024-Mar-26 18:17:39.61\u001b[0m| \u001b[1mINFO    \u001b[0m | \u001b[36mkartiks-MacBook-Air.local\u001b[0m| \u001b[36mpinnacledb.components.component\u001b[0m:\u001b[36m347 \u001b[0m | \u001b[1mInitialized  TorchModel : torchvision successfully\u001b[0m\n"
     ]
    }
   ],
   "source": [
    "# <testing>\n",
    "import numpy as np\n",
    "from PIL import Image\n",
    "\n",
    "embeddings = pinnaclemodel.predict_one(Image.fromarray(np.ones((256,256,3)).astype(np.uint8)))"
   ]
  }
 ],
 "metadata": {
  "kernelspec": {
   "display_name": "Python 3 (ipykernel)",
   "language": "python",
   "name": "python3"
  },
  "language_info": {
   "codemirror_mode": {
    "name": "ipython",
    "version": 3
   },
   "file_extension": ".py",
   "mimetype": "text/x-python",
   "name": "python",
   "nbconvert_exporter": "python",
   "pygments_lexer": "ipython3",
   "version": "3.11.7"
  }
 },
 "nbformat": 4,
 "nbformat_minor": 5
}
