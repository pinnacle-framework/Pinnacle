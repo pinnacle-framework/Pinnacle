{
 "cells": [
  {
   "cell_type": "markdown",
   "id": "db56aac9-cac5-49c7-99a5-012cd2ab86c5",
   "metadata": {},
   "source": [
    "<!-- TABS -->\n",
    "# Build image embedding model\n",
    "\n",
    "..."
   ]
  },
  {
   "cell_type": "code",
   "execution_count": null,
   "id": "063bdbac-74f3-4a01-8eee-81bc62f750aa",
   "metadata": {},
   "outputs": [],
   "source": [
    "!wget https://raw.githubusercontent.com/openai/CLIP/main/CLIP.png"
   ]
  },
  {
   "cell_type": "code",
   "execution_count": null,
   "id": "654bbe96-3759-44ed-8de6-0317b717232c",
   "metadata": {},
   "outputs": [],
   "source": [
    "image_path = \"CLIP.png\""
   ]
  },
  {
   "cell_type": "code",
   "execution_count": null,
   "id": "ec250b81-e9d2-46bd-929c-c71358b5fac6",
   "metadata": {},
   "outputs": [],
   "source": [
    "# <tab: torchvision>\n",
    "..."
   ]
  },
  {
   "cell_type": "code",
   "execution_count": null,
   "id": "63b72f37-041e-4b4f-bc43-6cf2259ccd48",
   "metadata": {},
   "outputs": [],
   "source": [
    "# <tab: CLIP-multimodal>\n",
    "\n",
    "# %pip install ipython opencv-python pillow openai-clip numpy==1.24.4\n",
    "\n",
    "import clip\n",
    "from pinnacledb import vector\n",
    "from pinnacledb.ext.torch import TorchModel\n",
    "from PIL import Image\n",
    "\n",
    "# Load the CLIP model and define a tensor type\n",
    "model, preprocess = clip.load(\"RN50\")\n",
    "\n",
    "# Create a TorchModel for visual encoding\n",
    "model = TorchModel(\n",
    "    identifier='clip_image',\n",
    "    preprocess=preprocess,\n",
    "    object=model.visual,\n",
    "    datatype=vector(shape=(1024,)),\n",
    "    postprocess=lambda x: x.tolist(),\n",
    ")"
   ]
  },
  {
   "cell_type": "code",
   "execution_count": null,
   "id": "591f5a19-51f7-4a5c-be82-cf629298e1d5",
   "metadata": {},
   "outputs": [],
   "source": [
    "# <tab: OpenAI>\n",
    "..."
   ]
  },
  {
   "cell_type": "code",
   "execution_count": null,
   "id": "c9226610-33d9-445d-9352-3073f229d8f7",
   "metadata": {},
   "outputs": [],
   "source": [
    "# <tab: Other>\n",
    "..."
   ]
  },
  {
   "cell_type": "code",
   "execution_count": null,
   "id": "1dc9f034-2221-4cbb-858a-2a67c692588f",
   "metadata": {},
   "outputs": [],
   "source": [
    "model.predict_one(Image.open(image_path))"
   ]
  },
  {
   "cell_type": "code",
   "execution_count": null,
   "id": "cdcbe9b0-11ba-4b01-bdee-2ae6cf64b463",
   "metadata": {},
   "outputs": [],
   "source": []
  }
 ],
 "metadata": {
  "kernelspec": {
   "display_name": "Python 3 (ipykernel)",
   "language": "python",
   "name": "python3"
  },
  "language_info": {
   "codemirror_mode": {
    "name": "ipython",
    "version": 3
   },
   "file_extension": ".py",
   "mimetype": "text/x-python",
   "name": "python",
   "nbconvert_exporter": "python",
   "pygments_lexer": "ipython3",
   "version": "3.10.7"
  }
 },
 "nbformat": 4,
 "nbformat_minor": 5
}
