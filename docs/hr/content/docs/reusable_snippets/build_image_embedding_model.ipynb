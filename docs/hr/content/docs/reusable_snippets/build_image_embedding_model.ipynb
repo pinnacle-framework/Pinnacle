{
 "cells": [
  {
   "cell_type": "markdown",
   "id": "db56aac9-cac5-49c7-99a5-012cd2ab86c5",
   "metadata": {},
   "source": [
    "<!-- TABS -->\n",
    "# Build image embedding model\n",
    "\n",
    "..."
   ]
  },
  {
   "cell_type": "code",
   "execution_count": null,
   "id": "ec250b81-e9d2-46bd-929c-c71358b5fac6",
   "metadata": {},
   "outputs": [],
   "source": [
    "# <tab: torchvision>\n",
    "..."
   ]
  },
  {
   "cell_type": "code",
   "execution_count": null,
   "id": "63b72f37-041e-4b4f-bc43-6cf2259ccd48",
   "metadata": {},
   "outputs": [],
   "source": [
    "# <tab: CLIP-multimodal>\n",
    "..."
   ]
  },
  {
   "cell_type": "code",
   "execution_count": null,
   "id": "591f5a19-51f7-4a5c-be82-cf629298e1d5",
   "metadata": {},
   "outputs": [],
   "source": [
    "# <tab: OpenAI>\n",
    "..."
   ]
  },
  {
   "cell_type": "code",
   "execution_count": null,
   "id": "c9226610-33d9-445d-9352-3073f229d8f7",
   "metadata": {},
   "outputs": [],
   "source": [
    "# <tab: Other>\n",
    "..."
   ]
  }
 ],
 "metadata": {
  "kernelspec": {
   "display_name": "Python 3 (ipykernel)",
   "language": "python",
   "name": "python3"
  },
  "language_info": {
   "codemirror_mode": {
    "name": "ipython",
    "version": 3
   },
   "file_extension": ".py",
   "mimetype": "text/x-python",
   "name": "python",
   "nbconvert_exporter": "python",
   "pygments_lexer": "ipython3",
   "version": "3.11.7"
  }
 },
 "nbformat": 4,
 "nbformat_minor": 5
}
