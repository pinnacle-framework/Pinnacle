{
 "cells": [
  {
   "cell_type": "markdown",
   "id": "b31257e4-06fa-4cc7-9626-bb4d03fdc029",
   "metadata": {},
   "source": [
    "<!-- TABS -->\n",
    "# Create datatype"
   ]
  },
  {
   "cell_type": "code",
   "execution_count": null,
   "id": "1f8b6a95-006d-43e9-8a6a-2ae90604d8af",
   "metadata": {},
   "outputs": [],
   "source": [
    "# <testing:>\n",
    "from pinnacledb import pinnacle\n",
    "\n",
    "db = pinnacle(\"mongomock://test\")"
   ]
  },
  {
   "cell_type": "code",
   "execution_count": null,
   "id": "9ab5581c-0500-4a22-a9fd-bad8debd0314",
   "metadata": {},
   "outputs": [],
   "source": [
    "# <tab: Vector>\n",
    "from pinnacledb import vector\n",
    "\n",
    "datatype = vector(shape=(3, ))\n",
    "origin_data = [0.1, 0.2, 0.3]"
   ]
  },
  {
   "cell_type": "code",
   "execution_count": null,
   "id": "0fd1f632-fc4d-4e21-9610-51bad591bbf1",
   "metadata": {},
   "outputs": [],
   "source": [
    "# <tab: Tensor>\n",
    "from pinnacledb.ext.torch import tensor\n",
    "import torch\n",
    "\n",
    "datatype = tensor(torch.float, shape=(32, ))\n",
    "origin_data = torch.randn(32)"
   ]
  },
  {
   "cell_type": "code",
   "execution_count": null,
   "id": "9326e078-c54f-4966-afc7-a22cad48ff31",
   "metadata": {},
   "outputs": [],
   "source": [
    "# <tab: Array>\n",
    "from pinnacledb.ext.numpy import array\n",
    "import numpy as np\n",
    "\n",
    "datatype = array(dtype=\"float64\", shape=(32, ))\n",
    "origin_data = np.random.randn(32)"
   ]
  },
  {
   "cell_type": "code",
   "execution_count": null,
   "id": "5bba2555-da0b-46f2-9a1a-00c5fa107ecc",
   "metadata": {},
   "outputs": [],
   "source": [
    "# <tab: Image>\n",
    "from pinnacledb.ext.pillow import pil_image\n",
    "import PIL.Image\n",
    "\n",
    "!wget https://raw.githubusercontent.com/openai/CLIP/main/CLIP.png\n",
    "\n",
    "datatype = pil_image\n",
    "origin_data = PIL.Image.open(\"CLIP.png\")"
   ]
  },
  {
   "cell_type": "code",
   "execution_count": null,
   "id": "876cfb3b-8d2f-4950-86fb-4bf65accfb98",
   "metadata": {},
   "outputs": [],
   "source": [
    "# <tab: Audio>\n",
    "!wget https://ccrma.stanford.edu/workshops/mir2014/audio/simpleLoop.wav\n",
    "\n",
    "import librosa\n",
    "from pinnacledb.ext.numpy import array\n",
    "import numpy as np\n",
    "from IPython.display import Audio\n",
    "\n",
    "datatype = array(dtype=\"float32\", shape=(None, ))\n",
    "origin_data, fs = librosa.load('simpleLoop.wav')\n",
    "\n",
    "Audio(origin_data, rate=fs)"
   ]
  },
  {
   "cell_type": "code",
   "execution_count": null,
   "id": "e844c762-3391-401d-9047-ed8617a9c946",
   "metadata": {},
   "outputs": [],
   "source": [
    "# <tab: Video>\n",
    "from pinnacledb import DataType\n",
    "\n",
    "# Create an instance of the Encoder with the identifier 'video_on_file' and load_hybrid set to False\n",
    "datatype = DataType(\n",
    "    identifier='video_on_file',\n",
    "    encodable='artifact',\n",
    ")"
   ]
  },
  {
   "cell_type": "code",
   "execution_count": null,
   "id": "12d70f4b-fecd-4269-98c6-5c0770ac634a",
   "metadata": {},
   "outputs": [],
   "source": [
    "# <tab: Custom-in-DB>\n",
    "..."
   ]
  },
  {
   "cell_type": "code",
   "execution_count": null,
   "id": "1681d70f-9b64-426f-b619-cbd961f1913e",
   "metadata": {},
   "outputs": [],
   "source": [
    "# <tab: Custom-Artifact>\n",
    "..."
   ]
  },
  {
   "cell_type": "code",
   "execution_count": null,
   "id": "cf975a6e-4cbc-4579-94e9-81e8ca5770b0",
   "metadata": {},
   "outputs": [],
   "source": []
  },
  {
   "cell_type": "markdown",
   "id": "a66a3a08-5dbe-4dac-a9bb-5b450929bfe7",
   "metadata": {},
   "source": [
    "## Interact with the database."
   ]
  },
  {
   "cell_type": "code",
   "execution_count": null,
   "id": "9b9d11fd-ec79-45ff-bfb3-66b1bb00fd9c",
   "metadata": {},
   "outputs": [],
   "source": [
    "db.add(datatype)"
   ]
  },
  {
   "cell_type": "markdown",
   "id": "191fae84-f022-47aa-b41a-d5c029e9f1e8",
   "metadata": {},
   "source": [
    "### Insert data into the database"
   ]
  },
  {
   "cell_type": "code",
   "execution_count": null,
   "id": "bffe9ed5-db48-4232-a32c-a2888db3cb2e",
   "metadata": {},
   "outputs": [],
   "source": [
    "from pinnacledb.backends.mongodb import Collection\n",
    "from pinnacledb import Document\n",
    "collection = Collection(\"data\")"
   ]
  },
  {
   "cell_type": "code",
   "execution_count": null,
   "id": "fdb2e40d-3a12-403c-8c97-5c2ecba31972",
   "metadata": {},
   "outputs": [],
   "source": [
    "db.execute(collection.insert_one(Document({\"x\": datatype(origin_data)})))"
   ]
  },
  {
   "cell_type": "markdown",
   "id": "c9f053cd-3034-4652-95d8-8022f450f3c4",
   "metadata": {},
   "source": [
    "### Read data from the database"
   ]
  },
  {
   "cell_type": "code",
   "execution_count": null,
   "id": "e442da92-a28d-4312-a205-e4faf9e30ab7",
   "metadata": {},
   "outputs": [],
   "source": [
    "data = db.execute(collection.find_one())\n",
    "data"
   ]
  },
  {
   "cell_type": "markdown",
   "id": "225d3015-f381-44b2-b1a9-0a03ab8e5d9e",
   "metadata": {},
   "source": [
    "**Restore data to its original form**"
   ]
  },
  {
   "cell_type": "code",
   "execution_count": null,
   "id": "dfac0c53-022f-41c6-8a42-6df8e20db4e7",
   "metadata": {},
   "outputs": [],
   "source": [
    "data.unpack()"
   ]
  },
  {
   "cell_type": "code",
   "execution_count": null,
   "id": "6500d462-3205-4f82-9701-78f5ad4f2fbf",
   "metadata": {},
   "outputs": [],
   "source": [
    "data.unpack()[\"x\"]"
   ]
  },
  {
   "cell_type": "code",
   "execution_count": null,
   "id": "1ac93104-a319-4bf3-8084-38d982620a87",
   "metadata": {},
   "outputs": [],
   "source": []
  }
 ],
 "metadata": {
  "kernelspec": {
   "display_name": "Python 3 (ipykernel)",
   "language": "python",
   "name": "python3"
  },
  "language_info": {
   "codemirror_mode": {
    "name": "ipython",
    "version": 3
   },
   "file_extension": ".py",
   "mimetype": "text/x-python",
   "name": "python",
   "nbconvert_exporter": "python",
   "pygments_lexer": "ipython3",
   "version": "3.10.7"
  }
 },
 "nbformat": 4,
 "nbformat_minor": 5
}
