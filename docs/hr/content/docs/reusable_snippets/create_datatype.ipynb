{
 "cells": [
  {
   "cell_type": "markdown",
   "id": "b31257e4-06fa-4cc7-9626-bb4d03fdc029",
   "metadata": {},
   "source": [
    "<!-- TABS -->\n",
    "# Create datatype"
   ]
  },
  {
   "cell_type": "code",
   "execution_count": null,
   "id": "9ab5581c-0500-4a22-a9fd-bad8debd0314",
   "metadata": {},
   "outputs": [],
   "source": [
    "# <tab: Vector>\n",
    "from pinnacledb import vector\n",
    "\n",
    "db.add(vector)"
   ]
  },
  {
   "cell_type": "code",
   "execution_count": null,
   "id": "0fd1f632-fc4d-4e21-9610-51bad591bbf1",
   "metadata": {},
   "outputs": [],
   "source": [
    "# <tab: Tensor>\n",
    "from pinnacledb.ext.torch import tensor\n",
    "\n",
    "db.add()"
   ]
  },
  {
   "cell_type": "code",
   "execution_count": null,
   "id": "9326e078-c54f-4966-afc7-a22cad48ff31",
   "metadata": {},
   "outputs": [],
   "source": [
    "# <tab: Array>\n",
    "..."
   ]
  },
  {
   "cell_type": "code",
   "execution_count": null,
   "id": "5bba2555-da0b-46f2-9a1a-00c5fa107ecc",
   "metadata": {},
   "outputs": [],
   "source": [
    "# <tab: Image>\n",
    "from pinnacledb.ext.pillow import pil_image"
   ]
  },
  {
   "cell_type": "code",
   "execution_count": null,
   "id": "876cfb3b-8d2f-4950-86fb-4bf65accfb98",
   "metadata": {},
   "outputs": [],
   "source": [
    "# <tab: Audio>\n",
    "..."
   ]
  },
  {
   "cell_type": "code",
   "execution_count": null,
   "id": "e844c762-3391-401d-9047-ed8617a9c946",
   "metadata": {},
   "outputs": [],
   "source": [
    "# <tab: Video>\n",
    "..."
   ]
  },
  {
   "cell_type": "code",
   "execution_count": null,
   "id": "12d70f4b-fecd-4269-98c6-5c0770ac634a",
   "metadata": {},
   "outputs": [],
   "source": [
    "# <tab: Custom-in-DB>\n",
    "..."
   ]
  },
  {
   "cell_type": "code",
   "execution_count": null,
   "id": "1681d70f-9b64-426f-b619-cbd961f1913e",
   "metadata": {},
   "outputs": [],
   "source": [
    "# <tab: Custom-Artifact>\n",
    "..."
   ]
  }
 ],
 "metadata": {
  "kernelspec": {
   "display_name": "Python 3 (ipykernel)",
   "language": "python",
   "name": "python3"
  },
  "language_info": {
   "codemirror_mode": {
    "name": "ipython",
    "version": 3
   },
   "file_extension": ".py",
   "mimetype": "text/x-python",
   "name": "python",
   "nbconvert_exporter": "python",
   "pygments_lexer": "ipython3",
   "version": "3.11.7"
  }
 },
 "nbformat": 4,
 "nbformat_minor": 5
}
