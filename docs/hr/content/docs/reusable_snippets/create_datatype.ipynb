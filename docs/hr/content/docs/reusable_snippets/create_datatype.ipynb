{
 "cells": [
  {
   "cell_type": "markdown",
   "id": "b31257e4-06fa-4cc7-9626-bb4d03fdc029",
   "metadata": {},
   "source": [
    "<!-- TABS -->\n",
    "# Create datatype"
   ]
  },
  {
   "cell_type": "markdown",
   "id": "43284218",
   "metadata": {},
   "source": [
    "Data types such as \"text\" or \"integer\" which are natively support by your `db.databackend` don't need a datatype."
   ]
  },
  {
   "cell_type": "code",
   "execution_count": null,
   "id": "f7a8d08d",
   "metadata": {},
   "outputs": [],
   "source": [
    "datatype = None"
   ]
  },
  {
   "cell_type": "markdown",
   "id": "993bb111",
   "metadata": {},
   "source": [
    "Otherwise do one of the following:"
   ]
  },
  {
   "cell_type": "code",
   "execution_count": null,
   "id": "1f8b6a95-006d-43e9-8a6a-2ae90604d8af",
   "metadata": {},
   "outputs": [],
   "source": [
    "# <testing: >\n",
    "from pinnacledb import pinnacle\n",
    "\n",
    "db = pinnacle(\"mongomock://test\")"
   ]
  },
  {
   "cell_type": "code",
   "execution_count": null,
   "id": "9ab5581c-0500-4a22-a9fd-bad8debd0314",
   "metadata": {},
   "outputs": [],
   "source": [
    "# <tab: Vector>\n",
    "from pinnacledb import vector\n",
    "\n",
    "datatype = vector(shape=(3, ))"
   ]
  },
  {
   "cell_type": "code",
   "execution_count": null,
   "id": "0fd1f632-fc4d-4e21-9610-51bad591bbf1",
   "metadata": {},
   "outputs": [],
   "source": [
    "# <tab: Tensor>\n",
    "from pinnacledb.ext.torch import tensor\n",
    "import torch\n",
    "\n",
    "datatype = tensor(torch.float, shape=(32, 32, 3))"
   ]
  },
  {
   "cell_type": "code",
   "execution_count": null,
   "id": "9326e078-c54f-4966-afc7-a22cad48ff31",
   "metadata": {},
   "outputs": [],
   "source": [
    "# <tab: Array>\n",
    "from pinnacledb.ext.numpy import array\n",
    "import numpy as np\n",
    "\n",
    "datatype = array(dtype=\"float64\", shape=(32, 32, 3))"
   ]
  },
  {
   "cell_type": "code",
   "execution_count": null,
   "id": "c486d4fe",
   "metadata": {},
   "outputs": [],
   "source": [
    "# <tab: PDF>\n",
    "!pip install PyPDF2\n",
    "from pinnacledb import DataType\n",
    "from pinnacledb.components.datatype import File\n",
    "\n",
    "datatype = DataType('pdf', encodable='file')"
   ]
  },
  {
   "cell_type": "code",
   "execution_count": null,
   "id": "5bba2555-da0b-46f2-9a1a-00c5fa107ecc",
   "metadata": {},
   "outputs": [],
   "source": [
    "# <tab: Image>\n",
    "from pinnacledb.ext.pillow import pil_image\n",
    "import PIL.Image\n",
    "\n",
    "datatype = pil_image"
   ]
  },
  {
   "cell_type": "code",
   "execution_count": null,
   "id": "876cfb3b-8d2f-4950-86fb-4bf65accfb98",
   "metadata": {},
   "outputs": [],
   "source": [
    "# <tab: Audio>\n",
    "from pinnacledb.ext.numpy import array\n",
    "from pinnacledb import DataType\n",
    "import scipy.io.wavfile\n",
    "import io\n",
    "\n",
    "\n",
    "def encoder(data):\n",
    "    buffer = io.BytesIO()\n",
    "    fs = data[0]\n",
    "    content = data[1]\n",
    "    scipy.io.wavfile.write(buffer, fs, content)\n",
    "    return buffer.getvalue()\n",
    "\n",
    "\n",
    "def decoder(data):\n",
    "    buffer = io.BytesIO(data)\n",
    "    content = scipy.io.wavfile.read(buffer)\n",
    "    return content\n",
    "\n",
    "\n",
    "datatype = DataType(\n",
    "    'wav',\n",
    "    encoder=encoder,\n",
    "    decoder=decoder,\n",
    "    encodable='artifact',\n",
    ")"
   ]
  },
  {
   "cell_type": "code",
   "execution_count": null,
   "id": "a9521992",
   "metadata": {},
   "outputs": [],
   "source": [
    "# <testing: >\n",
    "!curl -O https://pinnacledb-public-demo.s3.amazonaws.com/audio.zip && unzip audio.zip\n",
    "test = scipy.io.wavfile.read('./audio/1.wav')\n",
    "datatype.decoder(datatype.encoder(test))"
   ]
  },
  {
   "cell_type": "code",
   "execution_count": null,
   "id": "e844c762-3391-401d-9047-ed8617a9c946",
   "metadata": {},
   "outputs": [],
   "source": [
    "# <tab: Video>\n",
    "from pinnacledb import DataType\n",
    "\n",
    "# Create an instance of the Encoder with the identifier 'video_on_file' and load_hybrid set to False\n",
    "datatype = DataType(\n",
    "    identifier='video_on_file',\n",
    "    encodable='artifact',\n",
    ")"
   ]
  },
  {
   "cell_type": "code",
   "execution_count": null,
   "id": "12d70f4b-fecd-4269-98c6-5c0770ac634a",
   "metadata": {},
   "outputs": [],
   "source": [
    "# <tab: Encodable>\n",
    "from pinnacledb import DataType\n",
    "import pandas as pd\n",
    "\n",
    "def encoder(x, info=None):\n",
    "    return x.to_json()\n",
    "\n",
    "def decoder(x, info):\n",
    "    return pd.read_json(x)\n",
    "    \n",
    "datatype = DataType(\n",
    "    identifier=\"pandas\",\n",
    "    encoder=encoder,\n",
    "    decoder=decoder\n",
    ")"
   ]
  },
  {
   "cell_type": "code",
   "execution_count": null,
   "id": "1681d70f-9b64-426f-b619-cbd961f1913e",
   "metadata": {},
   "outputs": [],
   "source": [
    "# <tab: Artifact>\n",
    "from pinnacledb import DataType\n",
    "import numpy as np\n",
    "import pickle\n",
    "\n",
    "\n",
    "def pickle_encode(object, info=None):\n",
    "    return pickle.dumps(object)\n",
    "\n",
    "def pickle_decode(b, info=None):\n",
    "    return pickle.loads(b)\n",
    "\n",
    "\n",
    "datatype = DataType(\n",
    "    identifier=\"VectorSearchMatrix\",\n",
    "    encoder=pickle_encode,\n",
    "    decoder=pickle_decode,\n",
    "    encodable='artifact',\n",
    ")"
   ]
  },
  {
   "cell_type": "code",
   "execution_count": null,
   "id": "9b9d11fd-ec79-45ff-bfb3-66b1bb00fd9c",
   "metadata": {},
   "outputs": [],
   "source": [
    "# <testing: >\n",
    "db.apply(datatype)\n",
    "\n",
    "from pinnacledb.backends.mongodb import Collection\n",
    "from pinnacledb import Document\n",
    "collection = Collection(\"data\")\n",
    "\n",
    "print(origin_data)\n",
    "\n",
    "db.execute(collection.insert_one(Document({\"x\": datatype(origin_data)})))\n",
    "\n",
    "data = db.execute(collection.find_one())\n",
    "print(data.unpack()[\"x\"])"
   ]
  }
 ],
 "metadata": {
  "kernelspec": {
   "display_name": "Python 3 (ipykernel)",
   "language": "python",
   "name": "python3"
  },
  "language_info": {
   "codemirror_mode": {
    "name": "ipython",
    "version": 3
   },
   "file_extension": ".py",
   "mimetype": "text/x-python",
   "name": "python",
   "nbconvert_exporter": "python",
   "pygments_lexer": "ipython3",
   "version": "3.11.7"
  }
 },
 "nbformat": 4,
 "nbformat_minor": 5
}
