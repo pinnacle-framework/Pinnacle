{
 "cells": [
  {
   "cell_type": "markdown",
   "id": "c288025e-2326-4e8b-ab52-6fb8a5f9560f",
   "metadata": {},
   "source": [
    "<!-- TABS -->\n",
    "# Transfer learning"
   ]
  },
  {
   "cell_type": "raw",
   "id": "a6b44f16-709a-4b52-beae-2b7b245e5136",
   "metadata": {},
   "source": [
    "<snippet: configure_your_production_system: *>"
   ]
  },
  {
   "cell_type": "raw",
   "id": "779f710f-647f-409e-8546-bed1d11083be",
   "metadata": {},
   "source": [
    "<snippet: start_your_cluster: *>"
   ]
  },
  {
   "cell_type": "raw",
   "id": "8699dea6-426e-4211-92ef-fe5b9b558a3c",
   "metadata": {},
   "source": [
    "<snippet: connect_to_pinnacledb: *>"
   ]
  },
  {
   "cell_type": "raw",
   "id": "f15f03ce-69b9-40a6-ac92-3a12afd5d7ae",
   "metadata": {
    "vscode": {
     "languageId": "raw"
    }
   },
   "source": [
    "<snippet: get_useful_sample_data: Text,Image>"
   ]
  },
  {
   "cell_type": "raw",
   "id": "edc50856-dd2a-4d25-9d2c-0a4237cc6460",
   "metadata": {},
   "source": [
    "<snippet: setup_tables_or_collections: *>"
   ]
  },
  {
   "cell_type": "raw",
   "id": "2521e1db-7593-43d6-ab28-fa1d08cc05c2",
   "metadata": {},
   "source": [
    "<snippet: insert_data: *>"
   ]
  },
  {
   "cell_type": "code",
   "execution_count": null,
   "id": "b5ba80bb-73c3-4894-b193-7ef05b22d3fb",
   "metadata": {},
   "outputs": [],
   "source": [
    "do_insert(data[:-len(data) // 4])"
   ]
  },
  {
   "cell_type": "raw",
   "id": "ded570f3-c23d-4552-86b3-bd03cc91fb1d",
   "metadata": {},
   "source": [
    "<snippet: compute_features: Text,Image>"
   ]
  },
  {
   "cell_type": "markdown",
   "id": "ba5b7a0b-e9ef-43aa-8ba9-9f3c7f194501",
   "metadata": {},
   "source": [
    "## Choose input key\n",
    "\n",
    "The input key to the fine-tuning model is the output of the previous listener:"
   ]
  },
  {
   "cell_type": "code",
   "execution_count": null,
   "id": "68ec763c-f68c-482a-a90c-42b0f47c377f",
   "metadata": {},
   "outputs": [],
   "source": [
    "input_key = listener.outputs"
   ]
  },
  {
   "cell_type": "raw",
   "id": "a80cd2db-6c19-4ec1-9060-d417ef9e14b7",
   "metadata": {
    "vscode": {
     "languageId": "raw"
    }
   },
   "source": [
    "<snippet: build_and_train_classifier: *>"
   ]
  }
 ],
 "metadata": {
  "kernelspec": {
   "display_name": "Python 3 (ipykernel)",
   "language": "python",
   "name": "python3"
  },
  "language_info": {
   "codemirror_mode": {
    "name": "ipython",
    "version": 3
   },
   "file_extension": ".py",
   "mimetype": "text/x-python",
   "name": "python",
   "nbconvert_exporter": "python",
   "pygments_lexer": "ipython3",
   "version": "3.11.7"
  }
 },
 "nbformat": 4,
 "nbformat_minor": 5
}
