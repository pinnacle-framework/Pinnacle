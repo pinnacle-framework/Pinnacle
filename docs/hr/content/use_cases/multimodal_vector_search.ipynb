{
 "cells": [
  {
   "cell_type": "markdown",
   "id": "38c1a328-fd86-4c5f-bd54-b8664f433608",
   "metadata": {},
   "source": [
    "<!-- TABS -->\n",
    "# Multimodal vector search"
   ]
  },
  {
   "cell_type": "markdown",
   "id": "ec24191c-ed06-4264-9cd1-c8c0d7c23f0b",
   "metadata": {},
   "source": [
    "The first step in any SuperDuperDB application is to connect to your data-backend with SuperDuperDB:"
   ]
  },
  {
   "cell_type": "markdown",
   "id": "32f8484d-2e35-472a-9b24-1a30ec1d144b",
   "metadata": {},
   "source": [
    "<!-- TABS -->\n",
    "## Connect to SuperDuperDB"
   ]
  },
  {
   "cell_type": "code",
   "execution_count": null,
   "id": "61976f44-8139-41c0-a73e-569c6d16c4b1",
   "metadata": {},
   "outputs": [],
   "source": [
    "# <tab: MongoDB>\n",
    "from pinnacledb import pinnacle\n",
    "\n",
    "db = pinnacle('mongodb://localhost:27017/documents')"
   ]
  },
  {
   "cell_type": "code",
   "execution_count": null,
   "id": "e981a457",
   "metadata": {},
   "outputs": [],
   "source": [
    "# <tab: SQLite>\n",
    "from pinnacledb import pinnacle\n",
    "\n",
    "db = pinnacle('sqlite://my_db.db')"
   ]
  },
  {
   "cell_type": "markdown",
   "id": "e40544ac-0d97-46df-8bb5-4151baa72406",
   "metadata": {},
   "source": [
    "Once you have done that you are ready to define your datatype(s) which you would like to \"search\"."
   ]
  },
  {
   "cell_type": "markdown",
   "id": "b31257e4-06fa-4cc7-9626-bb4d03fdc029",
   "metadata": {},
   "source": [
    "<!-- TABS -->\n",
    "## Create datatype"
   ]
  },
  {
   "cell_type": "code",
   "execution_count": null,
   "id": "876cfb3b-8d2f-4950-86fb-4bf65accfb98",
   "metadata": {},
   "outputs": [],
   "source": [
    "# <tab: Audio>\n",
    "..."
   ]
  },
  {
   "cell_type": "code",
   "execution_count": null,
   "id": "e844c762-3391-401d-9047-ed8617a9c946",
   "metadata": {},
   "outputs": [],
   "source": [
    "# <tab: Video>\n",
    "..."
   ]
  },
  {
   "cell_type": "markdown",
   "id": "55ad38e1",
   "metadata": {},
   "source": [
    "<!-- TABS -->\n",
    "## Insert data\n",
    "\n",
    "In order to create data, we need create a `Schema` for encoding our special `Datatype` column(s) in the databackend."
   ]
  },
  {
   "cell_type": "markdown",
   "id": "3bd99c11",
   "metadata": {},
   "source": [
    "Here's some sample data to work with:"
   ]
  },
  {
   "cell_type": "code",
   "execution_count": null,
   "id": "ed28e4e5",
   "metadata": {},
   "outputs": [],
   "source": [
    "# <tab: Text>\n",
    "!curl -O https://jupyter-sessions.s3.us-east-2.amazonaws.com/text.json\n",
    "\n",
    "import json\n",
    "with open('text.json') as f:\n",
    "    data = json.load(f)"
   ]
  },
  {
   "cell_type": "code",
   "execution_count": null,
   "id": "97f61e8c",
   "metadata": {},
   "outputs": [],
   "source": [
    "# <tab: Images>\n",
    "!curl -O https://jupyter-sessions.s3.us-east-2.amazonaws.com/images.zip\n",
    "!unzip images.zip\n",
    "\n",
    "import os\n",
    "data = [{'image': f'file://image/{file}'} for file in os.listdir('./images')]"
   ]
  },
  {
   "cell_type": "code",
   "execution_count": null,
   "id": "6f806472",
   "metadata": {},
   "outputs": [],
   "source": [
    "# <tab: Audio>\n",
    "!curl -O https://jupyter-sessions.s3.us-east-2.amazonaws.com/audio.zip\n",
    "!unzip audio.zip\n",
    "\n",
    "import os\n",
    "data = [{'audio': f'file://audio/{file}'} for file in os.listdir('./audio')]"
   ]
  },
  {
   "cell_type": "markdown",
   "id": "431c1da8",
   "metadata": {},
   "source": [
    "The next code-block is only necessary if you're working with a custom `DataType`:"
   ]
  },
  {
   "cell_type": "code",
   "execution_count": null,
   "id": "06cca365",
   "metadata": {},
   "outputs": [],
   "source": [
    "from pinnacledb import Schema, Document\n",
    "\n",
    "schema = Schema(\n",
    "    'my_schema',\n",
    "    fields={\n",
    "        'my_key': dt\n",
    "    }\n",
    ")\n",
    "\n",
    "data = [\n",
    "    Document({'my_key': item}) for item in data\n",
    "]"
   ]
  },
  {
   "cell_type": "code",
   "execution_count": null,
   "id": "91f2ac56",
   "metadata": {},
   "outputs": [],
   "source": [
    "# <tab: MongoDB>\n",
    "from pinnacledb.backends.mongodb import Collection\n",
    "\n",
    "collection = Collection('documents')\n",
    "\n",
    "db.execute(collection.insert_many(data))"
   ]
  },
  {
   "cell_type": "code",
   "execution_count": null,
   "id": "68687e87",
   "metadata": {},
   "outputs": [],
   "source": [
    "# <tab: SQL>\n",
    "from pinnacledb.backends.ibis import Table\n",
    "\n",
    "table = Table(\n",
    "    'my_table',\n",
    "    schema=schema,\n",
    ")\n",
    "\n",
    "db.add(table)\n",
    "db.execute(table.insert(data))"
   ]
  },
  {
   "cell_type": "markdown",
   "id": "254c96c1",
   "metadata": {},
   "source": [
    "<!-- TABS -->\n",
    "## Build multimodal embedding models"
   ]
  },
  {
   "cell_type": "code",
   "execution_count": null,
   "id": "1ef278e4",
   "metadata": {},
   "outputs": [],
   "source": [
    "# <tab: Text>\n",
    "\n",
    "..."
   ]
  },
  {
   "cell_type": "code",
   "execution_count": null,
   "id": "4d0e6d9a",
   "metadata": {},
   "outputs": [],
   "source": [
    "# <tab: Image>\n",
    "\n",
    "..."
   ]
  },
  {
   "cell_type": "code",
   "execution_count": null,
   "id": "ff8190c4",
   "metadata": {},
   "outputs": [],
   "source": [
    "# <tab: Text-2-Image>\n",
    "\n",
    "..."
   ]
  },
  {
   "cell_type": "markdown",
   "id": "d0f93ed4",
   "metadata": {},
   "source": [
    "<!-- TABS -->\n",
    "## Perform a vector search"
   ]
  },
  {
   "cell_type": "markdown",
   "id": "7acb5719",
   "metadata": {},
   "source": [
    "- `item` is the item which is to be encoded\n",
    "- `dt` is the `DataType` instance to apply"
   ]
  },
  {
   "cell_type": "code",
   "execution_count": null,
   "id": "75771579",
   "metadata": {},
   "outputs": [],
   "source": [
    "from pinnacledb import Document\n",
    "\n",
    "item = Document({'my_key': dt(item)})"
   ]
  },
  {
   "cell_type": "markdown",
   "id": "83e83a8a",
   "metadata": {},
   "source": [
    "Once we have this search target, we can execute a search as follows:"
   ]
  },
  {
   "cell_type": "code",
   "execution_count": null,
   "id": "1bb722ca",
   "metadata": {},
   "outputs": [],
   "source": [
    "# <tab: MongoDB>\n",
    "from pinnacledb.backends.mongodb import Collection\n",
    "\n",
    "collection = Collection('documents')\n",
    "\n",
    "select = collection.find().like(item)"
   ]
  },
  {
   "cell_type": "code",
   "execution_count": null,
   "id": "e9832fe2",
   "metadata": {},
   "outputs": [],
   "source": [
    "# <tab: SQL>\n",
    "\n",
    "# Table was created earlier, before preparing vector-search\n",
    "table = db.load('table', 'documents')\n",
    "\n",
    "select = table.like(item)"
   ]
  },
  {
   "cell_type": "code",
   "execution_count": null,
   "id": "2913306c",
   "metadata": {},
   "outputs": [],
   "source": [
    "results = db.execute(select)"
   ]
  }
 ],
 "metadata": {
  "kernelspec": {
   "display_name": "Python 3 (ipykernel)",
   "language": "python",
   "name": "python3"
  },
  "language_info": {
   "codemirror_mode": {
    "name": "ipython",
    "version": 3
   },
   "file_extension": ".py",
   "mimetype": "text/x-python",
   "name": "python",
   "nbconvert_exporter": "python",
   "pygments_lexer": "ipython3",
   "version": "3.11.7"
  }
 },
 "nbformat": 4,
 "nbformat_minor": 5
}
