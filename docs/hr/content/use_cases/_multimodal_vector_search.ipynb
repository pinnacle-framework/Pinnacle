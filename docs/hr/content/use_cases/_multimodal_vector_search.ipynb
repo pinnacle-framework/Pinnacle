{
 "cells": [
  {
   "cell_type": "markdown",
   "id": "38c1a328-fd86-4c5f-bd54-b8664f433608",
   "metadata": {},
   "source": [
    "<!-- TABS -->\n",
    "# Multimodal vector search"
   ]
  },
  {
   "cell_type": "raw",
   "id": "62f0bfea-4eb3-4009-9eb1-2828efc89908",
   "metadata": {
    "vscode": {
     "languageId": "plaintext"
    }
   },
   "source": [
    "<snippet: configure_your_production_system: *>"
   ]
  },
  {
   "cell_type": "raw",
   "id": "9c65c355-24d6-4ff0-b605-c5d78aa62a0a",
   "metadata": {},
   "source": [
    "<snippet: start_your_cluster: *>"
   ]
  },
  {
   "cell_type": "raw",
   "id": "db0ce690-8ff7-4988-a377-6b0d8a1fa9f8",
   "metadata": {},
   "source": [
    "<snippet: connect_to_pinnacledb: *>"
   ]
  },
  {
   "cell_type": "raw",
   "id": "8a84db8b-e9ec-4356-b045-b718de8ccb6c",
   "metadata": {
    "vscode": {
     "languageId": "raw"
    }
   },
   "source": [
    "<snippet: get_useful_sample_data: Text,PDF,Image,Audio,Video>"
   ]
  },
  {
   "cell_type": "raw",
   "id": "5dc961ea-1861-4877-8597-4219ae8e2700",
   "metadata": {
    "vscode": {
     "languageId": "raw"
    }
   },
   "source": [
    "<snippet: create_datatype: Text,PDF,Image,Audio,Video>"
   ]
  },
  {
   "cell_type": "raw",
   "id": "02425b91-e68f-4556-9e73-5cc09572558f",
   "metadata": {},
   "source": [
    "<snippet: setup_tables_or_collections: *>"
   ]
  },
  {
   "cell_type": "raw",
   "id": "a5475216-6260-4674-890f-b3c990db79d9",
   "metadata": {
    "vscode": {
     "languageId": "raw"
    }
   },
   "source": [
    "<snippet: insert_data: *>"
   ]
  },
  {
   "cell_type": "code",
   "execution_count": null,
   "id": "0f9d0da5-2cc1-42bf-868a-1c77f7b1d9c7",
   "metadata": {},
   "outputs": [],
   "source": [
    "do_insert(data[:-len(data) // 4])"
   ]
  },
  {
   "cell_type": "markdown",
   "id": "3b579af8-7778-48a1-bd39-dd6ddaf2a40f",
   "metadata": {},
   "source": [
    "#### Define the embedding model datatype"
   ]
  },
  {
   "cell_type": "code",
   "execution_count": null,
   "id": "c7bbdaac-e5bb-49e7-bbdc-5e123a7d3d6b",
   "metadata": {},
   "outputs": [],
   "source": [
    "# <tab: SQL>\n",
    "from pinnacledb.components.vector_index import sqlvector\n",
    "get_chunking_datatype = lambda shape: sqlvector(shape=(shape,))"
   ]
  },
  {
   "cell_type": "code",
   "execution_count": null,
   "id": "6cac2abc-3d70-4e7b-988e-357fdb622549",
   "metadata": {},
   "outputs": [],
   "source": [
    "# <tab: MongoDB>\n",
    "from pinnacledb.components.vector_index import vector\n",
    "get_chunking_datatype = lambda shape: vector(shape=(shape,))"
   ]
  },
  {
   "cell_type": "raw",
   "id": "30e82a09-5d54-4154-94cc-1b7392677036",
   "metadata": {},
   "source": [
    "<snippet: build_simple_select_queries: *>"
   ]
  },
  {
   "cell_type": "raw",
   "id": "15baed59-37a2-48a6-90bf-efde4ae574b0",
   "metadata": {},
   "source": [
    "<snippet: create_model_output_type: *>"
   ]
  },
  {
   "cell_type": "raw",
   "id": "83d06a64-3a28-4740-97e9-80bef5795759",
   "metadata": {
    "vscode": {
     "languageId": "raw"
    }
   },
   "source": [
    "<snippet: apply_a_chunker_for_search: *>"
   ]
  },
  {
   "cell_type": "raw",
   "id": "a1725b87-e687-46cc-a169-7cbe0baabe3f",
   "metadata": {
    "vscode": {
     "languageId": "plaintext"
    }
   },
   "source": [
    "<snippet: build_multimodal_embedding_models: *>"
   ]
  },
  {
   "cell_type": "raw",
   "id": "52f9f163-26f7-48fe-a57f-56fbdb220906",
   "metadata": {},
   "source": [
    "<snippet: select_outputs_of_upstream_listener: *>"
   ]
  },
  {
   "cell_type": "markdown",
   "id": "52991f9a-780c-429b-855f-578f2e629be6",
   "metadata": {},
   "source": [
    "Depending on whether we have chunked the data, \n",
    "the indexing key will be different:"
   ]
  },
  {
   "cell_type": "code",
   "execution_count": null,
   "id": "9152339b-71e3-4d13-a279-3c9823a95de9",
   "metadata": {},
   "outputs": [],
   "source": [
    "# <tab: Chunked Search>\n",
    "compatible_key = None\n",
    "if compatible_model:\n",
    "    compatible_key = 'y'"
   ]
  },
  {
   "cell_type": "code",
   "execution_count": null,
   "id": "12e75fab-8504-4d17-a7d9-f98667a5d6aa",
   "metadata": {},
   "outputs": [],
   "source": [
    "# <tab: Un-chunked Search>\n",
    "indexing_key = 'x'\n",
    "compatible_key = None\n",
    "if compatible_model:\n",
    "    compatible_key = 'y'"
   ]
  },
  {
   "cell_type": "raw",
   "id": "7eaca47f-32ab-4776-abc0-f6fa2eeb9043",
   "metadata": {
    "vscode": {
     "languageId": "plaintext"
    }
   },
   "source": [
    "<snippet: create_vector_index: *>"
   ]
  },
  {
   "cell_type": "raw",
   "id": "d661f375-f2f4-42b3-b4f1-50a2c0334a3d",
   "metadata": {
    "vscode": {
     "languageId": "plaintext"
    }
   },
   "source": [
    "<snippet: perform_a_vector_search: MongoDB,SQL>"
   ]
  },
  {
   "cell_type": "raw",
   "id": "79827d66-5a65-40e0-b39e-0f402cbb72a2",
   "metadata": {},
   "source": [
    "<snippet: visualize_results: *>"
   ]
  },
  {
   "cell_type": "markdown",
   "id": "e74a6059-1572-44d5-86af-8f6566b44cbf",
   "metadata": {},
   "source": [
    "If your use-case involved chunking, you will want to be able to recover original rows/ documents, \n",
    "after getting the result of a vector-search:"
   ]
  },
  {
   "cell_type": "code",
   "execution_count": null,
   "id": "28969f2c-b405-42a5-9e61-c38d322ccbc7",
   "metadata": {},
   "outputs": [],
   "source": [
    "# <tab: MongoDB>\n",
    "def get_original(_source):\n",
    "    return db.execute(table_or_collection.find_one({'_id': _source}))\n",
    "    \n",
    "visualization_key = upstream_listener.outputs"
   ]
  },
  {
   "cell_type": "code",
   "execution_count": null,
   "id": "ab870c0c-ce31-4fa3-bdcc-04a88ac4335c",
   "metadata": {},
   "outputs": [],
   "source": [
    "# <tab: SQL>\n",
    "def get_original(_source):\n",
    "    return next(db.execute(table_or_collection.select_using_ids([_source])))\n",
    "    \n",
    "visualization_key = indexing_key"
   ]
  },
  {
   "cell_type": "code",
   "execution_count": null,
   "id": "fc514a24-4950-4b7c-9d54-5e4c3c7b59d4",
   "metadata": {},
   "outputs": [],
   "source": [
    "show(results, visualization_key, get_original)"
   ]
  },
  {
   "cell_type": "markdown",
   "id": "693b4878-39a2-444d-8e17-72a00e6c246d",
   "metadata": {},
   "source": [
    "## Check the system stays updated"
   ]
  },
  {
   "cell_type": "code",
   "execution_count": null,
   "id": "5ef97f5a-bb41-46ca-a85e-489824741216",
   "metadata": {},
   "outputs": [],
   "source": [
    "# <tab: Development>\n",
    "\n",
    "do_insert(data[-len(data) // 4:])"
   ]
  },
  {
   "cell_type": "code",
   "execution_count": null,
   "id": "181d3905-d986-4384-857e-ec1e196c56a6",
   "metadata": {},
   "outputs": [],
   "source": [
    "# <tab: Cluster>\n",
    "\n",
    "# As an example with MongoDB, we show that inserting to/ updating the DB with a different client (potentially from different source)\n",
    "# still means that the system stays up-to-date. This should work with any Cluster mode compatible DB (see \"Configuring your production system\")\n",
    "\n",
    "collection = pymongo.MongoClient('mongodb://<mongo-host>:/27017/<database>')['<database>'].documents\n",
    "collection.insert_many([{'x': x} for x in data[-len(data) // 4:])"
   ]
  }
 ],
 "metadata": {
  "kernelspec": {
   "display_name": "Python 3 (ipykernel)",
   "language": "python",
   "name": "python3"
  },
  "language_info": {
   "codemirror_mode": {
    "name": "ipython",
    "version": 3
   },
   "file_extension": ".py",
   "mimetype": "text/x-python",
   "name": "python",
   "nbconvert_exporter": "python",
   "pygments_lexer": "ipython3",
   "version": "3.11.7"
  }
 },
 "nbformat": 4,
 "nbformat_minor": 5
}
