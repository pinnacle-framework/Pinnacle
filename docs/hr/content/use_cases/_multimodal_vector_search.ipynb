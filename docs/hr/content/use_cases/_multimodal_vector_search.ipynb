{
 "cells": [
  {
   "cell_type": "markdown",
   "id": "38c1a328-fd86-4c5f-bd54-b8664f433608",
   "metadata": {},
   "source": [
    "<!-- TABS -->\n",
    "# Multimodal vector search"
   ]
  },
  {
   "cell_type": "markdown",
   "id": "ec24191c-ed06-4264-9cd1-c8c0d7c23f0b",
   "metadata": {},
   "source": [
    "The first step in any SuperDuperDB application is to connect to your data-backend with SuperDuperDB:"
   ]
  },
  {
   "cell_type": "raw",
   "id": "db0ce690-8ff7-4988-a377-6b0d8a1fa9f8",
   "metadata": {},
   "source": [
    "<snippet: connect_to_pinnacledb: MongoDB,SQLite>"
   ]
  },
  {
   "cell_type": "markdown",
   "id": "e40544ac-0d97-46df-8bb5-4151baa72406",
   "metadata": {},
   "source": [
    "Once you have done that you are ready to define your datatype(s) which you would like to \"search\"."
   ]
  },
  {
   "cell_type": "raw",
   "id": "5dc961ea-1861-4877-8597-4219ae8e2700",
   "metadata": {},
   "source": [
    "<snippet: create_datatype: Text,PDF,Audio,Video>"
   ]
  },
  {
   "cell_type": "raw",
   "id": "a5475216-6260-4674-890f-b3c990db79d9",
   "metadata": {
    "vscode": {
     "languageId": "plaintext"
    }
   },
   "source": [
    "<snippet: insert_data: Text,PDF,Audio,Video>"
   ]
  },
  {
   "cell_type": "raw",
   "id": "a1725b87-e687-46cc-a169-7cbe0baabe3f",
   "metadata": {
    "vscode": {
     "languageId": "plaintext"
    }
   },
   "source": [
    "<snippet: build_multimodal_embedding_models: *>"
   ]
  },
  {
   "cell_type": "raw",
   "id": "d661f375-f2f4-42b3-b4f1-50a2c0334a3d",
   "metadata": {
    "vscode": {
     "languageId": "plaintext"
    }
   },
   "source": [
    "<snippet: perform_a_vector_search: MongoDB,SQL>"
   ]
  }
 ],
 "metadata": {
  "kernelspec": {
   "display_name": "Python 3 (ipykernel)",
   "language": "python",
   "name": "python3"
  },
  "language_info": {
   "codemirror_mode": {
    "name": "ipython",
    "version": 3
   },
   "file_extension": ".py",
   "mimetype": "text/x-python",
   "name": "python",
   "nbconvert_exporter": "python",
   "pygments_lexer": "ipython3",
   "version": "3.11.7"
  }
 },
 "nbformat": 4,
 "nbformat_minor": 5
}
