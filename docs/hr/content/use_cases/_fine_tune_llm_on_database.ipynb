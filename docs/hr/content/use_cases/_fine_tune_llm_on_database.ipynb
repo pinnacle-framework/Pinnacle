{
 "cells": [
  {
   "cell_type": "markdown",
   "id": "1d92f42b-7160-4965-a0ef-5e4ce46bd529",
   "metadata": {},
   "source": [
    "<!-- TABS -->\n",
    "# Fine tune LLM on database"
   ]
  },
  {
   "cell_type": "raw",
   "id": "0088fb1d-fb20-4cbe-ab14-861374e99840",
   "metadata": {},
   "source": [
    "<snippet: configure_your_production_system: *>"
   ]
  },
  {
   "cell_type": "raw",
   "id": "9c118555-a4e1-484f-a527-d3cd78996e26",
   "metadata": {},
   "source": [
    "<snippet: start_your_cluster: *>"
   ]
  },
  {
   "cell_type": "raw",
   "id": "36481c85-b12c-4f33-becd-aae5dd5652ef",
   "metadata": {},
   "source": [
    "<snippet: connect_to_pinnacledb: *>"
   ]
  },
  {
   "cell_type": "markdown",
   "id": "511b9f96-cccd-471c-86e2-b10da1dc1ad5",
   "metadata": {},
   "source": [
    "## Install related dependencies"
   ]
  },
  {
   "cell_type": "code",
   "execution_count": null,
   "id": "f3a2f58c-db34-4808-ab2f-8933bd452853",
   "metadata": {},
   "outputs": [],
   "source": [
    "!pip install transformers torch accelerate trl peft datasets"
   ]
  },
  {
   "cell_type": "raw",
   "id": "0ac5fb92-b1c2-4f16-9783-5a7dd87e3baf",
   "metadata": {},
   "source": [
    "<snippet: get_llm_finetuning_data: *>"
   ]
  },
  {
   "cell_type": "raw",
   "id": "6a7bbf1e-cbeb-42d5-8116-c2779b3531d5",
   "metadata": {},
   "source": [
    "<snippet: setup_simple_tables_or_collections: *>"
   ]
  },
  {
   "cell_type": "raw",
   "id": "f74186a4-f866-4567-9c78-d0669392018a",
   "metadata": {},
   "source": [
    "<snippet: insert_simple_data: *>"
   ]
  },
  {
   "cell_type": "code",
   "execution_count": null,
   "id": "a2ef0e1e-22ea-4af3-b914-1a3eed23a754",
   "metadata": {},
   "outputs": [],
   "source": [
    "model_name = \"facebook/opt-125m\""
   ]
  },
  {
   "cell_type": "raw",
   "id": "646abfcf-4849-4dd6-aed8-c4781bdecf9c",
   "metadata": {},
   "source": [
    "<snippet: build_a_trainable_llm: *>"
   ]
  },
  {
   "cell_type": "code",
   "execution_count": null,
   "id": "428f44f0-3ecd-4edb-85e9-aec33fbd2242",
   "metadata": {},
   "outputs": [],
   "source": [
    "llm.predict_one(input_text, max_new_tokens=200)"
   ]
  }
 ],
 "metadata": {
  "kernelspec": {
   "display_name": "Python 3 (ipykernel)",
   "language": "python",
   "name": "python3"
  },
  "language_info": {
   "codemirror_mode": {
    "name": "ipython",
    "version": 3
   },
   "file_extension": ".py",
   "mimetype": "text/x-python",
   "name": "python",
   "nbconvert_exporter": "python",
   "pygments_lexer": "ipython3",
   "version": "3.10.7"
  }
 },
 "nbformat": 4,
 "nbformat_minor": 5
}
