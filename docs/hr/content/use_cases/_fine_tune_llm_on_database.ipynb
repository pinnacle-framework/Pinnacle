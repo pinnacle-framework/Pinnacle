{
 "cells": [
  {
   "cell_type": "markdown",
   "id": "1d92f42b-7160-4965-a0ef-5e4ce46bd529",
   "metadata": {},
   "source": [
    "<!-- TABS -->\n",
    "# Fine tune LLM on database"
   ]
  },
  {
   "cell_type": "raw",
   "id": "6753db34-5337-44d8-957e-b49b7d18249d",
   "metadata": {},
   "source": [
    "<snippet: configure_your_production_system: *>"
   ]
  },
  {
   "cell_type": "raw",
   "id": "f494ab68-f672-4ddc-8577-f1da855c9384",
   "metadata": {},
   "source": [
    "<snippet: start_your_cluster: *>"
   ]
  },
  {
   "cell_type": "raw",
   "id": "36481c85-b12c-4f33-becd-aae5dd5652ef",
   "metadata": {},
   "source": [
    "<snippet: connect_to_pinnacledb: *>"
   ]
  },
  {
   "cell_type": "raw",
   "id": "0ac5fb92-b1c2-4f16-9783-5a7dd87e3baf",
   "metadata": {},
   "source": [
    "<snippet: get_useful_sample_data: Text>"
   ]
  },
  {
   "cell_type": "raw",
   "id": "6a7bbf1e-cbeb-42d5-8116-c2779b3531d5",
   "metadata": {},
   "source": [
    "<snippet: setup_tables_or_collections: *>"
   ]
  },
  {
   "cell_type": "raw",
   "id": "f74186a4-f866-4567-9c78-d0669392018a",
   "metadata": {},
   "source": [
    "<snippet: insert_data: *>"
   ]
  },
  {
   "cell_type": "code",
   "execution_count": null,
   "id": "0e82e662-bed6-4e7f-b0b0-a64c050cd5bc",
   "metadata": {},
   "outputs": [],
   "source": [
    "do_insert(data[:-len(data) // 4])"
   ]
  },
  {
   "cell_type": "code",
   "execution_count": null,
   "id": "7b467312-133d-4c0e-ae26-5cd284c0dd21",
   "metadata": {},
   "outputs": [],
   "source": [
    "#<snippet: build_a_trainable_llm: Transformers>"
   ]
  }
 ],
 "metadata": {
  "kernelspec": {
   "display_name": "Python 3 (ipykernel)",
   "language": "python",
   "name": "python3"
  },
  "language_info": {
   "codemirror_mode": {
    "name": "ipython",
    "version": 3
   },
   "file_extension": ".py",
   "mimetype": "text/x-python",
   "name": "python",
   "nbconvert_exporter": "python",
   "pygments_lexer": "ipython3",
   "version": "3.11.7"
  }
 },
 "nbformat": 4,
 "nbformat_minor": 5
}
