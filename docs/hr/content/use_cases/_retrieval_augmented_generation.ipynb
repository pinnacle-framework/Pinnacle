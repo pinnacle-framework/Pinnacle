{
 "cells": [
  {
   "cell_type": "markdown",
   "id": "38c1a328-fd86-4c5f-bd54-b8664f433608",
   "metadata": {},
   "source": [
    "<!-- TABS -->\n",
    "# Retrieval augmented generation"
   ]
  },
  {
   "cell_type": "markdown",
   "id": "ec24191c-ed06-4264-9cd1-c8c0d7c23f0b",
   "metadata": {},
   "source": [
    "The first step in any SuperDuperDB application is to connect to your data-backend with SuperDuperDB:"
   ]
  },
  {
   "cell_type": "raw",
   "id": "71cff72c-e29d-4185-b1e8-ecc36d287eea",
   "metadata": {},
   "source": [
    "<snippet: configure_your_production_system: *>"
   ]
  },
  {
   "cell_type": "raw",
   "id": "f2f29d5b-c78a-4f69-b994-335083326e6c",
   "metadata": {},
   "source": [
    "<snippet: start_your_cluster: *>"
   ]
  },
  {
   "cell_type": "raw",
   "id": "db0ce690-8ff7-4988-a377-6b0d8a1fa9f8",
   "metadata": {},
   "source": [
    "<snippet: connect_to_pinnacledb: *>"
   ]
  },
  {
   "cell_type": "raw",
   "id": "a5475216-6260-4674-890f-b3c990db79d9",
   "metadata": {
    "vscode": {
     "languageId": "plaintext"
    }
   },
   "source": [
    "<snippet: get_useful_sample_data: Text,PDF>"
   ]
  },
  {
   "cell_type": "raw",
   "id": "5b613f35-5be8-4c39-991f-bd13d64e4ffb",
   "metadata": {},
   "source": [
    "<snippet: setup_tables_or_collections: *>"
   ]
  },
  {
   "cell_type": "raw",
   "id": "367985b7-5cf0-4860-8a97-3c742e576ad9",
   "metadata": {},
   "source": [
    "<snippet: insert_data: *>"
   ]
  },
  {
   "cell_type": "code",
   "execution_count": null,
   "id": "f1630954-44f4-4949-b7d7-600d60431c25",
   "metadata": {},
   "outputs": [],
   "source": [
    "do_insert(data[:-len(data) // 4])"
   ]
  },
  {
   "cell_type": "raw",
   "id": "2e97ca17-4c02-46b3-85e5-e6d1475c1291",
   "metadata": {},
   "source": [
    "<snippet: build_simple_select_queries: *>"
   ]
  },
  {
   "cell_type": "raw",
   "id": "45455528-f371-4594-8eb6-ea723a0a782f",
   "metadata": {},
   "source": [
    "<snippet: create_model_output_type: *>"
   ]
  },
  {
   "cell_type": "raw",
   "id": "13e2bd53-4b64-4782-a557-f104993f908c",
   "metadata": {},
   "source": [
    "<snippet: apply_a_chunker_for_search: Text,PDF>"
   ]
  },
  {
   "cell_type": "raw",
   "id": "a978e2ed-2243-470d-9a05-f1fb326873db",
   "metadata": {},
   "source": [
    "<snippet: select_outputs_of_upstream_listener: *>"
   ]
  },
  {
   "cell_type": "raw",
   "id": "a1725b87-e687-46cc-a169-7cbe0baabe3f",
   "metadata": {
    "vscode": {
     "languageId": "plaintext"
    }
   },
   "source": [
    "<snippet: build_text_embedding_model: *>"
   ]
  },
  {
   "cell_type": "raw",
   "id": "2832460a-8c71-4b1b-94d3-0a62ba828b0c",
   "metadata": {},
   "source": [
    "<snippet: create_vector_index: *>"
   ]
  },
  {
   "cell_type": "code",
   "execution_count": null,
   "id": "23d9fc2c-74d7-458e-959a-a7289739b54e",
   "metadata": {},
   "outputs": [],
   "source": [
    "sample_datapoint = data[0]\n",
    "query = \"Tell me about the SuperDuperDb\""
   ]
  },
  {
   "cell_type": "raw",
   "id": "d661f375-f2f4-42b3-b4f1-50a2c0334a3d",
   "metadata": {
    "vscode": {
     "languageId": "plaintext"
    }
   },
   "source": [
    "<snippet: perform_a_vector_search: MongoDB,SQL>"
   ]
  },
  {
   "cell_type": "raw",
   "id": "72e5ed47-184f-41a3-8129-19664be615e6",
   "metadata": {},
   "source": [
    "<snippet: create_vector_search_model: MongoDB>"
   ]
  },
  {
   "cell_type": "raw",
   "id": "1a7bc500-461e-4e7c-95a2-0ff464d0dda7",
   "metadata": {
    "vscode": {
     "languageId": "plaintext"
    }
   },
   "source": [
    "<snippet: build_llm: *>"
   ]
  },
  {
   "cell_type": "raw",
   "id": "e23d177a-c61e-4a28-9f4a-3359da827f4e",
   "metadata": {},
   "source": [
    "<snippet: answer_question_with_llm: *>"
   ]
  }
 ],
 "metadata": {
  "kernelspec": {
   "display_name": "Python 3 (ipykernel)",
   "language": "python",
   "name": "python3"
  },
  "language_info": {
   "codemirror_mode": {
    "name": "ipython",
    "version": 3
   },
   "file_extension": ".py",
   "mimetype": "text/x-python",
   "name": "python",
   "nbconvert_exporter": "python",
   "pygments_lexer": "ipython3",
   "version": "3.10.7"
  }
 },
 "nbformat": 4,
 "nbformat_minor": 5
}
