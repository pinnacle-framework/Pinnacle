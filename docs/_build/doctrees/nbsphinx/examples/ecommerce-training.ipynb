{
 "cells": [
  {
   "cell_type": "code",
   "execution_count": 1,
   "id": "667047f8",
   "metadata": {
    "execution": {
     "iopub.execute_input": "2023-06-05T10:33:52.988654Z",
     "iopub.status.busy": "2023-06-05T10:33:52.988389Z",
     "iopub.status.idle": "2023-06-05T10:33:53.319821Z",
     "shell.execute_reply": "2023-06-05T10:33:53.319155Z"
    }
   },
   "outputs": [
    {
     "ename": "ModuleNotFoundError",
     "evalue": "No module named 'pinnacledb.mongodb'",
     "output_type": "error",
     "traceback": [
      "\u001b[0;31m---------------------------------------------------------------------------\u001b[0m",
      "\u001b[0;31mModuleNotFoundError\u001b[0m                       Traceback (most recent call last)",
      "Cell \u001b[0;32mIn[1], line 1\u001b[0m\n\u001b[0;32m----> 1\u001b[0m \u001b[38;5;28;01mfrom\u001b[39;00m \u001b[38;5;21;01mpinnacledb\u001b[39;00m\u001b[38;5;21;01m.\u001b[39;00m\u001b[38;5;21;01mmongodb\u001b[39;00m\u001b[38;5;21;01m.\u001b[39;00m\u001b[38;5;21;01mclient\u001b[39;00m \u001b[38;5;28;01mimport\u001b[39;00m SuperDuperClient\n\u001b[1;32m      2\u001b[0m \u001b[38;5;28;01mfrom\u001b[39;00m \u001b[38;5;21;01mIPython\u001b[39;00m\u001b[38;5;21;01m.\u001b[39;00m\u001b[38;5;21;01mdisplay\u001b[39;00m \u001b[38;5;28;01mimport\u001b[39;00m display\n\u001b[1;32m      4\u001b[0m c \u001b[38;5;241m=\u001b[39m SuperDuperClient()\n",
      "\u001b[0;31mModuleNotFoundError\u001b[0m: No module named 'pinnacledb.mongodb'"
     ]
    }
   ],
   "source": [
    "from pinnacledb.mongodb.client import SuperDuperClient\n",
    "from IPython.display import display\n",
    "\n",
    "c = SuperDuperClient()\n",
    "docs = c.ecommerce.documents"
   ]
  },
  {
   "cell_type": "code",
   "execution_count": 2,
   "id": "da84fd0f",
   "metadata": {
    "execution": {
     "iopub.execute_input": "2023-06-05T10:33:53.323075Z",
     "iopub.status.busy": "2023-06-05T10:33:53.322646Z",
     "iopub.status.idle": "2023-06-05T10:33:55.142191Z",
     "shell.execute_reply": "2023-06-05T10:33:55.141508Z"
    }
   },
   "outputs": [
    {
     "ename": "NameError",
     "evalue": "name 'docs' is not defined",
     "output_type": "error",
     "traceback": [
      "\u001b[0;31m---------------------------------------------------------------------------\u001b[0m",
      "\u001b[0;31mNameError\u001b[0m                                 Traceback (most recent call last)",
      "Cell \u001b[0;32mIn[2], line 30\u001b[0m\n\u001b[1;32m     26\u001b[0m     \u001b[38;5;28;01mdef\u001b[39;00m \u001b[38;5;21mpostprocess\u001b[39m(\u001b[38;5;28mself\u001b[39m, x):\n\u001b[1;32m     27\u001b[0m         \u001b[38;5;28;01mreturn\u001b[39;00m x\u001b[38;5;241m.\u001b[39mitem() \u001b[38;5;241m>\u001b[39m \u001b[38;5;241m0.5\u001b[39m\n\u001b[0;32m---> 30\u001b[0m \u001b[43mdocs\u001b[49m\u001b[38;5;241m.\u001b[39mcreate_model(\n\u001b[1;32m     31\u001b[0m     \u001b[38;5;124m'\u001b[39m\u001b[38;5;124mtarget\u001b[39m\u001b[38;5;124m'\u001b[39m,\n\u001b[1;32m     32\u001b[0m     Target(),\n\u001b[1;32m     33\u001b[0m     serializer\u001b[38;5;241m=\u001b[39m\u001b[38;5;124m'\u001b[39m\u001b[38;5;124mdill\u001b[39m\u001b[38;5;124m'\u001b[39m,\n\u001b[1;32m     34\u001b[0m )\n\u001b[1;32m     36\u001b[0m docs\u001b[38;5;241m.\u001b[39mcreate_model(\n\u001b[1;32m     37\u001b[0m     \u001b[38;5;124m'\u001b[39m\u001b[38;5;124mperson_detector\u001b[39m\u001b[38;5;124m'\u001b[39m,\n\u001b[1;32m     38\u001b[0m     PersonDetector(),\n\u001b[1;32m     39\u001b[0m     serializer\u001b[38;5;241m=\u001b[39m\u001b[38;5;124m'\u001b[39m\u001b[38;5;124mdill\u001b[39m\u001b[38;5;124m'\u001b[39m,\n\u001b[1;32m     40\u001b[0m )\n",
      "\u001b[0;31mNameError\u001b[0m: name 'docs' is not defined"
     ]
    }
   ],
   "source": [
    "import torch\n",
    "\n",
    "\n",
    "class Target(torch.nn.Module):\n",
    "    def __init__(self):\n",
    "        super().__init__()\n",
    "        \n",
    "    def preprocess(self, value):\n",
    "        return torch.tensor(float(value))\n",
    "    \n",
    "    def forward(self, x):\n",
    "        return x\n",
    "    \n",
    "    \n",
    "class PersonDetector(torch.nn.Module):\n",
    "    def __init__(self):\n",
    "        super().__init__()\n",
    "        self.linear = torch.nn.Linear(1024, 1)\n",
    "        \n",
    "    def preprocess(self, value):\n",
    "        return torch.tensor(value).type(torch.float)\n",
    "    \n",
    "    def forward(self, x):\n",
    "        return self.linear(x)[:, 0]\n",
    "    \n",
    "    def postprocess(self, x):\n",
    "        return x.item() > 0.5\n",
    "\n",
    "\n",
    "docs.create_model(\n",
    "    'target',\n",
    "    Target(),\n",
    "    serializer='dill',\n",
    ")\n",
    "\n",
    "docs.create_model(\n",
    "    'person_detector',\n",
    "    PersonDetector(),\n",
    "    serializer='dill',\n",
    ")"
   ]
  },
  {
   "cell_type": "code",
   "execution_count": 3,
   "id": "538da6df",
   "metadata": {
    "execution": {
     "iopub.execute_input": "2023-06-05T10:33:55.145670Z",
     "iopub.status.busy": "2023-06-05T10:33:55.145195Z",
     "iopub.status.idle": "2023-06-05T10:33:55.165787Z",
     "shell.execute_reply": "2023-06-05T10:33:55.165057Z"
    }
   },
   "outputs": [
    {
     "ename": "NameError",
     "evalue": "name 'docs' is not defined",
     "output_type": "error",
     "traceback": [
      "\u001b[0;31m---------------------------------------------------------------------------\u001b[0m",
      "\u001b[0;31mNameError\u001b[0m                                 Traceback (most recent call last)",
      "Cell \u001b[0;32mIn[3], line 1\u001b[0m\n\u001b[0;32m----> 1\u001b[0m pos_weight \u001b[38;5;241m=\u001b[39m \u001b[43mdocs\u001b[49m\u001b[38;5;241m.\u001b[39mcount_documents({\u001b[38;5;124m'\u001b[39m\u001b[38;5;124mperson\u001b[39m\u001b[38;5;124m'\u001b[39m: \u001b[38;5;28;01mTrue\u001b[39;00m}) \u001b[38;5;241m/\u001b[39m docs\u001b[38;5;241m.\u001b[39mcount_documents({\u001b[38;5;124m'\u001b[39m\u001b[38;5;124mperson\u001b[39m\u001b[38;5;124m'\u001b[39m: \u001b[38;5;28;01mFalse\u001b[39;00m})\n\u001b[1;32m      3\u001b[0m docs\u001b[38;5;241m.\u001b[39mcreate_objective(\u001b[38;5;124m'\u001b[39m\u001b[38;5;124mbce\u001b[39m\u001b[38;5;124m'\u001b[39m, torch\u001b[38;5;241m.\u001b[39mnn\u001b[38;5;241m.\u001b[39mBCEWithLogitsLoss(pos_weight\u001b[38;5;241m=\u001b[39mtorch\u001b[38;5;241m.\u001b[39mtensor(pos_weight)))\n",
      "\u001b[0;31mNameError\u001b[0m: name 'docs' is not defined"
     ]
    }
   ],
   "source": [
    "pos_weight = docs.count_documents({'person': True}) / docs.count_documents({'person': False})\n",
    "\n",
    "docs.create_objective('bce', torch.nn.BCEWithLogitsLoss(pos_weight=torch.tensor(pos_weight)))"
   ]
  },
  {
   "cell_type": "code",
   "execution_count": 4,
   "id": "ef82d58c",
   "metadata": {
    "execution": {
     "iopub.execute_input": "2023-06-05T10:33:55.168883Z",
     "iopub.status.busy": "2023-06-05T10:33:55.168452Z",
     "iopub.status.idle": "2023-06-05T10:33:55.187874Z",
     "shell.execute_reply": "2023-06-05T10:33:55.187129Z"
    }
   },
   "outputs": [
    {
     "ename": "NameError",
     "evalue": "name 'docs' is not defined",
     "output_type": "error",
     "traceback": [
      "\u001b[0;31m---------------------------------------------------------------------------\u001b[0m",
      "\u001b[0;31mNameError\u001b[0m                                 Traceback (most recent call last)",
      "Cell \u001b[0;32mIn[4], line 1\u001b[0m\n\u001b[0;32m----> 1\u001b[0m \u001b[43mdocs\u001b[49m\u001b[38;5;241m.\u001b[39mcreate_metric(\u001b[38;5;124m'\u001b[39m\u001b[38;5;124maccuracy\u001b[39m\u001b[38;5;124m'\u001b[39m, \u001b[38;5;28;01mlambda\u001b[39;00m x, y: x \u001b[38;5;241m==\u001b[39m y, serializer\u001b[38;5;241m=\u001b[39m\u001b[38;5;124m'\u001b[39m\u001b[38;5;124mdill\u001b[39m\u001b[38;5;124m'\u001b[39m)\n",
      "\u001b[0;31mNameError\u001b[0m: name 'docs' is not defined"
     ]
    }
   ],
   "source": [
    "docs.create_metric('accuracy', lambda x, y: x == y, serializer='dill')"
   ]
  },
  {
   "cell_type": "code",
   "execution_count": 5,
   "id": "1c8bd09d",
   "metadata": {
    "execution": {
     "iopub.execute_input": "2023-06-05T10:33:55.191055Z",
     "iopub.status.busy": "2023-06-05T10:33:55.190665Z",
     "iopub.status.idle": "2023-06-05T10:33:55.211126Z",
     "shell.execute_reply": "2023-06-05T10:33:55.210422Z"
    },
    "scrolled": false
   },
   "outputs": [
    {
     "ename": "NameError",
     "evalue": "name 'docs' is not defined",
     "output_type": "error",
     "traceback": [
      "\u001b[0;31m---------------------------------------------------------------------------\u001b[0m",
      "\u001b[0;31mNameError\u001b[0m                                 Traceback (most recent call last)",
      "Cell \u001b[0;32mIn[5], line 1\u001b[0m\n\u001b[0;32m----> 1\u001b[0m job_ids \u001b[38;5;241m=\u001b[39m \u001b[43mdocs\u001b[49m\u001b[38;5;241m.\u001b[39mcreate_imputation(\n\u001b[1;32m      2\u001b[0m     \u001b[38;5;124m'\u001b[39m\u001b[38;5;124mperson_imputation\u001b[39m\u001b[38;5;124m'\u001b[39m,\n\u001b[1;32m      3\u001b[0m     \u001b[38;5;124m'\u001b[39m\u001b[38;5;124mperson_detector\u001b[39m\u001b[38;5;124m'\u001b[39m,\n\u001b[1;32m      4\u001b[0m     \u001b[38;5;124m'\u001b[39m\u001b[38;5;124m_base\u001b[39m\u001b[38;5;124m'\u001b[39m,\n\u001b[1;32m      5\u001b[0m     \u001b[38;5;124m'\u001b[39m\u001b[38;5;124mtarget\u001b[39m\u001b[38;5;124m'\u001b[39m,\n\u001b[1;32m      6\u001b[0m     \u001b[38;5;124m'\u001b[39m\u001b[38;5;124mperson\u001b[39m\u001b[38;5;124m'\u001b[39m,\n\u001b[1;32m      7\u001b[0m     objective\u001b[38;5;241m=\u001b[39m\u001b[38;5;124m'\u001b[39m\u001b[38;5;124mbce\u001b[39m\u001b[38;5;124m'\u001b[39m,\n\u001b[1;32m      8\u001b[0m     metrics\u001b[38;5;241m=\u001b[39m[\u001b[38;5;124m'\u001b[39m\u001b[38;5;124maccuracy\u001b[39m\u001b[38;5;124m'\u001b[39m],\n\u001b[1;32m      9\u001b[0m     filter_\u001b[38;5;241m=\u001b[39m{\u001b[38;5;124m'\u001b[39m\u001b[38;5;124mperson\u001b[39m\u001b[38;5;124m'\u001b[39m: {\u001b[38;5;124m'\u001b[39m\u001b[38;5;124m$exists\u001b[39m\u001b[38;5;124m'\u001b[39m: \u001b[38;5;241m1\u001b[39m}},\n\u001b[1;32m     10\u001b[0m     trainer_kwargs\u001b[38;5;241m=\u001b[39m{\u001b[38;5;124m'\u001b[39m\u001b[38;5;124mfeatures\u001b[39m\u001b[38;5;124m'\u001b[39m: {\u001b[38;5;124m'\u001b[39m\u001b[38;5;124m_base\u001b[39m\u001b[38;5;124m'\u001b[39m: \u001b[38;5;124m'\u001b[39m\u001b[38;5;124mclip\u001b[39m\u001b[38;5;124m'\u001b[39m}, \u001b[38;5;124m'\u001b[39m\u001b[38;5;124mlog_interval\u001b[39m\u001b[38;5;124m'\u001b[39m: \u001b[38;5;241m50\u001b[39m},\n\u001b[1;32m     11\u001b[0m )\n",
      "\u001b[0;31mNameError\u001b[0m: name 'docs' is not defined"
     ]
    }
   ],
   "source": [
    "job_ids = docs.create_imputation(\n",
    "    'person_imputation',\n",
    "    'person_detector',\n",
    "    '_base',\n",
    "    'target',\n",
    "    'person',\n",
    "    objective='bce',\n",
    "    metrics=['accuracy'],\n",
    "    filter_={'person': {'$exists': 1}},\n",
    "    trainer_kwargs={'features': {'_base': 'clip'}, 'log_interval': 50},\n",
    ")"
   ]
  },
  {
   "cell_type": "code",
   "execution_count": 6,
   "id": "23b4ba3d",
   "metadata": {
    "execution": {
     "iopub.execute_input": "2023-06-05T10:33:55.214345Z",
     "iopub.status.busy": "2023-06-05T10:33:55.213912Z",
     "iopub.status.idle": "2023-06-05T10:33:55.232313Z",
     "shell.execute_reply": "2023-06-05T10:33:55.231626Z"
    }
   },
   "outputs": [
    {
     "ename": "NameError",
     "evalue": "name 'job_ids' is not defined",
     "output_type": "error",
     "traceback": [
      "\u001b[0;31m---------------------------------------------------------------------------\u001b[0m",
      "\u001b[0;31mNameError\u001b[0m                                 Traceback (most recent call last)",
      "Cell \u001b[0;32mIn[6], line 1\u001b[0m\n\u001b[0;32m----> 1\u001b[0m \u001b[43mjob_ids\u001b[49m\n",
      "\u001b[0;31mNameError\u001b[0m: name 'job_ids' is not defined"
     ]
    }
   ],
   "source": [
    "job_ids"
   ]
  },
  {
   "cell_type": "code",
   "execution_count": 7,
   "id": "62e76715",
   "metadata": {
    "execution": {
     "iopub.execute_input": "2023-06-05T10:33:55.235581Z",
     "iopub.status.busy": "2023-06-05T10:33:55.235029Z",
     "iopub.status.idle": "2023-06-05T10:33:55.252663Z",
     "shell.execute_reply": "2023-06-05T10:33:55.251987Z"
    },
    "scrolled": false
   },
   "outputs": [
    {
     "ename": "NameError",
     "evalue": "name 'docs' is not defined",
     "output_type": "error",
     "traceback": [
      "\u001b[0;31m---------------------------------------------------------------------------\u001b[0m",
      "\u001b[0;31mNameError\u001b[0m                                 Traceback (most recent call last)",
      "Cell \u001b[0;32mIn[7], line 1\u001b[0m\n\u001b[0;32m----> 1\u001b[0m \u001b[43mdocs\u001b[49m\u001b[38;5;241m.\u001b[39mwatch_job(job_ids[\u001b[38;5;241m0\u001b[39m])\n",
      "\u001b[0;31mNameError\u001b[0m: name 'docs' is not defined"
     ]
    }
   ],
   "source": [
    "docs.watch_job(job_ids[0])"
   ]
  },
  {
   "cell_type": "code",
   "execution_count": 8,
   "id": "2f26216a",
   "metadata": {
    "execution": {
     "iopub.execute_input": "2023-06-05T10:33:55.255660Z",
     "iopub.status.busy": "2023-06-05T10:33:55.255193Z",
     "iopub.status.idle": "2023-06-05T10:33:55.272984Z",
     "shell.execute_reply": "2023-06-05T10:33:55.272316Z"
    }
   },
   "outputs": [
    {
     "ename": "NameError",
     "evalue": "name 'docs' is not defined",
     "output_type": "error",
     "traceback": [
      "\u001b[0;31m---------------------------------------------------------------------------\u001b[0m",
      "\u001b[0;31mNameError\u001b[0m                                 Traceback (most recent call last)",
      "Cell \u001b[0;32mIn[8], line 1\u001b[0m\n\u001b[0;32m----> 1\u001b[0m \u001b[43mdocs\u001b[49m\u001b[38;5;241m.\u001b[39mlist_models()\n",
      "\u001b[0;31mNameError\u001b[0m: name 'docs' is not defined"
     ]
    }
   ],
   "source": [
    "docs.list_models()"
   ]
  },
  {
   "cell_type": "code",
   "execution_count": 9,
   "id": "05f4a1de",
   "metadata": {
    "execution": {
     "iopub.execute_input": "2023-06-05T10:33:55.275790Z",
     "iopub.status.busy": "2023-06-05T10:33:55.275353Z",
     "iopub.status.idle": "2023-06-05T10:33:55.297766Z",
     "shell.execute_reply": "2023-06-05T10:33:55.297135Z"
    },
    "scrolled": false
   },
   "outputs": [
    {
     "ename": "NameError",
     "evalue": "name 'docs' is not defined",
     "output_type": "error",
     "traceback": [
      "\u001b[0;31m---------------------------------------------------------------------------\u001b[0m",
      "\u001b[0;31mNameError\u001b[0m                                 Traceback (most recent call last)",
      "Cell \u001b[0;32mIn[9], line 1\u001b[0m\n\u001b[0;32m----> 1\u001b[0m _id \u001b[38;5;241m=\u001b[39m \u001b[38;5;28mnext\u001b[39m(\u001b[43mdocs\u001b[49m\u001b[38;5;241m.\u001b[39maggregate([\n\u001b[1;32m      2\u001b[0m     {\u001b[38;5;124m'\u001b[39m\u001b[38;5;124m$match\u001b[39m\u001b[38;5;124m'\u001b[39m: {}},\n\u001b[1;32m      3\u001b[0m     {\u001b[38;5;124m'\u001b[39m\u001b[38;5;124m$sample\u001b[39m\u001b[38;5;124m'\u001b[39m: {\u001b[38;5;124m'\u001b[39m\u001b[38;5;124msize\u001b[39m\u001b[38;5;124m'\u001b[39m: \u001b[38;5;241m1\u001b[39m}},\n\u001b[1;32m      4\u001b[0m     {\u001b[38;5;124m'\u001b[39m\u001b[38;5;124m$project\u001b[39m\u001b[38;5;124m'\u001b[39m: {\u001b[38;5;124m'\u001b[39m\u001b[38;5;124m_id\u001b[39m\u001b[38;5;124m'\u001b[39m: \u001b[38;5;241m1\u001b[39m}}\n\u001b[1;32m      5\u001b[0m ]))[\u001b[38;5;124m'\u001b[39m\u001b[38;5;124m_id\u001b[39m\u001b[38;5;124m'\u001b[39m]\n\u001b[1;32m      7\u001b[0m r \u001b[38;5;241m=\u001b[39m docs\u001b[38;5;241m.\u001b[39mfind_one({\u001b[38;5;124m'\u001b[39m\u001b[38;5;124m_id\u001b[39m\u001b[38;5;124m'\u001b[39m: _id})\n\u001b[1;32m      9\u001b[0m display(r[\u001b[38;5;124m'\u001b[39m\u001b[38;5;124mimg\u001b[39m\u001b[38;5;124m'\u001b[39m])\n",
      "\u001b[0;31mNameError\u001b[0m: name 'docs' is not defined"
     ]
    }
   ],
   "source": [
    "_id = next(docs.aggregate([\n",
    "    {'$match': {}},\n",
    "    {'$sample': {'size': 1}},\n",
    "    {'$project': {'_id': 1}}\n",
    "]))['_id']\n",
    "\n",
    "r = docs.find_one({'_id': _id})\n",
    "\n",
    "display(r['img'])\n",
    "docs.apply_model('person_detector', r['_outputs']['_base']['clip'])"
   ]
  },
  {
   "cell_type": "code",
   "execution_count": 10,
   "id": "901102ad",
   "metadata": {
    "execution": {
     "iopub.execute_input": "2023-06-05T10:33:55.300979Z",
     "iopub.status.busy": "2023-06-05T10:33:55.300399Z",
     "iopub.status.idle": "2023-06-05T10:33:55.322683Z",
     "shell.execute_reply": "2023-06-05T10:33:55.322010Z"
    }
   },
   "outputs": [
    {
     "ename": "NameError",
     "evalue": "name 'docs' is not defined",
     "output_type": "error",
     "traceback": [
      "\u001b[0;31m---------------------------------------------------------------------------\u001b[0m",
      "\u001b[0;31mNameError\u001b[0m                                 Traceback (most recent call last)",
      "Cell \u001b[0;32mIn[10], line 1\u001b[0m\n\u001b[0;32m----> 1\u001b[0m \u001b[43mdocs\u001b[49m\u001b[38;5;241m.\u001b[39mdelete_imputation(\u001b[38;5;124m'\u001b[39m\u001b[38;5;124mperson_imputation\u001b[39m\u001b[38;5;124m'\u001b[39m, force\u001b[38;5;241m=\u001b[39m\u001b[38;5;28;01mTrue\u001b[39;00m)\n\u001b[1;32m      2\u001b[0m docs\u001b[38;5;241m.\u001b[39mdelete_objective(\u001b[38;5;124m'\u001b[39m\u001b[38;5;124mbce\u001b[39m\u001b[38;5;124m'\u001b[39m, force\u001b[38;5;241m=\u001b[39m\u001b[38;5;28;01mTrue\u001b[39;00m)\n\u001b[1;32m      3\u001b[0m docs\u001b[38;5;241m.\u001b[39mdelete_metric(\u001b[38;5;124m'\u001b[39m\u001b[38;5;124maccuracy\u001b[39m\u001b[38;5;124m'\u001b[39m, force\u001b[38;5;241m=\u001b[39m\u001b[38;5;28;01mTrue\u001b[39;00m)\n",
      "\u001b[0;31mNameError\u001b[0m: name 'docs' is not defined"
     ]
    }
   ],
   "source": [
    "docs.delete_imputation('person_imputation', force=True)\n",
    "docs.delete_objective('bce', force=True)\n",
    "docs.delete_metric('accuracy', force=True)\n",
    "docs.delete_model('person_detector', force=True)\n",
    "docs.delete_model('target', force=True)"
   ]
  }
 ],
 "metadata": {
  "kernelspec": {
   "display_name": "Python 3 (ipykernel)",
   "language": "python",
   "name": "python3"
  },
  "language_info": {
   "codemirror_mode": {
    "name": "ipython",
    "version": 3
   },
   "file_extension": ".py",
   "mimetype": "text/x-python",
   "name": "python",
   "nbconvert_exporter": "python",
   "pygments_lexer": "ipython3",
   "version": "3.10.6"
  }
 },
 "nbformat": 4,
 "nbformat_minor": 5
}
