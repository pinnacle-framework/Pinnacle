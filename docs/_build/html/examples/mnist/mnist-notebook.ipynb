{
 "cells": [
  {
   "cell_type": "markdown",
   "id": "2a6ac9b2",
   "metadata": {},
   "source": [
    "# MNIST: Handwritten digit recognition with SuperDuperDB"
   ]
  },
  {
   "cell_type": "markdown",
   "id": "8c096450",
   "metadata": {},
   "source": [
    "First we import the SuperDuperDB client, and create a fresh collection."
   ]
  },
  {
   "cell_type": "code",
   "execution_count": 1,
   "id": "32752579",
   "metadata": {},
   "outputs": [],
   "source": [
    "from pinnacledb.mongodb.client import SuperDuperClient\n",
    "\n",
    "the_client = SuperDuperClient()\n",
    "\n",
    "import torchvision\n",
    "\n",
    "docs = the_client.mnist.digits"
   ]
  },
  {
   "cell_type": "markdown",
   "id": "c5938a97",
   "metadata": {},
   "source": [
    "The data is available as `PIL.Image` images with labels in the `torchvision` package:"
   ]
  },
  {
   "cell_type": "code",
   "execution_count": 2,
   "id": "a767f640",
   "metadata": {},
   "outputs": [],
   "source": [
    "import random\n",
    "\n",
    "mnist_data = list(torchvision.datasets.MNIST(root='./data', download=True))\n",
    "random.shuffle(mnist_data)"
   ]
  },
  {
   "cell_type": "markdown",
   "id": "9d6c4852",
   "metadata": {},
   "source": [
    "SuperDuperDB is based on MongoDB, which does not support images and tensors and other special data types out of the box. In order to remedy this, we create custom SuperDuperDB **types**.\n",
    "These types handle:\n",
    "    \n",
    "- How to store images as bytes in SuperDuperDB and how to reinstantiate the images from the bytes\n",
    "- How to store tensors in SuperDuperDB and how to retrieve these from the database again\n",
    "\n",
    "We do this by creating the classes in python with `.encode` and `.decode` methods:"
   ]
  },
  {
   "cell_type": "code",
   "execution_count": 3,
   "id": "1c57a18d",
   "metadata": {},
   "outputs": [
    {
     "name": "stdout",
     "output_type": "stream",
     "text": [
      "\u001b[38;2;0;128;0;01mimport\u001b[39;00m \u001b[38;2;0;0;255;01mio\u001b[39;00m\r\n",
      "\u001b[38;2;0;128;0;01mimport\u001b[39;00m \u001b[38;2;0;0;255;01mnumpy\u001b[39;00m\r\n",
      "\u001b[38;2;0;128;0;01mimport\u001b[39;00m \u001b[38;2;0;0;255;01mPIL\u001b[39;00m\u001b[38;2;0;0;255;01m.\u001b[39;00m\u001b[38;2;0;0;255;01mImage\u001b[39;00m\r\n",
      "\u001b[38;2;0;128;0;01mimport\u001b[39;00m \u001b[38;2;0;0;255;01mPIL\u001b[39;00m\u001b[38;2;0;0;255;01m.\u001b[39;00m\u001b[38;2;0;0;255;01mJpegImagePlugin\u001b[39;00m\r\n",
      "\u001b[38;2;0;128;0;01mimport\u001b[39;00m \u001b[38;2;0;0;255;01mtorch\u001b[39;00m\r\n",
      "\r\n",
      "\r\n",
      "\u001b[38;2;0;128;0;01mclass\u001b[39;00m \u001b[38;2;0;0;255;01mImage\u001b[39;00m:\r\n",
      "    types \u001b[38;2;102;102;102m=\u001b[39m (PIL\u001b[38;2;102;102;102m.\u001b[39mJpegImagePlugin\u001b[38;2;102;102;102m.\u001b[39mJpegImageFile, PIL\u001b[38;2;102;102;102m.\u001b[39mImage\u001b[38;2;102;102;102m.\u001b[39mImage)\r\n",
      "\r\n",
      "    \u001b[38;2;170;34;255m@staticmethod\u001b[39m\r\n",
      "    \u001b[38;2;0;128;0;01mdef\u001b[39;00m \u001b[38;2;0;0;255mencode\u001b[39m(x):\r\n",
      "        buffer \u001b[38;2;102;102;102m=\u001b[39m io\u001b[38;2;102;102;102m.\u001b[39mBytesIO()\r\n",
      "        x\u001b[38;2;102;102;102m.\u001b[39msave(buffer, \u001b[38;2;0;128;0mformat\u001b[39m\u001b[38;2;102;102;102m=\u001b[39m\u001b[38;2;186;33;33m'\u001b[39m\u001b[38;2;186;33;33mpng\u001b[39m\u001b[38;2;186;33;33m'\u001b[39m)\r\n",
      "        \u001b[38;2;0;128;0;01mreturn\u001b[39;00m buffer\u001b[38;2;102;102;102m.\u001b[39mgetvalue()\r\n",
      "\r\n",
      "    \u001b[38;2;170;34;255m@staticmethod\u001b[39m\r\n",
      "    \u001b[38;2;0;128;0;01mdef\u001b[39;00m \u001b[38;2;0;0;255mdecode\u001b[39m(bytes_):\r\n",
      "        \u001b[38;2;0;128;0;01mreturn\u001b[39;00m PIL\u001b[38;2;102;102;102m.\u001b[39mImage\u001b[38;2;102;102;102m.\u001b[39mopen(io\u001b[38;2;102;102;102m.\u001b[39mBytesIO(bytes_))\r\n",
      "\r\n",
      "\r\n",
      "\u001b[38;2;0;128;0;01mclass\u001b[39;00m \u001b[38;2;0;0;255;01mFloatTensor\u001b[39;00m:\r\n",
      "    types \u001b[38;2;102;102;102m=\u001b[39m (torch\u001b[38;2;102;102;102m.\u001b[39mFloatTensor, torch\u001b[38;2;102;102;102m.\u001b[39mTensor)\r\n",
      "\r\n",
      "    \u001b[38;2;170;34;255m@staticmethod\u001b[39m\r\n",
      "    \u001b[38;2;0;128;0;01mdef\u001b[39;00m \u001b[38;2;0;0;255mencode\u001b[39m(x):\r\n",
      "        x \u001b[38;2;102;102;102m=\u001b[39m x\u001b[38;2;102;102;102m.\u001b[39mnumpy()\r\n",
      "        \u001b[38;2;0;128;0;01massert\u001b[39;00m x\u001b[38;2;102;102;102m.\u001b[39mdtype \u001b[38;2;102;102;102m==\u001b[39m numpy\u001b[38;2;102;102;102m.\u001b[39mfloat32\r\n",
      "        \u001b[38;2;0;128;0;01mreturn\u001b[39;00m \u001b[38;2;0;128;0mmemoryview\u001b[39m(x)\u001b[38;2;102;102;102m.\u001b[39mtobytes()\r\n",
      "\r\n",
      "    \u001b[38;2;170;34;255m@staticmethod\u001b[39m\r\n",
      "    \u001b[38;2;0;128;0;01mdef\u001b[39;00m \u001b[38;2;0;0;255mdecode\u001b[39m(bytes_):\r\n",
      "        array \u001b[38;2;102;102;102m=\u001b[39m numpy\u001b[38;2;102;102;102m.\u001b[39mfrombuffer(bytes_, dtype\u001b[38;2;102;102;102m=\u001b[39mnumpy\u001b[38;2;102;102;102m.\u001b[39mfloat32)\r\n",
      "        \u001b[38;2;0;128;0;01mreturn\u001b[39;00m torch\u001b[38;2;102;102;102m.\u001b[39mfrom_numpy(array)\u001b[38;2;102;102;102m.\u001b[39mtype(torch\u001b[38;2;102;102;102m.\u001b[39mfloat)\r\n"
     ]
    }
   ],
   "source": [
    "!pygmentize examples/types.py"
   ]
  },
  {
   "cell_type": "markdown",
   "id": "39fcc7a8",
   "metadata": {},
   "source": [
    "Once these classes are ready, one can import the classes, and add instances of these to SuperDuperDB, giving each type a suitable name:"
   ]
  },
  {
   "cell_type": "code",
   "execution_count": 4,
   "id": "d53db4cf",
   "metadata": {},
   "outputs": [],
   "source": [
    "from examples.types import Image, FloatTensor\n",
    "\n",
    "docs.create_type('image', Image)\n",
    "docs.create_type('float_tensor', FloatTensor)"
   ]
  },
  {
   "cell_type": "markdown",
   "id": "0fde0ff4",
   "metadata": {},
   "source": [
    "Now we have these custom types, we can insert the data into SuperDuperDB:"
   ]
  },
  {
   "cell_type": "code",
   "execution_count": 5,
   "id": "ab329bef",
   "metadata": {
    "scrolled": false
   },
   "outputs": [
    {
     "name": "stdout",
     "output_type": "stream",
     "text": [
      "downloading content from retrieved urls\n",
      "found 0 urls\n"
     ]
    },
    {
     "data": {
      "text/plain": [
       "<pymongo.results.InsertManyResult at 0x1648c44f0>"
      ]
     },
     "execution_count": 5,
     "metadata": {},
     "output_type": "execute_result"
    }
   ],
   "source": [
    "docs.insert_many([{'img': x[0], 'class': x[1]} for x in mnist_data[:-1000]])"
   ]
  },
  {
   "cell_type": "markdown",
   "id": "cb82b244",
   "metadata": {},
   "source": [
    "You'll see that when we fetch data from the database, it's in exactly the form that we want."
   ]
  },
  {
   "cell_type": "code",
   "execution_count": 6,
   "id": "c2bd297f",
   "metadata": {},
   "outputs": [
    {
     "data": {
      "text/plain": [
       "{'_id': ObjectId('640939c0deb71bb414652022'),\n",
       " 'img': <PIL.PngImagePlugin.PngImageFile image mode=L size=28x28>,\n",
       " 'class': 9,\n",
       " '_fold': 'train'}"
      ]
     },
     "execution_count": 6,
     "metadata": {},
     "output_type": "execute_result"
    }
   ],
   "source": [
    "docs.find_one()"
   ]
  },
  {
   "cell_type": "code",
   "execution_count": 7,
   "id": "e0db28bd",
   "metadata": {},
   "outputs": [
    {
     "data": {
      "image/png": "[encoded data removed]",
      "text/plain": [
       "<PIL.PngImagePlugin.PngImageFile image mode=L size=28x28>"
      ]
     },
     "execution_count": 7,
     "metadata": {},
     "output_type": "execute_result"
    }
   ],
   "source": [
    "docs.find_one()['img']"
   ]
  },
  {
   "cell_type": "markdown",
   "id": "43f47ac2",
   "metadata": {},
   "source": [
    "Now that we've added the data to SuperDuperDB, we're ready to create a model. This is a simple PyTorch model implementing the iconic [LeNet architecture](https://en.wikipedia.org/wiki/LeNet). In addition to the standard PyTorch `.forward` method, SuperDuperDB allows users to specify `.preprocess` and `.postprocess` methods which define respectively:\n",
    "\n",
    "- how the data is converted from the in-database form, to tensor\n",
    "- from the output form back into the form to be stored in the database"
   ]
  },
  {
   "cell_type": "code",
   "execution_count": 8,
   "id": "4008cf72",
   "metadata": {},
   "outputs": [
    {
     "name": "stdout",
     "output_type": "stream",
     "text": [
      "\u001b[38;2;0;128;0;01mimport\u001b[39;00m \u001b[38;2;0;0;255;01mtorch\u001b[39;00m\r\n",
      "\u001b[38;2;0;128;0;01mfrom\u001b[39;00m \u001b[38;2;0;0;255;01mtorchvision\u001b[39;00m \u001b[38;2;0;128;0;01mimport\u001b[39;00m transforms\r\n",
      "\r\n",
      "\r\n",
      "\u001b[38;2;0;128;0;01mdef\u001b[39;00m \u001b[38;2;0;0;255mlabel\u001b[39m(x):\r\n",
      "    \u001b[38;2;0;128;0;01mreturn\u001b[39;00m torch\u001b[38;2;102;102;102m.\u001b[39mtensor(x)\r\n",
      "\r\n",
      "\r\n",
      "\u001b[38;2;0;128;0;01mclass\u001b[39;00m \u001b[38;2;0;0;255;01mLeNet5\u001b[39;00m(torch\u001b[38;2;102;102;102m.\u001b[39mnn\u001b[38;2;102;102;102m.\u001b[39mModule):\r\n",
      "    \u001b[38;2;0;128;0;01mdef\u001b[39;00m \u001b[38;2;0;0;255m__init__\u001b[39m(\u001b[38;2;0;128;0mself\u001b[39m, num_classes):\r\n",
      "        \u001b[38;2;0;128;0msuper\u001b[39m()\u001b[38;2;102;102;102m.\u001b[39m\u001b[38;2;0;0;255m__init__\u001b[39m()\r\n",
      "        \u001b[38;2;0;128;0mself\u001b[39m\u001b[38;2;102;102;102m.\u001b[39mlayer1 \u001b[38;2;102;102;102m=\u001b[39m torch\u001b[38;2;102;102;102m.\u001b[39mnn\u001b[38;2;102;102;102m.\u001b[39mSequential(\r\n",
      "            torch\u001b[38;2;102;102;102m.\u001b[39mnn\u001b[38;2;102;102;102m.\u001b[39mConv2d(\u001b[38;2;102;102;102m1\u001b[39m, \u001b[38;2;102;102;102m6\u001b[39m, kernel_size\u001b[38;2;102;102;102m=\u001b[39m\u001b[38;2;102;102;102m5\u001b[39m, stride\u001b[38;2;102;102;102m=\u001b[39m\u001b[38;2;102;102;102m1\u001b[39m, padding\u001b[38;2;102;102;102m=\u001b[39m\u001b[38;2;102;102;102m0\u001b[39m),\r\n",
      "            torch\u001b[38;2;102;102;102m.\u001b[39mnn\u001b[38;2;102;102;102m.\u001b[39mBatchNorm2d(\u001b[38;2;102;102;102m6\u001b[39m),\r\n",
      "            torch\u001b[38;2;102;102;102m.\u001b[39mnn\u001b[38;2;102;102;102m.\u001b[39mReLU(),\r\n",
      "            torch\u001b[38;2;102;102;102m.\u001b[39mnn\u001b[38;2;102;102;102m.\u001b[39mMaxPool2d(kernel_size\u001b[38;2;102;102;102m=\u001b[39m\u001b[38;2;102;102;102m2\u001b[39m, stride\u001b[38;2;102;102;102m=\u001b[39m\u001b[38;2;102;102;102m2\u001b[39m))\r\n",
      "        \u001b[38;2;0;128;0mself\u001b[39m\u001b[38;2;102;102;102m.\u001b[39mlayer2 \u001b[38;2;102;102;102m=\u001b[39m torch\u001b[38;2;102;102;102m.\u001b[39mnn\u001b[38;2;102;102;102m.\u001b[39mSequential(\r\n",
      "            torch\u001b[38;2;102;102;102m.\u001b[39mnn\u001b[38;2;102;102;102m.\u001b[39mConv2d(\u001b[38;2;102;102;102m6\u001b[39m, \u001b[38;2;102;102;102m16\u001b[39m, kernel_size\u001b[38;2;102;102;102m=\u001b[39m\u001b[38;2;102;102;102m5\u001b[39m, stride\u001b[38;2;102;102;102m=\u001b[39m\u001b[38;2;102;102;102m1\u001b[39m, padding\u001b[38;2;102;102;102m=\u001b[39m\u001b[38;2;102;102;102m0\u001b[39m),\r\n",
      "            torch\u001b[38;2;102;102;102m.\u001b[39mnn\u001b[38;2;102;102;102m.\u001b[39mBatchNorm2d(\u001b[38;2;102;102;102m16\u001b[39m),\r\n",
      "            torch\u001b[38;2;102;102;102m.\u001b[39mnn\u001b[38;2;102;102;102m.\u001b[39mReLU(),\r\n",
      "            torch\u001b[38;2;102;102;102m.\u001b[39mnn\u001b[38;2;102;102;102m.\u001b[39mMaxPool2d(kernel_size\u001b[38;2;102;102;102m=\u001b[39m\u001b[38;2;102;102;102m2\u001b[39m, stride\u001b[38;2;102;102;102m=\u001b[39m\u001b[38;2;102;102;102m2\u001b[39m))\r\n",
      "        \u001b[38;2;0;128;0mself\u001b[39m\u001b[38;2;102;102;102m.\u001b[39mfc \u001b[38;2;102;102;102m=\u001b[39m torch\u001b[38;2;102;102;102m.\u001b[39mnn\u001b[38;2;102;102;102m.\u001b[39mLinear(\u001b[38;2;102;102;102m400\u001b[39m, \u001b[38;2;102;102;102m120\u001b[39m)\r\n",
      "        \u001b[38;2;0;128;0mself\u001b[39m\u001b[38;2;102;102;102m.\u001b[39mrelu \u001b[38;2;102;102;102m=\u001b[39m torch\u001b[38;2;102;102;102m.\u001b[39mnn\u001b[38;2;102;102;102m.\u001b[39mReLU()\r\n",
      "        \u001b[38;2;0;128;0mself\u001b[39m\u001b[38;2;102;102;102m.\u001b[39mfc1 \u001b[38;2;102;102;102m=\u001b[39m torch\u001b[38;2;102;102;102m.\u001b[39mnn\u001b[38;2;102;102;102m.\u001b[39mLinear(\u001b[38;2;102;102;102m120\u001b[39m, \u001b[38;2;102;102;102m84\u001b[39m)\r\n",
      "        \u001b[38;2;0;128;0mself\u001b[39m\u001b[38;2;102;102;102m.\u001b[39mrelu1 \u001b[38;2;102;102;102m=\u001b[39m torch\u001b[38;2;102;102;102m.\u001b[39mnn\u001b[38;2;102;102;102m.\u001b[39mReLU()\r\n",
      "        \u001b[38;2;0;128;0mself\u001b[39m\u001b[38;2;102;102;102m.\u001b[39mfc2 \u001b[38;2;102;102;102m=\u001b[39m torch\u001b[38;2;102;102;102m.\u001b[39mnn\u001b[38;2;102;102;102m.\u001b[39mLinear(\u001b[38;2;102;102;102m84\u001b[39m, num_classes)\r\n",
      "\r\n",
      "    \u001b[38;2;0;128;0;01mdef\u001b[39;00m \u001b[38;2;0;0;255mpreprocess\u001b[39m(\u001b[38;2;0;128;0mself\u001b[39m, x):\r\n",
      "        \u001b[38;2;0;128;0;01mreturn\u001b[39;00m transforms\u001b[38;2;102;102;102m.\u001b[39mCompose([\r\n",
      "            transforms\u001b[38;2;102;102;102m.\u001b[39mResize((\u001b[38;2;102;102;102m32\u001b[39m, \u001b[38;2;102;102;102m32\u001b[39m)),\r\n",
      "            transforms\u001b[38;2;102;102;102m.\u001b[39mToTensor(),\r\n",
      "            transforms\u001b[38;2;102;102;102m.\u001b[39mNormalize(mean\u001b[38;2;102;102;102m=\u001b[39m(\u001b[38;2;102;102;102m0.1307\u001b[39m,), std\u001b[38;2;102;102;102m=\u001b[39m(\u001b[38;2;102;102;102m0.3081\u001b[39m,))]\r\n",
      "        )(x)\r\n",
      "\r\n",
      "    \u001b[38;2;0;128;0;01mdef\u001b[39;00m \u001b[38;2;0;0;255mforward\u001b[39m(\u001b[38;2;0;128;0mself\u001b[39m, x):\r\n",
      "        out \u001b[38;2;102;102;102m=\u001b[39m \u001b[38;2;0;128;0mself\u001b[39m\u001b[38;2;102;102;102m.\u001b[39mlayer1(x)\r\n",
      "        out \u001b[38;2;102;102;102m=\u001b[39m \u001b[38;2;0;128;0mself\u001b[39m\u001b[38;2;102;102;102m.\u001b[39mlayer2(out)\r\n",
      "        out \u001b[38;2;102;102;102m=\u001b[39m out\u001b[38;2;102;102;102m.\u001b[39mreshape(out\u001b[38;2;102;102;102m.\u001b[39msize(\u001b[38;2;102;102;102m0\u001b[39m), \u001b[38;2;102;102;102m-\u001b[39m\u001b[38;2;102;102;102m1\u001b[39m)\r\n",
      "        out \u001b[38;2;102;102;102m=\u001b[39m \u001b[38;2;0;128;0mself\u001b[39m\u001b[38;2;102;102;102m.\u001b[39mfc(out)\r\n",
      "        out \u001b[38;2;102;102;102m=\u001b[39m \u001b[38;2;0;128;0mself\u001b[39m\u001b[38;2;102;102;102m.\u001b[39mrelu(out)\r\n",
      "        out \u001b[38;2;102;102;102m=\u001b[39m \u001b[38;2;0;128;0mself\u001b[39m\u001b[38;2;102;102;102m.\u001b[39mfc1(out)\r\n",
      "        out \u001b[38;2;102;102;102m=\u001b[39m \u001b[38;2;0;128;0mself\u001b[39m\u001b[38;2;102;102;102m.\u001b[39mrelu1(out)\r\n",
      "        out \u001b[38;2;102;102;102m=\u001b[39m \u001b[38;2;0;128;0mself\u001b[39m\u001b[38;2;102;102;102m.\u001b[39mfc2(out)\r\n",
      "        \u001b[38;2;0;128;0;01mreturn\u001b[39;00m out\r\n",
      "\r\n",
      "    \u001b[38;2;0;128;0;01mdef\u001b[39;00m \u001b[38;2;0;0;255mpostprocess\u001b[39m(\u001b[38;2;0;128;0mself\u001b[39m, x):\r\n",
      "        \u001b[38;2;0;128;0;01mreturn\u001b[39;00m \u001b[38;2;0;128;0mint\u001b[39m(x\u001b[38;2;102;102;102m.\u001b[39mtopk(\u001b[38;2;102;102;102m1\u001b[39m)[\u001b[38;2;102;102;102m1\u001b[39m]\u001b[38;2;102;102;102m.\u001b[39mitem())\r\n"
     ]
    }
   ],
   "source": [
    "!pygmentize examples/mnist/models.py"
   ]
  },
  {
   "cell_type": "markdown",
   "id": "cac1be87",
   "metadata": {},
   "source": [
    "Let's test this model on a single image. `Collection.apply_model` applies serially the `preprocess`, `forward` and `postprocess` methods, creating a singleton batch prior to the `forward` and unpacking the batch after the `forward`."
   ]
  },
  {
   "cell_type": "code",
   "execution_count": 9,
   "id": "793093a8",
   "metadata": {},
   "outputs": [
    {
     "data": {
      "text/plain": [
       "2"
      ]
     },
     "execution_count": 9,
     "metadata": {},
     "output_type": "execute_result"
    }
   ],
   "source": [
    "from examples.mnist.models import LeNet5, label\n",
    "\n",
    "docs.apply_model(LeNet5(10), docs.find()[23]['img'])"
   ]
  },
  {
   "cell_type": "markdown",
   "id": "ce812615",
   "metadata": {},
   "source": [
    "Now that we have our model we need a target for learning - for this we use `label`:"
   ]
  },
  {
   "cell_type": "code",
   "execution_count": 10,
   "id": "e5615985",
   "metadata": {},
   "outputs": [],
   "source": [
    "docs.create_model('lenet', LeNet5(10))\n",
    "docs.create_function('label', label)"
   ]
  },
  {
   "cell_type": "markdown",
   "id": "79fead4f",
   "metadata": {},
   "source": [
    "Finally we need a loss function - this is a vanilla `torch` function, so we don't need to write extra code:"
   ]
  },
  {
   "cell_type": "code",
   "execution_count": 11,
   "id": "6a055b96",
   "metadata": {},
   "outputs": [],
   "source": [
    "import torch\n",
    "\n",
    "docs.create_objective('classification', torch.nn.CrossEntropyLoss())"
   ]
  },
  {
   "cell_type": "markdown",
   "id": "3637fcfd",
   "metadata": {},
   "source": [
    "And a metric to measure performance:"
   ]
  },
  {
   "cell_type": "code",
   "execution_count": 2,
   "id": "7c00ff79",
   "metadata": {},
   "outputs": [
    {
     "name": "stdout",
     "output_type": "stream",
     "text": [
      "\u001b[38;2;0;128;0;01mdef\u001b[39;00m \u001b[38;2;0;0;255maccuracy\u001b[39m(x, y):\r\n",
      "    \u001b[38;2;0;128;0;01mreturn\u001b[39;00m x \u001b[38;2;102;102;102m==\u001b[39m y\r\n"
     ]
    }
   ],
   "source": [
    "!pygmentize examples/mnist/metrics.py"
   ]
  },
  {
   "cell_type": "code",
   "execution_count": 12,
   "id": "552eb1d1",
   "metadata": {},
   "outputs": [],
   "source": [
    "from examples.mnist.metrics import accuracy\n",
    "\n",
    "docs.create_metric('accuracy', accuracy)"
   ]
  },
  {
   "cell_type": "markdown",
   "id": "f2dd18b1",
   "metadata": {},
   "source": [
    "When measuring performance, SuperDuperDB requires users to create a separate validation set, which is saved for posterity and reproducibility reasons - edits and deletes on the main collection don't affect this validation set."
   ]
  },
  {
   "cell_type": "code",
   "execution_count": 13,
   "id": "43a550cd",
   "metadata": {},
   "outputs": [
    {
     "data": {
      "application/json": {
       "ascii": false,
       "bar_format": null,
       "colour": null,
       "elapsed": 0.014932870864868164,
       "initial": 0,
       "n": 0,
       "ncols": null,
       "nrows": 48,
       "postfix": null,
       "prefix": "",
       "rate": null,
       "total": 250,
       "unit": "it",
       "unit_divisor": 1000,
       "unit_scale": false
      },
      "application/vnd.jupyter.widget-view+json": {
       "model_id": "e3b28d18b1d64c73bd870f38c5e298fc",
       "version_major": 2,
       "version_minor": 0
      },
      "text/plain": [
       "  0%|          | 0/250 [00:00<?, ?it/s]"
      ]
     },
     "metadata": {},
     "output_type": "display_data"
    },
    {
     "name": "stdout",
     "output_type": "stream",
     "text": [
      "downloading content from retrieved urls\n",
      "found 0 urls\n"
     ]
    }
   ],
   "source": [
    "docs.create_validation_set('classification', sample_size=250)"
   ]
  },
  {
   "cell_type": "markdown",
   "id": "483f5746",
   "metadata": {},
   "source": [
    "Now we're ready to create the model using the `Collection.create_imputation`. This trains a model to predict one part of the data using another part, specified respectively by `model_key` and `target_key`; these are subkeys of the collection documents."
   ]
  },
  {
   "cell_type": "code",
   "execution_count": 14,
   "id": "81f37e03",
   "metadata": {
    "scrolled": false
   },
   "outputs": [
    {
     "name": "stdout",
     "output_type": "stream",
     "text": [
      "downloading ids for {'_fold': 'train'}\n"
     ]
    },
    {
     "data": {
      "application/json": {
       "ascii": false,
       "bar_format": null,
       "colour": null,
       "elapsed": 0.018311023712158203,
       "initial": 0,
       "n": 0,
       "ncols": null,
       "nrows": 48,
       "postfix": null,
       "prefix": "",
       "rate": null,
       "total": 56016,
       "unit": "it",
       "unit_divisor": 1000,
       "unit_scale": false
      },
      "application/vnd.jupyter.widget-view+json": {
       "model_id": "13cf6e9d990044639d0df96ca5bb0622",
       "version_major": 2,
       "version_minor": 0
      },
      "text/plain": [
       "  0%|          | 0/56016 [00:00<?, ?it/s]"
      ]
     },
     "metadata": {},
     "output_type": "display_data"
    },
    {
     "name": "stdout",
     "output_type": "stream",
     "text": [
      "downloading records for {'_fold': 'valid'}\n"
     ]
    },
    {
     "data": {
      "application/json": {
       "ascii": false,
       "bar_format": null,
       "colour": null,
       "elapsed": 0.01367807388305664,
       "initial": 0,
       "n": 0,
       "ncols": null,
       "nrows": 48,
       "postfix": null,
       "prefix": "",
       "rate": null,
       "total": 2984,
       "unit": "it",
       "unit_divisor": 1000,
       "unit_scale": false
      },
      "application/vnd.jupyter.widget-view+json": {
       "model_id": "b03310a7e13c46d088bbf637d4cdff0a",
       "version_major": 2,
       "version_minor": 0
      },
      "text/plain": [
       "  0%|          | 0/2984 [00:00<?, ?it/s]"
      ]
     },
     "metadata": {},
     "output_type": "display_data"
    },
    {
     "data": {
      "application/json": {
       "ascii": false,
       "bar_format": null,
       "colour": null,
       "elapsed": 0.00998997688293457,
       "initial": 0,
       "n": 0,
       "ncols": null,
       "nrows": 48,
       "postfix": null,
       "prefix": "",
       "rate": null,
       "total": 250,
       "unit": "it",
       "unit_divisor": 1000,
       "unit_scale": false
      },
      "application/vnd.jupyter.widget-view+json": {
       "model_id": "10361cd272f647b3951b61fe79b6537f",
       "version_major": 2,
       "version_minor": 0
      },
      "text/plain": [
       "  0%|          | 0/250 [00:00<?, ?it/s]"
      ]
     },
     "metadata": {},
     "output_type": "display_data"
    },
    {
     "name": "stdout",
     "output_type": "stream",
     "text": [
      "fold: VALID; iteration: 0; epoch: 0; classification/accuracy: 0.128; objective: 2.3055715958277383; \n",
      "fold: TRAIN; iteration: 0; epoch: 0; objective: 2.310838222503662; \n",
      "fold: TRAIN; iteration: 1; epoch: 0; objective: 2.3019590377807617; \n",
      "fold: TRAIN; iteration: 2; epoch: 0; objective: 2.2987663745880127; \n",
      "fold: TRAIN; iteration: 3; epoch: 0; objective: 2.2918174266815186; \n",
      "fold: TRAIN; iteration: 4; epoch: 0; objective: 2.3130290508270264; \n",
      "fold: TRAIN; iteration: 5; epoch: 0; objective: 2.2971832752227783; \n",
      "fold: TRAIN; iteration: 6; epoch: 0; objective: 2.2927095890045166; \n",
      "fold: TRAIN; iteration: 7; epoch: 0; objective: 2.2802178859710693; \n",
      "fold: TRAIN; iteration: 8; epoch: 0; objective: 2.2643985748291016; \n",
      "fold: TRAIN; iteration: 9; epoch: 0; objective: 2.2746851444244385; \n",
      "fold: TRAIN; iteration: 10; epoch: 0; objective: 2.2708656787872314; \n",
      "fold: TRAIN; iteration: 11; epoch: 0; objective: 2.2572407722473145; \n",
      "fold: TRAIN; iteration: 12; epoch: 0; objective: 2.2763054370880127; \n",
      "fold: TRAIN; iteration: 13; epoch: 0; objective: 2.2742810249328613; \n",
      "fold: TRAIN; iteration: 14; epoch: 0; objective: 2.240481376647949; \n",
      "fold: TRAIN; iteration: 15; epoch: 0; objective: 2.2443747520446777; \n",
      "fold: TRAIN; iteration: 16; epoch: 0; objective: 2.2417118549346924; \n",
      "fold: TRAIN; iteration: 17; epoch: 0; objective: 2.2242300510406494; \n",
      "fold: TRAIN; iteration: 18; epoch: 0; objective: 2.230186700820923; \n",
      "fold: TRAIN; iteration: 19; epoch: 0; objective: 2.2232446670532227; \n",
      "fold: TRAIN; iteration: 20; epoch: 0; objective: 2.23201060295105; \n",
      "fold: TRAIN; iteration: 21; epoch: 0; objective: 2.221383571624756; \n",
      "fold: TRAIN; iteration: 22; epoch: 0; objective: 2.231064558029175; \n",
      "fold: TRAIN; iteration: 23; epoch: 0; objective: 2.189814805984497; \n",
      "fold: TRAIN; iteration: 24; epoch: 0; objective: 2.2066588401794434; \n",
      "fold: TRAIN; iteration: 25; epoch: 0; objective: 2.20032000541687; \n",
      "fold: TRAIN; iteration: 26; epoch: 0; objective: 2.1905267238616943; \n",
      "fold: TRAIN; iteration: 27; epoch: 0; objective: 2.191971778869629; \n",
      "fold: TRAIN; iteration: 28; epoch: 0; objective: 2.222308874130249; \n",
      "fold: TRAIN; iteration: 29; epoch: 0; objective: 2.1937296390533447; \n",
      "fold: TRAIN; iteration: 30; epoch: 0; objective: 2.201678514480591; \n",
      "fold: TRAIN; iteration: 31; epoch: 0; objective: 2.186317205429077; \n",
      "fold: TRAIN; iteration: 32; epoch: 0; objective: 2.1836304664611816; \n",
      "fold: TRAIN; iteration: 33; epoch: 0; objective: 2.152305841445923; \n",
      "fold: TRAIN; iteration: 34; epoch: 0; objective: 2.1612279415130615; \n",
      "fold: TRAIN; iteration: 35; epoch: 0; objective: 2.1549460887908936; \n",
      "fold: TRAIN; iteration: 36; epoch: 0; objective: 2.123807430267334; \n",
      "fold: TRAIN; iteration: 37; epoch: 0; objective: 2.1742539405822754; \n",
      "fold: TRAIN; iteration: 38; epoch: 0; objective: 2.1392128467559814; \n",
      "fold: TRAIN; iteration: 39; epoch: 0; objective: 2.118628740310669; \n",
      "fold: TRAIN; iteration: 40; epoch: 0; objective: 2.098876953125; \n",
      "fold: TRAIN; iteration: 41; epoch: 0; objective: 2.1176273822784424; \n",
      "fold: TRAIN; iteration: 42; epoch: 0; objective: 2.095907688140869; \n",
      "fold: TRAIN; iteration: 43; epoch: 0; objective: 2.0902345180511475; \n",
      "fold: TRAIN; iteration: 44; epoch: 0; objective: 2.1053011417388916; \n",
      "fold: TRAIN; iteration: 45; epoch: 0; objective: 2.097560167312622; \n",
      "fold: TRAIN; iteration: 46; epoch: 0; objective: 2.1280877590179443; \n",
      "fold: TRAIN; iteration: 47; epoch: 0; objective: 2.0910983085632324; \n",
      "fold: TRAIN; iteration: 48; epoch: 0; objective: 2.085329532623291; \n",
      "fold: TRAIN; iteration: 49; epoch: 0; objective: 2.0326993465423584; \n",
      "validating model...\n"
     ]
    },
    {
     "data": {
      "application/json": {
       "ascii": false,
       "bar_format": null,
       "colour": null,
       "elapsed": 0.016219139099121094,
       "initial": 0,
       "n": 0,
       "ncols": null,
       "nrows": 48,
       "postfix": null,
       "prefix": "",
       "rate": null,
       "total": 250,
       "unit": "it",
       "unit_divisor": 1000,
       "unit_scale": false
      },
      "application/vnd.jupyter.widget-view+json": {
       "model_id": "1e8b62829a0f4207b4a08af61cc04bd9",
       "version_major": 2,
       "version_minor": 0
      },
      "text/plain": [
       "  0%|          | 0/250 [00:00<?, ?it/s]"
      ]
     },
     "metadata": {},
     "output_type": "display_data"
    },
    {
     "name": "stdout",
     "output_type": "stream",
     "text": [
      "saving\n",
      "fold: VALID; iteration: 50; epoch: 0; classification/accuracy: 0.636; objective: 2.054457982381185; \n",
      "fold: TRAIN; iteration: 50; epoch: 0; objective: 2.0717613697052; \n",
      "fold: TRAIN; iteration: 51; epoch: 0; objective: 2.0102880001068115; \n",
      "fold: TRAIN; iteration: 52; epoch: 0; objective: 2.069875717163086; \n",
      "fold: TRAIN; iteration: 53; epoch: 0; objective: 2.0292677879333496; \n",
      "fold: TRAIN; iteration: 54; epoch: 0; objective: 2.004089832305908; \n",
      "fold: TRAIN; iteration: 55; epoch: 0; objective: 2.0182459354400635; \n",
      "fold: TRAIN; iteration: 56; epoch: 0; objective: 2.0281577110290527; \n",
      "fold: TRAIN; iteration: 57; epoch: 0; objective: 1.9787588119506836; \n",
      "fold: TRAIN; iteration: 58; epoch: 0; objective: 1.9663032293319702; \n",
      "fold: TRAIN; iteration: 59; epoch: 0; objective: 2.023878574371338; \n",
      "fold: TRAIN; iteration: 60; epoch: 0; objective: 1.9459357261657715; \n",
      "fold: TRAIN; iteration: 61; epoch: 0; objective: 1.9742985963821411; \n",
      "fold: TRAIN; iteration: 62; epoch: 0; objective: 1.980777621269226; \n",
      "fold: TRAIN; iteration: 63; epoch: 0; objective: 1.9434759616851807; \n",
      "fold: TRAIN; iteration: 64; epoch: 0; objective: 1.9335590600967407; \n",
      "fold: TRAIN; iteration: 65; epoch: 0; objective: 1.9321327209472656; \n",
      "fold: TRAIN; iteration: 66; epoch: 0; objective: 1.853693962097168; \n",
      "fold: TRAIN; iteration: 67; epoch: 0; objective: 1.9227592945098877; \n",
      "fold: TRAIN; iteration: 68; epoch: 0; objective: 1.8437542915344238; \n",
      "fold: TRAIN; iteration: 69; epoch: 0; objective: 1.8896273374557495; \n",
      "fold: TRAIN; iteration: 70; epoch: 0; objective: 1.910170316696167; \n",
      "fold: TRAIN; iteration: 71; epoch: 0; objective: 1.8621375560760498; \n",
      "fold: TRAIN; iteration: 72; epoch: 0; objective: 1.8786550760269165; \n",
      "fold: TRAIN; iteration: 73; epoch: 0; objective: 1.8270928859710693; \n",
      "fold: TRAIN; iteration: 74; epoch: 0; objective: 1.8318077325820923; \n",
      "fold: TRAIN; iteration: 75; epoch: 0; objective: 1.820070743560791; \n",
      "fold: TRAIN; iteration: 76; epoch: 0; objective: 1.809736967086792; \n",
      "fold: TRAIN; iteration: 77; epoch: 0; objective: 1.7768149375915527; \n",
      "fold: TRAIN; iteration: 78; epoch: 0; objective: 1.8290742635726929; \n",
      "fold: TRAIN; iteration: 79; epoch: 0; objective: 1.814958095550537; \n",
      "fold: TRAIN; iteration: 80; epoch: 0; objective: 1.7288267612457275; \n",
      "fold: TRAIN; iteration: 81; epoch: 0; objective: 1.7588648796081543; \n",
      "fold: TRAIN; iteration: 82; epoch: 0; objective: 1.7029422521591187; \n",
      "fold: TRAIN; iteration: 83; epoch: 0; objective: 1.774856686592102; \n",
      "fold: TRAIN; iteration: 84; epoch: 0; objective: 1.7120606899261475; \n",
      "fold: TRAIN; iteration: 85; epoch: 0; objective: 1.7923997640609741; \n",
      "fold: TRAIN; iteration: 86; epoch: 0; objective: 1.7656019926071167; \n",
      "fold: TRAIN; iteration: 87; epoch: 0; objective: 1.6691231727600098; \n",
      "fold: TRAIN; iteration: 88; epoch: 0; objective: 1.6414614915847778; \n",
      "fold: TRAIN; iteration: 89; epoch: 0; objective: 1.6890171766281128; \n",
      "fold: TRAIN; iteration: 90; epoch: 0; objective: 1.7111713886260986; \n",
      "fold: TRAIN; iteration: 91; epoch: 0; objective: 1.685795783996582; \n",
      "fold: TRAIN; iteration: 92; epoch: 0; objective: 1.5962841510772705; \n",
      "fold: TRAIN; iteration: 93; epoch: 0; objective: 1.5551676750183105; \n",
      "fold: TRAIN; iteration: 94; epoch: 0; objective: 1.5782983303070068; \n",
      "fold: TRAIN; iteration: 95; epoch: 0; objective: 1.666873812675476; \n",
      "fold: TRAIN; iteration: 96; epoch: 0; objective: 1.4971923828125; \n",
      "fold: TRAIN; iteration: 97; epoch: 0; objective: 1.4665902853012085; \n",
      "fold: TRAIN; iteration: 98; epoch: 0; objective: 1.550472617149353; \n",
      "fold: TRAIN; iteration: 99; epoch: 0; objective: 1.5015666484832764; \n",
      "validating model...\n"
     ]
    },
    {
     "data": {
      "application/json": {
       "ascii": false,
       "bar_format": null,
       "colour": null,
       "elapsed": 0.014489173889160156,
       "initial": 0,
       "n": 0,
       "ncols": null,
       "nrows": 48,
       "postfix": null,
       "prefix": "",
       "rate": null,
       "total": 250,
       "unit": "it",
       "unit_divisor": 1000,
       "unit_scale": false
      },
      "application/vnd.jupyter.widget-view+json": {
       "model_id": "7de1864b1fe54a498bee14147aa479ba",
       "version_major": 2,
       "version_minor": 0
      },
      "text/plain": [
       "  0%|          | 0/250 [00:00<?, ?it/s]"
      ]
     },
     "metadata": {},
     "output_type": "display_data"
    },
    {
     "name": "stdout",
     "output_type": "stream",
     "text": [
      "saving\n",
      "fold: VALID; iteration: 100; epoch: 0; classification/accuracy: 0.748; objective: 1.5308185736338298; \n",
      "fold: TRAIN; iteration: 100; epoch: 0; objective: 1.5345566272735596; \n",
      "fold: TRAIN; iteration: 101; epoch: 0; objective: 1.5447643995285034; \n",
      "fold: TRAIN; iteration: 102; epoch: 0; objective: 1.4872162342071533; \n",
      "fold: TRAIN; iteration: 103; epoch: 0; objective: 1.453231930732727; \n",
      "fold: TRAIN; iteration: 104; epoch: 0; objective: 1.4502145051956177; \n",
      "fold: TRAIN; iteration: 105; epoch: 0; objective: 1.429458737373352; \n",
      "fold: TRAIN; iteration: 106; epoch: 0; objective: 1.42157781124115; \n",
      "fold: TRAIN; iteration: 107; epoch: 0; objective: 1.4337852001190186; \n",
      "fold: TRAIN; iteration: 108; epoch: 0; objective: 1.5017353296279907; \n",
      "fold: TRAIN; iteration: 109; epoch: 0; objective: 1.4283941984176636; \n",
      "fold: TRAIN; iteration: 110; epoch: 0; objective: 1.3568757772445679; \n",
      "fold: TRAIN; iteration: 111; epoch: 0; objective: 1.3992199897766113; \n",
      "fold: TRAIN; iteration: 112; epoch: 0; objective: 1.2998061180114746; \n",
      "fold: TRAIN; iteration: 113; epoch: 0; objective: 1.348673701286316; \n",
      "fold: TRAIN; iteration: 114; epoch: 0; objective: 1.3355510234832764; \n",
      "fold: TRAIN; iteration: 115; epoch: 0; objective: 1.3205708265304565; \n",
      "fold: TRAIN; iteration: 116; epoch: 0; objective: 1.356518268585205; \n",
      "fold: TRAIN; iteration: 117; epoch: 0; objective: 1.3585901260375977; \n",
      "fold: TRAIN; iteration: 118; epoch: 0; objective: 1.2454502582550049; \n",
      "fold: TRAIN; iteration: 119; epoch: 0; objective: 1.2127875089645386; \n",
      "fold: TRAIN; iteration: 120; epoch: 0; objective: 1.254333734512329; \n",
      "fold: TRAIN; iteration: 121; epoch: 0; objective: 1.2212485074996948; \n",
      "fold: TRAIN; iteration: 122; epoch: 0; objective: 1.391768217086792; \n",
      "fold: TRAIN; iteration: 123; epoch: 0; objective: 1.1916247606277466; \n",
      "fold: TRAIN; iteration: 124; epoch: 0; objective: 1.2337502241134644; \n",
      "fold: TRAIN; iteration: 125; epoch: 0; objective: 1.1357847452163696; \n",
      "fold: TRAIN; iteration: 126; epoch: 0; objective: 1.2383034229278564; \n",
      "fold: TRAIN; iteration: 127; epoch: 0; objective: 1.1987026929855347; \n",
      "fold: TRAIN; iteration: 128; epoch: 0; objective: 1.1135581731796265; \n",
      "fold: TRAIN; iteration: 129; epoch: 0; objective: 1.2195497751235962; \n",
      "fold: TRAIN; iteration: 130; epoch: 0; objective: 1.0503194332122803; \n",
      "fold: TRAIN; iteration: 131; epoch: 0; objective: 1.1405937671661377; \n",
      "fold: TRAIN; iteration: 132; epoch: 0; objective: 1.0727030038833618; \n",
      "fold: TRAIN; iteration: 133; epoch: 0; objective: 1.1074434518814087; \n",
      "fold: TRAIN; iteration: 134; epoch: 0; objective: 1.1902740001678467; \n",
      "fold: TRAIN; iteration: 135; epoch: 0; objective: 1.0426946878433228; \n",
      "fold: TRAIN; iteration: 136; epoch: 0; objective: 1.0806156396865845; \n",
      "fold: TRAIN; iteration: 137; epoch: 0; objective: 1.04219651222229; \n",
      "fold: TRAIN; iteration: 138; epoch: 0; objective: 1.0237847566604614; \n",
      "fold: TRAIN; iteration: 139; epoch: 0; objective: 1.0467559099197388; \n",
      "fold: TRAIN; iteration: 140; epoch: 0; objective: 1.0045491456985474; \n",
      "fold: TRAIN; iteration: 141; epoch: 0; objective: 1.0031249523162842; \n",
      "fold: TRAIN; iteration: 142; epoch: 0; objective: 1.0193610191345215; \n",
      "fold: TRAIN; iteration: 143; epoch: 0; objective: 0.9413273334503174; \n",
      "fold: TRAIN; iteration: 144; epoch: 0; objective: 0.9462146162986755; \n",
      "fold: TRAIN; iteration: 145; epoch: 0; objective: 0.9844214916229248; \n",
      "fold: TRAIN; iteration: 146; epoch: 0; objective: 0.9676988124847412; \n",
      "fold: TRAIN; iteration: 147; epoch: 0; objective: 1.0017226934432983; \n",
      "fold: TRAIN; iteration: 148; epoch: 0; objective: 0.9925052523612976; \n",
      "fold: TRAIN; iteration: 149; epoch: 0; objective: 0.9905155301094055; \n",
      "validating model...\n"
     ]
    },
    {
     "data": {
      "application/json": {
       "ascii": false,
       "bar_format": null,
       "colour": null,
       "elapsed": 0.015022039413452148,
       "initial": 0,
       "n": 0,
       "ncols": null,
       "nrows": 48,
       "postfix": null,
       "prefix": "",
       "rate": null,
       "total": 250,
       "unit": "it",
       "unit_divisor": 1000,
       "unit_scale": false
      },
      "application/vnd.jupyter.widget-view+json": {
       "model_id": "8a25a2975beb4eff962ba4cf64bbc436",
       "version_major": 2,
       "version_minor": 0
      },
      "text/plain": [
       "  0%|          | 0/250 [00:00<?, ?it/s]"
      ]
     },
     "metadata": {},
     "output_type": "display_data"
    },
    {
     "name": "stdout",
     "output_type": "stream",
     "text": [
      "saving\n",
      "fold: VALID; iteration: 150; epoch: 0; classification/accuracy: 0.864; objective: 0.93819806377093; \n",
      "fold: TRAIN; iteration: 150; epoch: 0; objective: 0.8557300567626953; \n",
      "fold: TRAIN; iteration: 151; epoch: 0; objective: 0.9906383752822876; \n",
      "fold: TRAIN; iteration: 152; epoch: 0; objective: 0.9624601006507874; \n",
      "fold: TRAIN; iteration: 153; epoch: 0; objective: 0.993170976638794; \n",
      "fold: TRAIN; iteration: 154; epoch: 0; objective: 0.9071736931800842; \n",
      "fold: TRAIN; iteration: 155; epoch: 0; objective: 0.7848459482192993; \n",
      "fold: TRAIN; iteration: 156; epoch: 0; objective: 0.8039970993995667; \n",
      "fold: TRAIN; iteration: 157; epoch: 0; objective: 0.9719476103782654; \n",
      "fold: TRAIN; iteration: 158; epoch: 0; objective: 0.8443021178245544; \n",
      "fold: TRAIN; iteration: 159; epoch: 0; objective: 0.8998375535011292; \n",
      "fold: TRAIN; iteration: 160; epoch: 0; objective: 0.8255093097686768; \n",
      "fold: TRAIN; iteration: 161; epoch: 0; objective: 0.8924367427825928; \n",
      "fold: TRAIN; iteration: 162; epoch: 0; objective: 0.7872767448425293; \n",
      "fold: TRAIN; iteration: 163; epoch: 0; objective: 0.8982382416725159; \n",
      "fold: TRAIN; iteration: 164; epoch: 0; objective: 0.7004592418670654; \n",
      "fold: TRAIN; iteration: 165; epoch: 0; objective: 0.8574650287628174; \n",
      "fold: TRAIN; iteration: 166; epoch: 0; objective: 0.6824201345443726; \n",
      "fold: TRAIN; iteration: 167; epoch: 0; objective: 0.7457051277160645; \n",
      "fold: TRAIN; iteration: 168; epoch: 0; objective: 0.7597920298576355; \n",
      "fold: TRAIN; iteration: 169; epoch: 0; objective: 0.7027757167816162; \n",
      "fold: TRAIN; iteration: 170; epoch: 0; objective: 0.779284656047821; \n",
      "fold: TRAIN; iteration: 171; epoch: 0; objective: 0.7333415150642395; \n",
      "fold: TRAIN; iteration: 172; epoch: 0; objective: 0.7395174503326416; \n",
      "fold: TRAIN; iteration: 173; epoch: 0; objective: 0.717725932598114; \n",
      "fold: TRAIN; iteration: 174; epoch: 0; objective: 0.7005414366722107; \n",
      "fold: TRAIN; iteration: 175; epoch: 0; objective: 0.6828017234802246; \n",
      "fold: TRAIN; iteration: 176; epoch: 0; objective: 0.7340071201324463; \n",
      "fold: TRAIN; iteration: 177; epoch: 0; objective: 0.6739622354507446; \n",
      "fold: TRAIN; iteration: 178; epoch: 0; objective: 0.6899915337562561; \n",
      "fold: TRAIN; iteration: 179; epoch: 0; objective: 0.7609434723854065; \n",
      "fold: TRAIN; iteration: 180; epoch: 0; objective: 0.723483681678772; \n",
      "fold: TRAIN; iteration: 181; epoch: 0; objective: 0.6618529558181763; \n",
      "fold: TRAIN; iteration: 182; epoch: 0; objective: 0.7670478224754333; \n",
      "fold: TRAIN; iteration: 183; epoch: 0; objective: 0.704923689365387; \n",
      "fold: TRAIN; iteration: 184; epoch: 0; objective: 0.7382181286811829; \n",
      "fold: TRAIN; iteration: 185; epoch: 0; objective: 0.6853964924812317; \n",
      "fold: TRAIN; iteration: 186; epoch: 0; objective: 0.6576809883117676; \n",
      "fold: TRAIN; iteration: 187; epoch: 0; objective: 0.6633651256561279; \n",
      "fold: TRAIN; iteration: 188; epoch: 0; objective: 0.6356432437896729; \n",
      "fold: TRAIN; iteration: 189; epoch: 0; objective: 0.6802909970283508; \n",
      "fold: TRAIN; iteration: 190; epoch: 0; objective: 0.7543399333953857; \n",
      "fold: TRAIN; iteration: 191; epoch: 0; objective: 0.6960045099258423; \n",
      "fold: TRAIN; iteration: 192; epoch: 0; objective: 0.6113891005516052; \n",
      "fold: TRAIN; iteration: 193; epoch: 0; objective: 0.6340717673301697; \n",
      "fold: TRAIN; iteration: 194; epoch: 0; objective: 0.6901776790618896; \n",
      "fold: TRAIN; iteration: 195; epoch: 0; objective: 0.5718191266059875; \n",
      "fold: TRAIN; iteration: 196; epoch: 0; objective: 0.7135551571846008; \n",
      "fold: TRAIN; iteration: 197; epoch: 0; objective: 0.6661924719810486; \n",
      "fold: TRAIN; iteration: 198; epoch: 0; objective: 0.6944522857666016; \n",
      "fold: TRAIN; iteration: 199; epoch: 0; objective: 0.5633869767189026; \n",
      "validating model...\n"
     ]
    },
    {
     "data": {
      "application/json": {
       "ascii": false,
       "bar_format": null,
       "colour": null,
       "elapsed": 0.01433110237121582,
       "initial": 0,
       "n": 0,
       "ncols": null,
       "nrows": 48,
       "postfix": null,
       "prefix": "",
       "rate": null,
       "total": 250,
       "unit": "it",
       "unit_divisor": 1000,
       "unit_scale": false
      },
      "application/vnd.jupyter.widget-view+json": {
       "model_id": "3ec37b01a4b14945a92878d4d98d8f98",
       "version_major": 2,
       "version_minor": 0
      },
      "text/plain": [
       "  0%|          | 0/250 [00:00<?, ?it/s]"
      ]
     },
     "metadata": {},
     "output_type": "display_data"
    },
    {
     "name": "stdout",
     "output_type": "stream",
     "text": [
      "saving\n",
      "fold: VALID; iteration: 200; epoch: 0; classification/accuracy: 0.892; objective: 0.6017566680908203; \n",
      "fold: TRAIN; iteration: 200; epoch: 0; objective: 0.6165589690208435; \n",
      "fold: TRAIN; iteration: 201; epoch: 0; objective: 0.6007992029190063; \n",
      "fold: TRAIN; iteration: 202; epoch: 0; objective: 0.6453073620796204; \n",
      "fold: TRAIN; iteration: 203; epoch: 0; objective: 0.6578856706619263; \n",
      "fold: TRAIN; iteration: 204; epoch: 0; objective: 0.5542384386062622; \n",
      "fold: TRAIN; iteration: 205; epoch: 0; objective: 0.5212136507034302; \n",
      "fold: TRAIN; iteration: 206; epoch: 0; objective: 0.5677312612533569; \n",
      "fold: TRAIN; iteration: 207; epoch: 0; objective: 0.6073228716850281; \n",
      "fold: TRAIN; iteration: 208; epoch: 0; objective: 0.5410568714141846; \n",
      "fold: TRAIN; iteration: 209; epoch: 0; objective: 0.6119468212127686; \n",
      "fold: TRAIN; iteration: 210; epoch: 0; objective: 0.5235246419906616; \n",
      "fold: TRAIN; iteration: 211; epoch: 0; objective: 0.46512195467948914; \n",
      "fold: TRAIN; iteration: 212; epoch: 0; objective: 0.551405131816864; \n",
      "fold: TRAIN; iteration: 213; epoch: 0; objective: 0.5503751039505005; \n",
      "fold: TRAIN; iteration: 214; epoch: 0; objective: 0.5059027671813965; \n",
      "fold: TRAIN; iteration: 215; epoch: 0; objective: 0.5073906183242798; \n",
      "fold: TRAIN; iteration: 216; epoch: 0; objective: 0.5828898549079895; \n",
      "fold: TRAIN; iteration: 217; epoch: 0; objective: 0.5671950578689575; \n",
      "fold: TRAIN; iteration: 218; epoch: 0; objective: 0.4799307584762573; \n",
      "fold: TRAIN; iteration: 219; epoch: 0; objective: 0.5336155891418457; \n",
      "fold: TRAIN; iteration: 220; epoch: 0; objective: 0.500873327255249; \n",
      "fold: TRAIN; iteration: 221; epoch: 0; objective: 0.5351885557174683; \n",
      "fold: TRAIN; iteration: 222; epoch: 0; objective: 0.5189544558525085; \n",
      "fold: TRAIN; iteration: 223; epoch: 0; objective: 0.5437199473381042; \n",
      "fold: TRAIN; iteration: 224; epoch: 0; objective: 0.49600479006767273; \n",
      "fold: TRAIN; iteration: 225; epoch: 0; objective: 0.5042865872383118; \n",
      "fold: TRAIN; iteration: 226; epoch: 0; objective: 0.5432484745979309; \n",
      "fold: TRAIN; iteration: 227; epoch: 0; objective: 0.46854865550994873; \n",
      "fold: TRAIN; iteration: 228; epoch: 0; objective: 0.45263436436653137; \n",
      "fold: TRAIN; iteration: 229; epoch: 0; objective: 0.5405034422874451; \n",
      "fold: TRAIN; iteration: 230; epoch: 0; objective: 0.5371474623680115; \n",
      "fold: TRAIN; iteration: 231; epoch: 0; objective: 0.43061327934265137; \n",
      "fold: TRAIN; iteration: 232; epoch: 0; objective: 0.49482184648513794; \n",
      "fold: TRAIN; iteration: 233; epoch: 0; objective: 0.42598792910575867; \n",
      "fold: TRAIN; iteration: 234; epoch: 0; objective: 0.48110923171043396; \n",
      "fold: TRAIN; iteration: 235; epoch: 0; objective: 0.6314651370048523; \n",
      "fold: TRAIN; iteration: 236; epoch: 0; objective: 0.4098831117153168; \n",
      "fold: TRAIN; iteration: 237; epoch: 0; objective: 0.4475633502006531; \n",
      "fold: TRAIN; iteration: 238; epoch: 0; objective: 0.47540146112442017; \n",
      "fold: TRAIN; iteration: 239; epoch: 0; objective: 0.4065788686275482; \n",
      "fold: TRAIN; iteration: 240; epoch: 0; objective: 0.437611848115921; \n",
      "fold: TRAIN; iteration: 241; epoch: 0; objective: 0.35768526792526245; \n",
      "fold: TRAIN; iteration: 242; epoch: 0; objective: 0.6634462475776672; \n",
      "fold: TRAIN; iteration: 243; epoch: 0; objective: 0.4691728353500366; \n",
      "fold: TRAIN; iteration: 244; epoch: 0; objective: 0.5194788575172424; \n",
      "fold: TRAIN; iteration: 245; epoch: 0; objective: 0.5108051896095276; \n",
      "fold: TRAIN; iteration: 246; epoch: 0; objective: 0.39345115423202515; \n",
      "fold: TRAIN; iteration: 247; epoch: 0; objective: 0.4502719044685364; \n",
      "fold: TRAIN; iteration: 248; epoch: 0; objective: 0.5285525321960449; \n",
      "fold: TRAIN; iteration: 249; epoch: 0; objective: 0.4357351064682007; \n",
      "validating model...\n"
     ]
    },
    {
     "data": {
      "application/json": {
       "ascii": false,
       "bar_format": null,
       "colour": null,
       "elapsed": 0.015599250793457031,
       "initial": 0,
       "n": 0,
       "ncols": null,
       "nrows": 48,
       "postfix": null,
       "prefix": "",
       "rate": null,
       "total": 250,
       "unit": "it",
       "unit_divisor": 1000,
       "unit_scale": false
      },
      "application/vnd.jupyter.widget-view+json": {
       "model_id": "aba1e2d97a02478c8e8dd0958d133109",
       "version_major": 2,
       "version_minor": 0
      },
      "text/plain": [
       "  0%|          | 0/250 [00:00<?, ?it/s]"
      ]
     },
     "metadata": {},
     "output_type": "display_data"
    },
    {
     "name": "stdout",
     "output_type": "stream",
     "text": [
      "saving\n",
      "fold: VALID; iteration: 250; epoch: 0; classification/accuracy: 0.912; objective: 0.43253763218720753; \n",
      "fold: TRAIN; iteration: 250; epoch: 0; objective: 0.45614108443260193; \n",
      "fold: TRAIN; iteration: 251; epoch: 0; objective: 0.37370410561561584; \n",
      "fold: TRAIN; iteration: 252; epoch: 0; objective: 0.42124831676483154; \n",
      "fold: TRAIN; iteration: 253; epoch: 0; objective: 0.3984811305999756; \n",
      "fold: TRAIN; iteration: 254; epoch: 0; objective: 0.3738363981246948; \n",
      "fold: TRAIN; iteration: 255; epoch: 0; objective: 0.3428247570991516; \n",
      "fold: TRAIN; iteration: 256; epoch: 0; objective: 0.534629225730896; \n",
      "fold: TRAIN; iteration: 257; epoch: 0; objective: 0.38350313901901245; \n",
      "fold: TRAIN; iteration: 258; epoch: 0; objective: 0.44528692960739136; \n",
      "fold: TRAIN; iteration: 259; epoch: 0; objective: 0.39977115392684937; \n",
      "fold: TRAIN; iteration: 260; epoch: 0; objective: 0.39737701416015625; \n",
      "fold: TRAIN; iteration: 261; epoch: 0; objective: 0.44921743869781494; \n",
      "fold: TRAIN; iteration: 262; epoch: 0; objective: 0.39180126786231995; \n",
      "fold: TRAIN; iteration: 263; epoch: 0; objective: 0.3643162250518799; \n",
      "fold: TRAIN; iteration: 264; epoch: 0; objective: 0.44961658120155334; \n",
      "fold: TRAIN; iteration: 265; epoch: 0; objective: 0.3378368318080902; \n",
      "fold: TRAIN; iteration: 266; epoch: 0; objective: 0.3428102433681488; \n",
      "aborting training early...\n",
      "computing chunk (1/12)\n",
      "finding documents under filter\n",
      "done.\n",
      "processing with lenet\n"
     ]
    },
    {
     "data": {
      "application/json": {
       "ascii": false,
       "bar_format": null,
       "colour": null,
       "elapsed": 0.010224103927612305,
       "initial": 0,
       "n": 0,
       "ncols": null,
       "nrows": 48,
       "postfix": null,
       "prefix": "",
       "rate": null,
       "total": 5000,
       "unit": "it",
       "unit_divisor": 1000,
       "unit_scale": false
      },
      "application/vnd.jupyter.widget-view+json": {
       "model_id": "e6ebd30e1cc84fc5a4a58ef39b322be3",
       "version_major": 2,
       "version_minor": 0
      },
      "text/plain": [
       "  0%|          | 0/5000 [00:00<?, ?it/s]"
      ]
     },
     "metadata": {},
     "output_type": "display_data"
    },
    {
     "name": "stdout",
     "output_type": "stream",
     "text": [
      "bulk writing...\n",
      "done.\n",
      "computing chunk (2/12)\n",
      "finding documents under filter\n",
      "done.\n",
      "processing with lenet\n"
     ]
    },
    {
     "data": {
      "application/json": {
       "ascii": false,
       "bar_format": null,
       "colour": null,
       "elapsed": 0.009765148162841797,
       "initial": 0,
       "n": 0,
       "ncols": null,
       "nrows": 48,
       "postfix": null,
       "prefix": "",
       "rate": null,
       "total": 5000,
       "unit": "it",
       "unit_divisor": 1000,
       "unit_scale": false
      },
      "application/vnd.jupyter.widget-view+json": {
       "model_id": "e430efcdb7b443649ca92b899e62348c",
       "version_major": 2,
       "version_minor": 0
      },
      "text/plain": [
       "  0%|          | 0/5000 [00:00<?, ?it/s]"
      ]
     },
     "metadata": {},
     "output_type": "display_data"
    },
    {
     "name": "stdout",
     "output_type": "stream",
     "text": [
      "bulk writing...\n",
      "done.\n",
      "computing chunk (3/12)\n",
      "finding documents under filter\n",
      "done.\n",
      "processing with lenet\n"
     ]
    },
    {
     "data": {
      "application/json": {
       "ascii": false,
       "bar_format": null,
       "colour": null,
       "elapsed": 0.009702920913696289,
       "initial": 0,
       "n": 0,
       "ncols": null,
       "nrows": 48,
       "postfix": null,
       "prefix": "",
       "rate": null,
       "total": 5000,
       "unit": "it",
       "unit_divisor": 1000,
       "unit_scale": false
      },
      "application/vnd.jupyter.widget-view+json": {
       "model_id": "b383fab17016487992121113813cf271",
       "version_major": 2,
       "version_minor": 0
      },
      "text/plain": [
       "  0%|          | 0/5000 [00:00<?, ?it/s]"
      ]
     },
     "metadata": {},
     "output_type": "display_data"
    },
    {
     "name": "stdout",
     "output_type": "stream",
     "text": [
      "bulk writing...\n",
      "done.\n",
      "computing chunk (4/12)\n",
      "finding documents under filter\n",
      "done.\n",
      "processing with lenet\n"
     ]
    },
    {
     "data": {
      "application/json": {
       "ascii": false,
       "bar_format": null,
       "colour": null,
       "elapsed": 0.009855031967163086,
       "initial": 0,
       "n": 0,
       "ncols": null,
       "nrows": 48,
       "postfix": null,
       "prefix": "",
       "rate": null,
       "total": 5000,
       "unit": "it",
       "unit_divisor": 1000,
       "unit_scale": false
      },
      "application/vnd.jupyter.widget-view+json": {
       "model_id": "236de98f06c140beb3ae602230350d2d",
       "version_major": 2,
       "version_minor": 0
      },
      "text/plain": [
       "  0%|          | 0/5000 [00:00<?, ?it/s]"
      ]
     },
     "metadata": {},
     "output_type": "display_data"
    },
    {
     "name": "stdout",
     "output_type": "stream",
     "text": [
      "bulk writing...\n",
      "done.\n",
      "computing chunk (5/12)\n",
      "finding documents under filter\n",
      "done.\n",
      "processing with lenet\n"
     ]
    },
    {
     "data": {
      "application/json": {
       "ascii": false,
       "bar_format": null,
       "colour": null,
       "elapsed": 0.010096311569213867,
       "initial": 0,
       "n": 0,
       "ncols": null,
       "nrows": 48,
       "postfix": null,
       "prefix": "",
       "rate": null,
       "total": 5000,
       "unit": "it",
       "unit_divisor": 1000,
       "unit_scale": false
      },
      "application/vnd.jupyter.widget-view+json": {
       "model_id": "0e1fc630490b42a4b429bb616dcb6684",
       "version_major": 2,
       "version_minor": 0
      },
      "text/plain": [
       "  0%|          | 0/5000 [00:00<?, ?it/s]"
      ]
     },
     "metadata": {},
     "output_type": "display_data"
    },
    {
     "name": "stdout",
     "output_type": "stream",
     "text": [
      "bulk writing...\n",
      "done.\n",
      "computing chunk (6/12)\n",
      "finding documents under filter\n",
      "done.\n",
      "processing with lenet\n"
     ]
    },
    {
     "data": {
      "application/json": {
       "ascii": false,
       "bar_format": null,
       "colour": null,
       "elapsed": 0.010208845138549805,
       "initial": 0,
       "n": 0,
       "ncols": null,
       "nrows": 48,
       "postfix": null,
       "prefix": "",
       "rate": null,
       "total": 5000,
       "unit": "it",
       "unit_divisor": 1000,
       "unit_scale": false
      },
      "application/vnd.jupyter.widget-view+json": {
       "model_id": "86f1147171114d599612cfe628a50bcd",
       "version_major": 2,
       "version_minor": 0
      },
      "text/plain": [
       "  0%|          | 0/5000 [00:00<?, ?it/s]"
      ]
     },
     "metadata": {},
     "output_type": "display_data"
    },
    {
     "name": "stdout",
     "output_type": "stream",
     "text": [
      "bulk writing...\n",
      "done.\n",
      "computing chunk (7/12)\n",
      "finding documents under filter\n",
      "done.\n",
      "processing with lenet\n"
     ]
    },
    {
     "data": {
      "application/json": {
       "ascii": false,
       "bar_format": null,
       "colour": null,
       "elapsed": 0.00992584228515625,
       "initial": 0,
       "n": 0,
       "ncols": null,
       "nrows": 48,
       "postfix": null,
       "prefix": "",
       "rate": null,
       "total": 5000,
       "unit": "it",
       "unit_divisor": 1000,
       "unit_scale": false
      },
      "application/vnd.jupyter.widget-view+json": {
       "model_id": "2fa542beb9634f7f84efcf516b6b1450",
       "version_major": 2,
       "version_minor": 0
      },
      "text/plain": [
       "  0%|          | 0/5000 [00:00<?, ?it/s]"
      ]
     },
     "metadata": {},
     "output_type": "display_data"
    },
    {
     "name": "stdout",
     "output_type": "stream",
     "text": [
      "bulk writing...\n",
      "done.\n",
      "computing chunk (8/12)\n",
      "finding documents under filter\n",
      "done.\n",
      "processing with lenet\n"
     ]
    },
    {
     "data": {
      "application/json": {
       "ascii": false,
       "bar_format": null,
       "colour": null,
       "elapsed": 0.010154008865356445,
       "initial": 0,
       "n": 0,
       "ncols": null,
       "nrows": 48,
       "postfix": null,
       "prefix": "",
       "rate": null,
       "total": 5000,
       "unit": "it",
       "unit_divisor": 1000,
       "unit_scale": false
      },
      "application/vnd.jupyter.widget-view+json": {
       "model_id": "915722202c134e9b89110c4520ac8b6c",
       "version_major": 2,
       "version_minor": 0
      },
      "text/plain": [
       "  0%|          | 0/5000 [00:00<?, ?it/s]"
      ]
     },
     "metadata": {},
     "output_type": "display_data"
    },
    {
     "name": "stdout",
     "output_type": "stream",
     "text": [
      "bulk writing...\n",
      "done.\n",
      "computing chunk (9/12)\n",
      "finding documents under filter\n",
      "done.\n",
      "processing with lenet\n"
     ]
    },
    {
     "data": {
      "application/json": {
       "ascii": false,
       "bar_format": null,
       "colour": null,
       "elapsed": 0.009830951690673828,
       "initial": 0,
       "n": 0,
       "ncols": null,
       "nrows": 48,
       "postfix": null,
       "prefix": "",
       "rate": null,
       "total": 5000,
       "unit": "it",
       "unit_divisor": 1000,
       "unit_scale": false
      },
      "application/vnd.jupyter.widget-view+json": {
       "model_id": "252beab80ced48d4b4751c9df71f2e00",
       "version_major": 2,
       "version_minor": 0
      },
      "text/plain": [
       "  0%|          | 0/5000 [00:00<?, ?it/s]"
      ]
     },
     "metadata": {},
     "output_type": "display_data"
    },
    {
     "name": "stdout",
     "output_type": "stream",
     "text": [
      "bulk writing...\n",
      "done.\n",
      "computing chunk (10/12)\n",
      "finding documents under filter\n",
      "done.\n",
      "processing with lenet\n"
     ]
    },
    {
     "data": {
      "application/json": {
       "ascii": false,
       "bar_format": null,
       "colour": null,
       "elapsed": 0.009831905364990234,
       "initial": 0,
       "n": 0,
       "ncols": null,
       "nrows": 48,
       "postfix": null,
       "prefix": "",
       "rate": null,
       "total": 5000,
       "unit": "it",
       "unit_divisor": 1000,
       "unit_scale": false
      },
      "application/vnd.jupyter.widget-view+json": {
       "model_id": "7e94a7974bee43f39f0ccbd07dd87a72",
       "version_major": 2,
       "version_minor": 0
      },
      "text/plain": [
       "  0%|          | 0/5000 [00:00<?, ?it/s]"
      ]
     },
     "metadata": {},
     "output_type": "display_data"
    },
    {
     "name": "stdout",
     "output_type": "stream",
     "text": [
      "bulk writing...\n",
      "done.\n",
      "computing chunk (11/12)\n",
      "finding documents under filter\n",
      "done.\n",
      "processing with lenet\n"
     ]
    },
    {
     "data": {
      "application/json": {
       "ascii": false,
       "bar_format": null,
       "colour": null,
       "elapsed": 0.010354042053222656,
       "initial": 0,
       "n": 0,
       "ncols": null,
       "nrows": 48,
       "postfix": null,
       "prefix": "",
       "rate": null,
       "total": 5000,
       "unit": "it",
       "unit_divisor": 1000,
       "unit_scale": false
      },
      "application/vnd.jupyter.widget-view+json": {
       "model_id": "e1d2225e553f402385d6c5816be041d3",
       "version_major": 2,
       "version_minor": 0
      },
      "text/plain": [
       "  0%|          | 0/5000 [00:00<?, ?it/s]"
      ]
     },
     "metadata": {},
     "output_type": "display_data"
    },
    {
     "name": "stdout",
     "output_type": "stream",
     "text": [
      "bulk writing...\n",
      "done.\n",
      "computing chunk (12/12)\n",
      "finding documents under filter\n",
      "done.\n",
      "processing with lenet\n"
     ]
    },
    {
     "data": {
      "application/json": {
       "ascii": false,
       "bar_format": null,
       "colour": null,
       "elapsed": 0.010304927825927734,
       "initial": 0,
       "n": 0,
       "ncols": null,
       "nrows": 48,
       "postfix": null,
       "prefix": "",
       "rate": null,
       "total": 4000,
       "unit": "it",
       "unit_divisor": 1000,
       "unit_scale": false
      },
      "application/vnd.jupyter.widget-view+json": {
       "model_id": "9c32d2a19549458da9a824f5852dcda4",
       "version_major": 2,
       "version_minor": 0
      },
      "text/plain": [
       "  0%|          | 0/4000 [00:00<?, ?it/s]"
      ]
     },
     "metadata": {},
     "output_type": "display_data"
    },
    {
     "name": "stdout",
     "output_type": "stream",
     "text": [
      "bulk writing...\n",
      "done.\n"
     ]
    },
    {
     "data": {
      "text/plain": [
       "[None]"
      ]
     },
     "execution_count": 14,
     "metadata": {},
     "output_type": "execute_result"
    }
   ],
   "source": [
    "docs.create_imputation(\n",
    "    name='predictor',\n",
    "    model='lenet',\n",
    "    model_key='img',\n",
    "    target='label',\n",
    "    target_key='class',\n",
    "    objective='classification',\n",
    "    metrics=['accuracy'],\n",
    "    n_iterations=1000,\n",
    "    validation_interval=50,\n",
    "    validation_sets=('classification',)\n",
    ")"
   ]
  },
  {
   "cell_type": "markdown",
   "id": "4e41ab4c",
   "metadata": {},
   "source": [
    "After training, you'll see that a model **watcher** has been created, which keeps the `img` key up-to-date"
   ]
  },
  {
   "cell_type": "code",
   "execution_count": 15,
   "id": "0def946d",
   "metadata": {},
   "outputs": [
    {
     "data": {
      "text/plain": [
       "[('lenet', 'img')]"
      ]
     },
     "execution_count": 15,
     "metadata": {},
     "output_type": "execute_result"
    }
   ],
   "source": [
    "docs.list_watchers()"
   ]
  },
  {
   "cell_type": "markdown",
   "id": "fe5c2958",
   "metadata": {},
   "source": [
    "When new data are added, the trained model kicks into action \n",
    "and it's outputs are added/ enriched to the newly added data"
   ]
  },
  {
   "cell_type": "code",
   "execution_count": 18,
   "id": "67f7e156",
   "metadata": {},
   "outputs": [
    {
     "name": "stdout",
     "output_type": "stream",
     "text": [
      "downloading content from retrieved urls\n",
      "found 0 urls\n",
      "computing chunk (1/1)\n",
      "finding documents under filter\n",
      "done.\n",
      "processing with lenet\n"
     ]
    },
    {
     "data": {
      "application/json": {
       "ascii": false,
       "bar_format": null,
       "colour": null,
       "elapsed": 0.0097808837890625,
       "initial": 0,
       "n": 0,
       "ncols": null,
       "nrows": 48,
       "postfix": null,
       "prefix": "",
       "rate": null,
       "total": 1000,
       "unit": "it",
       "unit_divisor": 1000,
       "unit_scale": false
      },
      "application/vnd.jupyter.widget-view+json": {
       "model_id": "4ba2f87a43a043ceb69da16c2f18c7da",
       "version_major": 2,
       "version_minor": 0
      },
      "text/plain": [
       "  0%|          | 0/1000 [00:00<?, ?it/s]"
      ]
     },
     "metadata": {},
     "output_type": "display_data"
    },
    {
     "name": "stdout",
     "output_type": "stream",
     "text": [
      "bulk writing...\n",
      "done.\n"
     ]
    },
    {
     "data": {
      "text/plain": [
       "<pymongo.results.InsertManyResult at 0x164d3f880>"
      ]
     },
     "execution_count": 18,
     "metadata": {},
     "output_type": "execute_result"
    }
   ],
   "source": [
    "docs.insert_many([{'img': x[0], 'class': x[1]} for x in mnist_data[-1000:]])"
   ]
  }
 ],
 "metadata": {
  "kernelspec": {
   "display_name": "Python 3 (ipykernel)",
   "language": "python",
   "name": "python3"
  },
  "language_info": {
   "codemirror_mode": {
    "name": "ipython",
    "version": 3
   },
   "file_extension": ".py",
   "mimetype": "text/x-python",
   "name": "python",
   "nbconvert_exporter": "python",
   "pygments_lexer": "ipython3",
   "version": "3.10.6"
  }
 },
 "nbformat": 4,
 "nbformat_minor": 5
}
