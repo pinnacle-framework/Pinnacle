{
 "cells": [
  {
   "cell_type": "markdown",
   "id": "38c1a328-fd86-4c5f-bd54-b8664f433608",
   "metadata": {
    "editable": true,
    "slideshow": {
     "slide_type": ""
    },
    "tags": []
   },
   "source": [
    "# Simple retrieval augmented generation with OpenAI"
   ]
  },
  {
   "cell_type": "markdown",
   "id": "32f8484d-2e35-472a-9b24-1a30ec1d144b",
   "metadata": {},
   "source": [
    "<!-- TABS -->\n",
    "## Connect to pinnacle"
   ]
  },
  {
   "cell_type": "markdown",
   "id": "06d66021-ce62-4021-a2c5-158dee92b3bb",
   "metadata": {
    "editable": true,
    "slideshow": {
     "slide_type": ""
    },
    "tags": []
   },
   "source": [
    ":::note\n",
    "Note that this is only relevant if you are running pinnacle in development mode.\n",
    "Otherwise refer to \"Configuring your production system\".\n",
    ":::"
   ]
  },
  {
   "cell_type": "code",
   "execution_count": 1,
   "id": "3ef70f6d-a189-460a-8864-241a689624e2",
   "metadata": {
    "editable": true,
    "slideshow": {
     "slide_type": ""
    },
    "tags": [
     "parameters"
    ]
   },
   "outputs": [],
   "source": [
    "APPLY = True\n",
    "SAMPLE_COLLECTION_NAME = 'sample_simple_rag'\n",
    "COLLECTION_NAME = '<var:table_name>' if not APPLY else 'docs'\n",
    "ID_FIELD = '<var:id_field>' if not APPLY else 'id'\n",
    "OUTPUT_PREFIX = 'outputs__'\n",
    "EAGER = True"
   ]
  },
  {
   "cell_type": "code",
   "execution_count": 3,
   "id": "cb029a5e-fedf-4f07-8a31-d220cfbfbb3d",
   "metadata": {
    "editable": true,
    "slideshow": {
     "slide_type": ""
    },
    "tags": []
   },
   "outputs": [
    {
     "name": "stdout",
     "output_type": "stream",
     "text": [
      "\u001b[32m2025-Feb-20 13:50:41.38\u001b[0m| \u001b[1mINFO    \u001b[0m | \u001b[36mDuncans-MBP.fritz.box\u001b[0m| \u001b[36mpinnacle.misc.importing\u001b[0m:\u001b[36m13  \u001b[0m | \u001b[1mLoading plugin: mongodb\u001b[0m\n",
      "\u001b[32m2025-Feb-20 13:50:41.44\u001b[0m| \u001b[1mINFO    \u001b[0m | \u001b[36mDuncans-MBP.fritz.box\u001b[0m| \u001b[36mpinnacle.base.datalayer\u001b[0m:\u001b[36m50  \u001b[0m | \u001b[1mBuilding Data Layer\u001b[0m\n",
      "\u001b[32m2025-Feb-20 13:50:41.44\u001b[0m| \u001b[1mINFO    \u001b[0m | \u001b[36mDuncans-MBP.fritz.box\u001b[0m| \u001b[36mpinnacle.base.datalayer\u001b[0m:\u001b[36m67  \u001b[0m | \u001b[1mData Layer built\u001b[0m\n",
      "\u001b[32m2025-Feb-20 13:50:41.44\u001b[0m| \u001b[1mINFO    \u001b[0m | \u001b[36mDuncans-MBP.fritz.box\u001b[0m| \u001b[36mpinnacle.backends.base.cluster\u001b[0m:\u001b[36m86  \u001b[0m | \u001b[1mFound custom plugins - loading...\u001b[0m\n",
      "\u001b[32m2025-Feb-20 13:50:41.74\u001b[0m| \u001b[1mINFO    \u001b[0m | \u001b[36mDuncans-MBP.fritz.box\u001b[0m| \u001b[36mpinnacle.backends.base.cluster\u001b[0m:\u001b[36m113 \u001b[0m | \u001b[1mCluster initialized in 0.30 seconds.\u001b[0m\n",
      "\u001b[32m2025-Feb-20 13:50:41.74\u001b[0m| \u001b[1mINFO    \u001b[0m | \u001b[36mDuncans-MBP.fritz.box\u001b[0m| \u001b[36mpinnacle.base.build\u001b[0m:\u001b[36m147 \u001b[0m | \u001b[1mConfiguration: \n",
      " +----------------+-----------------------------------+\n",
      "| Configuration  |               Value               |\n",
      "+----------------+-----------------------------------+\n",
      "|  Data Backend  | mongodb://localhost:27017/test_db |\n",
      "| Artifact Store |   filesystem://./artifact_store   |\n",
      "+----------------+-----------------------------------+\u001b[0m\n"
     ]
    }
   ],
   "source": [
    "from pinnacle import pinnacle, CFG\n",
    "import os\n",
    "\n",
    "db = pinnacle()"
   ]
  },
  {
   "cell_type": "code",
   "execution_count": 4,
   "id": "3115ab41-32ad-4628-8d31-88cfa11ac14b",
   "metadata": {},
   "outputs": [
    {
     "name": "stdout",
     "output_type": "stream",
     "text": [
      "\u001b[32m2025-Feb-20 13:50:41.89\u001b[0m| \u001b[1mINFO    \u001b[0m | \u001b[36mDuncans-MBP.fritz.box\u001b[0m| \u001b[36mpinnacle.misc.importing\u001b[0m:\u001b[36m13  \u001b[0m | \u001b[1mLoading plugin: mongodb\u001b[0m\n",
      "\u001b[32m2025-Feb-20 13:50:41.89\u001b[0m| \u001b[1mINFO    \u001b[0m | \u001b[36mDuncans-MBP.fritz.box\u001b[0m| \u001b[36mpinnacle.base.datalayer\u001b[0m:\u001b[36m50  \u001b[0m | \u001b[1mBuilding Data Layer\u001b[0m\n",
      "\u001b[32m2025-Feb-20 13:50:41.90\u001b[0m| \u001b[1mINFO    \u001b[0m | \u001b[36mDuncans-MBP.fritz.box\u001b[0m| \u001b[36mpinnacle.base.datalayer\u001b[0m:\u001b[36m67  \u001b[0m | \u001b[1mData Layer built\u001b[0m\n",
      "\u001b[32m2025-Feb-20 13:50:41.91\u001b[0m| \u001b[1mINFO    \u001b[0m | \u001b[36mDuncans-MBP.fritz.box\u001b[0m| \u001b[36mpinnacle.backends.base.cluster\u001b[0m:\u001b[36m113 \u001b[0m | \u001b[1mCluster initialized in 0.01 seconds.\u001b[0m\n",
      "\u001b[32m2025-Feb-20 13:50:41.91\u001b[0m| \u001b[1mINFO    \u001b[0m | \u001b[36mDuncans-MBP.fritz.box\u001b[0m| \u001b[36mpinnacle.base.build\u001b[0m:\u001b[36m147 \u001b[0m | \u001b[1mConfiguration: \n",
      " +----------------+-----------------------------------+\n",
      "| Configuration  |               Value               |\n",
      "+----------------+-----------------------------------+\n",
      "|  Data Backend  | mongodb://localhost:27017/test_db |\n",
      "| Artifact Store |   filesystem://./artifact_store   |\n",
      "+----------------+-----------------------------------+\u001b[0m\n"
     ]
    }
   ],
   "source": [
    "db.drop(True, True)\n",
    "db = pinnacle()"
   ]
  },
  {
   "cell_type": "code",
   "execution_count": 5,
   "id": "4e7902bd",
   "metadata": {
    "editable": true,
    "slideshow": {
     "slide_type": ""
    },
    "tags": []
   },
   "outputs": [],
   "source": [
    "import json\n",
    "import requests\n",
    "import io\n",
    "from pinnacle import logging\n",
    "\n",
    "\n",
    "def getter():\n",
    "    logging.info('Downloading data...')\n",
    "    response = requests.get('https://pinnacledb-public-demo.s3.amazonaws.com/text.json')\n",
    "    logging.info('Downloading data... (Done)')\n",
    "    data = json.loads(response.content.decode('utf-8'))\n",
    "    return [{'x': r} for r in data]"
   ]
  },
  {
   "cell_type": "code",
   "execution_count": 6,
   "id": "1ef8dd07-1b47-4dce-84dd-a081d1f5ee9d",
   "metadata": {},
   "outputs": [
    {
     "name": "stdout",
     "output_type": "stream",
     "text": [
      "\u001b[32m2025-Feb-20 13:50:45.45\u001b[0m| \u001b[1mINFO    \u001b[0m | \u001b[36mDuncans-MBP.fritz.box\u001b[0m| \u001b[36m__main__\u001b[0m:\u001b[36m8   \u001b[0m | \u001b[1mDownloading data...\u001b[0m\n",
      "\u001b[32m2025-Feb-20 13:50:46.26\u001b[0m| \u001b[1mINFO    \u001b[0m | \u001b[36mDuncans-MBP.fritz.box\u001b[0m| \u001b[36m__main__\u001b[0m:\u001b[36m10  \u001b[0m | \u001b[1mDownloading data... (Done)\u001b[0m\n"
     ]
    }
   ],
   "source": [
    "if APPLY:\n",
    "    data = getter()"
   ]
  },
  {
   "cell_type": "markdown",
   "id": "9ede8ae1",
   "metadata": {},
   "source": [
    "<!-- TABS -->\n",
    "## Insert simple data\n",
    "\n",
    "After turning on auto_schema, we can directly insert data, and pinnacle will automatically analyze the data type, and match the construction of the table and datatype."
   ]
  },
  {
   "cell_type": "code",
   "execution_count": 7,
   "id": "c5965fdf",
   "metadata": {},
   "outputs": [
    {
     "name": "stdout",
     "output_type": "stream",
     "text": [
      "\u001b[32m2025-Feb-20 13:50:47.85\u001b[0m| \u001b[1mINFO    \u001b[0m | \u001b[36mDuncans-MBP.fritz.box\u001b[0m| \u001b[36mpinnacle.base.datalayer\u001b[0m:\u001b[36m387 \u001b[0m | \u001b[1mComponent (Table, Table) not found in cache, loading from db\u001b[0m\n",
      "\u001b[32m2025-Feb-20 13:50:47.85\u001b[0m| \u001b[1mINFO    \u001b[0m | \u001b[36mDuncans-MBP.fritz.box\u001b[0m| \u001b[36mpinnacle.base.datalayer\u001b[0m:\u001b[36m393 \u001b[0m | \u001b[1mLoad (('Table', 'Table')) from metadata...\u001b[0m\n",
      "\u001b[32m2025-Feb-20 13:50:47.85\u001b[0m| \u001b[1mINFO    \u001b[0m | \u001b[36mDuncans-MBP.fritz.box\u001b[0m| \u001b[36mpinnacle.base.datalayer\u001b[0m:\u001b[36m405 \u001b[0m | \u001b[1mAdding Table:Table:abc to cache\u001b[0m\n",
      "\u001b[32m2025-Feb-20 13:50:47.89\u001b[0m| \u001b[1mINFO    \u001b[0m | \u001b[36mDuncans-MBP.fritz.box\u001b[0m| \u001b[36mpinnacle.base.datalayer\u001b[0m:\u001b[36m387 \u001b[0m | \u001b[1mComponent (Table, docs) not found in cache, loading from db\u001b[0m\n",
      "\u001b[32m2025-Feb-20 13:50:47.89\u001b[0m| \u001b[1mINFO    \u001b[0m | \u001b[36mDuncans-MBP.fritz.box\u001b[0m| \u001b[36mpinnacle.base.datalayer\u001b[0m:\u001b[36m393 \u001b[0m | \u001b[1mLoad (('Table', 'docs')) from metadata...\u001b[0m\n",
      "\u001b[32m2025-Feb-20 13:50:47.89\u001b[0m| \u001b[1mINFO    \u001b[0m | \u001b[36mDuncans-MBP.fritz.box\u001b[0m| \u001b[36mpinnacle.base.apply\u001b[0m:\u001b[36m367 \u001b[0m | \u001b[1mFound new Table:docs:fc8ff3756dc74fd6\u001b[0m\n",
      "\u001b[32m2025-Feb-20 13:50:47.89\u001b[0m| \u001b[1mINFO    \u001b[0m | \u001b[36mDuncans-MBP.fritz.box\u001b[0m| \u001b[36mpinnacle.base.apply\u001b[0m:\u001b[36m78  \u001b[0m | \u001b[1mFound these changes and/ or additions that need to be made:\u001b[0m\n",
      "\u001b[32m2025-Feb-20 13:50:47.89\u001b[0m| \u001b[1mINFO    \u001b[0m | \u001b[36mDuncans-MBP.fritz.box\u001b[0m| \u001b[36mpinnacle.base.apply\u001b[0m:\u001b[36m80  \u001b[0m | \u001b[1m----------------------------------------------------------------------------------------------------\u001b[0m\n",
      "\u001b[32m2025-Feb-20 13:50:47.89\u001b[0m| \u001b[1mINFO    \u001b[0m | \u001b[36mDuncans-MBP.fritz.box\u001b[0m| \u001b[36mpinnacle.base.apply\u001b[0m:\u001b[36m81  \u001b[0m | \u001b[1mMETADATA EVENTS:\u001b[0m\n",
      "\u001b[32m2025-Feb-20 13:50:47.89\u001b[0m| \u001b[1mINFO    \u001b[0m | \u001b[36mDuncans-MBP.fritz.box\u001b[0m| \u001b[36mpinnacle.base.apply\u001b[0m:\u001b[36m82  \u001b[0m | \u001b[1m----------------------------------------------------------------------------------------------------\u001b[0m\n",
      "\u001b[32m2025-Feb-20 13:50:47.89\u001b[0m| \u001b[1mINFO    \u001b[0m | \u001b[36mDuncans-MBP.fritz.box\u001b[0m| \u001b[36mpinnacle.base.apply\u001b[0m:\u001b[36m93  \u001b[0m | \u001b[1m[0]: Table:docs:fc8ff3756dc74fd6: create\u001b[0m\n",
      "\u001b[32m2025-Feb-20 13:50:47.89\u001b[0m| \u001b[1mINFO    \u001b[0m | \u001b[36mDuncans-MBP.fritz.box\u001b[0m| \u001b[36mpinnacle.base.apply\u001b[0m:\u001b[36m95  \u001b[0m | \u001b[1m----------------------------------------------------------------------------------------------------\u001b[0m\n",
      "\u001b[32m2025-Feb-20 13:50:47.89\u001b[0m| \u001b[1mINFO    \u001b[0m | \u001b[36mDuncans-MBP.fritz.box\u001b[0m| \u001b[36mpinnacle.base.apply\u001b[0m:\u001b[36m96  \u001b[0m | \u001b[1mJOBS EVENTS:\u001b[0m\n",
      "\u001b[32m2025-Feb-20 13:50:47.89\u001b[0m| \u001b[1mINFO    \u001b[0m | \u001b[36mDuncans-MBP.fritz.box\u001b[0m| \u001b[36mpinnacle.base.apply\u001b[0m:\u001b[36m97  \u001b[0m | \u001b[1m----------------------------------------------------------------------------------------------------\u001b[0m\n",
      "\u001b[32m2025-Feb-20 13:50:47.89\u001b[0m| \u001b[1mINFO    \u001b[0m | \u001b[36mDuncans-MBP.fritz.box\u001b[0m| \u001b[36mpinnacle.base.apply\u001b[0m:\u001b[36m101 \u001b[0m | \u001b[1mNo job events...\u001b[0m\n",
      "\u001b[32m2025-Feb-20 13:50:47.89\u001b[0m| \u001b[1mINFO    \u001b[0m | \u001b[36mDuncans-MBP.fritz.box\u001b[0m| \u001b[36mpinnacle.base.apply\u001b[0m:\u001b[36m112 \u001b[0m | \u001b[1m----------------------------------------------------------------------------------------------------\u001b[0m\n",
      "\u001b[32m2025-Feb-20 13:50:47.89\u001b[0m| \u001b[1mINFO    \u001b[0m | \u001b[36mDuncans-MBP.fritz.box\u001b[0m| \u001b[36mpinnacle.base.datalayer\u001b[0m:\u001b[36m387 \u001b[0m | \u001b[1mComponent (Table, Table) not found in cache, loading from db\u001b[0m\n",
      "\u001b[32m2025-Feb-20 13:50:47.89\u001b[0m| \u001b[1mINFO    \u001b[0m | \u001b[36mDuncans-MBP.fritz.box\u001b[0m| \u001b[36mpinnacle.base.datalayer\u001b[0m:\u001b[36m393 \u001b[0m | \u001b[1mLoad (('Table', 'Table')) from metadata...\u001b[0m\n",
      "\u001b[32m2025-Feb-20 13:50:47.90\u001b[0m| \u001b[1mINFO    \u001b[0m | \u001b[36mDuncans-MBP.fritz.box\u001b[0m| \u001b[36mpinnacle.base.datalayer\u001b[0m:\u001b[36m405 \u001b[0m | \u001b[1mAdding Table:Table:abc to cache\u001b[0m\n",
      "\u001b[32m2025-Feb-20 13:50:47.90\u001b[0m| \u001b[1mINFO    \u001b[0m | \u001b[36mDuncans-MBP.fritz.box\u001b[0m| \u001b[36mpinnacle.base.datalayer\u001b[0m:\u001b[36m361 \u001b[0m | \u001b[1mComponent fc8ff3756dc74fd6 not found in cache, loading from db with uuid\u001b[0m\n",
      "\u001b[32m2025-Feb-20 13:50:47.91\u001b[0m| \u001b[1mINFO    \u001b[0m | \u001b[36mDuncans-MBP.fritz.box\u001b[0m| \u001b[36mpinnacle.base.datalayer\u001b[0m:\u001b[36m378 \u001b[0m | \u001b[1mAdding Table:docs:fc8ff3756dc74fd6 to cache\u001b[0m\n",
      "\u001b[32m2025-Feb-20 13:50:47.91\u001b[0m| \u001b[33m\u001b[1mWARNING \u001b[0m | \u001b[36mDuncans-MBP.fritz.box\u001b[0m| \u001b[36mpinnacle.backends.local.compute\u001b[0m:\u001b[36m49  \u001b[0m | \u001b[33m\u001b[1mCould not release futures for context fc8ff3756dc74fd6\u001b[0m\n",
      "\u001b[32m2025-Feb-20 13:50:47.91\u001b[0m| \u001b[1mINFO    \u001b[0m | \u001b[36mDuncans-MBP.fritz.box\u001b[0m| \u001b[36mpinnacle.backends.local.queue\u001b[0m:\u001b[36m114 \u001b[0m | \u001b[1mConsumed all events\u001b[0m\n",
      "\u001b[32m2025-Feb-20 13:50:47.91\u001b[0m| \u001b[1mINFO    \u001b[0m | \u001b[36mDuncans-MBP.fritz.box\u001b[0m| \u001b[36mpinnacle.base.datalayer\u001b[0m:\u001b[36m387 \u001b[0m | \u001b[1mComponent (Table, docs) not found in cache, loading from db\u001b[0m\n",
      "\u001b[32m2025-Feb-20 13:50:47.91\u001b[0m| \u001b[1mINFO    \u001b[0m | \u001b[36mDuncans-MBP.fritz.box\u001b[0m| \u001b[36mpinnacle.base.datalayer\u001b[0m:\u001b[36m393 \u001b[0m | \u001b[1mLoad (('Table', 'docs')) from metadata...\u001b[0m\n",
      "\u001b[32m2025-Feb-20 13:50:47.91\u001b[0m| \u001b[1mINFO    \u001b[0m | \u001b[36mDuncans-MBP.fritz.box\u001b[0m| \u001b[36mpinnacle.base.datalayer\u001b[0m:\u001b[36m405 \u001b[0m | \u001b[1mAdding Table:docs:fc8ff3756dc74fd6 to cache\u001b[0m\n"
     ]
    }
   ],
   "source": [
    "if APPLY:\n",
    "    from pinnacle import Document, Table\n",
    "    table = Table(COLLECTION_NAME, fields={'x': 'str'})\n",
    "    db.apply(table, force=True)\n",
    "    ids = db.execute(db[COLLECTION_NAME].insert(data))"
   ]
  },
  {
   "cell_type": "markdown",
   "id": "c4885060-450c-4446-b5fb-e58591c0d1ff",
   "metadata": {},
   "source": [
    "Create plugin:"
   ]
  },
  {
   "cell_type": "code",
   "execution_count": 8,
   "id": "f879a4df-6f60-4c80-8fdd-285a1ef92c90",
   "metadata": {},
   "outputs": [],
   "source": [
    "from pinnacle import Plugin\n",
    "\n",
    "plugin = Plugin('rag-plugin', path='./rag_plugin.py')"
   ]
  },
  {
   "cell_type": "markdown",
   "id": "54fea927-ee4a-44cd-aaf2-634b574c316d",
   "metadata": {},
   "source": [
    "<!-- TABS -->\n",
    "## Apply a chunker for search"
   ]
  },
  {
   "cell_type": "markdown",
   "id": "06d90bda-e8c4-494e-a38c-837fb63689ae",
   "metadata": {},
   "source": [
    ":::note\n",
    "Note that applying a chunker is ***not*** mandatory for search.\n",
    "If your data is already chunked (e.g. short text snippets or audio) or if you\n",
    "are searching through something like images, which can't be chunked, then this\n",
    "won't be necessary.\n",
    ":::"
   ]
  },
  {
   "cell_type": "code",
   "execution_count": 10,
   "id": "93d21872-d4dc-40dc-abab-fb07ba102ea3",
   "metadata": {},
   "outputs": [],
   "source": [
    "from pinnacle import Listener\n",
    "from rag_plugin import Chunker\n",
    "\n",
    "upstream_listener = Listener(\n",
    "    model=Chunker(identifier='chunker'),\n",
    "    select=db[COLLECTION_NAME],\n",
    "    key='x',\n",
    "    identifier='chunker',\n",
    "    flatten=True,\n",
    "    upstream=[plugin],\n",
    ")"
   ]
  },
  {
   "cell_type": "code",
   "execution_count": 11,
   "id": "31900eec-b516-4bef-939e-2e8f46252b12",
   "metadata": {},
   "outputs": [
    {
     "name": "stdout",
     "output_type": "stream",
     "text": [
      "\u001b[32m2025-Feb-20 13:50:54.08\u001b[0m| \u001b[1mINFO    \u001b[0m | \u001b[36mDuncans-MBP.fritz.box\u001b[0m| \u001b[36mpinnacle.base.datalayer\u001b[0m:\u001b[36m387 \u001b[0m | \u001b[1mComponent (Table, Table) not found in cache, loading from db\u001b[0m\n",
      "\u001b[32m2025-Feb-20 13:50:54.08\u001b[0m| \u001b[1mINFO    \u001b[0m | \u001b[36mDuncans-MBP.fritz.box\u001b[0m| \u001b[36mpinnacle.base.datalayer\u001b[0m:\u001b[36m393 \u001b[0m | \u001b[1mLoad (('Table', 'Table')) from metadata...\u001b[0m\n",
      "\u001b[32m2025-Feb-20 13:50:54.08\u001b[0m| \u001b[1mINFO    \u001b[0m | \u001b[36mDuncans-MBP.fritz.box\u001b[0m| \u001b[36mpinnacle.base.datalayer\u001b[0m:\u001b[36m405 \u001b[0m | \u001b[1mAdding Table:Table:abc to cache\u001b[0m\n",
      "\u001b[32m2025-Feb-20 13:50:54.09\u001b[0m| \u001b[1mINFO    \u001b[0m | \u001b[36mDuncans-MBP.fritz.box\u001b[0m| \u001b[36mpinnacle.base.datalayer\u001b[0m:\u001b[36m387 \u001b[0m | \u001b[1mComponent (Table, Table) not found in cache, loading from db\u001b[0m\n",
      "\u001b[32m2025-Feb-20 13:50:54.09\u001b[0m| \u001b[1mINFO    \u001b[0m | \u001b[36mDuncans-MBP.fritz.box\u001b[0m| \u001b[36mpinnacle.base.datalayer\u001b[0m:\u001b[36m393 \u001b[0m | \u001b[1mLoad (('Table', 'Table')) from metadata...\u001b[0m\n",
      "\u001b[32m2025-Feb-20 13:50:54.09\u001b[0m| \u001b[1mINFO    \u001b[0m | \u001b[36mDuncans-MBP.fritz.box\u001b[0m| \u001b[36mpinnacle.base.datalayer\u001b[0m:\u001b[36m405 \u001b[0m | \u001b[1mAdding Table:Table:abc to cache\u001b[0m\n",
      "\u001b[32m2025-Feb-20 13:50:54.10\u001b[0m| \u001b[1mINFO    \u001b[0m | \u001b[36mDuncans-MBP.fritz.box\u001b[0m| \u001b[36mpinnacle.base.datalayer\u001b[0m:\u001b[36m387 \u001b[0m | \u001b[1mComponent (Plugin, plugin-rag_plugin_py) not found in cache, loading from db\u001b[0m\n",
      "\u001b[32m2025-Feb-20 13:50:54.10\u001b[0m| \u001b[1mINFO    \u001b[0m | \u001b[36mDuncans-MBP.fritz.box\u001b[0m| \u001b[36mpinnacle.base.datalayer\u001b[0m:\u001b[36m393 \u001b[0m | \u001b[1mLoad (('Plugin', 'plugin-rag_plugin_py')) from metadata...\u001b[0m\n",
      "\u001b[32m2025-Feb-20 13:50:54.11\u001b[0m| \u001b[1mINFO    \u001b[0m | \u001b[36mDuncans-MBP.fritz.box\u001b[0m| \u001b[36mpinnacle.base.apply\u001b[0m:\u001b[36m367 \u001b[0m | \u001b[1mFound new Plugin:plugin-rag_plugin_py:rag-plugin\u001b[0m\n",
      "\u001b[32m2025-Feb-20 13:50:54.11\u001b[0m| \u001b[1mINFO    \u001b[0m | \u001b[36mDuncans-MBP.fritz.box\u001b[0m| \u001b[36mpinnacle.backends.local.artifacts\u001b[0m:\u001b[36m131 \u001b[0m | \u001b[1mCopying file ./rag_plugin.py to ./artifact_store/f74492989c5ac8b5eba5041c05b9927b08d08ffa/rag_plugin.py\u001b[0m\n",
      "\u001b[32m2025-Feb-20 13:50:54.11\u001b[0m| \u001b[1mINFO    \u001b[0m | \u001b[36mDuncans-MBP.fritz.box\u001b[0m| \u001b[36mpinnacle.base.datalayer\u001b[0m:\u001b[36m387 \u001b[0m | \u001b[1mComponent (Table, Table) not found in cache, loading from db\u001b[0m\n",
      "\u001b[32m2025-Feb-20 13:50:54.11\u001b[0m| \u001b[1mINFO    \u001b[0m | \u001b[36mDuncans-MBP.fritz.box\u001b[0m| \u001b[36mpinnacle.base.datalayer\u001b[0m:\u001b[36m393 \u001b[0m | \u001b[1mLoad (('Table', 'Table')) from metadata...\u001b[0m\n",
      "\u001b[32m2025-Feb-20 13:50:54.11\u001b[0m| \u001b[1mINFO    \u001b[0m | \u001b[36mDuncans-MBP.fritz.box\u001b[0m| \u001b[36mpinnacle.base.datalayer\u001b[0m:\u001b[36m405 \u001b[0m | \u001b[1mAdding Table:Table:abc to cache\u001b[0m\n",
      "\u001b[32m2025-Feb-20 13:50:54.12\u001b[0m| \u001b[1mINFO    \u001b[0m | \u001b[36mDuncans-MBP.fritz.box\u001b[0m| \u001b[36mpinnacle.base.datalayer\u001b[0m:\u001b[36m387 \u001b[0m | \u001b[1mComponent (Chunker, chunker) not found in cache, loading from db\u001b[0m\n",
      "\u001b[32m2025-Feb-20 13:50:54.12\u001b[0m| \u001b[1mINFO    \u001b[0m | \u001b[36mDuncans-MBP.fritz.box\u001b[0m| \u001b[36mpinnacle.base.datalayer\u001b[0m:\u001b[36m393 \u001b[0m | \u001b[1mLoad (('Chunker', 'chunker')) from metadata...\u001b[0m\n",
      "\u001b[32m2025-Feb-20 13:50:54.12\u001b[0m| \u001b[1mINFO    \u001b[0m | \u001b[36mDuncans-MBP.fritz.box\u001b[0m| \u001b[36mpinnacle.base.apply\u001b[0m:\u001b[36m367 \u001b[0m | \u001b[1mFound new Chunker:chunker:0c370aa5f6e7440e\u001b[0m\n",
      "\u001b[32m2025-Feb-20 13:50:54.13\u001b[0m| \u001b[1mINFO    \u001b[0m | \u001b[36mDuncans-MBP.fritz.box\u001b[0m| \u001b[36mpinnacle.base.datalayer\u001b[0m:\u001b[36m387 \u001b[0m | \u001b[1mComponent (Table, _outputs__chunker__256974701f404ceb) not found in cache, loading from db\u001b[0m\n",
      "\u001b[32m2025-Feb-20 13:50:54.13\u001b[0m| \u001b[1mINFO    \u001b[0m | \u001b[36mDuncans-MBP.fritz.box\u001b[0m| \u001b[36mpinnacle.base.datalayer\u001b[0m:\u001b[36m393 \u001b[0m | \u001b[1mLoad (('Table', '_outputs__chunker__256974701f404ceb')) from metadata...\u001b[0m\n",
      "\u001b[32m2025-Feb-20 13:50:54.13\u001b[0m| \u001b[1mINFO    \u001b[0m | \u001b[36mDuncans-MBP.fritz.box\u001b[0m| \u001b[36mpinnacle.base.apply\u001b[0m:\u001b[36m367 \u001b[0m | \u001b[1mFound new Table:_outputs__chunker__256974701f404ceb:d19134345c4c4a96\u001b[0m\n",
      "\u001b[32m2025-Feb-20 13:50:54.13\u001b[0m| \u001b[1mINFO    \u001b[0m | \u001b[36mDuncans-MBP.fritz.box\u001b[0m| \u001b[36mpinnacle.base.datalayer\u001b[0m:\u001b[36m387 \u001b[0m | \u001b[1mComponent (Listener, chunker) not found in cache, loading from db\u001b[0m\n",
      "\u001b[32m2025-Feb-20 13:50:54.13\u001b[0m| \u001b[1mINFO    \u001b[0m | \u001b[36mDuncans-MBP.fritz.box\u001b[0m| \u001b[36mpinnacle.base.datalayer\u001b[0m:\u001b[36m393 \u001b[0m | \u001b[1mLoad (('Listener', 'chunker')) from metadata...\u001b[0m\n",
      "\u001b[32m2025-Feb-20 13:50:54.13\u001b[0m| \u001b[1mINFO    \u001b[0m | \u001b[36mDuncans-MBP.fritz.box\u001b[0m| \u001b[36mpinnacle.base.apply\u001b[0m:\u001b[36m367 \u001b[0m | \u001b[1mFound new Listener:chunker:256974701f404ceb\u001b[0m\n",
      "\u001b[32m2025-Feb-20 13:50:54.13\u001b[0m| \u001b[1mINFO    \u001b[0m | \u001b[36mDuncans-MBP.fritz.box\u001b[0m| \u001b[36mpinnacle.base.apply\u001b[0m:\u001b[36m78  \u001b[0m | \u001b[1mFound these changes and/ or additions that need to be made:\u001b[0m\n",
      "\u001b[32m2025-Feb-20 13:50:54.13\u001b[0m| \u001b[1mINFO    \u001b[0m | \u001b[36mDuncans-MBP.fritz.box\u001b[0m| \u001b[36mpinnacle.base.apply\u001b[0m:\u001b[36m80  \u001b[0m | \u001b[1m----------------------------------------------------------------------------------------------------\u001b[0m\n",
      "\u001b[32m2025-Feb-20 13:50:54.13\u001b[0m| \u001b[1mINFO    \u001b[0m | \u001b[36mDuncans-MBP.fritz.box\u001b[0m| \u001b[36mpinnacle.base.apply\u001b[0m:\u001b[36m81  \u001b[0m | \u001b[1mMETADATA EVENTS:\u001b[0m\n",
      "\u001b[32m2025-Feb-20 13:50:54.13\u001b[0m| \u001b[1mINFO    \u001b[0m | \u001b[36mDuncans-MBP.fritz.box\u001b[0m| \u001b[36mpinnacle.base.apply\u001b[0m:\u001b[36m82  \u001b[0m | \u001b[1m----------------------------------------------------------------------------------------------------\u001b[0m\n",
      "\u001b[32m2025-Feb-20 13:50:54.13\u001b[0m| \u001b[1mINFO    \u001b[0m | \u001b[36mDuncans-MBP.fritz.box\u001b[0m| \u001b[36mpinnacle.base.apply\u001b[0m:\u001b[36m89  \u001b[0m | \u001b[1m[0]: Plugin:plugin-rag_plugin_py:rag-plugin: create ~ [3]\u001b[0m\n",
      "\u001b[32m2025-Feb-20 13:50:54.13\u001b[0m| \u001b[1mINFO    \u001b[0m | \u001b[36mDuncans-MBP.fritz.box\u001b[0m| \u001b[36mpinnacle.base.apply\u001b[0m:\u001b[36m89  \u001b[0m | \u001b[1m[1]: Chunker:chunker:0c370aa5f6e7440e: create ~ [3]\u001b[0m\n",
      "\u001b[32m2025-Feb-20 13:50:54.13\u001b[0m| \u001b[1mINFO    \u001b[0m | \u001b[36mDuncans-MBP.fritz.box\u001b[0m| \u001b[36mpinnacle.base.apply\u001b[0m:\u001b[36m89  \u001b[0m | \u001b[1m[2]: Table:_outputs__chunker__256974701f404ceb:d19134345c4c4a96: create ~ [3]\u001b[0m\n",
      "\u001b[32m2025-Feb-20 13:50:54.13\u001b[0m| \u001b[1mINFO    \u001b[0m | \u001b[36mDuncans-MBP.fritz.box\u001b[0m| \u001b[36mpinnacle.base.apply\u001b[0m:\u001b[36m93  \u001b[0m | \u001b[1m[3]: Listener:chunker:256974701f404ceb: create\u001b[0m\n",
      "\u001b[32m2025-Feb-20 13:50:54.13\u001b[0m| \u001b[1mINFO    \u001b[0m | \u001b[36mDuncans-MBP.fritz.box\u001b[0m| \u001b[36mpinnacle.base.apply\u001b[0m:\u001b[36m95  \u001b[0m | \u001b[1m----------------------------------------------------------------------------------------------------\u001b[0m\n",
      "\u001b[32m2025-Feb-20 13:50:54.13\u001b[0m| \u001b[1mINFO    \u001b[0m | \u001b[36mDuncans-MBP.fritz.box\u001b[0m| \u001b[36mpinnacle.base.apply\u001b[0m:\u001b[36m96  \u001b[0m | \u001b[1mJOBS EVENTS:\u001b[0m\n",
      "\u001b[32m2025-Feb-20 13:50:54.13\u001b[0m| \u001b[1mINFO    \u001b[0m | \u001b[36mDuncans-MBP.fritz.box\u001b[0m| \u001b[36mpinnacle.base.apply\u001b[0m:\u001b[36m97  \u001b[0m | \u001b[1m----------------------------------------------------------------------------------------------------\u001b[0m\n",
      "\u001b[32m2025-Feb-20 13:50:54.13\u001b[0m| \u001b[1mINFO    \u001b[0m | \u001b[36mDuncans-MBP.fritz.box\u001b[0m| \u001b[36mpinnacle.base.apply\u001b[0m:\u001b[36m110 \u001b[0m | \u001b[1m[0]: Listener:chunker:256974701f404ceb.run: run\u001b[0m\n",
      "\u001b[32m2025-Feb-20 13:50:54.13\u001b[0m| \u001b[1mINFO    \u001b[0m | \u001b[36mDuncans-MBP.fritz.box\u001b[0m| \u001b[36mpinnacle.base.apply\u001b[0m:\u001b[36m105 \u001b[0m | \u001b[1m[1]: Listener:chunker:256974701f404ceb.set_status: set_status ~ [0]\u001b[0m\n",
      "\u001b[32m2025-Feb-20 13:50:54.13\u001b[0m| \u001b[1mINFO    \u001b[0m | \u001b[36mDuncans-MBP.fritz.box\u001b[0m| \u001b[36mpinnacle.base.apply\u001b[0m:\u001b[36m112 \u001b[0m | \u001b[1m----------------------------------------------------------------------------------------------------\u001b[0m\n",
      "\u001b[32m2025-Feb-20 13:50:54.14\u001b[0m| \u001b[1mINFO    \u001b[0m | \u001b[36mDuncans-MBP.fritz.box\u001b[0m| \u001b[36mpinnacle.base.datalayer\u001b[0m:\u001b[36m387 \u001b[0m | \u001b[1mComponent (Table, ArtifactRelations) not found in cache, loading from db\u001b[0m\n",
      "\u001b[32m2025-Feb-20 13:50:54.14\u001b[0m| \u001b[1mINFO    \u001b[0m | \u001b[36mDuncans-MBP.fritz.box\u001b[0m| \u001b[36mpinnacle.base.datalayer\u001b[0m:\u001b[36m393 \u001b[0m | \u001b[1mLoad (('Table', 'ArtifactRelations')) from metadata...\u001b[0m\n",
      "\u001b[32m2025-Feb-20 13:50:54.14\u001b[0m| \u001b[1mINFO    \u001b[0m | \u001b[36mDuncans-MBP.fritz.box\u001b[0m| \u001b[36mpinnacle.base.datalayer\u001b[0m:\u001b[36m405 \u001b[0m | \u001b[1mAdding Table:ArtifactRelations:ghi to cache\u001b[0m\n",
      "\u001b[32m2025-Feb-20 13:50:54.18\u001b[0m| \u001b[1mINFO    \u001b[0m | \u001b[36mDuncans-MBP.fritz.box\u001b[0m| \u001b[36mpinnacle.base.datalayer\u001b[0m:\u001b[36m387 \u001b[0m | \u001b[1mComponent (Table, Plugin) not found in cache, loading from db\u001b[0m\n",
      "\u001b[32m2025-Feb-20 13:50:54.18\u001b[0m| \u001b[1mINFO    \u001b[0m | \u001b[36mDuncans-MBP.fritz.box\u001b[0m| \u001b[36mpinnacle.base.datalayer\u001b[0m:\u001b[36m393 \u001b[0m | \u001b[1mLoad (('Table', 'Plugin')) from metadata...\u001b[0m\n",
      "\u001b[32m2025-Feb-20 13:50:54.18\u001b[0m| \u001b[1mINFO    \u001b[0m | \u001b[36mDuncans-MBP.fritz.box\u001b[0m| \u001b[36mpinnacle.base.datalayer\u001b[0m:\u001b[36m405 \u001b[0m | \u001b[1mAdding Table:Plugin:c60323ebaebe4b57 to cache\u001b[0m\n",
      "\u001b[32m2025-Feb-20 13:50:54.23\u001b[0m| \u001b[1mINFO    \u001b[0m | \u001b[36mDuncans-MBP.fritz.box\u001b[0m| \u001b[36mpinnacle.base.datalayer\u001b[0m:\u001b[36m361 \u001b[0m | \u001b[1mComponent rag-plugin not found in cache, loading from db with uuid\u001b[0m\n",
      "\u001b[32m2025-Feb-20 13:50:54.24\u001b[0m| \u001b[1mINFO    \u001b[0m | \u001b[36mDuncans-MBP.fritz.box\u001b[0m| \u001b[36mpinnacle.base.datalayer\u001b[0m:\u001b[36m378 \u001b[0m | \u001b[1mAdding Plugin:plugin-rag_plugin_py:rag-plugin to cache\u001b[0m\n",
      "\u001b[32m2025-Feb-20 13:50:54.24\u001b[0m| \u001b[1mINFO    \u001b[0m | \u001b[36mDuncans-MBP.fritz.box\u001b[0m| \u001b[36mpinnacle.base.datalayer\u001b[0m:\u001b[36m387 \u001b[0m | \u001b[1mComponent (Table, ParentChildAssociations) not found in cache, loading from db\u001b[0m\n",
      "\u001b[32m2025-Feb-20 13:50:54.24\u001b[0m| \u001b[1mINFO    \u001b[0m | \u001b[36mDuncans-MBP.fritz.box\u001b[0m| \u001b[36mpinnacle.base.datalayer\u001b[0m:\u001b[36m393 \u001b[0m | \u001b[1mLoad (('Table', 'ParentChildAssociations')) from metadata...\u001b[0m\n",
      "\u001b[32m2025-Feb-20 13:50:54.24\u001b[0m| \u001b[1mINFO    \u001b[0m | \u001b[36mDuncans-MBP.fritz.box\u001b[0m| \u001b[36mpinnacle.base.datalayer\u001b[0m:\u001b[36m405 \u001b[0m | \u001b[1mAdding Table:ParentChildAssociations:def to cache\u001b[0m\n",
      "\u001b[32m2025-Feb-20 13:50:54.28\u001b[0m| \u001b[1mINFO    \u001b[0m | \u001b[36mDuncans-MBP.fritz.box\u001b[0m| \u001b[36mpinnacle.components.component\u001b[0m:\u001b[36m518 \u001b[0m | \u001b[1mAdding Plugin:plugin-rag_plugin_py to cache\u001b[0m\n",
      "\u001b[32m2025-Feb-20 13:50:54.29\u001b[0m| \u001b[1mINFO    \u001b[0m | \u001b[36mDuncans-MBP.fritz.box\u001b[0m| \u001b[36mpinnacle.base.datalayer\u001b[0m:\u001b[36m387 \u001b[0m | \u001b[1mComponent (Table, Chunker) not found in cache, loading from db\u001b[0m\n",
      "\u001b[32m2025-Feb-20 13:50:54.29\u001b[0m| \u001b[1mINFO    \u001b[0m | \u001b[36mDuncans-MBP.fritz.box\u001b[0m| \u001b[36mpinnacle.base.datalayer\u001b[0m:\u001b[36m393 \u001b[0m | \u001b[1mLoad (('Table', 'Chunker')) from metadata...\u001b[0m\n",
      "\u001b[32m2025-Feb-20 13:50:54.29\u001b[0m| \u001b[1mINFO    \u001b[0m | \u001b[36mDuncans-MBP.fritz.box\u001b[0m| \u001b[36mpinnacle.base.datalayer\u001b[0m:\u001b[36m405 \u001b[0m | \u001b[1mAdding Table:Chunker:0d8ae8a21f37456a to cache\u001b[0m\n",
      "\u001b[32m2025-Feb-20 13:50:54.33\u001b[0m| \u001b[1mINFO    \u001b[0m | \u001b[36mDuncans-MBP.fritz.box\u001b[0m| \u001b[36mpinnacle.base.datalayer\u001b[0m:\u001b[36m361 \u001b[0m | \u001b[1mComponent 0c370aa5f6e7440e not found in cache, loading from db with uuid\u001b[0m\n",
      "\u001b[32m2025-Feb-20 13:50:54.34\u001b[0m| \u001b[1mINFO    \u001b[0m | \u001b[36mDuncans-MBP.fritz.box\u001b[0m| \u001b[36mpinnacle.base.datalayer\u001b[0m:\u001b[36m378 \u001b[0m | \u001b[1mAdding Chunker:chunker:0c370aa5f6e7440e to cache\u001b[0m\n",
      "\u001b[32m2025-Feb-20 13:50:54.34\u001b[0m| \u001b[1mINFO    \u001b[0m | \u001b[36mDuncans-MBP.fritz.box\u001b[0m| \u001b[36mpinnacle.base.datalayer\u001b[0m:\u001b[36m387 \u001b[0m | \u001b[1mComponent (Table, ParentChildAssociations) not found in cache, loading from db\u001b[0m\n",
      "\u001b[32m2025-Feb-20 13:50:54.34\u001b[0m| \u001b[1mINFO    \u001b[0m | \u001b[36mDuncans-MBP.fritz.box\u001b[0m| \u001b[36mpinnacle.base.datalayer\u001b[0m:\u001b[36m393 \u001b[0m | \u001b[1mLoad (('Table', 'ParentChildAssociations')) from metadata...\u001b[0m\n",
      "\u001b[32m2025-Feb-20 13:50:54.34\u001b[0m| \u001b[1mINFO    \u001b[0m | \u001b[36mDuncans-MBP.fritz.box\u001b[0m| \u001b[36mpinnacle.base.datalayer\u001b[0m:\u001b[36m405 \u001b[0m | \u001b[1mAdding Table:ParentChildAssociations:def to cache\u001b[0m\n",
      "\u001b[32m2025-Feb-20 13:50:54.36\u001b[0m| \u001b[1mINFO    \u001b[0m | \u001b[36mDuncans-MBP.fritz.box\u001b[0m| \u001b[36mpinnacle.components.component\u001b[0m:\u001b[36m518 \u001b[0m | \u001b[1mAdding Chunker:chunker to cache\u001b[0m\n",
      "\u001b[32m2025-Feb-20 13:50:54.36\u001b[0m| \u001b[1mINFO    \u001b[0m | \u001b[36mDuncans-MBP.fritz.box\u001b[0m| \u001b[36mpinnacle.base.datalayer\u001b[0m:\u001b[36m387 \u001b[0m | \u001b[1mComponent (Table, Table) not found in cache, loading from db\u001b[0m\n",
      "\u001b[32m2025-Feb-20 13:50:54.36\u001b[0m| \u001b[1mINFO    \u001b[0m | \u001b[36mDuncans-MBP.fritz.box\u001b[0m| \u001b[36mpinnacle.base.datalayer\u001b[0m:\u001b[36m393 \u001b[0m | \u001b[1mLoad (('Table', 'Table')) from metadata...\u001b[0m\n",
      "\u001b[32m2025-Feb-20 13:50:54.36\u001b[0m| \u001b[1mINFO    \u001b[0m | \u001b[36mDuncans-MBP.fritz.box\u001b[0m| \u001b[36mpinnacle.base.datalayer\u001b[0m:\u001b[36m405 \u001b[0m | \u001b[1mAdding Table:Table:abc to cache\u001b[0m\n",
      "\u001b[32m2025-Feb-20 13:50:54.37\u001b[0m| \u001b[1mINFO    \u001b[0m | \u001b[36mDuncans-MBP.fritz.box\u001b[0m| \u001b[36mpinnacle.base.datalayer\u001b[0m:\u001b[36m361 \u001b[0m | \u001b[1mComponent d19134345c4c4a96 not found in cache, loading from db with uuid\u001b[0m\n",
      "\u001b[32m2025-Feb-20 13:50:54.38\u001b[0m| \u001b[1mINFO    \u001b[0m | \u001b[36mDuncans-MBP.fritz.box\u001b[0m| \u001b[36mpinnacle.base.datalayer\u001b[0m:\u001b[36m378 \u001b[0m | \u001b[1mAdding Table:_outputs__chunker__256974701f404ceb:d19134345c4c4a96 to cache\u001b[0m\n",
      "\u001b[32m2025-Feb-20 13:50:54.38\u001b[0m| \u001b[1mINFO    \u001b[0m | \u001b[36mDuncans-MBP.fritz.box\u001b[0m| \u001b[36mpinnacle.base.datalayer\u001b[0m:\u001b[36m387 \u001b[0m | \u001b[1mComponent (Table, ParentChildAssociations) not found in cache, loading from db\u001b[0m\n",
      "\u001b[32m2025-Feb-20 13:50:54.38\u001b[0m| \u001b[1mINFO    \u001b[0m | \u001b[36mDuncans-MBP.fritz.box\u001b[0m| \u001b[36mpinnacle.base.datalayer\u001b[0m:\u001b[36m393 \u001b[0m | \u001b[1mLoad (('Table', 'ParentChildAssociations')) from metadata...\u001b[0m\n",
      "\u001b[32m2025-Feb-20 13:50:54.38\u001b[0m| \u001b[1mINFO    \u001b[0m | \u001b[36mDuncans-MBP.fritz.box\u001b[0m| \u001b[36mpinnacle.base.datalayer\u001b[0m:\u001b[36m405 \u001b[0m | \u001b[1mAdding Table:ParentChildAssociations:def to cache\u001b[0m\n",
      "\u001b[32m2025-Feb-20 13:50:54.40\u001b[0m| \u001b[1mINFO    \u001b[0m | \u001b[36mDuncans-MBP.fritz.box\u001b[0m| \u001b[36mpinnacle.base.datalayer\u001b[0m:\u001b[36m387 \u001b[0m | \u001b[1mComponent (Table, Listener) not found in cache, loading from db\u001b[0m\n",
      "\u001b[32m2025-Feb-20 13:50:54.40\u001b[0m| \u001b[1mINFO    \u001b[0m | \u001b[36mDuncans-MBP.fritz.box\u001b[0m| \u001b[36mpinnacle.base.datalayer\u001b[0m:\u001b[36m393 \u001b[0m | \u001b[1mLoad (('Table', 'Listener')) from metadata...\u001b[0m\n",
      "\u001b[32m2025-Feb-20 13:50:54.40\u001b[0m| \u001b[1mINFO    \u001b[0m | \u001b[36mDuncans-MBP.fritz.box\u001b[0m| \u001b[36mpinnacle.base.datalayer\u001b[0m:\u001b[36m405 \u001b[0m | \u001b[1mAdding Table:Listener:5374299d389745b3 to cache\u001b[0m\n",
      "\u001b[32m2025-Feb-20 13:50:54.45\u001b[0m| \u001b[1mINFO    \u001b[0m | \u001b[36mDuncans-MBP.fritz.box\u001b[0m| \u001b[36mpinnacle.base.datalayer\u001b[0m:\u001b[36m361 \u001b[0m | \u001b[1mComponent 256974701f404ceb not found in cache, loading from db with uuid\u001b[0m\n",
      "\u001b[32m2025-Feb-20 13:50:54.46\u001b[0m| \u001b[1mINFO    \u001b[0m | \u001b[36mDuncans-MBP.fritz.box\u001b[0m| \u001b[36mpinnacle.base.datalayer\u001b[0m:\u001b[36m378 \u001b[0m | \u001b[1mAdding Listener:chunker:256974701f404ceb to cache\u001b[0m\n",
      "\u001b[32m2025-Feb-20 13:50:54.46\u001b[0m| \u001b[1mINFO    \u001b[0m | \u001b[36mDuncans-MBP.fritz.box\u001b[0m| \u001b[36mpinnacle.components.component\u001b[0m:\u001b[36m518 \u001b[0m | \u001b[1mAdding Listener:chunker to cache\u001b[0m\n",
      "\u001b[32m2025-Feb-20 13:50:54.46\u001b[0m| \u001b[1mINFO    \u001b[0m | \u001b[36mDuncans-MBP.fritz.box\u001b[0m| \u001b[36mpinnacle.base.datalayer\u001b[0m:\u001b[36m387 \u001b[0m | \u001b[1mComponent (Table, Job) not found in cache, loading from db\u001b[0m\n",
      "\u001b[32m2025-Feb-20 13:50:54.46\u001b[0m| \u001b[1mINFO    \u001b[0m | \u001b[36mDuncans-MBP.fritz.box\u001b[0m| \u001b[36mpinnacle.base.datalayer\u001b[0m:\u001b[36m393 \u001b[0m | \u001b[1mLoad (('Table', 'Job')) from metadata...\u001b[0m\n",
      "\u001b[32m2025-Feb-20 13:50:54.46\u001b[0m| \u001b[1mINFO    \u001b[0m | \u001b[36mDuncans-MBP.fritz.box\u001b[0m| \u001b[36mpinnacle.base.datalayer\u001b[0m:\u001b[36m405 \u001b[0m | \u001b[1mAdding Table:Job:jkl to cache\u001b[0m\n",
      "\u001b[32m2025-Feb-20 13:50:54.50\u001b[0m| \u001b[1mINFO    \u001b[0m | \u001b[36mDuncans-MBP.fritz.box\u001b[0m| \u001b[36mpinnacle.components.model\u001b[0m:\u001b[36m495 \u001b[0m | \u001b[1mRequesting prediction in db - [chunker] with predict_id chunker__256974701f404ceb\n",
      "\u001b[0m\n",
      "\u001b[32m2025-Feb-20 13:50:54.53\u001b[0m| \u001b[1mINFO    \u001b[0m | \u001b[36mDuncans-MBP.fritz.box\u001b[0m| \u001b[36mpinnacle.components.model\u001b[0m:\u001b[36m633 \u001b[0m | \u001b[1mAdding 187 model outputs to `db`\u001b[0m\n",
      "\u001b[32m2025-Feb-20 13:50:54.54\u001b[0m| \u001b[1mINFO    \u001b[0m | \u001b[36mDuncans-MBP.fritz.box\u001b[0m| \u001b[36mpinnacle.base.datalayer\u001b[0m:\u001b[36m387 \u001b[0m | \u001b[1mComponent (Table, _outputs__chunker__256974701f404ceb) not found in cache, loading from db\u001b[0m\n",
      "\u001b[32m2025-Feb-20 13:50:54.54\u001b[0m| \u001b[1mINFO    \u001b[0m | \u001b[36mDuncans-MBP.fritz.box\u001b[0m| \u001b[36mpinnacle.base.datalayer\u001b[0m:\u001b[36m393 \u001b[0m | \u001b[1mLoad (('Table', '_outputs__chunker__256974701f404ceb')) from metadata...\u001b[0m\n",
      "\u001b[32m2025-Feb-20 13:50:54.54\u001b[0m| \u001b[1mINFO    \u001b[0m | \u001b[36mDuncans-MBP.fritz.box\u001b[0m| \u001b[36mpinnacle.base.datalayer\u001b[0m:\u001b[36m405 \u001b[0m | \u001b[1mAdding Table:_outputs__chunker__256974701f404ceb:d19134345c4c4a96 to cache\u001b[0m\n",
      "\u001b[32m2025-Feb-20 13:50:54.60\u001b[0m| \u001b[1mINFO    \u001b[0m | \u001b[36mDuncans-MBP.fritz.box\u001b[0m| \u001b[36mpinnacle.base.datalayer\u001b[0m:\u001b[36m387 \u001b[0m | \u001b[1mComponent (Table, Job) not found in cache, loading from db\u001b[0m\n",
      "\u001b[32m2025-Feb-20 13:50:54.60\u001b[0m| \u001b[1mINFO    \u001b[0m | \u001b[36mDuncans-MBP.fritz.box\u001b[0m| \u001b[36mpinnacle.base.datalayer\u001b[0m:\u001b[36m393 \u001b[0m | \u001b[1mLoad (('Table', 'Job')) from metadata...\u001b[0m\n",
      "\u001b[32m2025-Feb-20 13:50:54.60\u001b[0m| \u001b[1mINFO    \u001b[0m | \u001b[36mDuncans-MBP.fritz.box\u001b[0m| \u001b[36mpinnacle.base.datalayer\u001b[0m:\u001b[36m405 \u001b[0m | \u001b[1mAdding Table:Job:jkl to cache\u001b[0m\n",
      "\u001b[32m2025-Feb-20 13:50:54.64\u001b[0m| \u001b[1mINFO    \u001b[0m | \u001b[36mDuncans-MBP.fritz.box\u001b[0m| \u001b[36mpinnacle.backends.local.queue\u001b[0m:\u001b[36m114 \u001b[0m | \u001b[1mConsumed all events\u001b[0m\n"
     ]
    }
   ],
   "source": [
    "if APPLY and EAGER:\n",
    "    db.apply(upstream_listener, force=True)"
   ]
  },
  {
   "cell_type": "markdown",
   "id": "7c5377c0-4c9b-4ba9-8f08-5e866b9220b5",
   "metadata": {},
   "source": [
    "## Select outputs of upstream listener"
   ]
  },
  {
   "cell_type": "markdown",
   "id": "809f5f62-95c3-483b-ae74-a5cdb5c1c83d",
   "metadata": {},
   "source": [
    ":::note\n",
    "This is useful if you have performed a first step, such as pre-computing \n",
    "features, or chunking your data. You can use this query to \n",
    "operate on those outputs.\n",
    ":::"
   ]
  },
  {
   "cell_type": "markdown",
   "id": "c9a2cd87-723f-4cee-87c7-9b8181c9e54b",
   "metadata": {},
   "source": [
    "<!-- TABS -->\n",
    "## Build text embedding model"
   ]
  },
  {
   "cell_type": "markdown",
   "id": "10753ea4-9893-4056-813d-7d6ddf78ce02",
   "metadata": {},
   "source": [
    "OpenAI:"
   ]
  },
  {
   "cell_type": "code",
   "execution_count": 12,
   "id": "a9b1f538-65ca-499e-b6d0-2dd733f81723",
   "metadata": {},
   "outputs": [],
   "source": [
    "import os\n",
    "\n",
    "from pinnacle_openai import OpenAIEmbedding\n",
    "\n",
    "openai_embedding = OpenAIEmbedding(\n",
    "    identifier='text-embedding',\n",
    "    model='text-embedding-ada-002',\n",
    "    datatype='vector[float:1536]',\n",
    ")"
   ]
  },
  {
   "cell_type": "markdown",
   "id": "f31843db-8638-458a-a770-96a79041be88",
   "metadata": {},
   "source": [
    "## Create vector-index"
   ]
  },
  {
   "cell_type": "code",
   "execution_count": 13,
   "id": "4663fa4b-c2ec-427d-bf8b-b8b109cc2ccf",
   "metadata": {},
   "outputs": [],
   "source": [
    "from pinnacle import VectorIndex, Listener\n",
    "\n",
    "vector_index_name = 'vectorindex'\n",
    "\n",
    "vector_index = VectorIndex(\n",
    "    vector_index_name,\n",
    "    indexing_listener=Listener(\n",
    "        key=upstream_listener.outputs,\n",
    "        select=db[upstream_listener.outputs],\n",
    "        model=openai_embedding,\n",
    "        identifier='embeddinglistener',\n",
    "        upstream=[upstream_listener],\n",
    "    )\n",
    ")"
   ]
  },
  {
   "cell_type": "code",
   "execution_count": 14,
   "id": "509c3505-54c5-4e68-84ec-3df8bea0fd74",
   "metadata": {},
   "outputs": [
    {
     "name": "stdout",
     "output_type": "stream",
     "text": [
      "\u001b[32m2025-Feb-20 13:51:01.58\u001b[0m| \u001b[1mINFO    \u001b[0m | \u001b[36mDuncans-MBP.fritz.box\u001b[0m| \u001b[36mpinnacle.base.datalayer\u001b[0m:\u001b[36m387 \u001b[0m | \u001b[1mComponent (Table, Table) not found in cache, loading from db\u001b[0m\n",
      "\u001b[32m2025-Feb-20 13:51:01.58\u001b[0m| \u001b[1mINFO    \u001b[0m | \u001b[36mDuncans-MBP.fritz.box\u001b[0m| \u001b[36mpinnacle.base.datalayer\u001b[0m:\u001b[36m393 \u001b[0m | \u001b[1mLoad (('Table', 'Table')) from metadata...\u001b[0m\n",
      "\u001b[32m2025-Feb-20 13:51:01.58\u001b[0m| \u001b[1mINFO    \u001b[0m | \u001b[36mDuncans-MBP.fritz.box\u001b[0m| \u001b[36mpinnacle.base.datalayer\u001b[0m:\u001b[36m405 \u001b[0m | \u001b[1mAdding Table:Table:abc to cache\u001b[0m\n",
      "\u001b[32m2025-Feb-20 13:51:01.59\u001b[0m| \u001b[1mINFO    \u001b[0m | \u001b[36mDuncans-MBP.fritz.box\u001b[0m| \u001b[36mpinnacle.base.apply\u001b[0m:\u001b[36m261 \u001b[0m | \u001b[1mFound identical Plugin:plugin-rag_plugin_py:rag-plugin\u001b[0m\n",
      "\u001b[32m2025-Feb-20 13:51:01.59\u001b[0m| \u001b[1mINFO    \u001b[0m | \u001b[36mDuncans-MBP.fritz.box\u001b[0m| \u001b[36mpinnacle.base.apply\u001b[0m:\u001b[36m348 \u001b[0m | \u001b[1mFound update Plugin:plugin-rag_plugin_py:rag-plugin\u001b[0m\n",
      "\u001b[32m2025-Feb-20 13:51:01.59\u001b[0m| \u001b[1mINFO    \u001b[0m | \u001b[36mDuncans-MBP.fritz.box\u001b[0m| \u001b[36mpinnacle.backends.local.artifacts\u001b[0m:\u001b[36m131 \u001b[0m | \u001b[1mCopying file ./rag_plugin.py to ./artifact_store/f74492989c5ac8b5eba5041c05b9927b08d08ffa/rag_plugin.py\u001b[0m\n",
      "\u001b[32m2025-Feb-20 13:51:01.59\u001b[0m| \u001b[1mINFO    \u001b[0m | \u001b[36mDuncans-MBP.fritz.box\u001b[0m| \u001b[36mpinnacle.base.apply\u001b[0m:\u001b[36m261 \u001b[0m | \u001b[1mFound identical Chunker:chunker:0c370aa5f6e7440e\u001b[0m\n",
      "\u001b[32m2025-Feb-20 13:51:01.59\u001b[0m| \u001b[1mINFO    \u001b[0m | \u001b[36mDuncans-MBP.fritz.box\u001b[0m| \u001b[36mpinnacle.base.datalayer\u001b[0m:\u001b[36m387 \u001b[0m | \u001b[1mComponent (Table, _outputs__chunker__256974701f404ceb) not found in cache, loading from db\u001b[0m\n",
      "\u001b[32m2025-Feb-20 13:51:01.59\u001b[0m| \u001b[1mINFO    \u001b[0m | \u001b[36mDuncans-MBP.fritz.box\u001b[0m| \u001b[36mpinnacle.base.datalayer\u001b[0m:\u001b[36m393 \u001b[0m | \u001b[1mLoad (('Table', '_outputs__chunker__256974701f404ceb')) from metadata...\u001b[0m\n",
      "\u001b[32m2025-Feb-20 13:51:01.59\u001b[0m| \u001b[1mINFO    \u001b[0m | \u001b[36mDuncans-MBP.fritz.box\u001b[0m| \u001b[36mpinnacle.base.datalayer\u001b[0m:\u001b[36m405 \u001b[0m | \u001b[1mAdding Table:_outputs__chunker__256974701f404ceb:d19134345c4c4a96 to cache\u001b[0m\n",
      "\u001b[32m2025-Feb-20 13:51:01.59\u001b[0m| \u001b[1mINFO    \u001b[0m | \u001b[36mDuncans-MBP.fritz.box\u001b[0m| \u001b[36mpinnacle.base.apply\u001b[0m:\u001b[36m261 \u001b[0m | \u001b[1mFound identical Table:_outputs__chunker__256974701f404ceb:d19134345c4c4a96\u001b[0m\n",
      "\u001b[32m2025-Feb-20 13:51:01.59\u001b[0m| \u001b[1mINFO    \u001b[0m | \u001b[36mDuncans-MBP.fritz.box\u001b[0m| \u001b[36mpinnacle.base.apply\u001b[0m:\u001b[36m261 \u001b[0m | \u001b[1mFound identical Listener:chunker:256974701f404ceb\u001b[0m\n",
      "\u001b[32m2025-Feb-20 13:51:01.59\u001b[0m| \u001b[1mINFO    \u001b[0m | \u001b[36mDuncans-MBP.fritz.box\u001b[0m| \u001b[36mpinnacle.base.apply\u001b[0m:\u001b[36m348 \u001b[0m | \u001b[1mFound update Listener:chunker:256974701f404ceb\u001b[0m\n",
      "\u001b[32m2025-Feb-20 13:51:01.59\u001b[0m| \u001b[1mINFO    \u001b[0m | \u001b[36mDuncans-MBP.fritz.box\u001b[0m| \u001b[36mpinnacle.base.datalayer\u001b[0m:\u001b[36m387 \u001b[0m | \u001b[1mComponent (Table, Table) not found in cache, loading from db\u001b[0m\n",
      "\u001b[32m2025-Feb-20 13:51:01.59\u001b[0m| \u001b[1mINFO    \u001b[0m | \u001b[36mDuncans-MBP.fritz.box\u001b[0m| \u001b[36mpinnacle.base.datalayer\u001b[0m:\u001b[36m393 \u001b[0m | \u001b[1mLoad (('Table', 'Table')) from metadata...\u001b[0m\n",
      "\u001b[32m2025-Feb-20 13:51:01.59\u001b[0m| \u001b[1mINFO    \u001b[0m | \u001b[36mDuncans-MBP.fritz.box\u001b[0m| \u001b[36mpinnacle.base.datalayer\u001b[0m:\u001b[36m405 \u001b[0m | \u001b[1mAdding Table:Table:abc to cache\u001b[0m\n",
      "\u001b[32m2025-Feb-20 13:51:01.60\u001b[0m| \u001b[1mINFO    \u001b[0m | \u001b[36mDuncans-MBP.fritz.box\u001b[0m| \u001b[36mpinnacle.base.datalayer\u001b[0m:\u001b[36m387 \u001b[0m | \u001b[1mComponent (OpenAIEmbedding, text-embedding) not found in cache, loading from db\u001b[0m\n",
      "\u001b[32m2025-Feb-20 13:51:01.60\u001b[0m| \u001b[1mINFO    \u001b[0m | \u001b[36mDuncans-MBP.fritz.box\u001b[0m| \u001b[36mpinnacle.base.datalayer\u001b[0m:\u001b[36m393 \u001b[0m | \u001b[1mLoad (('OpenAIEmbedding', 'text-embedding')) from metadata...\u001b[0m\n",
      "\u001b[32m2025-Feb-20 13:51:01.61\u001b[0m| \u001b[1mINFO    \u001b[0m | \u001b[36mDuncans-MBP.fritz.box\u001b[0m| \u001b[36mpinnacle.base.apply\u001b[0m:\u001b[36m367 \u001b[0m | \u001b[1mFound new OpenAIEmbedding:text-embedding:42ef44bbed87457d\u001b[0m\n",
      "\u001b[32m2025-Feb-20 13:51:01.61\u001b[0m| \u001b[1mINFO    \u001b[0m | \u001b[36mDuncans-MBP.fritz.box\u001b[0m| \u001b[36mpinnacle.base.datalayer\u001b[0m:\u001b[36m387 \u001b[0m | \u001b[1mComponent (Table, _outputs__embeddinglistener__8b71ad9f5f464fee) not found in cache, loading from db\u001b[0m\n",
      "\u001b[32m2025-Feb-20 13:51:01.61\u001b[0m| \u001b[1mINFO    \u001b[0m | \u001b[36mDuncans-MBP.fritz.box\u001b[0m| \u001b[36mpinnacle.base.datalayer\u001b[0m:\u001b[36m393 \u001b[0m | \u001b[1mLoad (('Table', '_outputs__embeddinglistener__8b71ad9f5f464fee')) from metadata...\u001b[0m\n",
      "\u001b[32m2025-Feb-20 13:51:01.61\u001b[0m| \u001b[1mINFO    \u001b[0m | \u001b[36mDuncans-MBP.fritz.box\u001b[0m| \u001b[36mpinnacle.base.apply\u001b[0m:\u001b[36m367 \u001b[0m | \u001b[1mFound new Table:_outputs__embeddinglistener__8b71ad9f5f464fee:6c7c73ddac174a5d\u001b[0m\n",
      "\u001b[32m2025-Feb-20 13:51:01.61\u001b[0m| \u001b[1mINFO    \u001b[0m | \u001b[36mDuncans-MBP.fritz.box\u001b[0m| \u001b[36mpinnacle.base.datalayer\u001b[0m:\u001b[36m387 \u001b[0m | \u001b[1mComponent (Listener, embeddinglistener) not found in cache, loading from db\u001b[0m\n",
      "\u001b[32m2025-Feb-20 13:51:01.61\u001b[0m| \u001b[1mINFO    \u001b[0m | \u001b[36mDuncans-MBP.fritz.box\u001b[0m| \u001b[36mpinnacle.base.datalayer\u001b[0m:\u001b[36m393 \u001b[0m | \u001b[1mLoad (('Listener', 'embeddinglistener')) from metadata...\u001b[0m\n",
      "\u001b[32m2025-Feb-20 13:51:01.61\u001b[0m| \u001b[1mINFO    \u001b[0m | \u001b[36mDuncans-MBP.fritz.box\u001b[0m| \u001b[36mpinnacle.base.apply\u001b[0m:\u001b[36m367 \u001b[0m | \u001b[1mFound new Listener:embeddinglistener:8b71ad9f5f464fee\u001b[0m\n",
      "\u001b[32m2025-Feb-20 13:51:01.61\u001b[0m| \u001b[1mINFO    \u001b[0m | \u001b[36mDuncans-MBP.fritz.box\u001b[0m| \u001b[36mpinnacle.base.datalayer\u001b[0m:\u001b[36m387 \u001b[0m | \u001b[1mComponent (VectorIndex, vectorindex) not found in cache, loading from db\u001b[0m\n",
      "\u001b[32m2025-Feb-20 13:51:01.61\u001b[0m| \u001b[1mINFO    \u001b[0m | \u001b[36mDuncans-MBP.fritz.box\u001b[0m| \u001b[36mpinnacle.base.datalayer\u001b[0m:\u001b[36m393 \u001b[0m | \u001b[1mLoad (('VectorIndex', 'vectorindex')) from metadata...\u001b[0m\n",
      "\u001b[32m2025-Feb-20 13:51:01.61\u001b[0m| \u001b[1mINFO    \u001b[0m | \u001b[36mDuncans-MBP.fritz.box\u001b[0m| \u001b[36mpinnacle.base.apply\u001b[0m:\u001b[36m367 \u001b[0m | \u001b[1mFound new VectorIndex:vectorindex:964215d5b8974b29\u001b[0m\n",
      "\u001b[32m2025-Feb-20 13:51:01.61\u001b[0m| \u001b[1mINFO    \u001b[0m | \u001b[36mDuncans-MBP.fritz.box\u001b[0m| \u001b[36mpinnacle.base.apply\u001b[0m:\u001b[36m72  \u001b[0m | \u001b[1mFound this diff:\u001b[0m\n"
     ]
    },
    {
     "data": {
      "text/html": [
       "<pre style=\"white-space:pre;overflow-x:auto;line-height:normal;font-family:Menlo,'DejaVu Sans Mono',consolas,'Courier New',monospace\">vectorindex\n",
       "├── <span style=\"color: #808000; text-decoration-color: #808000; font-weight: bold\">plugin-rag_plugin_py</span>\n",
       "│   ├── <span style=\"color: #008080; text-decoration-color: #008080; font-weight: bold\">status: </span><span style=\"color: #000080; text-decoration-color: #000080; font-weight: bold\">update</span>\n",
       "│   └── <span style=\"color: #808000; text-decoration-color: #808000; font-weight: bold\">changes</span>\n",
       "└── <span style=\"color: #808000; text-decoration-color: #808000; font-weight: bold\">chunker</span>\n",
       "    ├── <span style=\"color: #008080; text-decoration-color: #008080; font-weight: bold\">status: </span><span style=\"color: #000080; text-decoration-color: #000080; font-weight: bold\">update</span>\n",
       "    └── <span style=\"color: #808000; text-decoration-color: #808000; font-weight: bold\">changes</span>\n",
       "</pre>\n"
      ],
      "text/plain": [
       "vectorindex\n",
       "├── \u001b[1;33mplugin-rag_plugin_py\u001b[0m\n",
       "│   ├── \u001b[1;36mstatus: \u001b[0m\u001b[1;34mupdate\u001b[0m\n",
       "│   └── \u001b[1;33mchanges\u001b[0m\n",
       "└── \u001b[1;33mchunker\u001b[0m\n",
       "    ├── \u001b[1;36mstatus: \u001b[0m\u001b[1;34mupdate\u001b[0m\n",
       "    └── \u001b[1;33mchanges\u001b[0m\n"
      ]
     },
     "metadata": {},
     "output_type": "display_data"
    },
    {
     "name": "stdout",
     "output_type": "stream",
     "text": [
      "\u001b[32m2025-Feb-20 13:51:01.61\u001b[0m| \u001b[1mINFO    \u001b[0m | \u001b[36mDuncans-MBP.fritz.box\u001b[0m| \u001b[36mpinnacle.base.apply\u001b[0m:\u001b[36m78  \u001b[0m | \u001b[1mFound these changes and/ or additions that need to be made:\u001b[0m\n",
      "\u001b[32m2025-Feb-20 13:51:01.61\u001b[0m| \u001b[1mINFO    \u001b[0m | \u001b[36mDuncans-MBP.fritz.box\u001b[0m| \u001b[36mpinnacle.base.apply\u001b[0m:\u001b[36m80  \u001b[0m | \u001b[1m----------------------------------------------------------------------------------------------------\u001b[0m\n",
      "\u001b[32m2025-Feb-20 13:51:01.61\u001b[0m| \u001b[1mINFO    \u001b[0m | \u001b[36mDuncans-MBP.fritz.box\u001b[0m| \u001b[36mpinnacle.base.apply\u001b[0m:\u001b[36m81  \u001b[0m | \u001b[1mMETADATA EVENTS:\u001b[0m\n",
      "\u001b[32m2025-Feb-20 13:51:01.61\u001b[0m| \u001b[1mINFO    \u001b[0m | \u001b[36mDuncans-MBP.fritz.box\u001b[0m| \u001b[36mpinnacle.base.apply\u001b[0m:\u001b[36m82  \u001b[0m | \u001b[1m----------------------------------------------------------------------------------------------------\u001b[0m\n",
      "\u001b[32m2025-Feb-20 13:51:01.61\u001b[0m| \u001b[1mINFO    \u001b[0m | \u001b[36mDuncans-MBP.fritz.box\u001b[0m| \u001b[36mpinnacle.base.apply\u001b[0m:\u001b[36m89  \u001b[0m | \u001b[1m[0]: Pluginplugin-rag_plugin_py:rag-plugin: update ~ [1]\u001b[0m\n",
      "\u001b[32m2025-Feb-20 13:51:01.61\u001b[0m| \u001b[1mINFO    \u001b[0m | \u001b[36mDuncans-MBP.fritz.box\u001b[0m| \u001b[36mpinnacle.base.apply\u001b[0m:\u001b[36m89  \u001b[0m | \u001b[1m[1]: Listenerchunker:256974701f404ceb: update ~ [4]\u001b[0m\n",
      "\u001b[32m2025-Feb-20 13:51:01.61\u001b[0m| \u001b[1mINFO    \u001b[0m | \u001b[36mDuncans-MBP.fritz.box\u001b[0m| \u001b[36mpinnacle.base.apply\u001b[0m:\u001b[36m89  \u001b[0m | \u001b[1m[2]: OpenAIEmbedding:text-embedding:42ef44bbed87457d: create ~ [4]\u001b[0m\n",
      "\u001b[32m2025-Feb-20 13:51:01.61\u001b[0m| \u001b[1mINFO    \u001b[0m | \u001b[36mDuncans-MBP.fritz.box\u001b[0m| \u001b[36mpinnacle.base.apply\u001b[0m:\u001b[36m89  \u001b[0m | \u001b[1m[3]: Table:_outputs__embeddinglistener__8b71ad9f5f464fee:6c7c73ddac174a5d: create ~ [4]\u001b[0m\n",
      "\u001b[32m2025-Feb-20 13:51:01.61\u001b[0m| \u001b[1mINFO    \u001b[0m | \u001b[36mDuncans-MBP.fritz.box\u001b[0m| \u001b[36mpinnacle.base.apply\u001b[0m:\u001b[36m89  \u001b[0m | \u001b[1m[4]: Listener:embeddinglistener:8b71ad9f5f464fee: create ~ [5]\u001b[0m\n",
      "\u001b[32m2025-Feb-20 13:51:01.61\u001b[0m| \u001b[1mINFO    \u001b[0m | \u001b[36mDuncans-MBP.fritz.box\u001b[0m| \u001b[36mpinnacle.base.apply\u001b[0m:\u001b[36m93  \u001b[0m | \u001b[1m[5]: VectorIndex:vectorindex:964215d5b8974b29: create\u001b[0m\n",
      "\u001b[32m2025-Feb-20 13:51:01.61\u001b[0m| \u001b[1mINFO    \u001b[0m | \u001b[36mDuncans-MBP.fritz.box\u001b[0m| \u001b[36mpinnacle.base.apply\u001b[0m:\u001b[36m95  \u001b[0m | \u001b[1m----------------------------------------------------------------------------------------------------\u001b[0m\n",
      "\u001b[32m2025-Feb-20 13:51:01.61\u001b[0m| \u001b[1mINFO    \u001b[0m | \u001b[36mDuncans-MBP.fritz.box\u001b[0m| \u001b[36mpinnacle.base.apply\u001b[0m:\u001b[36m96  \u001b[0m | \u001b[1mJOBS EVENTS:\u001b[0m\n",
      "\u001b[32m2025-Feb-20 13:51:01.61\u001b[0m| \u001b[1mINFO    \u001b[0m | \u001b[36mDuncans-MBP.fritz.box\u001b[0m| \u001b[36mpinnacle.base.apply\u001b[0m:\u001b[36m97  \u001b[0m | \u001b[1m----------------------------------------------------------------------------------------------------\u001b[0m\n",
      "\u001b[32m2025-Feb-20 13:51:01.61\u001b[0m| \u001b[1mINFO    \u001b[0m | \u001b[36mDuncans-MBP.fritz.box\u001b[0m| \u001b[36mpinnacle.base.apply\u001b[0m:\u001b[36m110 \u001b[0m | \u001b[1m[0]: Listener:embeddinglistener:8b71ad9f5f464fee.run: run\u001b[0m\n",
      "\u001b[32m2025-Feb-20 13:51:01.61\u001b[0m| \u001b[1mINFO    \u001b[0m | \u001b[36mDuncans-MBP.fritz.box\u001b[0m| \u001b[36mpinnacle.base.apply\u001b[0m:\u001b[36m105 \u001b[0m | \u001b[1m[1]: Listener:embeddinglistener:8b71ad9f5f464fee.set_status: set_status ~ [0]\u001b[0m\n",
      "\u001b[32m2025-Feb-20 13:51:01.61\u001b[0m| \u001b[1mINFO    \u001b[0m | \u001b[36mDuncans-MBP.fritz.box\u001b[0m| \u001b[36mpinnacle.base.apply\u001b[0m:\u001b[36m105 \u001b[0m | \u001b[1m[2]: VectorIndex:vectorindex:964215d5b8974b29.copy_vectors: copy_vectors ~ [0,1]\u001b[0m\n",
      "\u001b[32m2025-Feb-20 13:51:01.61\u001b[0m| \u001b[1mINFO    \u001b[0m | \u001b[36mDuncans-MBP.fritz.box\u001b[0m| \u001b[36mpinnacle.base.apply\u001b[0m:\u001b[36m105 \u001b[0m | \u001b[1m[3]: VectorIndex:vectorindex:964215d5b8974b29.set_status: set_status ~ [2]\u001b[0m\n",
      "\u001b[32m2025-Feb-20 13:51:01.61\u001b[0m| \u001b[1mINFO    \u001b[0m | \u001b[36mDuncans-MBP.fritz.box\u001b[0m| \u001b[36mpinnacle.base.apply\u001b[0m:\u001b[36m112 \u001b[0m | \u001b[1m----------------------------------------------------------------------------------------------------\u001b[0m\n",
      "\u001b[32m2025-Feb-20 13:51:01.61\u001b[0m| \u001b[1mINFO    \u001b[0m | \u001b[36mDuncans-MBP.fritz.box\u001b[0m| \u001b[36mpinnacle.base.datalayer\u001b[0m:\u001b[36m387 \u001b[0m | \u001b[1mComponent (Table, ArtifactRelations) not found in cache, loading from db\u001b[0m\n",
      "\u001b[32m2025-Feb-20 13:51:01.61\u001b[0m| \u001b[1mINFO    \u001b[0m | \u001b[36mDuncans-MBP.fritz.box\u001b[0m| \u001b[36mpinnacle.base.datalayer\u001b[0m:\u001b[36m393 \u001b[0m | \u001b[1mLoad (('Table', 'ArtifactRelations')) from metadata...\u001b[0m\n",
      "\u001b[32m2025-Feb-20 13:51:01.61\u001b[0m| \u001b[1mINFO    \u001b[0m | \u001b[36mDuncans-MBP.fritz.box\u001b[0m| \u001b[36mpinnacle.base.datalayer\u001b[0m:\u001b[36m405 \u001b[0m | \u001b[1mAdding Table:ArtifactRelations:ghi to cache\u001b[0m\n",
      "\u001b[32m2025-Feb-20 13:51:01.64\u001b[0m| \u001b[1mINFO    \u001b[0m | \u001b[36mDuncans-MBP.fritz.box\u001b[0m| \u001b[36mpinnacle.base.datalayer\u001b[0m:\u001b[36m387 \u001b[0m | \u001b[1mComponent (Table, OpenAIEmbedding) not found in cache, loading from db\u001b[0m\n",
      "\u001b[32m2025-Feb-20 13:51:01.64\u001b[0m| \u001b[1mINFO    \u001b[0m | \u001b[36mDuncans-MBP.fritz.box\u001b[0m| \u001b[36mpinnacle.base.datalayer\u001b[0m:\u001b[36m393 \u001b[0m | \u001b[1mLoad (('Table', 'OpenAIEmbedding')) from metadata...\u001b[0m\n",
      "\u001b[32m2025-Feb-20 13:51:01.64\u001b[0m| \u001b[1mINFO    \u001b[0m | \u001b[36mDuncans-MBP.fritz.box\u001b[0m| \u001b[36mpinnacle.base.datalayer\u001b[0m:\u001b[36m405 \u001b[0m | \u001b[1mAdding Table:OpenAIEmbedding:90a86c735bf6456f to cache\u001b[0m\n",
      "\u001b[32m2025-Feb-20 13:51:01.68\u001b[0m| \u001b[1mINFO    \u001b[0m | \u001b[36mDuncans-MBP.fritz.box\u001b[0m| \u001b[36mpinnacle.base.datalayer\u001b[0m:\u001b[36m361 \u001b[0m | \u001b[1mComponent 42ef44bbed87457d not found in cache, loading from db with uuid\u001b[0m\n",
      "\u001b[32m2025-Feb-20 13:51:01.69\u001b[0m| \u001b[1mINFO    \u001b[0m | \u001b[36mDuncans-MBP.fritz.box\u001b[0m| \u001b[36mpinnacle.base.datalayer\u001b[0m:\u001b[36m378 \u001b[0m | \u001b[1mAdding OpenAIEmbedding:text-embedding:42ef44bbed87457d to cache\u001b[0m\n",
      "\u001b[32m2025-Feb-20 13:51:01.69\u001b[0m| \u001b[1mINFO    \u001b[0m | \u001b[36mDuncans-MBP.fritz.box\u001b[0m| \u001b[36mpinnacle.base.datalayer\u001b[0m:\u001b[36m387 \u001b[0m | \u001b[1mComponent (Table, ParentChildAssociations) not found in cache, loading from db\u001b[0m\n",
      "\u001b[32m2025-Feb-20 13:51:01.69\u001b[0m| \u001b[1mINFO    \u001b[0m | \u001b[36mDuncans-MBP.fritz.box\u001b[0m| \u001b[36mpinnacle.base.datalayer\u001b[0m:\u001b[36m393 \u001b[0m | \u001b[1mLoad (('Table', 'ParentChildAssociations')) from metadata...\u001b[0m\n",
      "\u001b[32m2025-Feb-20 13:51:01.69\u001b[0m| \u001b[1mINFO    \u001b[0m | \u001b[36mDuncans-MBP.fritz.box\u001b[0m| \u001b[36mpinnacle.base.datalayer\u001b[0m:\u001b[36m405 \u001b[0m | \u001b[1mAdding Table:ParentChildAssociations:def to cache\u001b[0m\n",
      "\u001b[32m2025-Feb-20 13:51:01.71\u001b[0m| \u001b[1mINFO    \u001b[0m | \u001b[36mDuncans-MBP.fritz.box\u001b[0m| \u001b[36mpinnacle.components.component\u001b[0m:\u001b[36m518 \u001b[0m | \u001b[1mAdding OpenAIEmbedding:text-embedding to cache\u001b[0m\n",
      "\u001b[32m2025-Feb-20 13:51:01.71\u001b[0m| \u001b[1mINFO    \u001b[0m | \u001b[36mDuncans-MBP.fritz.box\u001b[0m| \u001b[36mpinnacle.base.datalayer\u001b[0m:\u001b[36m387 \u001b[0m | \u001b[1mComponent (Table, Table) not found in cache, loading from db\u001b[0m\n",
      "\u001b[32m2025-Feb-20 13:51:01.71\u001b[0m| \u001b[1mINFO    \u001b[0m | \u001b[36mDuncans-MBP.fritz.box\u001b[0m| \u001b[36mpinnacle.base.datalayer\u001b[0m:\u001b[36m393 \u001b[0m | \u001b[1mLoad (('Table', 'Table')) from metadata...\u001b[0m\n",
      "\u001b[32m2025-Feb-20 13:51:01.71\u001b[0m| \u001b[1mINFO    \u001b[0m | \u001b[36mDuncans-MBP.fritz.box\u001b[0m| \u001b[36mpinnacle.base.datalayer\u001b[0m:\u001b[36m405 \u001b[0m | \u001b[1mAdding Table:Table:abc to cache\u001b[0m\n",
      "\u001b[32m2025-Feb-20 13:51:01.72\u001b[0m| \u001b[1mINFO    \u001b[0m | \u001b[36mDuncans-MBP.fritz.box\u001b[0m| \u001b[36mpinnacle.base.datalayer\u001b[0m:\u001b[36m361 \u001b[0m | \u001b[1mComponent 6c7c73ddac174a5d not found in cache, loading from db with uuid\u001b[0m\n",
      "\u001b[32m2025-Feb-20 13:51:01.73\u001b[0m| \u001b[1mINFO    \u001b[0m | \u001b[36mDuncans-MBP.fritz.box\u001b[0m| \u001b[36mpinnacle.base.datalayer\u001b[0m:\u001b[36m378 \u001b[0m | \u001b[1mAdding Table:_outputs__embeddinglistener__8b71ad9f5f464fee:6c7c73ddac174a5d to cache\u001b[0m\n",
      "\u001b[32m2025-Feb-20 13:51:01.73\u001b[0m| \u001b[1mINFO    \u001b[0m | \u001b[36mDuncans-MBP.fritz.box\u001b[0m| \u001b[36mpinnacle.base.datalayer\u001b[0m:\u001b[36m387 \u001b[0m | \u001b[1mComponent (Table, ParentChildAssociations) not found in cache, loading from db\u001b[0m\n",
      "\u001b[32m2025-Feb-20 13:51:01.73\u001b[0m| \u001b[1mINFO    \u001b[0m | \u001b[36mDuncans-MBP.fritz.box\u001b[0m| \u001b[36mpinnacle.base.datalayer\u001b[0m:\u001b[36m393 \u001b[0m | \u001b[1mLoad (('Table', 'ParentChildAssociations')) from metadata...\u001b[0m\n",
      "\u001b[32m2025-Feb-20 13:51:01.73\u001b[0m| \u001b[1mINFO    \u001b[0m | \u001b[36mDuncans-MBP.fritz.box\u001b[0m| \u001b[36mpinnacle.base.datalayer\u001b[0m:\u001b[36m405 \u001b[0m | \u001b[1mAdding Table:ParentChildAssociations:def to cache\u001b[0m\n",
      "\u001b[32m2025-Feb-20 13:51:01.74\u001b[0m| \u001b[1mINFO    \u001b[0m | \u001b[36mDuncans-MBP.fritz.box\u001b[0m| \u001b[36mpinnacle.base.datalayer\u001b[0m:\u001b[36m387 \u001b[0m | \u001b[1mComponent (Table, Listener) not found in cache, loading from db\u001b[0m\n",
      "\u001b[32m2025-Feb-20 13:51:01.74\u001b[0m| \u001b[1mINFO    \u001b[0m | \u001b[36mDuncans-MBP.fritz.box\u001b[0m| \u001b[36mpinnacle.base.datalayer\u001b[0m:\u001b[36m393 \u001b[0m | \u001b[1mLoad (('Table', 'Listener')) from metadata...\u001b[0m\n",
      "\u001b[32m2025-Feb-20 13:51:01.74\u001b[0m| \u001b[1mINFO    \u001b[0m | \u001b[36mDuncans-MBP.fritz.box\u001b[0m| \u001b[36mpinnacle.base.datalayer\u001b[0m:\u001b[36m405 \u001b[0m | \u001b[1mAdding Table:Listener:5374299d389745b3 to cache\u001b[0m\n",
      "\u001b[32m2025-Feb-20 13:51:01.76\u001b[0m| \u001b[1mINFO    \u001b[0m | \u001b[36mDuncans-MBP.fritz.box\u001b[0m| \u001b[36mpinnacle.base.datalayer\u001b[0m:\u001b[36m361 \u001b[0m | \u001b[1mComponent 8b71ad9f5f464fee not found in cache, loading from db with uuid\u001b[0m\n",
      "\u001b[32m2025-Feb-20 13:51:01.76\u001b[0m| \u001b[1mINFO    \u001b[0m | \u001b[36mDuncans-MBP.fritz.box\u001b[0m| \u001b[36mpinnacle.base.datalayer\u001b[0m:\u001b[36m361 \u001b[0m | \u001b[1mComponent 256974701f404ceb not found in cache, loading from db with uuid\u001b[0m\n",
      "\u001b[32m2025-Feb-20 13:51:01.77\u001b[0m| \u001b[1mINFO    \u001b[0m | \u001b[36mDuncans-MBP.fritz.box\u001b[0m| \u001b[36mpinnacle.base.datalayer\u001b[0m:\u001b[36m361 \u001b[0m | \u001b[1mComponent rag-plugin not found in cache, loading from db with uuid\u001b[0m\n",
      "\u001b[32m2025-Feb-20 13:51:01.77\u001b[0m| \u001b[1mINFO    \u001b[0m | \u001b[36mDuncans-MBP.fritz.box\u001b[0m| \u001b[36mpinnacle.base.datalayer\u001b[0m:\u001b[36m378 \u001b[0m | \u001b[1mAdding Plugin:plugin-rag_plugin_py:rag-plugin to cache\u001b[0m\n",
      "\u001b[32m2025-Feb-20 13:51:01.77\u001b[0m| \u001b[1mINFO    \u001b[0m | \u001b[36mDuncans-MBP.fritz.box\u001b[0m| \u001b[36mpinnacle.base.datalayer\u001b[0m:\u001b[36m378 \u001b[0m | \u001b[1mAdding Listener:chunker:256974701f404ceb to cache\u001b[0m\n",
      "\u001b[32m2025-Feb-20 13:51:01.77\u001b[0m| \u001b[1mINFO    \u001b[0m | \u001b[36mDuncans-MBP.fritz.box\u001b[0m| \u001b[36mpinnacle.base.datalayer\u001b[0m:\u001b[36m378 \u001b[0m | \u001b[1mAdding Listener:embeddinglistener:8b71ad9f5f464fee to cache\u001b[0m\n",
      "\u001b[32m2025-Feb-20 13:51:01.77\u001b[0m| \u001b[1mINFO    \u001b[0m | \u001b[36mDuncans-MBP.fritz.box\u001b[0m| \u001b[36mpinnacle.base.datalayer\u001b[0m:\u001b[36m387 \u001b[0m | \u001b[1mComponent (Table, ParentChildAssociations) not found in cache, loading from db\u001b[0m\n",
      "\u001b[32m2025-Feb-20 13:51:01.77\u001b[0m| \u001b[1mINFO    \u001b[0m | \u001b[36mDuncans-MBP.fritz.box\u001b[0m| \u001b[36mpinnacle.base.datalayer\u001b[0m:\u001b[36m393 \u001b[0m | \u001b[1mLoad (('Table', 'ParentChildAssociations')) from metadata...\u001b[0m\n",
      "\u001b[32m2025-Feb-20 13:51:01.77\u001b[0m| \u001b[1mINFO    \u001b[0m | \u001b[36mDuncans-MBP.fritz.box\u001b[0m| \u001b[36mpinnacle.base.datalayer\u001b[0m:\u001b[36m405 \u001b[0m | \u001b[1mAdding Table:ParentChildAssociations:def to cache\u001b[0m\n",
      "\u001b[32m2025-Feb-20 13:51:01.79\u001b[0m| \u001b[1mINFO    \u001b[0m | \u001b[36mDuncans-MBP.fritz.box\u001b[0m| \u001b[36mpinnacle.base.datalayer\u001b[0m:\u001b[36m387 \u001b[0m | \u001b[1mComponent (Table, ParentChildAssociations) not found in cache, loading from db\u001b[0m\n",
      "\u001b[32m2025-Feb-20 13:51:01.79\u001b[0m| \u001b[1mINFO    \u001b[0m | \u001b[36mDuncans-MBP.fritz.box\u001b[0m| \u001b[36mpinnacle.base.datalayer\u001b[0m:\u001b[36m393 \u001b[0m | \u001b[1mLoad (('Table', 'ParentChildAssociations')) from metadata...\u001b[0m\n",
      "\u001b[32m2025-Feb-20 13:51:01.79\u001b[0m| \u001b[1mINFO    \u001b[0m | \u001b[36mDuncans-MBP.fritz.box\u001b[0m| \u001b[36mpinnacle.base.datalayer\u001b[0m:\u001b[36m405 \u001b[0m | \u001b[1mAdding Table:ParentChildAssociations:def to cache\u001b[0m\n",
      "\u001b[32m2025-Feb-20 13:51:01.81\u001b[0m| \u001b[1mINFO    \u001b[0m | \u001b[36mDuncans-MBP.fritz.box\u001b[0m| \u001b[36mpinnacle.components.component\u001b[0m:\u001b[36m518 \u001b[0m | \u001b[1mAdding Listener:embeddinglistener to cache\u001b[0m\n",
      "\u001b[32m2025-Feb-20 13:51:01.81\u001b[0m| \u001b[1mINFO    \u001b[0m | \u001b[36mDuncans-MBP.fritz.box\u001b[0m| \u001b[36mpinnacle.base.datalayer\u001b[0m:\u001b[36m387 \u001b[0m | \u001b[1mComponent (Table, VectorIndex) not found in cache, loading from db\u001b[0m\n",
      "\u001b[32m2025-Feb-20 13:51:01.81\u001b[0m| \u001b[1mINFO    \u001b[0m | \u001b[36mDuncans-MBP.fritz.box\u001b[0m| \u001b[36mpinnacle.base.datalayer\u001b[0m:\u001b[36m393 \u001b[0m | \u001b[1mLoad (('Table', 'VectorIndex')) from metadata...\u001b[0m\n",
      "\u001b[32m2025-Feb-20 13:51:01.81\u001b[0m| \u001b[1mINFO    \u001b[0m | \u001b[36mDuncans-MBP.fritz.box\u001b[0m| \u001b[36mpinnacle.base.datalayer\u001b[0m:\u001b[36m405 \u001b[0m | \u001b[1mAdding Table:VectorIndex:53b55c9c6c8b47f9 to cache\u001b[0m\n",
      "\u001b[32m2025-Feb-20 13:51:01.85\u001b[0m| \u001b[1mINFO    \u001b[0m | \u001b[36mDuncans-MBP.fritz.box\u001b[0m| \u001b[36mpinnacle.base.datalayer\u001b[0m:\u001b[36m361 \u001b[0m | \u001b[1mComponent 964215d5b8974b29 not found in cache, loading from db with uuid\u001b[0m\n",
      "\u001b[32m2025-Feb-20 13:51:01.86\u001b[0m| \u001b[1mINFO    \u001b[0m | \u001b[36mDuncans-MBP.fritz.box\u001b[0m| \u001b[36mpinnacle.base.datalayer\u001b[0m:\u001b[36m378 \u001b[0m | \u001b[1mAdding VectorIndex:vectorindex:964215d5b8974b29 to cache\u001b[0m\n",
      "\u001b[32m2025-Feb-20 13:51:01.86\u001b[0m| \u001b[1mINFO    \u001b[0m | \u001b[36mDuncans-MBP.fritz.box\u001b[0m| \u001b[36mpinnacle.base.datalayer\u001b[0m:\u001b[36m387 \u001b[0m | \u001b[1mComponent (Table, ParentChildAssociations) not found in cache, loading from db\u001b[0m\n",
      "\u001b[32m2025-Feb-20 13:51:01.86\u001b[0m| \u001b[1mINFO    \u001b[0m | \u001b[36mDuncans-MBP.fritz.box\u001b[0m| \u001b[36mpinnacle.base.datalayer\u001b[0m:\u001b[36m393 \u001b[0m | \u001b[1mLoad (('Table', 'ParentChildAssociations')) from metadata...\u001b[0m\n",
      "\u001b[32m2025-Feb-20 13:51:01.86\u001b[0m| \u001b[1mINFO    \u001b[0m | \u001b[36mDuncans-MBP.fritz.box\u001b[0m| \u001b[36mpinnacle.base.datalayer\u001b[0m:\u001b[36m405 \u001b[0m | \u001b[1mAdding Table:ParentChildAssociations:def to cache\u001b[0m\n",
      "\u001b[32m2025-Feb-20 13:51:01.88\u001b[0m| \u001b[1mINFO    \u001b[0m | \u001b[36mDuncans-MBP.fritz.box\u001b[0m| \u001b[36mpinnacle.components.component\u001b[0m:\u001b[36m518 \u001b[0m | \u001b[1mAdding VectorIndex:vectorindex to cache\u001b[0m\n",
      "\u001b[32m2025-Feb-20 13:51:01.88\u001b[0m| \u001b[1mINFO    \u001b[0m | \u001b[36mDuncans-MBP.fritz.box\u001b[0m| \u001b[36mpinnacle.base.datalayer\u001b[0m:\u001b[36m387 \u001b[0m | \u001b[1mComponent (Table, Job) not found in cache, loading from db\u001b[0m\n",
      "\u001b[32m2025-Feb-20 13:51:01.88\u001b[0m| \u001b[1mINFO    \u001b[0m | \u001b[36mDuncans-MBP.fritz.box\u001b[0m| \u001b[36mpinnacle.base.datalayer\u001b[0m:\u001b[36m393 \u001b[0m | \u001b[1mLoad (('Table', 'Job')) from metadata...\u001b[0m\n",
      "\u001b[32m2025-Feb-20 13:51:01.88\u001b[0m| \u001b[1mINFO    \u001b[0m | \u001b[36mDuncans-MBP.fritz.box\u001b[0m| \u001b[36mpinnacle.base.datalayer\u001b[0m:\u001b[36m405 \u001b[0m | \u001b[1mAdding Table:Job:jkl to cache\u001b[0m\n"
     ]
    },
    {
     "name": "stderr",
     "output_type": "stream",
     "text": [
      "[2025-02-20 13:51:02] httpx INFO HTTP Request: GET https://api.openai.com/v1/models \"HTTP/1.1 200 OK\"\n"
     ]
    },
    {
     "name": "stdout",
     "output_type": "stream",
     "text": [
      "\u001b[32m2025-Feb-20 13:51:02.51\u001b[0m| \u001b[1mINFO    \u001b[0m | \u001b[36mDuncans-MBP.fritz.box\u001b[0m| \u001b[36mpinnacle.components.model\u001b[0m:\u001b[36m495 \u001b[0m | \u001b[1mRequesting prediction in db - [text-embedding] with predict_id embeddinglistener__8b71ad9f5f464fee\n",
      "\u001b[0m\n"
     ]
    },
    {
     "name": "stderr",
     "output_type": "stream",
     "text": [
      "[2025-02-20 13:51:03] httpx INFO HTTP Request: POST https://api.openai.com/v1/embeddings \"HTTP/1.1 200 OK\"                                                                                                                     | 0/4 [00:00<?, ?it/s]\n",
      "[2025-02-20 13:51:04] httpx INFO HTTP Request: POST https://api.openai.com/v1/embeddings \"HTTP/1.1 200 OK\"                                                                                                             | 1/4 [00:01<00:03,  1.32s/it]\n",
      "[2025-02-20 13:51:06] httpx INFO HTTP Request: POST https://api.openai.com/v1/embeddings \"HTTP/1.1 200 OK\"████                                                                                                         | 2/4 [00:03<00:03,  1.63s/it]\n",
      "[2025-02-20 13:51:07] httpx INFO HTTP Request: POST https://api.openai.com/v1/embeddings \"HTTP/1.1 200 OK\"████████████████████████████████████████████████████████▌                                                    | 3/4 [00:04<00:01,  1.43s/it]\n",
      "100%|██████████████████████████████████████████████████████████████████████████████████████████████████████████████████████████████████████████████████████████████████████████████████████████████████████████████████| 4/4 [00:05<00:00,  1.42s/it]\n"
     ]
    },
    {
     "name": "stdout",
     "output_type": "stream",
     "text": [
      "\u001b[32m2025-Feb-20 13:51:08.22\u001b[0m| \u001b[1mINFO    \u001b[0m | \u001b[36mDuncans-MBP.fritz.box\u001b[0m| \u001b[36mpinnacle.components.model\u001b[0m:\u001b[36m633 \u001b[0m | \u001b[1mAdding 336 model outputs to `db`\u001b[0m\n",
      "\u001b[32m2025-Feb-20 13:51:08.23\u001b[0m| \u001b[1mINFO    \u001b[0m | \u001b[36mDuncans-MBP.fritz.box\u001b[0m| \u001b[36mpinnacle.base.datalayer\u001b[0m:\u001b[36m387 \u001b[0m | \u001b[1mComponent (Table, _outputs__embeddinglistener__8b71ad9f5f464fee) not found in cache, loading from db\u001b[0m\n",
      "\u001b[32m2025-Feb-20 13:51:08.23\u001b[0m| \u001b[1mINFO    \u001b[0m | \u001b[36mDuncans-MBP.fritz.box\u001b[0m| \u001b[36mpinnacle.base.datalayer\u001b[0m:\u001b[36m393 \u001b[0m | \u001b[1mLoad (('Table', '_outputs__embeddinglistener__8b71ad9f5f464fee')) from metadata...\u001b[0m\n",
      "\u001b[32m2025-Feb-20 13:51:08.23\u001b[0m| \u001b[1mINFO    \u001b[0m | \u001b[36mDuncans-MBP.fritz.box\u001b[0m| \u001b[36mpinnacle.base.datalayer\u001b[0m:\u001b[36m405 \u001b[0m | \u001b[1mAdding Table:_outputs__embeddinglistener__8b71ad9f5f464fee:6c7c73ddac174a5d to cache\u001b[0m\n",
      "\u001b[32m2025-Feb-20 13:51:08.72\u001b[0m| \u001b[1mINFO    \u001b[0m | \u001b[36mDuncans-MBP.fritz.box\u001b[0m| \u001b[36mpinnacle.base.datalayer\u001b[0m:\u001b[36m387 \u001b[0m | \u001b[1mComponent (Table, Job) not found in cache, loading from db\u001b[0m\n",
      "\u001b[32m2025-Feb-20 13:51:08.72\u001b[0m| \u001b[1mINFO    \u001b[0m | \u001b[36mDuncans-MBP.fritz.box\u001b[0m| \u001b[36mpinnacle.base.datalayer\u001b[0m:\u001b[36m393 \u001b[0m | \u001b[1mLoad (('Table', 'Job')) from metadata...\u001b[0m\n",
      "\u001b[32m2025-Feb-20 13:51:08.72\u001b[0m| \u001b[1mINFO    \u001b[0m | \u001b[36mDuncans-MBP.fritz.box\u001b[0m| \u001b[36mpinnacle.base.datalayer\u001b[0m:\u001b[36m405 \u001b[0m | \u001b[1mAdding Table:Job:jkl to cache\u001b[0m\n",
      "\u001b[32m2025-Feb-20 13:51:08.78\u001b[0m| \u001b[1mINFO    \u001b[0m | \u001b[36mDuncans-MBP.fritz.box\u001b[0m| \u001b[36mpinnacle.base.datalayer\u001b[0m:\u001b[36m387 \u001b[0m | \u001b[1mComponent (Table, Job) not found in cache, loading from db\u001b[0m\n",
      "\u001b[32m2025-Feb-20 13:51:08.78\u001b[0m| \u001b[1mINFO    \u001b[0m | \u001b[36mDuncans-MBP.fritz.box\u001b[0m| \u001b[36mpinnacle.base.datalayer\u001b[0m:\u001b[36m393 \u001b[0m | \u001b[1mLoad (('Table', 'Job')) from metadata...\u001b[0m\n",
      "\u001b[32m2025-Feb-20 13:51:08.78\u001b[0m| \u001b[1mINFO    \u001b[0m | \u001b[36mDuncans-MBP.fritz.box\u001b[0m| \u001b[36mpinnacle.base.datalayer\u001b[0m:\u001b[36m405 \u001b[0m | \u001b[1mAdding Table:Job:jkl to cache\u001b[0m\n",
      "\u001b[32m2025-Feb-20 13:51:08.88\u001b[0m| \u001b[1mINFO    \u001b[0m | \u001b[36mDuncans-MBP.fritz.box\u001b[0m| \u001b[36mpinnacle.base.datalayer\u001b[0m:\u001b[36m387 \u001b[0m | \u001b[1mComponent (Table, Job) not found in cache, loading from db\u001b[0m\n",
      "\u001b[32m2025-Feb-20 13:51:08.88\u001b[0m| \u001b[1mINFO    \u001b[0m | \u001b[36mDuncans-MBP.fritz.box\u001b[0m| \u001b[36mpinnacle.base.datalayer\u001b[0m:\u001b[36m393 \u001b[0m | \u001b[1mLoad (('Table', 'Job')) from metadata...\u001b[0m\n",
      "\u001b[32m2025-Feb-20 13:51:08.88\u001b[0m| \u001b[1mINFO    \u001b[0m | \u001b[36mDuncans-MBP.fritz.box\u001b[0m| \u001b[36mpinnacle.base.datalayer\u001b[0m:\u001b[36m405 \u001b[0m | \u001b[1mAdding Table:Job:jkl to cache\u001b[0m\n",
      "\u001b[32m2025-Feb-20 13:51:08.92\u001b[0m| \u001b[1mINFO    \u001b[0m | \u001b[36mDuncans-MBP.fritz.box\u001b[0m| \u001b[36mpinnacle.backends.local.queue\u001b[0m:\u001b[36m114 \u001b[0m | \u001b[1mConsumed all events\u001b[0m\n"
     ]
    }
   ],
   "source": [
    "if APPLY and EAGER:\n",
    "    db.apply(vector_index, force=True)"
   ]
  },
  {
   "cell_type": "markdown",
   "id": "1179a67b-4e40-496b-9851-98f32d42faa0",
   "metadata": {},
   "source": [
    "<!-- TABS -->\n",
    "## Build LLM"
   ]
  },
  {
   "cell_type": "code",
   "execution_count": 15,
   "id": "f98e5ff4",
   "metadata": {},
   "outputs": [],
   "source": [
    "from pinnacle_openai import OpenAIChatCompletion\n",
    "\n",
    "\n",
    "llm_openai = OpenAIChatCompletion(\n",
    "    identifier='llm-model',\n",
    "    model='gpt-3.5-turbo',\n",
    "    datatype='str',\n",
    ")"
   ]
  },
  {
   "cell_type": "markdown",
   "id": "60ae6203-dcc4-493c-a8f8-f727f0f75778",
   "metadata": {},
   "source": [
    "## Answer question with LLM"
   ]
  },
  {
   "cell_type": "code",
   "execution_count": 16,
   "id": "44baeb09-6f35-4cf2-b814-46283a59f7e9",
   "metadata": {},
   "outputs": [],
   "source": [
    "from pinnacle import model\n",
    "from rag_plugin import RAGModel\n",
    "\n",
    "\n",
    "prompt_template = (\n",
    "    \"Use the following context snippets, these snippets are not ordered!, Answer the question based on this context.\\n\"\n",
    "    \"These snippets are samples from our internal data-repositories, and should be used exclusively and as a matter\"\n",
    "    \" of priority to answer the question. Please answer in 20 words or less.\\n\\n\"\n",
    "    \"{context}\\n\\n\"\n",
    "    \"Here's the question: {query}\"\n",
    ")\n",
    "\n",
    "rag = RAGModel(\n",
    "    'simple_rag',\n",
    "    select=db[upstream_listener.outputs].select().like({upstream_listener.outputs: '<var:query>'}, vector_index=vector_index_name, n=5),\n",
    "    prompt_template=prompt_template,\n",
    "    key=upstream_listener.outputs,\n",
    "    llm=llm_openai,\n",
    ")"
   ]
  },
  {
   "cell_type": "code",
   "execution_count": 17,
   "id": "2d3a0d3a-da1c-41ec-b16c-f281c46ad794",
   "metadata": {},
   "outputs": [
    {
     "name": "stdout",
     "output_type": "stream",
     "text": [
      "\u001b[32m2025-Feb-20 13:51:24.22\u001b[0m| \u001b[1mINFO    \u001b[0m | \u001b[36mDuncans-MBP.fritz.box\u001b[0m| \u001b[36mpinnacle.base.datalayer\u001b[0m:\u001b[36m387 \u001b[0m | \u001b[1mComponent (Table, Table) not found in cache, loading from db\u001b[0m\n",
      "\u001b[32m2025-Feb-20 13:51:24.22\u001b[0m| \u001b[1mINFO    \u001b[0m | \u001b[36mDuncans-MBP.fritz.box\u001b[0m| \u001b[36mpinnacle.base.datalayer\u001b[0m:\u001b[36m393 \u001b[0m | \u001b[1mLoad (('Table', 'Table')) from metadata...\u001b[0m\n",
      "\u001b[32m2025-Feb-20 13:51:24.22\u001b[0m| \u001b[1mINFO    \u001b[0m | \u001b[36mDuncans-MBP.fritz.box\u001b[0m| \u001b[36mpinnacle.base.datalayer\u001b[0m:\u001b[36m405 \u001b[0m | \u001b[1mAdding Table:Table:abc to cache\u001b[0m\n",
      "\u001b[32m2025-Feb-20 13:51:24.23\u001b[0m| \u001b[1mINFO    \u001b[0m | \u001b[36mDuncans-MBP.fritz.box\u001b[0m| \u001b[36mpinnacle.base.datalayer\u001b[0m:\u001b[36m387 \u001b[0m | \u001b[1mComponent (Table, Table) not found in cache, loading from db\u001b[0m\n",
      "\u001b[32m2025-Feb-20 13:51:24.23\u001b[0m| \u001b[1mINFO    \u001b[0m | \u001b[36mDuncans-MBP.fritz.box\u001b[0m| \u001b[36mpinnacle.base.datalayer\u001b[0m:\u001b[36m393 \u001b[0m | \u001b[1mLoad (('Table', 'Table')) from metadata...\u001b[0m\n",
      "\u001b[32m2025-Feb-20 13:51:24.24\u001b[0m| \u001b[1mINFO    \u001b[0m | \u001b[36mDuncans-MBP.fritz.box\u001b[0m| \u001b[36mpinnacle.base.datalayer\u001b[0m:\u001b[36m405 \u001b[0m | \u001b[1mAdding Table:Table:abc to cache\u001b[0m\n",
      "\u001b[32m2025-Feb-20 13:51:24.25\u001b[0m| \u001b[1mINFO    \u001b[0m | \u001b[36mDuncans-MBP.fritz.box\u001b[0m| \u001b[36mpinnacle.base.datalayer\u001b[0m:\u001b[36m387 \u001b[0m | \u001b[1mComponent (OpenAIChatCompletion, llm-model) not found in cache, loading from db\u001b[0m\n",
      "\u001b[32m2025-Feb-20 13:51:24.25\u001b[0m| \u001b[1mINFO    \u001b[0m | \u001b[36mDuncans-MBP.fritz.box\u001b[0m| \u001b[36mpinnacle.base.datalayer\u001b[0m:\u001b[36m393 \u001b[0m | \u001b[1mLoad (('OpenAIChatCompletion', 'llm-model')) from metadata...\u001b[0m\n",
      "\u001b[32m2025-Feb-20 13:51:24.25\u001b[0m| \u001b[1mINFO    \u001b[0m | \u001b[36mDuncans-MBP.fritz.box\u001b[0m| \u001b[36mpinnacle.base.apply\u001b[0m:\u001b[36m367 \u001b[0m | \u001b[1mFound new OpenAIChatCompletion:llm-model:564660be382e4dee\u001b[0m\n",
      "\u001b[32m2025-Feb-20 13:51:24.25\u001b[0m| \u001b[1mINFO    \u001b[0m | \u001b[36mDuncans-MBP.fritz.box\u001b[0m| \u001b[36mpinnacle.base.datalayer\u001b[0m:\u001b[36m387 \u001b[0m | \u001b[1mComponent (RAGModel, simple_rag) not found in cache, loading from db\u001b[0m\n",
      "\u001b[32m2025-Feb-20 13:51:24.25\u001b[0m| \u001b[1mINFO    \u001b[0m | \u001b[36mDuncans-MBP.fritz.box\u001b[0m| \u001b[36mpinnacle.base.datalayer\u001b[0m:\u001b[36m393 \u001b[0m | \u001b[1mLoad (('RAGModel', 'simple_rag')) from metadata...\u001b[0m\n",
      "\u001b[32m2025-Feb-20 13:51:24.26\u001b[0m| \u001b[1mINFO    \u001b[0m | \u001b[36mDuncans-MBP.fritz.box\u001b[0m| \u001b[36mpinnacle.base.apply\u001b[0m:\u001b[36m367 \u001b[0m | \u001b[1mFound new RAGModel:simple_rag:65eebfe2283e4392\u001b[0m\n",
      "\u001b[32m2025-Feb-20 13:51:24.26\u001b[0m| \u001b[1mINFO    \u001b[0m | \u001b[36mDuncans-MBP.fritz.box\u001b[0m| \u001b[36mpinnacle.base.apply\u001b[0m:\u001b[36m78  \u001b[0m | \u001b[1mFound these changes and/ or additions that need to be made:\u001b[0m\n",
      "\u001b[32m2025-Feb-20 13:51:24.26\u001b[0m| \u001b[1mINFO    \u001b[0m | \u001b[36mDuncans-MBP.fritz.box\u001b[0m| \u001b[36mpinnacle.base.apply\u001b[0m:\u001b[36m80  \u001b[0m | \u001b[1m----------------------------------------------------------------------------------------------------\u001b[0m\n",
      "\u001b[32m2025-Feb-20 13:51:24.26\u001b[0m| \u001b[1mINFO    \u001b[0m | \u001b[36mDuncans-MBP.fritz.box\u001b[0m| \u001b[36mpinnacle.base.apply\u001b[0m:\u001b[36m81  \u001b[0m | \u001b[1mMETADATA EVENTS:\u001b[0m\n",
      "\u001b[32m2025-Feb-20 13:51:24.26\u001b[0m| \u001b[1mINFO    \u001b[0m | \u001b[36mDuncans-MBP.fritz.box\u001b[0m| \u001b[36mpinnacle.base.apply\u001b[0m:\u001b[36m82  \u001b[0m | \u001b[1m----------------------------------------------------------------------------------------------------\u001b[0m\n",
      "\u001b[32m2025-Feb-20 13:51:24.26\u001b[0m| \u001b[1mINFO    \u001b[0m | \u001b[36mDuncans-MBP.fritz.box\u001b[0m| \u001b[36mpinnacle.base.apply\u001b[0m:\u001b[36m89  \u001b[0m | \u001b[1m[0]: OpenAIChatCompletion:llm-model:564660be382e4dee: create ~ [1]\u001b[0m\n",
      "\u001b[32m2025-Feb-20 13:51:24.26\u001b[0m| \u001b[1mINFO    \u001b[0m | \u001b[36mDuncans-MBP.fritz.box\u001b[0m| \u001b[36mpinnacle.base.apply\u001b[0m:\u001b[36m93  \u001b[0m | \u001b[1m[1]: RAGModel:simple_rag:65eebfe2283e4392: create\u001b[0m\n",
      "\u001b[32m2025-Feb-20 13:51:24.26\u001b[0m| \u001b[1mINFO    \u001b[0m | \u001b[36mDuncans-MBP.fritz.box\u001b[0m| \u001b[36mpinnacle.base.apply\u001b[0m:\u001b[36m95  \u001b[0m | \u001b[1m----------------------------------------------------------------------------------------------------\u001b[0m\n",
      "\u001b[32m2025-Feb-20 13:51:24.26\u001b[0m| \u001b[1mINFO    \u001b[0m | \u001b[36mDuncans-MBP.fritz.box\u001b[0m| \u001b[36mpinnacle.base.apply\u001b[0m:\u001b[36m96  \u001b[0m | \u001b[1mJOBS EVENTS:\u001b[0m\n",
      "\u001b[32m2025-Feb-20 13:51:24.26\u001b[0m| \u001b[1mINFO    \u001b[0m | \u001b[36mDuncans-MBP.fritz.box\u001b[0m| \u001b[36mpinnacle.base.apply\u001b[0m:\u001b[36m97  \u001b[0m | \u001b[1m----------------------------------------------------------------------------------------------------\u001b[0m\n",
      "\u001b[32m2025-Feb-20 13:51:24.26\u001b[0m| \u001b[1mINFO    \u001b[0m | \u001b[36mDuncans-MBP.fritz.box\u001b[0m| \u001b[36mpinnacle.base.apply\u001b[0m:\u001b[36m101 \u001b[0m | \u001b[1mNo job events...\u001b[0m\n",
      "\u001b[32m2025-Feb-20 13:51:24.26\u001b[0m| \u001b[1mINFO    \u001b[0m | \u001b[36mDuncans-MBP.fritz.box\u001b[0m| \u001b[36mpinnacle.base.apply\u001b[0m:\u001b[36m112 \u001b[0m | \u001b[1m----------------------------------------------------------------------------------------------------\u001b[0m\n",
      "\u001b[32m2025-Feb-20 13:51:24.26\u001b[0m| \u001b[1mINFO    \u001b[0m | \u001b[36mDuncans-MBP.fritz.box\u001b[0m| \u001b[36mpinnacle.base.datalayer\u001b[0m:\u001b[36m387 \u001b[0m | \u001b[1mComponent (Table, OpenAIChatCompletion) not found in cache, loading from db\u001b[0m\n",
      "\u001b[32m2025-Feb-20 13:51:24.26\u001b[0m| \u001b[1mINFO    \u001b[0m | \u001b[36mDuncans-MBP.fritz.box\u001b[0m| \u001b[36mpinnacle.base.datalayer\u001b[0m:\u001b[36m393 \u001b[0m | \u001b[1mLoad (('Table', 'OpenAIChatCompletion')) from metadata...\u001b[0m\n",
      "\u001b[32m2025-Feb-20 13:51:24.26\u001b[0m| \u001b[1mINFO    \u001b[0m | \u001b[36mDuncans-MBP.fritz.box\u001b[0m| \u001b[36mpinnacle.base.datalayer\u001b[0m:\u001b[36m405 \u001b[0m | \u001b[1mAdding Table:OpenAIChatCompletion:c8cd20f81f644cf2 to cache\u001b[0m\n",
      "\u001b[32m2025-Feb-20 13:51:24.31\u001b[0m| \u001b[1mINFO    \u001b[0m | \u001b[36mDuncans-MBP.fritz.box\u001b[0m| \u001b[36mpinnacle.base.datalayer\u001b[0m:\u001b[36m361 \u001b[0m | \u001b[1mComponent 564660be382e4dee not found in cache, loading from db with uuid\u001b[0m\n",
      "\u001b[32m2025-Feb-20 13:51:24.32\u001b[0m| \u001b[1mINFO    \u001b[0m | \u001b[36mDuncans-MBP.fritz.box\u001b[0m| \u001b[36mpinnacle.base.datalayer\u001b[0m:\u001b[36m378 \u001b[0m | \u001b[1mAdding OpenAIChatCompletion:llm-model:564660be382e4dee to cache\u001b[0m\n",
      "\u001b[32m2025-Feb-20 13:51:24.32\u001b[0m| \u001b[1mINFO    \u001b[0m | \u001b[36mDuncans-MBP.fritz.box\u001b[0m| \u001b[36mpinnacle.base.datalayer\u001b[0m:\u001b[36m387 \u001b[0m | \u001b[1mComponent (Table, ParentChildAssociations) not found in cache, loading from db\u001b[0m\n",
      "\u001b[32m2025-Feb-20 13:51:24.32\u001b[0m| \u001b[1mINFO    \u001b[0m | \u001b[36mDuncans-MBP.fritz.box\u001b[0m| \u001b[36mpinnacle.base.datalayer\u001b[0m:\u001b[36m393 \u001b[0m | \u001b[1mLoad (('Table', 'ParentChildAssociations')) from metadata...\u001b[0m\n",
      "\u001b[32m2025-Feb-20 13:51:24.32\u001b[0m| \u001b[1mINFO    \u001b[0m | \u001b[36mDuncans-MBP.fritz.box\u001b[0m| \u001b[36mpinnacle.base.datalayer\u001b[0m:\u001b[36m405 \u001b[0m | \u001b[1mAdding Table:ParentChildAssociations:def to cache\u001b[0m\n",
      "\u001b[32m2025-Feb-20 13:51:24.34\u001b[0m| \u001b[1mINFO    \u001b[0m | \u001b[36mDuncans-MBP.fritz.box\u001b[0m| \u001b[36mpinnacle.components.component\u001b[0m:\u001b[36m518 \u001b[0m | \u001b[1mAdding OpenAIChatCompletion:llm-model to cache\u001b[0m\n",
      "\u001b[32m2025-Feb-20 13:51:24.34\u001b[0m| \u001b[1mINFO    \u001b[0m | \u001b[36mDuncans-MBP.fritz.box\u001b[0m| \u001b[36mpinnacle.base.datalayer\u001b[0m:\u001b[36m387 \u001b[0m | \u001b[1mComponent (Table, RAGModel) not found in cache, loading from db\u001b[0m\n",
      "\u001b[32m2025-Feb-20 13:51:24.34\u001b[0m| \u001b[1mINFO    \u001b[0m | \u001b[36mDuncans-MBP.fritz.box\u001b[0m| \u001b[36mpinnacle.base.datalayer\u001b[0m:\u001b[36m393 \u001b[0m | \u001b[1mLoad (('Table', 'RAGModel')) from metadata...\u001b[0m\n",
      "\u001b[32m2025-Feb-20 13:51:24.35\u001b[0m| \u001b[1mINFO    \u001b[0m | \u001b[36mDuncans-MBP.fritz.box\u001b[0m| \u001b[36mpinnacle.base.datalayer\u001b[0m:\u001b[36m405 \u001b[0m | \u001b[1mAdding Table:RAGModel:a895272409114ca9 to cache\u001b[0m\n",
      "\u001b[32m2025-Feb-20 13:51:24.40\u001b[0m| \u001b[1mINFO    \u001b[0m | \u001b[36mDuncans-MBP.fritz.box\u001b[0m| \u001b[36mpinnacle.base.datalayer\u001b[0m:\u001b[36m361 \u001b[0m | \u001b[1mComponent 65eebfe2283e4392 not found in cache, loading from db with uuid\u001b[0m\n",
      "\u001b[32m2025-Feb-20 13:51:24.42\u001b[0m| \u001b[1mINFO    \u001b[0m | \u001b[36mDuncans-MBP.fritz.box\u001b[0m| \u001b[36mpinnacle.base.datalayer\u001b[0m:\u001b[36m378 \u001b[0m | \u001b[1mAdding RAGModel:simple_rag:65eebfe2283e4392 to cache\u001b[0m\n",
      "\u001b[32m2025-Feb-20 13:51:24.42\u001b[0m| \u001b[1mINFO    \u001b[0m | \u001b[36mDuncans-MBP.fritz.box\u001b[0m| \u001b[36mpinnacle.components.component\u001b[0m:\u001b[36m518 \u001b[0m | \u001b[1mAdding RAGModel:simple_rag to cache\u001b[0m\n",
      "\u001b[32m2025-Feb-20 13:51:24.42\u001b[0m| \u001b[33m\u001b[1mWARNING \u001b[0m | \u001b[36mDuncans-MBP.fritz.box\u001b[0m| \u001b[36mpinnacle.backends.local.compute\u001b[0m:\u001b[36m49  \u001b[0m | \u001b[33m\u001b[1mCould not release futures for context 65eebfe2283e4392\u001b[0m\n",
      "\u001b[32m2025-Feb-20 13:51:24.42\u001b[0m| \u001b[1mINFO    \u001b[0m | \u001b[36mDuncans-MBP.fritz.box\u001b[0m| \u001b[36mpinnacle.backends.local.queue\u001b[0m:\u001b[36m114 \u001b[0m | \u001b[1mConsumed all events\u001b[0m\n"
     ]
    }
   ],
   "source": [
    "if APPLY and EAGER:\n",
    "    db.apply(rag, force=True)"
   ]
  },
  {
   "cell_type": "markdown",
   "id": "183bf5b6-4644-4e4c-b65b-e6bafdc6b49f",
   "metadata": {},
   "source": [
    "By applying the RAG model to the database, it will subsequently be accessible for use in other services."
   ]
  },
  {
   "cell_type": "code",
   "execution_count": 18,
   "id": "c974643b-e642-40ea-942f-4d90e0d1bbe1",
   "metadata": {},
   "outputs": [],
   "source": [
    "from pinnacle import Streamlit, Plugin\n",
    "from rag_plugin import demo_func\n",
    "\n",
    "demo = Streamlit('simple-rag-demo', demo_func=demo_func, upstream=[plugin])"
   ]
  },
  {
   "cell_type": "code",
   "execution_count": 19,
   "id": "e6787c78-4b14-4a72-818b-450408a74331",
   "metadata": {},
   "outputs": [
    {
     "name": "stdout",
     "output_type": "stream",
     "text": [
      "\u001b[32m2025-Feb-20 13:51:28.34\u001b[0m| \u001b[1mINFO    \u001b[0m | \u001b[36mDuncans-MBP.fritz.box\u001b[0m| \u001b[36mpinnacle.components.application\u001b[0m:\u001b[36m33  \u001b[0m | \u001b[1mResorting components based on topological order.\u001b[0m\n",
      "\u001b[32m2025-Feb-20 13:51:28.34\u001b[0m| \u001b[1mINFO    \u001b[0m | \u001b[36mDuncans-MBP.fritz.box\u001b[0m| \u001b[36mpinnacle.components.application\u001b[0m:\u001b[36m50  \u001b[0m | \u001b[1mNew order of components: ['Listener:chunker:256974701f404ceb', 'VectorIndex:vectorindex:964215d5b8974b29', 'RAGModel:simple_rag:65eebfe2283e4392', 'Streamlit:simple-rag-demo:0cefeef5b41844e5']\u001b[0m\n"
     ]
    }
   ],
   "source": [
    "from pinnacle import Application\n",
    "\n",
    "app = Application(\n",
    "    'simple-rag-app',\n",
    "    components=[\n",
    "        upstream_listener,\n",
    "        vector_index,\n",
    "        rag,\n",
    "        demo,\n",
    "    ]\n",
    ")"
   ]
  },
  {
   "cell_type": "code",
   "execution_count": 20,
   "id": "e7c16557-af76-4e70-83d9-2984e19a9554",
   "metadata": {
    "scrolled": true
   },
   "outputs": [
    {
     "name": "stdout",
     "output_type": "stream",
     "text": [
      "\u001b[32m2025-Feb-20 13:51:29.18\u001b[0m| \u001b[1mINFO    \u001b[0m | \u001b[36mDuncans-MBP.fritz.box\u001b[0m| \u001b[36mpinnacle.base.datalayer\u001b[0m:\u001b[36m387 \u001b[0m | \u001b[1mComponent (Table, Table) not found in cache, loading from db\u001b[0m\n",
      "\u001b[32m2025-Feb-20 13:51:29.18\u001b[0m| \u001b[1mINFO    \u001b[0m | \u001b[36mDuncans-MBP.fritz.box\u001b[0m| \u001b[36mpinnacle.base.datalayer\u001b[0m:\u001b[36m393 \u001b[0m | \u001b[1mLoad (('Table', 'Table')) from metadata...\u001b[0m\n",
      "\u001b[32m2025-Feb-20 13:51:29.18\u001b[0m| \u001b[1mINFO    \u001b[0m | \u001b[36mDuncans-MBP.fritz.box\u001b[0m| \u001b[36mpinnacle.base.datalayer\u001b[0m:\u001b[36m405 \u001b[0m | \u001b[1mAdding Table:Table:abc to cache\u001b[0m\n",
      "\u001b[32m2025-Feb-20 13:51:29.20\u001b[0m| \u001b[1mINFO    \u001b[0m | \u001b[36mDuncans-MBP.fritz.box\u001b[0m| \u001b[36mpinnacle.base.apply\u001b[0m:\u001b[36m261 \u001b[0m | \u001b[1mFound identical Plugin:plugin-rag_plugin_py:rag-plugin\u001b[0m\n",
      "\u001b[32m2025-Feb-20 13:51:29.20\u001b[0m| \u001b[1mINFO    \u001b[0m | \u001b[36mDuncans-MBP.fritz.box\u001b[0m| \u001b[36mpinnacle.base.apply\u001b[0m:\u001b[36m348 \u001b[0m | \u001b[1mFound update Plugin:plugin-rag_plugin_py:rag-plugin\u001b[0m\n",
      "\u001b[32m2025-Feb-20 13:51:29.20\u001b[0m| \u001b[1mINFO    \u001b[0m | \u001b[36mDuncans-MBP.fritz.box\u001b[0m| \u001b[36mpinnacle.backends.local.artifacts\u001b[0m:\u001b[36m131 \u001b[0m | \u001b[1mCopying file ./rag_plugin.py to ./artifact_store/f74492989c5ac8b5eba5041c05b9927b08d08ffa/rag_plugin.py\u001b[0m\n",
      "\u001b[32m2025-Feb-20 13:51:29.20\u001b[0m| \u001b[1mINFO    \u001b[0m | \u001b[36mDuncans-MBP.fritz.box\u001b[0m| \u001b[36mpinnacle.base.apply\u001b[0m:\u001b[36m261 \u001b[0m | \u001b[1mFound identical Chunker:chunker:0c370aa5f6e7440e\u001b[0m\n",
      "\u001b[32m2025-Feb-20 13:51:29.20\u001b[0m| \u001b[1mINFO    \u001b[0m | \u001b[36mDuncans-MBP.fritz.box\u001b[0m| \u001b[36mpinnacle.base.datalayer\u001b[0m:\u001b[36m387 \u001b[0m | \u001b[1mComponent (Table, _outputs__chunker__256974701f404ceb) not found in cache, loading from db\u001b[0m\n",
      "\u001b[32m2025-Feb-20 13:51:29.20\u001b[0m| \u001b[1mINFO    \u001b[0m | \u001b[36mDuncans-MBP.fritz.box\u001b[0m| \u001b[36mpinnacle.base.datalayer\u001b[0m:\u001b[36m393 \u001b[0m | \u001b[1mLoad (('Table', '_outputs__chunker__256974701f404ceb')) from metadata...\u001b[0m\n",
      "\u001b[32m2025-Feb-20 13:51:29.20\u001b[0m| \u001b[1mINFO    \u001b[0m | \u001b[36mDuncans-MBP.fritz.box\u001b[0m| \u001b[36mpinnacle.base.datalayer\u001b[0m:\u001b[36m405 \u001b[0m | \u001b[1mAdding Table:_outputs__chunker__256974701f404ceb:d19134345c4c4a96 to cache\u001b[0m\n",
      "\u001b[32m2025-Feb-20 13:51:29.20\u001b[0m| \u001b[1mINFO    \u001b[0m | \u001b[36mDuncans-MBP.fritz.box\u001b[0m| \u001b[36mpinnacle.base.apply\u001b[0m:\u001b[36m261 \u001b[0m | \u001b[1mFound identical Table:_outputs__chunker__256974701f404ceb:32c2d056dead4a46\u001b[0m\n",
      "\u001b[32m2025-Feb-20 13:51:29.20\u001b[0m| \u001b[1mINFO    \u001b[0m | \u001b[36mDuncans-MBP.fritz.box\u001b[0m| \u001b[36mpinnacle.base.apply\u001b[0m:\u001b[36m261 \u001b[0m | \u001b[1mFound identical Listener:chunker:256974701f404ceb\u001b[0m\n",
      "\u001b[32m2025-Feb-20 13:51:29.20\u001b[0m| \u001b[1mINFO    \u001b[0m | \u001b[36mDuncans-MBP.fritz.box\u001b[0m| \u001b[36mpinnacle.base.apply\u001b[0m:\u001b[36m348 \u001b[0m | \u001b[1mFound update Listener:chunker:256974701f404ceb\u001b[0m\n",
      "\u001b[32m2025-Feb-20 13:51:29.21\u001b[0m| \u001b[1mINFO    \u001b[0m | \u001b[36mDuncans-MBP.fritz.box\u001b[0m| \u001b[36mpinnacle.base.apply\u001b[0m:\u001b[36m261 \u001b[0m | \u001b[1mFound identical Plugin:plugin-rag_plugin_py:rag-plugin\u001b[0m\n",
      "\u001b[32m2025-Feb-20 13:51:29.21\u001b[0m| \u001b[1mINFO    \u001b[0m | \u001b[36mDuncans-MBP.fritz.box\u001b[0m| \u001b[36mpinnacle.base.apply\u001b[0m:\u001b[36m348 \u001b[0m | \u001b[1mFound update Plugin:plugin-rag_plugin_py:rag-plugin\u001b[0m\n",
      "\u001b[32m2025-Feb-20 13:51:29.21\u001b[0m| \u001b[1mINFO    \u001b[0m | \u001b[36mDuncans-MBP.fritz.box\u001b[0m| \u001b[36mpinnacle.backends.local.artifacts\u001b[0m:\u001b[36m131 \u001b[0m | \u001b[1mCopying file ./rag_plugin.py to ./artifact_store/f74492989c5ac8b5eba5041c05b9927b08d08ffa/rag_plugin.py\u001b[0m\n",
      "\u001b[32m2025-Feb-20 13:51:29.21\u001b[0m| \u001b[1mINFO    \u001b[0m | \u001b[36mDuncans-MBP.fritz.box\u001b[0m| \u001b[36mpinnacle.base.apply\u001b[0m:\u001b[36m261 \u001b[0m | \u001b[1mFound identical Chunker:chunker:0c370aa5f6e7440e\u001b[0m\n",
      "\u001b[32m2025-Feb-20 13:51:29.21\u001b[0m| \u001b[1mINFO    \u001b[0m | \u001b[36mDuncans-MBP.fritz.box\u001b[0m| \u001b[36mpinnacle.base.datalayer\u001b[0m:\u001b[36m387 \u001b[0m | \u001b[1mComponent (Table, _outputs__chunker__256974701f404ceb) not found in cache, loading from db\u001b[0m\n",
      "\u001b[32m2025-Feb-20 13:51:29.21\u001b[0m| \u001b[1mINFO    \u001b[0m | \u001b[36mDuncans-MBP.fritz.box\u001b[0m| \u001b[36mpinnacle.base.datalayer\u001b[0m:\u001b[36m393 \u001b[0m | \u001b[1mLoad (('Table', '_outputs__chunker__256974701f404ceb')) from metadata...\u001b[0m\n",
      "\u001b[32m2025-Feb-20 13:51:29.22\u001b[0m| \u001b[1mINFO    \u001b[0m | \u001b[36mDuncans-MBP.fritz.box\u001b[0m| \u001b[36mpinnacle.base.datalayer\u001b[0m:\u001b[36m405 \u001b[0m | \u001b[1mAdding Table:_outputs__chunker__256974701f404ceb:d19134345c4c4a96 to cache\u001b[0m\n",
      "\u001b[32m2025-Feb-20 13:51:29.22\u001b[0m| \u001b[1mINFO    \u001b[0m | \u001b[36mDuncans-MBP.fritz.box\u001b[0m| \u001b[36mpinnacle.base.apply\u001b[0m:\u001b[36m261 \u001b[0m | \u001b[1mFound identical Table:_outputs__chunker__256974701f404ceb:9699e8e744494b56\u001b[0m\n",
      "\u001b[32m2025-Feb-20 13:51:29.22\u001b[0m| \u001b[1mINFO    \u001b[0m | \u001b[36mDuncans-MBP.fritz.box\u001b[0m| \u001b[36mpinnacle.base.apply\u001b[0m:\u001b[36m261 \u001b[0m | \u001b[1mFound identical Listener:chunker:256974701f404ceb\u001b[0m\n",
      "\u001b[32m2025-Feb-20 13:51:29.22\u001b[0m| \u001b[1mINFO    \u001b[0m | \u001b[36mDuncans-MBP.fritz.box\u001b[0m| \u001b[36mpinnacle.base.apply\u001b[0m:\u001b[36m261 \u001b[0m | \u001b[1mFound identical OpenAIEmbedding:text-embedding:42ef44bbed87457d\u001b[0m\n",
      "\u001b[32m2025-Feb-20 13:51:29.22\u001b[0m| \u001b[1mINFO    \u001b[0m | \u001b[36mDuncans-MBP.fritz.box\u001b[0m| \u001b[36mpinnacle.base.datalayer\u001b[0m:\u001b[36m387 \u001b[0m | \u001b[1mComponent (Table, _outputs__embeddinglistener__8b71ad9f5f464fee) not found in cache, loading from db\u001b[0m\n",
      "\u001b[32m2025-Feb-20 13:51:29.22\u001b[0m| \u001b[1mINFO    \u001b[0m | \u001b[36mDuncans-MBP.fritz.box\u001b[0m| \u001b[36mpinnacle.base.datalayer\u001b[0m:\u001b[36m393 \u001b[0m | \u001b[1mLoad (('Table', '_outputs__embeddinglistener__8b71ad9f5f464fee')) from metadata...\u001b[0m\n",
      "\u001b[32m2025-Feb-20 13:51:29.22\u001b[0m| \u001b[1mINFO    \u001b[0m | \u001b[36mDuncans-MBP.fritz.box\u001b[0m| \u001b[36mpinnacle.base.datalayer\u001b[0m:\u001b[36m405 \u001b[0m | \u001b[1mAdding Table:_outputs__embeddinglistener__8b71ad9f5f464fee:6c7c73ddac174a5d to cache\u001b[0m\n",
      "\u001b[32m2025-Feb-20 13:51:29.22\u001b[0m| \u001b[1mINFO    \u001b[0m | \u001b[36mDuncans-MBP.fritz.box\u001b[0m| \u001b[36mpinnacle.base.apply\u001b[0m:\u001b[36m261 \u001b[0m | \u001b[1mFound identical Table:_outputs__embeddinglistener__8b71ad9f5f464fee:6c7c73ddac174a5d\u001b[0m\n",
      "\u001b[32m2025-Feb-20 13:51:29.22\u001b[0m| \u001b[1mINFO    \u001b[0m | \u001b[36mDuncans-MBP.fritz.box\u001b[0m| \u001b[36mpinnacle.base.apply\u001b[0m:\u001b[36m261 \u001b[0m | \u001b[1mFound identical Listener:embeddinglistener:8b71ad9f5f464fee\u001b[0m\n",
      "\u001b[32m2025-Feb-20 13:51:29.22\u001b[0m| \u001b[1mINFO    \u001b[0m | \u001b[36mDuncans-MBP.fritz.box\u001b[0m| \u001b[36mpinnacle.base.apply\u001b[0m:\u001b[36m348 \u001b[0m | \u001b[1mFound update Listener:embeddinglistener:8b71ad9f5f464fee\u001b[0m\n",
      "\u001b[32m2025-Feb-20 13:51:29.22\u001b[0m| \u001b[1mINFO    \u001b[0m | \u001b[36mDuncans-MBP.fritz.box\u001b[0m| \u001b[36mpinnacle.base.apply\u001b[0m:\u001b[36m261 \u001b[0m | \u001b[1mFound identical VectorIndex:vectorindex:964215d5b8974b29\u001b[0m\n",
      "\u001b[32m2025-Feb-20 13:51:29.23\u001b[0m| \u001b[1mINFO    \u001b[0m | \u001b[36mDuncans-MBP.fritz.box\u001b[0m| \u001b[36mpinnacle.base.apply\u001b[0m:\u001b[36m261 \u001b[0m | \u001b[1mFound identical OpenAIChatCompletion:llm-model:564660be382e4dee\u001b[0m\n",
      "\u001b[32m2025-Feb-20 13:51:29.23\u001b[0m| \u001b[1mINFO    \u001b[0m | \u001b[36mDuncans-MBP.fritz.box\u001b[0m| \u001b[36mpinnacle.base.apply\u001b[0m:\u001b[36m261 \u001b[0m | \u001b[1mFound identical RAGModel:simple_rag:65eebfe2283e4392\u001b[0m\n",
      "\u001b[32m2025-Feb-20 13:51:29.23\u001b[0m| \u001b[1mINFO    \u001b[0m | \u001b[36mDuncans-MBP.fritz.box\u001b[0m| \u001b[36mpinnacle.base.datalayer\u001b[0m:\u001b[36m387 \u001b[0m | \u001b[1mComponent (Table, Table) not found in cache, loading from db\u001b[0m\n",
      "\u001b[32m2025-Feb-20 13:51:29.23\u001b[0m| \u001b[1mINFO    \u001b[0m | \u001b[36mDuncans-MBP.fritz.box\u001b[0m| \u001b[36mpinnacle.base.datalayer\u001b[0m:\u001b[36m393 \u001b[0m | \u001b[1mLoad (('Table', 'Table')) from metadata...\u001b[0m\n",
      "\u001b[32m2025-Feb-20 13:51:29.23\u001b[0m| \u001b[1mINFO    \u001b[0m | \u001b[36mDuncans-MBP.fritz.box\u001b[0m| \u001b[36mpinnacle.base.datalayer\u001b[0m:\u001b[36m405 \u001b[0m | \u001b[1mAdding Table:Table:abc to cache\u001b[0m\n",
      "\u001b[32m2025-Feb-20 13:51:29.25\u001b[0m| \u001b[1mINFO    \u001b[0m | \u001b[36mDuncans-MBP.fritz.box\u001b[0m| \u001b[36mpinnacle.base.apply\u001b[0m:\u001b[36m261 \u001b[0m | \u001b[1mFound identical Plugin:plugin-rag_plugin_py:rag-plugin\u001b[0m\n",
      "\u001b[32m2025-Feb-20 13:51:29.25\u001b[0m| \u001b[1mINFO    \u001b[0m | \u001b[36mDuncans-MBP.fritz.box\u001b[0m| \u001b[36mpinnacle.base.apply\u001b[0m:\u001b[36m348 \u001b[0m | \u001b[1mFound update Plugin:plugin-rag_plugin_py:rag-plugin\u001b[0m\n",
      "\u001b[32m2025-Feb-20 13:51:29.25\u001b[0m| \u001b[1mINFO    \u001b[0m | \u001b[36mDuncans-MBP.fritz.box\u001b[0m| \u001b[36mpinnacle.backends.local.artifacts\u001b[0m:\u001b[36m131 \u001b[0m | \u001b[1mCopying file ./rag_plugin.py to ./artifact_store/f74492989c5ac8b5eba5041c05b9927b08d08ffa/rag_plugin.py\u001b[0m\n",
      "\u001b[32m2025-Feb-20 13:51:29.25\u001b[0m| \u001b[1mINFO    \u001b[0m | \u001b[36mDuncans-MBP.fritz.box\u001b[0m| \u001b[36mpinnacle.base.datalayer\u001b[0m:\u001b[36m387 \u001b[0m | \u001b[1mComponent (Streamlit, simple-rag-demo) not found in cache, loading from db\u001b[0m\n",
      "\u001b[32m2025-Feb-20 13:51:29.25\u001b[0m| \u001b[1mINFO    \u001b[0m | \u001b[36mDuncans-MBP.fritz.box\u001b[0m| \u001b[36mpinnacle.base.datalayer\u001b[0m:\u001b[36m393 \u001b[0m | \u001b[1mLoad (('Streamlit', 'simple-rag-demo')) from metadata...\u001b[0m\n",
      "\u001b[32m2025-Feb-20 13:51:29.25\u001b[0m| \u001b[1mINFO    \u001b[0m | \u001b[36mDuncans-MBP.fritz.box\u001b[0m| \u001b[36mpinnacle.base.apply\u001b[0m:\u001b[36m367 \u001b[0m | \u001b[1mFound new Streamlit:simple-rag-demo:0cefeef5b41844e5\u001b[0m\n",
      "\u001b[32m2025-Feb-20 13:51:29.25\u001b[0m| \u001b[1mINFO    \u001b[0m | \u001b[36mDuncans-MBP.fritz.box\u001b[0m| \u001b[36mpinnacle.base.datalayer\u001b[0m:\u001b[36m387 \u001b[0m | \u001b[1mComponent (Application, simple-rag-app) not found in cache, loading from db\u001b[0m\n",
      "\u001b[32m2025-Feb-20 13:51:29.25\u001b[0m| \u001b[1mINFO    \u001b[0m | \u001b[36mDuncans-MBP.fritz.box\u001b[0m| \u001b[36mpinnacle.base.datalayer\u001b[0m:\u001b[36m393 \u001b[0m | \u001b[1mLoad (('Application', 'simple-rag-app')) from metadata...\u001b[0m\n",
      "\u001b[32m2025-Feb-20 13:51:29.25\u001b[0m| \u001b[1mINFO    \u001b[0m | \u001b[36mDuncans-MBP.fritz.box\u001b[0m| \u001b[36mpinnacle.base.apply\u001b[0m:\u001b[36m367 \u001b[0m | \u001b[1mFound new Application:simple-rag-app:221d4329ddba4f13\u001b[0m\n",
      "\u001b[32m2025-Feb-20 13:51:29.25\u001b[0m| \u001b[1mINFO    \u001b[0m | \u001b[36mDuncans-MBP.fritz.box\u001b[0m| \u001b[36mpinnacle.base.apply\u001b[0m:\u001b[36m72  \u001b[0m | \u001b[1mFound this diff:\u001b[0m\n"
     ]
    },
    {
     "data": {
      "text/html": [
       "<pre style=\"white-space:pre;overflow-x:auto;line-height:normal;font-family:Menlo,'DejaVu Sans Mono',consolas,'Courier New',monospace\">simple-rag-app\n",
       "├── <span style=\"color: #808000; text-decoration-color: #808000; font-weight: bold\">plugin-rag_plugin_py</span>\n",
       "│   ├── <span style=\"color: #008080; text-decoration-color: #008080; font-weight: bold\">status: </span><span style=\"color: #000080; text-decoration-color: #000080; font-weight: bold\">update</span>\n",
       "│   └── <span style=\"color: #808000; text-decoration-color: #808000; font-weight: bold\">changes</span>\n",
       "├── <span style=\"color: #808000; text-decoration-color: #808000; font-weight: bold\">chunker</span>\n",
       "│   ├── <span style=\"color: #008080; text-decoration-color: #008080; font-weight: bold\">status: </span><span style=\"color: #000080; text-decoration-color: #000080; font-weight: bold\">update</span>\n",
       "│   └── <span style=\"color: #808000; text-decoration-color: #808000; font-weight: bold\">changes</span>\n",
       "└── <span style=\"color: #808000; text-decoration-color: #808000; font-weight: bold\">embeddinglistener</span>\n",
       "    ├── <span style=\"color: #008080; text-decoration-color: #008080; font-weight: bold\">status: </span><span style=\"color: #000080; text-decoration-color: #000080; font-weight: bold\">update</span>\n",
       "    └── <span style=\"color: #808000; text-decoration-color: #808000; font-weight: bold\">changes</span>\n",
       "</pre>\n"
      ],
      "text/plain": [
       "simple-rag-app\n",
       "├── \u001b[1;33mplugin-rag_plugin_py\u001b[0m\n",
       "│   ├── \u001b[1;36mstatus: \u001b[0m\u001b[1;34mupdate\u001b[0m\n",
       "│   └── \u001b[1;33mchanges\u001b[0m\n",
       "├── \u001b[1;33mchunker\u001b[0m\n",
       "│   ├── \u001b[1;36mstatus: \u001b[0m\u001b[1;34mupdate\u001b[0m\n",
       "│   └── \u001b[1;33mchanges\u001b[0m\n",
       "└── \u001b[1;33membeddinglistener\u001b[0m\n",
       "    ├── \u001b[1;36mstatus: \u001b[0m\u001b[1;34mupdate\u001b[0m\n",
       "    └── \u001b[1;33mchanges\u001b[0m\n"
      ]
     },
     "metadata": {},
     "output_type": "display_data"
    },
    {
     "name": "stdout",
     "output_type": "stream",
     "text": [
      "\u001b[32m2025-Feb-20 13:51:29.25\u001b[0m| \u001b[1mINFO    \u001b[0m | \u001b[36mDuncans-MBP.fritz.box\u001b[0m| \u001b[36mpinnacle.base.apply\u001b[0m:\u001b[36m78  \u001b[0m | \u001b[1mFound these changes and/ or additions that need to be made:\u001b[0m\n",
      "\u001b[32m2025-Feb-20 13:51:29.25\u001b[0m| \u001b[1mINFO    \u001b[0m | \u001b[36mDuncans-MBP.fritz.box\u001b[0m| \u001b[36mpinnacle.base.apply\u001b[0m:\u001b[36m80  \u001b[0m | \u001b[1m----------------------------------------------------------------------------------------------------\u001b[0m\n",
      "\u001b[32m2025-Feb-20 13:51:29.25\u001b[0m| \u001b[1mINFO    \u001b[0m | \u001b[36mDuncans-MBP.fritz.box\u001b[0m| \u001b[36mpinnacle.base.apply\u001b[0m:\u001b[36m81  \u001b[0m | \u001b[1mMETADATA EVENTS:\u001b[0m\n",
      "\u001b[32m2025-Feb-20 13:51:29.25\u001b[0m| \u001b[1mINFO    \u001b[0m | \u001b[36mDuncans-MBP.fritz.box\u001b[0m| \u001b[36mpinnacle.base.apply\u001b[0m:\u001b[36m82  \u001b[0m | \u001b[1m----------------------------------------------------------------------------------------------------\u001b[0m\n",
      "\u001b[32m2025-Feb-20 13:51:29.25\u001b[0m| \u001b[1mINFO    \u001b[0m | \u001b[36mDuncans-MBP.fritz.box\u001b[0m| \u001b[36mpinnacle.base.apply\u001b[0m:\u001b[36m89  \u001b[0m | \u001b[1m[0]: Pluginplugin-rag_plugin_py:rag-plugin: update ~ [3]\u001b[0m\n",
      "\u001b[32m2025-Feb-20 13:51:29.25\u001b[0m| \u001b[1mINFO    \u001b[0m | \u001b[36mDuncans-MBP.fritz.box\u001b[0m| \u001b[36mpinnacle.base.apply\u001b[0m:\u001b[36m89  \u001b[0m | \u001b[1m[1]: Listenerchunker:256974701f404ceb: update ~ [4]\u001b[0m\n",
      "\u001b[32m2025-Feb-20 13:51:29.25\u001b[0m| \u001b[1mINFO    \u001b[0m | \u001b[36mDuncans-MBP.fritz.box\u001b[0m| \u001b[36mpinnacle.base.apply\u001b[0m:\u001b[36m91  \u001b[0m | \u001b[1m[2]: Listenerembeddinglistener:8b71ad9f5f464fee: update\u001b[0m\n",
      "\u001b[32m2025-Feb-20 13:51:29.26\u001b[0m| \u001b[1mINFO    \u001b[0m | \u001b[36mDuncans-MBP.fritz.box\u001b[0m| \u001b[36mpinnacle.base.apply\u001b[0m:\u001b[36m89  \u001b[0m | \u001b[1m[3]: Streamlit:simple-rag-demo:0cefeef5b41844e5: create ~ [4]\u001b[0m\n",
      "\u001b[32m2025-Feb-20 13:51:29.26\u001b[0m| \u001b[1mINFO    \u001b[0m | \u001b[36mDuncans-MBP.fritz.box\u001b[0m| \u001b[36mpinnacle.base.apply\u001b[0m:\u001b[36m93  \u001b[0m | \u001b[1m[4]: Application:simple-rag-app:221d4329ddba4f13: create\u001b[0m\n",
      "\u001b[32m2025-Feb-20 13:51:29.26\u001b[0m| \u001b[1mINFO    \u001b[0m | \u001b[36mDuncans-MBP.fritz.box\u001b[0m| \u001b[36mpinnacle.base.apply\u001b[0m:\u001b[36m95  \u001b[0m | \u001b[1m----------------------------------------------------------------------------------------------------\u001b[0m\n",
      "\u001b[32m2025-Feb-20 13:51:29.26\u001b[0m| \u001b[1mINFO    \u001b[0m | \u001b[36mDuncans-MBP.fritz.box\u001b[0m| \u001b[36mpinnacle.base.apply\u001b[0m:\u001b[36m96  \u001b[0m | \u001b[1mJOBS EVENTS:\u001b[0m\n",
      "\u001b[32m2025-Feb-20 13:51:29.26\u001b[0m| \u001b[1mINFO    \u001b[0m | \u001b[36mDuncans-MBP.fritz.box\u001b[0m| \u001b[36mpinnacle.base.apply\u001b[0m:\u001b[36m97  \u001b[0m | \u001b[1m----------------------------------------------------------------------------------------------------\u001b[0m\n",
      "\u001b[32m2025-Feb-20 13:51:29.26\u001b[0m| \u001b[1mINFO    \u001b[0m | \u001b[36mDuncans-MBP.fritz.box\u001b[0m| \u001b[36mpinnacle.base.apply\u001b[0m:\u001b[36m101 \u001b[0m | \u001b[1mNo job events...\u001b[0m\n",
      "\u001b[32m2025-Feb-20 13:51:29.26\u001b[0m| \u001b[1mINFO    \u001b[0m | \u001b[36mDuncans-MBP.fritz.box\u001b[0m| \u001b[36mpinnacle.base.apply\u001b[0m:\u001b[36m112 \u001b[0m | \u001b[1m----------------------------------------------------------------------------------------------------\u001b[0m\n",
      "\u001b[32m2025-Feb-20 13:51:29.26\u001b[0m| \u001b[1mINFO    \u001b[0m | \u001b[36mDuncans-MBP.fritz.box\u001b[0m| \u001b[36mpinnacle.base.datalayer\u001b[0m:\u001b[36m387 \u001b[0m | \u001b[1mComponent (Table, ArtifactRelations) not found in cache, loading from db\u001b[0m\n",
      "\u001b[32m2025-Feb-20 13:51:29.26\u001b[0m| \u001b[1mINFO    \u001b[0m | \u001b[36mDuncans-MBP.fritz.box\u001b[0m| \u001b[36mpinnacle.base.datalayer\u001b[0m:\u001b[36m393 \u001b[0m | \u001b[1mLoad (('Table', 'ArtifactRelations')) from metadata...\u001b[0m\n",
      "\u001b[32m2025-Feb-20 13:51:29.26\u001b[0m| \u001b[1mINFO    \u001b[0m | \u001b[36mDuncans-MBP.fritz.box\u001b[0m| \u001b[36mpinnacle.base.datalayer\u001b[0m:\u001b[36m405 \u001b[0m | \u001b[1mAdding Table:ArtifactRelations:ghi to cache\u001b[0m\n",
      "\u001b[32m2025-Feb-20 13:51:29.31\u001b[0m| \u001b[1mINFO    \u001b[0m | \u001b[36mDuncans-MBP.fritz.box\u001b[0m| \u001b[36mpinnacle.base.datalayer\u001b[0m:\u001b[36m387 \u001b[0m | \u001b[1mComponent (Table, ArtifactRelations) not found in cache, loading from db\u001b[0m\n",
      "\u001b[32m2025-Feb-20 13:51:29.31\u001b[0m| \u001b[1mINFO    \u001b[0m | \u001b[36mDuncans-MBP.fritz.box\u001b[0m| \u001b[36mpinnacle.base.datalayer\u001b[0m:\u001b[36m393 \u001b[0m | \u001b[1mLoad (('Table', 'ArtifactRelations')) from metadata...\u001b[0m\n",
      "\u001b[32m2025-Feb-20 13:51:29.31\u001b[0m| \u001b[1mINFO    \u001b[0m | \u001b[36mDuncans-MBP.fritz.box\u001b[0m| \u001b[36mpinnacle.base.datalayer\u001b[0m:\u001b[36m405 \u001b[0m | \u001b[1mAdding Table:ArtifactRelations:ghi to cache\u001b[0m\n",
      "\u001b[32m2025-Feb-20 13:51:29.33\u001b[0m| \u001b[1mINFO    \u001b[0m | \u001b[36mDuncans-MBP.fritz.box\u001b[0m| \u001b[36mpinnacle.base.datalayer\u001b[0m:\u001b[36m387 \u001b[0m | \u001b[1mComponent (Table, Streamlit) not found in cache, loading from db\u001b[0m\n",
      "\u001b[32m2025-Feb-20 13:51:29.33\u001b[0m| \u001b[1mINFO    \u001b[0m | \u001b[36mDuncans-MBP.fritz.box\u001b[0m| \u001b[36mpinnacle.base.datalayer\u001b[0m:\u001b[36m393 \u001b[0m | \u001b[1mLoad (('Table', 'Streamlit')) from metadata...\u001b[0m\n",
      "\u001b[32m2025-Feb-20 13:51:29.34\u001b[0m| \u001b[1mINFO    \u001b[0m | \u001b[36mDuncans-MBP.fritz.box\u001b[0m| \u001b[36mpinnacle.base.datalayer\u001b[0m:\u001b[36m405 \u001b[0m | \u001b[1mAdding Table:Streamlit:f59ac3db97ad4eb3 to cache\u001b[0m\n",
      "\u001b[32m2025-Feb-20 13:51:29.38\u001b[0m| \u001b[1mINFO    \u001b[0m | \u001b[36mDuncans-MBP.fritz.box\u001b[0m| \u001b[36mpinnacle.base.datalayer\u001b[0m:\u001b[36m361 \u001b[0m | \u001b[1mComponent 0cefeef5b41844e5 not found in cache, loading from db with uuid\u001b[0m\n",
      "\u001b[32m2025-Feb-20 13:51:29.39\u001b[0m| \u001b[1mINFO    \u001b[0m | \u001b[36mDuncans-MBP.fritz.box\u001b[0m| \u001b[36mpinnacle.base.datalayer\u001b[0m:\u001b[36m361 \u001b[0m | \u001b[1mComponent rag-plugin not found in cache, loading from db with uuid\u001b[0m\n",
      "\u001b[32m2025-Feb-20 13:51:29.39\u001b[0m| \u001b[1mINFO    \u001b[0m | \u001b[36mDuncans-MBP.fritz.box\u001b[0m| \u001b[36mpinnacle.base.datalayer\u001b[0m:\u001b[36m378 \u001b[0m | \u001b[1mAdding Plugin:plugin-rag_plugin_py:rag-plugin to cache\u001b[0m\n",
      "\u001b[32m2025-Feb-20 13:51:29.40\u001b[0m| \u001b[1mINFO    \u001b[0m | \u001b[36mDuncans-MBP.fritz.box\u001b[0m| \u001b[36mpinnacle.base.datalayer\u001b[0m:\u001b[36m378 \u001b[0m | \u001b[1mAdding Streamlit:simple-rag-demo:0cefeef5b41844e5 to cache\u001b[0m\n",
      "\u001b[32m2025-Feb-20 13:51:29.40\u001b[0m| \u001b[1mINFO    \u001b[0m | \u001b[36mDuncans-MBP.fritz.box\u001b[0m| \u001b[36mpinnacle.base.datalayer\u001b[0m:\u001b[36m387 \u001b[0m | \u001b[1mComponent (Table, ParentChildAssociations) not found in cache, loading from db\u001b[0m\n",
      "\u001b[32m2025-Feb-20 13:51:29.40\u001b[0m| \u001b[1mINFO    \u001b[0m | \u001b[36mDuncans-MBP.fritz.box\u001b[0m| \u001b[36mpinnacle.base.datalayer\u001b[0m:\u001b[36m393 \u001b[0m | \u001b[1mLoad (('Table', 'ParentChildAssociations')) from metadata...\u001b[0m\n",
      "\u001b[32m2025-Feb-20 13:51:29.40\u001b[0m| \u001b[1mINFO    \u001b[0m | \u001b[36mDuncans-MBP.fritz.box\u001b[0m| \u001b[36mpinnacle.base.datalayer\u001b[0m:\u001b[36m405 \u001b[0m | \u001b[1mAdding Table:ParentChildAssociations:def to cache\u001b[0m\n",
      "\u001b[32m2025-Feb-20 13:51:29.41\u001b[0m| \u001b[1mINFO    \u001b[0m | \u001b[36mDuncans-MBP.fritz.box\u001b[0m| \u001b[36mpinnacle.components.component\u001b[0m:\u001b[36m518 \u001b[0m | \u001b[1mAdding Streamlit:simple-rag-demo to cache\u001b[0m\n",
      "\u001b[32m2025-Feb-20 13:51:29.41\u001b[0m| \u001b[1mINFO    \u001b[0m | \u001b[36mDuncans-MBP.fritz.box\u001b[0m| \u001b[36mpinnacle.base.datalayer\u001b[0m:\u001b[36m387 \u001b[0m | \u001b[1mComponent (Table, Application) not found in cache, loading from db\u001b[0m\n",
      "\u001b[32m2025-Feb-20 13:51:29.41\u001b[0m| \u001b[1mINFO    \u001b[0m | \u001b[36mDuncans-MBP.fritz.box\u001b[0m| \u001b[36mpinnacle.base.datalayer\u001b[0m:\u001b[36m393 \u001b[0m | \u001b[1mLoad (('Table', 'Application')) from metadata...\u001b[0m\n",
      "\u001b[32m2025-Feb-20 13:51:29.42\u001b[0m| \u001b[1mINFO    \u001b[0m | \u001b[36mDuncans-MBP.fritz.box\u001b[0m| \u001b[36mpinnacle.base.datalayer\u001b[0m:\u001b[36m405 \u001b[0m | \u001b[1mAdding Table:Application:f61f0d55c1e04ba1 to cache\u001b[0m\n",
      "\u001b[32m2025-Feb-20 13:51:29.47\u001b[0m| \u001b[1mINFO    \u001b[0m | \u001b[36mDuncans-MBP.fritz.box\u001b[0m| \u001b[36mpinnacle.base.datalayer\u001b[0m:\u001b[36m361 \u001b[0m | \u001b[1mComponent 221d4329ddba4f13 not found in cache, loading from db with uuid\u001b[0m\n",
      "\u001b[32m2025-Feb-20 13:51:29.47\u001b[0m| \u001b[1mINFO    \u001b[0m | \u001b[36mDuncans-MBP.fritz.box\u001b[0m| \u001b[36mpinnacle.base.datalayer\u001b[0m:\u001b[36m361 \u001b[0m | \u001b[1mComponent 256974701f404ceb not found in cache, loading from db with uuid\u001b[0m\n",
      "\u001b[32m2025-Feb-20 13:51:29.48\u001b[0m| \u001b[1mINFO    \u001b[0m | \u001b[36mDuncans-MBP.fritz.box\u001b[0m| \u001b[36mpinnacle.base.datalayer\u001b[0m:\u001b[36m378 \u001b[0m | \u001b[1mAdding Listener:chunker:256974701f404ceb to cache\u001b[0m\n",
      "\u001b[32m2025-Feb-20 13:51:29.48\u001b[0m| \u001b[1mINFO    \u001b[0m | \u001b[36mDuncans-MBP.fritz.box\u001b[0m| \u001b[36mpinnacle.base.datalayer\u001b[0m:\u001b[36m361 \u001b[0m | \u001b[1mComponent 964215d5b8974b29 not found in cache, loading from db with uuid\u001b[0m\n",
      "\u001b[32m2025-Feb-20 13:51:29.49\u001b[0m| \u001b[1mINFO    \u001b[0m | \u001b[36mDuncans-MBP.fritz.box\u001b[0m| \u001b[36mpinnacle.base.datalayer\u001b[0m:\u001b[36m361 \u001b[0m | \u001b[1mComponent 8b71ad9f5f464fee not found in cache, loading from db with uuid\u001b[0m\n",
      "\u001b[32m2025-Feb-20 13:51:29.49\u001b[0m| \u001b[1mINFO    \u001b[0m | \u001b[36mDuncans-MBP.fritz.box\u001b[0m| \u001b[36mpinnacle.base.datalayer\u001b[0m:\u001b[36m378 \u001b[0m | \u001b[1mAdding Listener:embeddinglistener:8b71ad9f5f464fee to cache\u001b[0m\n",
      "\u001b[32m2025-Feb-20 13:51:29.49\u001b[0m| \u001b[1mINFO    \u001b[0m | \u001b[36mDuncans-MBP.fritz.box\u001b[0m| \u001b[36mpinnacle.base.datalayer\u001b[0m:\u001b[36m378 \u001b[0m | \u001b[1mAdding VectorIndex:vectorindex:964215d5b8974b29 to cache\u001b[0m\n",
      "\u001b[32m2025-Feb-20 13:51:29.50\u001b[0m| \u001b[1mINFO    \u001b[0m | \u001b[36mDuncans-MBP.fritz.box\u001b[0m| \u001b[36mpinnacle.components.application\u001b[0m:\u001b[36m33  \u001b[0m | \u001b[1mResorting components based on topological order.\u001b[0m\n",
      "\u001b[32m2025-Feb-20 13:51:29.50\u001b[0m| \u001b[1mINFO    \u001b[0m | \u001b[36mDuncans-MBP.fritz.box\u001b[0m| \u001b[36mpinnacle.components.application\u001b[0m:\u001b[36m50  \u001b[0m | \u001b[1mNew order of components: ['Listener:chunker:256974701f404ceb', 'VectorIndex:vectorindex:964215d5b8974b29', 'RAGModel:simple_rag:65eebfe2283e4392', 'Streamlit:simple-rag-demo:0cefeef5b41844e5']\u001b[0m\n",
      "\u001b[32m2025-Feb-20 13:51:29.50\u001b[0m| \u001b[1mINFO    \u001b[0m | \u001b[36mDuncans-MBP.fritz.box\u001b[0m| \u001b[36mpinnacle.base.datalayer\u001b[0m:\u001b[36m378 \u001b[0m | \u001b[1mAdding Application:simple-rag-app:221d4329ddba4f13 to cache\u001b[0m\n",
      "\u001b[32m2025-Feb-20 13:51:29.50\u001b[0m| \u001b[1mINFO    \u001b[0m | \u001b[36mDuncans-MBP.fritz.box\u001b[0m| \u001b[36mpinnacle.components.component\u001b[0m:\u001b[36m518 \u001b[0m | \u001b[1mAdding Application:simple-rag-app to cache\u001b[0m\n",
      "\u001b[32m2025-Feb-20 13:51:29.50\u001b[0m| \u001b[33m\u001b[1mWARNING \u001b[0m | \u001b[36mDuncans-MBP.fritz.box\u001b[0m| \u001b[36mpinnacle.backends.local.compute\u001b[0m:\u001b[36m49  \u001b[0m | \u001b[33m\u001b[1mCould not release futures for context 221d4329ddba4f13\u001b[0m\n",
      "\u001b[32m2025-Feb-20 13:51:29.50\u001b[0m| \u001b[1mINFO    \u001b[0m | \u001b[36mDuncans-MBP.fritz.box\u001b[0m| \u001b[36mpinnacle.backends.local.queue\u001b[0m:\u001b[36m114 \u001b[0m | \u001b[1mConsumed all events\u001b[0m\n"
     ]
    }
   ],
   "source": [
    "if APPLY:\n",
    "    db.apply(app, force=True)"
   ]
  },
  {
   "cell_type": "code",
   "execution_count": 21,
   "id": "8d78b2a6-62c2-4af2-965a-f15c906ffa83",
   "metadata": {},
   "outputs": [
    {
     "data": {
      "text/plain": [
       "[{'component': 'Application', 'identifier': 'simple-rag-app'},\n",
       " {'component': 'Chunker', 'identifier': 'chunker'},\n",
       " {'component': 'Listener', 'identifier': 'chunker'},\n",
       " {'component': 'Listener', 'identifier': 'embeddinglistener'},\n",
       " {'component': 'OpenAIChatCompletion', 'identifier': 'llm-model'},\n",
       " {'component': 'OpenAIEmbedding', 'identifier': 'text-embedding'},\n",
       " {'component': 'Plugin', 'identifier': 'plugin-rag_plugin_py'},\n",
       " {'component': 'RAGModel', 'identifier': 'simple_rag'},\n",
       " {'component': 'Streamlit', 'identifier': 'simple-rag-demo'},\n",
       " {'component': 'Table', 'identifier': 'Application'},\n",
       " {'component': 'Table', 'identifier': 'Chunker'},\n",
       " {'component': 'Table', 'identifier': 'Listener'},\n",
       " {'component': 'Table', 'identifier': 'OpenAIChatCompletion'},\n",
       " {'component': 'Table', 'identifier': 'OpenAIEmbedding'},\n",
       " {'component': 'Table', 'identifier': 'Plugin'},\n",
       " {'component': 'Table', 'identifier': 'RAGModel'},\n",
       " {'component': 'Table', 'identifier': 'Streamlit'},\n",
       " {'component': 'Table', 'identifier': 'Table'},\n",
       " {'component': 'Table', 'identifier': 'VectorIndex'},\n",
       " {'component': 'Table', 'identifier': '_outputs__chunker__256974701f404ceb'},\n",
       " {'component': 'Table',\n",
       "  'identifier': '_outputs__embeddinglistener__8b71ad9f5f464fee'},\n",
       " {'component': 'Table', 'identifier': 'docs'},\n",
       " {'component': 'VectorIndex', 'identifier': 'vectorindex'}]"
      ]
     },
     "execution_count": 21,
     "metadata": {},
     "output_type": "execute_result"
    }
   ],
   "source": [
    "db.show()"
   ]
  },
  {
   "cell_type": "code",
   "execution_count": null,
   "id": "2a82ea22-9694-4c65-b72f-c89ae49d1ab2",
   "metadata": {},
   "outputs": [],
   "source": [
    "if APPLY:\n",
    "    rag = db.load('RAGModel', 'simple_rag')\n",
    "    print(rag.predict('Tell me about the project'))"
   ]
  },
  {
   "cell_type": "code",
   "execution_count": null,
   "id": "d1e70dfb-907a-4a02-9856-a0ead99aad8a",
   "metadata": {},
   "outputs": [],
   "source": [
    "rag.predict('Tell me about vector-search')"
   ]
  },
  {
   "cell_type": "markdown",
   "id": "5da0306b-0969-49ab-95c4-0eb93c39f515",
   "metadata": {},
   "source": [
    "You can now load the model elsewhere and make predictions using the following command."
   ]
  },
  {
   "cell_type": "markdown",
   "id": "f42119a4-6aef-46ec-a81d-cbe1167d8710",
   "metadata": {},
   "source": [
    "## Create template"
   ]
  },
  {
   "cell_type": "code",
   "execution_count": null,
   "id": "2e850c03-33c6-4c88-95d3-d14146a6a0af",
   "metadata": {},
   "outputs": [],
   "source": [
    "from pinnacle import Template, Table, Schema\n",
    "from pinnacle.components.dataset import RemoteData\n",
    "\n",
    "template = Template(\n",
    "    'simple_rag',\n",
    "    template=app,\n",
    "    substitutions={\n",
    "        COLLECTION_NAME: 'table_name',\n",
    "        'text-embedding-ada-002': 'embedding_model',\n",
    "        'gpt-3.5-turbo': 'llm_model',\n",
    "    },\n",
    "    template_variables=['table_name', 'id_field', 'embedding_model', 'llm_model'],\n",
    "    default_tables=[\n",
    "        Table(\n",
    "            'sample_simple_rag',\n",
    "            fields={'x': 'str'},\n",
    "            data=RemoteData(\n",
    "                'pinnacle-docs',\n",
    "                getter=getter,\n",
    "            )\n",
    "        ),\n",
    "    ],\n",
    "    types={\n",
    "        'id_field': {\n",
    "            'type': 'str',\n",
    "            'default': '_id',\n",
    "        },\n",
    "        'embedding_model': {\n",
    "            'type': 'str',\n",
    "            'default': 'text-embedding-ada-002',\n",
    "            'choices': ['text-embedding-ada-002', 'nomic-embed-text:latest'],\n",
    "        },\n",
    "        'llm_model': {\n",
    "            'type': 'str',\n",
    "            'default': 'gpt-3.5-turbo',\n",
    "            'choices': ['gpt-3.5-turbo', 'gpt-4-turbo', 'llama3.1:8b']\n",
    "        },\n",
    "        'table_name': {\n",
    "            'type': 'str',\n",
    "            'default': SAMPLE_COLLECTION_NAME,\n",
    "        }\n",
    "    },\n",
    "    schema={\n",
    "        \"id_field\": \"id_field\",\n",
    "        \"embedding_model\": \"embedding_model\",\n",
    "        \"llm_model\": \"llm_model\",\n",
    "        \"table_name\": \"table_name\",\n",
    "    },\n",
    "    db=db\n",
    ")"
   ]
  },
  {
   "cell_type": "code",
   "execution_count": null,
   "id": "8924ba0d-7c01-4d6c-87fb-245531db7506",
   "metadata": {},
   "outputs": [],
   "source": [
    "template.export('.')"
   ]
  }
 ],
 "metadata": {
  "kernelspec": {
   "display_name": "Python 3 (ipykernel)",
   "language": "python",
   "name": "python3"
  },
  "language_info": {
   "codemirror_mode": {
    "name": "ipython",
    "version": 3
   },
   "file_extension": ".py",
   "mimetype": "text/x-python",
   "name": "python",
   "nbconvert_exporter": "python",
   "pygments_lexer": "ipython3",
   "version": "3.10.13"
  }
 },
 "nbformat": 4,
 "nbformat_minor": 5
}
