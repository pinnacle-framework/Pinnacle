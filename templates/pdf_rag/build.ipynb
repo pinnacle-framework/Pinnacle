{
 "cells": [
  {
   "cell_type": "markdown",
   "id": "dbab9c35-9c81-4b6b-838a-569dda0febe3",
   "metadata": {},
   "source": [
    "# PDF RAG\n",
    "\n",
    "This is a PDF-based RAG application. While answering questions, it accesses relevant information from the PDF and displays the corresponding paragraphs in the form of images."
   ]
  },
  {
   "cell_type": "code",
   "execution_count": null,
   "id": "95e55ddd-45db-493f-8cc0-26ba2959160e",
   "metadata": {},
   "outputs": [],
   "source": [
    "from pinnacle import pinnacle"
   ]
  },
  {
   "cell_type": "code",
   "execution_count": null,
   "id": "b52e7cb0-a612-4c9d-85ec-9e95dd8ce8fa",
   "metadata": {},
   "outputs": [],
   "source": [
    "db = pinnacle(\"mongodb://localhost:27017/pdf_rag\")\n",
    "db.drop(True, True)"
   ]
  },
  {
   "cell_type": "code",
   "execution_count": null,
   "id": "e7f452d7-017d-4fea-a87d-2ccdb6276b79",
   "metadata": {},
   "outputs": [],
   "source": [
    "!curl -O https://pinnacledb-public-demo.s3.amazonaws.com/pdfs.zip && unzip -o pdfs.zip"
   ]
  },
  {
   "cell_type": "markdown",
   "id": "3b4e4001-84be-453c-902e-a5f0a8934472",
   "metadata": {},
   "source": [
    "## Create a table to store PDFs."
   ]
  },
  {
   "cell_type": "code",
   "execution_count": null,
   "id": "c0eb6c25-f091-4099-b84c-5bafe55f0eb3",
   "metadata": {},
   "outputs": [],
   "source": [
    "import os\n",
    "from pinnacle import Schema, Table\n",
    "from pinnacle.components.datatype import file_lazy\n",
    "\n",
    "\n",
    "\n",
    "schema = Schema(identifier=\"myschema\", fields={\"url\": \"str\", \"file\": file_lazy})\n",
    "table = Table(identifier=\"pdfs\", schema=schema)\n",
    "db.apply(table, force=True)\n",
    "\n",
    "pdf_folder = \"pdfs\"\n",
    "pdf_names = [pdf for pdf in os.listdir(pdf_folder) if pdf.endswith(\".pdf\")]\n",
    "pdf_paths = [os.path.join(pdf_folder, pdf) for pdf in pdf_names]\n",
    "\n",
    "data = [{\"url\": pdf_path, \"file\": pdf_path} for pdf_path in pdf_paths]\n",
    "\n",
    "db[\"pdfs\"].insert(data).execute()"
   ]
  },
  {
   "cell_type": "markdown",
   "id": "6d96bdf0-e664-493b-8fc1-dee711b64e9e",
   "metadata": {},
   "source": [
    "## Split the PDF file into images for later result display"
   ]
  },
  {
   "cell_type": "code",
   "execution_count": null,
   "id": "83e64072-920c-4e0d-bfa2-424fd0c5c1b1",
   "metadata": {},
   "outputs": [],
   "source": [
    "def split_image(pdf_path):\n",
    "    logging.info(f\"Splitting images from {pdf_path}\")\n",
    "    from pdf2image import convert_from_path\n",
    "\n",
    "    image_folders = \"data/pdf-images\"\n",
    "    pdf_name = os.path.basename(pdf_path)\n",
    "    images = convert_from_path(pdf_path)\n",
    "    logging.info(f\"Number of images: {len(images)}\")\n",
    "\n",
    "    image_folder = os.path.join(image_folders, pdf_name)\n",
    "    if not os.path.exists(image_folder):\n",
    "        os.makedirs(image_folder)\n",
    "\n",
    "    data = []\n",
    "    for i, image in enumerate(images):\n",
    "        path = os.path.join(image_folder, f\"{i}.jpg\")\n",
    "        image.save(os.path.join(path))\n",
    "        data.append(path)\n",
    "    return data\n",
    "\n",
    "from pinnacle import ObjectModel\n",
    "\n",
    "model_split_image = ObjectModel(\n",
    "    identifier=\"split_image\",\n",
    "    object=split_image,\n",
    "    datatype=file_lazy,\n",
    ")\n",
    "\n",
    "listener_split_image = model_split_image.to_listener(\n",
    "    key=\"file\",\n",
    "    select=db[\"pdfs\"].find(),\n",
    "    flatten=True,\n",
    ")\n",
    "db.apply(listener_split_image, force=True)"
   ]
  },
  {
   "cell_type": "markdown",
   "id": "7a14dd50-1c52-4ebe-bdff-3c45e5277882",
   "metadata": {},
   "source": [
    "## Build a chunks model and return chunk results with coordinate information."
   ]
  },
  {
   "cell_type": "code",
   "execution_count": null,
   "id": "75857086-8c8f-4109-a427-2c2f510cfa17",
   "metadata": {},
   "outputs": [],
   "source": [
    "def remove_sidebars(elements):\n",
    "    import re\n",
    "    from collections import defaultdict\n",
    "\n",
    "    from unstructured.documents.elements import ElementType\n",
    "\n",
    "    if not elements:\n",
    "        return elements\n",
    "    points_groups = defaultdict(list)\n",
    "    min_x = 99999999\n",
    "    max_x = 0\n",
    "    e2index = {e.id: i for i, e in enumerate(elements)}\n",
    "    for e in elements:\n",
    "        x_l = int(e.metadata.coordinates.points[0][0])\n",
    "        x_r = int(e.metadata.coordinates.points[2][0])\n",
    "        points_groups[(x_l, x_r)].append(e)\n",
    "        min_x = min(min_x, x_l)\n",
    "        max_x = max(max_x, x_r)\n",
    "    sidebars_elements = set()\n",
    "    for (x_l, x_r), es in points_groups.items():\n",
    "        first_id = e2index[es[0].id]\n",
    "        last_id = e2index[es[-1].id]\n",
    "        on_left = first_id == 0 and x_l == min_x\n",
    "        on_right = (last_id == len(elements) - 2) and x_r == max_x\n",
    "        loc_match = [on_left, on_right]\n",
    "        total_text = \"\".join(map(str, es))\n",
    "        condiction = [\n",
    "            any(loc_match),\n",
    "            len(es) >= 3,\n",
    "            re.findall(\"^[A-Z\\s\\d,]+$\", total_text),\n",
    "        ]\n",
    "        if not all(condiction):\n",
    "            continue\n",
    "        sidebars_elements.update(map(lambda x: x.id, es))\n",
    "        if on_left:\n",
    "            check_page_num_e = elements[last_id + 1]\n",
    "        else:\n",
    "            check_page_num_e = elements[-1]\n",
    "        if (\n",
    "            check_page_num_e.category == ElementType.UNCATEGORIZED_TEXT\n",
    "            and check_page_num_e.text.strip().isalnum()\n",
    "        ):\n",
    "            sidebars_elements.add(check_page_num_e.id)\n",
    "\n",
    "    elements = [e for e in elements if e.id not in sidebars_elements]\n",
    "    return elements\n",
    "\n",
    "\n",
    "def remove_annotation(elements):\n",
    "    from collections import Counter\n",
    "\n",
    "    from unstructured.documents.elements import ElementType\n",
    "\n",
    "    page_num = max(e.metadata.page_number for e in elements)\n",
    "    un_texts_counter = Counter(\n",
    "        [e.text for e in elements if e.category == ElementType.UNCATEGORIZED_TEXT]\n",
    "    )\n",
    "    rm_text = set()\n",
    "    for text, count in un_texts_counter.items():\n",
    "        if count / page_num >= 0.5:\n",
    "            rm_text.add(text)\n",
    "    elements = [e for e in elements if e.text not in rm_text]\n",
    "    return elements\n",
    "\n",
    "\n",
    "def create_chunk_and_metadatas(page_elements, stride=3, window=10):\n",
    "    page_elements = remove_sidebars(page_elements)\n",
    "    for index, page_element in enumerate(page_elements):\n",
    "        page_element.metadata.num = index\n",
    "    datas = []\n",
    "    for i in range(0, len(page_elements), stride):\n",
    "        windown_elements = page_elements[i : i + window]\n",
    "        chunk = \"\\n\".join([e.text for e in windown_elements])\n",
    "        source_elements = [e.to_dict() for e in windown_elements]\n",
    "        datas.append(\n",
    "            {\n",
    "                \"txt\": chunk,\n",
    "                \"source_elements\": source_elements,\n",
    "            }\n",
    "        )\n",
    "    return datas\n",
    "\n",
    "\n",
    "def get_chunks(pdf):\n",
    "    from collections import defaultdict\n",
    "\n",
    "    from unstructured.documents.coordinates import RelativeCoordinateSystem\n",
    "    from unstructured.partition.pdf import partition_pdf\n",
    "\n",
    "    elements = partition_pdf(pdf)\n",
    "    elements = remove_annotation(elements)\n",
    "\n",
    "    pages_elements = defaultdict(list)\n",
    "    for element in elements:\n",
    "        element.convert_coordinates_to_new_system(\n",
    "            RelativeCoordinateSystem(), in_place=True\n",
    "        )\n",
    "        pages_elements[element.metadata.page_number].append(element)\n",
    "\n",
    "    all_chunks_and_links = sum(\n",
    "        [\n",
    "            create_chunk_and_metadatas(page_elements)\n",
    "            for _, page_elements in pages_elements.items()\n",
    "        ],\n",
    "        [],\n",
    "    )\n",
    "    return all_chunks_and_links\n"
   ]
  },
  {
   "cell_type": "code",
   "execution_count": null,
   "id": "8b6e62e1-f94f-4363-b534-8b6f52bf509e",
   "metadata": {},
   "outputs": [],
   "source": [
    "model_chunk = ObjectModel(\n",
    "    identifier=\"chunk\",\n",
    "    object=get_chunks,\n",
    ")\n",
    "\n",
    "listener_chunk = model_chunk.to_listener(\n",
    "    key=\"file\",\n",
    "    select=db[\"pdfs\"].select(),\n",
    "    flatten=True,\n",
    ")\n",
    "db.apply(listener_chunk, force=True)"
   ]
  },
  {
   "cell_type": "markdown",
   "id": "9eb48164-2cf8-4253-9b3f-b3ae37a6b5f3",
   "metadata": {},
   "source": [
    "## Build a vector index for vector search"
   ]
  },
  {
   "cell_type": "code",
   "execution_count": null,
   "id": "918d0092-b01f-4881-9870-70ca49bef61c",
   "metadata": {},
   "outputs": [],
   "source": [
    "from pinnacle_openai.model import OpenAIEmbedding\n",
    "from pinnacle import VectorIndex\n",
    "\n",
    "\n",
    "model_embedding = OpenAIEmbedding(\n",
    "    identifier=\"embedding\",\n",
    "    model=\"text-embedding-ada-002\",\n",
    ")\n",
    "\n",
    "listener_embedding = model_embedding.to_listener(\n",
    "    key=\"_outputs__chunk.txt\",\n",
    "    select=db[\"_outputs__chunk\"].select(),\n",
    ")\n",
    "\n",
    "vector_index = VectorIndex(\n",
    "    identifier=\"vector-index\",\n",
    "    indexing_listener=listener_embedding,\n",
    ")\n",
    "\n",
    "db.apply(vector_index, force=True)\n"
   ]
  },
  {
   "cell_type": "markdown",
   "id": "4f991fc6-b0e2-48bf-9158-49281ceb1c7e",
   "metadata": {},
   "source": [
    "## Create a plugin\n",
    "\n",
    "When applying the processor, saves the plugin in the database, thereby saving the related dependencies as well.\n",
    "\n",
    "The processor will integrate the returned chunks information with the images, and return a visualized image.​"
   ]
  },
  {
   "cell_type": "code",
   "execution_count": null,
   "id": "6c21a46e-3110-4ca9-b250-f4f87c8b144c",
   "metadata": {},
   "outputs": [],
   "source": [
    "from pinnacle import Plugin\n",
    "from utils import Processer\n",
    "processor = Processer(identifier=\"processor\", db=db, plugins=[Plugin(path=\"./utils.py\")])"
   ]
  },
  {
   "cell_type": "code",
   "execution_count": null,
   "id": "964347aa-11ea-4d5a-9fea-381278b907b0",
   "metadata": {},
   "outputs": [],
   "source": []
  },
  {
   "cell_type": "markdown",
   "id": "f8f43f76-a186-4c9f-9b0c-34caefab20d8",
   "metadata": {},
   "source": [
    "## Create a RAG model\n",
    "\n",
    "Create a RAG model to perform retrieval-augmented generation (RAG) and return the results."
   ]
  },
  {
   "cell_type": "code",
   "execution_count": null,
   "id": "95d45bb3-c400-478f-9c03-1ef9f9364a5c",
   "metadata": {},
   "outputs": [],
   "source": [
    "from pinnacle import Model, logging\n",
    "\n",
    "\n",
    "class Rag(Model):\n",
    "\n",
    "    llm_model: Model\n",
    "    prompt_template: str\n",
    "    processor: None | Model = None\n",
    "\n",
    "    def __post_init__(self, *args, **kwargs):\n",
    "        assert \"{context}\" in self.prompt_template, 'The prompt_template must include \"{context}\"'\n",
    "        assert \"{query}\" in self.prompt_template, 'The prompt_template must include \"{query}\"'\n",
    "        super().__post_init__(*args, **kwargs)\n",
    "    \n",
    "    def predict(self, query, top_k=5, format_result=False):\n",
    "        vector_search_out = self.vector_search(query, top_k=top_k)\n",
    "        context = \"\\n\\n---\\n\\n\".join([x[\"_outputs__chunk.txt\"] for x in vector_search_out])\n",
    "        \n",
    "        prompt = self.prompt_template.format(context=context, query=query)\n",
    "        output = self.llm_model.predict(prompt)\n",
    "        result = {\n",
    "            \"answer\": output,\n",
    "            \"docs\": vector_search_out,\n",
    "        }\n",
    "        if format_result and self.processor:\n",
    "            result[\"images\"] = list(self.processor.predict(vector_search_out, match_text=output, pinnacle=True))\n",
    "        return result\n",
    "\n",
    "    def vector_search(self, query, top_k=5, format_result=False):\n",
    "        logging.info(f\"Vector search query: {query}\")\n",
    "        select = self.db[\"_outputs__chunk\"].like(\n",
    "            {\"_outputs__chunk.txt\":query},\n",
    "            vector_index=\"vector-index\", \n",
    "            n=top_k,\n",
    "        ).select()\n",
    "        out = select.execute()\n",
    "        if out:\n",
    "            out = sorted(out, key=lambda x: x[\"score\"], reverse=True)\n",
    "        return out"
   ]
  },
  {
   "cell_type": "code",
   "execution_count": null,
   "id": "6697652b-550b-4e48-b456-8c1b28554139",
   "metadata": {},
   "outputs": [],
   "source": [
    "from pinnacle_openai.model import OpenAIChatCompletion\n",
    "\n",
    "llm = OpenAIChatCompletion(identifier=\"llm\", model=\"gpt-3.5-turbo\")\n",
    "\n",
    "prompt_template = (\n",
    "    \"The following is a document and question about the volvo user manual\\n\"\n",
    "    \"Only provide a very concise answer\\n\"\n",
    "    \"Context:\\n\\n\"\n",
    "    \"{context}\\n\\n\"\n",
    "    \"Here's the question:{query}\\n\"\n",
    "    \"answer:\"\n",
    ")\n",
    "\n",
    "rag = Rag(identifier=\"rag\", llm_model=llm, prompt_template=prompt_template, db=db, processor=processor)\n",
    "db.apply(rag, force=True)"
   ]
  },
  {
   "cell_type": "code",
   "execution_count": null,
   "id": "2b43a6a2-1042-4d6f-8c7e-c6c108ae4a5a",
   "metadata": {},
   "outputs": [],
   "source": [
    "result = rag.predict(\"How to perform Query Optimization?\", format_result=True)"
   ]
  },
  {
   "cell_type": "code",
   "execution_count": null,
   "id": "ecb81f74-1036-4a1f-87ec-023ce8dd2a0f",
   "metadata": {},
   "outputs": [],
   "source": [
    "from IPython.display import Image, Markdown, display\n",
    "\n",
    "display(Markdown(result[\"answer\"]))\n",
    "\n",
    "for message, img in result[\"images\"]:\n",
    "    display(Markdown(message))\n",
    "    display(img)"
   ]
  },
  {
   "cell_type": "markdown",
   "id": "fde11162-e994-4621-af36-b5fa9bc3f258",
   "metadata": {},
   "source": [
    "## Create template"
   ]
  },
  {
   "cell_type": "code",
   "execution_count": null,
   "id": "03959e5c-f34d-4ad9-971f-5640fd7aed69",
   "metadata": {},
   "outputs": [],
   "source": [
    "from pinnacle import Application, Template\n",
    "\n",
    "app = Application.build_from_db(db=db, identifier=\"pdf-rag\")"
   ]
  },
  {
   "cell_type": "code",
   "execution_count": null,
   "id": "81346b3c-9c2d-4f40-a78d-b830ee74597d",
   "metadata": {},
   "outputs": [],
   "source": [
    "from pinnacle import Template\n",
    "\n",
    "template = Template('pdf-rag', template=app, substitutions={prompt_template: 'prompt_template'})"
   ]
  },
  {
   "cell_type": "code",
   "execution_count": null,
   "id": "0ecfca6d-880a-4081-be95-1f282b1d2c9b",
   "metadata": {},
   "outputs": [],
   "source": [
    "template.template_variables"
   ]
  },
  {
   "cell_type": "code",
   "execution_count": null,
   "id": "e82d71e0-ab21-48a2-849a-57e494ae3a2a",
   "metadata": {},
   "outputs": [],
   "source": [
    "template.export(\".\")"
   ]
  },
  {
   "cell_type": "code",
   "execution_count": null,
   "id": "af81ccdc-4877-407b-a78d-5e93202de66b",
   "metadata": {},
   "outputs": [],
   "source": []
  }
 ],
 "metadata": {
  "kernelspec": {
   "display_name": "Python 3 (ipykernel)",
   "language": "python",
   "name": "python3"
  },
  "language_info": {
   "codemirror_mode": {
    "name": "ipython",
    "version": 3
   },
   "file_extension": ".py",
   "mimetype": "text/x-python",
   "name": "python",
   "nbconvert_exporter": "python",
   "pygments_lexer": "ipython3",
   "version": "3.11.5"
  }
 },
 "nbformat": 4,
 "nbformat_minor": 5
}
