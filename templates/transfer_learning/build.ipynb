{
 "cells": [
  {
   "cell_type": "markdown",
   "id": "c288025e-2326-4e8b-ab52-6fb8a5f9560f",
   "metadata": {},
   "source": [
    "# Transfer learning"
   ]
  },
  {
   "cell_type": "markdown",
   "id": "32f8484d-2e35-472a-9b24-1a30ec1d144b",
   "metadata": {},
   "source": [
    "<!-- TABS -->\n",
    "## Connect to pinnacle"
   ]
  },
  {
   "cell_type": "code",
   "execution_count": null,
   "id": "cb029a5e-fedf-4f07-8a31-d220cfbfbb3d",
   "metadata": {},
   "outputs": [],
   "source": [
    "from pinnacle import pinnacle\n",
    "\n",
    "db = pinnacle('mongomock:///test_db')"
   ]
  },
  {
   "cell_type": "markdown",
   "id": "032c2e7b-3f54-4263-b778-0fef60596efb",
   "metadata": {},
   "source": [
    "<!-- TABS -->\n",
    "## Get useful sample data"
   ]
  },
  {
   "cell_type": "code",
   "execution_count": null,
   "id": "547751e5",
   "metadata": {},
   "outputs": [],
   "source": [
    "# <tab: Text-Classification>\n",
    "!curl -O https://pinnacledb-public-demo.s3.amazonaws.com/text_classification.json\n",
    "import json\n",
    "\n",
    "with open(\"text_classification.json\", \"r\") as f:\n",
    "    data = json.load(f)\n",
    "num_classes = 2"
   ]
  },
  {
   "cell_type": "code",
   "execution_count": null,
   "id": "1b28f6bf",
   "metadata": {},
   "outputs": [],
   "source": [
    "# <tab: Image-Classification>\n",
    "!curl -O https://pinnacledb-public-demo.s3.amazonaws.com/images_classification.zip && unzip images_classification.zip\n",
    "import json\n",
    "from PIL import Image\n",
    "\n",
    "with open('images/images.json', 'r') as f:\n",
    "    data = json.load(f)\n",
    "    \n",
    "data = [{'x': Image.open(d['image_path']), 'y': d['label']} for d in data]\n",
    "num_classes = 2"
   ]
  },
  {
   "cell_type": "markdown",
   "id": "eedb0bc4-826f-43fe-bd34-869bf69f2db0",
   "metadata": {},
   "source": [
    "After obtaining the data, we insert it into the database."
   ]
  },
  {
   "cell_type": "code",
   "execution_count": null,
   "id": "7598ec1a-4f23-46f0-ae9f-617bce855e65",
   "metadata": {},
   "outputs": [],
   "source": [
    "# <tab: Text-Classification>\n",
    "datas = [{'txt': d['x'], 'label': d['y']} for d in data]"
   ]
  },
  {
   "cell_type": "code",
   "execution_count": null,
   "id": "89e856c2-7407-431f-a7de-3a6d51d17be6",
   "metadata": {},
   "outputs": [],
   "source": [
    "# <tab: Image-Classification>\n",
    "datas = [{'image': d['x'], 'label': d['y']} for d in data]"
   ]
  },
  {
   "cell_type": "markdown",
   "id": "944ebee5",
   "metadata": {},
   "source": [
    "<!-- TABS -->\n",
    "## Insert simple data\n",
    "\n",
    "After turning on auto_schema, we can directly insert data, and pinnacle will automatically analyze the data type, and match the construction of the table and datatype."
   ]
  },
  {
   "cell_type": "code",
   "execution_count": null,
   "id": "64d0f3b5",
   "metadata": {},
   "outputs": [],
   "source": [
    "from pinnacle import Document\n",
    "\n",
    "table_or_collection = db['docs']\n",
    "\n",
    "ids = db.execute(table_or_collection.insert([Document(data) for data in datas]))\n",
    "select = table_or_collection.select()"
   ]
  },
  {
   "cell_type": "markdown",
   "id": "9e703b58-a46d-4b1f-98fd-f50d46b168fe",
   "metadata": {},
   "source": [
    "<!-- TABS -->\n",
    "## Compute features"
   ]
  },
  {
   "cell_type": "code",
   "execution_count": null,
   "id": "ae2e1588-fec8-45a6-b678-fef05fc7b57f",
   "metadata": {},
   "outputs": [],
   "source": [
    "# <tab: Text>\n",
    "key = 'txt'\n",
    "import sentence_transformers\n",
    "from pinnacle import vector, Listener\n",
    "from pinnacle_sentence_transformers import SentenceTransformer\n",
    "\n",
    "pinnaclemodel = SentenceTransformer(\n",
    "    identifier=\"embedding\",\n",
    "    object=sentence_transformers.SentenceTransformer(\"sentence-transformers/all-MiniLM-L6-v2\"),\n",
    "    postprocess=lambda x: x.tolist(),\n",
    ")\n",
    "\n",
    "jobs, listener = db.apply(\n",
    "    Listener(\n",
    "        model=pinnaclemodel,\n",
    "        select=select,\n",
    "        key=key,\n",
    "        identifier=\"features\"\n",
    "    )\n",
    ")"
   ]
  },
  {
   "cell_type": "code",
   "execution_count": null,
   "id": "17de589c-4d75-4483-b2ca-77d5c25c2fb8",
   "metadata": {},
   "outputs": [],
   "source": [
    "# <tab: Image>\n",
    "key = 'image'\n",
    "import torchvision.models as models\n",
    "from torchvision import transforms\n",
    "from pinnacle_torch import TorchModel\n",
    "from pinnacle import Listener\n",
    "from PIL import Image\n",
    "\n",
    "class TorchVisionEmbedding:\n",
    "    def __init__(self):\n",
    "        # Load the pre-trained ResNet-18 model\n",
    "        self.resnet = models.resnet18(pretrained=True)\n",
    "        \n",
    "        # Set the model to evaluation mode\n",
    "        self.resnet.eval()\n",
    "        \n",
    "    def preprocess(self, image):\n",
    "        # Preprocess the image\n",
    "        preprocess = preprocess = transforms.Compose([\n",
    "            transforms.Resize(256),\n",
    "            transforms.CenterCrop(224),\n",
    "            transforms.ToTensor(),\n",
    "            transforms.Normalize(mean=[0.485, 0.456, 0.406], std=[0.229, 0.224, 0.225]),\n",
    "        ])\n",
    "        tensor_image = preprocess(image)\n",
    "        return tensor_image\n",
    "        \n",
    "model = TorchVisionEmbedding()\n",
    "pinnaclemodel = TorchModel(identifier='my-vision-model-torch', object=model.resnet, preprocess=model.preprocess, postprocess=lambda x: x.numpy().tolist())\n",
    "\n",
    "jobs, listener = db.apply(\n",
    "    Listener(\n",
    "        model=pinnaclemodel,\n",
    "        select=select,\n",
    "        key=key,\n",
    "        identifier=\"features\"\n",
    "    )\n",
    ")"
   ]
  },
  {
   "cell_type": "markdown",
   "id": "3d9329cd-1ef3-4997-ba2f-9353091907a8",
   "metadata": {},
   "source": [
    "## Choose features key from feature listener"
   ]
  },
  {
   "cell_type": "code",
   "execution_count": null,
   "id": "9651e3a6-89f3-41db-80e6-afc294f4daa1",
   "metadata": {},
   "outputs": [],
   "source": [
    "input_key = listener.outputs\n",
    "training_select = select.outputs(listener.predict_id)"
   ]
  },
  {
   "cell_type": "markdown",
   "id": "ea4ddf88-468b-4ca5-b78b-37f8c3231ef7",
   "metadata": {},
   "source": [
    "We can find the calculated feature data from the database."
   ]
  },
  {
   "cell_type": "code",
   "execution_count": null,
   "id": "aa1b85e7-a562-4efe-8af1-16889bd35bf7",
   "metadata": {},
   "outputs": [],
   "source": [
    "feature = list(training_select.limit(1).execute())[0][input_key]\n",
    "feature_size = len(feature)"
   ]
  },
  {
   "cell_type": "markdown",
   "id": "c2da0ab6-8fc0-41fc-b8c9-0f8a127d9e8d",
   "metadata": {},
   "source": [
    "<!-- TABS -->\n",
    "## Build and train classifier"
   ]
  },
  {
   "cell_type": "code",
   "execution_count": null,
   "id": "d3b94fca-3a0b-433f-88cf-aab5b71b8596",
   "metadata": {},
   "outputs": [],
   "source": [
    "# <tab: Scikit-Learn>\n",
    "from pinnacle_sklearn import Estimator, SklearnTrainer\n",
    "from sklearn.svm import SVC\n",
    "\n",
    "model = Estimator(\n",
    "    identifier=\"my-model\",\n",
    "    object=SVC(),\n",
    "    trainer=SklearnTrainer(\n",
    "        \"my-trainer\",\n",
    "        key=(input_key, \"label\"),\n",
    "        select=training_select,\n",
    "    ),\n",
    ")"
   ]
  },
  {
   "cell_type": "code",
   "execution_count": null,
   "id": "5256e0fb-db16-411e-a1c1-8d44feb26c29",
   "metadata": {},
   "outputs": [],
   "source": [
    "# <tab: Torch>\n",
    "import torch\n",
    "from torch import nn\n",
    "from pinnacle_torch.model import TorchModel\n",
    "from pinnacle_torch.training import TorchTrainer\n",
    "from torch.nn.functional import cross_entropy\n",
    "\n",
    "\n",
    "class SimpleModel(nn.Module):\n",
    "    def __init__(self, input_size=16, hidden_size=32, num_classes=3):\n",
    "        super(SimpleModel, self).__init__()\n",
    "        self.fc1 = nn.Linear(input_size, hidden_size)\n",
    "        self.relu = nn.ReLU()\n",
    "        self.fc2 = nn.Linear(hidden_size, num_classes)\n",
    "\n",
    "    def forward(self, x):\n",
    "        out = self.fc1(x)\n",
    "        out = self.relu(out)\n",
    "        out = self.fc2(out)\n",
    "        return out\n",
    "\n",
    "preprocess = lambda x: torch.tensor(x)\n",
    "\n",
    "# Postprocess function for the model output    \n",
    "def postprocess(x):\n",
    "    return int(x.topk(1)[1].item())\n",
    "\n",
    "def data_transform(features, label):\n",
    "    return torch.tensor(features), label\n",
    "\n",
    "# Create a Logistic Regression model\n",
    "# feature_length is the input feature size\n",
    "model = SimpleModel(feature_size, num_classes=num_classes)\n",
    "model = TorchModel(\n",
    "    identifier='my-model',\n",
    "    object=model,         \n",
    "    preprocess=preprocess,\n",
    "    postprocess=postprocess,\n",
    "    trainer=TorchTrainer(\n",
    "        key=(input_key, 'label'),\n",
    "        identifier='my_trainer',\n",
    "        objective=cross_entropy,\n",
    "        loader_kwargs={'batch_size': 10},\n",
    "        max_iterations=1000,\n",
    "        validation_interval=100,\n",
    "        select=select,\n",
    "        transform=data_transform,\n",
    "    ),\n",
    ")"
   ]
  },
  {
   "cell_type": "markdown",
   "id": "1af37887-59bc-4e13-b3b1-fee7d6108473",
   "metadata": {},
   "source": [
    "Define a validation for evaluating the effect after training."
   ]
  },
  {
   "cell_type": "code",
   "execution_count": null,
   "id": "94fb7506-2abc-41fe-b259-8c4922d79516",
   "metadata": {},
   "outputs": [],
   "source": [
    "from pinnacle import Dataset, Metric, Validation\n",
    "\n",
    "\n",
    "def acc(x, y):\n",
    "    return sum([xx == yy for xx, yy in zip(x, y)]) / len(x)\n",
    "\n",
    "\n",
    "accuracy = Metric(identifier=\"acc\", object=acc)\n",
    "validation = Validation(\n",
    "    \"transfer_learning_performance\",\n",
    "    key=(input_key, \"label\"),\n",
    "    datasets=[\n",
    "        Dataset(identifier=\"my-valid\", select=training_select.add_fold('valid'))\n",
    "    ],\n",
    "    metrics=[accuracy],\n",
    ")\n",
    "model.validation = validation"
   ]
  },
  {
   "cell_type": "markdown",
   "id": "513478b1-2736-4fa5-bc2a-6fdb9c8e232d",
   "metadata": {},
   "source": [
    "If we execute the apply function, then the model will be added to the database, and because the model has a Trainer, it will perform training tasks."
   ]
  },
  {
   "cell_type": "code",
   "execution_count": null,
   "id": "79a39054-aef2-480a-a57e-7180914e6f7f",
   "metadata": {},
   "outputs": [],
   "source": [
    "db.apply(model)"
   ]
  },
  {
   "cell_type": "code",
   "execution_count": null,
   "id": "ee4cd992-fd5e-4fa7-9464-ab36cea57c11",
   "metadata": {},
   "outputs": [],
   "source": [
    "model.encode()"
   ]
  },
  {
   "cell_type": "markdown",
   "id": "52ab9838-9e5e-4402-a572-bd8339020963",
   "metadata": {},
   "source": [
    "Get the training metrics"
   ]
  },
  {
   "cell_type": "code",
   "execution_count": null,
   "id": "b7478a2a-3071-4d71-9ab8-95d7d7dd3d32",
   "metadata": {},
   "outputs": [],
   "source": [
    "model = db.load('model', model.identifier)\n",
    "model.metric_values"
   ]
  },
  {
   "cell_type": "code",
   "execution_count": null,
   "id": "00e5cd40-d5f5-4408-8f3b-857f1d4dd81e",
   "metadata": {},
   "outputs": [],
   "source": [
    "from pinnacle import Template\n",
    "\n",
    "t = Template('transfer-learner', template=model, substitutions={'docs': 'table'})"
   ]
  },
  {
   "cell_type": "code",
   "execution_count": null,
   "id": "d9c5253f-7b62-4a49-bbe4-b102375e6039",
   "metadata": {},
   "outputs": [],
   "source": [
    "t.export('.')"
   ]
  }
 ],
 "metadata": {
  "kernelspec": {
   "display_name": "Python 3 (ipykernel)",
   "language": "python",
   "name": "python3"
  },
  "language_info": {
   "codemirror_mode": {
    "name": "ipython",
    "version": 3
   },
   "file_extension": ".py",
   "mimetype": "text/x-python",
   "name": "python",
   "nbconvert_exporter": "python",
   "pygments_lexer": "ipython3",
   "version": "3.11.7"
  }
 },
 "nbformat": 4,
 "nbformat_minor": 5
}
