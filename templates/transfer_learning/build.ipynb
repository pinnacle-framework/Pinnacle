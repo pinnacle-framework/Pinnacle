{
	"cells": [
		{
			"cell_type": "markdown",
			"id": "c288025e-2326-4e8b-ab52-6fb8a5f9560f",
			"metadata": {},
			"source": [
				"# Transfer learning"
			]
		},
		{
			"cell_type": "markdown",
			"id": "32f8484d-2e35-472a-9b24-1a30ec1d144b",
			"metadata": {},
			"source": [
				"<!-- TABS -->\n",
				"## Connect to pinnacle"
			]
		},
		{
			"cell_type": "code",
			"execution_count": null,
			"id": "d23a4f09-03f8-478b-a62b-37c541c2e86b",
			"metadata": {},
			"outputs": [],
			"source": [
				"%load_ext autoreload\n",
				"%autoreload 2"
			]
		},
		{
			"cell_type": "code",
			"execution_count": 1,
			"id": "31135e11-42f2-4ca7-b2ed-491eb7d074ae",
			"metadata": {},
			"outputs": [],
			"source": [
				"APPLY = True\n",
				"COLLECTION_NAME = '<var:table_name>' if not APPLY else 'transfer_learning'\n",
				"ID_FIELD = '<var:id_field>' if not APPLY else '_id'\n",
				"MODALITY = 'text'"
			]
		},
		{
			"cell_type": "code",
			"execution_count": null,
			"id": "cb029a5e-fedf-4f07-8a31-d220cfbfbb3d",
			"metadata": {},
			"outputs": [],
			"source": [
				"from pinnacle import pinnacle, CFG\n",
				"CFG.force_apply = True\n",
				"\n",
				"db = pinnacle('mongomock:///test_db')"
			]
		},
		{
			"cell_type": "markdown",
			"id": "032c2e7b-3f54-4263-b778-0fef60596efb",
			"metadata": {},
			"source": [
				"<!-- TABS -->\n",
				"## Get useful sample data"
			]
		},
		{
			"cell_type": "code",
			"execution_count": null,
			"id": "547751e5",
			"metadata": {},
			"outputs": [],
			"source": [
				"# <tab: Text-Classification>\n",
				"num_classes = 2\n",
				"if MODALITY == 'text:\n",
				"    !curl -O https://pinnacledb-public-demo.s3.amazonaws.com/text_classification.json\n",
				"    import json\n",
				"    \n",
				"    with open(\"text_classification.json\", \"r\") as f:\n",
				"        data = json.load(f)\n",
				"else:\n",
				"    !curl -O https://pinnacledb-public-demo.s3.amazonaws.com/images_classification.zip && unzip images_classification.zip\n",
				"    import json\n",
				"    from PIL import Image\n",
				"    \n",
				"    with open('images/images.json', 'r') as f:\n",
				"        data = json.load(f)\n",
				"        \n",
				"    data = [{'x': Image.open(d['image_path']), 'y': d['label']} for d in data]"
			]
		},
		{
			"cell_type": "markdown",
			"id": "eedb0bc4-826f-43fe-bd34-869bf69f2db0",
			"metadata": {},
			"source": [
				"After obtaining the data, we insert it into the database."
			]
		},
		{
			"cell_type": "code",
			"execution_count": null,
			"id": "7598ec1a-4f23-46f0-ae9f-617bce855e65",
			"metadata": {},
			"outputs": [],
			"source": [
				"datas = [{'data': d['x'], 'label': d['y']} for d in data]"
			]
		},
		{
			"cell_type": "markdown",
			"id": "944ebee5",
			"metadata": {},
			"source": [
				"<!-- TABS -->\n",
				"## Insert simple data\n",
				"\n",
				"After turning on auto_schema, we can directly insert data, and pinnacle will automatically analyze the data type, and match the construction of the table and datatype."
			]
		},
		{
			"cell_type": "code",
			"execution_count": null,
			"id": "64d0f3b5",
			"metadata": {},
			"outputs": [],
			"source": [
				"from pinnacle import Document\n",
				"\n",
				"table_or_collection = db[COLLECTION_NAME]\n",
				"\n",
				"ids = db.execute(table_or_collection.insert([Document(data) for data in datas]))\n",
				"select = table_or_collection.select()"
			]
		},
		{
			"cell_type": "markdown",
			"id": "9e703b58-a46d-4b1f-98fd-f50d46b168fe",
			"metadata": {},
			"source": [
				"<!-- TABS -->\n",
				"## Compute features"
			]
		},
		{
			"cell_type": "code",
			"execution_count": null,
			"id": "ae2e1588-fec8-45a6-b678-fef05fc7b57f",
			"metadata": {},
			"outputs": [],
			"source": [
				"# <tab: Text>\n",
				"import sentence_transformers\n",
				"from pinnacle import vector, Listener\n",
				"from pinnacle_sentence_transformers import SentenceTransformer\n",
				"\n",
				"\n",
				"pinnaclemodel_text = SentenceTransformer(\n",
				"    identifier=\"embedding\",\n",
				"    object=sentence_transformers.SentenceTransformer(\"sentence-transformers/all-MiniLM-L6-v2\"),\n",
				"    postprocess=lambda x: x.tolist(),\n",
				")"
			]
		},
		{
			"cell_type": "code",
			"execution_count": null,
			"id": "17de589c-4d75-4483-b2ca-77d5c25c2fb8",
			"metadata": {},
			"outputs": [],
			"source": [
				"# <tab: Image>\n",
				"import torchvision.models as models\n",
				"from torchvision import transforms\n",
				"from pinnacle_torch import TorchModel\n",
				"from pinnacle import Listener\n",
				"from PIL import Image\n",
				"\n",
				"class TorchVisionEmbedding:\n",
				"    def __init__(self):\n",
				"        # Load the pre-trained ResNet-18 model\n",
				"        self.resnet = models.resnet18(pretrained=True)\n",
				"        \n",
				"        # Set the model to evaluation mode\n",
				"        self.resnet.eval()\n",
				"        \n",
				"    def preprocess(self, image):\n",
				"        # Preprocess the image\n",
				"        preprocess = preprocess = transforms.Compose([\n",
				"            transforms.Resize(256),\n",
				"            transforms.CenterCrop(224),\n",
				"            transforms.ToTensor(),\n",
				"            transforms.Normalize(mean=[0.485, 0.456, 0.406], std=[0.229, 0.224, 0.225]),\n",
				"        ])\n",
				"        tensor_image = preprocess(image)\n",
				"        return tensor_image\n",
				"        \n",
				"model = TorchVisionEmbedding()\n",
				"pinnaclemodel_image = TorchModel(identifier='my-vision-model-torch', object=model.resnet, preprocess=model.preprocess, postprocess=lambda x: x.numpy().tolist())\n"
			]
		},
		{
			"cell_type": "code",
			"execution_count": null,
			"id": "f095265c-769f-4720-9ac7-92a87ea88cd2",
			"metadata": {},
			"outputs": [],
			"source": [
				"from pinnacle.components.model import ModelRouter\n",
				"feature_extractor = ModelRouter(\n",
				"    'feature_extractor',\n",
				"    models={\n",
				"        'text': pinnaclemodel_text,\n",
				"        'image': pinnaclemodel_image,\n",
				"    },\n",
				"    model='<var:embedding_model>' if not APPLY else MODALITY,\n",
				")"
			]
		},
		{
			"cell_type": "code",
			"execution_count": null,
			"id": "4e4b0c27-d78c-4f2d-a45f-0ebd08cb2d61",
			"metadata": {},
			"outputs": [],
			"source": [
				"feature_extractor_listener = Listener(\n",
				"        model=feature_extractor,\n",
				"        select=select,\n",
				"        key='data',\n",
				"        identifier=\"features\"\n",
				"    )\n",
				"\n",
				"if APPLY:\n",
				"    feature_extractor_listener = db.apply(\n",
				"        feature_extractor_listener\n",
				"    )"
			]
		},
		{
			"cell_type": "markdown",
			"id": "3d9329cd-1ef3-4997-ba2f-9353091907a8",
			"metadata": {},
			"source": [
				"## Choose features key from feature listener"
			]
		},
		{
			"cell_type": "code",
			"execution_count": null,
			"id": "df667f3d-d475-4184-b788-70c499db4891",
			"metadata": {},
			"outputs": [],
			"source": []
		},
		{
			"cell_type": "code",
			"execution_count": null,
			"id": "225f5a0e-5464-4ef8-ac1f-2c6b6da9552a",
			"metadata": {},
			"outputs": [],
			"source": [
				"x.unpack().keys()"
			]
		},
		{
			"cell_type": "markdown",
			"id": "c2da0ab6-8fc0-41fc-b8c9-0f8a127d9e8d",
			"metadata": {},
			"source": [
				"<!-- TABS -->\n",
				"## Build and train classifier"
			]
		},
		{
			"cell_type": "code",
			"execution_count": null,
			"id": "6deee370-b9b4-4c1a-924e-2f637333f565",
			"metadata": {},
			"outputs": [],
			"source": [
				"input_key = feature_extractor_listener.outputs\n",
				"training_select = select.outputs(feature_extractor_listener.predict_id)\n",
				"print(input_key)\n",
				"x = next(training_select.execute())"
			]
		},
		{
			"cell_type": "code",
			"execution_count": null,
			"id": "d2e306be-e544-4a97-bf68-4e7d3a55f2ee",
			"metadata": {},
			"outputs": [],
			"source": []
		},
		{
			"cell_type": "code",
			"execution_count": null,
			"id": "d3b94fca-3a0b-433f-88cf-aab5b71b8596",
			"metadata": {},
			"outputs": [],
			"source": [
				"# <tab: Scikit-Learn>\n",
				"from pinnacle_sklearn import Estimator, SklearnTrainer\n",
				"from sklearn.svm import SVC\n",
				"\n",
				"scikit_model = Estimator(\n",
				"    identifier=\"my-model-scikit\",\n",
				"    object=SVC(),\n",
				"    trainer=SklearnTrainer(\n",
				"        \"my-trainer\",\n",
				"        key=(input_key, \"label\"),\n",
				"        select=training_select,\n",
				"    ),\n",
				")"
			]
		},
		{
			"cell_type": "code",
			"execution_count": null,
			"id": "5256e0fb-db16-411e-a1c1-8d44feb26c29",
			"metadata": {},
			"outputs": [],
			"source": [
				"# <tab: Torch>\n",
				"import torch\n",
				"from torch import nn\n",
				"from pinnacle_torch.model import TorchModel\n",
				"from pinnacle_torch.training import TorchTrainer\n",
				"from torch.nn.functional import cross_entropy\n",
				"\n",
				"\n",
				"class SimpleModel(nn.Module):\n",
				"    def __init__(self, input_size=16, hidden_size=32, num_classes=3):\n",
				"        super(SimpleModel, self).__init__()\n",
				"        self.hidden_size = hidden_size\n",
				"        self.fc1 = None #nn.Linear(in_features=None, out_features=hidden_size)\n",
				"        self.relu = nn.ReLU()\n",
				"        self.fc2 = nn.Linear(hidden_size, num_classes)\n",
				"\n",
				"    def forward(self, x):\n",
				"        input_size = x.size(1)\n",
				"        if self.fc1 is None:\n",
				"            self.fc1 = nn.Linear(input_size, self.hidden_size)\n",
				"            \n",
				"        out = self.fc1(x)\n",
				"        out = self.relu(out)\n",
				"        out = self.fc2(out)\n",
				"        return out\n",
				"\n",
				"preprocess = lambda x: torch.tensor(x)\n",
				"\n",
				"# Postprocess function for the model output    \n",
				"def postprocess(x):\n",
				"    return int(x.topk(1)[1].item())\n",
				"\n",
				"def data_transform(features, label):\n",
				"    return torch.tensor(features), label\n",
				"\n",
				"# Create a Logistic Regression model\n",
				"# feature_length is the input feature size\n",
				"model = SimpleModel( num_classes=num_classes)\n",
				"torch_model = TorchModel(\n",
				"    identifier='my-model-torch',\n",
				"    object=model,         \n",
				"    preprocess=preprocess,\n",
				"    postprocess=postprocess,\n",
				"    trainer=TorchTrainer(\n",
				"        key=(input_key, 'label'),\n",
				"        identifier='my_trainer',\n",
				"        objective=cross_entropy,\n",
				"        loader_kwargs={'batch_size': 10},\n",
				"        max_iterations=1000,\n",
				"        validation_interval=100,\n",
				"        select=select,\n",
				"        transform=data_transform,\n",
				"    ),\n",
				")"
			]
		},
		{
			"cell_type": "markdown",
			"id": "1af37887-59bc-4e13-b3b1-fee7d6108473",
			"metadata": {},
			"source": [
				"Define a validation for evaluating the effect after training."
			]
		},
		{
			"cell_type": "code",
			"execution_count": null,
			"id": "94fb7506-2abc-41fe-b259-8c4922d79516",
			"metadata": {},
			"outputs": [],
			"source": [
				"from pinnacle import Dataset, Metric, Validation\n",
				"\n",
				"\n",
				"def acc(x, y):\n",
				"    return sum([xx == yy for xx, yy in zip(x, y)]) / len(x)\n",
				"\n",
				"\n",
				"accuracy = Metric(identifier=\"acc\", object=acc)\n",
				"validation = Validation(\n",
				"    \"transfer_learning_performance\",\n",
				"    key=(input_key, \"label\"),\n",
				"    datasets=[\n",
				"        Dataset(identifier=\"my-valid\", select=training_select.add_fold('valid'))\n",
				"    ],\n",
				"    metrics=[accuracy],\n",
				")\n",
				"scikit_model.validation = validation\n",
				"torch_model.validation = validation"
			]
		},
		{
			"cell_type": "code",
			"execution_count": null,
			"id": "9bb69ac4-ed34-4fce-80eb-fba6802058ea",
			"metadata": {},
			"outputs": [],
			"source": []
		},
		{
			"cell_type": "markdown",
			"id": "513478b1-2736-4fa5-bc2a-6fdb9c8e232d",
			"metadata": {},
			"source": [
				"If we execute the apply function, then the model will be added to the database, and because the model has a Trainer, it will perform training tasks."
			]
		},
		{
			"cell_type": "code",
			"execution_count": null,
			"id": "e8d92e3b-372d-4006-be0f-e4e61aec25f7",
			"metadata": {},
			"outputs": [],
			"source": []
		},
		{
			"cell_type": "code",
			"execution_count": null,
			"id": "052d13a9-b7f2-486c-a910-d55b8bb29a7b",
			"metadata": {},
			"outputs": [],
			"source": [
				"trainer = ModelRouter(\n",
				"    'trainer',\n",
				"    models={\n",
				"        'scikit': scikit_model,\n",
				"        'torch': torch_model,\n",
				"    },\n",
				"    model='<var:trainer>' if not APPLY else 'torch',\n",
				")"
			]
		},
		{
			"cell_type": "code",
			"execution_count": null,
			"id": "79a39054-aef2-480a-a57e-7180914e6f7f",
			"metadata": {},
			"outputs": [],
			"source": [
				"if APPLY:\n",
				"    db.apply(trainer)"
			]
		},
		{
			"cell_type": "code",
			"execution_count": null,
			"id": "ee4cd992-fd5e-4fa7-9464-ab36cea57c11",
			"metadata": {},
			"outputs": [],
			"source": [
				"trainer.encode()"
			]
		},
		{
			"cell_type": "markdown",
			"id": "52ab9838-9e5e-4402-a572-bd8339020963",
			"metadata": {},
			"source": [
				"Get the training metrics"
			]
		},
		{
			"cell_type": "code",
			"execution_count": null,
			"id": "58e35893-a040-4c42-a7aa-cea0ed54f55d",
			"metadata": {},
			"outputs": [],
			"source": [
				"db.show('model')"
			]
		},
		{
			"cell_type": "code",
			"execution_count": null,
			"id": "b7478a2a-3071-4d71-9ab8-95d7d7dd3d32",
			"metadata": {},
			"outputs": [],
			"source": [
				"model = db.load('model', 'my-model-scikit')\n",
				"model.metric_values"
			]
		},
		{
			"cell_type": "code",
			"execution_count": null,
			"id": "6d3ac98a-88d9-4812-a715-cfc62c5efe20",
			"metadata": {},
			"outputs": [],
			"source": [
				"from pinnacle import Application\n",
				"\n",
				"application = Application(identifier='transfer-learning', components=[feature_extractor_listener, trainer])"
			]
		},
		{
			"cell_type": "code",
			"execution_count": null,
			"id": "00e5cd40-d5f5-4408-8f3b-857f1d4dd81e",
			"metadata": {},
			"outputs": [],
			"source": [
				"from pinnacle import Template\n",
				"\n",
				"t = Template('transfer-learner',   data=data, template=application, template_variables=['trainer', 'embedding_model', 'table_name'])"
			]
		},
		{
			"cell_type": "code",
			"execution_count": null,
			"id": "d9c5253f-7b62-4a49-bbe4-b102375e6039",
			"metadata": {},
			"outputs": [],
			"source": [
				"t.export('.')"
			]
		}
	],
	"metadata": {
		"kernelspec": {
			"display_name": "Python 3 (ipykernel)",
			"language": "python",
			"name": "python3"
		},
		"language_info": {
			"codemirror_mode": {
				"name": "ipython",
				"version": 3
			},
			"file_extension": ".py",
			"mimetype": "text/x-python",
			"name": "python",
			"nbconvert_exporter": "python",
			"pygments_lexer": "ipython3",
			"version": "3.11.7"
		}
	},
	"nbformat": 4,
	"nbformat_minor": 5
}
