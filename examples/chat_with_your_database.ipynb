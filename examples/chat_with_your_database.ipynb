{
 "cells": [
  {
   "cell_type": "markdown",
   "metadata": {},
   "source": [
    "## Chat with your Database\n",
    "\n",
    "### Chatting with Snowflake 10M Dataset instantly with SuperDuperDB & OpenAI\n",
    "\n",
    "Imagine chatting with your database using just a few lines of code. Sounds unbelievable, right? Well, believe it! We'll show you how you can effortlessly chat with a huge database containing 10 million business records—all with just a few lines of SuperDuperDB code.\n",
    "\n",
    "Let's do this with SuperDuperDB's user-friendly approach. You can control the low level code while enjoying writing the high level code! Whether you're using `Snowflake` or `any other SQL dataset`, we've got your back.\n",
    "\n",
    "Here's the simplicity of it:\n",
    "1. Connect using your URI (works with any SQL Database).\n",
    "2. Specify your Database/Table Name.\n",
    "3. Craft a query in plain English.\n",
    "\n",
    "You'll not only get results but also clear explanations!\n",
    "\n",
    "Let SuperDuperDB and OpenAI do the heavy lifting—all within a single prompt. Stay tuned for more exciting features, including prompt chaining!\n",
    "\n",
    "Bring the power of AI into your database effortlessly! \n",
    "\n",
    "Let's bring AI into your database! 🚀"
   ]
  },
  {
   "cell_type": "code",
   "execution_count": 1,
   "metadata": {},
   "outputs": [],
   "source": [
    "# Only one dependency\n",
    "# %pip install pinnacledb"
   ]
  },
  {
   "cell_type": "markdown",
   "metadata": {},
   "source": [
    "### Import SuperDuperDB and connect your database"
   ]
  },
  {
   "cell_type": "code",
   "execution_count": null,
   "metadata": {},
   "outputs": [],
   "source": [
    "from pinnacledb import pinnacle\n",
    "from pinnacledb.backends.ibis.query import RawSQL\n",
    "\n",
    "user = \"pinnacleuser\"\n",
    "password = \"pinnaclepassword\"\n",
    "account = \"XXXX-XXXX\"  # ORGANIZATIONID-USERID\n",
    "database = \"FREE_COMPANY_DATASET/PUBLIC\"  # DATABASE/SCHEMA \n",
    "\n",
    "# Here we are using Snowflake FREE_COMPANY_DATASET with 10 million company data\n",
    "snowflake_uri = f\"snowflake://{user}:{password}@{account}/{database}\"\n",
    "\n",
    "# Let's pinnacle your database\n",
    "db = pinnacle(\n",
    "    snowflake_uri,\n",
    "    metadata_store='mongodb://localhost:27017/documents', # We need a persistent metadata store to store everything. It could be anything including your own database. Here we are using a MongoDB database.\n",
    ")"
   ]
  },
  {
   "cell_type": "markdown",
   "metadata": {},
   "source": [
    "### Add OpenAI API Key"
   ]
  },
  {
   "cell_type": "code",
   "execution_count": 2,
   "metadata": {},
   "outputs": [],
   "source": [
    "import os\n",
    "\n",
    "from pinnacledb.ext.openai import OpenAIChatCompletion\n",
    "from IPython.display import Markdown\n",
    "\n",
    "# Add your OPEN_AI_API_KEY or keep it in your os.environ, we will pick it up from environment\n",
    "os.environ['OPENAI_API_KEY'] = 'sk-XXX_SAM_ALTMAN_IS_NOT_FIRED_XXX'"
   ]
  },
  {
   "cell_type": "markdown",
   "metadata": {},
   "source": [
    "### Create a helper function to chat your database. Here you can tweak the prompts or you can leave here as it is!"
   ]
  },
  {
   "cell_type": "code",
   "execution_count": 37,
   "metadata": {},
   "outputs": [],
   "source": [
    "def chat_with_your_database(table_name, query, limit = 5):\n",
    "    # Define the search parameters\n",
    "    search_term = f'Write me a SQL query for the table named {table_name}. The query is: {query}'\n",
    "\n",
    "    # Define the prompt for the OpenAIChatCompletion model\n",
    "    prompt = (\n",
    "        'Act as a database administrator, and expert in SQL. You will be helping me write complex SQL queries. I will explain you my needs, you will generate SQL queries against my database. The database is a Snowflake database, please take it into consideration when generating SQL.'\n",
    "        f' I will provide you with a description of the structure of my tables. You must remember them and use them for generating SQL queries.\\n'\n",
    "        'Here are the tables in CSV format: {context}\\n\\n'\n",
    "        f'Generate only the SQL query. Always write \"regex_pattern\" in every \"WHERE\" query. Integrate a \"LIMIT {limit}\" clause into the query. Exclude any text other than the SQL query itself. Do not include markdown \"```\" or \"```sql\" at the start or end.'\n",
    "        'Here\\'s the CSV file:\\n'\n",
    "    )\n",
    "\n",
    "    # Add the OpenAIChatCompletion instance to the database\n",
    "    db.add(OpenAIChatCompletion(model='gpt-3.5-turbo', prompt=prompt))\n",
    "    \n",
    "    # Use the OpenAIChatCompletion model to predict the next query based on the provided context\n",
    "    output, context = db.predict(\n",
    "        model_name='gpt-3.5-turbo',\n",
    "        input=search_term,\n",
    "        context_select=db.execute(RawSQL(f'DESCRIBE {table_name}')).as_pandas().to_csv()\n",
    "        # context_select=db.execute(RawSQL(f'SELECT * FROM {table_name} LIMIT 10')).as_pandas().to_csv() # Use in case of some other SQL databases like Postgres where `DESCRIBE` is not supported.\n",
    "    )\n",
    "    \n",
    "    try:\n",
    "        # Attempt to execute the predicted SQL query and retrieve the result as a pandas DataFrame\n",
    "        # print(output.content)\n",
    "        query_result = db.execute(RawSQL(output.content)).as_pandas()\n",
    "        \n",
    "        if query_result.empty:\n",
    "            query_result = \"No result found. Please edit your query based on the database. Be specific. Like keep everything in lowercase. Use regex etc. Run the same thing multiple times. Always.\"\n",
    "    except:\n",
    "        # If an exception occurs, provide a message to guide the user on adjusting their query\n",
    "        query_result = \"Please edit your query based on the database so that we can find you a suitable result. Please check your table schema if you encounter issues. Run again, if necessary.\"\n",
    "\n",
    "    return query_result"
   ]
  },
  {
   "cell_type": "markdown",
   "metadata": {},
   "source": [
    "### Create a helper function explain the result"
   ]
  },
  {
   "cell_type": "code",
   "execution_count": 39,
   "metadata": {},
   "outputs": [],
   "source": [
    "def explain_the_result(query_result):\n",
    "    # Define the search parameters\n",
    "    try:\n",
    "        search_term = f'Find business insights from it {query_result.to_csv()}'\n",
    "    except:\n",
    "        return \"No result found. Run again. Please edit your query. Be specific. And always run again. LLM will catch the error and will show you perfect result in multiple attempts.\"\n",
    "\n",
    "    # Define the prompt for the OpenAIChatCompletion model\n",
    "    prompt = (\n",
    "        f'Assume the role of a database analyst. Your objective is to provide accurate business insights based on the provided CSV content. Avoid reproducing the same CSV file or rewriting the SQL query. Conclude your response with a summary.\\n'\n",
    "        'Context: {context}'\n",
    "        'Here\\'s the CSV file for you to analyze:\\n'\n",
    "    )\n",
    "    \n",
    "    # Add the OpenAIChatCompletion instance to the database\n",
    "    db.add(OpenAIChatCompletion(model='gpt-3.5-turbo', prompt=prompt))\n",
    "    \n",
    "    # Use the OpenAIChatCompletion model to predict insights based on the provided context\n",
    "    output, context = db.predict(\n",
    "        model_name='gpt-3.5-turbo',\n",
    "        input=search_term,\n",
    "    )\n",
    "    \n",
    "    try:\n",
    "        # Attempt to format the predicted output as Markdown\n",
    "        query_result = Markdown(output.content)\n",
    "    except:\n",
    "        # If an exception occurs, provide a message to guide the user on adjusting their input\n",
    "        query_result = \"Please edit your input based on the dataset so that we can find you a suitable output. Please check your data if you encounter issues.\"\n",
    "\n",
    "    return query_result"
   ]
  },
  {
   "cell_type": "markdown",
   "metadata": {},
   "source": [
    "### Here you just edit the `table_name` and `query` to see the final result"
   ]
  },
  {
   "cell_type": "code",
   "execution_count": 40,
   "metadata": {},
   "outputs": [
    {
     "data": {
      "text/html": [
       "<div>\n",
       "<style scoped>\n",
       "    .dataframe tbody tr th:only-of-type {\n",
       "        vertical-align: middle;\n",
       "    }\n",
       "\n",
       "    .dataframe tbody tr th {\n",
       "        vertical-align: top;\n",
       "    }\n",
       "\n",
       "    .dataframe thead th {\n",
       "        text-align: right;\n",
       "    }\n",
       "</style>\n",
       "<table border=\"1\" class=\"dataframe\">\n",
       "  <thead>\n",
       "    <tr style=\"text-align: right;\">\n",
       "      <th></th>\n",
       "      <th>COUNTRY</th>\n",
       "      <th>FOUNDED</th>\n",
       "      <th>ID</th>\n",
       "      <th>INDUSTRY</th>\n",
       "      <th>LINKEDIN_URL</th>\n",
       "      <th>LOCALITY</th>\n",
       "      <th>NAME</th>\n",
       "      <th>REGION</th>\n",
       "      <th>SIZE</th>\n",
       "      <th>WEBSITE</th>\n",
       "    </tr>\n",
       "  </thead>\n",
       "  <tbody>\n",
       "    <tr>\n",
       "      <th>0</th>\n",
       "      <td>germany</td>\n",
       "      <td>None</td>\n",
       "      <td>theaterscoutings-berlin</td>\n",
       "      <td>automotive</td>\n",
       "      <td>linkedin.com/company/theaterscoutings-berlin</td>\n",
       "      <td>None</td>\n",
       "      <td>theaterscoutings berlin</td>\n",
       "      <td>berlin</td>\n",
       "      <td>1-10</td>\n",
       "      <td>theaterscoutings-berlin.de</td>\n",
       "    </tr>\n",
       "    <tr>\n",
       "      <th>1</th>\n",
       "      <td>germany</td>\n",
       "      <td>None</td>\n",
       "      <td>v8-garage</td>\n",
       "      <td>automotive</td>\n",
       "      <td>linkedin.com/company/v8-garage</td>\n",
       "      <td>None</td>\n",
       "      <td>v8 garage</td>\n",
       "      <td>berlin</td>\n",
       "      <td>1-10</td>\n",
       "      <td>v8-garage.de</td>\n",
       "    </tr>\n",
       "    <tr>\n",
       "      <th>2</th>\n",
       "      <td>germany</td>\n",
       "      <td>None</td>\n",
       "      <td>dipsales-gmbh</td>\n",
       "      <td>automotive</td>\n",
       "      <td>linkedin.com/company/dipsales-gmbh</td>\n",
       "      <td>berlin</td>\n",
       "      <td>dipsales gmbh</td>\n",
       "      <td>berlin</td>\n",
       "      <td>1-10</td>\n",
       "      <td>dipsales.com</td>\n",
       "    </tr>\n",
       "    <tr>\n",
       "      <th>3</th>\n",
       "      <td>germany</td>\n",
       "      <td>None</td>\n",
       "      <td>autohaus-koschnick-gmbh</td>\n",
       "      <td>automotive</td>\n",
       "      <td>linkedin.com/company/autohaus-koschnick-gmbh</td>\n",
       "      <td>berlin</td>\n",
       "      <td>autohaus koschnick gmbh</td>\n",
       "      <td>berlin</td>\n",
       "      <td>1-10</td>\n",
       "      <td>autohaus-koschnick.de</td>\n",
       "    </tr>\n",
       "    <tr>\n",
       "      <th>4</th>\n",
       "      <td>germany</td>\n",
       "      <td>None</td>\n",
       "      <td>samoconsult-gmbh</td>\n",
       "      <td>automotive</td>\n",
       "      <td>linkedin.com/company/samoconsult-gmbh</td>\n",
       "      <td>None</td>\n",
       "      <td>samoconsult gmbh</td>\n",
       "      <td>berlin</td>\n",
       "      <td>1-10</td>\n",
       "      <td>samoconsult.de</td>\n",
       "    </tr>\n",
       "  </tbody>\n",
       "</table>\n",
       "</div>"
      ],
      "text/plain": [
       "   COUNTRY FOUNDED                       ID    INDUSTRY  \\\n",
       "0  germany    None  theaterscoutings-berlin  automotive   \n",
       "1  germany    None                v8-garage  automotive   \n",
       "2  germany    None            dipsales-gmbh  automotive   \n",
       "3  germany    None  autohaus-koschnick-gmbh  automotive   \n",
       "4  germany    None         samoconsult-gmbh  automotive   \n",
       "\n",
       "                                   LINKEDIN_URL LOCALITY  \\\n",
       "0  linkedin.com/company/theaterscoutings-berlin     None   \n",
       "1                linkedin.com/company/v8-garage     None   \n",
       "2            linkedin.com/company/dipsales-gmbh   berlin   \n",
       "3  linkedin.com/company/autohaus-koschnick-gmbh   berlin   \n",
       "4         linkedin.com/company/samoconsult-gmbh     None   \n",
       "\n",
       "                      NAME  REGION  SIZE                     WEBSITE  \n",
       "0  theaterscoutings berlin  berlin  1-10  theaterscoutings-berlin.de  \n",
       "1                v8 garage  berlin  1-10                v8-garage.de  \n",
       "2            dipsales gmbh  berlin  1-10                dipsales.com  \n",
       "3  autohaus koschnick gmbh  berlin  1-10       autohaus-koschnick.de  \n",
       "4         samoconsult gmbh  berlin  1-10              samoconsult.de  "
      ]
     },
     "execution_count": 40,
     "metadata": {},
     "output_type": "execute_result"
    }
   ],
   "source": [
    "table_name = \"FREECOMPANYDATASET\"\n",
    "query = \"Find me some company in germany in berlin in dortmund in automotive industry. Keep all in lower case\"\n",
    "\n",
    "result = chat_with_your_database(table_name, query)\n",
    "\n",
    "result"
   ]
  },
  {
   "cell_type": "code",
   "execution_count": 42,
   "metadata": {},
   "outputs": [
    {
     "data": {
      "text/markdown": [
       "1. The automotive industry is well-represented in Berlin, Germany, with multiple companies listed in this dataset.\n",
       "\n",
       "2. The companies listed are mostly small, with a size range of 1-10 employees.\n",
       "\n",
       "3. The companies' LinkedIn profiles provide an opportunity for networking and connecting with industry professionals.\n",
       "\n",
       "4. Theaterscoutings Berlin, v8 garage, dipsales gmbh, autohaus koschnick gmbh, and samoconsult gmbh are some of the automotive companies operating in Berlin.\n",
       "\n",
       "5. These companies primarily focus on automotive-related services, such as theater scouting, garage services, sales, and consultation.\n",
       "\n",
       "6. The websites of these companies can be visited for further information on their offerings and services.\n",
       "\n",
       "7. The locality of these companies is primarily Berlin, indicating a concentration of automotive businesses in this area.\n",
       "\n",
       "8. Further analysis could be done by examining the specific offerings and competitive landscape of these companies within the automotive industry in Berlin."
      ],
      "text/plain": [
       "<IPython.core.display.Markdown object>"
      ]
     },
     "execution_count": 42,
     "metadata": {},
     "output_type": "execute_result"
    }
   ],
   "source": [
    "# Call the explain_the_result function to analyze and explain the business insights\n",
    "# Run multiple times if necessary\n",
    "explain_the_result(query_result=result)"
   ]
  },
  {
   "cell_type": "markdown",
   "metadata": {},
   "source": [
    "### Now you can do model-chaining as well, if you only care about the explanations. Here we found from the dataset about the company "
   ]
  },
  {
   "cell_type": "code",
   "execution_count": 46,
   "metadata": {},
   "outputs": [
    {
     "data": {
      "text/markdown": [
       "Based on the given information, here are some possible business insights:\n",
       "\n",
       "1. Company Name: BMW\n",
       "   - Country: Germany\n",
       "   - Founded: 1916\n",
       "   - Industry: Automotive\n",
       "   - Region: Bavaria\n",
       "   - LinkedIn URL: linkedin.com/company/abrockman\n",
       "   - Locality: Munich\n",
       "   - Size: 10,001+\n",
       "   - Website: N/A (Not provided in the given data)\n",
       "\n",
       "2. BMW is one of the oldest automotive companies, founded in 1916 in Germany. This long history indicates its established presence and experience in the industry.\n",
       "\n",
       "3. The company has a significant presence in Bavaria, specifically in Munich. This location may serve as its headquarters or a key operational hub.\n",
       "\n",
       "4. The size of the company is mentioned as 10,001+, which implies that the company has a large workforce or a substantial number of employees.\n",
       "\n",
       "5. The LinkedIn URL provided links to the company's profile on the platform. This indicates that BMW has an active presence on LinkedIn, where it may engage with professionals and potentially recruit talent.\n",
       "\n",
       "6. No website is listed for BMW in the given data, which could mean that the company's website was not included or omitted in the dataset.\n",
       "\n",
       "Please note that these insights are based solely on the information provided and further research is recommended for a comprehensive understanding of the business and its insights."
      ],
      "text/plain": [
       "<IPython.core.display.Markdown object>"
      ]
     },
     "execution_count": 46,
     "metadata": {},
     "output_type": "execute_result"
    }
   ],
   "source": [
    "table_name = \"FREECOMPANYDATASET\"\n",
    "query = \"Find me information about BMW company in Germany. Keep all in lower case.\"\n",
    "\n",
    "# The result is generated from your dataset. Tweak limit params if you want specific results.\n",
    "explain_the_result(chat_with_your_database(table_name, query, limit=1))"
   ]
  },
  {
   "cell_type": "markdown",
   "metadata": {},
   "source": [
    "## Final Integrated View\n",
    "\n",
    "Let's have one simple interface. Where you just write your query and see the result."
   ]
  },
  {
   "cell_type": "code",
   "execution_count": 64,
   "metadata": {},
   "outputs": [
    {
     "data": {
      "text/html": [
       "<div>\n",
       "<style scoped>\n",
       "    .dataframe tbody tr th:only-of-type {\n",
       "        vertical-align: middle;\n",
       "    }\n",
       "\n",
       "    .dataframe tbody tr th {\n",
       "        vertical-align: top;\n",
       "    }\n",
       "\n",
       "    .dataframe thead th {\n",
       "        text-align: right;\n",
       "    }\n",
       "</style>\n",
       "<table border=\"1\" class=\"dataframe\">\n",
       "  <thead>\n",
       "    <tr style=\"text-align: right;\">\n",
       "      <th></th>\n",
       "      <th>COUNTRY</th>\n",
       "      <th>FOUNDED</th>\n",
       "      <th>ID</th>\n",
       "      <th>INDUSTRY</th>\n",
       "      <th>LINKEDIN_URL</th>\n",
       "      <th>LOCALITY</th>\n",
       "      <th>NAME</th>\n",
       "      <th>REGION</th>\n",
       "      <th>SIZE</th>\n",
       "      <th>WEBSITE</th>\n",
       "    </tr>\n",
       "  </thead>\n",
       "  <tbody>\n",
       "    <tr>\n",
       "      <th>0</th>\n",
       "      <td>germany</td>\n",
       "      <td>None</td>\n",
       "      <td>volkswagen</td>\n",
       "      <td>None</td>\n",
       "      <td>linkedin.com/company/volkswagen</td>\n",
       "      <td>wolfsburg</td>\n",
       "      <td>volkswagen</td>\n",
       "      <td>niedersachsen</td>\n",
       "      <td>10001+</td>\n",
       "      <td>volkswagen-newsroom.com</td>\n",
       "    </tr>\n",
       "  </tbody>\n",
       "</table>\n",
       "</div>"
      ],
      "text/plain": [
       "   COUNTRY FOUNDED          ID INDUSTRY                     LINKEDIN_URL  \\\n",
       "0  germany    None  volkswagen     None  linkedin.com/company/volkswagen   \n",
       "\n",
       "    LOCALITY        NAME         REGION    SIZE                  WEBSITE  \n",
       "0  wolfsburg  volkswagen  niedersachsen  10001+  volkswagen-newsroom.com  "
      ]
     },
     "metadata": {},
     "output_type": "display_data"
    },
    {
     "data": {
      "text/markdown": [
       "- The business is Volkswagen, a German automotive company founded in Wolfsburg, Germany.\n",
       "- The company has a LinkedIn profile at linkedin.com/company/volkswagen.\n",
       "- It is located in the region of Niedersachsen in Germany.\n",
       "- Volkswagen is classified as a large company, with a size of 10001+ employees.\n",
       "- The company's official website is volkswagen-newsroom.com."
      ],
      "text/plain": [
       "<IPython.core.display.Markdown object>"
      ]
     },
     "metadata": {},
     "output_type": "display_data"
    }
   ],
   "source": [
    "table_name = \"FREECOMPANYDATASET\"\n",
    "query = \"Find me information about Volkswagen company in Germany. Keep all in lower case.\"\n",
    "\n",
    "def integrated_result(table_name, query):\n",
    "  queried_result = chat_with_your_database(table_name, query)\n",
    "  explained_result = explain_the_result(queried_result)\n",
    "\n",
    "  display(queried_result, explained_result)\n",
    "\n",
    "# Showing the result here\n",
    "integrated_result(table_name, query)"
   ]
  },
  {
   "cell_type": "markdown",
   "metadata": {},
   "source": [
    "## Unlocking Limitless Potential! \n",
    "\n",
    "This is just the beginning – feel free to customize prompts for your dataset. One secret tips: Mentioning your database schema in the `chat_your_database` function enhances accuracy by a few mile. Another one is giving more data to it. Anyway, it's yours. Play with it. The better you prompt, the better result you get. This prompt of us is just a simple one works for everything! Your journey with SuperDuperDB is in your hands now. Let the exploration begin!"
   ]
  }
 ],
 "metadata": {
  "kernelspec": {
   "display_name": ".venv",
   "language": "python",
   "name": "python3"
  },
  "language_info": {
   "codemirror_mode": {
    "name": "ipython",
    "version": 3
   },
   "file_extension": ".py",
   "mimetype": "text/x-python",
   "name": "python",
   "nbconvert_exporter": "python",
   "pygments_lexer": "ipython3",
   "version": "3.10.2"
  }
 },
 "nbformat": 4,
 "nbformat_minor": 2
}
