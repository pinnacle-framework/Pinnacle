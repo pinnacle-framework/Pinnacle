{
 "cells": [
  {
   "cell_type": "raw",
   "source": [
    "# Chat with your Database "
   ],
   "metadata": {
    "collapsed": false
   }
  },
  {
   "cell_type": "raw",
   "source": [
    "## Introduction\n",
    "\n",
    "Imagine chatting with your database using just a few lines of code. Sounds unbelievable, right? Well, believe it! We'll show you how you can effortlessly chat with a huge database containing 10 million business records—all with just a few lines of SuperDuperDB code. \n",
    "\n",
    "Here is the behemoth 10M dataset: [FREE COMPANY DATASET](https://app.snowflake.com/marketplace/listing/GZSTZRRVYL2/people-data-labs-free-company-dataset)\n",
    "\n",
    "Here is the [Google Colab Notebook](https://colab.research.google.com/drive/1YXzAuuQdqkWEQKchglxUuAMzNTKLu5rC#scrollTo=0Zf4Unc_fNBp) for you to quickstart!\n",
    "\n",
    "Chatting with this type of massive dataset using the standard RAG pipeline is next to impossible due to the cost and scale. However, with SuperDuperDB, you can achieve the same functionality with just a few lines of code.\n",
    "\n",
    "You can control the low level code while enjoying writing the high level code! So that, you can increase the capacity of it! Whether you're using `Snowflake` or `any other SQL dataset`, we've got your back.\n",
    "\n",
    "Here's the simplicity of it:\n",
    "1. Connect using your URI (works with any SQL Database).\n",
    "2. Specify your Database/Table Name.\n",
    "3. Craft a query in plain English.\n",
    "\n",
    "You'll not only get results but also clear explanations!\n",
    "\n",
    "Let SuperDuperDB and OpenAI do the heavy lifting—all within a single prompt. Stay tuned for more exciting features, including prompt chaining!\n",
    "\n",
    "Bring the power of AI into your database effortlessly! \n",
    "\n",
    "Let's bring AI into your database! 🚀"
   ],
   "metadata": {
    "collapsed": false
   },
   "outputs": []
  },
  {
   "cell_type": "markdown",
   "source": [
    "## Prerequisites\n",
    "\n",
    "Before diving into the implementation, ensure that you have the necessary libraries installed by running the following commands:"
   ],
   "metadata": {
    "collapsed": false
   }
  },
  {
   "cell_type": "markdown",
   "source": [
    "!pip install pinnacledb\n",
    "!pip install openai numpy==1.24.4\n",
    "!pip install git+https://github.com/SuperDuperDB/pinnacledb.git@66b457eb99f5ad9b88d10bb46f8c2d62ddbc1a1d"
   ],
   "metadata": {
    "collapsed": false
   }
  },
  {
   "cell_type": "markdown",
   "metadata": {},
   "source": [
    "### Import SuperDuperDB and connect your database\n",
    "\n",
    "Here we have connected with a mega database from `Snowflake` but it works with all other `SQL` database. "
   ]
  },
  {
   "cell_type": "code",
   "execution_count": null,
   "metadata": {},
   "outputs": [],
   "source": [
    "from pinnacledb import pinnacle\n",
    "from pinnacledb.backends.ibis.query import RawSQL\n",
    "\n",
    "user = \"pinnacleuser\"\n",
    "password = \"pinnaclepassword\"\n",
    "account = \"XXXX-XXXX\"  # ORGANIZATIONID-USERID\n",
    "database = \"FREE_COMPANY_DATASET/PUBLIC\"  # DATABASE/SCHEMA \n",
    "\n",
    "# Here we are using Snowflake FREE_COMPANY_DATASET with 10 million company data\n",
    "snowflake_uri = f\"snowflake://{user}:{password}@{account}/{database}\"\n",
    "\n",
    "# Let's pinnacle your database\n",
    "db = pinnacle(\n",
    "    snowflake_uri,\n",
    "    metadata_store='sqlite:///your_database_name.db', # We need a persistent metadata store to store important infos like job. It could be anything including your own database. Here we are using a SQLite database. You can use your same database as well. In that case you don't have to add metadata_store, we will use the same database as metadata store\n",
    ")"
   ]
  },
  {
   "cell_type": "markdown",
   "metadata": {},
   "source": [
    "### Add OpenAI API Key\n",
    "\n",
    "If you don't have any, call Sam Altman!"
   ]
  },
  {
   "cell_type": "code",
   "execution_count": null,
   "metadata": {},
   "outputs": [],
   "source": [
    "import os\n",
    "\n",
    "from pinnacledb.ext.openai import OpenAIChatCompletion\n",
    "from IPython.display import Markdown\n",
    "\n",
    "# Add your OPEN_AI_API_KEY or keep it in your os.environ, we will pick it up from environment\n",
    "os.environ['OPENAI_API_KEY'] = 'sk-XXX_SAM_ALTMAN_IS_NOT_FIRED_XXX'"
   ]
  },
  {
   "cell_type": "markdown",
   "metadata": {},
   "source": [
    "### Create a helper function to chat your database. \n",
    "\n",
    "Here you can tweak the prompts or you can leave here as it is!"
   ]
  },
  {
   "cell_type": "code",
   "execution_count": null,
   "metadata": {},
   "outputs": [],
   "source": [
    "def chat_with_your_database(table_name, query, limit = 5):\n",
    "    # Define the search parameters\n",
    "    search_term = f'Write me a SQL query for the table named {table_name}. The query is: {query}'\n",
    "\n",
    "    # Define the prompt for the OpenAIChatCompletion model\n",
    "    prompt = (\n",
    "        'Act as a database administrator, and expert in SQL. You will be helping me write complex SQL queries. I will explain you my needs, you will generate SQL queries against my database. The database is a Snowflake database, please take it into consideration when generating SQL.'\n",
    "        f' I will provide you with a description of the structure of my tables. You must remember them and use them for generating SQL queries.\\n'\n",
    "        'Here are the tables in CSV format: {context}\\n\\n'\n",
    "        f'Generate only the SQL query. Always write \"regex_pattern\" in every \"WHERE\" query. Integrate a \"LIMIT {limit}\" clause into the query. Exclude any text other than the SQL query itself. Do not include markdown \"```\" or \"```sql\" at the start or end.'\n",
    "        'Here\\'s the CSV file:\\n'\n",
    "    )\n",
    "\n",
    "    # Add the OpenAIChatCompletion instance to the database\n",
    "    db.add(OpenAIChatCompletion(model='gpt-3.5-turbo', prompt=prompt))\n",
    "    \n",
    "    # Use the OpenAIChatCompletion model to predict the next query based on the provided context\n",
    "    output, context = db.predict(\n",
    "        model_name='gpt-3.5-turbo',\n",
    "        input=search_term,\n",
    "        context_select=db.execute(RawSQL(f'DESCRIBE {table_name}')).as_pandas().to_csv()\n",
    "        # context_select=db.execute(RawSQL(f'SELECT * FROM {table_name} LIMIT 10')).as_pandas().to_csv() # Use in case of some other SQL databases like Postgres where `DESCRIBE` is not supported.\n",
    "    )\n",
    "    \n",
    "    try:\n",
    "        # Attempt to execute the predicted SQL query and retrieve the result as a pandas DataFrame\n",
    "        # print(output.content)\n",
    "        query_result = db.execute(RawSQL(output.content)).as_pandas()\n",
    "        \n",
    "        if query_result.empty:\n",
    "            query_result = \"No result found. Please edit your query based on the database. Be specific. Like keep everything in lowercase. Use regex etc. Run the same thing multiple times. Always.\"\n",
    "    except:\n",
    "        # If an exception occurs, provide a message to guide the user on adjusting their query\n",
    "        query_result = \"Please edit your query based on the database so that we can find you a suitable result. Please check your table schema if you encounter issues. Run again, if necessary.\"\n",
    "\n",
    "    return query_result"
   ]
  },
  {
   "cell_type": "markdown",
   "metadata": {},
   "source": [
    "### Create another helper function to explain the result\n",
    "\n",
    "This function will be used to explain the result"
   ]
  },
  {
   "cell_type": "code",
   "execution_count": null,
   "metadata": {},
   "outputs": [],
   "source": [
    "def explain_the_result(query_result):\n",
    "    # Define the search parameters\n",
    "    try:\n",
    "        search_term = f'Find business insights from it {query_result.to_csv()}'\n",
    "    except:\n",
    "        return \"No result found. Run again. Please edit your query. Be specific. And always run again. LLM will catch the error and will show you perfect result in multiple attempts.\"\n",
    "\n",
    "    # Define the prompt for the OpenAIChatCompletion model\n",
    "    prompt = (\n",
    "        f'Assume the role of a database analyst. Your objective is to provide accurate business insights based on the provided CSV content. Avoid reproducing the same CSV file or rewriting the SQL query. Conclude your response with a summary.\\n'\n",
    "        'Context: {context}'\n",
    "        'Here\\'s the CSV file for you to analyze:\\n'\n",
    "    )\n",
    "    \n",
    "    # Add the OpenAIChatCompletion instance to the database\n",
    "    db.add(OpenAIChatCompletion(model='gpt-3.5-turbo', prompt=prompt))\n",
    "    \n",
    "    # Use the OpenAIChatCompletion model to predict insights based on the provided context\n",
    "    output, context = db.predict(\n",
    "        model_name='gpt-3.5-turbo',\n",
    "        input=search_term,\n",
    "    )\n",
    "    \n",
    "    try:\n",
    "        # Attempt to format the predicted output as Markdown\n",
    "        query_result = Markdown(output.content)\n",
    "    except:\n",
    "        # If an exception occurs, provide a message to guide the user on adjusting their input\n",
    "        query_result = \"Please edit your input based on the dataset so that we can find you a suitable output. Please check your data if you encounter issues.\"\n",
    "\n",
    "    return query_result"
   ]
  },
  {
   "cell_type": "markdown",
   "metadata": {},
   "source": [
    "### Now let's start chatting with your database. \n",
    "\n",
    "Run this multiple times as it will keep its context. Here you just edit the `table_name` and `query` to see the final result."
   ]
  },
  {
   "cell_type": "code",
   "execution_count": null,
   "metadata": {},
   "outputs": [],
   "source": [
    "# If you see no result, Run this codeblock multiple times to make the gpt-3.5-turbo work better and change your query as well. Idea: start with a simple query. Then make it gradually complex.\n",
    "\n",
    "table_name = \"FREECOMPANYDATASET\"\n",
    "query = \"Find me some company in germany in berlin. Keep all in lower case.\"\n",
    "\n",
    "result = chat_with_your_database(table_name, query)\n",
    "\n",
    "result"
   ]
  },
  {
   "cell_type": "markdown",
   "metadata": {},
   "source": [
    "### Let's explain the table\n",
    "\n",
    "Table doen't make sense to you, let LLM explain the table above"
   ]
  },
  {
   "cell_type": "code",
   "execution_count": null,
   "metadata": {},
   "outputs": [],
   "source": [
    "# Call the explain_the_result function to analyze and explain the business insights\n",
    "## Run multiple times if no result shown\n",
    "explain_the_result(query_result=result)"
   ]
  },
  {
   "cell_type": "markdown",
   "metadata": {},
   "source": [
    "### Let's generate result on the fly by prompt chaining\n",
    "\n",
    "Now you can do model-chaining as well, if you only care about the explanations. Here we found from the dataset about the company "
   ]
  },
  {
   "cell_type": "code",
   "execution_count": null,
   "metadata": {},
   "outputs": [],
   "source": [
    "# Run multiple times if no result shown\n",
    "\n",
    "table_name = \"FREECOMPANYDATASET\"\n",
    "query = \"Find me information about BMW company in Germany. Keep all in lower case.\"\n",
    "\n",
    "# The result is generated from your dataset. Tweak limit params if you want specific results.\n",
    "explain_the_result(chat_with_your_database(table_name, query, limit=1))"
   ]
  },
  {
   "cell_type": "markdown",
   "metadata": {},
   "source": [
    "## Let's chat realtime. \n",
    "\n",
    "### Ask questions, get result.\n",
    "\n",
    "We just boiled the whole thing in one function.\n",
    "\n",
    "Rerun this for new questions. Don't worry, it is keeping the context!\n",
    "\n",
    "Let's have one simple interface. Where you just write your query and see the result. Simple."
   ]
  },
  {
   "cell_type": "code",
   "execution_count": null,
   "metadata": {},
   "outputs": [],
   "source": [
    "# Run multiple times if no result shown\n",
    "table_name = \"FREECOMPANYDATASET\"\n",
    "\n",
    "# Be innovative and specific here \n",
    "query = \"Find me information about Volkswagen company in Germany. Keep all in lower case.\"\n",
    "\n",
    "def integrated_result(table_name, query):\n",
    "  queried_result = chat_with_your_database(table_name, query)\n",
    "  explained_result = explain_the_result(queried_result)\n",
    "\n",
    "  display(queried_result, explained_result)\n",
    "\n",
    "# Showing the result here\n",
    "integrated_result(table_name, query)"
   ]
  },
  {
   "cell_type": "markdown",
   "metadata": {},
   "source": [
    "## Voila! You just had a conversation with your database. Let's take it from here.\n",
    "\n",
    "This is just the beginning – feel free to customize prompts for your dataset. One secret tips: Mentioning your database schema in the `chat_your_database` function enhances accuracy by a few mile. Another one is giving more data to it. Anyway, it's yours. Play with it. The better you prompt, the better result you get. This prompt of us is just a simple one works for everything! Your journey with SuperDuperDB is in your hands now. Let the exploration begin!"
   ]
  },
  {
   "cell_type": "markdown",
   "metadata": {},
   "source": [
    "#### Give us a star. We will release more update in this example like visualization, fine tuning, prompt chaining etc."
   ]
  }
 ],
 "metadata": {
  "kernelspec": {
   "display_name": ".venv",
   "language": "python",
   "name": "python3"
  },
  "language_info": {
   "codemirror_mode": {
    "name": "ipython",
    "version": 3
   },
   "file_extension": ".py",
   "mimetype": "text/x-python",
   "name": "python",
   "nbconvert_exporter": "python",
   "pygments_lexer": "ipython3",
   "version": "3.10.2"
  }
 },
 "nbformat": 4,
 "nbformat_minor": 2
}
