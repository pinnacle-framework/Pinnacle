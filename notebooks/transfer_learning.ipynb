{
 "cells": [
  {
   "cell_type": "markdown",
   "id": "c1c66caf",
   "metadata": {},
   "source": [
    "# Transfer learning using Sentence Transformers and Scikit-Learn"
   ]
  },
  {
   "cell_type": "markdown",
   "id": "6bc151f6",
   "metadata": {},
   "source": [
    "In this example, we'll be demonstrating how to simply implement transfer learning using SuperDuperDB.\n",
    "You'll find related examples on vector-search and simple training examples using scikit-learn in the \n",
    "the notebooks directory of the project. Transfer learning leverages similar components, and may be used synergistically with vector-search. Vectors are, after all, simultaneously featurizations of \n",
    "data and may be used in downstream learning tasks."
   ]
  },
  {
   "cell_type": "markdown",
   "id": "a73ff7b9",
   "metadata": {},
   "source": [
    "Let's first connect to MongoDB via SuperDuperDB, you read explanations of how to do this in \n",
    "the docs, and in the `notebooks/` directory."
   ]
  },
  {
   "cell_type": "code",
   "execution_count": 1,
   "id": "44f8ef76",
   "metadata": {},
   "outputs": [
    {
     "name": "stderr",
     "output_type": "stream",
     "text": [
      "INFO:numexpr.utils:NumExpr defaulting to 8 threads.\n"
     ]
    }
   ],
   "source": [
    "from pinnacledb import pinnacle\n",
    "from pinnacledb.datalayer.mongodb.query import Collection\n",
    "import pymongo\n",
    "\n",
    "db = pinnacle(\n",
    "    pymongo.MongoClient().documents\n",
    ")\n",
    "\n",
    "collection = Collection('transfer')"
   ]
  },
  {
   "cell_type": "markdown",
   "id": "97fede97",
   "metadata": {},
   "source": [
    "We'll use textual data labelled with sentiment, to test the functionality. Transfer learning \n",
    "can be used on any data which can be processed with SuperDuperDB models."
   ]
  },
  {
   "cell_type": "code",
   "execution_count": null,
   "id": "8bb65106",
   "metadata": {},
   "outputs": [],
   "source": [
    "import numpy\n",
    "from datasets import load_dataset\n",
    "\n",
    "from pinnacledb.core.document import Document as D\n",
    "\n",
    "data = load_dataset(\"imdb\")\n",
    "\n",
    "train_data = [\n",
    "    D({'_fold': 'train', **data['train'][int(i)]}) \n",
    "    for i in numpy.random.permutation(len(data['train']))\n",
    "][:10000]\n",
    "\n",
    "valid_data = [\n",
    "    D({'_fold': 'valid', **data['test'][int(i)]}) \n",
    "    for i in numpy.random.permutation(len(data['test']))\n",
    "][:1000]\n",
    "\n",
    "db.execute(collection.insert_many(train_data))\n",
    "\n",
    "r = db.execute(collection.find_one())\n",
    "r"
   ]
  },
  {
   "cell_type": "code",
   "execution_count": 2,
   "id": "81854ab6",
   "metadata": {
    "scrolled": false
   },
   "outputs": [
    {
     "data": {
      "text/plain": [
       "Document({'_id': ObjectId('64c126b43a073f413a20791a'), '_fold': 'train', 'text': 'Where to even start? The horrendous acting? The nonsensical plot? The bargain basement effects? The completely loathsome characters? The choppy editing? The headache-inducing Casio keyboard score??? The embarrassingly racist remarks (\"Watch it, Charlie!\", \"Back off, Jackie Chan!!\"??? The constant misogyny??? I am a lifelong horror fan, and I have no problem at all with the current \"torture-thon\" trend of movies. However, this is a poorly-made piece of garbage. I think I suffered more pain watching this than the characters did dying in it! If you like girls being forced to eat stir-fried penis, really poor soft core porn and think lines like \"I\\'m gonna find that b**** and staple her c*** shut!!\" are clever, LIVE FEED is for you.<br /><br />As for me, I feel the need to go wash my eyes out with oven cleaner to prevent from ever seeing this movie again!', 'label': 0, '_outputs': {'text': {'all-MiniLM-L6-v2': Encodable(x=array([-2.07328554e-02, -9.17982012e-02, -3.80742084e-03,  1.86541993e-02,\n",
       "        1.67578198e-02,  6.67949319e-02, -5.89504801e-02,  1.71450656e-02,\n",
       "        3.86020504e-02, -8.84487107e-02, -3.72260809e-02, -1.70342401e-02,\n",
       "        5.44667765e-02, -4.38181264e-03, -9.96383578e-02, -1.51040237e-02,\n",
       "        9.13817212e-02, -5.65287955e-02, -1.97568871e-02,  5.45672737e-02,\n",
       "        1.39517402e-02, -2.38399561e-02,  3.25608887e-02, -2.24047564e-02,\n",
       "       -4.16006371e-02, -2.06874907e-02,  2.98668426e-02, -5.88861760e-03,\n",
       "       -1.36747494e-01,  2.24945452e-02, -3.27499360e-02,  3.49376760e-02,\n",
       "       -7.96262696e-02, -6.25734180e-02,  4.31549028e-02,  1.68868117e-02,\n",
       "        3.16744819e-02, -3.44892554e-02,  2.72231530e-02,  1.58456119e-03,\n",
       "        7.00657954e-03,  2.59370115e-02,  5.01935147e-02,  4.26269136e-02,\n",
       "        2.30677389e-02, -4.54944186e-02, -3.36482041e-02, -1.12008965e-02,\n",
       "       -2.20427457e-02, -1.30980015e-01, -4.56236042e-02,  3.63980420e-02,\n",
       "        5.88862114e-02,  4.81721163e-02, -5.45274615e-02, -5.60721047e-02,\n",
       "        9.58744437e-03,  2.23086053e-03,  2.42779963e-02, -1.69002786e-02,\n",
       "       -2.24549696e-03, -4.04373917e-04,  3.02033778e-02,  3.73994596e-02,\n",
       "        2.79490557e-03, -2.91140452e-02,  4.98731993e-02,  2.21099481e-02,\n",
       "        3.36964726e-02,  9.82423425e-02, -1.24594346e-01, -1.77965302e-03,\n",
       "       -4.85601602e-04,  7.14156451e-03, -3.20159607e-02,  2.86207609e-02,\n",
       "        2.71907505e-02, -1.09660655e-01,  2.27086041e-02, -4.82399762e-02,\n",
       "        8.01307708e-02, -4.96930033e-02,  4.40718792e-02,  6.01002499e-02,\n",
       "        2.93323230e-02, -9.15307924e-03,  1.42892413e-02, -1.79655105e-02,\n",
       "        4.79647517e-02,  1.18125223e-01, -5.09315841e-02, -2.71216910e-02,\n",
       "        3.80797237e-02,  7.69781787e-03,  9.22760740e-02,  8.91444739e-03,\n",
       "       -9.08412039e-02,  4.00028452e-02, -6.54351562e-02,  2.82887695e-03,\n",
       "       -6.81337416e-02, -5.14823124e-02, -3.08710840e-02, -5.52445240e-02,\n",
       "        3.05344835e-02, -1.98351275e-02,  7.91860446e-02,  1.84271522e-02,\n",
       "       -3.74582894e-02, -4.39897627e-02, -6.54998049e-02,  3.89400162e-02,\n",
       "        3.23224999e-03, -4.71248366e-02,  5.68596050e-02, -2.37308741e-02,\n",
       "        1.38773441e-01, -5.78529015e-03,  2.66658906e-02,  7.75236338e-02,\n",
       "        8.10353830e-02, -1.44731477e-02, -7.33379722e-02,  1.38265286e-02,\n",
       "        8.55481923e-02, -2.12595854e-02, -8.50504041e-02,  1.93853565e-33,\n",
       "       -2.12777555e-02,  7.95791969e-02, -4.29483205e-02, -1.99536141e-02,\n",
       "       -8.64892527e-02,  4.75895703e-02, -5.02215214e-02,  2.54629720e-02,\n",
       "        3.27930041e-02,  5.18045947e-02,  3.91374566e-02, -1.42164649e-02,\n",
       "       -9.69886482e-02,  3.10548246e-02, -3.91131006e-02, -4.58081178e-02,\n",
       "       -3.43594477e-02, -1.17772296e-02, -8.72440264e-03, -4.12924662e-02,\n",
       "       -7.95950145e-02,  6.54044598e-02, -5.26239090e-02,  2.62677250e-03,\n",
       "       -1.20916702e-01,  4.83756606e-03, -3.13374512e-02,  5.28320577e-03,\n",
       "       -1.26663158e-02,  1.62547603e-02, -4.01259102e-02, -2.36038342e-02,\n",
       "        7.49674393e-03, -3.93968038e-02,  3.68214678e-03, -5.50567359e-02,\n",
       "        2.13448959e-03,  5.28414585e-02,  6.21271655e-02,  1.82141289e-02,\n",
       "       -3.76051664e-02,  7.14729801e-02, -1.17843002e-01,  3.05144233e-03,\n",
       "       -3.42151672e-02,  1.15903713e-01,  1.05647437e-01, -4.65909205e-02,\n",
       "        4.85745072e-03,  6.10056296e-02, -2.97663622e-02,  1.85660999e-02,\n",
       "        8.71325657e-02,  6.16602935e-02, -4.02713977e-02,  5.45212477e-02,\n",
       "        3.42043450e-06, -1.46789595e-01,  7.02617168e-02, -7.31139407e-02,\n",
       "        4.27195169e-02,  4.91112359e-02,  1.39392400e-02, -2.44797617e-02,\n",
       "       -4.31777397e-03,  1.98491644e-02,  5.16847521e-02,  6.41355477e-03,\n",
       "       -5.80251850e-02, -5.45222014e-02, -9.95987505e-02, -1.35581633e-02,\n",
       "        6.00808999e-03,  1.19403536e-02, -2.17955559e-02,  1.09703522e-02,\n",
       "        4.32062615e-03, -2.84019560e-02,  7.08632730e-03, -3.77899818e-02,\n",
       "        4.11694087e-02, -2.96606068e-02,  7.98919871e-02, -6.31531179e-02,\n",
       "        3.06094717e-02, -3.04980949e-02, -3.34955193e-02, -3.78524177e-02,\n",
       "        1.05155498e-01,  1.34026743e-02,  5.19842431e-02, -9.34377015e-02,\n",
       "        6.04891777e-02, -3.51742096e-02,  2.53388472e-02, -1.81931940e-33,\n",
       "        2.35676654e-02, -1.34475023e-01, -1.02421142e-01, -4.57070097e-02,\n",
       "       -8.22049752e-02, -6.05076104e-02, -9.02880579e-02,  4.47744387e-04,\n",
       "        1.02057733e-01, -1.45794973e-02, -5.44127449e-02, -1.60336047e-02,\n",
       "       -3.22384797e-02,  6.37182686e-03,  6.39348254e-02, -4.32836004e-02,\n",
       "       -3.86098251e-02,  2.46039256e-02, -4.14872920e-04,  6.20209016e-02,\n",
       "        8.47999379e-02,  4.32635807e-02, -9.14121494e-02, -4.46934588e-02,\n",
       "        3.75258997e-02,  6.07965775e-02,  4.23685610e-02,  9.53901485e-02,\n",
       "        2.65959091e-02, -7.41423981e-04, -2.52526198e-02, -6.50428655e-03,\n",
       "        6.09309860e-02, -1.56006394e-02, -2.79372297e-02,  5.04145771e-02,\n",
       "        2.58600172e-02, -4.86189872e-03,  2.29139645e-02, -3.03345006e-02,\n",
       "        1.32048074e-02,  3.26044224e-02, -6.65299147e-02,  4.79361555e-03,\n",
       "        1.38628157e-02,  1.17236348e-02, -5.90772461e-03, -3.94677855e-02,\n",
       "       -2.83361655e-02,  1.97919291e-02, -1.18944310e-01,  1.01726428e-02,\n",
       "       -3.57959419e-02, -7.87863880e-02, -3.11334394e-02, -5.38038053e-02,\n",
       "       -4.38830331e-02, -2.64849961e-02, -5.98157989e-04,  5.83522283e-02,\n",
       "       -4.27922644e-02, -2.07843110e-02, -3.00474893e-02, -4.96862829e-02,\n",
       "        1.53936045e-02, -1.05748009e-02,  2.82610022e-02, -5.06275073e-02,\n",
       "       -1.64039377e-02, -1.08220533e-03, -7.73733109e-02, -1.91794317e-02,\n",
       "       -7.36648813e-02, -9.12936591e-03,  2.13990416e-02, -1.98818594e-02,\n",
       "       -6.89242268e-03,  3.16285118e-02,  2.27511190e-02,  1.17454976e-02,\n",
       "       -1.13243354e-03,  1.20914178e-02,  5.74253611e-02,  3.87866795e-02,\n",
       "        2.70693637e-02,  1.45002231e-01, -4.15412299e-02,  8.28136951e-02,\n",
       "       -5.03127873e-02,  6.03437312e-02, -1.64084043e-02, -5.83873019e-02,\n",
       "        1.75101236e-02,  2.87153050e-02, -1.03648119e-02, -5.52260104e-08,\n",
       "       -4.12342697e-02, -1.05352283e-01,  1.82738882e-02,  1.03470143e-02,\n",
       "        2.20885612e-02, -2.22201161e-02, -7.35225305e-02,  1.20404288e-01,\n",
       "        6.80513978e-02,  1.71763916e-02, -2.05042530e-02,  4.86006588e-02,\n",
       "        1.49428556e-02,  1.29717831e-02, -4.11548242e-02,  6.29464537e-02,\n",
       "        1.84274111e-02,  4.65762336e-03, -2.81466637e-02,  2.33317334e-02,\n",
       "        3.86290029e-02,  9.32998676e-03,  8.78260732e-02, -5.05799204e-02,\n",
       "        4.97450754e-02,  4.25427407e-02, -3.01770177e-02, -6.94976076e-02,\n",
       "       -8.09541252e-03,  1.15485610e-02, -8.78354721e-03, -8.19168577e-04,\n",
       "       -1.68648921e-02,  4.76438552e-02, -1.13511957e-01,  3.05478889e-02,\n",
       "        4.54503000e-02,  5.91892796e-03,  1.59773547e-02,  5.34420907e-02,\n",
       "        7.27191046e-02, -2.21609045e-02,  3.60732414e-02,  7.07523758e-03,\n",
       "        2.46374104e-02,  2.88099777e-02, -8.55595339e-03, -1.73165575e-02,\n",
       "        7.36650974e-02,  4.94874455e-03,  1.74996760e-02,  2.31635310e-02,\n",
       "       -9.78247914e-03,  7.16391429e-02,  1.13172986e-01, -5.79513460e-02,\n",
       "        2.38675699e-02,  1.15360066e-01, -3.10072787e-02,  7.72865340e-02,\n",
       "        1.14124797e-01, -1.02488522e-03, -3.06680705e-02, -4.37642308e-03],\n",
       "      dtype=float32), encoder=Encoder(identifier='numpy.float32[384]', decoder=<Artifact artifact=<pinnacledb.encoders.numpy.array.DecodeArray object at 0x17d236a10> serializer=dill>, encoder=<Artifact artifact=<pinnacledb.encoders.numpy.array.EncodeArray object at 0x10ec06010> serializer=dill>, shape=[384], version=0))}}})"
      ]
     },
     "execution_count": 2,
     "metadata": {},
     "output_type": "execute_result"
    }
   ],
   "source": [
    "r = db.execute(collection.find_one())\n",
    "r"
   ]
  },
  {
   "cell_type": "markdown",
   "id": "00a92214",
   "metadata": {},
   "source": [
    "Let's create a SuperDuperDB model based on a `sentence_transformers` model.\n",
    "You'll notice that we don't necessarily need a native SuperDuperDB integration to a model library \n",
    "in order to leverage its power with SuperDuperDB. For example, in this case, we just need \n",
    "to configure the `Model` wrapper to interoperate correctly with the `SentenceTransformer` class. After doing this, we can link the model to a collection, and daemonize the model using the `watch=True` keyword:"
   ]
  },
  {
   "cell_type": "code",
   "execution_count": null,
   "id": "fef91c74",
   "metadata": {},
   "outputs": [],
   "source": [
    "from pinnacledb.core.model import Model\n",
    "import sentence_transformers\n",
    "\n",
    "from pinnacledb.encoders.numpy.array import array\n",
    "\n",
    "m = Model(\n",
    "    identifier='all-MiniLM-L6-v2',\n",
    "    object=sentence_transformers.SentenceTransformer('all-MiniLM-L6-v2'),\n",
    "    encoder=array('float32', shape=(384,)),\n",
    "    predict_method='encode',\n",
    "    batch_predict=True,\n",
    ")\n",
    "\n",
    "m.predict(\n",
    "    X='text',\n",
    "    db=db,\n",
    "    select=collection.find(),\n",
    "    watch=True\n",
    ")"
   ]
  },
  {
   "cell_type": "markdown",
   "id": "68fefc17",
   "metadata": {},
   "source": [
    "Now that we've created and added the model which computes features for the `\"text\"`, we can train a \n",
    "downstream model using Scikit-Learn:"
   ]
  },
  {
   "cell_type": "code",
   "execution_count": 9,
   "id": "8c2faeeb",
   "metadata": {
    "scrolled": false
   },
   "outputs": [],
   "source": [
    "from sklearn.svm import SVC\n",
    "\n",
    "model = pinnacle(\n",
    "    SVC(gamma='scale', class_weight='balanced', C=100, verbose=True),\n",
    "    postprocess=lambda x: int(x)\n",
    ")\n",
    "\n",
    "model.fit(\n",
    "    X='text',\n",
    "    y='label',\n",
    "    db=db,\n",
    "    select=collection.find().featurize({'text': 'all-MiniLM-L6-v2'}),\n",
    ")"
   ]
  },
  {
   "cell_type": "markdown",
   "id": "d1e1f164",
   "metadata": {},
   "source": [
    "Now that the model has been trained, we can apply the model to the database, also daemonizing the model \n",
    "with `watch=True`."
   ]
  },
  {
   "cell_type": "code",
   "execution_count": 15,
   "id": "eee16436",
   "metadata": {},
   "outputs": [
    {
     "name": "stderr",
     "output_type": "stream",
     "text": [
      "WARNING:root:model/svc/0 already exists - doing nothing\n",
      "WARNING:root:model/svc/0 already exists - doing nothing\n"
     ]
    }
   ],
   "source": [
    "model.predict(\n",
    "    X='text',\n",
    "    db=db,\n",
    "    select=collection.find().featurize({'text': 'all-MiniLM-L6-v2'}),\n",
    "    watch=True,\n",
    ")"
   ]
  },
  {
   "cell_type": "markdown",
   "id": "67b156c1",
   "metadata": {},
   "source": [
    "To verify that this process has worked, we can sample a few records, to inspect the sanity of the predictions"
   ]
  },
  {
   "cell_type": "code",
   "execution_count": 38,
   "id": "76958a1e",
   "metadata": {},
   "outputs": [
    {
     "name": "stdout",
     "output_type": "stream",
     "text": [
      "-The movie tells the tale of a prince whose life is wonderful, but after an evil wizard tells him to\n",
      "1\n"
     ]
    }
   ],
   "source": [
    "r = next(db.execute(collection.aggregate([{'$sample': {'size': 1}}])))\n",
    "print(r['text'][:100])\n",
    "print(r['_outputs']['text']['svc'])"
   ]
  }
 ],
 "metadata": {
  "kernelspec": {
   "display_name": "Python 3 (ipykernel)",
   "language": "python",
   "name": "python3"
  },
  "language_info": {
   "codemirror_mode": {
    "name": "ipython",
    "version": 3
   },
   "file_extension": ".py",
   "mimetype": "text/x-python",
   "name": "python",
   "nbconvert_exporter": "python",
   "pygments_lexer": "ipython3",
   "version": "3.11.3"
  }
 },
 "nbformat": 4,
 "nbformat_minor": 5
}
