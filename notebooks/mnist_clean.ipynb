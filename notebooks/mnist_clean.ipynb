{
 "cells": [
  {
   "cell_type": "markdown",
   "id": "4b24af19",
   "metadata": {},
   "source": [
    "# Training and maintaining MNIST predictions"
   ]
  },
  {
   "cell_type": "markdown",
   "id": "8905783f",
   "metadata": {},
   "source": [
    "In this notebook we'll be implementing a classic machine learning classification task: MNIST hand written digit\n",
    "recognition, using a convolution neural network, but with a twist: we'll be implementing the task *in database* using SuperDuperDB."
   ]
  },
  {
   "cell_type": "markdown",
   "id": "e3812091",
   "metadata": {},
   "source": [
    "SuperDuperDB supports MongoDB as a databackend. Correspondingly, we'll import the python MongoDB client `pymongo`\n",
    "and \"wrap\" our database to convert it to a SuperDuper `Datalayer`:"
   ]
  },
  {
   "cell_type": "code",
   "execution_count": 1,
   "id": "a28adbce",
   "metadata": {},
   "outputs": [
    {
     "name": "stderr",
     "output_type": "stream",
     "text": [
      "INFO:numexpr.utils:NumExpr defaulting to 8 threads.\n"
     ]
    }
   ],
   "source": [
    "import pymongo\n",
    "import torch\n",
    "import torchvision\n",
    "\n",
    "from pinnacledb import pinnacle\n",
    "\n",
    "db = pymongo.MongoClient().documents\n",
    "\n",
    "db = pinnacle(db)"
   ]
  },
  {
   "cell_type": "code",
   "execution_count": 2,
   "id": "6e132ccf",
   "metadata": {},
   "outputs": [],
   "source": [
    "pymongo.MongoClient().drop_database('documents')\n",
    "pymongo.MongoClient().drop_database('_filesystem:documents')"
   ]
  },
  {
   "cell_type": "markdown",
   "id": "6233e891",
   "metadata": {},
   "source": [
    "Now that we've connected to SuperDuperDB, let's add some data. MNIST is a good show case for one of the \n",
    "key benefits of SuperDuperDB - adding \"difficult\" data types. This can be done using an `Encoder` \n",
    "which is a key wrapper in SuperDuperDB's arsenal. The `Encoder` works closely together with the `Document` \n",
    "wrapper. Together they allow Python dictionaries containing non-JSONable/ `bytes` objects, to be insert into\n",
    "SuperDuperDB:"
   ]
  },
  {
   "cell_type": "code",
   "execution_count": 3,
   "id": "bf0934cc",
   "metadata": {
    "scrolled": false
   },
   "outputs": [
    {
     "name": "stderr",
     "output_type": "stream",
     "text": [
      "INFO:root:found 0 uris\n"
     ]
    },
    {
     "data": {
      "text/plain": [
       "(<pymongo.results.InsertManyResult at 0x1805615d0>,\n",
       " TaskWorkflow(database=<pinnacledb.datalayer.base.datalayer.Datalayer object at 0x17c988e90>, G=<networkx.classes.digraph.DiGraph object at 0x173534f50>))"
      ]
     },
     "execution_count": 3,
     "metadata": {},
     "output_type": "execute_result"
    }
   ],
   "source": [
    "from pinnacledb.encoders.pillow.image import pil_image as i\n",
    "from pinnacledb.core.document import Document as D\n",
    "from pinnacledb.datalayer.mongodb.query import Collection\n",
    "\n",
    "import random\n",
    "\n",
    "collection = Collection(name='mnist')\n",
    "\n",
    "mnist_data = list(torchvision.datasets.MNIST(root='./data', download=True))\n",
    "data = [D({'img': i(x[0]), 'class': x[1]}) for x in mnist_data]\n",
    "random.shuffle(data)\n",
    "data = data[:11000]\n",
    "\n",
    "db.execute(\n",
    "    collection.insert_many(data[:-1000], encoders=[i])\n",
    ")"
   ]
  },
  {
   "cell_type": "markdown",
   "id": "c5341135",
   "metadata": {},
   "source": [
    "Now that we've inserted the images and their classes to the database, let's query some data:"
   ]
  },
  {
   "cell_type": "code",
   "execution_count": 4,
   "id": "a36f9c3b",
   "metadata": {},
   "outputs": [
    {
     "data": {
      "text/plain": [
       "Document({'_id': ObjectId('64bef37a07b0de43146e9c2d'), 'img': Encodable(x=<PIL.PngImagePlugin.PngImageFile image mode=L size=28x28 at 0x17FF6BC10>, encoder=Encoder(identifier='pil_image', decoder=<Artifact artifact=<function decode_pil_image at 0x17d4abd80> serializer=dill>, encoder=<Artifact artifact=<function encode_pil_image at 0x17d4a8e00> serializer=dill>, shape=None, version=0)), 'class': 7, '_fold': 'train'})"
      ]
     },
     "execution_count": 4,
     "metadata": {},
     "output_type": "execute_result"
    }
   ],
   "source": [
    "r = db.execute(collection.find_one())\n",
    "r"
   ]
  },
  {
   "cell_type": "markdown",
   "id": "1413d4c5",
   "metadata": {},
   "source": [
    "When we query the data, it's in exactly the format we inserted it. In particular, we can use the `PIL.Image` instances\n",
    "to inspect the data:"
   ]
  },
  {
   "cell_type": "code",
   "execution_count": 5,
   "id": "e8fb7c9c",
   "metadata": {},
   "outputs": [
    {
     "data": {
      "image/jpeg": "[encoded data removed]",
      "image/png": "[encoded data removed]",
      "text/plain": [
       "<PIL.PngImagePlugin.PngImageFile image mode=L size=28x28>"
      ]
     },
     "execution_count": 5,
     "metadata": {},
     "output_type": "execute_result"
    }
   ],
   "source": [
    "r['img'].x"
   ]
  },
  {
   "cell_type": "markdown",
   "id": "68fde8bb",
   "metadata": {},
   "source": [
    "Now let's create our model. SuperDuperDB supports these frameworks, out-of-the-box:\n",
    "\n",
    "- `torch`\n",
    "- `sklearn`\n",
    "- `transformers`\n",
    "- `sentence_transformers`\n",
    "- `openai`\n",
    "- `langchain`\n",
    "\n",
    "In this case, we're going to use PyTorch, since it's great for computer vision use-cases.\n",
    "We can combine `torch` with `torchvision` in SuperDuperDB."
   ]
  },
  {
   "cell_type": "code",
   "execution_count": 6,
   "id": "cfb425e1",
   "metadata": {},
   "outputs": [],
   "source": [
    "class LeNet5(torch.nn.Module):\n",
    "    def __init__(self, num_classes):\n",
    "        super().__init__()\n",
    "        self.layer1 = torch.nn.Sequential(\n",
    "            torch.nn.Conv2d(1, 6, kernel_size=5, stride=1, padding=0),\n",
    "            torch.nn.BatchNorm2d(6),\n",
    "            torch.nn.ReLU(),\n",
    "            torch.nn.MaxPool2d(kernel_size=2, stride=2))\n",
    "        self.layer2 = torch.nn.Sequential(\n",
    "            torch.nn.Conv2d(6, 16, kernel_size=5, stride=1, padding=0),\n",
    "            torch.nn.BatchNorm2d(16),\n",
    "            torch.nn.ReLU(),\n",
    "            torch.nn.MaxPool2d(kernel_size=2, stride=2))\n",
    "        self.fc = torch.nn.Linear(400, 120)\n",
    "        self.relu = torch.nn.ReLU()\n",
    "        self.fc1 = torch.nn.Linear(120, 84)\n",
    "        self.relu1 = torch.nn.ReLU()\n",
    "        self.fc2 = torch.nn.Linear(84, num_classes)\n",
    "\n",
    "    def forward(self, x):\n",
    "        out = self.layer1(x)\n",
    "        out = self.layer2(out)\n",
    "        out = out.reshape(out.size(0), -1)\n",
    "        out = self.fc(out)\n",
    "        out = self.relu(out)\n",
    "        out = self.fc1(out)\n",
    "        out = self.relu1(out)\n",
    "        out = self.fc2(out)\n",
    "        return out\n",
    "\n",
    "    \n",
    "def postprocess(x):\n",
    "    return int(x.topk(1)[1].item())\n",
    "\n",
    "\n",
    "def preprocess(x):\n",
    "    return torchvision.transforms.Compose([\n",
    "        torchvision.transforms.Resize((32, 32)),\n",
    "        torchvision.transforms.ToTensor(),\n",
    "        torchvision.transforms.Normalize(mean=(0.1307,), std=(0.3081,))]\n",
    "    )(x)"
   ]
  },
  {
   "cell_type": "markdown",
   "id": "91155314",
   "metadata": {},
   "source": [
    "We've created `postprocess` and `preprocess` functions to handle the communication with the SuperDuperDB\n",
    "`Datalayer`. In order to create a native SuperDuperDB model, we wrap the model, preprocessing and postprocessing:"
   ]
  },
  {
   "cell_type": "code",
   "execution_count": 7,
   "id": "d47855b8",
   "metadata": {},
   "outputs": [],
   "source": [
    "model = pinnacle(LeNet5(10), preprocess=preprocess, postprocess=postprocess)"
   ]
  },
  {
   "cell_type": "markdown",
   "id": "5fde9224",
   "metadata": {},
   "source": [
    "The model predicts human readable outputs, directly from the `PIL.Image` objects. All \n",
    "models in SuperDuperDB are equipped with a `sklearn`-style `.predict` method. This makes \n",
    "it easy to know how each AI-framework will operate in combination with the `Datalayer`."
   ]
  },
  {
   "cell_type": "code",
   "execution_count": 8,
   "id": "ae586949",
   "metadata": {},
   "outputs": [
    {
     "name": "stderr",
     "output_type": "stream",
     "text": [
      "100%|████████████████████████████████████████████████████████████████████████████████████████████████████████████████████████████████████████████████████████| 10/10 [00:00<00:00, 260.82it/s]\n"
     ]
    },
    {
     "data": {
      "text/plain": [
       "[0, 0, 0, 0, 0, 0, 0, 0, 0, 0]"
      ]
     },
     "execution_count": 8,
     "metadata": {},
     "output_type": "execute_result"
    }
   ],
   "source": [
    "model.predict([r['img'] for r in data[:10]])"
   ]
  },
  {
   "cell_type": "markdown",
   "id": "dcf0457e",
   "metadata": {},
   "source": [
    "Now we're ready to \"train\" or \"fit\" the model. Trainable models in SuperDuperDB are equipped \n",
    "with a `sklearn`-like `.fit` method:"
   ]
  },
  {
   "cell_type": "code",
   "execution_count": 9,
   "id": "05a0e4ca",
   "metadata": {
    "scrolled": false
   },
   "outputs": [
    {
     "name": "stderr",
     "output_type": "stream",
     "text": [
      "INFO:root:fold: TRAIN; iteration: 0; objective: 2.3030130863189697; \n",
      "100%|██████████████████████████████████████████████████████████████████████████████████████████████████████████████████████████████████████████████████████| 497/497 [00:00<00:00, 737.65it/s]\n",
      "INFO:root:fold: VALID; iteration: 0; my_valid/acc: 0.15090543259557343; objective: 2.293396143913269; \n",
      "INFO:root:fold: TRAIN; iteration: 1; objective: 2.3209638595581055; \n",
      "INFO:root:fold: TRAIN; iteration: 2; objective: 2.377978801727295; \n",
      "INFO:root:fold: TRAIN; iteration: 3; objective: 2.314385175704956; \n",
      "INFO:root:fold: TRAIN; iteration: 4; objective: 2.3264107704162598; \n",
      "INFO:root:fold: TRAIN; iteration: 5; objective: 2.1973912715911865; \n",
      "INFO:root:fold: TRAIN; iteration: 6; objective: 2.2388699054718018; \n",
      "INFO:root:fold: TRAIN; iteration: 7; objective: 2.1599698066711426; \n",
      "INFO:root:fold: TRAIN; iteration: 8; objective: 2.304192066192627; \n",
      "INFO:root:fold: TRAIN; iteration: 9; objective: 2.1507439613342285; \n",
      "INFO:root:fold: TRAIN; iteration: 10; objective: 2.2189712524414062; \n",
      "INFO:root:fold: TRAIN; iteration: 11; objective: 2.0939056873321533; \n",
      "INFO:root:fold: TRAIN; iteration: 12; objective: 2.1274192333221436; \n",
      "INFO:root:fold: TRAIN; iteration: 13; objective: 2.1268551349639893; \n",
      "INFO:root:fold: TRAIN; iteration: 14; objective: 1.9794954061508179; \n",
      "INFO:root:fold: TRAIN; iteration: 15; objective: 1.9808311462402344; \n",
      "INFO:root:fold: TRAIN; iteration: 16; objective: 1.9302374124526978; \n",
      "INFO:root:fold: TRAIN; iteration: 17; objective: 2.133779764175415; \n",
      "INFO:root:fold: TRAIN; iteration: 18; objective: 1.754934549331665; \n",
      "INFO:root:fold: TRAIN; iteration: 19; objective: 1.9767401218414307; \n",
      "INFO:root:fold: TRAIN; iteration: 20; objective: 2.0069706439971924; \n",
      "INFO:root:fold: TRAIN; iteration: 21; objective: 1.879977822303772; \n",
      "INFO:root:fold: TRAIN; iteration: 22; objective: 2.0266764163970947; \n",
      "INFO:root:fold: TRAIN; iteration: 23; objective: 2.054612398147583; \n",
      "INFO:root:fold: TRAIN; iteration: 24; objective: 1.6034877300262451; \n",
      "INFO:root:fold: TRAIN; iteration: 25; objective: 1.7963978052139282; \n",
      "INFO:root:fold: TRAIN; iteration: 26; objective: 1.4935686588287354; \n",
      "INFO:root:fold: TRAIN; iteration: 27; objective: 1.7059379816055298; \n",
      "INFO:root:fold: TRAIN; iteration: 28; objective: 1.5389515161514282; \n",
      "INFO:root:fold: TRAIN; iteration: 29; objective: 1.5023351907730103; \n",
      "INFO:root:fold: TRAIN; iteration: 30; objective: 1.5253760814666748; \n",
      "INFO:root:fold: TRAIN; iteration: 31; objective: 1.5413868427276611; \n",
      "INFO:root:fold: TRAIN; iteration: 32; objective: 1.3213781118392944; \n",
      "INFO:root:fold: TRAIN; iteration: 33; objective: 1.3832098245620728; \n",
      "INFO:root:fold: TRAIN; iteration: 34; objective: 1.584082841873169; \n",
      "INFO:root:fold: TRAIN; iteration: 35; objective: 1.5956279039382935; \n",
      "INFO:root:fold: TRAIN; iteration: 36; objective: 1.245875597000122; \n",
      "INFO:root:fold: TRAIN; iteration: 37; objective: 1.3283555507659912; \n",
      "INFO:root:fold: TRAIN; iteration: 38; objective: 1.474408745765686; \n",
      "INFO:root:fold: TRAIN; iteration: 39; objective: 1.2440950870513916; \n",
      "INFO:root:fold: TRAIN; iteration: 40; objective: 1.1877763271331787; \n",
      "INFO:root:fold: TRAIN; iteration: 41; objective: 1.0508381128311157; \n",
      "INFO:root:fold: TRAIN; iteration: 42; objective: 1.0761299133300781; \n",
      "INFO:root:fold: TRAIN; iteration: 43; objective: 0.924592137336731; \n",
      "INFO:root:fold: TRAIN; iteration: 44; objective: 0.856509804725647; \n",
      "INFO:root:fold: TRAIN; iteration: 45; objective: 1.102867841720581; \n",
      "INFO:root:fold: TRAIN; iteration: 46; objective: 1.0353472232818604; \n",
      "INFO:root:fold: TRAIN; iteration: 47; objective: 0.6671408414840698; \n",
      "INFO:root:fold: TRAIN; iteration: 48; objective: 1.6601982116699219; \n",
      "INFO:root:fold: TRAIN; iteration: 49; objective: 1.2126491069793701; \n",
      "INFO:root:fold: TRAIN; iteration: 50; objective: 1.1887434720993042; \n",
      "100%|██████████████████████████████████████████████████████████████████████████████████████████████████████████████████████████████████████████████████████| 497/497 [00:00<00:00, 833.75it/s]\n",
      "INFO:root:fold: VALID; iteration: 50; my_valid/acc: 0.7364185110663984; objective: 0.9748302781581879; \n",
      "INFO:root:fold: TRAIN; iteration: 51; objective: 1.0237128734588623; \n",
      "INFO:root:fold: TRAIN; iteration: 52; objective: 1.054911494255066; \n",
      "INFO:root:fold: TRAIN; iteration: 53; objective: 0.7111251354217529; \n",
      "INFO:root:fold: TRAIN; iteration: 54; objective: 0.7790671586990356; \n",
      "INFO:root:fold: TRAIN; iteration: 55; objective: 0.6501892805099487; \n",
      "INFO:root:fold: TRAIN; iteration: 56; objective: 1.1715024709701538; \n",
      "INFO:root:fold: TRAIN; iteration: 57; objective: 1.0746339559555054; \n",
      "INFO:root:fold: TRAIN; iteration: 58; objective: 0.7599886655807495; \n",
      "INFO:root:fold: TRAIN; iteration: 59; objective: 0.9537004232406616; \n",
      "INFO:root:fold: TRAIN; iteration: 60; objective: 1.0614697933197021; \n",
      "INFO:root:fold: TRAIN; iteration: 61; objective: 0.9346634149551392; \n",
      "INFO:root:fold: TRAIN; iteration: 62; objective: 0.9882766008377075; \n",
      "INFO:root:fold: TRAIN; iteration: 63; objective: 0.7679548263549805; \n",
      "INFO:root:fold: TRAIN; iteration: 64; objective: 0.5873404741287231; \n",
      "INFO:root:fold: TRAIN; iteration: 65; objective: 0.6630138158798218; \n",
      "INFO:root:fold: TRAIN; iteration: 66; objective: 0.8190135955810547; \n",
      "INFO:root:fold: TRAIN; iteration: 67; objective: 0.5025721788406372; \n",
      "INFO:root:fold: TRAIN; iteration: 68; objective: 0.5452567934989929; \n",
      "INFO:root:fold: TRAIN; iteration: 69; objective: 0.8100636601448059; \n",
      "INFO:root:fold: TRAIN; iteration: 70; objective: 0.5699211359024048; \n",
      "INFO:root:fold: TRAIN; iteration: 71; objective: 0.5271495580673218; \n",
      "INFO:root:fold: TRAIN; iteration: 72; objective: 0.5285488963127136; \n",
      "INFO:root:fold: TRAIN; iteration: 73; objective: 0.856490969657898; \n",
      "INFO:root:fold: TRAIN; iteration: 74; objective: 1.2382619380950928; \n",
      "INFO:root:fold: TRAIN; iteration: 75; objective: 0.5617055892944336; \n",
      "INFO:root:fold: TRAIN; iteration: 76; objective: 0.47019854187965393; \n",
      "INFO:root:fold: TRAIN; iteration: 77; objective: 0.33316272497177124; \n",
      "INFO:root:fold: TRAIN; iteration: 78; objective: 1.0938270092010498; \n",
      "INFO:root:fold: TRAIN; iteration: 79; objective: 0.546829104423523; \n",
      "INFO:root:fold: TRAIN; iteration: 80; objective: 0.44405078887939453; \n",
      "INFO:root:fold: TRAIN; iteration: 81; objective: 1.0205004215240479; \n",
      "INFO:root:fold: TRAIN; iteration: 82; objective: 0.4767419695854187; \n",
      "INFO:root:fold: TRAIN; iteration: 83; objective: 0.46403950452804565; \n",
      "INFO:root:fold: TRAIN; iteration: 84; objective: 0.5022362470626831; \n",
      "INFO:root:fold: TRAIN; iteration: 85; objective: 0.187663733959198; \n",
      "INFO:root:fold: TRAIN; iteration: 86; objective: 0.2785441279411316; \n",
      "INFO:root:fold: TRAIN; iteration: 87; objective: 0.8095402717590332; \n",
      "INFO:root:fold: TRAIN; iteration: 88; objective: 0.35507625341415405; \n",
      "INFO:root:fold: TRAIN; iteration: 89; objective: 0.860641360282898; \n",
      "INFO:root:fold: TRAIN; iteration: 90; objective: 0.7663944363594055; \n",
      "INFO:root:fold: TRAIN; iteration: 91; objective: 0.1669643670320511; \n",
      "INFO:root:fold: TRAIN; iteration: 92; objective: 0.7334810495376587; \n",
      "INFO:root:fold: TRAIN; iteration: 93; objective: 0.382601797580719; \n",
      "INFO:root:fold: TRAIN; iteration: 94; objective: 1.073380947113037; \n",
      "INFO:root:fold: TRAIN; iteration: 95; objective: 0.3474707007408142; \n",
      "INFO:root:fold: TRAIN; iteration: 96; objective: 0.47803086042404175; \n",
      "INFO:root:fold: TRAIN; iteration: 97; objective: 0.6323449015617371; \n",
      "INFO:root:fold: TRAIN; iteration: 98; objective: 0.4584294259548187; \n",
      "INFO:root:fold: TRAIN; iteration: 99; objective: 0.4627322256565094; \n",
      "INFO:root:fold: TRAIN; iteration: 100; objective: 0.49039793014526367; \n",
      "100%|█████████████████████████████████████████████████████████████████████████████████████████████████████████████████████████████████████████████████████| 497/497 [00:00<00:00, 1050.02it/s]\n",
      "INFO:root:fold: VALID; iteration: 100; my_valid/acc: 0.8410462776659959; objective: 0.5200964421033859; \n"
     ]
    }
   ],
   "source": [
    "from torch.optim import Adam\n",
    "from torch.nn.functional import cross_entropy\n",
    "\n",
    "from pinnacledb.core.metric import Metric\n",
    "from pinnacledb.metrics.classification import compute_classification_metrics\n",
    "from pinnacledb.core.dataset import Dataset\n",
    "from pinnacledb.models.torch.wrapper import TorchTrainerConfiguration\n",
    "\n",
    "\n",
    "job = model.fit(\n",
    "    X='img',\n",
    "    y='class',\n",
    "    db=db,\n",
    "    select=collection.find(),\n",
    "    configuration=TorchTrainerConfiguration(\n",
    "        identifier='my_configuration',\n",
    "        objective=cross_entropy,\n",
    "        loader_kwargs={'batch_size': 10},\n",
    "        max_iterations=100,\n",
    "        validation_interval=50,\n",
    "        compute_metrics=compute_classification_metrics,\n",
    "    ),\n",
    "    metrics=[Metric(identifier='acc', object=lambda x, y: x == y)],\n",
    "    validation_sets=[\n",
    "        Dataset(\n",
    "            identifier='my_valid',\n",
    "            select=Collection(name='mnist').find({'_fold': 'valid'}),\n",
    "        )\n",
    "    ],\n",
    "    distributed=False\n",
    ")"
   ]
  },
  {
   "cell_type": "code",
   "execution_count": 10,
   "id": "200d3be1",
   "metadata": {},
   "outputs": [
    {
     "data": {
      "image/png": "[encoded data removed]",
      "text/plain": [
       "<Figure size 640x480 with 1 Axes>"
      ]
     },
     "metadata": {},
     "output_type": "display_data"
    }
   ],
   "source": [
    "from matplotlib import pyplot as plt\n",
    "\n",
    "model = db.load('model', model.identifier)\n",
    "\n",
    "plt.plot(model.metric_values['my_valid/acc'])\n",
    "plt.show()"
   ]
  },
  {
   "cell_type": "markdown",
   "id": "0199b952",
   "metadata": {},
   "source": [
    "Now that the model has been trained, we can use it to \"watch\" the data for incoming changes. \n",
    "This is set up with a simple predict \"on\" the database (without loading all the data client-side).\n",
    "\n",
    "The `watch` toggle \"activates\" the model:"
   ]
  },
  {
   "cell_type": "code",
   "execution_count": 11,
   "id": "f0e53249",
   "metadata": {
    "scrolled": false
   },
   "outputs": [
    {
     "name": "stderr",
     "output_type": "stream",
     "text": [
      "WARNING:root:model/lenet5/0 already exists - doing nothing\n",
      "WARNING:root:model/lenet5/0 already exists - doing nothing\n",
      "WARNING:root:model/lenet5/0 already exists - doing nothing\n",
      "WARNING:root:model/lenet5/0 already exists - doing nothing\n",
      "100%|████████████████████████████████████████████████████████████████████████████████████████████████████████████████████████████████████████████████████| 5000/5000 [00:05<00:00, 881.74it/s]\n",
      "WARNING:root:model/lenet5/0 already exists - doing nothing\n",
      "100%|████████████████████████████████████████████████████████████████████████████████████████████████████████████████████████████████████████████████████| 5000/5000 [00:05<00:00, 890.50it/s]\n"
     ]
    }
   ],
   "source": [
    "model.predict(X='img', db=db, select=collection.find(), watch=True)"
   ]
  },
  {
   "cell_type": "markdown",
   "id": "7daae786",
   "metadata": {},
   "source": [
    "We can see that predictions are available in `_outputs.img.lenet5`:"
   ]
  },
  {
   "cell_type": "code",
   "execution_count": 12,
   "id": "bc71a143",
   "metadata": {},
   "outputs": [
    {
     "data": {
      "text/plain": [
       "Document({'_id': ObjectId('64bef37a07b0de43146e9c2d'), 'img': Encodable(x=<PIL.PngImagePlugin.PngImageFile image mode=L size=28x28 at 0x18272B510>, encoder=Encoder(identifier='pil_image', decoder=<Artifact artifact=<function decode_pil_image at 0x17d4abd80> serializer=dill>, encoder=<Artifact artifact=<function encode_pil_image at 0x17d4a8e00> serializer=dill>, shape=None, version=0)), 'class': 7, '_fold': 'train', '_outputs': {'img': {'lenet5': 7}}})"
      ]
     },
     "execution_count": 12,
     "metadata": {},
     "output_type": "execute_result"
    }
   ],
   "source": [
    "db.execute(collection.find_one())"
   ]
  },
  {
   "cell_type": "markdown",
   "id": "c580aba3",
   "metadata": {},
   "source": [
    "The models \"activated\" can be seen here:"
   ]
  },
  {
   "cell_type": "code",
   "execution_count": 13,
   "id": "9f8912f6",
   "metadata": {},
   "outputs": [
    {
     "data": {
      "text/plain": [
       "['lenet5/img']"
      ]
     },
     "execution_count": 13,
     "metadata": {},
     "output_type": "execute_result"
    }
   ],
   "source": [
    "db.show('watcher')"
   ]
  },
  {
   "cell_type": "markdown",
   "id": "7a78a2a1",
   "metadata": {},
   "source": [
    "We can verify that the model is activated, by inserting the rest of the data:"
   ]
  },
  {
   "cell_type": "code",
   "execution_count": 14,
   "id": "c1aa56d0",
   "metadata": {
    "scrolled": false
   },
   "outputs": [
    {
     "name": "stderr",
     "output_type": "stream",
     "text": [
      "INFO:root:found 0 uris\n",
      "WARNING:root:model/lenet5/0 already exists - doing nothing\n",
      "100%|████████████████████████████████████████████████████████████████████████████████████████████████████████████████████████████████████████████████████| 1000/1000 [00:01<00:00, 834.97it/s]\n"
     ]
    },
    {
     "data": {
      "text/plain": [
       "(<pymongo.results.InsertManyResult at 0x1815aaf50>,\n",
       " TaskWorkflow(database=<pinnacledb.datalayer.base.datalayer.Datalayer object at 0x17c988e90>, G=<networkx.classes.digraph.DiGraph object at 0x17d4b1650>))"
      ]
     },
     "execution_count": 14,
     "metadata": {},
     "output_type": "execute_result"
    }
   ],
   "source": [
    "for r in data[-1000:]:\n",
    "    r['update'] = True\n",
    "\n",
    "db.execute(collection.insert_many(data[-1000:]))"
   ]
  },
  {
   "cell_type": "markdown",
   "id": "9eb48a30",
   "metadata": {},
   "source": [
    "You can see that the inserted data, are now also populated with predictions:"
   ]
  },
  {
   "cell_type": "code",
   "execution_count": 15,
   "id": "d8161983",
   "metadata": {},
   "outputs": [
    {
     "data": {
      "text/plain": [
       "{'img': {'lenet5': 0}}"
      ]
     },
     "execution_count": 15,
     "metadata": {},
     "output_type": "execute_result"
    }
   ],
   "source": [
    "db.execute(collection.find_one({'update': True}))['_outputs']"
   ]
  }
 ],
 "metadata": {
  "kernelspec": {
   "display_name": "Python 3 (ipykernel)",
   "language": "python",
   "name": "python3"
  },
  "language_info": {
   "codemirror_mode": {
    "name": "ipython",
    "version": 3
   },
   "file_extension": ".py",
   "mimetype": "text/x-python",
   "name": "python",
   "nbconvert_exporter": "python",
   "pygments_lexer": "ipython3",
   "version": "3.11.3"
  }
 },
 "nbformat": 4,
 "nbformat_minor": 5
}
