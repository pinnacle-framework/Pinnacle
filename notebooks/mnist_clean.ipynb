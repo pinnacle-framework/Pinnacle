{
 "cells": [
  {
   "cell_type": "code",
   "execution_count": null,
   "id": "5febafeb",
   "metadata": {},
   "outputs": [],
   "source": [
    "import pymongo\n",
    "import torch\n",
    "import torchvision\n",
    "\n",
    "from pinnacledb import pinnacle"
   ]
  },
  {
   "cell_type": "code",
   "execution_count": null,
   "id": "6df702e3",
   "metadata": {},
   "outputs": [],
   "source": [
    "pymongo.MongoClient().drop_database('documents')"
   ]
  },
  {
   "cell_type": "code",
   "execution_count": null,
   "id": "cfb425e1",
   "metadata": {},
   "outputs": [],
   "source": [
    "class LeNet5(torch.nn.Module):\n",
    "    def __init__(self, num_classes):\n",
    "        super().__init__()\n",
    "        self.layer1 = torch.nn.Sequential(\n",
    "            torch.nn.Conv2d(1, 6, kernel_size=5, stride=1, padding=0),\n",
    "            torch.nn.BatchNorm2d(6),\n",
    "            torch.nn.ReLU(),\n",
    "            torch.nn.MaxPool2d(kernel_size=2, stride=2))\n",
    "        self.layer2 = torch.nn.Sequential(\n",
    "            torch.nn.Conv2d(6, 16, kernel_size=5, stride=1, padding=0),\n",
    "            torch.nn.BatchNorm2d(16),\n",
    "            torch.nn.ReLU(),\n",
    "            torch.nn.MaxPool2d(kernel_size=2, stride=2))\n",
    "        self.fc = torch.nn.Linear(400, 120)\n",
    "        self.relu = torch.nn.ReLU()\n",
    "        self.fc1 = torch.nn.Linear(120, 84)\n",
    "        self.relu1 = torch.nn.ReLU()\n",
    "        self.fc2 = torch.nn.Linear(84, num_classes)\n",
    "\n",
    "    def preprocess(self, x):\n",
    "        return torchvision.transforms.Compose([\n",
    "            torchvision.transforms.Resize((32, 32)),\n",
    "            torchvision.transforms.ToTensor(),\n",
    "            torchvision.transforms.Normalize(mean=(0.1307,), std=(0.3081,))]\n",
    "        )(x)\n",
    "\n",
    "    def forward(self, x):\n",
    "        out = self.layer1(x)\n",
    "        out = self.layer2(out)\n",
    "        out = out.reshape(out.size(0), -1)\n",
    "        out = self.fc(out)\n",
    "        out = self.relu(out)\n",
    "        out = self.fc1(out)\n",
    "        out = self.relu1(out)\n",
    "        out = self.fc2(out)\n",
    "        return out\n",
    "\n",
    "    def postprocess(self, x):\n",
    "        return int(x.topk(1)[1].item())\n",
    "    \n",
    "model = LeNet5(10)"
   ]
  },
  {
   "cell_type": "code",
   "execution_count": null,
   "id": "56787a42",
   "metadata": {},
   "outputs": [],
   "source": [
    "db = pymongo.MongoClient().documents"
   ]
  },
  {
   "cell_type": "code",
   "execution_count": null,
   "id": "9ef642cc",
   "metadata": {},
   "outputs": [],
   "source": [
    "db = pinnacle(db)"
   ]
  },
  {
   "cell_type": "code",
   "execution_count": null,
   "id": "3d2629d2",
   "metadata": {},
   "outputs": [],
   "source": [
    "from pinnacledb.types.pillow.image import pil_image as i\n",
    "from pinnacledb.core.documents import Document as D\n",
    "from pinnacledb.queries.mongodb.queries import Collection\n",
    "\n",
    "import random\n",
    "\n",
    "mnist_data = list(torchvision.datasets.MNIST(root='./data', download=True))\n",
    "data = [D({'img': i(x[0]), 'class': x[1]}) for x in mnist_data]\n",
    "random.shuffle(data)\n",
    "\n",
    "db.execute(\n",
    "    Collection(name='mnist').insert_many(data[:-1000], encoders=[i])\n",
    ")"
   ]
  },
  {
   "cell_type": "code",
   "execution_count": null,
   "id": "36919db3",
   "metadata": {
    "scrolled": false
   },
   "outputs": [],
   "source": [
    "from pinnacledb.queries.mongodb.queries import Collection\n",
    "\n",
    "r = db.execute(\n",
    "    Collection(name='mnist').find_one()\n",
    ")"
   ]
  },
  {
   "cell_type": "code",
   "execution_count": null,
   "id": "dca19637",
   "metadata": {},
   "outputs": [],
   "source": [
    "r"
   ]
  },
  {
   "cell_type": "code",
   "execution_count": null,
   "id": "d47855b8",
   "metadata": {},
   "outputs": [],
   "source": [
    "model = pinnacle(model)"
   ]
  },
  {
   "cell_type": "code",
   "execution_count": null,
   "id": "ae586949",
   "metadata": {},
   "outputs": [],
   "source": [
    "model.predict([r['img'] for r in data[:10]])"
   ]
  },
  {
   "cell_type": "code",
   "execution_count": null,
   "id": "450b2775",
   "metadata": {
    "scrolled": false
   },
   "outputs": [],
   "source": [
    "# model.predict(\n",
    "#     X='img',\n",
    "#     db=db, \n",
    "#     select=Collection(name='mnist').find(),\n",
    "#     remote=False\n",
    "# )"
   ]
  },
  {
   "cell_type": "code",
   "execution_count": null,
   "id": "05a0e4ca",
   "metadata": {
    "scrolled": false
   },
   "outputs": [],
   "source": [
    "from torch.optim import Adam\n",
    "from torch.nn.functional import cross_entropy\n",
    "\n",
    "from pinnacledb.core.metric import Metric\n",
    "from pinnacledb.metrics.classification import compute_classification_metrics\n",
    "from pinnacledb.core.dataset import Dataset\n",
    "from pinnacledb.models.torch.wrapper import TorchTrainerConfiguration\n",
    "\n",
    "\n",
    "job = model.fit(\n",
    "    X='img',\n",
    "    y='class',\n",
    "    db=db,\n",
    "    select=Collection(name='mnist').find(),\n",
    "    configuration=TorchTrainerConfiguration(\n",
    "        optimizer_cls=Adam,\n",
    "        identifier='my_configuration',\n",
    "        objective=cross_entropy,\n",
    "        loader_kwargs={'batch_size': 10},\n",
    "        max_iterations=100,\n",
    "        validation_interval=10,\n",
    "        compute_metrics=compute_classification_metrics,\n",
    "    ),\n",
    "    metrics=[Metric(identifier='acc', object=lambda x, y: x == y)],\n",
    "    validation_sets=[\n",
    "        Dataset(\n",
    "            identifier='my_valid',\n",
    "            select=Collection(name='mnist').find({'_fold': 'valid'})\n",
    "        )\n",
    "    ],\n",
    "    remote=False\n",
    ")"
   ]
  },
  {
   "cell_type": "code",
   "execution_count": null,
   "id": "c21560cc",
   "metadata": {},
   "outputs": [],
   "source": [
    "len(list(db.execute(Collection(name='mnist').find({'_fold': 'train'}))))"
   ]
  },
  {
   "cell_type": "code",
   "execution_count": null,
   "id": "f0e53249",
   "metadata": {},
   "outputs": [],
   "source": [
    "jobs = db.add(\n",
    "    Watcher(\n",
    "        model=model,\n",
    "        key='img',\n",
    "        depends_on=model.fit(\n",
    "            X='img',\n",
    "            y='class',\n",
    "            database=db,\n",
    "            select=Collection('mnist').find(),\n",
    "        )\n",
    "    )\n",
    ")"
   ]
  },
  {
   "cell_type": "code",
   "execution_count": null,
   "id": "b5fc6e24",
   "metadata": {},
   "outputs": [],
   "source": [
    "jobs[0].watch()"
   ]
  },
  {
   "cell_type": "code",
   "execution_count": null,
   "id": "76f7903f",
   "metadata": {},
   "outputs": [],
   "source": [
    "from matplotlib import pyplot as plt\n",
    "\n",
    "model = db.load('model', model.identifier)\n",
    "\n",
    "plt.plot(model.metric_values['acc'])\n",
    "plt.show()"
   ]
  },
  {
   "cell_type": "code",
   "execution_count": null,
   "id": "ce236dcd",
   "metadata": {},
   "outputs": [],
   "source": [
    "jobs[1].watch()"
   ]
  },
  {
   "cell_type": "code",
   "execution_count": null,
   "id": "c1aa56d0",
   "metadata": {},
   "outputs": [],
   "source": [
    "for r in data[-1000:]:\n",
    "    r['update'] = True\n",
    "\n",
    "db.execute(Collection('docs').insert_many(data[-1000:]))"
   ]
  },
  {
   "cell_type": "code",
   "execution_count": null,
   "id": "d74f9ad7",
   "metadata": {},
   "outputs": [],
   "source": [
    "db.execute(Collection('docs').find_one({'update': True}))"
   ]
  }
 ],
 "metadata": {
  "kernelspec": {
   "display_name": "Python 3 (ipykernel)",
   "language": "python",
   "name": "python3"
  },
  "language_info": {
   "codemirror_mode": {
    "name": "ipython",
    "version": 3
   },
   "file_extension": ".py",
   "mimetype": "text/x-python",
   "name": "python",
   "nbconvert_exporter": "python",
   "pygments_lexer": "ipython3",
   "version": "3.8.16"
  }
 },
 "nbformat": 4,
 "nbformat_minor": 5
}
