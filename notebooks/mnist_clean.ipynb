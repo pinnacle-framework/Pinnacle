{
 "cells": [
  {
   "cell_type": "code",
   "execution_count": 1,
   "id": "5febafeb",
   "metadata": {},
   "outputs": [
    {
     "name": "stderr",
     "output_type": "stream",
     "text": [
      "/Users/dodo/SuperDuperDB/pinnacledb/pinnacledb/misc/dataclasses.py:35: RuntimeWarning: fields may not start with an underscore, ignoring \"_class_to_name\"\n",
      "  return add_methods(pdc.dataclass(cls, **kwargs))\n",
      "/Users/dodo/SuperDuperDB/pinnacledb/pinnacledb/misc/dataclasses.py:35: RuntimeWarning: fields may not start with an underscore, ignoring \"_lock\"\n",
      "  return add_methods(pdc.dataclass(cls, **kwargs))\n",
      "/Users/dodo/SuperDuperDB/pinnacledb/pinnacledb/misc/dataclasses.py:35: RuntimeWarning: fields may not start with an underscore, ignoring \"_name_to_cache\"\n",
      "  return add_methods(pdc.dataclass(cls, **kwargs))\n"
     ]
    }
   ],
   "source": [
    "import pymongo\n",
    "import torch\n",
    "import torchvision\n",
    "\n",
    "from pinnacledb import pinnacle"
   ]
  },
  {
   "cell_type": "code",
   "execution_count": 2,
   "id": "6df702e3",
   "metadata": {},
   "outputs": [],
   "source": [
    "pymongo.MongoClient().drop_database('documents')"
   ]
  },
  {
   "cell_type": "code",
   "execution_count": 3,
   "id": "cfb425e1",
   "metadata": {},
   "outputs": [],
   "source": [
    "class LeNet5(torch.nn.Module):\n",
    "    def __init__(self, num_classes):\n",
    "        super().__init__()\n",
    "        self.layer1 = torch.nn.Sequential(\n",
    "            torch.nn.Conv2d(1, 6, kernel_size=5, stride=1, padding=0),\n",
    "            torch.nn.BatchNorm2d(6),\n",
    "            torch.nn.ReLU(),\n",
    "            torch.nn.MaxPool2d(kernel_size=2, stride=2))\n",
    "        self.layer2 = torch.nn.Sequential(\n",
    "            torch.nn.Conv2d(6, 16, kernel_size=5, stride=1, padding=0),\n",
    "            torch.nn.BatchNorm2d(16),\n",
    "            torch.nn.ReLU(),\n",
    "            torch.nn.MaxPool2d(kernel_size=2, stride=2))\n",
    "        self.fc = torch.nn.Linear(400, 120)\n",
    "        self.relu = torch.nn.ReLU()\n",
    "        self.fc1 = torch.nn.Linear(120, 84)\n",
    "        self.relu1 = torch.nn.ReLU()\n",
    "        self.fc2 = torch.nn.Linear(84, num_classes)\n",
    "\n",
    "    def preprocess(self, x):\n",
    "        return torchvision.transforms.Compose([\n",
    "            torchvision.transforms.Resize((32, 32)),\n",
    "            torchvision.transforms.ToTensor(),\n",
    "            torchvision.transforms.Normalize(mean=(0.1307,), std=(0.3081,))]\n",
    "        )(x)\n",
    "\n",
    "    def forward(self, x):\n",
    "        out = self.layer1(x)\n",
    "        out = self.layer2(out)\n",
    "        out = out.reshape(out.size(0), -1)\n",
    "        out = self.fc(out)\n",
    "        out = self.relu(out)\n",
    "        out = self.fc1(out)\n",
    "        out = self.relu1(out)\n",
    "        out = self.fc2(out)\n",
    "        return out\n",
    "\n",
    "    def postprocess(self, x):\n",
    "        return int(x.topk(1)[1].item())\n",
    "    \n",
    "model = LeNet5(10)"
   ]
  },
  {
   "cell_type": "code",
   "execution_count": 4,
   "id": "56787a42",
   "metadata": {},
   "outputs": [],
   "source": [
    "db = pymongo.MongoClient().documents"
   ]
  },
  {
   "cell_type": "code",
   "execution_count": 5,
   "id": "9ef642cc",
   "metadata": {},
   "outputs": [
    {
     "name": "stderr",
     "output_type": "stream",
     "text": [
      "INFO:faiss.loader:Loading faiss.\n",
      "INFO:faiss.loader:Successfully loaded faiss.\n"
     ]
    }
   ],
   "source": [
    "db = pinnacle(db)"
   ]
  },
  {
   "cell_type": "code",
   "execution_count": 6,
   "id": "3d2629d2",
   "metadata": {},
   "outputs": [
    {
     "name": "stderr",
     "output_type": "stream",
     "text": [
      "INFO:root:Created type/pil_image/0\n"
     ]
    },
    {
     "name": "stdout",
     "output_type": "stream",
     "text": [
      "Stripping sub-components to references\n"
     ]
    },
    {
     "name": "stderr",
     "output_type": "stream",
     "text": [
      "INFO:root:found 0 uris\n"
     ]
    },
    {
     "data": {
      "text/plain": [
       "(<pymongo.results.InsertManyResult at 0x17030e6d0>,\n",
       " TaskWorkflow(database=<pinnacledb.datalayer.base.database.BaseDatabase object at 0x16bab77c0>, G=<networkx.classes.digraph.DiGraph object at 0x17030e220>))"
      ]
     },
     "execution_count": 6,
     "metadata": {},
     "output_type": "execute_result"
    }
   ],
   "source": [
    "from pinnacledb.types.pillow.image import pil_image as i\n",
    "from pinnacledb.core.documents import Document as D\n",
    "from pinnacledb.queries.mongodb.queries import Collection\n",
    "\n",
    "import random\n",
    "\n",
    "mnist_data = list(torchvision.datasets.MNIST(root='./data', download=True))\n",
    "data = [D({'img': i(x[0]), 'class': x[1]}) for x in mnist_data]\n",
    "random.shuffle(data)\n",
    "\n",
    "db.execute(\n",
    "    Collection(name='mnist').insert_many(data[:-1000], encoders=[i])\n",
    ")"
   ]
  },
  {
   "cell_type": "code",
   "execution_count": 7,
   "id": "36919db3",
   "metadata": {
    "scrolled": false
   },
   "outputs": [
    {
     "data": {
      "text/plain": [
       "''"
      ]
     },
     "execution_count": 7,
     "metadata": {},
     "output_type": "execute_result"
    }
   ],
   "source": [
    "from pinnacledb.queries.mongodb.queries import Collection\n",
    "\n",
    "r = db.execute(\n",
    "    Collection(name='mnist').find_one()\n",
    ")\n",
    "\n",
    "r.uri"
   ]
  },
  {
   "cell_type": "code",
   "execution_count": 8,
   "id": "d47855b8",
   "metadata": {},
   "outputs": [],
   "source": [
    "model = pinnacle(model)"
   ]
  },
  {
   "cell_type": "code",
   "execution_count": 9,
   "id": "ae586949",
   "metadata": {},
   "outputs": [
    {
     "name": "stderr",
     "output_type": "stream",
     "text": [
      "100%|████████████████████████████████████████████████████████████████████████████████████████████████████████████████████████████████████████████████████████| 10/10 [00:00<00:00, 501.15it/s]\n"
     ]
    },
    {
     "data": {
      "text/plain": [
       "[3, 3, 3, 3, 3, 3, 3, 3, 3, 3]"
      ]
     },
     "execution_count": 9,
     "metadata": {},
     "output_type": "execute_result"
    }
   ],
   "source": [
    "model.predict([r['img'] for r in data[:10]])"
   ]
  },
  {
   "cell_type": "code",
   "execution_count": 10,
   "id": "450b2775",
   "metadata": {
    "scrolled": false
   },
   "outputs": [],
   "source": [
    "# model.predict(\n",
    "#     X='img',\n",
    "#     db=db, \n",
    "#     select=Collection(name='mnist').find(),\n",
    "#     remote=False\n",
    "# )"
   ]
  },
  {
   "cell_type": "code",
   "execution_count": 11,
   "id": "05a0e4ca",
   "metadata": {
    "scrolled": false
   },
   "outputs": [
    {
     "name": "stderr",
     "output_type": "stream",
     "text": [
      "WARNING:root:Setting None component at database\n"
     ]
    },
    {
     "name": "stdout",
     "output_type": "stream",
     "text": [
      "Stripping sub-components to references\n"
     ]
    },
    {
     "name": "stderr",
     "output_type": "stream",
     "text": [
      "INFO:root:Created dataset/my_valid/0\n",
      "INFO:root:Created model/lenet5/0\n"
     ]
    },
    {
     "name": "stdout",
     "output_type": "stream",
     "text": [
      "Stripping sub-components to references\n"
     ]
    },
    {
     "name": "stderr",
     "output_type": "stream",
     "text": [
      "INFO:root:fold: TRAIN; iteration: 0; objective: 2.301271915435791; \n",
      "100%|███████████████████████████████████████████████████████████████████████████████████████████████████████████████████████████████████████████████████| 2941/2941 [00:02<00:00, 1457.32it/s]\n",
      "INFO:root:fold: VALID; iteration: 0; my_valid/acc: 0.11458687521251275; objective: 2.2991932367874406; \n",
      "INFO:root:fold: TRAIN; iteration: 1; objective: 2.372131824493408; \n",
      "INFO:root:fold: TRAIN; iteration: 2; objective: 2.3285508155822754; \n",
      "INFO:root:fold: TRAIN; iteration: 3; objective: 2.2491142749786377; \n",
      "INFO:root:fold: TRAIN; iteration: 4; objective: 2.2390012741088867; \n",
      "INFO:root:fold: TRAIN; iteration: 5; objective: 2.2737162113189697; \n",
      "INFO:root:fold: TRAIN; iteration: 6; objective: 2.265486240386963; \n",
      "INFO:root:fold: TRAIN; iteration: 7; objective: 2.1278483867645264; \n",
      "INFO:root:fold: TRAIN; iteration: 8; objective: 2.2165780067443848; \n",
      "INFO:root:fold: TRAIN; iteration: 9; objective: 2.2273449897766113; \n",
      "INFO:root:fold: TRAIN; iteration: 10; objective: 2.155644178390503; \n",
      "100%|███████████████████████████████████████████████████████████████████████████████████████████████████████████████████████████████████████████████████| 2941/2941 [00:02<00:00, 1453.56it/s]\n",
      "INFO:root:fold: VALID; iteration: 10; my_valid/acc: 0.34648078884733086; objective: 2.1355397907354066; \n",
      "INFO:root:fold: TRAIN; iteration: 11; objective: 2.187093734741211; \n",
      "INFO:root:fold: TRAIN; iteration: 12; objective: 2.137885570526123; \n",
      "INFO:root:fold: TRAIN; iteration: 13; objective: 2.053619384765625; \n",
      "INFO:root:fold: TRAIN; iteration: 14; objective: 2.134099245071411; \n",
      "INFO:root:fold: TRAIN; iteration: 15; objective: 2.095963954925537; \n",
      "INFO:root:fold: TRAIN; iteration: 16; objective: 2.1071221828460693; \n",
      "INFO:root:fold: TRAIN; iteration: 17; objective: 2.0491554737091064; \n",
      "INFO:root:fold: TRAIN; iteration: 18; objective: 2.075684070587158; \n",
      "INFO:root:fold: TRAIN; iteration: 19; objective: 1.9073702096939087; \n",
      "INFO:root:fold: TRAIN; iteration: 20; objective: 1.7860782146453857; \n",
      "100%|███████████████████████████████████████████████████████████████████████████████████████████████████████████████████████████████████████████████████| 2941/2941 [00:02<00:00, 1455.05it/s]\n",
      "INFO:root:fold: VALID; iteration: 20; my_valid/acc: 0.43896633798027884; objective: 1.9219455076476275; \n",
      "INFO:root:fold: TRAIN; iteration: 21; objective: 2.2065649032592773; \n",
      "INFO:root:fold: TRAIN; iteration: 22; objective: 1.8346679210662842; \n",
      "INFO:root:fold: TRAIN; iteration: 23; objective: 1.8055461645126343; \n",
      "INFO:root:fold: TRAIN; iteration: 24; objective: 1.9510078430175781; \n",
      "INFO:root:fold: TRAIN; iteration: 25; objective: 1.8028024435043335; \n",
      "INFO:root:fold: TRAIN; iteration: 26; objective: 1.5743041038513184; \n",
      "INFO:root:fold: TRAIN; iteration: 27; objective: 1.7409331798553467; \n",
      "INFO:root:fold: TRAIN; iteration: 28; objective: 1.6724815368652344; \n",
      "INFO:root:fold: TRAIN; iteration: 29; objective: 1.7842159271240234; \n",
      "INFO:root:fold: TRAIN; iteration: 30; objective: 1.4270578622817993; \n",
      "100%|███████████████████████████████████████████████████████████████████████████████████████████████████████████████████████████████████████████████████| 2941/2941 [00:02<00:00, 1463.05it/s]\n",
      "INFO:root:fold: VALID; iteration: 30; my_valid/acc: 0.486229173750425; objective: 1.6603725493964503; \n",
      "INFO:root:fold: TRAIN; iteration: 31; objective: 1.428275227546692; \n",
      "INFO:root:fold: TRAIN; iteration: 32; objective: 1.5727882385253906; \n",
      "INFO:root:fold: TRAIN; iteration: 33; objective: 1.5194261074066162; \n",
      "INFO:root:fold: TRAIN; iteration: 34; objective: 1.3570605516433716; \n",
      "INFO:root:fold: TRAIN; iteration: 35; objective: 1.4906392097473145; \n",
      "INFO:root:fold: TRAIN; iteration: 36; objective: 2.0628437995910645; \n",
      "INFO:root:fold: TRAIN; iteration: 37; objective: 1.6793129444122314; \n",
      "INFO:root:fold: TRAIN; iteration: 38; objective: 1.4476056098937988; \n",
      "INFO:root:fold: TRAIN; iteration: 39; objective: 0.8397005200386047; \n",
      "INFO:root:fold: TRAIN; iteration: 40; objective: 1.4942057132720947; \n",
      "100%|███████████████████████████████████████████████████████████████████████████████████████████████████████████████████████████████████████████████████| 2941/2941 [00:02<00:00, 1462.75it/s]\n",
      "INFO:root:fold: VALID; iteration: 40; my_valid/acc: 0.6473988439306358; objective: 1.3408558891991438; \n",
      "INFO:root:fold: TRAIN; iteration: 41; objective: 1.6579408645629883; \n",
      "INFO:root:fold: TRAIN; iteration: 42; objective: 1.3362444639205933; \n",
      "INFO:root:fold: TRAIN; iteration: 43; objective: 1.1813358068466187; \n",
      "INFO:root:fold: TRAIN; iteration: 44; objective: 0.8929589986801147; \n",
      "INFO:root:fold: TRAIN; iteration: 45; objective: 1.422760248184204; \n",
      "INFO:root:fold: TRAIN; iteration: 46; objective: 1.3326166868209839; \n",
      "INFO:root:fold: TRAIN; iteration: 47; objective: 1.0880073308944702; \n",
      "INFO:root:fold: TRAIN; iteration: 48; objective: 1.2658312320709229; \n",
      "INFO:root:fold: TRAIN; iteration: 49; objective: 1.0996925830841064; \n",
      "INFO:root:fold: TRAIN; iteration: 50; objective: 0.7298693656921387; \n",
      "100%|███████████████████████████████████████████████████████████████████████████████████████████████████████████████████████████████████████████████████| 2941/2941 [00:02<00:00, 1463.74it/s]\n",
      "INFO:root:fold: VALID; iteration: 50; my_valid/acc: 0.694321659299558; objective: 1.0112737013121782; \n",
      "INFO:root:fold: TRAIN; iteration: 51; objective: 1.0453660488128662; \n",
      "INFO:root:fold: TRAIN; iteration: 52; objective: 0.8779147267341614; \n",
      "INFO:root:fold: TRAIN; iteration: 53; objective: 0.6835200190544128; \n",
      "INFO:root:fold: TRAIN; iteration: 54; objective: 0.5851103067398071; \n",
      "INFO:root:fold: TRAIN; iteration: 55; objective: 0.9848373532295227; \n",
      "INFO:root:fold: TRAIN; iteration: 56; objective: 0.7625638246536255; \n",
      "INFO:root:fold: TRAIN; iteration: 57; objective: 1.1139696836471558; \n",
      "INFO:root:fold: TRAIN; iteration: 58; objective: 0.9379585981369019; \n",
      "INFO:root:fold: TRAIN; iteration: 59; objective: 1.4687808752059937; \n",
      "INFO:root:fold: TRAIN; iteration: 60; objective: 0.844658374786377; \n",
      "100%|███████████████████████████████████████████████████████████████████████████████████████████████████████████████████████████████████████████████████| 2941/2941 [00:02<00:00, 1450.70it/s]\n",
      "INFO:root:fold: VALID; iteration: 60; my_valid/acc: 0.7721863311798708; objective: 0.7666750061815067; \n",
      "INFO:root:fold: TRAIN; iteration: 61; objective: 0.5829001069068909; \n",
      "INFO:root:fold: TRAIN; iteration: 62; objective: 0.49466603994369507; \n",
      "INFO:root:fold: TRAIN; iteration: 63; objective: 0.41378307342529297; \n",
      "INFO:root:fold: TRAIN; iteration: 64; objective: 0.8336194753646851; \n",
      "INFO:root:fold: TRAIN; iteration: 65; objective: 0.8291818499565125; \n",
      "INFO:root:fold: TRAIN; iteration: 66; objective: 0.9654520153999329; \n",
      "INFO:root:fold: TRAIN; iteration: 67; objective: 0.7546061277389526; \n",
      "INFO:root:fold: TRAIN; iteration: 68; objective: 0.6960664391517639; \n",
      "INFO:root:fold: TRAIN; iteration: 69; objective: 0.6158440113067627; \n",
      "INFO:root:fold: TRAIN; iteration: 70; objective: 0.532279908657074; \n",
      "100%|███████████████████████████████████████████████████████████████████████████████████████████████████████████████████████████████████████████████████| 2941/2941 [00:02<00:00, 1448.14it/s]\n",
      "INFO:root:fold: VALID; iteration: 70; my_valid/acc: 0.7840870452227133; objective: 0.684995446013192; \n",
      "INFO:root:fold: TRAIN; iteration: 71; objective: 0.7797694802284241; \n",
      "INFO:root:fold: TRAIN; iteration: 72; objective: 0.28984570503234863; \n",
      "INFO:root:fold: TRAIN; iteration: 73; objective: 0.7769356966018677; \n",
      "INFO:root:fold: TRAIN; iteration: 74; objective: 0.5906366109848022; \n",
      "INFO:root:fold: TRAIN; iteration: 75; objective: 0.874325156211853; \n",
      "INFO:root:fold: TRAIN; iteration: 76; objective: 0.793087899684906; \n",
      "INFO:root:fold: TRAIN; iteration: 77; objective: 1.0784205198287964; \n",
      "INFO:root:fold: TRAIN; iteration: 78; objective: 0.6559809446334839; \n",
      "INFO:root:fold: TRAIN; iteration: 79; objective: 0.2798869013786316; \n",
      "INFO:root:fold: TRAIN; iteration: 80; objective: 0.757265567779541; \n"
     ]
    },
    {
     "name": "stderr",
     "output_type": "stream",
     "text": [
      "100%|███████████████████████████████████████████████████████████████████████████████████████████████████████████████████████████████████████████████████| 2941/2941 [00:02<00:00, 1455.18it/s]\n",
      "INFO:root:fold: VALID; iteration: 80; my_valid/acc: 0.8017681060863652; objective: 0.6443785047632152; \n",
      "INFO:root:fold: TRAIN; iteration: 81; objective: 0.5371196866035461; \n",
      "INFO:root:fold: TRAIN; iteration: 82; objective: 0.811449408531189; \n",
      "INFO:root:fold: TRAIN; iteration: 83; objective: 0.4538806080818176; \n",
      "INFO:root:fold: TRAIN; iteration: 84; objective: 0.8316020965576172; \n",
      "INFO:root:fold: TRAIN; iteration: 85; objective: 0.8849428296089172; \n",
      "INFO:root:fold: TRAIN; iteration: 86; objective: 0.35797756910324097; \n",
      "INFO:root:fold: TRAIN; iteration: 87; objective: 0.6734777092933655; \n",
      "INFO:root:fold: TRAIN; iteration: 88; objective: 0.7340297698974609; \n",
      "INFO:root:fold: TRAIN; iteration: 89; objective: 0.5514243245124817; \n",
      "INFO:root:fold: TRAIN; iteration: 90; objective: 0.7659941911697388; \n",
      "100%|███████████████████████████████████████████████████████████████████████████████████████████████████████████████████████████████████████████████████| 2941/2941 [00:02<00:00, 1435.10it/s]\n",
      "INFO:root:fold: VALID; iteration: 90; my_valid/acc: 0.8340700442026522; objective: 0.5428795793804072; \n",
      "INFO:root:fold: TRAIN; iteration: 91; objective: 0.7803444862365723; \n",
      "INFO:root:fold: TRAIN; iteration: 92; objective: 0.5106173753738403; \n",
      "INFO:root:fold: TRAIN; iteration: 93; objective: 0.7794833183288574; \n",
      "INFO:root:fold: TRAIN; iteration: 94; objective: 0.538266122341156; \n",
      "INFO:root:fold: TRAIN; iteration: 95; objective: 0.6875237226486206; \n",
      "INFO:root:fold: TRAIN; iteration: 96; objective: 0.3607800006866455; \n",
      "INFO:root:fold: TRAIN; iteration: 97; objective: 0.27746883034706116; \n",
      "INFO:root:fold: TRAIN; iteration: 98; objective: 0.2893451154232025; \n",
      "INFO:root:fold: TRAIN; iteration: 99; objective: 0.5622901320457458; \n",
      "INFO:root:fold: TRAIN; iteration: 100; objective: 0.6696262359619141; \n",
      "100%|███████████████████████████████████████████████████████████████████████████████████████████████████████████████████████████████████████████████████| 2941/2941 [00:02<00:00, 1421.52it/s]\n",
      "INFO:root:fold: VALID; iteration: 100; my_valid/acc: 0.8255695341720504; objective: 0.5758776814329548; \n"
     ]
    }
   ],
   "source": [
    "from torch.optim import Adam\n",
    "from torch.nn.functional import cross_entropy\n",
    "\n",
    "from pinnacledb.core.metric import Metric\n",
    "from pinnacledb.metrics.classification import compute_classification_metrics\n",
    "from pinnacledb.core.dataset import Dataset\n",
    "from pinnacledb.models.torch.wrapper import TorchTrainerConfiguration\n",
    "\n",
    "\n",
    "job = model.fit(\n",
    "    X='img',\n",
    "    y='class',\n",
    "    db=db,\n",
    "    select=Collection(name='mnist').find(),\n",
    "    configuration=TorchTrainerConfiguration(\n",
    "        optimizer_cls=Adam,\n",
    "        identifier='my_configuration',\n",
    "        objective=cross_entropy,\n",
    "        loader_kwargs={'batch_size': 10},\n",
    "        max_iterations=100,\n",
    "        validation_interval=10,\n",
    "        compute_metrics=compute_classification_metrics,\n",
    "    ),\n",
    "    metrics=[Metric(identifier='acc', object=lambda x, y: x == y)],\n",
    "    validation_sets=[\n",
    "        Dataset(\n",
    "            identifier='my_valid',\n",
    "            select=Collection(name='mnist').find({'_fold': 'valid'})\n",
    "        )\n",
    "    ],\n",
    "    remote=False\n",
    ")"
   ]
  },
  {
   "cell_type": "code",
   "execution_count": 16,
   "id": "ca2f9e8d",
   "metadata": {},
   "outputs": [
    {
     "data": {
      "text/plain": [
       "[{'identifier': 'a76cc74f-e1ba-4476-b590-9bbd88fac5bb',\n",
       "  'time': datetime.datetime(2023, 7, 3, 17, 11, 49, 392000),\n",
       "  'status': 'pending'}]"
      ]
     },
     "execution_count": 16,
     "metadata": {},
     "output_type": "execute_result"
    }
   ],
   "source": [
    "db.metadata.show_jobs()"
   ]
  },
  {
   "cell_type": "code",
   "execution_count": 13,
   "id": "f0e53249",
   "metadata": {},
   "outputs": [
    {
     "ename": "NameError",
     "evalue": "name 'Watcher' is not defined",
     "output_type": "error",
     "traceback": [
      "\u001b[0;31m---------------------------------------------------------------------------\u001b[0m",
      "\u001b[0;31mNameError\u001b[0m                                 Traceback (most recent call last)",
      "Cell \u001b[0;32mIn[13], line 2\u001b[0m\n\u001b[1;32m      1\u001b[0m jobs \u001b[38;5;241m=\u001b[39m db\u001b[38;5;241m.\u001b[39madd(\n\u001b[0;32m----> 2\u001b[0m     \u001b[43mWatcher\u001b[49m(\n\u001b[1;32m      3\u001b[0m         model\u001b[38;5;241m=\u001b[39mmodel,\n\u001b[1;32m      4\u001b[0m         key\u001b[38;5;241m=\u001b[39m\u001b[38;5;124m'\u001b[39m\u001b[38;5;124mimg\u001b[39m\u001b[38;5;124m'\u001b[39m,\n\u001b[1;32m      5\u001b[0m         depends_on\u001b[38;5;241m=\u001b[39mmodel\u001b[38;5;241m.\u001b[39mfit(\n\u001b[1;32m      6\u001b[0m             X\u001b[38;5;241m=\u001b[39m\u001b[38;5;124m'\u001b[39m\u001b[38;5;124mimg\u001b[39m\u001b[38;5;124m'\u001b[39m,\n\u001b[1;32m      7\u001b[0m             y\u001b[38;5;241m=\u001b[39m\u001b[38;5;124m'\u001b[39m\u001b[38;5;124mclass\u001b[39m\u001b[38;5;124m'\u001b[39m,\n\u001b[1;32m      8\u001b[0m             database\u001b[38;5;241m=\u001b[39mdb,\n\u001b[1;32m      9\u001b[0m             select\u001b[38;5;241m=\u001b[39mCollection(\u001b[38;5;124m'\u001b[39m\u001b[38;5;124mmnist\u001b[39m\u001b[38;5;124m'\u001b[39m)\u001b[38;5;241m.\u001b[39mfind(),\n\u001b[1;32m     10\u001b[0m         )\n\u001b[1;32m     11\u001b[0m     )\n\u001b[1;32m     12\u001b[0m )\n",
      "\u001b[0;31mNameError\u001b[0m: name 'Watcher' is not defined"
     ]
    }
   ],
   "source": [
    "jobs = db.add(\n",
    "    Watcher(\n",
    "        model=model,\n",
    "        key='img',\n",
    "        depends_on=model.fit(\n",
    "            X='img',\n",
    "            y='class',\n",
    "            database=db,\n",
    "            select=Collection('mnist').find(),\n",
    "        )\n",
    "    )\n",
    ")"
   ]
  },
  {
   "cell_type": "code",
   "execution_count": null,
   "id": "b5fc6e24",
   "metadata": {},
   "outputs": [],
   "source": [
    "jobs[0].watch()"
   ]
  },
  {
   "cell_type": "code",
   "execution_count": null,
   "id": "76f7903f",
   "metadata": {},
   "outputs": [],
   "source": [
    "from matplotlib import pyplot as plt\n",
    "\n",
    "model = db.load('model', model.identifier)\n",
    "\n",
    "plt.plot(model.metric_values['acc'])\n",
    "plt.show()"
   ]
  },
  {
   "cell_type": "code",
   "execution_count": null,
   "id": "ce236dcd",
   "metadata": {},
   "outputs": [],
   "source": [
    "jobs[1].watch()"
   ]
  },
  {
   "cell_type": "code",
   "execution_count": null,
   "id": "c1aa56d0",
   "metadata": {},
   "outputs": [],
   "source": [
    "for r in data[-1000:]:\n",
    "    r['update'] = True\n",
    "\n",
    "db.execute(Collection('docs').insert_many(data[-1000:]))"
   ]
  },
  {
   "cell_type": "code",
   "execution_count": null,
   "id": "d74f9ad7",
   "metadata": {},
   "outputs": [],
   "source": [
    "db.execute(Collection('docs').find_one({'update': True}))"
   ]
  }
 ],
 "metadata": {
  "kernelspec": {
   "display_name": "Python 3 (ipykernel)",
   "language": "python",
   "name": "python3"
  },
  "language_info": {
   "codemirror_mode": {
    "name": "ipython",
    "version": 3
   },
   "file_extension": ".py",
   "mimetype": "text/x-python",
   "name": "python",
   "nbconvert_exporter": "python",
   "pygments_lexer": "ipython3",
   "version": "3.8.16"
  }
 },
 "nbformat": 4,
 "nbformat_minor": 5
}
