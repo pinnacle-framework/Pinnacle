{
 "cells": [
  {
   "cell_type": "markdown",
   "id": "4b24af19",
   "metadata": {},
   "source": [
    "# Training and maintaining MNIST predictions"
   ]
  },
  {
   "cell_type": "code",
   "execution_count": 2,
   "id": "5febafeb",
   "metadata": {},
   "outputs": [],
   "source": [
    "import pymongo\n",
    "import torch\n",
    "import torchvision\n",
    "\n",
    "from pinnacledb import pinnacle"
   ]
  },
  {
   "cell_type": "code",
   "execution_count": 3,
   "id": "cfb425e1",
   "metadata": {},
   "outputs": [],
   "source": [
    "class LeNet5(torch.nn.Module):\n",
    "    def __init__(self, num_classes):\n",
    "        super().__init__()\n",
    "        self.layer1 = torch.nn.Sequential(\n",
    "            torch.nn.Conv2d(1, 6, kernel_size=5, stride=1, padding=0),\n",
    "            torch.nn.BatchNorm2d(6),\n",
    "            torch.nn.ReLU(),\n",
    "            torch.nn.MaxPool2d(kernel_size=2, stride=2))\n",
    "        self.layer2 = torch.nn.Sequential(\n",
    "            torch.nn.Conv2d(6, 16, kernel_size=5, stride=1, padding=0),\n",
    "            torch.nn.BatchNorm2d(16),\n",
    "            torch.nn.ReLU(),\n",
    "            torch.nn.MaxPool2d(kernel_size=2, stride=2))\n",
    "        self.fc = torch.nn.Linear(400, 120)\n",
    "        self.relu = torch.nn.ReLU()\n",
    "        self.fc1 = torch.nn.Linear(120, 84)\n",
    "        self.relu1 = torch.nn.ReLU()\n",
    "        self.fc2 = torch.nn.Linear(84, num_classes)\n",
    "\n",
    "    def forward(self, x):\n",
    "        out = self.layer1(x)\n",
    "        out = self.layer2(out)\n",
    "        out = out.reshape(out.size(0), -1)\n",
    "        out = self.fc(out)\n",
    "        out = self.relu(out)\n",
    "        out = self.fc1(out)\n",
    "        out = self.relu1(out)\n",
    "        out = self.fc2(out)\n",
    "        return out\n",
    "\n",
    "    \n",
    "def postprocess(x):\n",
    "    return int(x.topk(1)[1].item())\n",
    "\n",
    "\n",
    "def preprocess(x):\n",
    "    return torchvision.transforms.Compose([\n",
    "        torchvision.transforms.Resize((32, 32)),\n",
    "        torchvision.transforms.ToTensor(),\n",
    "        torchvision.transforms.Normalize(mean=(0.1307,), std=(0.3081,))]\n",
    "    )(x)"
   ]
  },
  {
   "cell_type": "code",
   "execution_count": 8,
   "id": "811219b7",
   "metadata": {},
   "outputs": [],
   "source": [
    "db.db.client.drop_database('documents')"
   ]
  },
  {
   "cell_type": "code",
   "execution_count": 5,
   "id": "56787a42",
   "metadata": {},
   "outputs": [],
   "source": [
    "db = pymongo.MongoClient().documents"
   ]
  },
  {
   "cell_type": "code",
   "execution_count": 7,
   "id": "9ef642cc",
   "metadata": {},
   "outputs": [],
   "source": [
    "db = pinnacle(db)"
   ]
  },
  {
   "cell_type": "code",
   "execution_count": 9,
   "id": "3d2629d2",
   "metadata": {
    "scrolled": false
   },
   "outputs": [
    {
     "name": "stderr",
     "output_type": "stream",
     "text": [
      "INFO:root:Created encoder/pil_image/0\n",
      "INFO:root:found 0 uris\n"
     ]
    },
    {
     "data": {
      "text/plain": [
       "(<pymongo.results.InsertManyResult at 0x17d7beb50>,\n",
       " TaskWorkflow(database=<pinnacledb.datalayer.base.database.BaseDatabase object at 0x17db79700>, G=<networkx.classes.digraph.DiGraph object at 0x167808bb0>))"
      ]
     },
     "execution_count": 9,
     "metadata": {},
     "output_type": "execute_result"
    }
   ],
   "source": [
    "from pinnacledb.encoders.pillow.image import pil_image as i\n",
    "from pinnacledb.core.documents import Document as D\n",
    "from pinnacledb.datalayer.mongodb.query import Collection\n",
    "\n",
    "import random\n",
    "\n",
    "collection = Collection(name='mnist')\n",
    "\n",
    "mnist_data = list(torchvision.datasets.MNIST(root='./data', download=True))\n",
    "data = [D({'img': i(x[0]), 'class': x[1]}) for x in mnist_data]\n",
    "random.shuffle(data)\n",
    "\n",
    "db.execute(\n",
    "    collection.insert_many(data[:-1000], encoders=[i])\n",
    ")"
   ]
  },
  {
   "cell_type": "code",
   "execution_count": 10,
   "id": "36919db3",
   "metadata": {
    "scrolled": false
   },
   "outputs": [
    {
     "data": {
      "text/plain": [
       "Document({'_id': ObjectId('64b174e4d50ad8f852218d47'), 'img': Encodable(x=<PIL.PngImagePlugin.PngImageFile image mode=L size=28x28 at 0x17DB797F0>, encoder=Encoder(identifier='pil_image', decoder=<Artifact artifact=<function decode_pil_image at 0x17dbb7ca0> serializer=dill>, encoder=<Artifact artifact=<function encode_pil_image at 0x17d809b80> serializer=dill>, shape=None, version=0)), 'class': 2, '_fold': 'train'})"
      ]
     },
     "execution_count": 10,
     "metadata": {},
     "output_type": "execute_result"
    }
   ],
   "source": [
    "db.execute(collection.find_one())"
   ]
  },
  {
   "cell_type": "code",
   "execution_count": 11,
   "id": "d47855b8",
   "metadata": {},
   "outputs": [],
   "source": [
    "model = pinnacle(LeNet5(10), preprocess=preprocess, postprocess=postprocess)"
   ]
  },
  {
   "cell_type": "code",
   "execution_count": 12,
   "id": "ae586949",
   "metadata": {},
   "outputs": [
    {
     "name": "stderr",
     "output_type": "stream",
     "text": [
      "100%|█████████████████████████████████████████████████████████████████████████████████████████████████████████████████████████████████████████████████████████| 10/10 [00:00<00:00, 455.96it/s]\n"
     ]
    },
    {
     "data": {
      "text/plain": [
       "[5, 0, 0, 0, 0, 5, 0, 5, 0, 5]"
      ]
     },
     "execution_count": 12,
     "metadata": {},
     "output_type": "execute_result"
    }
   ],
   "source": [
    "model.predict([r['img'] for r in data[:10]])"
   ]
  },
  {
   "cell_type": "code",
   "execution_count": 13,
   "id": "05a0e4ca",
   "metadata": {
    "scrolled": false
   },
   "outputs": [
    {
     "name": "stderr",
     "output_type": "stream",
     "text": [
      "INFO:root:Created dataset/my_valid/0\n",
      "INFO:root:Created model/lenet5/0\n",
      "INFO:root:fold: TRAIN; iteration: 0; objective: 2.2636027336120605; \n",
      "100%|████████████████████████████████████████████████████████████████████████████████████████████████████████████████████████████████████████████████████| 2917/2917 [00:01<00:00, 1473.80it/s]\n",
      "INFO:root:fold: VALID; iteration: 0; my_valid/acc: 0.10558793280767913; objective: 2.3024406808696383; \n",
      "INFO:root:fold: TRAIN; iteration: 1; objective: 2.451305389404297; \n",
      "INFO:root:fold: TRAIN; iteration: 2; objective: 2.3206772804260254; \n",
      "INFO:root:fold: TRAIN; iteration: 3; objective: 2.3094427585601807; \n",
      "INFO:root:fold: TRAIN; iteration: 4; objective: 2.27115797996521; \n",
      "INFO:root:fold: TRAIN; iteration: 5; objective: 2.251753330230713; \n",
      "INFO:root:fold: TRAIN; iteration: 6; objective: 2.184605598449707; \n",
      "INFO:root:fold: TRAIN; iteration: 7; objective: 2.1559717655181885; \n",
      "INFO:root:fold: TRAIN; iteration: 8; objective: 2.1100094318389893; \n",
      "INFO:root:fold: TRAIN; iteration: 9; objective: 2.0685362815856934; \n",
      "INFO:root:fold: TRAIN; iteration: 10; objective: 2.1121528148651123; \n",
      "100%|████████████████████████████████████████████████████████████████████████████████████████████████████████████████████████████████████████████████████| 2917/2917 [00:01<00:00, 1464.42it/s]\n",
      "INFO:root:fold: VALID; iteration: 10; my_valid/acc: 0.3225917038052794; objective: 2.1036537154896617; \n",
      "INFO:root:fold: TRAIN; iteration: 11; objective: 2.029461622238159; \n",
      "INFO:root:fold: TRAIN; iteration: 12; objective: 2.2553775310516357; \n",
      "INFO:root:fold: TRAIN; iteration: 13; objective: 1.8924827575683594; \n",
      "INFO:root:fold: TRAIN; iteration: 14; objective: 1.9548372030258179; \n",
      "INFO:root:fold: TRAIN; iteration: 15; objective: 2.0213944911956787; \n",
      "INFO:root:fold: TRAIN; iteration: 16; objective: 2.0866830348968506; \n",
      "INFO:root:fold: TRAIN; iteration: 17; objective: 2.0644917488098145; \n",
      "INFO:root:fold: TRAIN; iteration: 18; objective: 1.9964416027069092; \n",
      "INFO:root:fold: TRAIN; iteration: 19; objective: 1.9441416263580322; \n",
      "INFO:root:fold: TRAIN; iteration: 20; objective: 2.0588316917419434; \n",
      "100%|████████████████████████████████████████████████████████████████████████████████████████████████████████████████████████████████████████████████████| 2917/2917 [00:02<00:00, 1428.87it/s]\n",
      "INFO:root:fold: VALID; iteration: 20; my_valid/acc: 0.38189921151868356; objective: 1.8714400391056114; \n",
      "INFO:root:fold: TRAIN; iteration: 21; objective: 1.9128974676132202; \n",
      "INFO:root:fold: TRAIN; iteration: 22; objective: 2.1311848163604736; \n",
      "INFO:root:fold: TRAIN; iteration: 23; objective: 1.6903291940689087; \n",
      "INFO:root:fold: TRAIN; iteration: 24; objective: 1.4871370792388916; \n",
      "INFO:root:fold: TRAIN; iteration: 25; objective: 1.6468786001205444; \n",
      "INFO:root:fold: TRAIN; iteration: 26; objective: 1.7011289596557617; \n",
      "INFO:root:fold: TRAIN; iteration: 27; objective: 1.765293836593628; \n",
      "INFO:root:fold: TRAIN; iteration: 28; objective: 1.8704679012298584; \n",
      "INFO:root:fold: TRAIN; iteration: 29; objective: 1.5048846006393433; \n",
      "INFO:root:fold: TRAIN; iteration: 30; objective: 1.9058284759521484; \n",
      "100%|████████████████████████████████████████████████████████████████████████████████████████████████████████████████████████████████████████████████████| 2917/2917 [00:02<00:00, 1457.82it/s]\n",
      "INFO:root:fold: VALID; iteration: 30; my_valid/acc: 0.6208433321906068; objective: 1.5691545797537452; \n",
      "INFO:root:fold: TRAIN; iteration: 31; objective: 1.7245668172836304; \n",
      "INFO:root:fold: TRAIN; iteration: 32; objective: 1.4949722290039062; \n",
      "INFO:root:fold: TRAIN; iteration: 33; objective: 1.6434568166732788; \n",
      "INFO:root:fold: TRAIN; iteration: 34; objective: 1.9197380542755127; \n",
      "INFO:root:fold: TRAIN; iteration: 35; objective: 1.1581300497055054; \n",
      "INFO:root:fold: TRAIN; iteration: 36; objective: 1.105804681777954; \n",
      "INFO:root:fold: TRAIN; iteration: 37; objective: 1.014953851699829; \n",
      "INFO:root:fold: TRAIN; iteration: 38; objective: 1.281571388244629; \n",
      "INFO:root:fold: TRAIN; iteration: 39; objective: 1.1979343891143799; \n",
      "INFO:root:fold: TRAIN; iteration: 40; objective: 1.1496556997299194; \n",
      "100%|████████████████████████████████████████████████████████████████████████████████████████████████████████████████████████████████████████████████████| 2917/2917 [00:01<00:00, 1462.75it/s]\n",
      "INFO:root:fold: VALID; iteration: 40; my_valid/acc: 0.624614329790881; objective: 1.3270199231497228; \n",
      "INFO:root:fold: TRAIN; iteration: 41; objective: 1.3481894731521606; \n",
      "INFO:root:fold: TRAIN; iteration: 42; objective: 1.5499541759490967; \n",
      "INFO:root:fold: TRAIN; iteration: 43; objective: 1.0678093433380127; \n",
      "INFO:root:fold: TRAIN; iteration: 44; objective: 1.4036829471588135; \n",
      "INFO:root:fold: TRAIN; iteration: 45; objective: 1.144822597503662; \n",
      "INFO:root:fold: TRAIN; iteration: 46; objective: 1.2246692180633545; \n",
      "INFO:root:fold: TRAIN; iteration: 47; objective: 1.2673747539520264; \n",
      "INFO:root:fold: TRAIN; iteration: 48; objective: 1.057615041732788; \n",
      "INFO:root:fold: TRAIN; iteration: 49; objective: 1.2163496017456055; \n",
      "INFO:root:fold: TRAIN; iteration: 50; objective: 1.530818223953247; \n",
      "100%|████████████████████████████████████████████████████████████████████████████████████████████████████████████████████████████████████████████████████| 2917/2917 [00:01<00:00, 1468.03it/s]\n",
      "INFO:root:fold: VALID; iteration: 50; my_valid/acc: 0.655810764484059; objective: 1.0999873921479264; \n",
      "INFO:root:fold: TRAIN; iteration: 51; objective: 0.9093157052993774; \n",
      "INFO:root:fold: TRAIN; iteration: 52; objective: 0.8649141192436218; \n",
      "INFO:root:fold: TRAIN; iteration: 53; objective: 0.6769917011260986; \n",
      "INFO:root:fold: TRAIN; iteration: 54; objective: 0.8237091302871704; \n",
      "INFO:root:fold: TRAIN; iteration: 55; objective: 0.9051357507705688; \n",
      "INFO:root:fold: TRAIN; iteration: 56; objective: 1.1652888059616089; \n",
      "INFO:root:fold: TRAIN; iteration: 57; objective: 0.9721485376358032; \n",
      "INFO:root:fold: TRAIN; iteration: 58; objective: 0.7873251438140869; \n",
      "INFO:root:fold: TRAIN; iteration: 59; objective: 0.5108793377876282; \n",
      "INFO:root:fold: TRAIN; iteration: 60; objective: 0.9073575139045715; \n",
      "100%|████████████████████████████████████████████████████████████████████████████████████████████████████████████████████████████████████████████████████| 2917/2917 [00:02<00:00, 1453.45it/s]\n",
      "INFO:root:fold: VALID; iteration: 60; my_valid/acc: 0.7871100445663353; objective: 0.8137197722106764; \n",
      "INFO:root:fold: TRAIN; iteration: 61; objective: 0.955818772315979; \n",
      "INFO:root:fold: TRAIN; iteration: 62; objective: 0.5989598035812378; \n",
      "INFO:root:fold: TRAIN; iteration: 63; objective: 0.6877775192260742; \n",
      "INFO:root:fold: TRAIN; iteration: 64; objective: 0.6506100296974182; \n",
      "INFO:root:fold: TRAIN; iteration: 65; objective: 0.44473332166671753; \n",
      "INFO:root:fold: TRAIN; iteration: 66; objective: 0.6296674013137817; \n",
      "INFO:root:fold: TRAIN; iteration: 67; objective: 0.9905365705490112; \n",
      "INFO:root:fold: TRAIN; iteration: 68; objective: 1.3020446300506592; \n",
      "INFO:root:fold: TRAIN; iteration: 69; objective: 0.6622214913368225; \n",
      "INFO:root:fold: TRAIN; iteration: 70; objective: 0.9807332754135132; \n",
      "100%|████████████████████████████████████████████████████████████████████████████████████████████████████████████████████████████████████████████████████| 2917/2917 [00:02<00:00, 1447.80it/s]\n",
      "INFO:root:fold: VALID; iteration: 70; my_valid/acc: 0.8097360301679808; objective: 0.6732703569306903; \n",
      "INFO:root:fold: TRAIN; iteration: 71; objective: 0.5036309957504272; \n",
      "INFO:root:fold: TRAIN; iteration: 72; objective: 0.5353643298149109; \n",
      "INFO:root:fold: TRAIN; iteration: 73; objective: 0.4259582459926605; \n",
      "INFO:root:fold: TRAIN; iteration: 74; objective: 0.7156941890716553; \n",
      "INFO:root:fold: TRAIN; iteration: 75; objective: 1.0036942958831787; \n",
      "INFO:root:fold: TRAIN; iteration: 76; objective: 0.38229840993881226; \n",
      "INFO:root:fold: TRAIN; iteration: 77; objective: 0.6550864577293396; \n",
      "INFO:root:fold: TRAIN; iteration: 78; objective: 0.750899076461792; \n",
      "INFO:root:fold: TRAIN; iteration: 79; objective: 0.41404104232788086; \n",
      "INFO:root:fold: TRAIN; iteration: 80; objective: 0.4526310861110687; \n"
     ]
    },
    {
     "name": "stderr",
     "output_type": "stream",
     "text": [
      "100%|████████████████████████████████████████████████████████████████████████████████████████████████████████████████████████████████████████████████████| 2917/2917 [00:01<00:00, 1475.50it/s]\n",
      "INFO:root:fold: VALID; iteration: 80; my_valid/acc: 0.8663009941720946; objective: 0.5408257470045188; \n",
      "INFO:root:fold: TRAIN; iteration: 81; objective: 0.5113770365715027; \n",
      "INFO:root:fold: TRAIN; iteration: 82; objective: 0.5134092569351196; \n",
      "INFO:root:fold: TRAIN; iteration: 83; objective: 0.5849499702453613; \n",
      "INFO:root:fold: TRAIN; iteration: 84; objective: 0.6738963723182678; \n",
      "INFO:root:fold: TRAIN; iteration: 85; objective: 0.2836281657218933; \n",
      "INFO:root:fold: TRAIN; iteration: 86; objective: 0.2135278731584549; \n",
      "INFO:root:fold: TRAIN; iteration: 87; objective: 0.6622745990753174; \n",
      "INFO:root:fold: TRAIN; iteration: 88; objective: 0.4997749924659729; \n",
      "INFO:root:fold: TRAIN; iteration: 89; objective: 0.5573866963386536; \n",
      "INFO:root:fold: TRAIN; iteration: 90; objective: 0.24344868957996368; \n",
      "100%|████████████████████████████████████████████████████████████████████████████████████████████████████████████████████████████████████████████████████| 2917/2917 [00:01<00:00, 1463.02it/s]\n",
      "INFO:root:fold: VALID; iteration: 90; my_valid/acc: 0.8549880013712718; objective: 0.5347362626599123; \n",
      "INFO:root:fold: TRAIN; iteration: 91; objective: 0.8370794057846069; \n",
      "INFO:root:fold: TRAIN; iteration: 92; objective: 0.353643000125885; \n",
      "INFO:root:fold: TRAIN; iteration: 93; objective: 0.48435693979263306; \n",
      "INFO:root:fold: TRAIN; iteration: 94; objective: 1.3528252840042114; \n",
      "INFO:root:fold: TRAIN; iteration: 95; objective: 0.3474675118923187; \n",
      "INFO:root:fold: TRAIN; iteration: 96; objective: 0.44265326857566833; \n",
      "INFO:root:fold: TRAIN; iteration: 97; objective: 0.38781458139419556; \n",
      "INFO:root:fold: TRAIN; iteration: 98; objective: 1.1820679903030396; \n",
      "INFO:root:fold: TRAIN; iteration: 99; objective: 0.32649117708206177; \n",
      "INFO:root:fold: TRAIN; iteration: 100; objective: 0.6596584916114807; \n",
      "100%|████████████████████████████████████████████████████████████████████████████████████████████████████████████████████████████████████████████████████| 2917/2917 [00:01<00:00, 1479.94it/s]\n",
      "INFO:root:fold: VALID; iteration: 100; my_valid/acc: 0.8615015426808365; objective: 0.523688334257227; \n"
     ]
    }
   ],
   "source": [
    "from torch.optim import Adam\n",
    "from torch.nn.functional import cross_entropy\n",
    "\n",
    "from pinnacledb.core.metric import Metric\n",
    "from pinnacledb.metrics.classification import compute_classification_metrics\n",
    "from pinnacledb.core.dataset import Dataset\n",
    "from pinnacledb.models.torch.wrapper import TorchTrainerConfiguration\n",
    "\n",
    "\n",
    "job = model.fit(\n",
    "    X='img',\n",
    "    y='class',\n",
    "    db=db,\n",
    "    select=Collection(name='mnist').find(),\n",
    "    configuration=TorchTrainerConfiguration(\n",
    "        identifier='my_configuration',\n",
    "        objective=cross_entropy,\n",
    "        loader_kwargs={'batch_size': 10},\n",
    "        max_iterations=100,\n",
    "        validation_interval=10,\n",
    "        compute_metrics=compute_classification_metrics,\n",
    "    ),\n",
    "    metrics=[Metric(identifier='acc', object=lambda x, y: x == y)],\n",
    "    validation_sets=[\n",
    "        Dataset(\n",
    "            identifier='my_valid',\n",
    "            select=Collection(name='mnist').find({'_fold': 'valid'}),\n",
    "            db=db,\n",
    "        )\n",
    "    ],\n",
    "    distributed=False\n",
    ")"
   ]
  },
  {
   "cell_type": "code",
   "execution_count": 14,
   "id": "ca2f9e8d",
   "metadata": {},
   "outputs": [
    {
     "data": {
      "text/plain": [
       "[{'identifier': 'c8b53e5e-7ce6-4694-88b9-5c2960341923',\n",
       "  'time': datetime.datetime(2023, 7, 14, 12, 16, 36, 917000),\n",
       "  'status': 'success'}]"
      ]
     },
     "execution_count": 14,
     "metadata": {},
     "output_type": "execute_result"
    }
   ],
   "source": [
    "db.metadata.show_jobs()"
   ]
  },
  {
   "cell_type": "code",
   "execution_count": 16,
   "id": "2fc6f330",
   "metadata": {},
   "outputs": [
    {
     "data": {
      "text/plain": [
       "TorchModel(identifier='lenet5', object=<Artifact artifact=LeNet5(\n",
       "  (layer1): Sequential(\n",
       "    (0): Conv2d(1, 6, kernel_size=(5, 5), stride=(1, 1))\n",
       "    (1): BatchNorm2d(6, eps=1e-05, momentum=0.1, affine=True, track_running_stats=True)\n",
       "    (2): ReLU()\n",
       "    (3): MaxPool2d(kernel_size=2, stride=2, padding=0, dilation=1, ceil_mode=False)\n",
       "  )\n",
       "  (layer2): Sequential(\n",
       "    (0): Conv2d(6, 16, kernel_size=(5, 5), stride=(1, 1))\n",
       "    (1): BatchNorm2d(16, eps=1e-05, momentum=0.1, affine=True, track_running_stats=True)\n",
       "    (2): ReLU()\n",
       "    (3): MaxPool2d(kernel_size=2, stride=2, padding=0, dilation=1, ceil_mode=False)\n",
       "  )\n",
       "  (fc): Linear(in_features=400, out_features=120, bias=True)\n",
       "  (relu): ReLU()\n",
       "  (fc1): Linear(in_features=120, out_features=84, bias=True)\n",
       "  (relu1): ReLU()\n",
       "  (fc2): Linear(in_features=84, out_features=10, bias=True)\n",
       ") serializer=torch>, encoder=None, train_X='img', train_y='class', training_select=Find(collection=Collection(name='mnist'), like_parent=None, args=[], kwargs={}, type_id='mongodb.Find'), metrics=[Metric(identifier='acc', object=<Artifact artifact=<function <lambda> at 0x185df8430> serializer=dill>, version=None)], training_configuration=TorchTrainerConfiguration(identifier='my_configuration', kwargs=None, objective=<Artifact artifact=<function cross_entropy at 0x161652310> serializer=dill>, loader_kwargs={'batch_size': 10}, max_iterations=100, no_improve_then_stop=5, splitter=None, download=False, validation_interval=10, watch='objective', optimizer_cls=<Artifact artifact=<class 'torch.optim.adam.Adam'> serializer=pickle>, optimizer_kwargs={}, target_preprocessors=None, compute_metrics=<Artifact artifact=<function compute_classification_metrics at 0x17f69bca0> serializer=dill>), version=0, metric_values={'my_valid/acc': [0.10558793280767913, 0.3225917038052794, 0.38189921151868356, 0.6208433321906068, 0.624614329790881, 0.655810764484059, 0.7871100445663353, 0.8097360301679808, 0.8663009941720946, 0.8549880013712718, 0.8615015426808365], 'objective': [2.3024406808696383, 2.1036537154896617, 1.8714400391056114, 1.5691545797537452, 1.3270199231497228, 1.0999873921479264, 0.8137197722106764, 0.6732703569306903, 0.5408257470045188, 0.5347362626599123, 0.523688334257227]}, future=None, collate_fn=None, is_batch=None, num_directions=2, preprocess=<Artifact artifact=<function preprocess at 0x186616040> serializer=dill>, postprocess=<Artifact artifact=<function postprocess at 0x1866160d0> serializer=dill>, optimizer_state=None)"
      ]
     },
     "execution_count": 16,
     "metadata": {},
     "output_type": "execute_result"
    }
   ],
   "source": [
    "model"
   ]
  },
  {
   "cell_type": "code",
   "execution_count": 15,
   "id": "200d3be1",
   "metadata": {},
   "outputs": [
    {
     "data": {
      "image/png": "[encoded data removed]",
      "text/plain": [
       "<Figure size 640x480 with 1 Axes>"
      ]
     },
     "metadata": {},
     "output_type": "display_data"
    }
   ],
   "source": [
    "from matplotlib import pyplot as plt\n",
    "\n",
    "model = db.load('model', model.identifier)\n",
    "\n",
    "plt.plot(model.metric_values['my_valid/acc'])\n",
    "plt.show()"
   ]
  },
  {
   "cell_type": "code",
   "execution_count": 17,
   "id": "f0e53249",
   "metadata": {},
   "outputs": [
    {
     "name": "stderr",
     "output_type": "stream",
     "text": [
      "INFO:root:Created watcher/lenet5/img/0\n",
      "WARNING:root:model/lenet5/0 already exists - doing nothing\n",
      "WARNING:root:model/lenet5/0 already exists - doing nothing\n",
      "WARNING:root:model/lenet5/0 already exists - doing nothing\n",
      "100%|████████████████████████████████████████████████████████████████████████████████████████████████████████████████████████████████████████████████████| 5000/5000 [00:03<00:00, 1363.75it/s]\n",
      "WARNING:root:model/lenet5/0 already exists - doing nothing\n",
      "100%|████████████████████████████████████████████████████████████████████████████████████████████████████████████████████████████████████████████████████| 5000/5000 [00:03<00:00, 1386.82it/s]\n",
      "WARNING:root:model/lenet5/0 already exists - doing nothing\n",
      "100%|████████████████████████████████████████████████████████████████████████████████████████████████████████████████████████████████████████████████████| 5000/5000 [00:03<00:00, 1392.90it/s]\n",
      "WARNING:root:model/lenet5/0 already exists - doing nothing\n",
      "100%|████████████████████████████████████████████████████████████████████████████████████████████████████████████████████████████████████████████████████| 5000/5000 [00:03<00:00, 1385.85it/s]\n",
      "WARNING:root:model/lenet5/0 already exists - doing nothing\n",
      "100%|████████████████████████████████████████████████████████████████████████████████████████████████████████████████████████████████████████████████████| 5000/5000 [00:03<00:00, 1391.88it/s]\n",
      "WARNING:root:model/lenet5/0 already exists - doing nothing\n",
      "100%|████████████████████████████████████████████████████████████████████████████████████████████████████████████████████████████████████████████████████| 5000/5000 [00:03<00:00, 1391.55it/s]\n",
      "WARNING:root:model/lenet5/0 already exists - doing nothing\n",
      "100%|████████████████████████████████████████████████████████████████████████████████████████████████████████████████████████████████████████████████████| 5000/5000 [00:03<00:00, 1393.28it/s]\n",
      "WARNING:root:model/lenet5/0 already exists - doing nothing\n",
      "100%|████████████████████████████████████████████████████████████████████████████████████████████████████████████████████████████████████████████████████| 5000/5000 [00:03<00:00, 1370.13it/s]\n",
      "WARNING:root:model/lenet5/0 already exists - doing nothing\n",
      "100%|████████████████████████████████████████████████████████████████████████████████████████████████████████████████████████████████████████████████████| 5000/5000 [00:03<00:00, 1382.76it/s]\n",
      "WARNING:root:model/lenet5/0 already exists - doing nothing\n",
      "100%|████████████████████████████████████████████████████████████████████████████████████████████████████████████████████████████████████████████████████| 5000/5000 [00:03<00:00, 1393.79it/s]\n",
      "WARNING:root:model/lenet5/0 already exists - doing nothing\n",
      "100%|████████████████████████████████████████████████████████████████████████████████████████████████████████████████████████████████████████████████████| 5000/5000 [00:03<00:00, 1388.31it/s]\n",
      "WARNING:root:model/lenet5/0 already exists - doing nothing\n",
      "100%|████████████████████████████████████████████████████████████████████████████████████████████████████████████████████████████████████████████████████| 4000/4000 [00:02<00:00, 1388.48it/s]\n"
     ]
    }
   ],
   "source": [
    "from pinnacledb.core.watcher import Watcher\n",
    "\n",
    "jobs = db.add(\n",
    "    Watcher(\n",
    "        model=model,\n",
    "        key='img',\n",
    "        select=collection.find(),\n",
    "    )\n",
    ")"
   ]
  },
  {
   "cell_type": "code",
   "execution_count": 18,
   "id": "c1aa56d0",
   "metadata": {},
   "outputs": [
    {
     "name": "stderr",
     "output_type": "stream",
     "text": [
      "INFO:root:found 0 uris\n",
      "WARNING:root:model/lenet5/0 already exists - doing nothing\n",
      "100%|████████████████████████████████████████████████████████████████████████████████████████████████████████████████████████████████████████████████████| 1000/1000 [00:00<00:00, 1381.18it/s]\n"
     ]
    },
    {
     "data": {
      "text/plain": [
       "(<pymongo.results.InsertManyResult at 0x184090a60>,\n",
       " TaskWorkflow(database=<pinnacledb.datalayer.base.database.BaseDatabase object at 0x17db79700>, G=<networkx.classes.digraph.DiGraph object at 0x184090ee0>))"
      ]
     },
     "execution_count": 18,
     "metadata": {},
     "output_type": "execute_result"
    }
   ],
   "source": [
    "for r in data[-1000:]:\n",
    "    r['update'] = True\n",
    "\n",
    "db.execute(Collection('docs').insert_many(data[-1000:]))"
   ]
  },
  {
   "cell_type": "code",
   "execution_count": null,
   "id": "d8161983",
   "metadata": {},
   "outputs": [],
   "source": [
    "db.execute(Collection('docs').find_one({'update': True}))"
   ]
  }
 ],
 "metadata": {
  "kernelspec": {
   "display_name": "Python 3 (ipykernel)",
   "language": "python",
   "name": "python3"
  },
  "language_info": {
   "codemirror_mode": {
    "name": "ipython",
    "version": 3
   },
   "file_extension": ".py",
   "mimetype": "text/x-python",
   "name": "python",
   "nbconvert_exporter": "python",
   "pygments_lexer": "ipython3",
   "version": "3.8.16"
  }
 },
 "nbformat": 4,
 "nbformat_minor": 5
}
