{
 "cells": [
  {
   "cell_type": "markdown",
   "id": "2a6ac9b2",
   "metadata": {},
   "source": [
    "# MNIST: Handwritten digit recognition with SuperDuperDB"
   ]
  },
  {
   "cell_type": "markdown",
   "id": "8c096450",
   "metadata": {},
   "source": [
    "The [MNIST dataset](https://en.wikipedia.org/wiki/MNIST_database) is the classic hello-world for machine learning and AI.\n",
    "\n",
    "In this tutorial we implement MNIST classification using the paradigmatic \"LeNet\" based on the un-preprocessed images.\n",
    "\n",
    "First we import the SuperDuperDB client, and create a fresh collection."
   ]
  },
  {
   "cell_type": "code",
   "execution_count": 1,
   "id": "32752579",
   "metadata": {},
   "outputs": [],
   "source": [
    "from pinnacledb.dbs.mongodb.client import SuperDuperClient\n",
    "\n",
    "import io\n",
    "import numpy\n",
    "import PIL.Image\n",
    "import PIL.JpegImagePlugin\n",
    "import PIL.PngImagePlugin\n",
    "import torch\n",
    "from torchvision import transforms\n",
    "import torchvision\n",
    "\n",
    "the_client = SuperDuperClient()\n",
    "docs = the_client.mnist.digits"
   ]
  },
  {
   "cell_type": "markdown",
   "id": "c5938a97",
   "metadata": {},
   "source": [
    "The data is available as `PIL.Image` images with labels in the `torchvision` package:"
   ]
  },
  {
   "cell_type": "code",
   "execution_count": 2,
   "id": "a767f640",
   "metadata": {},
   "outputs": [],
   "source": [
    "import random\n",
    "\n",
    "mnist_data = list(torchvision.datasets.MNIST(root='./data', download=True))\n",
    "random.shuffle(mnist_data)"
   ]
  },
  {
   "cell_type": "markdown",
   "id": "9d6c4852",
   "metadata": {},
   "source": [
    "SuperDuperDB is based on MongoDB, which does not support images and tensors and other special data types out of the box. In order to remedy this, we create custom SuperDuperDB **types**.\n",
    "These types handle:\n",
    "    \n",
    "- How to store images as bytes in SuperDuperDB and how to reinstantiate the images from the bytes\n",
    "- How to store tensors in SuperDuperDB and how to retrieve these from the database again\n",
    "\n",
    "We do this by creating the classes in python with `.encode` and `.decode` methods:"
   ]
  },
  {
   "cell_type": "code",
   "execution_count": 3,
   "id": "37eb3b32",
   "metadata": {},
   "outputs": [],
   "source": [
    "class Image:\n",
    "    types = (PIL.JpegImagePlugin.JpegImageFile, PIL.Image.Image,\n",
    "             PIL.PngImagePlugin.PngImageFile)\n",
    "\n",
    "    @staticmethod\n",
    "    def encode(x):\n",
    "        buffer = io.BytesIO()\n",
    "        x.save(buffer, format='png')\n",
    "        return buffer.getvalue()\n",
    "\n",
    "    @staticmethod\n",
    "    def decode(bytes_):\n",
    "        return PIL.Image.open(io.BytesIO(bytes_))\n",
    "\n",
    "\n",
    "class FloatTensor:\n",
    "    types = (torch.FloatTensor, torch.Tensor)\n",
    "\n",
    "    @staticmethod\n",
    "    def encode(x):\n",
    "        x = x.numpy()\n",
    "        assert x.dtype == numpy.float32\n",
    "        return memoryview(x).tobytes()\n",
    "\n",
    "    @staticmethod\n",
    "    def decode(bytes_):\n",
    "        array = numpy.frombuffer(bytes_, dtype=numpy.float32)\n",
    "        return torch.from_numpy(array).type(torch.float)"
   ]
  },
  {
   "cell_type": "markdown",
   "id": "39fcc7a8",
   "metadata": {},
   "source": [
    "Once these classes are ready, we can add instances of these to SuperDuperDB, giving each type a suitable name:"
   ]
  },
  {
   "cell_type": "code",
   "execution_count": null,
   "id": "d53db4cf",
   "metadata": {},
   "outputs": [],
   "source": [
    "docs.create_type('image', Image(), serializer='dill')\n",
    "docs.create_type('float_tensor', FloatTensor(), serializer='dill')"
   ]
  },
  {
   "cell_type": "markdown",
   "id": "0fde0ff4",
   "metadata": {},
   "source": [
    "Now we have these custom types, we can insert the data into SuperDuperDB:"
   ]
  },
  {
   "cell_type": "code",
   "execution_count": 5,
   "id": "ab329bef",
   "metadata": {
    "scrolled": false
   },
   "outputs": [
    {
     "name": "stderr",
     "output_type": "stream",
     "text": [
      "IOPub data rate exceeded.\n",
      "The notebook server will temporarily stop sending output\n",
      "to the client in order to avoid crashing it.\n",
      "To change this limit, set the config variable\n",
      "`--NotebookApp.iopub_data_rate_limit`.\n",
      "\n",
      "Current values:\n",
      "NotebookApp.iopub_data_rate_limit=1000000.0 (bytes/sec)\n",
      "NotebookApp.rate_limit_window=3.0 (secs)\n",
      "\n"
     ]
    },
    {
     "name": "stdout",
     "output_type": "stream",
     "text": [
      "found 0 urls\n"
     ]
    }
   ],
   "source": [
    "_, jobs = docs.insert_many([{'img': x[0], 'class': x[1]} for x in mnist_data[:-1000]])"
   ]
  },
  {
   "cell_type": "code",
   "execution_count": 6,
   "id": "017710cb",
   "metadata": {},
   "outputs": [
    {
     "data": {
      "text/plain": [
       "<pinnacledb.cluster.task_workflow.TaskWorkflow at 0x189acb760>"
      ]
     },
     "execution_count": 6,
     "metadata": {},
     "output_type": "execute_result"
    }
   ],
   "source": [
    "jobs"
   ]
  },
  {
   "cell_type": "markdown",
   "id": "029370c4",
   "metadata": {},
   "source": [
    "When data is inserted into SuperDuperDB, certain actions/ jobs are triggered. These include downloading content into the database from provided URIs, and running model **watchers** over the added data, if these have been added.\n",
    "\n",
    "The second output from the `insert_many` statement give a dictionary of ids of the asynchronous jobs which were created.\n",
    "These can also be seen in the job list:"
   ]
  },
  {
   "cell_type": "code",
   "execution_count": 7,
   "id": "34754835",
   "metadata": {
    "scrolled": false
   },
   "outputs": [
    {
     "data": {
      "text/plain": [
       "[]"
      ]
     },
     "execution_count": 7,
     "metadata": {},
     "output_type": "execute_result"
    }
   ],
   "source": [
    "docs.database.list_jobs()"
   ]
  },
  {
   "cell_type": "markdown",
   "id": "935f0f4c",
   "metadata": {},
   "source": [
    "In this case, only one job was created - to download content. We can watch the stdout/stderr of this job like this:"
   ]
  },
  {
   "cell_type": "code",
   "execution_count": null,
   "id": "f94ed471",
   "metadata": {},
   "outputs": [],
   "source": [
    "docs.watch_job(jobs['_download_content'][0])"
   ]
  },
  {
   "cell_type": "markdown",
   "id": "c69d8bad",
   "metadata": {},
   "source": [
    "You can see that all data apart from the final 1000 have been added:"
   ]
  },
  {
   "cell_type": "code",
   "execution_count": 8,
   "id": "e686e9ff",
   "metadata": {},
   "outputs": [
    {
     "data": {
      "text/plain": [
       "59000"
      ]
     },
     "execution_count": 8,
     "metadata": {},
     "output_type": "execute_result"
    }
   ],
   "source": [
    "docs.count_documents({})"
   ]
  },
  {
   "cell_type": "markdown",
   "id": "cb82b244",
   "metadata": {},
   "source": [
    "You'll see that when we fetch data from the database, it's in exactly the form that we want. For example, the images have been saved and recalled as `PIL.Image` types."
   ]
  },
  {
   "cell_type": "code",
   "execution_count": 9,
   "id": "e0db28bd",
   "metadata": {},
   "outputs": [
    {
     "data": {
      "image/png": "[encoded data removed]",
      "text/plain": [
       "<PIL.PngImagePlugin.PngImageFile image mode=L size=28x28>"
      ]
     },
     "execution_count": 9,
     "metadata": {},
     "output_type": "execute_result"
    }
   ],
   "source": [
    "docs.find_one()['img']"
   ]
  },
  {
   "cell_type": "markdown",
   "id": "43f47ac2",
   "metadata": {},
   "source": [
    "Now that we've added the data to SuperDuperDB, we're ready to create a model. This is a simple PyTorch model implementing the iconic [LeNet architecture](https://en.wikipedia.org/wiki/LeNet). In addition to the standard PyTorch `.forward` method, SuperDuperDB allows users to specify `.preprocess` and `.postprocess` methods which define respectively:\n",
    "\n",
    "- how the data is converted from the in-database form, to tensor\n",
    "- from the output form back into the form to be stored in the database"
   ]
  },
  {
   "cell_type": "code",
   "execution_count": 10,
   "id": "e1af679f",
   "metadata": {},
   "outputs": [],
   "source": [
    "def label(x):\n",
    "    return torch.tensor(x)\n",
    "\n",
    "\n",
    "class LeNet5(torch.nn.Module):\n",
    "    def __init__(self, num_classes):\n",
    "        super().__init__()\n",
    "        self.layer1 = torch.nn.Sequential(\n",
    "            torch.nn.Conv2d(1, 6, kernel_size=5, stride=1, padding=0),\n",
    "            torch.nn.BatchNorm2d(6),\n",
    "            torch.nn.ReLU(),\n",
    "            torch.nn.MaxPool2d(kernel_size=2, stride=2))\n",
    "        self.layer2 = torch.nn.Sequential(\n",
    "            torch.nn.Conv2d(6, 16, kernel_size=5, stride=1, padding=0),\n",
    "            torch.nn.BatchNorm2d(16),\n",
    "            torch.nn.ReLU(),\n",
    "            torch.nn.MaxPool2d(kernel_size=2, stride=2))\n",
    "        self.fc = torch.nn.Linear(400, 120)\n",
    "        self.relu = torch.nn.ReLU()\n",
    "        self.fc1 = torch.nn.Linear(120, 84)\n",
    "        self.relu1 = torch.nn.ReLU()\n",
    "        self.fc2 = torch.nn.Linear(84, num_classes)\n",
    "\n",
    "    def preprocess(self, x):\n",
    "        return transforms.Compose([\n",
    "            transforms.Resize((32, 32)),\n",
    "            transforms.ToTensor(),\n",
    "            transforms.Normalize(mean=(0.1307,), std=(0.3081,))]\n",
    "        )(x)\n",
    "\n",
    "    def forward(self, x):\n",
    "        out = self.layer1(x)\n",
    "        out = self.layer2(out)\n",
    "        out = out.reshape(out.size(0), -1)\n",
    "        out = self.fc(out)\n",
    "        out = self.relu(out)\n",
    "        out = self.fc1(out)\n",
    "        out = self.relu1(out)\n",
    "        out = self.fc2(out)\n",
    "        return out\n",
    "\n",
    "    def postprocess(self, x):\n",
    "        return int(x.topk(1)[1].item())"
   ]
  },
  {
   "cell_type": "markdown",
   "id": "cac1be87",
   "metadata": {},
   "source": [
    "Let's test this model on a single image. `Collection.apply_model` applies the `preprocess`, `forward` and `postprocess` methods serially, creating a singleton batch prior to the `forward` and unpacking the batch after the `forward`. A similar logic is applied in all functionality which involves applying a model to the data. "
   ]
  },
  {
   "cell_type": "code",
   "execution_count": 11,
   "id": "793093a8",
   "metadata": {
    "scrolled": false
   },
   "outputs": [
    {
     "data": {
      "text/html": [
       "<pre style=\"white-space:pre;overflow-x:auto;line-height:normal;font-family:Menlo,'DejaVu Sans Mono',consolas,'Courier New',monospace\"><span style=\"color: #800000; text-decoration-color: #800000\">╭─────────────────────────────── </span><span style=\"color: #800000; text-decoration-color: #800000; font-weight: bold\">Traceback </span><span style=\"color: #bf7f7f; text-decoration-color: #bf7f7f; font-weight: bold\">(most recent call last)</span><span style=\"color: #800000; text-decoration-color: #800000\"> ────────────────────────────────╮</span>\n",
       "<span style=\"color: #800000; text-decoration-color: #800000\">│</span> <span style=\"color: #bfbf7f; text-decoration-color: #bfbf7f\">/var/folders/y9/b74b9yj906s_wtj0rrh2lf7c0000gn/T/ipykernel_15465/</span><span style=\"color: #808000; text-decoration-color: #808000; font-weight: bold\">4273420027.py</span>:<span style=\"color: #0000ff; text-decoration-color: #0000ff\">1</span> in <span style=\"color: #00ff00; text-decoration-color: #00ff00\">&lt;module&gt;</span>     <span style=\"color: #800000; text-decoration-color: #800000\">│</span>\n",
       "<span style=\"color: #800000; text-decoration-color: #800000\">│</span>                                                                                                  <span style=\"color: #800000; text-decoration-color: #800000\">│</span>\n",
       "<span style=\"color: #800000; text-decoration-color: #800000\">│</span> <span style=\"color: #800000; text-decoration-color: #800000; font-style: italic\">[Errno 2] No such file or directory: </span>                                                            <span style=\"color: #800000; text-decoration-color: #800000\">│</span>\n",
       "<span style=\"color: #800000; text-decoration-color: #800000\">│</span> <span style=\"color: #800000; text-decoration-color: #800000; font-style: italic\">'/var/folders/y9/b74b9yj906s_wtj0rrh2lf7c0000gn/T/ipykernel_15465/4273420027.py'</span>                 <span style=\"color: #800000; text-decoration-color: #800000\">│</span>\n",
       "<span style=\"color: #800000; text-decoration-color: #800000\">│</span>                                                                                                  <span style=\"color: #800000; text-decoration-color: #800000\">│</span>\n",
       "<span style=\"color: #800000; text-decoration-color: #800000\">│</span> <span style=\"color: #bfbf7f; text-decoration-color: #bfbf7f\">/Users/dodo/SuperDuperDB/pinnacledb/pinnacledb/dbs/mongodb/</span><span style=\"color: #808000; text-decoration-color: #808000; font-weight: bold\">collection.py</span>:<span style=\"color: #0000ff; text-decoration-color: #0000ff\">84</span> in <span style=\"color: #00ff00; text-decoration-color: #00ff00\">predict_one</span>   <span style=\"color: #800000; text-decoration-color: #800000\">│</span>\n",
       "<span style=\"color: #800000; text-decoration-color: #800000\">│</span>                                                                                                  <span style=\"color: #800000; text-decoration-color: #800000\">│</span>\n",
       "<span style=\"color: #800000; text-decoration-color: #800000\">│</span>   <span style=\"color: #7f7f7f; text-decoration-color: #7f7f7f\"> 81 │   │   </span><span style=\"color: #0000ff; text-decoration-color: #0000ff\">return</span> <span style=\"color: #00ffff; text-decoration-color: #00ffff\">self</span>.database.predict(*args, **kwargs)                                      <span style=\"color: #800000; text-decoration-color: #800000\">│</span>\n",
       "<span style=\"color: #800000; text-decoration-color: #800000\">│</span>   <span style=\"color: #7f7f7f; text-decoration-color: #7f7f7f\"> 82 │   </span>                                                                                       <span style=\"color: #800000; text-decoration-color: #800000\">│</span>\n",
       "<span style=\"color: #800000; text-decoration-color: #800000\">│</span>   <span style=\"color: #7f7f7f; text-decoration-color: #7f7f7f\"> 83 │   </span><span style=\"color: #0000ff; text-decoration-color: #0000ff\">def</span> <span style=\"color: #00ff00; text-decoration-color: #00ff00\">predict_one</span>(<span style=\"color: #00ffff; text-decoration-color: #00ffff\">self</span>, *args, **kwargs):                                                <span style=\"color: #800000; text-decoration-color: #800000\">│</span>\n",
       "<span style=\"color: #800000; text-decoration-color: #800000\">│</span> <span style=\"color: #800000; text-decoration-color: #800000\">❱ </span> 84 <span style=\"color: #7f7f7f; text-decoration-color: #7f7f7f\">│   │   </span><span style=\"color: #0000ff; text-decoration-color: #0000ff\">return</span> <span style=\"color: #00ffff; text-decoration-color: #00ffff\">self</span>.database.predict_one(*args, **kwargs)                                  <span style=\"color: #800000; text-decoration-color: #800000\">│</span>\n",
       "<span style=\"color: #800000; text-decoration-color: #800000\">│</span>   <span style=\"color: #7f7f7f; text-decoration-color: #7f7f7f\"> 85 │   </span>                                                                                       <span style=\"color: #800000; text-decoration-color: #800000\">│</span>\n",
       "<span style=\"color: #800000; text-decoration-color: #800000\">│</span>   <span style=\"color: #7f7f7f; text-decoration-color: #7f7f7f\"> 86 │   </span><span style=\"color: #0000ff; text-decoration-color: #0000ff\">def</span> <span style=\"color: #00ff00; text-decoration-color: #00ff00\">cancel_job</span>(<span style=\"color: #00ffff; text-decoration-color: #00ffff\">self</span>, job_id):                                                          <span style=\"color: #800000; text-decoration-color: #800000\">│</span>\n",
       "<span style=\"color: #800000; text-decoration-color: #800000\">│</span>   <span style=\"color: #7f7f7f; text-decoration-color: #7f7f7f\"> 87 │   │   </span><span style=\"color: #0000ff; text-decoration-color: #0000ff\">return</span> <span style=\"color: #00ffff; text-decoration-color: #00ffff\">self</span>.database.cancel_job(job_id)                                            <span style=\"color: #800000; text-decoration-color: #800000\">│</span>\n",
       "<span style=\"color: #800000; text-decoration-color: #800000\">│</span>                                                                                                  <span style=\"color: #800000; text-decoration-color: #800000\">│</span>\n",
       "<span style=\"color: #800000; text-decoration-color: #800000\">│</span> <span style=\"color: #bfbf7f; text-decoration-color: #bfbf7f\">/Users/dodo/SuperDuperDB/pinnacledb/pinnacledb/cluster/</span><span style=\"color: #808000; text-decoration-color: #808000; font-weight: bold\">client_decorators.py</span>:<span style=\"color: #0000ff; text-decoration-color: #0000ff\">81</span> in            <span style=\"color: #800000; text-decoration-color: #800000\">│</span>\n",
       "<span style=\"color: #800000; text-decoration-color: #800000\">│</span> <span style=\"color: #00ff00; text-decoration-color: #00ff00\">model_server_wrapper</span>                                                                             <span style=\"color: #800000; text-decoration-color: #800000\">│</span>\n",
       "<span style=\"color: #800000; text-decoration-color: #800000\">│</span>                                                                                                  <span style=\"color: #800000; text-decoration-color: #800000\">│</span>\n",
       "<span style=\"color: #800000; text-decoration-color: #800000\">│</span>   <span style=\"color: #7f7f7f; text-decoration-color: #7f7f7f\"> 78 │   │   │   │   </span>out = database.convert_from_bytes_to_types(out)                            <span style=\"color: #800000; text-decoration-color: #800000\">│</span>\n",
       "<span style=\"color: #800000; text-decoration-color: #800000\">│</span>   <span style=\"color: #7f7f7f; text-decoration-color: #7f7f7f\"> 79 │   │   │   </span><span style=\"color: #0000ff; text-decoration-color: #0000ff\">return</span> out                                                                     <span style=\"color: #800000; text-decoration-color: #800000\">│</span>\n",
       "<span style=\"color: #800000; text-decoration-color: #800000\">│</span>   <span style=\"color: #7f7f7f; text-decoration-color: #7f7f7f\"> 80 │   │   </span><span style=\"color: #0000ff; text-decoration-color: #0000ff\">else</span>:                                                                              <span style=\"color: #800000; text-decoration-color: #800000\">│</span>\n",
       "<span style=\"color: #800000; text-decoration-color: #800000\">│</span> <span style=\"color: #800000; text-decoration-color: #800000\">❱ </span> 81 <span style=\"color: #7f7f7f; text-decoration-color: #7f7f7f\">│   │   │   </span><span style=\"color: #0000ff; text-decoration-color: #0000ff\">return</span> f(database, *args, **kwargs, remote=<span style=\"color: #0000ff; text-decoration-color: #0000ff\">False</span>)                              <span style=\"color: #800000; text-decoration-color: #800000\">│</span>\n",
       "<span style=\"color: #800000; text-decoration-color: #800000\">│</span>   <span style=\"color: #7f7f7f; text-decoration-color: #7f7f7f\"> 82 │   </span><span style=\"color: #0000ff; text-decoration-color: #0000ff\">return</span> model_server_wrapper                                                            <span style=\"color: #800000; text-decoration-color: #800000\">│</span>\n",
       "<span style=\"color: #800000; text-decoration-color: #800000\">│</span>   <span style=\"color: #7f7f7f; text-decoration-color: #7f7f7f\"> 83 </span>                                                                                           <span style=\"color: #800000; text-decoration-color: #800000\">│</span>\n",
       "<span style=\"color: #800000; text-decoration-color: #800000\">│</span>   <span style=\"color: #7f7f7f; text-decoration-color: #7f7f7f\"> 84 </span>                                                                                           <span style=\"color: #800000; text-decoration-color: #800000\">│</span>\n",
       "<span style=\"color: #800000; text-decoration-color: #800000\">│</span>                                                                                                  <span style=\"color: #800000; text-decoration-color: #800000\">│</span>\n",
       "<span style=\"color: #800000; text-decoration-color: #800000\">│</span> <span style=\"color: #bfbf7f; text-decoration-color: #bfbf7f\">/Users/dodo/SuperDuperDB/pinnacledb/pinnacledb/dbs/base/</span><span style=\"color: #808000; text-decoration-color: #808000; font-weight: bold\">database.py</span>:<span style=\"color: #0000ff; text-decoration-color: #0000ff\">69</span> in <span style=\"color: #00ff00; text-decoration-color: #00ff00\">predict_one</span>        <span style=\"color: #800000; text-decoration-color: #800000\">│</span>\n",
       "<span style=\"color: #800000; text-decoration-color: #800000\">│</span>                                                                                                  <span style=\"color: #800000; text-decoration-color: #800000\">│</span>\n",
       "<span style=\"color: #800000; text-decoration-color: #800000\">│</span>   <span style=\"color: #7f7f7f; text-decoration-color: #7f7f7f\">  66 │   </span><span style=\"color: #0000ff; text-decoration-color: #0000ff\">def</span> <span style=\"color: #00ff00; text-decoration-color: #00ff00\">predict_one</span>(<span style=\"color: #00ffff; text-decoration-color: #00ffff\">self</span>, model, input_: Convertible, **kwargs) -&gt; Convertible:           <span style=\"color: #800000; text-decoration-color: #800000\">│</span>\n",
       "<span style=\"color: #800000; text-decoration-color: #800000\">│</span>   <span style=\"color: #7f7f7f; text-decoration-color: #7f7f7f\">  67 │   │   </span><span style=\"color: #0000ff; text-decoration-color: #0000ff\">if</span> <span style=\"color: #00ffff; text-decoration-color: #00ffff\">isinstance</span>(model, <span style=\"color: #00ffff; text-decoration-color: #00ffff\">str</span>):                                                        <span style=\"color: #800000; text-decoration-color: #800000\">│</span>\n",
       "<span style=\"color: #800000; text-decoration-color: #800000\">│</span>   <span style=\"color: #7f7f7f; text-decoration-color: #7f7f7f\">  68 │   │   │   </span>model = <span style=\"color: #00ffff; text-decoration-color: #00ffff\">self</span>.models[model]                                                    <span style=\"color: #800000; text-decoration-color: #800000\">│</span>\n",
       "<span style=\"color: #800000; text-decoration-color: #800000\">│</span> <span style=\"color: #800000; text-decoration-color: #800000\">❱ </span>  69 <span style=\"color: #7f7f7f; text-decoration-color: #7f7f7f\">│   │   </span><span style=\"color: #0000ff; text-decoration-color: #0000ff\">return</span> model.predict_one(input_, **{k: v <span style=\"color: #0000ff; text-decoration-color: #0000ff\">for</span> k, v <span style=\"color: #ff00ff; text-decoration-color: #ff00ff\">in</span> kwargs.items() <span style=\"color: #0000ff; text-decoration-color: #0000ff\">if</span> k != <span style=\"color: #808000; text-decoration-color: #808000\">'rem</span>  <span style=\"color: #800000; text-decoration-color: #800000\">│</span>\n",
       "<span style=\"color: #800000; text-decoration-color: #800000\">│</span>   <span style=\"color: #7f7f7f; text-decoration-color: #7f7f7f\">  70 │   </span>                                                                                      <span style=\"color: #800000; text-decoration-color: #800000\">│</span>\n",
       "<span style=\"color: #800000; text-decoration-color: #800000\">│</span>   <span style=\"color: #7f7f7f; text-decoration-color: #7f7f7f\">  71 │   </span><span style=\"color: #ff00ff; text-decoration-color: #ff00ff; font-weight: bold\">@model_server</span>                                                                         <span style=\"color: #800000; text-decoration-color: #800000\">│</span>\n",
       "<span style=\"color: #800000; text-decoration-color: #800000\">│</span>   <span style=\"color: #7f7f7f; text-decoration-color: #7f7f7f\">  72 │   </span><span style=\"color: #0000ff; text-decoration-color: #0000ff\">def</span> <span style=\"color: #00ff00; text-decoration-color: #00ff00\">predict</span>(<span style=\"color: #00ffff; text-decoration-color: #00ffff\">self</span>, model, input_: Convertible, **kwargs) -&gt; Convertible:               <span style=\"color: #800000; text-decoration-color: #800000\">│</span>\n",
       "<span style=\"color: #800000; text-decoration-color: #800000\">│</span>                                                                                                  <span style=\"color: #800000; text-decoration-color: #800000\">│</span>\n",
       "<span style=\"color: #800000; text-decoration-color: #800000\">│</span> <span style=\"color: #bfbf7f; text-decoration-color: #bfbf7f\">/Users/dodo/SuperDuperDB/pinnacledb/.venv/lib/python3.10/site-packages/torch/nn/modules/</span><span style=\"color: #808000; text-decoration-color: #808000; font-weight: bold\">module</span> <span style=\"color: #800000; text-decoration-color: #800000\">│</span>\n",
       "<span style=\"color: #800000; text-decoration-color: #800000\">│</span> <span style=\"color: #808000; text-decoration-color: #808000; font-weight: bold\">.py</span>:<span style=\"color: #0000ff; text-decoration-color: #0000ff\">1614</span> in <span style=\"color: #00ff00; text-decoration-color: #00ff00\">__getattr__</span>                                                                          <span style=\"color: #800000; text-decoration-color: #800000\">│</span>\n",
       "<span style=\"color: #800000; text-decoration-color: #800000\">│</span>                                                                                                  <span style=\"color: #800000; text-decoration-color: #800000\">│</span>\n",
       "<span style=\"color: #800000; text-decoration-color: #800000\">│</span>   <span style=\"color: #7f7f7f; text-decoration-color: #7f7f7f\">1611 │   │   │   </span>modules = <span style=\"color: #00ffff; text-decoration-color: #00ffff\">self</span>.<span style=\"color: #ff0000; text-decoration-color: #ff0000\">__dict__</span>[<span style=\"color: #808000; text-decoration-color: #808000\">'_modules'</span>]                                           <span style=\"color: #800000; text-decoration-color: #800000\">│</span>\n",
       "<span style=\"color: #800000; text-decoration-color: #800000\">│</span>   <span style=\"color: #7f7f7f; text-decoration-color: #7f7f7f\">1612 │   │   │   </span><span style=\"color: #0000ff; text-decoration-color: #0000ff\">if</span> name <span style=\"color: #ff00ff; text-decoration-color: #ff00ff\">in</span> modules:                                                           <span style=\"color: #800000; text-decoration-color: #800000\">│</span>\n",
       "<span style=\"color: #800000; text-decoration-color: #800000\">│</span>   <span style=\"color: #7f7f7f; text-decoration-color: #7f7f7f\">1613 │   │   │   │   </span><span style=\"color: #0000ff; text-decoration-color: #0000ff\">return</span> modules[name]                                                      <span style=\"color: #800000; text-decoration-color: #800000\">│</span>\n",
       "<span style=\"color: #800000; text-decoration-color: #800000\">│</span> <span style=\"color: #800000; text-decoration-color: #800000\">❱ </span>1614 <span style=\"color: #7f7f7f; text-decoration-color: #7f7f7f\">│   │   </span><span style=\"color: #0000ff; text-decoration-color: #0000ff\">raise</span> <span style=\"color: #00ffff; text-decoration-color: #00ffff\">AttributeError</span>(<span style=\"color: #808000; text-decoration-color: #808000\">\"'{}' object has no attribute '{}'\"</span>.format(                  <span style=\"color: #800000; text-decoration-color: #800000\">│</span>\n",
       "<span style=\"color: #800000; text-decoration-color: #800000\">│</span>   <span style=\"color: #7f7f7f; text-decoration-color: #7f7f7f\">1615 │   │   │   </span><span style=\"color: #00ffff; text-decoration-color: #00ffff\">type</span>(<span style=\"color: #00ffff; text-decoration-color: #00ffff\">self</span>).<span style=\"color: #ff0000; text-decoration-color: #ff0000\">__name__</span>, name))                                                   <span style=\"color: #800000; text-decoration-color: #800000\">│</span>\n",
       "<span style=\"color: #800000; text-decoration-color: #800000\">│</span>   <span style=\"color: #7f7f7f; text-decoration-color: #7f7f7f\">1616 │   </span>                                                                                      <span style=\"color: #800000; text-decoration-color: #800000\">│</span>\n",
       "<span style=\"color: #800000; text-decoration-color: #800000\">│</span>   <span style=\"color: #7f7f7f; text-decoration-color: #7f7f7f\">1617 │   </span><span style=\"color: #0000ff; text-decoration-color: #0000ff\">def</span> <span style=\"color: #00ff00; text-decoration-color: #00ff00\">__setattr__</span>(<span style=\"color: #00ffff; text-decoration-color: #00ffff\">self</span>, name: <span style=\"color: #00ffff; text-decoration-color: #00ffff\">str</span>, value: Union[Tensor, <span style=\"color: #808000; text-decoration-color: #808000\">'Module'</span>]) -&gt; <span style=\"color: #0000ff; text-decoration-color: #0000ff\">None</span>:             <span style=\"color: #800000; text-decoration-color: #800000\">│</span>\n",
       "<span style=\"color: #800000; text-decoration-color: #800000\">╰──────────────────────────────────────────────────────────────────────────────────────────────────╯</span>\n",
       "<span style=\"color: #ff0000; text-decoration-color: #ff0000; font-weight: bold\">AttributeError: </span><span style=\"color: #008000; text-decoration-color: #008000\">'LeNet5'</span> object has no attribute <span style=\"color: #008000; text-decoration-color: #008000\">'predict_one'</span>\n",
       "</pre>\n"
      ],
      "text/plain": [
       "\u001b[31m╭─\u001b[0m\u001b[31m──────────────────────────────\u001b[0m\u001b[31m \u001b[0m\u001b[1;31mTraceback \u001b[0m\u001b[1;2;31m(most recent call last)\u001b[0m\u001b[31m \u001b[0m\u001b[31m───────────────────────────────\u001b[0m\u001b[31m─╮\u001b[0m\n",
       "\u001b[31m│\u001b[0m \u001b[2;33m/var/folders/y9/b74b9yj906s_wtj0rrh2lf7c0000gn/T/ipykernel_15465/\u001b[0m\u001b[1;33m4273420027.py\u001b[0m:\u001b[94m1\u001b[0m in \u001b[92m<module>\u001b[0m     \u001b[31m│\u001b[0m\n",
       "\u001b[31m│\u001b[0m                                                                                                  \u001b[31m│\u001b[0m\n",
       "\u001b[31m│\u001b[0m \u001b[3;31m[Errno 2] No such file or directory: \u001b[0m                                                            \u001b[31m│\u001b[0m\n",
       "\u001b[31m│\u001b[0m \u001b[3;31m'/var/folders/y9/b74b9yj906s_wtj0rrh2lf7c0000gn/T/ipykernel_15465/4273420027.py'\u001b[0m                 \u001b[31m│\u001b[0m\n",
       "\u001b[31m│\u001b[0m                                                                                                  \u001b[31m│\u001b[0m\n",
       "\u001b[31m│\u001b[0m \u001b[2;33m/Users/dodo/SuperDuperDB/pinnacledb/pinnacledb/dbs/mongodb/\u001b[0m\u001b[1;33mcollection.py\u001b[0m:\u001b[94m84\u001b[0m in \u001b[92mpredict_one\u001b[0m   \u001b[31m│\u001b[0m\n",
       "\u001b[31m│\u001b[0m                                                                                                  \u001b[31m│\u001b[0m\n",
       "\u001b[31m│\u001b[0m   \u001b[2m 81 \u001b[0m\u001b[2m│   │   \u001b[0m\u001b[94mreturn\u001b[0m \u001b[96mself\u001b[0m.database.predict(*args, **kwargs)                                      \u001b[31m│\u001b[0m\n",
       "\u001b[31m│\u001b[0m   \u001b[2m 82 \u001b[0m\u001b[2m│   \u001b[0m                                                                                       \u001b[31m│\u001b[0m\n",
       "\u001b[31m│\u001b[0m   \u001b[2m 83 \u001b[0m\u001b[2m│   \u001b[0m\u001b[94mdef\u001b[0m \u001b[92mpredict_one\u001b[0m(\u001b[96mself\u001b[0m, *args, **kwargs):                                                \u001b[31m│\u001b[0m\n",
       "\u001b[31m│\u001b[0m \u001b[31m❱ \u001b[0m 84 \u001b[2m│   │   \u001b[0m\u001b[94mreturn\u001b[0m \u001b[96mself\u001b[0m.database.predict_one(*args, **kwargs)                                  \u001b[31m│\u001b[0m\n",
       "\u001b[31m│\u001b[0m   \u001b[2m 85 \u001b[0m\u001b[2m│   \u001b[0m                                                                                       \u001b[31m│\u001b[0m\n",
       "\u001b[31m│\u001b[0m   \u001b[2m 86 \u001b[0m\u001b[2m│   \u001b[0m\u001b[94mdef\u001b[0m \u001b[92mcancel_job\u001b[0m(\u001b[96mself\u001b[0m, job_id):                                                          \u001b[31m│\u001b[0m\n",
       "\u001b[31m│\u001b[0m   \u001b[2m 87 \u001b[0m\u001b[2m│   │   \u001b[0m\u001b[94mreturn\u001b[0m \u001b[96mself\u001b[0m.database.cancel_job(job_id)                                            \u001b[31m│\u001b[0m\n",
       "\u001b[31m│\u001b[0m                                                                                                  \u001b[31m│\u001b[0m\n",
       "\u001b[31m│\u001b[0m \u001b[2;33m/Users/dodo/SuperDuperDB/pinnacledb/pinnacledb/cluster/\u001b[0m\u001b[1;33mclient_decorators.py\u001b[0m:\u001b[94m81\u001b[0m in            \u001b[31m│\u001b[0m\n",
       "\u001b[31m│\u001b[0m \u001b[92mmodel_server_wrapper\u001b[0m                                                                             \u001b[31m│\u001b[0m\n",
       "\u001b[31m│\u001b[0m                                                                                                  \u001b[31m│\u001b[0m\n",
       "\u001b[31m│\u001b[0m   \u001b[2m 78 \u001b[0m\u001b[2m│   │   │   │   \u001b[0mout = database.convert_from_bytes_to_types(out)                            \u001b[31m│\u001b[0m\n",
       "\u001b[31m│\u001b[0m   \u001b[2m 79 \u001b[0m\u001b[2m│   │   │   \u001b[0m\u001b[94mreturn\u001b[0m out                                                                     \u001b[31m│\u001b[0m\n",
       "\u001b[31m│\u001b[0m   \u001b[2m 80 \u001b[0m\u001b[2m│   │   \u001b[0m\u001b[94melse\u001b[0m:                                                                              \u001b[31m│\u001b[0m\n",
       "\u001b[31m│\u001b[0m \u001b[31m❱ \u001b[0m 81 \u001b[2m│   │   │   \u001b[0m\u001b[94mreturn\u001b[0m f(database, *args, **kwargs, remote=\u001b[94mFalse\u001b[0m)                              \u001b[31m│\u001b[0m\n",
       "\u001b[31m│\u001b[0m   \u001b[2m 82 \u001b[0m\u001b[2m│   \u001b[0m\u001b[94mreturn\u001b[0m model_server_wrapper                                                            \u001b[31m│\u001b[0m\n",
       "\u001b[31m│\u001b[0m   \u001b[2m 83 \u001b[0m                                                                                           \u001b[31m│\u001b[0m\n",
       "\u001b[31m│\u001b[0m   \u001b[2m 84 \u001b[0m                                                                                           \u001b[31m│\u001b[0m\n",
       "\u001b[31m│\u001b[0m                                                                                                  \u001b[31m│\u001b[0m\n",
       "\u001b[31m│\u001b[0m \u001b[2;33m/Users/dodo/SuperDuperDB/pinnacledb/pinnacledb/dbs/base/\u001b[0m\u001b[1;33mdatabase.py\u001b[0m:\u001b[94m69\u001b[0m in \u001b[92mpredict_one\u001b[0m        \u001b[31m│\u001b[0m\n",
       "\u001b[31m│\u001b[0m                                                                                                  \u001b[31m│\u001b[0m\n",
       "\u001b[31m│\u001b[0m   \u001b[2m  66 \u001b[0m\u001b[2m│   \u001b[0m\u001b[94mdef\u001b[0m \u001b[92mpredict_one\u001b[0m(\u001b[96mself\u001b[0m, model, input_: Convertible, **kwargs) -> Convertible:           \u001b[31m│\u001b[0m\n",
       "\u001b[31m│\u001b[0m   \u001b[2m  67 \u001b[0m\u001b[2m│   │   \u001b[0m\u001b[94mif\u001b[0m \u001b[96misinstance\u001b[0m(model, \u001b[96mstr\u001b[0m):                                                        \u001b[31m│\u001b[0m\n",
       "\u001b[31m│\u001b[0m   \u001b[2m  68 \u001b[0m\u001b[2m│   │   │   \u001b[0mmodel = \u001b[96mself\u001b[0m.models[model]                                                    \u001b[31m│\u001b[0m\n",
       "\u001b[31m│\u001b[0m \u001b[31m❱ \u001b[0m  69 \u001b[2m│   │   \u001b[0m\u001b[94mreturn\u001b[0m model.predict_one(input_, **{k: v \u001b[94mfor\u001b[0m k, v \u001b[95min\u001b[0m kwargs.items() \u001b[94mif\u001b[0m k != \u001b[33m'\u001b[0m\u001b[33mrem\u001b[0m  \u001b[31m│\u001b[0m\n",
       "\u001b[31m│\u001b[0m   \u001b[2m  70 \u001b[0m\u001b[2m│   \u001b[0m                                                                                      \u001b[31m│\u001b[0m\n",
       "\u001b[31m│\u001b[0m   \u001b[2m  71 \u001b[0m\u001b[2m│   \u001b[0m\u001b[1;95m@model_server\u001b[0m                                                                         \u001b[31m│\u001b[0m\n",
       "\u001b[31m│\u001b[0m   \u001b[2m  72 \u001b[0m\u001b[2m│   \u001b[0m\u001b[94mdef\u001b[0m \u001b[92mpredict\u001b[0m(\u001b[96mself\u001b[0m, model, input_: Convertible, **kwargs) -> Convertible:               \u001b[31m│\u001b[0m\n",
       "\u001b[31m│\u001b[0m                                                                                                  \u001b[31m│\u001b[0m\n",
       "\u001b[31m│\u001b[0m \u001b[2;33m/Users/dodo/SuperDuperDB/pinnacledb/.venv/lib/python3.10/site-packages/torch/nn/modules/\u001b[0m\u001b[1;33mmodule\u001b[0m \u001b[31m│\u001b[0m\n",
       "\u001b[31m│\u001b[0m \u001b[1;33m.py\u001b[0m:\u001b[94m1614\u001b[0m in \u001b[92m__getattr__\u001b[0m                                                                          \u001b[31m│\u001b[0m\n",
       "\u001b[31m│\u001b[0m                                                                                                  \u001b[31m│\u001b[0m\n",
       "\u001b[31m│\u001b[0m   \u001b[2m1611 \u001b[0m\u001b[2m│   │   │   \u001b[0mmodules = \u001b[96mself\u001b[0m.\u001b[91m__dict__\u001b[0m[\u001b[33m'\u001b[0m\u001b[33m_modules\u001b[0m\u001b[33m'\u001b[0m]                                           \u001b[31m│\u001b[0m\n",
       "\u001b[31m│\u001b[0m   \u001b[2m1612 \u001b[0m\u001b[2m│   │   │   \u001b[0m\u001b[94mif\u001b[0m name \u001b[95min\u001b[0m modules:                                                           \u001b[31m│\u001b[0m\n",
       "\u001b[31m│\u001b[0m   \u001b[2m1613 \u001b[0m\u001b[2m│   │   │   │   \u001b[0m\u001b[94mreturn\u001b[0m modules[name]                                                      \u001b[31m│\u001b[0m\n",
       "\u001b[31m│\u001b[0m \u001b[31m❱ \u001b[0m1614 \u001b[2m│   │   \u001b[0m\u001b[94mraise\u001b[0m \u001b[96mAttributeError\u001b[0m(\u001b[33m\"\u001b[0m\u001b[33m'\u001b[0m\u001b[33m{}\u001b[0m\u001b[33m'\u001b[0m\u001b[33m object has no attribute \u001b[0m\u001b[33m'\u001b[0m\u001b[33m{}\u001b[0m\u001b[33m'\u001b[0m\u001b[33m\"\u001b[0m.format(                  \u001b[31m│\u001b[0m\n",
       "\u001b[31m│\u001b[0m   \u001b[2m1615 \u001b[0m\u001b[2m│   │   │   \u001b[0m\u001b[96mtype\u001b[0m(\u001b[96mself\u001b[0m).\u001b[91m__name__\u001b[0m, name))                                                   \u001b[31m│\u001b[0m\n",
       "\u001b[31m│\u001b[0m   \u001b[2m1616 \u001b[0m\u001b[2m│   \u001b[0m                                                                                      \u001b[31m│\u001b[0m\n",
       "\u001b[31m│\u001b[0m   \u001b[2m1617 \u001b[0m\u001b[2m│   \u001b[0m\u001b[94mdef\u001b[0m \u001b[92m__setattr__\u001b[0m(\u001b[96mself\u001b[0m, name: \u001b[96mstr\u001b[0m, value: Union[Tensor, \u001b[33m'\u001b[0m\u001b[33mModule\u001b[0m\u001b[33m'\u001b[0m]) -> \u001b[94mNone\u001b[0m:             \u001b[31m│\u001b[0m\n",
       "\u001b[31m╰──────────────────────────────────────────────────────────────────────────────────────────────────╯\u001b[0m\n",
       "\u001b[1;91mAttributeError: \u001b[0m\u001b[32m'LeNet5'\u001b[0m object has no attribute \u001b[32m'predict_one'\u001b[0m\n"
      ]
     },
     "metadata": {},
     "output_type": "display_data"
    }
   ],
   "source": [
    "docs.predict_one(LeNet5(10), docs.find()[23]['img'])"
   ]
  },
  {
   "cell_type": "markdown",
   "id": "ce812615",
   "metadata": {},
   "source": [
    "Now that we have our model we need a target for learning - for this we use `label`:"
   ]
  },
  {
   "cell_type": "code",
   "execution_count": 23,
   "id": "e5615985",
   "metadata": {},
   "outputs": [],
   "source": [
    "docs.create_model('lenet', LeNet5(10), serializer='dill')\n",
    "docs.create_model('label', label, serializer='dill')"
   ]
  },
  {
   "cell_type": "markdown",
   "id": "3637fcfd",
   "metadata": {},
   "source": [
    "And a metric to measure performance. Defined metrics are applied serially over individual data points, and the results are averaged:"
   ]
  },
  {
   "cell_type": "code",
   "execution_count": 18,
   "id": "552eb1d1",
   "metadata": {},
   "outputs": [],
   "source": [
    "def accuracy(x, y):\n",
    "    return x == y\n",
    "\n",
    "docs.create_metric('accuracy', accuracy, serializer='dill')"
   ]
  },
  {
   "cell_type": "markdown",
   "id": "f2dd18b1",
   "metadata": {},
   "source": [
    "When measuring performance, SuperDuperDB requires users to create a separate validation set, which is saved for posterity and reproducibility reasons - edits and deletes on the main collection don't affect this validation set."
   ]
  },
  {
   "cell_type": "code",
   "execution_count": 20,
   "id": "43a550cd",
   "metadata": {
    "scrolled": false
   },
   "outputs": [
    {
     "name": "stderr",
     "output_type": "stream",
     "text": [
      "250it [00:00, 10839.00it/s]\n"
     ]
    },
    {
     "name": "stdout",
     "output_type": "stream",
     "text": [
      "Database(MongoClient(host=['localhost:27017'], document_class=dict, tz_aware=False, connect=True), 'mnist')\n",
      "(('_validation_sets',),)\n",
      "{'ids': [ObjectId('645a4cfc420e195608398043'), ObjectId('645a4cfc420e19560839805a'), ObjectId('645a4cfc420e195608398188'), ObjectId('645a4cfc420e1956083981ce'), ObjectId('645a4cfc420e1956083982fb'), ObjectId('645a4cfc420e1956083983e8'), ObjectId('645a4cfc420e1956083984e4'), ObjectId('645a4cfc420e19560839852c'), ObjectId('645a4cfc420e19560839853b'), ObjectId('645a4cfc420e19560839854e'), ObjectId('645a4cfc420e1956083986fe'), ObjectId('645a4cfc420e1956083988df'), ObjectId('645a4cfc420e1956083988e7'), ObjectId('645a4cfc420e195608398a1a'), ObjectId('645a4cfc420e195608398ad8'), ObjectId('645a4cfc420e195608398ea3'), ObjectId('645a4cfc420e195608398f79'), ObjectId('645a4cfc420e19560839908a'), ObjectId('645a4cfc420e19560839921b'), ObjectId('645a4cfc420e195608399256'), ObjectId('645a4cfc420e195608399351'), ObjectId('645a4cfc420e19560839939c'), ObjectId('645a4cfc420e1956083994c0'), ObjectId('645a4cfc420e1956083994f9'), ObjectId('645a4cfc420e195608399640'), ObjectId('645a4cfc420e195608399744'), ObjectId('645a4cfc420e195608399771'), ObjectId('645a4cfc420e19560839986e'), ObjectId('645a4cfc420e19560839987a'), ObjectId('645a4cfc420e19560839988c'), ObjectId('645a4cfc420e1956083998b3'), ObjectId('645a4cfc420e195608399b51'), ObjectId('645a4cfc420e195608399b7a'), ObjectId('645a4cfc420e195608399bd3'), ObjectId('645a4cfc420e195608399c01'), ObjectId('645a4cfc420e195608399c7a'), ObjectId('645a4cfc420e195608399fab'), ObjectId('645a4cfc420e19560839a041'), ObjectId('645a4cfc420e19560839a15a'), ObjectId('645a4cfc420e19560839a332'), ObjectId('645a4cfc420e19560839a347'), ObjectId('645a4cfc420e19560839a502'), ObjectId('645a4cfc420e19560839a535'), ObjectId('645a4cfc420e19560839a64d'), ObjectId('645a4cfc420e19560839a662'), ObjectId('645a4cfc420e19560839a6d5'), ObjectId('645a4cfc420e19560839a768'), ObjectId('645a4cfc420e19560839a7dc'), ObjectId('645a4cfc420e19560839a8d6'), ObjectId('645a4cfc420e19560839aa7c'), ObjectId('645a4cfc420e19560839aaa8'), ObjectId('645a4cfc420e19560839ab2c'), ObjectId('645a4cfc420e19560839ab6b'), ObjectId('645a4cfc420e19560839abe6'), ObjectId('645a4cfc420e19560839aca2'), ObjectId('645a4cfc420e19560839add1'), ObjectId('645a4cfc420e19560839aed3'), ObjectId('645a4cfc420e19560839b12f'), ObjectId('645a4cfc420e19560839b1d4'), ObjectId('645a4cfc420e19560839b1f4'), ObjectId('645a4cfc420e19560839b256'), ObjectId('645a4cfc420e19560839b274'), ObjectId('645a4cfc420e19560839b486'), ObjectId('645a4cfc420e19560839b56a'), ObjectId('645a4cfc420e19560839b58c'), ObjectId('645a4cfc420e19560839b680'), ObjectId('645a4cfc420e19560839b890'), ObjectId('645a4cfc420e19560839bb23'), ObjectId('645a4cfc420e19560839bb78'), ObjectId('645a4cfc420e19560839bc82'), ObjectId('645a4cfc420e19560839bcc2'), ObjectId('645a4cfc420e19560839bd68'), ObjectId('645a4cfc420e19560839be3a'), ObjectId('645a4cfc420e19560839be9b'), ObjectId('645a4cfc420e19560839bf7b'), ObjectId('645a4cfc420e19560839bfee'), ObjectId('645a4cfc420e19560839c0ac'), ObjectId('645a4cfc420e19560839c130'), ObjectId('645a4cfc420e19560839c1ac'), ObjectId('645a4cfc420e19560839c3ef'), ObjectId('645a4cfc420e19560839c49d'), ObjectId('645a4cfc420e19560839c57d'), ObjectId('645a4cfc420e19560839c5a6'), ObjectId('645a4cfc420e19560839c948'), ObjectId('645a4cfc420e19560839cb36'), ObjectId('645a4cfc420e19560839ce19'), ObjectId('645a4cfc420e19560839cfb4'), ObjectId('645a4cfc420e19560839d043'), ObjectId('645a4cfc420e19560839d363'), ObjectId('645a4cfc420e19560839d411'), ObjectId('645a4cfc420e19560839d435'), ObjectId('645a4cfc420e19560839d4b5'), ObjectId('645a4cfc420e19560839d4c3'), ObjectId('645a4cfc420e19560839d4ec'), ObjectId('645a4cfc420e19560839d50a'), ObjectId('645a4cfc420e19560839d69f'), ObjectId('645a4cfc420e19560839d6bf'), ObjectId('645a4cfc420e19560839d9d6'), ObjectId('645a4cfc420e19560839d9db'), ObjectId('645a4cfc420e19560839d9e0'), ObjectId('645a4cfc420e19560839da37'), ObjectId('645a4cfc420e19560839db59'), ObjectId('645a4cfc420e19560839dc02'), ObjectId('645a4cfc420e19560839dc40'), ObjectId('645a4cfc420e19560839dc51'), ObjectId('645a4cfc420e19560839dcf6'), ObjectId('645a4cfc420e19560839ddc3'), ObjectId('645a4cfc420e19560839ddd2'), ObjectId('645a4cfc420e19560839de57'), ObjectId('645a4cfc420e19560839deab'), ObjectId('645a4cfc420e19560839df61'), ObjectId('645a4cfc420e19560839e02b'), ObjectId('645a4cfc420e19560839e1ae'), ObjectId('645a4cfc420e19560839e1d3'), ObjectId('645a4cfc420e19560839e239'), ObjectId('645a4cfc420e19560839e311'), ObjectId('645a4cfc420e19560839e394'), ObjectId('645a4cfc420e19560839e48a'), ObjectId('645a4cfc420e19560839e4a7'), ObjectId('645a4cfc420e19560839e4d9'), ObjectId('645a4cfc420e19560839e5d4'), ObjectId('645a4cfc420e19560839e659'), ObjectId('645a4cfc420e19560839e6fa'), ObjectId('645a4cfc420e19560839e701'), ObjectId('645a4cfc420e19560839e9fa'), ObjectId('645a4cfc420e19560839eb3c'), ObjectId('645a4cfc420e19560839ec4a'), ObjectId('645a4cfc420e19560839f00c'), ObjectId('645a4cfc420e19560839f0c8'), ObjectId('645a4cfc420e19560839f0e8'), ObjectId('645a4cfc420e19560839f307'), ObjectId('645a4cfc420e19560839f42b'), ObjectId('645a4cfc420e19560839f5f0'), ObjectId('645a4cfc420e19560839f645'), ObjectId('645a4cfc420e19560839f7d0'), ObjectId('645a4cfc420e19560839f933'), ObjectId('645a4cfc420e19560839fb53'), ObjectId('645a4cfc420e19560839fb74'), ObjectId('645a4cfc420e19560839fe86'), ObjectId('645a4cfc420e19560839fee1'), ObjectId('645a4cfc420e19560839fefd'), ObjectId('645a4cfc420e1956083a01ca'), ObjectId('645a4cfc420e1956083a0230'), ObjectId('645a4cfc420e1956083a0436'), ObjectId('645a4cfc420e1956083a05f8'), ObjectId('645a4cfc420e1956083a0645'), ObjectId('645a4cfc420e1956083a0680'), ObjectId('645a4cfc420e1956083a06bc'), ObjectId('645a4cfc420e1956083a07b0'), ObjectId('645a4cfc420e1956083a07f9'), ObjectId('645a4cfc420e1956083a0933'), ObjectId('645a4cfc420e1956083a0954'), ObjectId('645a4cfc420e1956083a0aca'), ObjectId('645a4cfc420e1956083a10ba'), ObjectId('645a4cfc420e1956083a10e2'), ObjectId('645a4cfc420e1956083a1125'), ObjectId('645a4cfc420e1956083a1166'), ObjectId('645a4cfc420e1956083a1259'), ObjectId('645a4cfc420e1956083a126a'), ObjectId('645a4cfc420e1956083a1420'), ObjectId('645a4cfc420e1956083a1443'), ObjectId('645a4cfc420e1956083a14c8'), ObjectId('645a4cfc420e1956083a1588'), ObjectId('645a4cfc420e1956083a15b5'), ObjectId('645a4cfc420e1956083a1674'), ObjectId('645a4cfc420e1956083a17d3'), ObjectId('645a4cfc420e1956083a17f9'), ObjectId('645a4cfc420e1956083a1803'), ObjectId('645a4cfc420e1956083a188d'), ObjectId('645a4cfc420e1956083a1983'), ObjectId('645a4cfc420e1956083a19e6'), ObjectId('645a4cfc420e1956083a1a47'), ObjectId('645a4cfc420e1956083a1ca5'), ObjectId('645a4cfc420e1956083a1cc6'), ObjectId('645a4cfc420e1956083a1d4c'), ObjectId('645a4cfc420e1956083a1d71'), ObjectId('645a4cfc420e1956083a1f9b'), ObjectId('645a4cfc420e1956083a2035'), ObjectId('645a4cfc420e1956083a2343'), ObjectId('645a4cfc420e1956083a24cc'), ObjectId('645a4cfc420e1956083a2539'), ObjectId('645a4cfc420e1956083a288f'), ObjectId('645a4cfc420e1956083a29df'), ObjectId('645a4cfc420e1956083a2afa'), ObjectId('645a4cfc420e1956083a2b90'), ObjectId('645a4cfc420e1956083a2c3d'), ObjectId('645a4cfc420e1956083a2cdb'), ObjectId('645a4cfc420e1956083a2d41'), ObjectId('645a4cfc420e1956083a2eff'), ObjectId('645a4cfc420e1956083a2f93'), ObjectId('645a4cfc420e1956083a3190'), ObjectId('645a4cfc420e1956083a3281'), ObjectId('645a4cfc420e1956083a347a'), ObjectId('645a4cfc420e1956083a36cd'), ObjectId('645a4cfc420e1956083a3703'), ObjectId('645a4cfc420e1956083a372c'), ObjectId('645a4cfc420e1956083a37fa'), ObjectId('645a4cfc420e1956083a38c7'), ObjectId('645a4cfc420e1956083a391f'), ObjectId('645a4cfc420e1956083a39e0'), ObjectId('645a4cfc420e1956083a3b24'), ObjectId('645a4cfc420e1956083a3b5b'), ObjectId('645a4cfc420e1956083a3b7a'), ObjectId('645a4cfc420e1956083a3d9b'), ObjectId('645a4cfc420e1956083a3e8f'), ObjectId('645a4cfc420e1956083a3ec7'), ObjectId('645a4cfc420e1956083a3ec9'), ObjectId('645a4cfc420e1956083a3f56'), ObjectId('645a4cfc420e1956083a3fa5'), ObjectId('645a4cfc420e1956083a3fe3'), ObjectId('645a4cfc420e1956083a4297'), ObjectId('645a4cfc420e1956083a4506'), ObjectId('645a4cfc420e1956083a4563'), ObjectId('645a4cfc420e1956083a45eb'), ObjectId('645a4cfc420e1956083a4751'), ObjectId('645a4cfc420e1956083a4976'), ObjectId('645a4cfc420e1956083a4b47'), ObjectId('645a4cfc420e1956083a4b4a'), ObjectId('645a4cfc420e1956083a4c03'), ObjectId('645a4cfc420e1956083a4c74'), ObjectId('645a4cfc420e1956083a4c86'), ObjectId('645a4cfc420e1956083a4ca1'), ObjectId('645a4cfc420e1956083a4ec5'), ObjectId('645a4cfc420e1956083a4f52'), ObjectId('645a4cfc420e1956083a5145'), ObjectId('645a4cfc420e1956083a516f'), ObjectId('645a4cfc420e1956083a518d'), ObjectId('645a4cfc420e1956083a5203'), ObjectId('645a4cfc420e1956083a527c'), ObjectId('645a4cfc420e1956083a5325'), ObjectId('645a4cfc420e1956083a534f'), ObjectId('645a4cfc420e1956083a53c1'), ObjectId('645a4cfc420e1956083a56de'), ObjectId('645a4cfc420e1956083a574f'), ObjectId('645a4cfc420e1956083a57a0'), ObjectId('645a4cfc420e1956083a5936'), ObjectId('645a4cfc420e1956083a59e0'), ObjectId('645a4cfc420e1956083a5ae7'), ObjectId('645a4cfc420e1956083a5b09'), ObjectId('645a4cfc420e1956083a5b14'), ObjectId('645a4cfc420e1956083a5d4b'), ObjectId('645a4cfc420e1956083a5ec6'), ObjectId('645a4cfc420e1956083a5ed3'), ObjectId('645a4cfc420e1956083a5f70'), ObjectId('645a4cfc420e1956083a5f83'), ObjectId('645a4cfc420e1956083a5fec'), ObjectId('645a4cfc420e1956083a60a5'), ObjectId('645a4cfc420e1956083a62b3'), ObjectId('645a4cfc420e1956083a642b'), ObjectId('645a4cfc420e1956083a64fa')]}\n",
      "Database(MongoClient(host=['localhost:27017'], document_class=dict, tz_aware=False, connect=True), 'mnist')\n",
      "(('_validation_sets',),)\n",
      "{'ids': [ObjectId('645a4cfc420e195608398043'), ObjectId('645a4cfc420e19560839805a'), ObjectId('645a4cfc420e195608398188'), ObjectId('645a4cfc420e1956083981ce'), ObjectId('645a4cfc420e1956083982fb'), ObjectId('645a4cfc420e1956083983e8'), ObjectId('645a4cfc420e1956083984e4'), ObjectId('645a4cfc420e19560839852c'), ObjectId('645a4cfc420e19560839853b'), ObjectId('645a4cfc420e19560839854e'), ObjectId('645a4cfc420e1956083986fe'), ObjectId('645a4cfc420e1956083988df'), ObjectId('645a4cfc420e1956083988e7'), ObjectId('645a4cfc420e195608398a1a'), ObjectId('645a4cfc420e195608398ad8'), ObjectId('645a4cfc420e195608398ea3'), ObjectId('645a4cfc420e195608398f79'), ObjectId('645a4cfc420e19560839908a'), ObjectId('645a4cfc420e19560839921b'), ObjectId('645a4cfc420e195608399256'), ObjectId('645a4cfc420e195608399351'), ObjectId('645a4cfc420e19560839939c'), ObjectId('645a4cfc420e1956083994c0'), ObjectId('645a4cfc420e1956083994f9'), ObjectId('645a4cfc420e195608399640'), ObjectId('645a4cfc420e195608399744'), ObjectId('645a4cfc420e195608399771'), ObjectId('645a4cfc420e19560839986e'), ObjectId('645a4cfc420e19560839987a'), ObjectId('645a4cfc420e19560839988c'), ObjectId('645a4cfc420e1956083998b3'), ObjectId('645a4cfc420e195608399b51'), ObjectId('645a4cfc420e195608399b7a'), ObjectId('645a4cfc420e195608399bd3'), ObjectId('645a4cfc420e195608399c01'), ObjectId('645a4cfc420e195608399c7a'), ObjectId('645a4cfc420e195608399fab'), ObjectId('645a4cfc420e19560839a041'), ObjectId('645a4cfc420e19560839a15a'), ObjectId('645a4cfc420e19560839a332'), ObjectId('645a4cfc420e19560839a347'), ObjectId('645a4cfc420e19560839a502'), ObjectId('645a4cfc420e19560839a535'), ObjectId('645a4cfc420e19560839a64d'), ObjectId('645a4cfc420e19560839a662'), ObjectId('645a4cfc420e19560839a6d5'), ObjectId('645a4cfc420e19560839a768'), ObjectId('645a4cfc420e19560839a7dc'), ObjectId('645a4cfc420e19560839a8d6'), ObjectId('645a4cfc420e19560839aa7c'), ObjectId('645a4cfc420e19560839aaa8'), ObjectId('645a4cfc420e19560839ab2c'), ObjectId('645a4cfc420e19560839ab6b'), ObjectId('645a4cfc420e19560839abe6'), ObjectId('645a4cfc420e19560839aca2'), ObjectId('645a4cfc420e19560839add1'), ObjectId('645a4cfc420e19560839aed3'), ObjectId('645a4cfc420e19560839b12f'), ObjectId('645a4cfc420e19560839b1d4'), ObjectId('645a4cfc420e19560839b1f4'), ObjectId('645a4cfc420e19560839b256'), ObjectId('645a4cfc420e19560839b274'), ObjectId('645a4cfc420e19560839b486'), ObjectId('645a4cfc420e19560839b56a'), ObjectId('645a4cfc420e19560839b58c'), ObjectId('645a4cfc420e19560839b680'), ObjectId('645a4cfc420e19560839b890'), ObjectId('645a4cfc420e19560839bb23'), ObjectId('645a4cfc420e19560839bb78'), ObjectId('645a4cfc420e19560839bc82'), ObjectId('645a4cfc420e19560839bcc2'), ObjectId('645a4cfc420e19560839bd68'), ObjectId('645a4cfc420e19560839be3a'), ObjectId('645a4cfc420e19560839be9b'), ObjectId('645a4cfc420e19560839bf7b'), ObjectId('645a4cfc420e19560839bfee'), ObjectId('645a4cfc420e19560839c0ac'), ObjectId('645a4cfc420e19560839c130'), ObjectId('645a4cfc420e19560839c1ac'), ObjectId('645a4cfc420e19560839c3ef'), ObjectId('645a4cfc420e19560839c49d'), ObjectId('645a4cfc420e19560839c57d'), ObjectId('645a4cfc420e19560839c5a6'), ObjectId('645a4cfc420e19560839c948'), ObjectId('645a4cfc420e19560839cb36'), ObjectId('645a4cfc420e19560839ce19'), ObjectId('645a4cfc420e19560839cfb4'), ObjectId('645a4cfc420e19560839d043'), ObjectId('645a4cfc420e19560839d363'), ObjectId('645a4cfc420e19560839d411'), ObjectId('645a4cfc420e19560839d435'), ObjectId('645a4cfc420e19560839d4b5'), ObjectId('645a4cfc420e19560839d4c3'), ObjectId('645a4cfc420e19560839d4ec'), ObjectId('645a4cfc420e19560839d50a'), ObjectId('645a4cfc420e19560839d69f'), ObjectId('645a4cfc420e19560839d6bf'), ObjectId('645a4cfc420e19560839d9d6'), ObjectId('645a4cfc420e19560839d9db'), ObjectId('645a4cfc420e19560839d9e0'), ObjectId('645a4cfc420e19560839da37'), ObjectId('645a4cfc420e19560839db59'), ObjectId('645a4cfc420e19560839dc02'), ObjectId('645a4cfc420e19560839dc40'), ObjectId('645a4cfc420e19560839dc51'), ObjectId('645a4cfc420e19560839dcf6'), ObjectId('645a4cfc420e19560839ddc3'), ObjectId('645a4cfc420e19560839ddd2'), ObjectId('645a4cfc420e19560839de57'), ObjectId('645a4cfc420e19560839deab'), ObjectId('645a4cfc420e19560839df61'), ObjectId('645a4cfc420e19560839e02b'), ObjectId('645a4cfc420e19560839e1ae'), ObjectId('645a4cfc420e19560839e1d3'), ObjectId('645a4cfc420e19560839e239'), ObjectId('645a4cfc420e19560839e311'), ObjectId('645a4cfc420e19560839e394'), ObjectId('645a4cfc420e19560839e48a'), ObjectId('645a4cfc420e19560839e4a7'), ObjectId('645a4cfc420e19560839e4d9'), ObjectId('645a4cfc420e19560839e5d4'), ObjectId('645a4cfc420e19560839e659'), ObjectId('645a4cfc420e19560839e6fa'), ObjectId('645a4cfc420e19560839e701'), ObjectId('645a4cfc420e19560839e9fa'), ObjectId('645a4cfc420e19560839eb3c'), ObjectId('645a4cfc420e19560839ec4a'), ObjectId('645a4cfc420e19560839f00c'), ObjectId('645a4cfc420e19560839f0c8'), ObjectId('645a4cfc420e19560839f0e8'), ObjectId('645a4cfc420e19560839f307'), ObjectId('645a4cfc420e19560839f42b'), ObjectId('645a4cfc420e19560839f5f0'), ObjectId('645a4cfc420e19560839f645'), ObjectId('645a4cfc420e19560839f7d0'), ObjectId('645a4cfc420e19560839f933'), ObjectId('645a4cfc420e19560839fb53'), ObjectId('645a4cfc420e19560839fb74'), ObjectId('645a4cfc420e19560839fe86'), ObjectId('645a4cfc420e19560839fee1'), ObjectId('645a4cfc420e19560839fefd'), ObjectId('645a4cfc420e1956083a01ca'), ObjectId('645a4cfc420e1956083a0230'), ObjectId('645a4cfc420e1956083a0436'), ObjectId('645a4cfc420e1956083a05f8'), ObjectId('645a4cfc420e1956083a0645'), ObjectId('645a4cfc420e1956083a0680'), ObjectId('645a4cfc420e1956083a06bc'), ObjectId('645a4cfc420e1956083a07b0'), ObjectId('645a4cfc420e1956083a07f9'), ObjectId('645a4cfc420e1956083a0933'), ObjectId('645a4cfc420e1956083a0954'), ObjectId('645a4cfc420e1956083a0aca'), ObjectId('645a4cfc420e1956083a10ba'), ObjectId('645a4cfc420e1956083a10e2'), ObjectId('645a4cfc420e1956083a1125'), ObjectId('645a4cfc420e1956083a1166'), ObjectId('645a4cfc420e1956083a1259'), ObjectId('645a4cfc420e1956083a126a'), ObjectId('645a4cfc420e1956083a1420'), ObjectId('645a4cfc420e1956083a1443'), ObjectId('645a4cfc420e1956083a14c8'), ObjectId('645a4cfc420e1956083a1588'), ObjectId('645a4cfc420e1956083a15b5'), ObjectId('645a4cfc420e1956083a1674'), ObjectId('645a4cfc420e1956083a17d3'), ObjectId('645a4cfc420e1956083a17f9'), ObjectId('645a4cfc420e1956083a1803'), ObjectId('645a4cfc420e1956083a188d'), ObjectId('645a4cfc420e1956083a1983'), ObjectId('645a4cfc420e1956083a19e6'), ObjectId('645a4cfc420e1956083a1a47'), ObjectId('645a4cfc420e1956083a1ca5'), ObjectId('645a4cfc420e1956083a1cc6'), ObjectId('645a4cfc420e1956083a1d4c'), ObjectId('645a4cfc420e1956083a1d71'), ObjectId('645a4cfc420e1956083a1f9b'), ObjectId('645a4cfc420e1956083a2035'), ObjectId('645a4cfc420e1956083a2343'), ObjectId('645a4cfc420e1956083a24cc'), ObjectId('645a4cfc420e1956083a2539'), ObjectId('645a4cfc420e1956083a288f'), ObjectId('645a4cfc420e1956083a29df'), ObjectId('645a4cfc420e1956083a2afa'), ObjectId('645a4cfc420e1956083a2b90'), ObjectId('645a4cfc420e1956083a2c3d'), ObjectId('645a4cfc420e1956083a2cdb'), ObjectId('645a4cfc420e1956083a2d41'), ObjectId('645a4cfc420e1956083a2eff'), ObjectId('645a4cfc420e1956083a2f93'), ObjectId('645a4cfc420e1956083a3190'), ObjectId('645a4cfc420e1956083a3281'), ObjectId('645a4cfc420e1956083a347a'), ObjectId('645a4cfc420e1956083a36cd'), ObjectId('645a4cfc420e1956083a3703'), ObjectId('645a4cfc420e1956083a372c'), ObjectId('645a4cfc420e1956083a37fa'), ObjectId('645a4cfc420e1956083a38c7'), ObjectId('645a4cfc420e1956083a391f'), ObjectId('645a4cfc420e1956083a39e0'), ObjectId('645a4cfc420e1956083a3b24'), ObjectId('645a4cfc420e1956083a3b5b'), ObjectId('645a4cfc420e1956083a3b7a'), ObjectId('645a4cfc420e1956083a3d9b'), ObjectId('645a4cfc420e1956083a3e8f'), ObjectId('645a4cfc420e1956083a3ec7'), ObjectId('645a4cfc420e1956083a3ec9'), ObjectId('645a4cfc420e1956083a3f56'), ObjectId('645a4cfc420e1956083a3fa5'), ObjectId('645a4cfc420e1956083a3fe3'), ObjectId('645a4cfc420e1956083a4297'), ObjectId('645a4cfc420e1956083a4506'), ObjectId('645a4cfc420e1956083a4563'), ObjectId('645a4cfc420e1956083a45eb'), ObjectId('645a4cfc420e1956083a4751'), ObjectId('645a4cfc420e1956083a4976'), ObjectId('645a4cfc420e1956083a4b47'), ObjectId('645a4cfc420e1956083a4b4a'), ObjectId('645a4cfc420e1956083a4c03'), ObjectId('645a4cfc420e1956083a4c74'), ObjectId('645a4cfc420e1956083a4c86'), ObjectId('645a4cfc420e1956083a4ca1'), ObjectId('645a4cfc420e1956083a4ec5'), ObjectId('645a4cfc420e1956083a4f52'), ObjectId('645a4cfc420e1956083a5145'), ObjectId('645a4cfc420e1956083a516f'), ObjectId('645a4cfc420e1956083a518d'), ObjectId('645a4cfc420e1956083a5203'), ObjectId('645a4cfc420e1956083a527c'), ObjectId('645a4cfc420e1956083a5325'), ObjectId('645a4cfc420e1956083a534f'), ObjectId('645a4cfc420e1956083a53c1'), ObjectId('645a4cfc420e1956083a56de'), ObjectId('645a4cfc420e1956083a574f'), ObjectId('645a4cfc420e1956083a57a0'), ObjectId('645a4cfc420e1956083a5936'), ObjectId('645a4cfc420e1956083a59e0'), ObjectId('645a4cfc420e1956083a5ae7'), ObjectId('645a4cfc420e1956083a5b09'), ObjectId('645a4cfc420e1956083a5b14'), ObjectId('645a4cfc420e1956083a5d4b'), ObjectId('645a4cfc420e1956083a5ec6'), ObjectId('645a4cfc420e1956083a5ed3'), ObjectId('645a4cfc420e1956083a5f70'), ObjectId('645a4cfc420e1956083a5f83'), ObjectId('645a4cfc420e1956083a5fec'), ObjectId('645a4cfc420e1956083a60a5'), ObjectId('645a4cfc420e1956083a62b3'), ObjectId('645a4cfc420e1956083a642b'), ObjectId('645a4cfc420e1956083a64fa')], 'documents': None, 'timeout': None, 'raises': True, 'n_download_workers': None, 'headers': None}\n",
      "('_validation_sets',)\n",
      "[ObjectId('645a4cfc420e195608398043'), ObjectId('645a4cfc420e19560839805a'), ObjectId('645a4cfc420e195608398188'), ObjectId('645a4cfc420e1956083981ce'), ObjectId('645a4cfc420e1956083982fb'), ObjectId('645a4cfc420e1956083983e8'), ObjectId('645a4cfc420e1956083984e4'), ObjectId('645a4cfc420e19560839852c'), ObjectId('645a4cfc420e19560839853b'), ObjectId('645a4cfc420e19560839854e'), ObjectId('645a4cfc420e1956083986fe'), ObjectId('645a4cfc420e1956083988df'), ObjectId('645a4cfc420e1956083988e7'), ObjectId('645a4cfc420e195608398a1a'), ObjectId('645a4cfc420e195608398ad8'), ObjectId('645a4cfc420e195608398ea3'), ObjectId('645a4cfc420e195608398f79'), ObjectId('645a4cfc420e19560839908a'), ObjectId('645a4cfc420e19560839921b'), ObjectId('645a4cfc420e195608399256'), ObjectId('645a4cfc420e195608399351'), ObjectId('645a4cfc420e19560839939c'), ObjectId('645a4cfc420e1956083994c0'), ObjectId('645a4cfc420e1956083994f9'), ObjectId('645a4cfc420e195608399640'), ObjectId('645a4cfc420e195608399744'), ObjectId('645a4cfc420e195608399771'), ObjectId('645a4cfc420e19560839986e'), ObjectId('645a4cfc420e19560839987a'), ObjectId('645a4cfc420e19560839988c'), ObjectId('645a4cfc420e1956083998b3'), ObjectId('645a4cfc420e195608399b51'), ObjectId('645a4cfc420e195608399b7a'), ObjectId('645a4cfc420e195608399bd3'), ObjectId('645a4cfc420e195608399c01'), ObjectId('645a4cfc420e195608399c7a'), ObjectId('645a4cfc420e195608399fab'), ObjectId('645a4cfc420e19560839a041'), ObjectId('645a4cfc420e19560839a15a'), ObjectId('645a4cfc420e19560839a332'), ObjectId('645a4cfc420e19560839a347'), ObjectId('645a4cfc420e19560839a502'), ObjectId('645a4cfc420e19560839a535'), ObjectId('645a4cfc420e19560839a64d'), ObjectId('645a4cfc420e19560839a662'), ObjectId('645a4cfc420e19560839a6d5'), ObjectId('645a4cfc420e19560839a768'), ObjectId('645a4cfc420e19560839a7dc'), ObjectId('645a4cfc420e19560839a8d6'), ObjectId('645a4cfc420e19560839aa7c'), ObjectId('645a4cfc420e19560839aaa8'), ObjectId('645a4cfc420e19560839ab2c'), ObjectId('645a4cfc420e19560839ab6b'), ObjectId('645a4cfc420e19560839abe6'), ObjectId('645a4cfc420e19560839aca2'), ObjectId('645a4cfc420e19560839add1'), ObjectId('645a4cfc420e19560839aed3'), ObjectId('645a4cfc420e19560839b12f'), ObjectId('645a4cfc420e19560839b1d4'), ObjectId('645a4cfc420e19560839b1f4'), ObjectId('645a4cfc420e19560839b256'), ObjectId('645a4cfc420e19560839b274'), ObjectId('645a4cfc420e19560839b486'), ObjectId('645a4cfc420e19560839b56a'), ObjectId('645a4cfc420e19560839b58c'), ObjectId('645a4cfc420e19560839b680'), ObjectId('645a4cfc420e19560839b890'), ObjectId('645a4cfc420e19560839bb23'), ObjectId('645a4cfc420e19560839bb78'), ObjectId('645a4cfc420e19560839bc82'), ObjectId('645a4cfc420e19560839bcc2'), ObjectId('645a4cfc420e19560839bd68'), ObjectId('645a4cfc420e19560839be3a'), ObjectId('645a4cfc420e19560839be9b'), ObjectId('645a4cfc420e19560839bf7b'), ObjectId('645a4cfc420e19560839bfee'), ObjectId('645a4cfc420e19560839c0ac'), ObjectId('645a4cfc420e19560839c130'), ObjectId('645a4cfc420e19560839c1ac'), ObjectId('645a4cfc420e19560839c3ef'), ObjectId('645a4cfc420e19560839c49d'), ObjectId('645a4cfc420e19560839c57d'), ObjectId('645a4cfc420e19560839c5a6'), ObjectId('645a4cfc420e19560839c948'), ObjectId('645a4cfc420e19560839cb36'), ObjectId('645a4cfc420e19560839ce19'), ObjectId('645a4cfc420e19560839cfb4'), ObjectId('645a4cfc420e19560839d043'), ObjectId('645a4cfc420e19560839d363'), ObjectId('645a4cfc420e19560839d411'), ObjectId('645a4cfc420e19560839d435'), ObjectId('645a4cfc420e19560839d4b5'), ObjectId('645a4cfc420e19560839d4c3'), ObjectId('645a4cfc420e19560839d4ec'), ObjectId('645a4cfc420e19560839d50a'), ObjectId('645a4cfc420e19560839d69f'), ObjectId('645a4cfc420e19560839d6bf'), ObjectId('645a4cfc420e19560839d9d6'), ObjectId('645a4cfc420e19560839d9db'), ObjectId('645a4cfc420e19560839d9e0'), ObjectId('645a4cfc420e19560839da37'), ObjectId('645a4cfc420e19560839db59'), ObjectId('645a4cfc420e19560839dc02'), ObjectId('645a4cfc420e19560839dc40'), ObjectId('645a4cfc420e19560839dc51'), ObjectId('645a4cfc420e19560839dcf6'), ObjectId('645a4cfc420e19560839ddc3'), ObjectId('645a4cfc420e19560839ddd2'), ObjectId('645a4cfc420e19560839de57'), ObjectId('645a4cfc420e19560839deab'), ObjectId('645a4cfc420e19560839df61'), ObjectId('645a4cfc420e19560839e02b'), ObjectId('645a4cfc420e19560839e1ae'), ObjectId('645a4cfc420e19560839e1d3'), ObjectId('645a4cfc420e19560839e239'), ObjectId('645a4cfc420e19560839e311'), ObjectId('645a4cfc420e19560839e394'), ObjectId('645a4cfc420e19560839e48a'), ObjectId('645a4cfc420e19560839e4a7'), ObjectId('645a4cfc420e19560839e4d9'), ObjectId('645a4cfc420e19560839e5d4'), ObjectId('645a4cfc420e19560839e659'), ObjectId('645a4cfc420e19560839e6fa'), ObjectId('645a4cfc420e19560839e701'), ObjectId('645a4cfc420e19560839e9fa'), ObjectId('645a4cfc420e19560839eb3c'), ObjectId('645a4cfc420e19560839ec4a'), ObjectId('645a4cfc420e19560839f00c'), ObjectId('645a4cfc420e19560839f0c8'), ObjectId('645a4cfc420e19560839f0e8'), ObjectId('645a4cfc420e19560839f307'), ObjectId('645a4cfc420e19560839f42b'), ObjectId('645a4cfc420e19560839f5f0'), ObjectId('645a4cfc420e19560839f645'), ObjectId('645a4cfc420e19560839f7d0'), ObjectId('645a4cfc420e19560839f933'), ObjectId('645a4cfc420e19560839fb53'), ObjectId('645a4cfc420e19560839fb74'), ObjectId('645a4cfc420e19560839fe86'), ObjectId('645a4cfc420e19560839fee1'), ObjectId('645a4cfc420e19560839fefd'), ObjectId('645a4cfc420e1956083a01ca'), ObjectId('645a4cfc420e1956083a0230'), ObjectId('645a4cfc420e1956083a0436'), ObjectId('645a4cfc420e1956083a05f8'), ObjectId('645a4cfc420e1956083a0645'), ObjectId('645a4cfc420e1956083a0680'), ObjectId('645a4cfc420e1956083a06bc'), ObjectId('645a4cfc420e1956083a07b0'), ObjectId('645a4cfc420e1956083a07f9'), ObjectId('645a4cfc420e1956083a0933'), ObjectId('645a4cfc420e1956083a0954'), ObjectId('645a4cfc420e1956083a0aca'), ObjectId('645a4cfc420e1956083a10ba'), ObjectId('645a4cfc420e1956083a10e2'), ObjectId('645a4cfc420e1956083a1125'), ObjectId('645a4cfc420e1956083a1166'), ObjectId('645a4cfc420e1956083a1259'), ObjectId('645a4cfc420e1956083a126a'), ObjectId('645a4cfc420e1956083a1420'), ObjectId('645a4cfc420e1956083a1443'), ObjectId('645a4cfc420e1956083a14c8'), ObjectId('645a4cfc420e1956083a1588'), ObjectId('645a4cfc420e1956083a15b5'), ObjectId('645a4cfc420e1956083a1674'), ObjectId('645a4cfc420e1956083a17d3'), ObjectId('645a4cfc420e1956083a17f9'), ObjectId('645a4cfc420e1956083a1803'), ObjectId('645a4cfc420e1956083a188d'), ObjectId('645a4cfc420e1956083a1983'), ObjectId('645a4cfc420e1956083a19e6'), ObjectId('645a4cfc420e1956083a1a47'), ObjectId('645a4cfc420e1956083a1ca5'), ObjectId('645a4cfc420e1956083a1cc6'), ObjectId('645a4cfc420e1956083a1d4c'), ObjectId('645a4cfc420e1956083a1d71'), ObjectId('645a4cfc420e1956083a1f9b'), ObjectId('645a4cfc420e1956083a2035'), ObjectId('645a4cfc420e1956083a2343'), ObjectId('645a4cfc420e1956083a24cc'), ObjectId('645a4cfc420e1956083a2539'), ObjectId('645a4cfc420e1956083a288f'), ObjectId('645a4cfc420e1956083a29df'), ObjectId('645a4cfc420e1956083a2afa'), ObjectId('645a4cfc420e1956083a2b90'), ObjectId('645a4cfc420e1956083a2c3d'), ObjectId('645a4cfc420e1956083a2cdb'), ObjectId('645a4cfc420e1956083a2d41'), ObjectId('645a4cfc420e1956083a2eff'), ObjectId('645a4cfc420e1956083a2f93'), ObjectId('645a4cfc420e1956083a3190'), ObjectId('645a4cfc420e1956083a3281'), ObjectId('645a4cfc420e1956083a347a'), ObjectId('645a4cfc420e1956083a36cd'), ObjectId('645a4cfc420e1956083a3703'), ObjectId('645a4cfc420e1956083a372c'), ObjectId('645a4cfc420e1956083a37fa'), ObjectId('645a4cfc420e1956083a38c7'), ObjectId('645a4cfc420e1956083a391f'), ObjectId('645a4cfc420e1956083a39e0'), ObjectId('645a4cfc420e1956083a3b24'), ObjectId('645a4cfc420e1956083a3b5b'), ObjectId('645a4cfc420e1956083a3b7a'), ObjectId('645a4cfc420e1956083a3d9b'), ObjectId('645a4cfc420e1956083a3e8f'), ObjectId('645a4cfc420e1956083a3ec7'), ObjectId('645a4cfc420e1956083a3ec9'), ObjectId('645a4cfc420e1956083a3f56'), ObjectId('645a4cfc420e1956083a3fa5'), ObjectId('645a4cfc420e1956083a3fe3'), ObjectId('645a4cfc420e1956083a4297'), ObjectId('645a4cfc420e1956083a4506'), ObjectId('645a4cfc420e1956083a4563'), ObjectId('645a4cfc420e1956083a45eb'), ObjectId('645a4cfc420e1956083a4751'), ObjectId('645a4cfc420e1956083a4976'), ObjectId('645a4cfc420e1956083a4b47'), ObjectId('645a4cfc420e1956083a4b4a'), ObjectId('645a4cfc420e1956083a4c03'), ObjectId('645a4cfc420e1956083a4c74'), ObjectId('645a4cfc420e1956083a4c86'), ObjectId('645a4cfc420e1956083a4ca1'), ObjectId('645a4cfc420e1956083a4ec5'), ObjectId('645a4cfc420e1956083a4f52'), ObjectId('645a4cfc420e1956083a5145'), ObjectId('645a4cfc420e1956083a516f'), ObjectId('645a4cfc420e1956083a518d'), ObjectId('645a4cfc420e1956083a5203'), ObjectId('645a4cfc420e1956083a527c'), ObjectId('645a4cfc420e1956083a5325'), ObjectId('645a4cfc420e1956083a534f'), ObjectId('645a4cfc420e1956083a53c1'), ObjectId('645a4cfc420e1956083a56de'), ObjectId('645a4cfc420e1956083a574f'), ObjectId('645a4cfc420e1956083a57a0'), ObjectId('645a4cfc420e1956083a5936'), ObjectId('645a4cfc420e1956083a59e0'), ObjectId('645a4cfc420e1956083a5ae7'), ObjectId('645a4cfc420e1956083a5b09'), ObjectId('645a4cfc420e1956083a5b14'), ObjectId('645a4cfc420e1956083a5d4b'), ObjectId('645a4cfc420e1956083a5ec6'), ObjectId('645a4cfc420e1956083a5ed3'), ObjectId('645a4cfc420e1956083a5f70'), ObjectId('645a4cfc420e1956083a5f83'), ObjectId('645a4cfc420e1956083a5fec'), ObjectId('645a4cfc420e1956083a60a5'), ObjectId('645a4cfc420e1956083a62b3'), ObjectId('645a4cfc420e1956083a642b'), ObjectId('645a4cfc420e1956083a64fa')]\n",
      "found 0 urls\n"
     ]
    }
   ],
   "source": [
    "docs.create_validation_set('classification', sample_size=250)"
   ]
  },
  {
   "cell_type": "markdown",
   "id": "483f5746",
   "metadata": {},
   "source": [
    "Now we're ready to create the model using the `Collection.create_imputation`. This trains a model to predict one part of the data using another part, specified respectively by `model_key` and `target_key`; these are subkeys of the collection documents."
   ]
  },
  {
   "cell_type": "code",
   "execution_count": 31,
   "id": "81f37e03",
   "metadata": {
    "scrolled": false
   },
   "outputs": [
    {
     "data": {
      "text/html": [
       "<pre style=\"white-space:pre;overflow-x:auto;line-height:normal;font-family:Menlo,'DejaVu Sans Mono',consolas,'Courier New',monospace\"><span style=\"color: #800000; text-decoration-color: #800000\">╭─────────────────────────────── </span><span style=\"color: #800000; text-decoration-color: #800000; font-weight: bold\">Traceback </span><span style=\"color: #bf7f7f; text-decoration-color: #bf7f7f; font-weight: bold\">(most recent call last)</span><span style=\"color: #800000; text-decoration-color: #800000\"> ────────────────────────────────╮</span>\n",
       "<span style=\"color: #800000; text-decoration-color: #800000\">│</span> <span style=\"color: #bfbf7f; text-decoration-color: #bfbf7f\">/var/folders/y9/b74b9yj906s_wtj0rrh2lf7c0000gn/T/ipykernel_15465/</span><span style=\"color: #808000; text-decoration-color: #808000; font-weight: bold\">1624558940.py</span>:<span style=\"color: #0000ff; text-decoration-color: #0000ff\">3</span> in <span style=\"color: #00ff00; text-decoration-color: #00ff00\">&lt;module&gt;</span>     <span style=\"color: #800000; text-decoration-color: #800000\">│</span>\n",
       "<span style=\"color: #800000; text-decoration-color: #800000\">│</span>                                                                                                  <span style=\"color: #800000; text-decoration-color: #800000\">│</span>\n",
       "<span style=\"color: #800000; text-decoration-color: #800000\">│</span> <span style=\"color: #800000; text-decoration-color: #800000; font-style: italic\">[Errno 2] No such file or directory: </span>                                                            <span style=\"color: #800000; text-decoration-color: #800000\">│</span>\n",
       "<span style=\"color: #800000; text-decoration-color: #800000\">│</span> <span style=\"color: #800000; text-decoration-color: #800000; font-style: italic\">'/var/folders/y9/b74b9yj906s_wtj0rrh2lf7c0000gn/T/ipykernel_15465/1624558940.py'</span>                 <span style=\"color: #800000; text-decoration-color: #800000\">│</span>\n",
       "<span style=\"color: #800000; text-decoration-color: #800000\">│</span>                                                                                                  <span style=\"color: #800000; text-decoration-color: #800000\">│</span>\n",
       "<span style=\"color: #800000; text-decoration-color: #800000\">│</span> <span style=\"color: #bfbf7f; text-decoration-color: #bfbf7f\">/Users/dodo/SuperDuperDB/pinnacledb/pinnacledb/dbs/mongodb/</span><span style=\"color: #808000; text-decoration-color: #808000; font-weight: bold\">collection.py</span>:<span style=\"color: #0000ff; text-decoration-color: #0000ff\">105</span> in              <span style=\"color: #800000; text-decoration-color: #800000\">│</span>\n",
       "<span style=\"color: #800000; text-decoration-color: #800000\">│</span> <span style=\"color: #00ff00; text-decoration-color: #00ff00\">create_learning_task</span>                                                                             <span style=\"color: #800000; text-decoration-color: #800000\">│</span>\n",
       "<span style=\"color: #800000; text-decoration-color: #800000\">│</span>                                                                                                  <span style=\"color: #800000; text-decoration-color: #800000\">│</span>\n",
       "<span style=\"color: #800000; text-decoration-color: #800000\">│</span>   <span style=\"color: #7f7f7f; text-decoration-color: #7f7f7f\">102 </span><span style=\"color: #bfbf7f; text-decoration-color: #bfbf7f\">│   │   </span><span style=\"color: #808000; text-decoration-color: #808000\">:param args: positional arguments to ``self.database.create_learning_task``</span>        <span style=\"color: #800000; text-decoration-color: #800000\">│</span>\n",
       "<span style=\"color: #800000; text-decoration-color: #800000\">│</span>   <span style=\"color: #7f7f7f; text-decoration-color: #7f7f7f\">103 </span><span style=\"color: #bfbf7f; text-decoration-color: #bfbf7f\">│   │   </span><span style=\"color: #808000; text-decoration-color: #808000\">:param kwargs: passed to ``self.database.create_learning_task``</span>                    <span style=\"color: #800000; text-decoration-color: #800000\">│</span>\n",
       "<span style=\"color: #800000; text-decoration-color: #800000\">│</span>   <span style=\"color: #7f7f7f; text-decoration-color: #7f7f7f\">104 </span><span style=\"color: #bfbf7f; text-decoration-color: #bfbf7f\">│   │   </span><span style=\"color: #808000; text-decoration-color: #808000\">\"\"\"</span>                                                                                <span style=\"color: #800000; text-decoration-color: #800000\">│</span>\n",
       "<span style=\"color: #800000; text-decoration-color: #800000\">│</span> <span style=\"color: #800000; text-decoration-color: #800000\">❱ </span>105 <span style=\"color: #7f7f7f; text-decoration-color: #7f7f7f\">│   │   </span><span style=\"color: #0000ff; text-decoration-color: #0000ff\">return</span> <span style=\"color: #00ffff; text-decoration-color: #00ffff\">self</span>.database.create_learning_task(models, keys, *(<span style=\"color: #00ffff; text-decoration-color: #00ffff\">self</span>.name, *query_para   <span style=\"color: #800000; text-decoration-color: #800000\">│</span>\n",
       "<span style=\"color: #800000; text-decoration-color: #800000\">│</span>   <span style=\"color: #7f7f7f; text-decoration-color: #7f7f7f\">106 │   │   │   │   │   │   │   │   │   │   │   │     </span>**kwargs)                                <span style=\"color: #800000; text-decoration-color: #800000\">│</span>\n",
       "<span style=\"color: #800000; text-decoration-color: #800000\">│</span>   <span style=\"color: #7f7f7f; text-decoration-color: #7f7f7f\">107 │   </span>                                                                                       <span style=\"color: #800000; text-decoration-color: #800000\">│</span>\n",
       "<span style=\"color: #800000; text-decoration-color: #800000\">│</span>   <span style=\"color: #7f7f7f; text-decoration-color: #7f7f7f\">108 │   </span><span style=\"color: #0000ff; text-decoration-color: #0000ff\">def</span> <span style=\"color: #00ff00; text-decoration-color: #00ff00\">create_measure</span>(<span style=\"color: #00ffff; text-decoration-color: #00ffff\">self</span>, *args, **kwargs):                                             <span style=\"color: #800000; text-decoration-color: #800000\">│</span>\n",
       "<span style=\"color: #800000; text-decoration-color: #800000\">│</span>                                                                                                  <span style=\"color: #800000; text-decoration-color: #800000\">│</span>\n",
       "<span style=\"color: #800000; text-decoration-color: #800000\">│</span> <span style=\"color: #bfbf7f; text-decoration-color: #bfbf7f\">/Users/dodo/SuperDuperDB/pinnacledb/pinnacledb/dbs/base/</span><span style=\"color: #808000; text-decoration-color: #808000; font-weight: bold\">database.py</span>:<span style=\"color: #0000ff; text-decoration-color: #0000ff\">167</span> in                   <span style=\"color: #800000; text-decoration-color: #800000\">│</span>\n",
       "<span style=\"color: #800000; text-decoration-color: #800000\">│</span> <span style=\"color: #00ff00; text-decoration-color: #00ff00\">create_learning_task</span>                                                                             <span style=\"color: #800000; text-decoration-color: #800000\">│</span>\n",
       "<span style=\"color: #800000; text-decoration-color: #800000\">│</span>                                                                                                  <span style=\"color: #800000; text-decoration-color: #800000\">│</span>\n",
       "<span style=\"color: #800000; text-decoration-color: #800000\">│</span>   <span style=\"color: #7f7f7f; text-decoration-color: #7f7f7f\"> 164 │   │   </span><span style=\"color: #0000ff; text-decoration-color: #0000ff\">if</span> identifier <span style=\"color: #ff00ff; text-decoration-color: #ff00ff\">is</span> <span style=\"color: #0000ff; text-decoration-color: #0000ff\">None</span>:                                                            <span style=\"color: #800000; text-decoration-color: #800000\">│</span>\n",
       "<span style=\"color: #800000; text-decoration-color: #800000\">│</span>   <span style=\"color: #7f7f7f; text-decoration-color: #7f7f7f\"> 165 │   │   │   </span>identifier = <span style=\"color: #808000; text-decoration-color: #808000\">'+'</span>.join([<span style=\"color: #808000; text-decoration-color: #808000\">f'{</span>m<span style=\"color: #808000; text-decoration-color: #808000\">}/{</span>k<span style=\"color: #808000; text-decoration-color: #808000\">}'</span> <span style=\"color: #0000ff; text-decoration-color: #0000ff\">for</span> m, k <span style=\"color: #ff00ff; text-decoration-color: #ff00ff\">in</span> <span style=\"color: #00ffff; text-decoration-color: #00ffff\">zip</span>(models, keys)])             <span style=\"color: #800000; text-decoration-color: #800000\">│</span>\n",
       "<span style=\"color: #800000; text-decoration-color: #800000\">│</span>   <span style=\"color: #7f7f7f; text-decoration-color: #7f7f7f\"> 166 │   │   </span>                                                                                  <span style=\"color: #800000; text-decoration-color: #800000\">│</span>\n",
       "<span style=\"color: #800000; text-decoration-color: #800000\">│</span> <span style=\"color: #800000; text-decoration-color: #800000\">❱ </span> 167 <span style=\"color: #7f7f7f; text-decoration-color: #7f7f7f\">│   │   </span><span style=\"color: #0000ff; text-decoration-color: #0000ff\">assert</span> identifier <span style=\"color: #ff00ff; text-decoration-color: #ff00ff\">not</span> <span style=\"color: #ff00ff; text-decoration-color: #ff00ff\">in</span> <span style=\"color: #00ffff; text-decoration-color: #00ffff\">self</span>.list_learning_tasks()                               <span style=\"color: #800000; text-decoration-color: #800000\">│</span>\n",
       "<span style=\"color: #800000; text-decoration-color: #800000\">│</span>   <span style=\"color: #7f7f7f; text-decoration-color: #7f7f7f\"> 168 │   │   </span>                                                                                  <span style=\"color: #800000; text-decoration-color: #800000\">│</span>\n",
       "<span style=\"color: #800000; text-decoration-color: #800000\">│</span>   <span style=\"color: #7f7f7f; text-decoration-color: #7f7f7f\"> 169 │   │   </span><span style=\"color: #0000ff; text-decoration-color: #0000ff\">for</span> k <span style=\"color: #ff00ff; text-decoration-color: #ff00ff\">in</span> keys_to_watch:                                                           <span style=\"color: #800000; text-decoration-color: #800000\">│</span>\n",
       "<span style=\"color: #800000; text-decoration-color: #800000\">│</span>   <span style=\"color: #7f7f7f; text-decoration-color: #7f7f7f\"> 170 │   │   │   </span><span style=\"color: #0000ff; text-decoration-color: #0000ff\">assert</span> <span style=\"color: #808000; text-decoration-color: #808000\">f'{</span>identifier<span style=\"color: #808000; text-decoration-color: #808000\">}/{</span>k<span style=\"color: #808000; text-decoration-color: #808000\">}'</span> <span style=\"color: #ff00ff; text-decoration-color: #ff00ff\">not</span> <span style=\"color: #ff00ff; text-decoration-color: #ff00ff\">in</span> <span style=\"color: #00ffff; text-decoration-color: #00ffff\">self</span>.list_watchers()                        <span style=\"color: #800000; text-decoration-color: #800000\">│</span>\n",
       "<span style=\"color: #800000; text-decoration-color: #800000\">╰──────────────────────────────────────────────────────────────────────────────────────────────────╯</span>\n",
       "<span style=\"color: #ff0000; text-decoration-color: #ff0000; font-weight: bold\">AssertionError</span>\n",
       "</pre>\n"
      ],
      "text/plain": [
       "\u001b[31m╭─\u001b[0m\u001b[31m──────────────────────────────\u001b[0m\u001b[31m \u001b[0m\u001b[1;31mTraceback \u001b[0m\u001b[1;2;31m(most recent call last)\u001b[0m\u001b[31m \u001b[0m\u001b[31m───────────────────────────────\u001b[0m\u001b[31m─╮\u001b[0m\n",
       "\u001b[31m│\u001b[0m \u001b[2;33m/var/folders/y9/b74b9yj906s_wtj0rrh2lf7c0000gn/T/ipykernel_15465/\u001b[0m\u001b[1;33m1624558940.py\u001b[0m:\u001b[94m3\u001b[0m in \u001b[92m<module>\u001b[0m     \u001b[31m│\u001b[0m\n",
       "\u001b[31m│\u001b[0m                                                                                                  \u001b[31m│\u001b[0m\n",
       "\u001b[31m│\u001b[0m \u001b[3;31m[Errno 2] No such file or directory: \u001b[0m                                                            \u001b[31m│\u001b[0m\n",
       "\u001b[31m│\u001b[0m \u001b[3;31m'/var/folders/y9/b74b9yj906s_wtj0rrh2lf7c0000gn/T/ipykernel_15465/1624558940.py'\u001b[0m                 \u001b[31m│\u001b[0m\n",
       "\u001b[31m│\u001b[0m                                                                                                  \u001b[31m│\u001b[0m\n",
       "\u001b[31m│\u001b[0m \u001b[2;33m/Users/dodo/SuperDuperDB/pinnacledb/pinnacledb/dbs/mongodb/\u001b[0m\u001b[1;33mcollection.py\u001b[0m:\u001b[94m105\u001b[0m in              \u001b[31m│\u001b[0m\n",
       "\u001b[31m│\u001b[0m \u001b[92mcreate_learning_task\u001b[0m                                                                             \u001b[31m│\u001b[0m\n",
       "\u001b[31m│\u001b[0m                                                                                                  \u001b[31m│\u001b[0m\n",
       "\u001b[31m│\u001b[0m   \u001b[2m102 \u001b[0m\u001b[2;33m│   │   \u001b[0m\u001b[33m:param args: positional arguments to ``self.database.create_learning_task``\u001b[0m        \u001b[31m│\u001b[0m\n",
       "\u001b[31m│\u001b[0m   \u001b[2m103 \u001b[0m\u001b[2;33m│   │   \u001b[0m\u001b[33m:param kwargs: passed to ``self.database.create_learning_task``\u001b[0m                    \u001b[31m│\u001b[0m\n",
       "\u001b[31m│\u001b[0m   \u001b[2m104 \u001b[0m\u001b[2;33m│   │   \u001b[0m\u001b[33m\"\"\"\u001b[0m                                                                                \u001b[31m│\u001b[0m\n",
       "\u001b[31m│\u001b[0m \u001b[31m❱ \u001b[0m105 \u001b[2m│   │   \u001b[0m\u001b[94mreturn\u001b[0m \u001b[96mself\u001b[0m.database.create_learning_task(models, keys, *(\u001b[96mself\u001b[0m.name, *query_para   \u001b[31m│\u001b[0m\n",
       "\u001b[31m│\u001b[0m   \u001b[2m106 \u001b[0m\u001b[2m│   │   │   │   │   │   │   │   │   │   │   │     \u001b[0m**kwargs)                                \u001b[31m│\u001b[0m\n",
       "\u001b[31m│\u001b[0m   \u001b[2m107 \u001b[0m\u001b[2m│   \u001b[0m                                                                                       \u001b[31m│\u001b[0m\n",
       "\u001b[31m│\u001b[0m   \u001b[2m108 \u001b[0m\u001b[2m│   \u001b[0m\u001b[94mdef\u001b[0m \u001b[92mcreate_measure\u001b[0m(\u001b[96mself\u001b[0m, *args, **kwargs):                                             \u001b[31m│\u001b[0m\n",
       "\u001b[31m│\u001b[0m                                                                                                  \u001b[31m│\u001b[0m\n",
       "\u001b[31m│\u001b[0m \u001b[2;33m/Users/dodo/SuperDuperDB/pinnacledb/pinnacledb/dbs/base/\u001b[0m\u001b[1;33mdatabase.py\u001b[0m:\u001b[94m167\u001b[0m in                   \u001b[31m│\u001b[0m\n",
       "\u001b[31m│\u001b[0m \u001b[92mcreate_learning_task\u001b[0m                                                                             \u001b[31m│\u001b[0m\n",
       "\u001b[31m│\u001b[0m                                                                                                  \u001b[31m│\u001b[0m\n",
       "\u001b[31m│\u001b[0m   \u001b[2m 164 \u001b[0m\u001b[2m│   │   \u001b[0m\u001b[94mif\u001b[0m identifier \u001b[95mis\u001b[0m \u001b[94mNone\u001b[0m:                                                            \u001b[31m│\u001b[0m\n",
       "\u001b[31m│\u001b[0m   \u001b[2m 165 \u001b[0m\u001b[2m│   │   │   \u001b[0midentifier = \u001b[33m'\u001b[0m\u001b[33m+\u001b[0m\u001b[33m'\u001b[0m.join([\u001b[33mf\u001b[0m\u001b[33m'\u001b[0m\u001b[33m{\u001b[0mm\u001b[33m}\u001b[0m\u001b[33m/\u001b[0m\u001b[33m{\u001b[0mk\u001b[33m}\u001b[0m\u001b[33m'\u001b[0m \u001b[94mfor\u001b[0m m, k \u001b[95min\u001b[0m \u001b[96mzip\u001b[0m(models, keys)])             \u001b[31m│\u001b[0m\n",
       "\u001b[31m│\u001b[0m   \u001b[2m 166 \u001b[0m\u001b[2m│   │   \u001b[0m                                                                                  \u001b[31m│\u001b[0m\n",
       "\u001b[31m│\u001b[0m \u001b[31m❱ \u001b[0m 167 \u001b[2m│   │   \u001b[0m\u001b[94massert\u001b[0m identifier \u001b[95mnot\u001b[0m \u001b[95min\u001b[0m \u001b[96mself\u001b[0m.list_learning_tasks()                               \u001b[31m│\u001b[0m\n",
       "\u001b[31m│\u001b[0m   \u001b[2m 168 \u001b[0m\u001b[2m│   │   \u001b[0m                                                                                  \u001b[31m│\u001b[0m\n",
       "\u001b[31m│\u001b[0m   \u001b[2m 169 \u001b[0m\u001b[2m│   │   \u001b[0m\u001b[94mfor\u001b[0m k \u001b[95min\u001b[0m keys_to_watch:                                                           \u001b[31m│\u001b[0m\n",
       "\u001b[31m│\u001b[0m   \u001b[2m 170 \u001b[0m\u001b[2m│   │   │   \u001b[0m\u001b[94massert\u001b[0m \u001b[33mf\u001b[0m\u001b[33m'\u001b[0m\u001b[33m{\u001b[0midentifier\u001b[33m}\u001b[0m\u001b[33m/\u001b[0m\u001b[33m{\u001b[0mk\u001b[33m}\u001b[0m\u001b[33m'\u001b[0m \u001b[95mnot\u001b[0m \u001b[95min\u001b[0m \u001b[96mself\u001b[0m.list_watchers()                        \u001b[31m│\u001b[0m\n",
       "\u001b[31m╰──────────────────────────────────────────────────────────────────────────────────────────────────╯\u001b[0m\n",
       "\u001b[1;91mAssertionError\u001b[0m\n"
      ]
     },
     "metadata": {},
     "output_type": "display_data"
    }
   ],
   "source": [
    "from pinnacledb.training.torch.trainer import TorchTrainerConfiguration\n",
    "\n",
    "jobs = docs.create_learning_task(\n",
    "    ['lenet', 'label'],\n",
    "    ['img', 'class'],\n",
    "    identifier='predictor',\n",
    "    configuration=TorchTrainerConfiguration(\n",
    "        objective=torch.nn.CrossEntropyLoss,\n",
    "        n_iterations=1000,\n",
    "        validation_interval=50,\n",
    "        loader_kwargs={'batch_size': 25, 'num_workers': 0},\n",
    "    ),\n",
    "    metrics=['accuracy'],\n",
    "    validation_sets=('classification',),\n",
    ")"
   ]
  },
  {
   "cell_type": "code",
   "execution_count": 28,
   "id": "11d7be90",
   "metadata": {},
   "outputs": [
    {
     "data": {
      "text/plain": [
       "['label', 'lenet']"
      ]
     },
     "execution_count": 28,
     "metadata": {},
     "output_type": "execute_result"
    }
   ],
   "source": [
    "docs.list_models()"
   ]
  },
  {
   "cell_type": "code",
   "execution_count": null,
   "id": "9ca40918",
   "metadata": {},
   "outputs": [],
   "source": [
    "docs."
   ]
  },
  {
   "cell_type": "markdown",
   "id": "485729b4",
   "metadata": {},
   "source": [
    "This command creates two jobs, one to train the model, and another to apply the model to the data after training. As before, the jobs are spawned asynchronously. We can watch the output of the jobs, but in the meantime we can also do other things in our environment, and with the database. Stopping the `watch_job` command, simply breaks the connection to the logs (doesn't stop the job)."
   ]
  },
  {
   "cell_type": "code",
   "execution_count": null,
   "id": "21a86159",
   "metadata": {
    "scrolled": false
   },
   "outputs": [],
   "source": [
    "docs.watch_job(jobs[0])"
   ]
  },
  {
   "cell_type": "markdown",
   "id": "24e4b3b5",
   "metadata": {},
   "source": [
    "We can continue watching the job, by executing the command again:"
   ]
  },
  {
   "cell_type": "code",
   "execution_count": null,
   "id": "5d0117e6",
   "metadata": {
    "scrolled": false
   },
   "outputs": [],
   "source": [
    "docs.watch_job(jobs[0])"
   ]
  },
  {
   "cell_type": "markdown",
   "id": "d241ae46",
   "metadata": {},
   "source": [
    "Now the training has finished, we can watch the computation of model outputs:"
   ]
  },
  {
   "cell_type": "code",
   "execution_count": null,
   "id": "71e3d1cf",
   "metadata": {
    "scrolled": false
   },
   "outputs": [],
   "source": [
    "docs.watch_job(jobs[1])"
   ]
  },
  {
   "cell_type": "code",
   "execution_count": null,
   "id": "67384028",
   "metadata": {},
   "outputs": [],
   "source": [
    "info = docs.database.get_object_info('predictor', 'learning_task')\n",
    "info"
   ]
  },
  {
   "cell_type": "code",
   "execution_count": null,
   "id": "99a20ded",
   "metadata": {},
   "outputs": [],
   "source": [
    "from matplotlib import pyplot as plt\n",
    "\n",
    "plt.plot(info['metric_values']['classification']['accuracy'])"
   ]
  },
  {
   "cell_type": "markdown",
   "id": "99caf447",
   "metadata": {},
   "source": [
    "Accuracy is good, and we can see the outputs have been added to the documents (`_outputs.img.lenet`):"
   ]
  },
  {
   "cell_type": "code",
   "execution_count": null,
   "id": "7051b119",
   "metadata": {},
   "outputs": [],
   "source": [
    "docs.find_one()"
   ]
  },
  {
   "cell_type": "markdown",
   "id": "4e41ab4c",
   "metadata": {},
   "source": [
    "After training, you'll see that a model **watcher** has been created, which keeps the `img` key up-to-date"
   ]
  },
  {
   "cell_type": "code",
   "execution_count": null,
   "id": "0def946d",
   "metadata": {},
   "outputs": [],
   "source": [
    "docs.list_watchers()"
   ]
  },
  {
   "cell_type": "markdown",
   "id": "fe5c2958",
   "metadata": {},
   "source": [
    "When new data are added, the trained model kicks into action \n",
    "and it's outputs are added/ enriched to the newly added data"
   ]
  },
  {
   "cell_type": "code",
   "execution_count": null,
   "id": "67f7e156",
   "metadata": {
    "scrolled": false
   },
   "outputs": [],
   "source": [
    "_, jobs = docs.insert_many([{'img': x[0], 'class': x[1], 'update': True} for x in mnist_data[-1000:]])"
   ]
  },
  {
   "cell_type": "markdown",
   "id": "21f964af",
   "metadata": {},
   "source": [
    "We can watch the progress of adding this new data as before:"
   ]
  },
  {
   "cell_type": "code",
   "execution_count": null,
   "id": "a1e825dd",
   "metadata": {},
   "outputs": [],
   "source": [
    "docs.watch_job(jobs['watcher', 'predictor'][0])"
   ]
  },
  {
   "cell_type": "markdown",
   "id": "c4168e3d",
   "metadata": {},
   "source": [
    "After inserting and training the model, the model is automatically served on the SuperDuperDB model-server. If you're deployment is exposed to the internet, then these predictions are available anywhere:"
   ]
  },
  {
   "cell_type": "code",
   "execution_count": null,
   "id": "1c37b84b",
   "metadata": {},
   "outputs": [],
   "source": [
    "im = docs.find_one({'_fold': 'valid'})['img']\n",
    "im"
   ]
  },
  {
   "cell_type": "code",
   "execution_count": null,
   "id": "3e184633",
   "metadata": {},
   "outputs": [],
   "source": [
    "docs.apply_model('lenet', im)"
   ]
  }
 ],
 "metadata": {
  "kernelspec": {
   "display_name": "Python 3 (ipykernel)",
   "language": "python",
   "name": "python3"
  },
  "language_info": {
   "codemirror_mode": {
    "name": "ipython",
    "version": 3
   },
   "file_extension": ".py",
   "mimetype": "text/x-python",
   "name": "python",
   "nbconvert_exporter": "python",
   "pygments_lexer": "ipython3",
   "version": "3.10.11"
  }
 },
 "nbformat": 4,
 "nbformat_minor": 5
}
