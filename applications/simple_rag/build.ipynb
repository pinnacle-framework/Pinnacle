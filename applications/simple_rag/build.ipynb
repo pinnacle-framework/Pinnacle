{
 "cells": [
  {
   "cell_type": "markdown",
   "id": "38c1a328-fd86-4c5f-bd54-b8664f433608",
   "metadata": {
    "editable": true,
    "slideshow": {
     "slide_type": ""
    },
    "tags": []
   },
   "source": [
    "# Simple retrieval augmented generation with OpenAI"
   ]
  },
  {
   "cell_type": "markdown",
   "id": "32f8484d-2e35-472a-9b24-1a30ec1d144b",
   "metadata": {},
   "source": [
    "<!-- TABS -->\n",
    "## Connect to pinnacle"
   ]
  },
  {
   "cell_type": "markdown",
   "id": "06d66021-ce62-4021-a2c5-158dee92b3bb",
   "metadata": {
    "editable": true,
    "slideshow": {
     "slide_type": ""
    },
    "tags": []
   },
   "source": [
    ":::note\n",
    "Note that this is only relevant if you are running pinnacle in development mode.\n",
    "Otherwise refer to \"Configuring your production system\".\n",
    ":::"
   ]
  },
  {
   "cell_type": "code",
   "execution_count": 1,
   "id": "3ef70f6d-a189-460a-8864-241a689624e2",
   "metadata": {
    "editable": true,
    "slideshow": {
     "slide_type": ""
    },
    "tags": [
     "parameters"
    ]
   },
   "outputs": [],
   "source": [
    "APPLY = True\n",
    "\n",
    "import os\n",
    "\n",
    "os.environ['pinnacle_SECRETS_VOLUME'] = '~/data/secrets/snowflake_dev'"
   ]
  },
  {
   "cell_type": "code",
   "execution_count": 2,
   "id": "cb029a5e-fedf-4f07-8a31-d220cfbfbb3d",
   "metadata": {
    "editable": true,
    "slideshow": {
     "slide_type": ""
    },
    "tags": []
   },
   "outputs": [
    {
     "name": "stdout",
     "output_type": "stream",
     "text": [
      "Building Datalayer...\n",
      "Building Datalayer... DONE\n"
     ]
    }
   ],
   "source": [
    "from pinnacle import pinnacle, CFG\n",
    "import os\n",
    "\n",
    "db = pinnacle('mongomock://', initialize_cluster=False)"
   ]
  },
  {
   "cell_type": "code",
   "execution_count": 3,
   "id": "4e7902bd",
   "metadata": {
    "editable": true,
    "slideshow": {
     "slide_type": ""
    },
    "tags": []
   },
   "outputs": [],
   "source": [
    "import json\n",
    "import requests\n",
    "import io\n",
    "from pinnacle import logging\n",
    "\n",
    "\n",
    "def getter():\n",
    "    logging.info('Downloading data...')\n",
    "    response = requests.get('https://pinnacledb-public-demo.s3.amazonaws.com/text.json')\n",
    "    logging.info('Downloading data... (Done)')\n",
    "    data = json.loads(response.content.decode('utf-8'))\n",
    "    return [{'x': r} for r in data]"
   ]
  },
  {
   "cell_type": "code",
   "execution_count": 4,
   "id": "1ef8dd07-1b47-4dce-84dd-a081d1f5ee9d",
   "metadata": {},
   "outputs": [],
   "source": [
    "if APPLY:\n",
    "    data = getter()"
   ]
  },
  {
   "cell_type": "code",
   "execution_count": 5,
   "id": "14067b23-7958-4c93-9311-2525b133bfca",
   "metadata": {},
   "outputs": [],
   "source": [
    "from pinnacle import Table\n",
    "\n",
    "table = Table('<var:table_name>', fields={'x': 'str'})"
   ]
  },
  {
   "cell_type": "markdown",
   "id": "c4885060-450c-4446-b5fb-e58591c0d1ff",
   "metadata": {},
   "source": [
    "Create plugin:"
   ]
  },
  {
   "cell_type": "code",
   "execution_count": 6,
   "id": "f879a4df-6f60-4c80-8fdd-285a1ef92c90",
   "metadata": {},
   "outputs": [],
   "source": [
    "from pinnacle import Plugin\n",
    "\n",
    "plugin = Plugin(path='./rag_plugin.py')"
   ]
  },
  {
   "cell_type": "markdown",
   "id": "54fea927-ee4a-44cd-aaf2-634b574c316d",
   "metadata": {},
   "source": [
    "<!-- TABS -->\n",
    "## Apply a chunker for search"
   ]
  },
  {
   "cell_type": "markdown",
   "id": "06d90bda-e8c4-494e-a38c-837fb63689ae",
   "metadata": {},
   "source": [
    ":::note\n",
    "Note that applying a chunker is ***not*** mandatory for search.\n",
    "If your data is already chunked (e.g. short text snippets or audio) or if you\n",
    "are searching through something like images, which can't be chunked, then this\n",
    "won't be necessary.\n",
    ":::"
   ]
  },
  {
   "cell_type": "code",
   "execution_count": 7,
   "id": "93d21872-d4dc-40dc-abab-fb07ba102ea3",
   "metadata": {},
   "outputs": [],
   "source": [
    "from pinnacle import Listener\n",
    "from rag_plugin import Chunker\n",
    "\n",
    "upstream_listener = Listener(\n",
    "    model=Chunker(identifier='chunker'),\n",
    "    select=db['<var:table_name>'],\n",
    "    key='x',\n",
    "    identifier='chunker',\n",
    "    flatten=True,\n",
    "    upstream=[plugin],\n",
    ")"
   ]
  },
  {
   "cell_type": "markdown",
   "id": "c9a2cd87-723f-4cee-87c7-9b8181c9e54b",
   "metadata": {},
   "source": [
    "<!-- TABS -->\n",
    "## Build text embedding model"
   ]
  },
  {
   "cell_type": "markdown",
   "id": "10753ea4-9893-4056-813d-7d6ddf78ce02",
   "metadata": {},
   "source": [
    "OpenAI:"
   ]
  },
  {
   "cell_type": "code",
   "execution_count": 8,
   "id": "a9b1f538-65ca-499e-b6d0-2dd733f81723",
   "metadata": {},
   "outputs": [],
   "source": [
    "import os\n",
    "\n",
    "from pinnacle_openai import OpenAIEmbedding\n",
    "\n",
    "openai_embedding = OpenAIEmbedding(\n",
    "    identifier='text-embedding',\n",
    "    model='<var:embedding_model>',\n",
    "    datatype='vector[float32:1536]',\n",
    ")"
   ]
  },
  {
   "cell_type": "markdown",
   "id": "f31843db-8638-458a-a770-96a79041be88",
   "metadata": {},
   "source": [
    "## Create vector-index"
   ]
  },
  {
   "cell_type": "code",
   "execution_count": 9,
   "id": "4663fa4b-c2ec-427d-bf8b-b8b109cc2ccf",
   "metadata": {},
   "outputs": [],
   "source": [
    "from pinnacle import VectorIndex, Listener\n",
    "\n",
    "vector_index_name = 'vectorindex'\n",
    "\n",
    "vector_index = VectorIndex(\n",
    "    vector_index_name,\n",
    "    indexing_listener=Listener(\n",
    "        key=upstream_listener.outputs,\n",
    "        select=db[upstream_listener.outputs],\n",
    "        model=openai_embedding,\n",
    "        identifier='embeddinglistener',\n",
    "        upstream=[upstream_listener],\n",
    "    )\n",
    ")"
   ]
  },
  {
   "cell_type": "markdown",
   "id": "1179a67b-4e40-496b-9851-98f32d42faa0",
   "metadata": {},
   "source": [
    "<!-- TABS -->\n",
    "## Build LLM"
   ]
  },
  {
   "cell_type": "code",
   "execution_count": 10,
   "id": "75faf501-f0cf-4707-a165-5a05cfb14bbf",
   "metadata": {},
   "outputs": [],
   "source": [
    "from pinnacle_openai import OpenAIChatCompletion\n",
    "\n",
    "\n",
    "llm_openai = OpenAIChatCompletion(\n",
    "    identifier='llm-model',\n",
    "    model='<var:llm_model>',\n",
    "    datatype='str',\n",
    ")"
   ]
  },
  {
   "cell_type": "markdown",
   "id": "60ae6203-dcc4-493c-a8f8-f727f0f75778",
   "metadata": {},
   "source": [
    "## Answer question with LLM"
   ]
  },
  {
   "cell_type": "code",
   "execution_count": 11,
   "id": "44baeb09-6f35-4cf2-b814-46283a59f7e9",
   "metadata": {},
   "outputs": [],
   "source": [
    "from rag_plugin import RAGModel\n",
    "\n",
    "\n",
    "prompt_template = (\n",
    "    \"Use the following context snippets, these snippets are not ordered!, Answer the question based on this context.\\n\"\n",
    "    \"These snippets are samples from our internal data-repositories, and should be used exclusively and as a matter\"\n",
    "    \" of priority to answer the question. Please answer in 20 words or less.\\n\"\n",
    "    \"{context}\\n\"\n",
    "    \"Here is the question: {query}\"\n",
    ")\n",
    "\n",
    "\n",
    "rag = RAGModel(\n",
    "    'simple_rag',\n",
    "    select=db[upstream_listener.outputs].select().like({upstream_listener.outputs: '<var:query>'}, vector_index=vector_index_name, n=5),\n",
    "    prompt_template=prompt_template,\n",
    "    key=upstream_listener.outputs,\n",
    "    llm=llm_openai,\n",
    ")"
   ]
  },
  {
   "cell_type": "markdown",
   "id": "183bf5b6-4644-4e4c-b65b-e6bafdc6b49f",
   "metadata": {},
   "source": [
    "By applying the RAG model to the database, it will subsequently be accessible for use in other services."
   ]
  },
  {
   "cell_type": "code",
   "execution_count": 12,
   "id": "c974643b-e642-40ea-942f-4d90e0d1bbe1",
   "metadata": {},
   "outputs": [],
   "source": [
    "from pinnacle import Streamlit, Plugin\n",
    "from rag_plugin import demo_func\n",
    "\n",
    "demo = Streamlit('simple-rag-demo', demo_func=demo_func)"
   ]
  },
  {
   "cell_type": "code",
   "execution_count": 16,
   "id": "e6787c78-4b14-4a72-818b-450408a74331",
   "metadata": {},
   "outputs": [],
   "source": [
    "from pinnacle import Application\n",
    "\n",
    "TABLE = 'other'\n",
    "\n",
    "app = Application(\n",
    "    'simple-rag-app',\n",
    "    upstream=[table, plugin],\n",
    "    components=[\n",
    "        upstream_listener,\n",
    "        vector_index,\n",
    "        rag,\n",
    "        demo,\n",
    "    ],\n",
    "    variables={\n",
    "        'table_name': TABLE,\n",
    "        'id_field': '_id',\n",
    "        'embedding_model': 'text-embedding-ada-002',\n",
    "        'llm_model': 'gpt-3.5-turbo',\n",
    "    }\n",
    ")"
   ]
  },
  {
   "cell_type": "code",
   "execution_count": 17,
   "id": "0770487c-9e26-4bb8-8554-37fc4a8ca24c",
   "metadata": {
    "scrolled": true
   },
   "outputs": [
    {
     "data": {
      "text/html": [
       "<pre style=\"white-space:pre;overflow-x:auto;line-height:normal;font-family:Menlo,'DejaVu Sans Mono',consolas,'Courier New',monospace\">Application:simple-rag-app:6c4f73b9d964d6faeb\n",
       "├── upstream\n",
       "│   ├── [0] Table:other:123ae67eab75faf8b7\n",
       "│   │   ├── fields: {'x': 'str'}\n",
       "│   │   └── primary_id: id\n",
       "│   └── [1] Plugin:plugin-rag_plugin_py:8624439cb46a595e50\n",
       "│       ├── path: /Users/dodo/.pinnacle/plugins/ddfb21fd92ba14e2ad/rag_plugin.py\n",
       "│       └── cache_path: ~/.pinnacle/plugins\n",
       "├── components\n",
       "│   ├── [0] Listener:chunker:1862a8fc1629f85fe6\n",
       "│   │   ├── upstream\n",
       "│   │   │   └── [0] Plugin:plugin-rag_plugin_py:49e0c72d2b166dbd05\n",
       "│   │   │       ├── path: /Users/dodo/.pinnacle/plugins/dcdf7aa2a2895ea7e8/rag_plugin.py\n",
       "│   │   │       └── cache_path: ~/.pinnacle/plugins\n",
       "│   │   ├── cdc_table: docs\n",
       "│   │   ├── key: x\n",
       "│   │   ├── model: Chunker:chunker:b12cd565989b72fc4c\n",
       "│   │   │   ├── datatype: str\n",
       "│   │   │   └── chunk_size: 200\n",
       "│   │   ├── select: docs\n",
       "│   │   └── flatten: True\n",
       "│   ├── [1] VectorIndex:vectorindex:851e610e9d2ace0b54\n",
       "│   │   ├── cdc_table: _outputs__embeddinglistener__a67199bb7c0c1ac162\n",
       "│   │   ├── indexing_listener: Listener:embeddinglistener:a67199bb7c0c1ac162\n",
       "│   │   │   ├── upstream\n",
       "│   │   │   │   └── [0] Listener:chunker:1862a8fc1629f85fe6\n",
       "│   │   │   │       ├── upstream\n",
       "│   │   │   │       │   └── [0] Plugin:plugin-rag_plugin_py:5091ab959553035f51\n",
       "│   │   │   │       │       ├── path: /Users/dodo/.pinnacle/plugins/01e925c9d5ced65a17/rag_plugin.py\n",
       "│   │   │   │       │       └── cache_path: ~/.pinnacle/plugins\n",
       "│   │   │   │       ├── cdc_table: docs\n",
       "│   │   │   │       ├── key: x\n",
       "│   │   │   │       ├── model: Chunker:chunker:b12cd565989b72fc4c\n",
       "│   │   │   │       │   ├── datatype: str\n",
       "│   │   │   │       │   └── chunk_size: 200\n",
       "│   │   │   │       ├── select: docs\n",
       "│   │   │   │       └── flatten: True\n",
       "│   │   │   ├── cdc_table: _outputs__chunker__1862a8fc1629f85fe6\n",
       "│   │   │   ├── key: _outputs__chunker__1862a8fc1629f85fe6\n",
       "│   │   │   ├── model: OpenAIEmbedding:text-embedding:2b907268839faa545d\n",
       "│   │   │   │   ├── datatype: vector\n",
       "│   │   │   │   ├── model: text-embedding-ada-002\n",
       "│   │   │   │   ├── max_batch_size: 8\n",
       "│   │   │   │   └── batch_size: 100\n",
       "│   │   │   └── select: _outputs__chunker__1862a8fc1629f85fe6\n",
       "│   │   └── measure: cosine\n",
       "│   ├── [2] RAGModel:simple_rag:233661fe822e51dd90\n",
       "│   │   ├── datatype: str\n",
       "│   │   ├── prompt_template: Use the following context snippets, these snippets are not ordered!, Answer the \n",
       "│   │   │   question based on this context.\n",
       "│   │   │   These snippets are samples from our internal data-repositories, and should be used exclusively and as a\n",
       "│   │   │   matter of priority to answer the question. Please answer in 20 words or less.\n",
       "│   │   │   {context}\n",
       "│   │   │   Here is the question: {query}\n",
       "│   │   ├── select: _outputs__chunker__1862a8fc1629f85fe6.select().like({'_outputs__chunker__1862a8fc1629f85fe6': \n",
       "│   │   │   '&lt;var:query&gt;'}, \"vectorindex\", n=5)\n",
       "│   │   ├── key: _outputs__chunker__1862a8fc1629f85fe6\n",
       "│   │   └── llm: OpenAIChatCompletion:llm-model:ffce2ddfa3a6a5288f\n",
       "│   │       ├── datatype: str\n",
       "│   │       ├── model: gpt-3.5-turbo\n",
       "│   │       ├── max_batch_size: 8\n",
       "│   │       └── batch_size: 1\n",
       "│   └── [3] Streamlit:simple-rag-demo:b33aaf6fa76d173336\n",
       "│       └── demo_func: &lt;function demo_func at 0x11ffdd870&gt;\n",
       "└── variables: {'table_name': 'other', 'id_field': '_id', 'embedding_model': 'text-embedding-ada-002', 'llm_model':\n",
       "    'gpt-3.5-turbo'}\n",
       "</pre>\n"
      ],
      "text/plain": [
       "Application:simple-rag-app:6c4f73b9d964d6faeb\n",
       "├── upstream\n",
       "│   ├── [0] Table:other:123ae67eab75faf8b7\n",
       "│   │   ├── fields: {'x': 'str'}\n",
       "│   │   └── primary_id: id\n",
       "│   └── [1] Plugin:plugin-rag_plugin_py:8624439cb46a595e50\n",
       "│       ├── path: /Users/dodo/.pinnacle/plugins/ddfb21fd92ba14e2ad/rag_plugin.py\n",
       "│       └── cache_path: ~/.pinnacle/plugins\n",
       "├── components\n",
       "│   ├── [0] Listener:chunker:1862a8fc1629f85fe6\n",
       "│   │   ├── upstream\n",
       "│   │   │   └── [0] Plugin:plugin-rag_plugin_py:49e0c72d2b166dbd05\n",
       "│   │   │       ├── path: /Users/dodo/.pinnacle/plugins/dcdf7aa2a2895ea7e8/rag_plugin.py\n",
       "│   │   │       └── cache_path: ~/.pinnacle/plugins\n",
       "│   │   ├── cdc_table: docs\n",
       "│   │   ├── key: x\n",
       "│   │   ├── model: Chunker:chunker:b12cd565989b72fc4c\n",
       "│   │   │   ├── datatype: str\n",
       "│   │   │   └── chunk_size: 200\n",
       "│   │   ├── select: docs\n",
       "│   │   └── flatten: True\n",
       "│   ├── [1] VectorIndex:vectorindex:851e610e9d2ace0b54\n",
       "│   │   ├── cdc_table: _outputs__embeddinglistener__a67199bb7c0c1ac162\n",
       "│   │   ├── indexing_listener: Listener:embeddinglistener:a67199bb7c0c1ac162\n",
       "│   │   │   ├── upstream\n",
       "│   │   │   │   └── [0] Listener:chunker:1862a8fc1629f85fe6\n",
       "│   │   │   │       ├── upstream\n",
       "│   │   │   │       │   └── [0] Plugin:plugin-rag_plugin_py:5091ab959553035f51\n",
       "│   │   │   │       │       ├── path: /Users/dodo/.pinnacle/plugins/01e925c9d5ced65a17/rag_plugin.py\n",
       "│   │   │   │       │       └── cache_path: ~/.pinnacle/plugins\n",
       "│   │   │   │       ├── cdc_table: docs\n",
       "│   │   │   │       ├── key: x\n",
       "│   │   │   │       ├── model: Chunker:chunker:b12cd565989b72fc4c\n",
       "│   │   │   │       │   ├── datatype: str\n",
       "│   │   │   │       │   └── chunk_size: 200\n",
       "│   │   │   │       ├── select: docs\n",
       "│   │   │   │       └── flatten: True\n",
       "│   │   │   ├── cdc_table: _outputs__chunker__1862a8fc1629f85fe6\n",
       "│   │   │   ├── key: _outputs__chunker__1862a8fc1629f85fe6\n",
       "│   │   │   ├── model: OpenAIEmbedding:text-embedding:2b907268839faa545d\n",
       "│   │   │   │   ├── datatype: vector\n",
       "│   │   │   │   ├── model: text-embedding-ada-002\n",
       "│   │   │   │   ├── max_batch_size: 8\n",
       "│   │   │   │   └── batch_size: 100\n",
       "│   │   │   └── select: _outputs__chunker__1862a8fc1629f85fe6\n",
       "│   │   └── measure: cosine\n",
       "│   ├── [2] RAGModel:simple_rag:233661fe822e51dd90\n",
       "│   │   ├── datatype: str\n",
       "│   │   ├── prompt_template: Use the following context snippets, these snippets are not ordered!, Answer the \n",
       "│   │   │   question based on this context.\n",
       "│   │   │   These snippets are samples from our internal data-repositories, and should be used exclusively and as a\n",
       "│   │   │   matter of priority to answer the question. Please answer in 20 words or less.\n",
       "│   │   │   {context}\n",
       "│   │   │   Here is the question: {query}\n",
       "│   │   ├── select: _outputs__chunker__1862a8fc1629f85fe6.select().like({'_outputs__chunker__1862a8fc1629f85fe6': \n",
       "│   │   │   '<var:query>'}, \"vectorindex\", n=5)\n",
       "│   │   ├── key: _outputs__chunker__1862a8fc1629f85fe6\n",
       "│   │   └── llm: OpenAIChatCompletion:llm-model:ffce2ddfa3a6a5288f\n",
       "│   │       ├── datatype: str\n",
       "│   │       ├── model: gpt-3.5-turbo\n",
       "│   │       ├── max_batch_size: 8\n",
       "│   │       └── batch_size: 1\n",
       "│   └── [3] Streamlit:simple-rag-demo:b33aaf6fa76d173336\n",
       "│       └── demo_func: <function demo_func at 0x11ffdd870>\n",
       "└── variables: {'table_name': 'other', 'id_field': '_id', 'embedding_model': 'text-embedding-ada-002', 'llm_model':\n",
       "    'gpt-3.5-turbo'}\n"
      ]
     },
     "metadata": {},
     "output_type": "display_data"
    }
   ],
   "source": [
    "app.show()"
   ]
  },
  {
   "cell_type": "code",
   "execution_count": 15,
   "id": "137448de-eeee-4aa1-9202-bf26aca68aee",
   "metadata": {},
   "outputs": [
    {
     "data": {
      "text/html": [
       "<pre style=\"white-space:pre;overflow-x:auto;line-height:normal;font-family:Menlo,'DejaVu Sans Mono',consolas,'Courier New',monospace\"><span style=\"color: #008000; text-decoration-color: #008000; font-weight: bold\">╭─────────────────────────────────────────────────────────────────────────────────────────────────────────────────╮</span>\n",
       "<span style=\"color: #008000; text-decoration-color: #008000; font-weight: bold\">│ Component to apply                                                                                              │</span>\n",
       "<span style=\"color: #008000; text-decoration-color: #008000; font-weight: bold\">╰─────────────────────────────────────────────────────────────────────────────────────────────────────────────────╯</span>\n",
       "</pre>\n"
      ],
      "text/plain": [
       "\u001b[1;32m╭─────────────────────────────────────────────────────────────────────────────────────────────────────────────────╮\u001b[0m\n",
       "\u001b[1;32m│\u001b[0m\u001b[1;32m \u001b[0m\u001b[1;32mComponent to apply\u001b[0m\u001b[1;32m                                                                                             \u001b[0m\u001b[1;32m \u001b[0m\u001b[1;32m│\u001b[0m\n",
       "\u001b[1;32m╰─────────────────────────────────────────────────────────────────────────────────────────────────────────────────╯\u001b[0m\n"
      ]
     },
     "metadata": {},
     "output_type": "display_data"
    },
    {
     "data": {
      "text/html": [
       "<pre style=\"white-space:pre;overflow-x:auto;line-height:normal;font-family:Menlo,'DejaVu Sans Mono',consolas,'Courier New',monospace\">Application:simple-rag-app:6c4f73b9d964d6faeb\n",
       "├── upstream\n",
       "│   ├── [0] Table:docs:3b21dc32e8beebd92b\n",
       "│   │   ├── fields: {'x': 'str'}\n",
       "│   │   └── primary_id: id\n",
       "│   └── [1] Plugin:plugin-rag_plugin_py:8624439cb46a595e50\n",
       "│       ├── path: /Users/dodo/.pinnacle/plugins/ddfb21fd92ba14e2ad/rag_plugin.py\n",
       "│       └── cache_path: ~/.pinnacle/plugins\n",
       "├── components\n",
       "│   ├── [0] Listener:chunker:1862a8fc1629f85fe6\n",
       "│   │   ├── upstream\n",
       "│   │   │   └── [0] Plugin:plugin-rag_plugin_py:dcdf7aa2a2895ea7e8\n",
       "│   │   │       ├── path: /Users/dodo/.pinnacle/plugins/64a9436d940ae35d51/rag_plugin.py\n",
       "│   │   │       └── cache_path: ~/.pinnacle/plugins\n",
       "│   │   ├── cdc_table: docs\n",
       "│   │   ├── key: x\n",
       "│   │   ├── model: Chunker:chunker:b12cd565989b72fc4c\n",
       "│   │   │   ├── datatype: str\n",
       "│   │   │   └── chunk_size: 200\n",
       "│   │   ├── select: docs\n",
       "│   │   └── flatten: True\n",
       "│   ├── [1] VectorIndex:vectorindex:851e610e9d2ace0b54\n",
       "│   │   ├── cdc_table: _outputs__embeddinglistener__a67199bb7c0c1ac162\n",
       "│   │   ├── indexing_listener: Listener:embeddinglistener:a67199bb7c0c1ac162\n",
       "│   │   │   ├── upstream\n",
       "│   │   │   │   └── [0] Listener:chunker:1862a8fc1629f85fe6\n",
       "│   │   │   │       ├── upstream\n",
       "│   │   │   │       │   └── [0] Plugin:plugin-rag_plugin_py:ba47e61be1866e7cf2\n",
       "│   │   │   │       │       ├── path: /Users/dodo/.pinnacle/plugins/83e1c986d78eea7005/rag_plugin.py\n",
       "│   │   │   │       │       └── cache_path: ~/.pinnacle/plugins\n",
       "│   │   │   │       ├── cdc_table: docs\n",
       "│   │   │   │       ├── key: x\n",
       "│   │   │   │       ├── model: Chunker:chunker:b12cd565989b72fc4c\n",
       "│   │   │   │       │   ├── datatype: str\n",
       "│   │   │   │       │   └── chunk_size: 200\n",
       "│   │   │   │       ├── select: docs\n",
       "│   │   │   │       └── flatten: True\n",
       "│   │   │   ├── cdc_table: _outputs__chunker__1862a8fc1629f85fe6\n",
       "│   │   │   ├── key: _outputs__chunker__1862a8fc1629f85fe6\n",
       "│   │   │   ├── model: OpenAIEmbedding:text-embedding:2b907268839faa545d\n",
       "│   │   │   │   ├── datatype: vector\n",
       "│   │   │   │   ├── model: text-embedding-ada-002\n",
       "│   │   │   │   ├── max_batch_size: 8\n",
       "│   │   │   │   └── batch_size: 100\n",
       "│   │   │   └── select: _outputs__chunker__1862a8fc1629f85fe6\n",
       "│   │   └── measure: cosine\n",
       "│   ├── [2] RAGModel:simple_rag:233661fe822e51dd90\n",
       "│   │   ├── datatype: str\n",
       "│   │   ├── prompt_template: Use the following context snippets, these snippets are not ordered!, Answer the \n",
       "│   │   │   question based on this context.\n",
       "│   │   │   These snippets are samples from our internal data-repositories, and should be used exclusively and as a\n",
       "│   │   │   matter of priority to answer the question. Please answer in 20 words or less.\n",
       "│   │   │   {context}\n",
       "│   │   │   Here is the question: {query}\n",
       "│   │   ├── select: _outputs__chunker__1862a8fc1629f85fe6.select().like({'_outputs__chunker__1862a8fc1629f85fe6': \n",
       "│   │   │   '&lt;var:query&gt;'}, \"vectorindex\", n=5)\n",
       "│   │   ├── key: _outputs__chunker__1862a8fc1629f85fe6\n",
       "│   │   └── llm: OpenAIChatCompletion:llm-model:ffce2ddfa3a6a5288f\n",
       "│   │       ├── datatype: str\n",
       "│   │       ├── model: gpt-3.5-turbo\n",
       "│   │       ├── max_batch_size: 8\n",
       "│   │       └── batch_size: 1\n",
       "│   └── [3] Streamlit:simple-rag-demo:b33aaf6fa76d173336\n",
       "│       └── demo_func: &lt;function demo_func at 0x11ffdd870&gt;\n",
       "└── variables: {'table_name': 'docs', 'id_field': '_id', 'embedding_model': 'text-embedding-ada-002', 'llm_model': \n",
       "    'gpt-3.5-turbo'}\n",
       "</pre>\n"
      ],
      "text/plain": [
       "Application:simple-rag-app:6c4f73b9d964d6faeb\n",
       "├── upstream\n",
       "│   ├── [0] Table:docs:3b21dc32e8beebd92b\n",
       "│   │   ├── fields: {'x': 'str'}\n",
       "│   │   └── primary_id: id\n",
       "│   └── [1] Plugin:plugin-rag_plugin_py:8624439cb46a595e50\n",
       "│       ├── path: /Users/dodo/.pinnacle/plugins/ddfb21fd92ba14e2ad/rag_plugin.py\n",
       "│       └── cache_path: ~/.pinnacle/plugins\n",
       "├── components\n",
       "│   ├── [0] Listener:chunker:1862a8fc1629f85fe6\n",
       "│   │   ├── upstream\n",
       "│   │   │   └── [0] Plugin:plugin-rag_plugin_py:dcdf7aa2a2895ea7e8\n",
       "│   │   │       ├── path: /Users/dodo/.pinnacle/plugins/64a9436d940ae35d51/rag_plugin.py\n",
       "│   │   │       └── cache_path: ~/.pinnacle/plugins\n",
       "│   │   ├── cdc_table: docs\n",
       "│   │   ├── key: x\n",
       "│   │   ├── model: Chunker:chunker:b12cd565989b72fc4c\n",
       "│   │   │   ├── datatype: str\n",
       "│   │   │   └── chunk_size: 200\n",
       "│   │   ├── select: docs\n",
       "│   │   └── flatten: True\n",
       "│   ├── [1] VectorIndex:vectorindex:851e610e9d2ace0b54\n",
       "│   │   ├── cdc_table: _outputs__embeddinglistener__a67199bb7c0c1ac162\n",
       "│   │   ├── indexing_listener: Listener:embeddinglistener:a67199bb7c0c1ac162\n",
       "│   │   │   ├── upstream\n",
       "│   │   │   │   └── [0] Listener:chunker:1862a8fc1629f85fe6\n",
       "│   │   │   │       ├── upstream\n",
       "│   │   │   │       │   └── [0] Plugin:plugin-rag_plugin_py:ba47e61be1866e7cf2\n",
       "│   │   │   │       │       ├── path: /Users/dodo/.pinnacle/plugins/83e1c986d78eea7005/rag_plugin.py\n",
       "│   │   │   │       │       └── cache_path: ~/.pinnacle/plugins\n",
       "│   │   │   │       ├── cdc_table: docs\n",
       "│   │   │   │       ├── key: x\n",
       "│   │   │   │       ├── model: Chunker:chunker:b12cd565989b72fc4c\n",
       "│   │   │   │       │   ├── datatype: str\n",
       "│   │   │   │       │   └── chunk_size: 200\n",
       "│   │   │   │       ├── select: docs\n",
       "│   │   │   │       └── flatten: True\n",
       "│   │   │   ├── cdc_table: _outputs__chunker__1862a8fc1629f85fe6\n",
       "│   │   │   ├── key: _outputs__chunker__1862a8fc1629f85fe6\n",
       "│   │   │   ├── model: OpenAIEmbedding:text-embedding:2b907268839faa545d\n",
       "│   │   │   │   ├── datatype: vector\n",
       "│   │   │   │   ├── model: text-embedding-ada-002\n",
       "│   │   │   │   ├── max_batch_size: 8\n",
       "│   │   │   │   └── batch_size: 100\n",
       "│   │   │   └── select: _outputs__chunker__1862a8fc1629f85fe6\n",
       "│   │   └── measure: cosine\n",
       "│   ├── [2] RAGModel:simple_rag:233661fe822e51dd90\n",
       "│   │   ├── datatype: str\n",
       "│   │   ├── prompt_template: Use the following context snippets, these snippets are not ordered!, Answer the \n",
       "│   │   │   question based on this context.\n",
       "│   │   │   These snippets are samples from our internal data-repositories, and should be used exclusively and as a\n",
       "│   │   │   matter of priority to answer the question. Please answer in 20 words or less.\n",
       "│   │   │   {context}\n",
       "│   │   │   Here is the question: {query}\n",
       "│   │   ├── select: _outputs__chunker__1862a8fc1629f85fe6.select().like({'_outputs__chunker__1862a8fc1629f85fe6': \n",
       "│   │   │   '<var:query>'}, \"vectorindex\", n=5)\n",
       "│   │   ├── key: _outputs__chunker__1862a8fc1629f85fe6\n",
       "│   │   └── llm: OpenAIChatCompletion:llm-model:ffce2ddfa3a6a5288f\n",
       "│   │       ├── datatype: str\n",
       "│   │       ├── model: gpt-3.5-turbo\n",
       "│   │       ├── max_batch_size: 8\n",
       "│   │       └── batch_size: 1\n",
       "│   └── [3] Streamlit:simple-rag-demo:b33aaf6fa76d173336\n",
       "│       └── demo_func: <function demo_func at 0x11ffdd870>\n",
       "└── variables: {'table_name': 'docs', 'id_field': '_id', 'embedding_model': 'text-embedding-ada-002', 'llm_model': \n",
       "    'gpt-3.5-turbo'}\n"
      ]
     },
     "metadata": {},
     "output_type": "display_data"
    },
    {
     "data": {
      "text/html": [
       "<pre style=\"white-space:pre;overflow-x:auto;line-height:normal;font-family:Menlo,'DejaVu Sans Mono',consolas,'Courier New',monospace\"><span style=\"color: #000080; text-decoration-color: #000080; font-weight: bold\">╭─────────────────────────────────────────────────────────────────────────────────────────────────────────────────╮</span>\n",
       "<span style=\"color: #000080; text-decoration-color: #000080; font-weight: bold\">│ Deployment plan                                                                                                 │</span>\n",
       "<span style=\"color: #000080; text-decoration-color: #000080; font-weight: bold\">╰─────────────────────────────────────────────────────────────────────────────────────────────────────────────────╯</span>\n",
       "</pre>\n"
      ],
      "text/plain": [
       "\u001b[1;34m╭─────────────────────────────────────────────────────────────────────────────────────────────────────────────────╮\u001b[0m\n",
       "\u001b[1;34m│\u001b[0m\u001b[1;34m \u001b[0m\u001b[1;34mDeployment plan\u001b[0m\u001b[1;34m                                                                                                \u001b[0m\u001b[1;34m \u001b[0m\u001b[1;34m│\u001b[0m\n",
       "\u001b[1;34m╰─────────────────────────────────────────────────────────────────────────────────────────────────────────────────╯\u001b[0m\n"
      ]
     },
     "metadata": {},
     "output_type": "display_data"
    },
    {
     "data": {
      "text/html": [
       "<pre style=\"white-space:pre;overflow-x:auto;line-height:normal;font-family:Menlo,'DejaVu Sans Mono',consolas,'Courier New',monospace\"><span style=\"color: #008000; text-decoration-color: #008000\">╭─────────────────────────────────────── Deployment plan – events overview ───────────────────────────────────────╮</span>\n",
       "<span style=\"color: #008000; text-decoration-color: #008000\">│</span> ┏━━━━┳━━━━━━━━━━━━┳━━━━━━━━━━━━━━━━━━━━━━━━━━━━━━━━━━━━━━━━━━━━━━━━━━━━━━━━━━━━━━━━━━━━━━━━━━━━━━━━━━━━━━━━━━━┓ <span style=\"color: #008000; text-decoration-color: #008000\">│</span>\n",
       "<span style=\"color: #008000; text-decoration-color: #008000\">│</span> ┃<span style=\"color: #800080; text-decoration-color: #800080; font-weight: bold\"> #  </span>┃<span style=\"color: #800080; text-decoration-color: #800080; font-weight: bold\"> Event type </span>┃<span style=\"color: #800080; text-decoration-color: #800080; font-weight: bold\"> Details                                                                                   </span>┃ <span style=\"color: #008000; text-decoration-color: #008000\">│</span>\n",
       "<span style=\"color: #008000; text-decoration-color: #008000\">│</span> ┡━━━━╇━━━━━━━━━━━━╇━━━━━━━━━━━━━━━━━━━━━━━━━━━━━━━━━━━━━━━━━━━━━━━━━━━━━━━━━━━━━━━━━━━━━━━━━━━━━━━━━━━━━━━━━━━┩ <span style=\"color: #008000; text-decoration-color: #008000\">│</span>\n",
       "<span style=\"color: #008000; text-decoration-color: #008000\">│</span> │<span style=\"color: #008080; text-decoration-color: #008080\"> 0  </span>│<span style=\"color: #800080; text-decoration-color: #800080\"> TABLE      </span>│<span style=\"color: #c0c0c0; text-decoration-color: #c0c0c0\"> docs                                                                                      </span>│ <span style=\"color: #008000; text-decoration-color: #008000\">│</span>\n",
       "<span style=\"color: #008000; text-decoration-color: #008000\">│</span> │<span style=\"color: #008080; text-decoration-color: #008080\"> 1  </span>│<span style=\"color: #800080; text-decoration-color: #800080\"> TABLE      </span>│<span style=\"color: #c0c0c0; text-decoration-color: #c0c0c0\"> _outputs__chunker__1862a8fc1629f85fe6[_outputs__chunker__1862a8fc1629f85fe6=str;_source=… </span>│ <span style=\"color: #008000; text-decoration-color: #008000\">│</span>\n",
       "<span style=\"color: #008000; text-decoration-color: #008000\">│</span> │<span style=\"color: #008080; text-decoration-color: #008080\"> 2  </span>│<span style=\"color: #800080; text-decoration-color: #800080\"> TABLE      </span>│<span style=\"color: #c0c0c0; text-decoration-color: #c0c0c0\"> _outputs__embeddinglistener__a67199bb7c0c1ac162[_outputs__embeddinglistener__a67199bb7c0… </span>│ <span style=\"color: #008000; text-decoration-color: #008000\">│</span>\n",
       "<span style=\"color: #008000; text-decoration-color: #008000\">│</span> │<span style=\"color: #008080; text-decoration-color: #008080\"> 3  </span>│<span style=\"color: #800080; text-decoration-color: #800080\"> CREATE     </span>│<span style=\"color: #c0c0c0; text-decoration-color: #c0c0c0\"> Table:docs:3b21dc32e8beebd92b: Create                                                     </span>│ <span style=\"color: #008000; text-decoration-color: #008000\">│</span>\n",
       "<span style=\"color: #008000; text-decoration-color: #008000\">│</span> │<span style=\"color: #008080; text-decoration-color: #008080\"> 4  </span>│<span style=\"color: #800080; text-decoration-color: #800080\"> CREATE     </span>│<span style=\"color: #c0c0c0; text-decoration-color: #c0c0c0\"> Plugin:plugin-rag_plugin_py:8624439cb46a595e50: Create                                    </span>│ <span style=\"color: #008000; text-decoration-color: #008000\">│</span>\n",
       "<span style=\"color: #008000; text-decoration-color: #008000\">│</span> │<span style=\"color: #008080; text-decoration-color: #008080\"> 5  </span>│<span style=\"color: #800080; text-decoration-color: #800080\"> CREATE     </span>│<span style=\"color: #c0c0c0; text-decoration-color: #c0c0c0\"> Plugin:plugin-rag_plugin_py:dcdf7aa2a2895ea7e8: Create                                    </span>│ <span style=\"color: #008000; text-decoration-color: #008000\">│</span>\n",
       "<span style=\"color: #008000; text-decoration-color: #008000\">│</span> │<span style=\"color: #008080; text-decoration-color: #008080\"> 6  </span>│<span style=\"color: #800080; text-decoration-color: #800080\"> CREATE     </span>│<span style=\"color: #c0c0c0; text-decoration-color: #c0c0c0\"> Chunker:chunker:b12cd565989b72fc4c: Create                                                </span>│ <span style=\"color: #008000; text-decoration-color: #008000\">│</span>\n",
       "<span style=\"color: #008000; text-decoration-color: #008000\">│</span> │<span style=\"color: #008080; text-decoration-color: #008080\"> 7  </span>│<span style=\"color: #800080; text-decoration-color: #800080\"> CREATE     </span>│<span style=\"color: #c0c0c0; text-decoration-color: #c0c0c0\"> Table:_outputs__chunker__1862a8fc1629f85fe6:55813a15e4d7f63d2b: Create                    </span>│ <span style=\"color: #008000; text-decoration-color: #008000\">│</span>\n",
       "<span style=\"color: #008000; text-decoration-color: #008000\">│</span> │<span style=\"color: #008080; text-decoration-color: #008080\"> 8  </span>│<span style=\"color: #800080; text-decoration-color: #800080\"> CREATE     </span>│<span style=\"color: #c0c0c0; text-decoration-color: #c0c0c0\"> Listener:chunker:1862a8fc1629f85fe6: Create                                               </span>│ <span style=\"color: #008000; text-decoration-color: #008000\">│</span>\n",
       "<span style=\"color: #008000; text-decoration-color: #008000\">│</span> │<span style=\"color: #008080; text-decoration-color: #008080\"> 9  </span>│<span style=\"color: #800080; text-decoration-color: #800080\"> CREATE     </span>│<span style=\"color: #c0c0c0; text-decoration-color: #c0c0c0\"> OpenAIEmbedding:text-embedding:2b907268839faa545d: Create                                 </span>│ <span style=\"color: #008000; text-decoration-color: #008000\">│</span>\n",
       "<span style=\"color: #008000; text-decoration-color: #008000\">│</span> │<span style=\"color: #008080; text-decoration-color: #008080\"> 10 </span>│<span style=\"color: #800080; text-decoration-color: #800080\"> CREATE     </span>│<span style=\"color: #c0c0c0; text-decoration-color: #c0c0c0\"> Table:_outputs__embeddinglistener__a67199bb7c0c1ac162:392e97d67fb77a15dd: Create          </span>│ <span style=\"color: #008000; text-decoration-color: #008000\">│</span>\n",
       "<span style=\"color: #008000; text-decoration-color: #008000\">│</span> │<span style=\"color: #008080; text-decoration-color: #008080\"> 11 </span>│<span style=\"color: #800080; text-decoration-color: #800080\"> CREATE     </span>│<span style=\"color: #c0c0c0; text-decoration-color: #c0c0c0\"> Listener:embeddinglistener:a67199bb7c0c1ac162: Create                                     </span>│ <span style=\"color: #008000; text-decoration-color: #008000\">│</span>\n",
       "<span style=\"color: #008000; text-decoration-color: #008000\">│</span> │<span style=\"color: #008080; text-decoration-color: #008080\"> 12 </span>│<span style=\"color: #800080; text-decoration-color: #800080\"> CREATE     </span>│<span style=\"color: #c0c0c0; text-decoration-color: #c0c0c0\"> VectorIndex:vectorindex:851e610e9d2ace0b54: Create                                        </span>│ <span style=\"color: #008000; text-decoration-color: #008000\">│</span>\n",
       "<span style=\"color: #008000; text-decoration-color: #008000\">│</span> │<span style=\"color: #008080; text-decoration-color: #008080\"> 13 </span>│<span style=\"color: #800080; text-decoration-color: #800080\"> CREATE     </span>│<span style=\"color: #c0c0c0; text-decoration-color: #c0c0c0\"> OpenAIChatCompletion:llm-model:ffce2ddfa3a6a5288f: Create                                 </span>│ <span style=\"color: #008000; text-decoration-color: #008000\">│</span>\n",
       "<span style=\"color: #008000; text-decoration-color: #008000\">│</span> │<span style=\"color: #008080; text-decoration-color: #008080\"> 14 </span>│<span style=\"color: #800080; text-decoration-color: #800080\"> CREATE     </span>│<span style=\"color: #c0c0c0; text-decoration-color: #c0c0c0\"> RAGModel:simple_rag:233661fe822e51dd90: Create                                            </span>│ <span style=\"color: #008000; text-decoration-color: #008000\">│</span>\n",
       "<span style=\"color: #008000; text-decoration-color: #008000\">│</span> │<span style=\"color: #008080; text-decoration-color: #008080\"> 15 </span>│<span style=\"color: #800080; text-decoration-color: #800080\"> CREATE     </span>│<span style=\"color: #c0c0c0; text-decoration-color: #c0c0c0\"> Streamlit:simple-rag-demo:b33aaf6fa76d173336: Create                                      </span>│ <span style=\"color: #008000; text-decoration-color: #008000\">│</span>\n",
       "<span style=\"color: #008000; text-decoration-color: #008000\">│</span> │<span style=\"color: #008080; text-decoration-color: #008080\"> 16 </span>│<span style=\"color: #800080; text-decoration-color: #800080\"> CREATE     </span>│<span style=\"color: #c0c0c0; text-decoration-color: #c0c0c0\"> Application:simple-rag-app:6c4f73b9d964d6faeb: Create                                     </span>│ <span style=\"color: #008000; text-decoration-color: #008000\">│</span>\n",
       "<span style=\"color: #008000; text-decoration-color: #008000\">│</span> │<span style=\"color: #008080; text-decoration-color: #008080\"> 17 </span>│<span style=\"color: #800080; text-decoration-color: #800080\"> PUT        </span>│<span style=\"color: #c0c0c0; text-decoration-color: #c0c0c0\"> Chunker:chunker:b12cd565989b72fc4c/compute                                                </span>│ <span style=\"color: #008000; text-decoration-color: #008000\">│</span>\n",
       "<span style=\"color: #008000; text-decoration-color: #008000\">│</span> │<span style=\"color: #008080; text-decoration-color: #008080\"> 18 </span>│<span style=\"color: #800080; text-decoration-color: #800080\"> PUT        </span>│<span style=\"color: #c0c0c0; text-decoration-color: #c0c0c0\"> Listener:chunker:1862a8fc1629f85fe6/scheduler                                             </span>│ <span style=\"color: #008000; text-decoration-color: #008000\">│</span>\n",
       "<span style=\"color: #008000; text-decoration-color: #008000\">│</span> │<span style=\"color: #008080; text-decoration-color: #008080\"> 19 </span>│<span style=\"color: #800080; text-decoration-color: #800080\"> PUT        </span>│<span style=\"color: #c0c0c0; text-decoration-color: #c0c0c0\"> Listener:chunker:1862a8fc1629f85fe6/cdc                                                   </span>│ <span style=\"color: #008000; text-decoration-color: #008000\">│</span>\n",
       "<span style=\"color: #008000; text-decoration-color: #008000\">│</span> │<span style=\"color: #008080; text-decoration-color: #008080\"> 20 </span>│<span style=\"color: #800080; text-decoration-color: #800080\"> PUT        </span>│<span style=\"color: #c0c0c0; text-decoration-color: #c0c0c0\"> OpenAIEmbedding:text-embedding:2b907268839faa545d/compute                                 </span>│ <span style=\"color: #008000; text-decoration-color: #008000\">│</span>\n",
       "<span style=\"color: #008000; text-decoration-color: #008000\">│</span> │<span style=\"color: #008080; text-decoration-color: #008080\"> 21 </span>│<span style=\"color: #800080; text-decoration-color: #800080\"> PUT        </span>│<span style=\"color: #c0c0c0; text-decoration-color: #c0c0c0\"> Listener:embeddinglistener:a67199bb7c0c1ac162/scheduler                                   </span>│ <span style=\"color: #008000; text-decoration-color: #008000\">│</span>\n",
       "<span style=\"color: #008000; text-decoration-color: #008000\">│</span> │<span style=\"color: #008080; text-decoration-color: #008080\"> 22 </span>│<span style=\"color: #800080; text-decoration-color: #800080\"> PUT        </span>│<span style=\"color: #c0c0c0; text-decoration-color: #c0c0c0\"> Listener:embeddinglistener:a67199bb7c0c1ac162/cdc                                         </span>│ <span style=\"color: #008000; text-decoration-color: #008000\">│</span>\n",
       "<span style=\"color: #008000; text-decoration-color: #008000\">│</span> │<span style=\"color: #008080; text-decoration-color: #008080\"> 23 </span>│<span style=\"color: #800080; text-decoration-color: #800080\"> PUT        </span>│<span style=\"color: #c0c0c0; text-decoration-color: #c0c0c0\"> VectorIndex:vectorindex:851e610e9d2ace0b54/vector_search                                  </span>│ <span style=\"color: #008000; text-decoration-color: #008000\">│</span>\n",
       "<span style=\"color: #008000; text-decoration-color: #008000\">│</span> │<span style=\"color: #008080; text-decoration-color: #008080\"> 24 </span>│<span style=\"color: #800080; text-decoration-color: #800080\"> PUT        </span>│<span style=\"color: #c0c0c0; text-decoration-color: #c0c0c0\"> OpenAIChatCompletion:llm-model:ffce2ddfa3a6a5288f/compute                                 </span>│ <span style=\"color: #008000; text-decoration-color: #008000\">│</span>\n",
       "<span style=\"color: #008000; text-decoration-color: #008000\">│</span> │<span style=\"color: #008080; text-decoration-color: #008080\"> 25 </span>│<span style=\"color: #800080; text-decoration-color: #800080\"> PUT        </span>│<span style=\"color: #c0c0c0; text-decoration-color: #c0c0c0\"> RAGModel:simple_rag:233661fe822e51dd90/compute                                            </span>│ <span style=\"color: #008000; text-decoration-color: #008000\">│</span>\n",
       "<span style=\"color: #008000; text-decoration-color: #008000\">│</span> │<span style=\"color: #008080; text-decoration-color: #008080\"> 26 </span>│<span style=\"color: #800080; text-decoration-color: #800080\"> JOB        </span>│<span style=\"color: #c0c0c0; text-decoration-color: #c0c0c0\"> Table:docs:3b21dc32e8beebd92b.set_status: set_status                                      </span>│ <span style=\"color: #008000; text-decoration-color: #008000\">│</span>\n",
       "<span style=\"color: #008000; text-decoration-color: #008000\">│</span> │<span style=\"color: #008080; text-decoration-color: #008080\"> 27 </span>│<span style=\"color: #800080; text-decoration-color: #800080\"> JOB        </span>│<span style=\"color: #c0c0c0; text-decoration-color: #c0c0c0\"> Plugin:plugin-rag_plugin_py:8624439cb46a595e50.set_status: set_status                     </span>│ <span style=\"color: #008000; text-decoration-color: #008000\">│</span>\n",
       "<span style=\"color: #008000; text-decoration-color: #008000\">│</span> │<span style=\"color: #008080; text-decoration-color: #008080\"> 28 </span>│<span style=\"color: #800080; text-decoration-color: #800080\"> JOB        </span>│<span style=\"color: #c0c0c0; text-decoration-color: #c0c0c0\"> Plugin:plugin-rag_plugin_py:dcdf7aa2a2895ea7e8.set_status: set_status                     </span>│ <span style=\"color: #008000; text-decoration-color: #008000\">│</span>\n",
       "<span style=\"color: #008000; text-decoration-color: #008000\">│</span> │<span style=\"color: #008080; text-decoration-color: #008080\"> 29 </span>│<span style=\"color: #800080; text-decoration-color: #800080\"> JOB        </span>│<span style=\"color: #c0c0c0; text-decoration-color: #c0c0c0\"> Chunker:chunker:b12cd565989b72fc4c.set_status: set_status                                 </span>│ <span style=\"color: #008000; text-decoration-color: #008000\">│</span>\n",
       "<span style=\"color: #008000; text-decoration-color: #008000\">│</span> │<span style=\"color: #008080; text-decoration-color: #008080\"> 30 </span>│<span style=\"color: #800080; text-decoration-color: #800080\"> JOB        </span>│<span style=\"color: #c0c0c0; text-decoration-color: #c0c0c0\"> Table:_outputs__chunker__1862a8fc1629f85fe6:55813a15e4d7f63d2b.set_status: set_status     </span>│ <span style=\"color: #008000; text-decoration-color: #008000\">│</span>\n",
       "<span style=\"color: #008000; text-decoration-color: #008000\">│</span> │<span style=\"color: #008080; text-decoration-color: #008080\"> 31 </span>│<span style=\"color: #800080; text-decoration-color: #800080\"> JOB        </span>│<span style=\"color: #c0c0c0; text-decoration-color: #c0c0c0\"> Listener:chunker:1862a8fc1629f85fe6.run: run deps→29,28,30                                </span>│ <span style=\"color: #008000; text-decoration-color: #008000\">│</span>\n",
       "<span style=\"color: #008000; text-decoration-color: #008000\">│</span> │<span style=\"color: #008080; text-decoration-color: #008080\"> 32 </span>│<span style=\"color: #800080; text-decoration-color: #800080\"> JOB        </span>│<span style=\"color: #c0c0c0; text-decoration-color: #c0c0c0\"> Listener:chunker:1862a8fc1629f85fe6.set_status: set_status deps→31,28,29,30               </span>│ <span style=\"color: #008000; text-decoration-color: #008000\">│</span>\n",
       "<span style=\"color: #008000; text-decoration-color: #008000\">│</span> │<span style=\"color: #008080; text-decoration-color: #008080\"> 33 </span>│<span style=\"color: #800080; text-decoration-color: #800080\"> JOB        </span>│<span style=\"color: #c0c0c0; text-decoration-color: #c0c0c0\"> OpenAIEmbedding:text-embedding:2b907268839faa545d.set_status: set_status                  </span>│ <span style=\"color: #008000; text-decoration-color: #008000\">│</span>\n",
       "<span style=\"color: #008000; text-decoration-color: #008000\">│</span> │<span style=\"color: #008080; text-decoration-color: #008080\"> 34 </span>│<span style=\"color: #800080; text-decoration-color: #800080\"> JOB        </span>│<span style=\"color: #c0c0c0; text-decoration-color: #c0c0c0\"> Table:_outputs__embeddinglistener__a67199bb7c0c1ac162:392e97d67fb77a15dd.set_status:      </span>│ <span style=\"color: #008000; text-decoration-color: #008000\">│</span>\n",
       "<span style=\"color: #008000; text-decoration-color: #008000\">│</span> │<span style=\"color: #008080; text-decoration-color: #008080\">    </span>│<span style=\"color: #800080; text-decoration-color: #800080\">            </span>│<span style=\"color: #c0c0c0; text-decoration-color: #c0c0c0\"> set_status                                                                                </span>│ <span style=\"color: #008000; text-decoration-color: #008000\">│</span>\n",
       "<span style=\"color: #008000; text-decoration-color: #008000\">│</span> │<span style=\"color: #008080; text-decoration-color: #008080\"> 35 </span>│<span style=\"color: #800080; text-decoration-color: #800080\"> JOB        </span>│<span style=\"color: #c0c0c0; text-decoration-color: #c0c0c0\"> Listener:embeddinglistener:a67199bb7c0c1ac162.run: run deps→31,32,33,34                   </span>│ <span style=\"color: #008000; text-decoration-color: #008000\">│</span>\n",
       "<span style=\"color: #008000; text-decoration-color: #008000\">│</span> │<span style=\"color: #008080; text-decoration-color: #008080\"> 36 </span>│<span style=\"color: #800080; text-decoration-color: #800080\"> JOB        </span>│<span style=\"color: #c0c0c0; text-decoration-color: #c0c0c0\"> Listener:embeddinglistener:a67199bb7c0c1ac162.set_status: set_status deps→35,31,32,33,34  </span>│ <span style=\"color: #008000; text-decoration-color: #008000\">│</span>\n",
       "<span style=\"color: #008000; text-decoration-color: #008000\">│</span> │<span style=\"color: #008080; text-decoration-color: #008080\"> 37 </span>│<span style=\"color: #800080; text-decoration-color: #800080\"> JOB        </span>│<span style=\"color: #c0c0c0; text-decoration-color: #c0c0c0\"> VectorIndex:vectorindex:851e610e9d2ace0b54.copy_vectors: copy_vectors deps→35,36          </span>│ <span style=\"color: #008000; text-decoration-color: #008000\">│</span>\n",
       "<span style=\"color: #008000; text-decoration-color: #008000\">│</span> │<span style=\"color: #008080; text-decoration-color: #008080\"> 38 </span>│<span style=\"color: #800080; text-decoration-color: #800080\"> JOB        </span>│<span style=\"color: #c0c0c0; text-decoration-color: #c0c0c0\"> VectorIndex:vectorindex:851e610e9d2ace0b54.set_status: set_status deps→37,35,36           </span>│ <span style=\"color: #008000; text-decoration-color: #008000\">│</span>\n",
       "<span style=\"color: #008000; text-decoration-color: #008000\">│</span> │<span style=\"color: #008080; text-decoration-color: #008080\"> 39 </span>│<span style=\"color: #800080; text-decoration-color: #800080\"> JOB        </span>│<span style=\"color: #c0c0c0; text-decoration-color: #c0c0c0\"> OpenAIChatCompletion:llm-model:ffce2ddfa3a6a5288f.set_status: set_status                  </span>│ <span style=\"color: #008000; text-decoration-color: #008000\">│</span>\n",
       "<span style=\"color: #008000; text-decoration-color: #008000\">│</span> │<span style=\"color: #008080; text-decoration-color: #008080\"> 40 </span>│<span style=\"color: #800080; text-decoration-color: #800080\"> JOB        </span>│<span style=\"color: #c0c0c0; text-decoration-color: #c0c0c0\"> RAGModel:simple_rag:233661fe822e51dd90.set_status: set_status deps→39                     </span>│ <span style=\"color: #008000; text-decoration-color: #008000\">│</span>\n",
       "<span style=\"color: #008000; text-decoration-color: #008000\">│</span> │<span style=\"color: #008080; text-decoration-color: #008080\"> 41 </span>│<span style=\"color: #800080; text-decoration-color: #800080\"> JOB        </span>│<span style=\"color: #c0c0c0; text-decoration-color: #c0c0c0\"> Streamlit:simple-rag-demo:b33aaf6fa76d173336.set_status: set_status                       </span>│ <span style=\"color: #008000; text-decoration-color: #008000\">│</span>\n",
       "<span style=\"color: #008000; text-decoration-color: #008000\">│</span> │<span style=\"color: #008080; text-decoration-color: #008080\"> 42 </span>│<span style=\"color: #800080; text-decoration-color: #800080\"> JOB        </span>│<span style=\"color: #c0c0c0; text-decoration-color: #c0c0c0\"> Application:simple-rag-app:6c4f73b9d964d6faeb.set_status: set_status                      </span>│ <span style=\"color: #008000; text-decoration-color: #008000\">│</span>\n",
       "<span style=\"color: #008000; text-decoration-color: #008000\">│</span> │<span style=\"color: #008080; text-decoration-color: #008080\">    </span>│<span style=\"color: #800080; text-decoration-color: #800080\">            </span>│<span style=\"color: #c0c0c0; text-decoration-color: #c0c0c0\"> deps→26,27,31,32,37,38,40,41                                                              </span>│ <span style=\"color: #008000; text-decoration-color: #008000\">│</span>\n",
       "<span style=\"color: #008000; text-decoration-color: #008000\">│</span> └────┴────────────┴───────────────────────────────────────────────────────────────────────────────────────────┘ <span style=\"color: #008000; text-decoration-color: #008000\">│</span>\n",
       "<span style=\"color: #008000; text-decoration-color: #008000\">╰─────────────────────────────────────────────────────────────────────────────────────────────────────────────────╯</span>\n",
       "</pre>\n"
      ],
      "text/plain": [
       "\u001b[32m╭─\u001b[0m\u001b[32m──────────────────────────────────────\u001b[0m\u001b[32m Deployment plan – events overview \u001b[0m\u001b[32m──────────────────────────────────────\u001b[0m\u001b[32m─╮\u001b[0m\n",
       "\u001b[32m│\u001b[0m ┏━━━━┳━━━━━━━━━━━━┳━━━━━━━━━━━━━━━━━━━━━━━━━━━━━━━━━━━━━━━━━━━━━━━━━━━━━━━━━━━━━━━━━━━━━━━━━━━━━━━━━━━━━━━━━━━┓ \u001b[32m│\u001b[0m\n",
       "\u001b[32m│\u001b[0m ┃\u001b[1;35m \u001b[0m\u001b[1;35m# \u001b[0m\u001b[1;35m \u001b[0m┃\u001b[1;35m \u001b[0m\u001b[1;35mEvent type\u001b[0m\u001b[1;35m \u001b[0m┃\u001b[1;35m \u001b[0m\u001b[1;35mDetails                                                                                  \u001b[0m\u001b[1;35m \u001b[0m┃ \u001b[32m│\u001b[0m\n",
       "\u001b[32m│\u001b[0m ┡━━━━╇━━━━━━━━━━━━╇━━━━━━━━━━━━━━━━━━━━━━━━━━━━━━━━━━━━━━━━━━━━━━━━━━━━━━━━━━━━━━━━━━━━━━━━━━━━━━━━━━━━━━━━━━━┩ \u001b[32m│\u001b[0m\n",
       "\u001b[32m│\u001b[0m │\u001b[36m \u001b[0m\u001b[36m0 \u001b[0m\u001b[36m \u001b[0m│\u001b[35m \u001b[0m\u001b[35mTABLE     \u001b[0m\u001b[35m \u001b[0m│\u001b[37m \u001b[0m\u001b[37mdocs\u001b[0m\u001b[37m                                                                                     \u001b[0m\u001b[37m \u001b[0m│ \u001b[32m│\u001b[0m\n",
       "\u001b[32m│\u001b[0m │\u001b[36m \u001b[0m\u001b[36m1 \u001b[0m\u001b[36m \u001b[0m│\u001b[35m \u001b[0m\u001b[35mTABLE     \u001b[0m\u001b[35m \u001b[0m│\u001b[37m \u001b[0m\u001b[37m_outputs__chunker__1862a8fc1629f85fe6[_outputs__chunker__1862a8fc1629f85fe6=str;_source=…\u001b[0m\u001b[37m \u001b[0m│ \u001b[32m│\u001b[0m\n",
       "\u001b[32m│\u001b[0m │\u001b[36m \u001b[0m\u001b[36m2 \u001b[0m\u001b[36m \u001b[0m│\u001b[35m \u001b[0m\u001b[35mTABLE     \u001b[0m\u001b[35m \u001b[0m│\u001b[37m \u001b[0m\u001b[37m_outputs__embeddinglistener__a67199bb7c0c1ac162[_outputs__embeddinglistener__a67199bb7c0…\u001b[0m\u001b[37m \u001b[0m│ \u001b[32m│\u001b[0m\n",
       "\u001b[32m│\u001b[0m │\u001b[36m \u001b[0m\u001b[36m3 \u001b[0m\u001b[36m \u001b[0m│\u001b[35m \u001b[0m\u001b[35mCREATE    \u001b[0m\u001b[35m \u001b[0m│\u001b[37m \u001b[0m\u001b[37mTable:docs:3b21dc32e8beebd92b: Create                                                    \u001b[0m\u001b[37m \u001b[0m│ \u001b[32m│\u001b[0m\n",
       "\u001b[32m│\u001b[0m │\u001b[36m \u001b[0m\u001b[36m4 \u001b[0m\u001b[36m \u001b[0m│\u001b[35m \u001b[0m\u001b[35mCREATE    \u001b[0m\u001b[35m \u001b[0m│\u001b[37m \u001b[0m\u001b[37mPlugin:plugin-rag_plugin_py:8624439cb46a595e50: Create                                   \u001b[0m\u001b[37m \u001b[0m│ \u001b[32m│\u001b[0m\n",
       "\u001b[32m│\u001b[0m │\u001b[36m \u001b[0m\u001b[36m5 \u001b[0m\u001b[36m \u001b[0m│\u001b[35m \u001b[0m\u001b[35mCREATE    \u001b[0m\u001b[35m \u001b[0m│\u001b[37m \u001b[0m\u001b[37mPlugin:plugin-rag_plugin_py:dcdf7aa2a2895ea7e8: Create                                   \u001b[0m\u001b[37m \u001b[0m│ \u001b[32m│\u001b[0m\n",
       "\u001b[32m│\u001b[0m │\u001b[36m \u001b[0m\u001b[36m6 \u001b[0m\u001b[36m \u001b[0m│\u001b[35m \u001b[0m\u001b[35mCREATE    \u001b[0m\u001b[35m \u001b[0m│\u001b[37m \u001b[0m\u001b[37mChunker:chunker:b12cd565989b72fc4c: Create                                               \u001b[0m\u001b[37m \u001b[0m│ \u001b[32m│\u001b[0m\n",
       "\u001b[32m│\u001b[0m │\u001b[36m \u001b[0m\u001b[36m7 \u001b[0m\u001b[36m \u001b[0m│\u001b[35m \u001b[0m\u001b[35mCREATE    \u001b[0m\u001b[35m \u001b[0m│\u001b[37m \u001b[0m\u001b[37mTable:_outputs__chunker__1862a8fc1629f85fe6:55813a15e4d7f63d2b: Create                   \u001b[0m\u001b[37m \u001b[0m│ \u001b[32m│\u001b[0m\n",
       "\u001b[32m│\u001b[0m │\u001b[36m \u001b[0m\u001b[36m8 \u001b[0m\u001b[36m \u001b[0m│\u001b[35m \u001b[0m\u001b[35mCREATE    \u001b[0m\u001b[35m \u001b[0m│\u001b[37m \u001b[0m\u001b[37mListener:chunker:1862a8fc1629f85fe6: Create                                              \u001b[0m\u001b[37m \u001b[0m│ \u001b[32m│\u001b[0m\n",
       "\u001b[32m│\u001b[0m │\u001b[36m \u001b[0m\u001b[36m9 \u001b[0m\u001b[36m \u001b[0m│\u001b[35m \u001b[0m\u001b[35mCREATE    \u001b[0m\u001b[35m \u001b[0m│\u001b[37m \u001b[0m\u001b[37mOpenAIEmbedding:text-embedding:2b907268839faa545d: Create                                \u001b[0m\u001b[37m \u001b[0m│ \u001b[32m│\u001b[0m\n",
       "\u001b[32m│\u001b[0m │\u001b[36m \u001b[0m\u001b[36m10\u001b[0m\u001b[36m \u001b[0m│\u001b[35m \u001b[0m\u001b[35mCREATE    \u001b[0m\u001b[35m \u001b[0m│\u001b[37m \u001b[0m\u001b[37mTable:_outputs__embeddinglistener__a67199bb7c0c1ac162:392e97d67fb77a15dd: Create         \u001b[0m\u001b[37m \u001b[0m│ \u001b[32m│\u001b[0m\n",
       "\u001b[32m│\u001b[0m │\u001b[36m \u001b[0m\u001b[36m11\u001b[0m\u001b[36m \u001b[0m│\u001b[35m \u001b[0m\u001b[35mCREATE    \u001b[0m\u001b[35m \u001b[0m│\u001b[37m \u001b[0m\u001b[37mListener:embeddinglistener:a67199bb7c0c1ac162: Create                                    \u001b[0m\u001b[37m \u001b[0m│ \u001b[32m│\u001b[0m\n",
       "\u001b[32m│\u001b[0m │\u001b[36m \u001b[0m\u001b[36m12\u001b[0m\u001b[36m \u001b[0m│\u001b[35m \u001b[0m\u001b[35mCREATE    \u001b[0m\u001b[35m \u001b[0m│\u001b[37m \u001b[0m\u001b[37mVectorIndex:vectorindex:851e610e9d2ace0b54: Create                                       \u001b[0m\u001b[37m \u001b[0m│ \u001b[32m│\u001b[0m\n",
       "\u001b[32m│\u001b[0m │\u001b[36m \u001b[0m\u001b[36m13\u001b[0m\u001b[36m \u001b[0m│\u001b[35m \u001b[0m\u001b[35mCREATE    \u001b[0m\u001b[35m \u001b[0m│\u001b[37m \u001b[0m\u001b[37mOpenAIChatCompletion:llm-model:ffce2ddfa3a6a5288f: Create                                \u001b[0m\u001b[37m \u001b[0m│ \u001b[32m│\u001b[0m\n",
       "\u001b[32m│\u001b[0m │\u001b[36m \u001b[0m\u001b[36m14\u001b[0m\u001b[36m \u001b[0m│\u001b[35m \u001b[0m\u001b[35mCREATE    \u001b[0m\u001b[35m \u001b[0m│\u001b[37m \u001b[0m\u001b[37mRAGModel:simple_rag:233661fe822e51dd90: Create                                           \u001b[0m\u001b[37m \u001b[0m│ \u001b[32m│\u001b[0m\n",
       "\u001b[32m│\u001b[0m │\u001b[36m \u001b[0m\u001b[36m15\u001b[0m\u001b[36m \u001b[0m│\u001b[35m \u001b[0m\u001b[35mCREATE    \u001b[0m\u001b[35m \u001b[0m│\u001b[37m \u001b[0m\u001b[37mStreamlit:simple-rag-demo:b33aaf6fa76d173336: Create                                     \u001b[0m\u001b[37m \u001b[0m│ \u001b[32m│\u001b[0m\n",
       "\u001b[32m│\u001b[0m │\u001b[36m \u001b[0m\u001b[36m16\u001b[0m\u001b[36m \u001b[0m│\u001b[35m \u001b[0m\u001b[35mCREATE    \u001b[0m\u001b[35m \u001b[0m│\u001b[37m \u001b[0m\u001b[37mApplication:simple-rag-app:6c4f73b9d964d6faeb: Create                                    \u001b[0m\u001b[37m \u001b[0m│ \u001b[32m│\u001b[0m\n",
       "\u001b[32m│\u001b[0m │\u001b[36m \u001b[0m\u001b[36m17\u001b[0m\u001b[36m \u001b[0m│\u001b[35m \u001b[0m\u001b[35mPUT       \u001b[0m\u001b[35m \u001b[0m│\u001b[37m \u001b[0m\u001b[37mChunker:chunker:b12cd565989b72fc4c/compute                                               \u001b[0m\u001b[37m \u001b[0m│ \u001b[32m│\u001b[0m\n",
       "\u001b[32m│\u001b[0m │\u001b[36m \u001b[0m\u001b[36m18\u001b[0m\u001b[36m \u001b[0m│\u001b[35m \u001b[0m\u001b[35mPUT       \u001b[0m\u001b[35m \u001b[0m│\u001b[37m \u001b[0m\u001b[37mListener:chunker:1862a8fc1629f85fe6/scheduler                                            \u001b[0m\u001b[37m \u001b[0m│ \u001b[32m│\u001b[0m\n",
       "\u001b[32m│\u001b[0m │\u001b[36m \u001b[0m\u001b[36m19\u001b[0m\u001b[36m \u001b[0m│\u001b[35m \u001b[0m\u001b[35mPUT       \u001b[0m\u001b[35m \u001b[0m│\u001b[37m \u001b[0m\u001b[37mListener:chunker:1862a8fc1629f85fe6/cdc                                                  \u001b[0m\u001b[37m \u001b[0m│ \u001b[32m│\u001b[0m\n",
       "\u001b[32m│\u001b[0m │\u001b[36m \u001b[0m\u001b[36m20\u001b[0m\u001b[36m \u001b[0m│\u001b[35m \u001b[0m\u001b[35mPUT       \u001b[0m\u001b[35m \u001b[0m│\u001b[37m \u001b[0m\u001b[37mOpenAIEmbedding:text-embedding:2b907268839faa545d/compute                                \u001b[0m\u001b[37m \u001b[0m│ \u001b[32m│\u001b[0m\n",
       "\u001b[32m│\u001b[0m │\u001b[36m \u001b[0m\u001b[36m21\u001b[0m\u001b[36m \u001b[0m│\u001b[35m \u001b[0m\u001b[35mPUT       \u001b[0m\u001b[35m \u001b[0m│\u001b[37m \u001b[0m\u001b[37mListener:embeddinglistener:a67199bb7c0c1ac162/scheduler                                  \u001b[0m\u001b[37m \u001b[0m│ \u001b[32m│\u001b[0m\n",
       "\u001b[32m│\u001b[0m │\u001b[36m \u001b[0m\u001b[36m22\u001b[0m\u001b[36m \u001b[0m│\u001b[35m \u001b[0m\u001b[35mPUT       \u001b[0m\u001b[35m \u001b[0m│\u001b[37m \u001b[0m\u001b[37mListener:embeddinglistener:a67199bb7c0c1ac162/cdc                                        \u001b[0m\u001b[37m \u001b[0m│ \u001b[32m│\u001b[0m\n",
       "\u001b[32m│\u001b[0m │\u001b[36m \u001b[0m\u001b[36m23\u001b[0m\u001b[36m \u001b[0m│\u001b[35m \u001b[0m\u001b[35mPUT       \u001b[0m\u001b[35m \u001b[0m│\u001b[37m \u001b[0m\u001b[37mVectorIndex:vectorindex:851e610e9d2ace0b54/vector_search                                 \u001b[0m\u001b[37m \u001b[0m│ \u001b[32m│\u001b[0m\n",
       "\u001b[32m│\u001b[0m │\u001b[36m \u001b[0m\u001b[36m24\u001b[0m\u001b[36m \u001b[0m│\u001b[35m \u001b[0m\u001b[35mPUT       \u001b[0m\u001b[35m \u001b[0m│\u001b[37m \u001b[0m\u001b[37mOpenAIChatCompletion:llm-model:ffce2ddfa3a6a5288f/compute                                \u001b[0m\u001b[37m \u001b[0m│ \u001b[32m│\u001b[0m\n",
       "\u001b[32m│\u001b[0m │\u001b[36m \u001b[0m\u001b[36m25\u001b[0m\u001b[36m \u001b[0m│\u001b[35m \u001b[0m\u001b[35mPUT       \u001b[0m\u001b[35m \u001b[0m│\u001b[37m \u001b[0m\u001b[37mRAGModel:simple_rag:233661fe822e51dd90/compute                                           \u001b[0m\u001b[37m \u001b[0m│ \u001b[32m│\u001b[0m\n",
       "\u001b[32m│\u001b[0m │\u001b[36m \u001b[0m\u001b[36m26\u001b[0m\u001b[36m \u001b[0m│\u001b[35m \u001b[0m\u001b[35mJOB       \u001b[0m\u001b[35m \u001b[0m│\u001b[37m \u001b[0m\u001b[37mTable:docs:3b21dc32e8beebd92b.set_status: set_status                                     \u001b[0m\u001b[37m \u001b[0m│ \u001b[32m│\u001b[0m\n",
       "\u001b[32m│\u001b[0m │\u001b[36m \u001b[0m\u001b[36m27\u001b[0m\u001b[36m \u001b[0m│\u001b[35m \u001b[0m\u001b[35mJOB       \u001b[0m\u001b[35m \u001b[0m│\u001b[37m \u001b[0m\u001b[37mPlugin:plugin-rag_plugin_py:8624439cb46a595e50.set_status: set_status                    \u001b[0m\u001b[37m \u001b[0m│ \u001b[32m│\u001b[0m\n",
       "\u001b[32m│\u001b[0m │\u001b[36m \u001b[0m\u001b[36m28\u001b[0m\u001b[36m \u001b[0m│\u001b[35m \u001b[0m\u001b[35mJOB       \u001b[0m\u001b[35m \u001b[0m│\u001b[37m \u001b[0m\u001b[37mPlugin:plugin-rag_plugin_py:dcdf7aa2a2895ea7e8.set_status: set_status                    \u001b[0m\u001b[37m \u001b[0m│ \u001b[32m│\u001b[0m\n",
       "\u001b[32m│\u001b[0m │\u001b[36m \u001b[0m\u001b[36m29\u001b[0m\u001b[36m \u001b[0m│\u001b[35m \u001b[0m\u001b[35mJOB       \u001b[0m\u001b[35m \u001b[0m│\u001b[37m \u001b[0m\u001b[37mChunker:chunker:b12cd565989b72fc4c.set_status: set_status                                \u001b[0m\u001b[37m \u001b[0m│ \u001b[32m│\u001b[0m\n",
       "\u001b[32m│\u001b[0m │\u001b[36m \u001b[0m\u001b[36m30\u001b[0m\u001b[36m \u001b[0m│\u001b[35m \u001b[0m\u001b[35mJOB       \u001b[0m\u001b[35m \u001b[0m│\u001b[37m \u001b[0m\u001b[37mTable:_outputs__chunker__1862a8fc1629f85fe6:55813a15e4d7f63d2b.set_status: set_status    \u001b[0m\u001b[37m \u001b[0m│ \u001b[32m│\u001b[0m\n",
       "\u001b[32m│\u001b[0m │\u001b[36m \u001b[0m\u001b[36m31\u001b[0m\u001b[36m \u001b[0m│\u001b[35m \u001b[0m\u001b[35mJOB       \u001b[0m\u001b[35m \u001b[0m│\u001b[37m \u001b[0m\u001b[37mListener:chunker:1862a8fc1629f85fe6.run: run deps→29,28,30                               \u001b[0m\u001b[37m \u001b[0m│ \u001b[32m│\u001b[0m\n",
       "\u001b[32m│\u001b[0m │\u001b[36m \u001b[0m\u001b[36m32\u001b[0m\u001b[36m \u001b[0m│\u001b[35m \u001b[0m\u001b[35mJOB       \u001b[0m\u001b[35m \u001b[0m│\u001b[37m \u001b[0m\u001b[37mListener:chunker:1862a8fc1629f85fe6.set_status: set_status deps→31,28,29,30              \u001b[0m\u001b[37m \u001b[0m│ \u001b[32m│\u001b[0m\n",
       "\u001b[32m│\u001b[0m │\u001b[36m \u001b[0m\u001b[36m33\u001b[0m\u001b[36m \u001b[0m│\u001b[35m \u001b[0m\u001b[35mJOB       \u001b[0m\u001b[35m \u001b[0m│\u001b[37m \u001b[0m\u001b[37mOpenAIEmbedding:text-embedding:2b907268839faa545d.set_status: set_status                 \u001b[0m\u001b[37m \u001b[0m│ \u001b[32m│\u001b[0m\n",
       "\u001b[32m│\u001b[0m │\u001b[36m \u001b[0m\u001b[36m34\u001b[0m\u001b[36m \u001b[0m│\u001b[35m \u001b[0m\u001b[35mJOB       \u001b[0m\u001b[35m \u001b[0m│\u001b[37m \u001b[0m\u001b[37mTable:_outputs__embeddinglistener__a67199bb7c0c1ac162:392e97d67fb77a15dd.set_status:     \u001b[0m\u001b[37m \u001b[0m│ \u001b[32m│\u001b[0m\n",
       "\u001b[32m│\u001b[0m │\u001b[36m    \u001b[0m│\u001b[35m            \u001b[0m│\u001b[37m \u001b[0m\u001b[37mset_status                                                                               \u001b[0m\u001b[37m \u001b[0m│ \u001b[32m│\u001b[0m\n",
       "\u001b[32m│\u001b[0m │\u001b[36m \u001b[0m\u001b[36m35\u001b[0m\u001b[36m \u001b[0m│\u001b[35m \u001b[0m\u001b[35mJOB       \u001b[0m\u001b[35m \u001b[0m│\u001b[37m \u001b[0m\u001b[37mListener:embeddinglistener:a67199bb7c0c1ac162.run: run deps→31,32,33,34                  \u001b[0m\u001b[37m \u001b[0m│ \u001b[32m│\u001b[0m\n",
       "\u001b[32m│\u001b[0m │\u001b[36m \u001b[0m\u001b[36m36\u001b[0m\u001b[36m \u001b[0m│\u001b[35m \u001b[0m\u001b[35mJOB       \u001b[0m\u001b[35m \u001b[0m│\u001b[37m \u001b[0m\u001b[37mListener:embeddinglistener:a67199bb7c0c1ac162.set_status: set_status deps→35,31,32,33,34 \u001b[0m\u001b[37m \u001b[0m│ \u001b[32m│\u001b[0m\n",
       "\u001b[32m│\u001b[0m │\u001b[36m \u001b[0m\u001b[36m37\u001b[0m\u001b[36m \u001b[0m│\u001b[35m \u001b[0m\u001b[35mJOB       \u001b[0m\u001b[35m \u001b[0m│\u001b[37m \u001b[0m\u001b[37mVectorIndex:vectorindex:851e610e9d2ace0b54.copy_vectors: copy_vectors deps→35,36         \u001b[0m\u001b[37m \u001b[0m│ \u001b[32m│\u001b[0m\n",
       "\u001b[32m│\u001b[0m │\u001b[36m \u001b[0m\u001b[36m38\u001b[0m\u001b[36m \u001b[0m│\u001b[35m \u001b[0m\u001b[35mJOB       \u001b[0m\u001b[35m \u001b[0m│\u001b[37m \u001b[0m\u001b[37mVectorIndex:vectorindex:851e610e9d2ace0b54.set_status: set_status deps→37,35,36          \u001b[0m\u001b[37m \u001b[0m│ \u001b[32m│\u001b[0m\n",
       "\u001b[32m│\u001b[0m │\u001b[36m \u001b[0m\u001b[36m39\u001b[0m\u001b[36m \u001b[0m│\u001b[35m \u001b[0m\u001b[35mJOB       \u001b[0m\u001b[35m \u001b[0m│\u001b[37m \u001b[0m\u001b[37mOpenAIChatCompletion:llm-model:ffce2ddfa3a6a5288f.set_status: set_status                 \u001b[0m\u001b[37m \u001b[0m│ \u001b[32m│\u001b[0m\n",
       "\u001b[32m│\u001b[0m │\u001b[36m \u001b[0m\u001b[36m40\u001b[0m\u001b[36m \u001b[0m│\u001b[35m \u001b[0m\u001b[35mJOB       \u001b[0m\u001b[35m \u001b[0m│\u001b[37m \u001b[0m\u001b[37mRAGModel:simple_rag:233661fe822e51dd90.set_status: set_status deps→39                    \u001b[0m\u001b[37m \u001b[0m│ \u001b[32m│\u001b[0m\n",
       "\u001b[32m│\u001b[0m │\u001b[36m \u001b[0m\u001b[36m41\u001b[0m\u001b[36m \u001b[0m│\u001b[35m \u001b[0m\u001b[35mJOB       \u001b[0m\u001b[35m \u001b[0m│\u001b[37m \u001b[0m\u001b[37mStreamlit:simple-rag-demo:b33aaf6fa76d173336.set_status: set_status                      \u001b[0m\u001b[37m \u001b[0m│ \u001b[32m│\u001b[0m\n",
       "\u001b[32m│\u001b[0m │\u001b[36m \u001b[0m\u001b[36m42\u001b[0m\u001b[36m \u001b[0m│\u001b[35m \u001b[0m\u001b[35mJOB       \u001b[0m\u001b[35m \u001b[0m│\u001b[37m \u001b[0m\u001b[37mApplication:simple-rag-app:6c4f73b9d964d6faeb.set_status: set_status                     \u001b[0m\u001b[37m \u001b[0m│ \u001b[32m│\u001b[0m\n",
       "\u001b[32m│\u001b[0m │\u001b[36m    \u001b[0m│\u001b[35m            \u001b[0m│\u001b[37m \u001b[0m\u001b[37mdeps→26,27,31,32,37,38,40,41                                                             \u001b[0m\u001b[37m \u001b[0m│ \u001b[32m│\u001b[0m\n",
       "\u001b[32m│\u001b[0m └────┴────────────┴───────────────────────────────────────────────────────────────────────────────────────────┘ \u001b[32m│\u001b[0m\n",
       "\u001b[32m╰─────────────────────────────────────────────────────────────────────────────────────────────────────────────────╯\u001b[0m\n"
      ]
     },
     "metadata": {},
     "output_type": "display_data"
    },
    {
     "name": "stdout",
     "output_type": "stream",
     "text": [
      "\u001b[1mPlease approve this deployment plan.\u001b[0m [Y/n]:"
     ]
    },
    {
     "name": "stdin",
     "output_type": "stream",
     "text": [
      "  \n"
     ]
    }
   ],
   "source": [
    "if APPLY:\n",
    "    db.apply(app)"
   ]
  },
  {
   "cell_type": "code",
   "execution_count": null,
   "id": "573cee13-f0be-4cb0-8f27-7fbebdceeb3a",
   "metadata": {},
   "outputs": [],
   "source": [
    "if APPLY:\n",
    "    db[TABLE].insert(data)"
   ]
  },
  {
   "cell_type": "code",
   "execution_count": null,
   "id": "990aa4a3-7674-466f-8efe-43897c06c03a",
   "metadata": {},
   "outputs": [],
   "source": [
    "app.export('.', format='json')"
   ]
  }
 ],
 "metadata": {
  "kernelspec": {
   "display_name": "Python 3 (ipykernel)",
   "language": "python",
   "name": "python3"
  },
  "language_info": {
   "codemirror_mode": {
    "name": "ipython",
    "version": 3
   },
   "file_extension": ".py",
   "mimetype": "text/x-python",
   "name": "python",
   "nbconvert_exporter": "python",
   "pygments_lexer": "ipython3",
   "version": "3.10.13"
  }
 },
 "nbformat": 4,
 "nbformat_minor": 5
}
